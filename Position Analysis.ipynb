{
 "cells": [
  {
   "cell_type": "code",
   "execution_count": 39,
   "id": "automated-column",
   "metadata": {},
   "outputs": [],
   "source": [
    "%config Completer.use_jedi = False\n"
   ]
  },
  {
   "cell_type": "code",
   "execution_count": 1,
   "id": "beneficial-privacy",
   "metadata": {},
   "outputs": [],
   "source": [
    "import pandas as pd\n",
    "\n",
    "import datetime as dt\n",
    "\n",
    "import nsepy\n",
    "\n",
    "from Dashboards.helpers.nse import nse_load_options, load_underlying\n",
    "\n",
    "from Dashboards.helpers.probability import calculate_period_delta, evaluate_pairs, generate_pairs"
   ]
  },
  {
   "cell_type": "code",
   "execution_count": 2,
   "id": "rural-gauge",
   "metadata": {},
   "outputs": [],
   "source": [
    "indices = ['NIFTY', 'BANKNIFTY']"
   ]
  },
  {
   "cell_type": "markdown",
   "id": "bored-guess",
   "metadata": {},
   "source": [
    "## Unrealizesed PNL Report"
   ]
  },
  {
   "cell_type": "code",
   "execution_count": 14,
   "id": "pleasant-boston",
   "metadata": {},
   "outputs": [
    {
     "data": {
      "text/html": [
       "<div>\n",
       "<style scoped>\n",
       "    .dataframe tbody tr th:only-of-type {\n",
       "        vertical-align: middle;\n",
       "    }\n",
       "\n",
       "    .dataframe tbody tr th {\n",
       "        vertical-align: top;\n",
       "    }\n",
       "\n",
       "    .dataframe thead th {\n",
       "        text-align: right;\n",
       "    }\n",
       "</style>\n",
       "<table border=\"1\" class=\"dataframe\">\n",
       "  <thead>\n",
       "    <tr style=\"text-align: right;\">\n",
       "      <th></th>\n",
       "      <th>Scrip Name</th>\n",
       "      <th>Scrip Code</th>\n",
       "      <th>Unrealized P&amp;L</th>\n",
       "      <th>Unrealized P&amp;L %</th>\n",
       "      <th>ISIN</th>\n",
       "      <th>Scrip Opt</th>\n",
       "      <th>Buy/Sell</th>\n",
       "      <th>Open Qty</th>\n",
       "      <th>Avg Rate</th>\n",
       "      <th>Open Amt</th>\n",
       "      <th>Closing Rate Exchange</th>\n",
       "      <th>Closing Rate Date</th>\n",
       "      <th>Closing Rate</th>\n",
       "      <th>Closing Amt</th>\n",
       "    </tr>\n",
       "  </thead>\n",
       "  <tbody>\n",
       "    <tr>\n",
       "      <th>0</th>\n",
       "      <td>BANKNIFTY</td>\n",
       "      <td>BANKNIFTY</td>\n",
       "      <td>-9793.75</td>\n",
       "      <td>-100.0</td>\n",
       "      <td>NaN</td>\n",
       "      <td>CE</td>\n",
       "      <td>Buy</td>\n",
       "      <td>25</td>\n",
       "      <td>₹ 391.75</td>\n",
       "      <td>₹ 9,793.75</td>\n",
       "      <td>FON</td>\n",
       "      <td>21/12/2021</td>\n",
       "      <td>0.0</td>\n",
       "      <td>–</td>\n",
       "    </tr>\n",
       "    <tr>\n",
       "      <th>1</th>\n",
       "      <td>BANKNIFTY</td>\n",
       "      <td>BANKNIFTY</td>\n",
       "      <td>-12098.75</td>\n",
       "      <td>-100.0</td>\n",
       "      <td>NaN</td>\n",
       "      <td>PE</td>\n",
       "      <td>Buy</td>\n",
       "      <td>25</td>\n",
       "      <td>₹ 483.95</td>\n",
       "      <td>₹ 12,098.75</td>\n",
       "      <td>FON</td>\n",
       "      <td>21/12/2021</td>\n",
       "      <td>0.0</td>\n",
       "      <td>–</td>\n",
       "    </tr>\n",
       "    <tr>\n",
       "      <th>2</th>\n",
       "      <td>INFOSYS LTD.</td>\n",
       "      <td>500209</td>\n",
       "      <td>-6750.00</td>\n",
       "      <td>-100.0</td>\n",
       "      <td>INE009A01021</td>\n",
       "      <td>CE</td>\n",
       "      <td>Buy</td>\n",
       "      <td>300</td>\n",
       "      <td>₹ 22.50</td>\n",
       "      <td>₹ 6,750.00</td>\n",
       "      <td>FON</td>\n",
       "      <td>21/12/2021</td>\n",
       "      <td>0.0</td>\n",
       "      <td>–</td>\n",
       "    </tr>\n",
       "    <tr>\n",
       "      <th>3</th>\n",
       "      <td>INFOSYS LTD.</td>\n",
       "      <td>500209</td>\n",
       "      <td>-6900.00</td>\n",
       "      <td>-100.0</td>\n",
       "      <td>INE009A01021</td>\n",
       "      <td>PE</td>\n",
       "      <td>Buy</td>\n",
       "      <td>300</td>\n",
       "      <td>₹ 23.00</td>\n",
       "      <td>₹ 6,900.00</td>\n",
       "      <td>FON</td>\n",
       "      <td>21/12/2021</td>\n",
       "      <td>0.0</td>\n",
       "      <td>–</td>\n",
       "    </tr>\n",
       "    <tr>\n",
       "      <th>4</th>\n",
       "      <td>NIFTY</td>\n",
       "      <td>NIFTY</td>\n",
       "      <td>-5552.50</td>\n",
       "      <td>-100.0</td>\n",
       "      <td>NaN</td>\n",
       "      <td>CE</td>\n",
       "      <td>Buy</td>\n",
       "      <td>50</td>\n",
       "      <td>₹ 111.05</td>\n",
       "      <td>₹ 5,552.50</td>\n",
       "      <td>FON</td>\n",
       "      <td>21/12/2021</td>\n",
       "      <td>0.0</td>\n",
       "      <td>–</td>\n",
       "    </tr>\n",
       "    <tr>\n",
       "      <th>5</th>\n",
       "      <td>NIFTY</td>\n",
       "      <td>NIFTY</td>\n",
       "      <td>-7750.00</td>\n",
       "      <td>-100.0</td>\n",
       "      <td>NaN</td>\n",
       "      <td>PE</td>\n",
       "      <td>Buy</td>\n",
       "      <td>50</td>\n",
       "      <td>₹ 155.00</td>\n",
       "      <td>₹ 7,750.00</td>\n",
       "      <td>FON</td>\n",
       "      <td>21/12/2021</td>\n",
       "      <td>0.0</td>\n",
       "      <td>–</td>\n",
       "    </tr>\n",
       "    <tr>\n",
       "      <th>6</th>\n",
       "      <td>RELIANCE</td>\n",
       "      <td>500325</td>\n",
       "      <td>-8625.00</td>\n",
       "      <td>-100.0</td>\n",
       "      <td>INE002A01018</td>\n",
       "      <td>CE</td>\n",
       "      <td>Buy</td>\n",
       "      <td>250</td>\n",
       "      <td>₹ 34.50</td>\n",
       "      <td>₹ 8,625.00</td>\n",
       "      <td>FON</td>\n",
       "      <td>21/12/2021</td>\n",
       "      <td>0.0</td>\n",
       "      <td>–</td>\n",
       "    </tr>\n",
       "    <tr>\n",
       "      <th>7</th>\n",
       "      <td>RELIANCE</td>\n",
       "      <td>500325</td>\n",
       "      <td>-6437.50</td>\n",
       "      <td>-100.0</td>\n",
       "      <td>INE002A01018</td>\n",
       "      <td>PE</td>\n",
       "      <td>Buy</td>\n",
       "      <td>250</td>\n",
       "      <td>₹ 25.75</td>\n",
       "      <td>₹ 6,437.50</td>\n",
       "      <td>FON</td>\n",
       "      <td>21/12/2021</td>\n",
       "      <td>0.0</td>\n",
       "      <td>–</td>\n",
       "    </tr>\n",
       "  </tbody>\n",
       "</table>\n",
       "</div>"
      ],
      "text/plain": [
       "     Scrip Name Scrip Code  Unrealized P&L  Unrealized P&L %          ISIN  \\\n",
       "0     BANKNIFTY  BANKNIFTY        -9793.75            -100.0           NaN   \n",
       "1     BANKNIFTY  BANKNIFTY       -12098.75            -100.0           NaN   \n",
       "2  INFOSYS LTD.     500209        -6750.00            -100.0  INE009A01021   \n",
       "3  INFOSYS LTD.     500209        -6900.00            -100.0  INE009A01021   \n",
       "4         NIFTY      NIFTY        -5552.50            -100.0           NaN   \n",
       "5         NIFTY      NIFTY        -7750.00            -100.0           NaN   \n",
       "6      RELIANCE     500325        -8625.00            -100.0  INE002A01018   \n",
       "7      RELIANCE     500325        -6437.50            -100.0  INE002A01018   \n",
       "\n",
       "  Scrip Opt Buy/Sell  Open Qty   Avg Rate      Open Amt Closing Rate Exchange  \\\n",
       "0        CE      Buy        25   ₹ 391.75    ₹ 9,793.75                   FON   \n",
       "1        PE      Buy        25   ₹ 483.95   ₹ 12,098.75                   FON   \n",
       "2        CE      Buy       300    ₹ 22.50    ₹ 6,750.00                   FON   \n",
       "3        PE      Buy       300    ₹ 23.00    ₹ 6,900.00                   FON   \n",
       "4        CE      Buy        50   ₹ 111.05    ₹ 5,552.50                   FON   \n",
       "5        PE      Buy        50   ₹ 155.00    ₹ 7,750.00                   FON   \n",
       "6        CE      Buy       250    ₹ 34.50    ₹ 8,625.00                   FON   \n",
       "7        PE      Buy       250    ₹ 25.75    ₹ 6,437.50                   FON   \n",
       "\n",
       "  Closing Rate Date  Closing Rate Closing Amt  \n",
       "0        21/12/2021           0.0           –  \n",
       "1        21/12/2021           0.0           –  \n",
       "2        21/12/2021           0.0           –  \n",
       "3        21/12/2021           0.0           –  \n",
       "4        21/12/2021           0.0           –  \n",
       "5        21/12/2021           0.0           –  \n",
       "6        21/12/2021           0.0           –  \n",
       "7        21/12/2021           0.0           –  "
      ]
     },
     "execution_count": 14,
     "metadata": {},
     "output_type": "execute_result"
    }
   ],
   "source": [
    "positions_df = pd.read_excel('Data/unrealizedPnl_report_2122_Future & Options.xlsx', skiprows=5, header=1)\n",
    "positions_df"
   ]
  },
  {
   "cell_type": "markdown",
   "id": "elect-ability",
   "metadata": {},
   "source": [
    "## Trades Report"
   ]
  },
  {
   "cell_type": "code",
   "execution_count": 15,
   "id": "attended-community",
   "metadata": {},
   "outputs": [],
   "source": [
    "# Skip the first few lines it contains the letterhead\n",
    "trades_df = pd.read_excel('Data/trade_report_2122_NSE FO.xlsx', skiprows=5, header=1)\n",
    "\n",
    "trades_df['Date'] = pd.to_datetime(trades_df['Date'], dayfirst=True)\n",
    "trades_df['Expiry'] = pd.to_datetime(trades_df['Expiry'], dayfirst=True)\n",
    "\n",
    "# Remove the Rupee symbol, and replace the comma before converting it to float\n",
    "trades_df['Price'] = pd.to_numeric(trades_df['Price'].apply(lambda x: x[3:].replace(',', '')))\n",
    "\n",
    "trades_df['option_type'] = trades_df['Instrument Type'].str[9:].replace({'Put':'PE', \n",
    "                                                                         'Call':'CE'})\n",
    "\n",
    "trades_df.loc[trades_df['Side']=='Sell', 'Quantity']*=-1\n",
    "\n",
    "trades_df['option_id'] = trades_df.Company + trades_df.Strike.apply(lambda strike: \"%.0f\"%strike) + trades_df.option_type + trades_df.Expiry.dt.strftime('_%d-%b')"
   ]
  },
  {
   "cell_type": "code",
   "execution_count": 16,
   "id": "administrative-discussion",
   "metadata": {},
   "outputs": [
    {
     "data": {
      "text/html": [
       "<div>\n",
       "<style scoped>\n",
       "    .dataframe tbody tr th:only-of-type {\n",
       "        vertical-align: middle;\n",
       "    }\n",
       "\n",
       "    .dataframe tbody tr th {\n",
       "        vertical-align: top;\n",
       "    }\n",
       "\n",
       "    .dataframe thead th {\n",
       "        text-align: right;\n",
       "    }\n",
       "</style>\n",
       "<table border=\"1\" class=\"dataframe\">\n",
       "  <thead>\n",
       "    <tr style=\"text-align: right;\">\n",
       "      <th></th>\n",
       "      <th>Date</th>\n",
       "      <th>Company</th>\n",
       "      <th>Amount</th>\n",
       "      <th>Segment</th>\n",
       "      <th>Scrip Code</th>\n",
       "      <th>Instrument Type</th>\n",
       "      <th>Strike</th>\n",
       "      <th>Expiry</th>\n",
       "      <th>Trade Num</th>\n",
       "      <th>Trade Time</th>\n",
       "      <th>Side</th>\n",
       "      <th>Quantity</th>\n",
       "      <th>Price</th>\n",
       "      <th>option_type</th>\n",
       "      <th>option_id</th>\n",
       "    </tr>\n",
       "  </thead>\n",
       "  <tbody>\n",
       "    <tr>\n",
       "      <th>0</th>\n",
       "      <td>2021-12-21</td>\n",
       "      <td>RELIANCE</td>\n",
       "      <td>₹ 8,625.00</td>\n",
       "      <td>NSE FO</td>\n",
       "      <td>500325</td>\n",
       "      <td>European Call</td>\n",
       "      <td>2340.0</td>\n",
       "      <td>2021-12-30</td>\n",
       "      <td>800690304</td>\n",
       "      <td>12:30:12</td>\n",
       "      <td>Buy</td>\n",
       "      <td>250.0</td>\n",
       "      <td>34.50</td>\n",
       "      <td>CE</td>\n",
       "      <td>RELIANCE2340CE_30-Dec</td>\n",
       "    </tr>\n",
       "    <tr>\n",
       "      <th>1</th>\n",
       "      <td>2021-12-21</td>\n",
       "      <td>RELIANCE</td>\n",
       "      <td>₹ 6,437.50</td>\n",
       "      <td>NSE FO</td>\n",
       "      <td>500325</td>\n",
       "      <td>European Put</td>\n",
       "      <td>2320.0</td>\n",
       "      <td>2021-12-30</td>\n",
       "      <td>800684584</td>\n",
       "      <td>12:27:28</td>\n",
       "      <td>Buy</td>\n",
       "      <td>250.0</td>\n",
       "      <td>25.75</td>\n",
       "      <td>PE</td>\n",
       "      <td>RELIANCE2320PE_30-Dec</td>\n",
       "    </tr>\n",
       "    <tr>\n",
       "      <th>2</th>\n",
       "      <td>2021-12-21</td>\n",
       "      <td>RELIANCE</td>\n",
       "      <td>₹ 8,675.00</td>\n",
       "      <td>NSE FO</td>\n",
       "      <td>500325</td>\n",
       "      <td>European Put</td>\n",
       "      <td>2340.0</td>\n",
       "      <td>2021-12-30</td>\n",
       "      <td>800684937</td>\n",
       "      <td>12:27:38</td>\n",
       "      <td>Buy</td>\n",
       "      <td>250.0</td>\n",
       "      <td>34.70</td>\n",
       "      <td>PE</td>\n",
       "      <td>RELIANCE2340PE_30-Dec</td>\n",
       "    </tr>\n",
       "    <tr>\n",
       "      <th>3</th>\n",
       "      <td>2021-12-21</td>\n",
       "      <td>RELIANCE</td>\n",
       "      <td>₹ 8,750.00</td>\n",
       "      <td>NSE FO</td>\n",
       "      <td>500325</td>\n",
       "      <td>European Put</td>\n",
       "      <td>2340.0</td>\n",
       "      <td>2021-12-30</td>\n",
       "      <td>800775782</td>\n",
       "      <td>13:08:29</td>\n",
       "      <td>Sell</td>\n",
       "      <td>-250.0</td>\n",
       "      <td>35.00</td>\n",
       "      <td>PE</td>\n",
       "      <td>RELIANCE2340PE_30-Dec</td>\n",
       "    </tr>\n",
       "    <tr>\n",
       "      <th>4</th>\n",
       "      <td>2021-12-21</td>\n",
       "      <td>BANKNIFTY</td>\n",
       "      <td>₹ 9,793.75</td>\n",
       "      <td>NSE FO</td>\n",
       "      <td>BANKNIFTY</td>\n",
       "      <td>European Call</td>\n",
       "      <td>35100.0</td>\n",
       "      <td>2021-12-30</td>\n",
       "      <td>700194846</td>\n",
       "      <td>09:53:31</td>\n",
       "      <td>Buy</td>\n",
       "      <td>25.0</td>\n",
       "      <td>391.75</td>\n",
       "      <td>CE</td>\n",
       "      <td>BANKNIFTY35100CE_30-Dec</td>\n",
       "    </tr>\n",
       "    <tr>\n",
       "      <th>5</th>\n",
       "      <td>2021-12-21</td>\n",
       "      <td>BANKNIFTY</td>\n",
       "      <td>₹ 12,098.75</td>\n",
       "      <td>NSE FO</td>\n",
       "      <td>BANKNIFTY</td>\n",
       "      <td>European Put</td>\n",
       "      <td>34700.0</td>\n",
       "      <td>2021-12-30</td>\n",
       "      <td>700190968</td>\n",
       "      <td>09:51:20</td>\n",
       "      <td>Buy</td>\n",
       "      <td>25.0</td>\n",
       "      <td>483.95</td>\n",
       "      <td>PE</td>\n",
       "      <td>BANKNIFTY34700PE_30-Dec</td>\n",
       "    </tr>\n",
       "    <tr>\n",
       "      <th>6</th>\n",
       "      <td>2021-12-21</td>\n",
       "      <td>NIFTY</td>\n",
       "      <td>₹ 5,552.50</td>\n",
       "      <td>NSE FO</td>\n",
       "      <td>NIFTY</td>\n",
       "      <td>European Call</td>\n",
       "      <td>17000.0</td>\n",
       "      <td>2021-12-30</td>\n",
       "      <td>100585035</td>\n",
       "      <td>10:00:03</td>\n",
       "      <td>Buy</td>\n",
       "      <td>50.0</td>\n",
       "      <td>111.05</td>\n",
       "      <td>CE</td>\n",
       "      <td>NIFTY17000CE_30-Dec</td>\n",
       "    </tr>\n",
       "    <tr>\n",
       "      <th>7</th>\n",
       "      <td>2021-12-21</td>\n",
       "      <td>NIFTY</td>\n",
       "      <td>₹ 7,750.00</td>\n",
       "      <td>NSE FO</td>\n",
       "      <td>NIFTY</td>\n",
       "      <td>European Put</td>\n",
       "      <td>16800.0</td>\n",
       "      <td>2021-12-30</td>\n",
       "      <td>100573905</td>\n",
       "      <td>09:58:36</td>\n",
       "      <td>Buy</td>\n",
       "      <td>50.0</td>\n",
       "      <td>155.00</td>\n",
       "      <td>PE</td>\n",
       "      <td>NIFTY16800PE_30-Dec</td>\n",
       "    </tr>\n",
       "    <tr>\n",
       "      <th>8</th>\n",
       "      <td>2021-12-20</td>\n",
       "      <td>NIFTY</td>\n",
       "      <td>₹ 16,500.00</td>\n",
       "      <td>NSE FO</td>\n",
       "      <td>NIFTY</td>\n",
       "      <td>European Put</td>\n",
       "      <td>16950.0</td>\n",
       "      <td>2021-12-30</td>\n",
       "      <td>100286590</td>\n",
       "      <td>09:28:56</td>\n",
       "      <td>Sell</td>\n",
       "      <td>-50.0</td>\n",
       "      <td>330.00</td>\n",
       "      <td>PE</td>\n",
       "      <td>NIFTY16950PE_30-Dec</td>\n",
       "    </tr>\n",
       "    <tr>\n",
       "      <th>9</th>\n",
       "      <td>2021-12-20</td>\n",
       "      <td>INFOSYS LTD.</td>\n",
       "      <td>₹ 6,750.00</td>\n",
       "      <td>NSE FO</td>\n",
       "      <td>500209</td>\n",
       "      <td>European Call</td>\n",
       "      <td>1820.0</td>\n",
       "      <td>2021-12-30</td>\n",
       "      <td>300625092</td>\n",
       "      <td>11:43:06</td>\n",
       "      <td>Buy</td>\n",
       "      <td>300.0</td>\n",
       "      <td>22.50</td>\n",
       "      <td>CE</td>\n",
       "      <td>INFOSYS LTD.1820CE_30-Dec</td>\n",
       "    </tr>\n",
       "    <tr>\n",
       "      <th>10</th>\n",
       "      <td>2021-12-20</td>\n",
       "      <td>INFOSYS LTD.</td>\n",
       "      <td>₹ 6,900.00</td>\n",
       "      <td>NSE FO</td>\n",
       "      <td>500209</td>\n",
       "      <td>European Put</td>\n",
       "      <td>1800.0</td>\n",
       "      <td>2021-12-30</td>\n",
       "      <td>300632097</td>\n",
       "      <td>11:46:01</td>\n",
       "      <td>Buy</td>\n",
       "      <td>300.0</td>\n",
       "      <td>23.00</td>\n",
       "      <td>PE</td>\n",
       "      <td>INFOSYS LTD.1800PE_30-Dec</td>\n",
       "    </tr>\n",
       "    <tr>\n",
       "      <th>11</th>\n",
       "      <td>2021-12-20</td>\n",
       "      <td>NIFTY</td>\n",
       "      <td>₹ 202.50</td>\n",
       "      <td>NSE FO</td>\n",
       "      <td>NIFTY</td>\n",
       "      <td>European Call</td>\n",
       "      <td>17550.0</td>\n",
       "      <td>2021-12-23</td>\n",
       "      <td>11841493</td>\n",
       "      <td>15:05:27</td>\n",
       "      <td>Sell</td>\n",
       "      <td>-50.0</td>\n",
       "      <td>4.05</td>\n",
       "      <td>CE</td>\n",
       "      <td>NIFTY17550CE_23-Dec</td>\n",
       "    </tr>\n",
       "    <tr>\n",
       "      <th>12</th>\n",
       "      <td>2021-12-20</td>\n",
       "      <td>NIFTY</td>\n",
       "      <td>₹ 4,152.50</td>\n",
       "      <td>NSE FO</td>\n",
       "      <td>NIFTY</td>\n",
       "      <td>European Call</td>\n",
       "      <td>17050.0</td>\n",
       "      <td>2021-12-30</td>\n",
       "      <td>100218006</td>\n",
       "      <td>09:24:48</td>\n",
       "      <td>Sell</td>\n",
       "      <td>-50.0</td>\n",
       "      <td>83.05</td>\n",
       "      <td>CE</td>\n",
       "      <td>NIFTY17050CE_30-Dec</td>\n",
       "    </tr>\n",
       "    <tr>\n",
       "      <th>13</th>\n",
       "      <td>2021-12-17</td>\n",
       "      <td>NIFTY</td>\n",
       "      <td>₹ 9,750.00</td>\n",
       "      <td>NSE FO</td>\n",
       "      <td>NIFTY</td>\n",
       "      <td>European Call</td>\n",
       "      <td>17050.0</td>\n",
       "      <td>2021-12-30</td>\n",
       "      <td>101057344</td>\n",
       "      <td>12:07:45</td>\n",
       "      <td>Buy</td>\n",
       "      <td>50.0</td>\n",
       "      <td>195.00</td>\n",
       "      <td>CE</td>\n",
       "      <td>NIFTY17050CE_30-Dec</td>\n",
       "    </tr>\n",
       "    <tr>\n",
       "      <th>14</th>\n",
       "      <td>2021-12-17</td>\n",
       "      <td>NIFTY</td>\n",
       "      <td>₹ 700.00</td>\n",
       "      <td>NSE FO</td>\n",
       "      <td>NIFTY</td>\n",
       "      <td>European Call</td>\n",
       "      <td>17550.0</td>\n",
       "      <td>2021-12-23</td>\n",
       "      <td>3854959</td>\n",
       "      <td>10:47:58</td>\n",
       "      <td>Sell</td>\n",
       "      <td>-50.0</td>\n",
       "      <td>14.00</td>\n",
       "      <td>CE</td>\n",
       "      <td>NIFTY17550CE_23-Dec</td>\n",
       "    </tr>\n",
       "    <tr>\n",
       "      <th>15</th>\n",
       "      <td>2021-12-17</td>\n",
       "      <td>NIFTY</td>\n",
       "      <td>₹ 650.00</td>\n",
       "      <td>NSE FO</td>\n",
       "      <td>NIFTY</td>\n",
       "      <td>European Call</td>\n",
       "      <td>17600.0</td>\n",
       "      <td>2021-12-23</td>\n",
       "      <td>2386352</td>\n",
       "      <td>09:59:04</td>\n",
       "      <td>Sell</td>\n",
       "      <td>-50.0</td>\n",
       "      <td>13.00</td>\n",
       "      <td>CE</td>\n",
       "      <td>NIFTY17600CE_23-Dec</td>\n",
       "    </tr>\n",
       "    <tr>\n",
       "      <th>16</th>\n",
       "      <td>2021-12-17</td>\n",
       "      <td>NIFTY</td>\n",
       "      <td>₹ 8,575.00</td>\n",
       "      <td>NSE FO</td>\n",
       "      <td>NIFTY</td>\n",
       "      <td>European Put</td>\n",
       "      <td>16950.0</td>\n",
       "      <td>2021-12-30</td>\n",
       "      <td>101059060</td>\n",
       "      <td>12:08:27</td>\n",
       "      <td>Buy</td>\n",
       "      <td>50.0</td>\n",
       "      <td>171.50</td>\n",
       "      <td>PE</td>\n",
       "      <td>NIFTY16950PE_30-Dec</td>\n",
       "    </tr>\n",
       "    <tr>\n",
       "      <th>17</th>\n",
       "      <td>2021-12-17</td>\n",
       "      <td>NIFTY</td>\n",
       "      <td>₹ 19,400.00</td>\n",
       "      <td>NSE FO</td>\n",
       "      <td>NIFTY</td>\n",
       "      <td>European Put</td>\n",
       "      <td>17400.0</td>\n",
       "      <td>2021-12-23</td>\n",
       "      <td>3686547</td>\n",
       "      <td>10:42:05</td>\n",
       "      <td>Sell</td>\n",
       "      <td>-50.0</td>\n",
       "      <td>388.00</td>\n",
       "      <td>PE</td>\n",
       "      <td>NIFTY17400PE_23-Dec</td>\n",
       "    </tr>\n",
       "    <tr>\n",
       "      <th>18</th>\n",
       "      <td>2021-12-17</td>\n",
       "      <td>NIFTY</td>\n",
       "      <td>₹ 19,400.00</td>\n",
       "      <td>NSE FO</td>\n",
       "      <td>NIFTY</td>\n",
       "      <td>European Put</td>\n",
       "      <td>17500.0</td>\n",
       "      <td>2021-12-23</td>\n",
       "      <td>1889399</td>\n",
       "      <td>09:50:23</td>\n",
       "      <td>Sell</td>\n",
       "      <td>-50.0</td>\n",
       "      <td>388.00</td>\n",
       "      <td>PE</td>\n",
       "      <td>NIFTY17500PE_23-Dec</td>\n",
       "    </tr>\n",
       "    <tr>\n",
       "      <th>19</th>\n",
       "      <td>2021-12-17</td>\n",
       "      <td>NIFTY</td>\n",
       "      <td>₹ 23,750.00</td>\n",
       "      <td>NSE FO</td>\n",
       "      <td>NIFTY</td>\n",
       "      <td>European Put</td>\n",
       "      <td>17500.0</td>\n",
       "      <td>2021-12-23</td>\n",
       "      <td>3686381</td>\n",
       "      <td>10:42:05</td>\n",
       "      <td>Sell</td>\n",
       "      <td>-50.0</td>\n",
       "      <td>475.00</td>\n",
       "      <td>PE</td>\n",
       "      <td>NIFTY17500PE_23-Dec</td>\n",
       "    </tr>\n",
       "    <tr>\n",
       "      <th>20</th>\n",
       "      <td>2021-12-16</td>\n",
       "      <td>BANKNIFTY</td>\n",
       "      <td>₹ 400.00</td>\n",
       "      <td>NSE FO</td>\n",
       "      <td>BANKNIFTY</td>\n",
       "      <td>European Call</td>\n",
       "      <td>37400.0</td>\n",
       "      <td>2021-12-16</td>\n",
       "      <td>404045313</td>\n",
       "      <td>10:35:01</td>\n",
       "      <td>Sell</td>\n",
       "      <td>-25.0</td>\n",
       "      <td>16.00</td>\n",
       "      <td>CE</td>\n",
       "      <td>BANKNIFTY37400CE_16-Dec</td>\n",
       "    </tr>\n",
       "  </tbody>\n",
       "</table>\n",
       "</div>"
      ],
      "text/plain": [
       "         Date       Company        Amount Segment  Scrip Code Instrument Type  \\\n",
       "0  2021-12-21      RELIANCE    ₹ 8,625.00  NSE FO      500325   European Call   \n",
       "1  2021-12-21      RELIANCE    ₹ 6,437.50  NSE FO      500325    European Put   \n",
       "2  2021-12-21      RELIANCE    ₹ 8,675.00  NSE FO      500325    European Put   \n",
       "3  2021-12-21      RELIANCE    ₹ 8,750.00  NSE FO      500325    European Put   \n",
       "4  2021-12-21     BANKNIFTY    ₹ 9,793.75  NSE FO  BANKNIFTY    European Call   \n",
       "5  2021-12-21     BANKNIFTY   ₹ 12,098.75  NSE FO  BANKNIFTY     European Put   \n",
       "6  2021-12-21         NIFTY    ₹ 5,552.50  NSE FO  NIFTY        European Call   \n",
       "7  2021-12-21         NIFTY    ₹ 7,750.00  NSE FO  NIFTY         European Put   \n",
       "8  2021-12-20         NIFTY   ₹ 16,500.00  NSE FO  NIFTY         European Put   \n",
       "9  2021-12-20  INFOSYS LTD.    ₹ 6,750.00  NSE FO      500209   European Call   \n",
       "10 2021-12-20  INFOSYS LTD.    ₹ 6,900.00  NSE FO      500209    European Put   \n",
       "11 2021-12-20         NIFTY      ₹ 202.50  NSE FO  NIFTY        European Call   \n",
       "12 2021-12-20         NIFTY    ₹ 4,152.50  NSE FO  NIFTY        European Call   \n",
       "13 2021-12-17         NIFTY    ₹ 9,750.00  NSE FO  NIFTY        European Call   \n",
       "14 2021-12-17         NIFTY      ₹ 700.00  NSE FO  NIFTY        European Call   \n",
       "15 2021-12-17         NIFTY      ₹ 650.00  NSE FO  NIFTY        European Call   \n",
       "16 2021-12-17         NIFTY    ₹ 8,575.00  NSE FO  NIFTY         European Put   \n",
       "17 2021-12-17         NIFTY   ₹ 19,400.00  NSE FO  NIFTY         European Put   \n",
       "18 2021-12-17         NIFTY   ₹ 19,400.00  NSE FO  NIFTY         European Put   \n",
       "19 2021-12-17         NIFTY   ₹ 23,750.00  NSE FO  NIFTY         European Put   \n",
       "20 2021-12-16     BANKNIFTY      ₹ 400.00  NSE FO  BANKNIFTY    European Call   \n",
       "\n",
       "     Strike     Expiry  Trade Num Trade Time  Side  Quantity   Price  \\\n",
       "0    2340.0 2021-12-30  800690304   12:30:12   Buy     250.0   34.50   \n",
       "1    2320.0 2021-12-30  800684584   12:27:28   Buy     250.0   25.75   \n",
       "2    2340.0 2021-12-30  800684937   12:27:38   Buy     250.0   34.70   \n",
       "3    2340.0 2021-12-30  800775782   13:08:29  Sell    -250.0   35.00   \n",
       "4   35100.0 2021-12-30  700194846   09:53:31   Buy      25.0  391.75   \n",
       "5   34700.0 2021-12-30  700190968   09:51:20   Buy      25.0  483.95   \n",
       "6   17000.0 2021-12-30  100585035   10:00:03   Buy      50.0  111.05   \n",
       "7   16800.0 2021-12-30  100573905   09:58:36   Buy      50.0  155.00   \n",
       "8   16950.0 2021-12-30  100286590   09:28:56  Sell     -50.0  330.00   \n",
       "9    1820.0 2021-12-30  300625092   11:43:06   Buy     300.0   22.50   \n",
       "10   1800.0 2021-12-30  300632097   11:46:01   Buy     300.0   23.00   \n",
       "11  17550.0 2021-12-23   11841493   15:05:27  Sell     -50.0    4.05   \n",
       "12  17050.0 2021-12-30  100218006   09:24:48  Sell     -50.0   83.05   \n",
       "13  17050.0 2021-12-30  101057344   12:07:45   Buy      50.0  195.00   \n",
       "14  17550.0 2021-12-23    3854959   10:47:58  Sell     -50.0   14.00   \n",
       "15  17600.0 2021-12-23    2386352   09:59:04  Sell     -50.0   13.00   \n",
       "16  16950.0 2021-12-30  101059060   12:08:27   Buy      50.0  171.50   \n",
       "17  17400.0 2021-12-23    3686547   10:42:05  Sell     -50.0  388.00   \n",
       "18  17500.0 2021-12-23    1889399   09:50:23  Sell     -50.0  388.00   \n",
       "19  17500.0 2021-12-23    3686381   10:42:05  Sell     -50.0  475.00   \n",
       "20  37400.0 2021-12-16  404045313   10:35:01  Sell     -25.0   16.00   \n",
       "\n",
       "   option_type                  option_id  \n",
       "0           CE      RELIANCE2340CE_30-Dec  \n",
       "1           PE      RELIANCE2320PE_30-Dec  \n",
       "2           PE      RELIANCE2340PE_30-Dec  \n",
       "3           PE      RELIANCE2340PE_30-Dec  \n",
       "4           CE    BANKNIFTY35100CE_30-Dec  \n",
       "5           PE    BANKNIFTY34700PE_30-Dec  \n",
       "6           CE        NIFTY17000CE_30-Dec  \n",
       "7           PE        NIFTY16800PE_30-Dec  \n",
       "8           PE        NIFTY16950PE_30-Dec  \n",
       "9           CE  INFOSYS LTD.1820CE_30-Dec  \n",
       "10          PE  INFOSYS LTD.1800PE_30-Dec  \n",
       "11          CE        NIFTY17550CE_23-Dec  \n",
       "12          CE        NIFTY17050CE_30-Dec  \n",
       "13          CE        NIFTY17050CE_30-Dec  \n",
       "14          CE        NIFTY17550CE_23-Dec  \n",
       "15          CE        NIFTY17600CE_23-Dec  \n",
       "16          PE        NIFTY16950PE_30-Dec  \n",
       "17          PE        NIFTY17400PE_23-Dec  \n",
       "18          PE        NIFTY17500PE_23-Dec  \n",
       "19          PE        NIFTY17500PE_23-Dec  \n",
       "20          CE    BANKNIFTY37400CE_16-Dec  "
      ]
     },
     "execution_count": 16,
     "metadata": {},
     "output_type": "execute_result"
    }
   ],
   "source": [
    "trades_df"
   ]
  },
  {
   "cell_type": "code",
   "execution_count": 17,
   "id": "electronic-newman",
   "metadata": {},
   "outputs": [],
   "source": [
    "company_symbol_lookup = {'INFOSYS LTD.': 'INFY', \n",
    "                         'RELIANCE':'RELIANCE'}"
   ]
  },
  {
   "cell_type": "markdown",
   "id": "heated-vacation",
   "metadata": {},
   "source": [
    "**Convert Trades into open positions**"
   ]
  },
  {
   "cell_type": "code",
   "execution_count": 40,
   "id": "killing-boxing",
   "metadata": {
    "tags": []
   },
   "outputs": [],
   "source": [
    "positions = {}\n",
    "position_costs = {}\n",
    "for ix, trade in trades_df.sort_values('Date', ascending=False).iterrows():\n",
    "    option_id = trade.option_id\n",
    "    \n",
    "    if option_id not in positions:\n",
    "#         if trade.Quantity > 0:\n",
    "        positions[option_id] = trade.Quantity\n",
    "        position_costs[option_id] = trade.Quantity*trade.Price\n",
    "        \n",
    "    else:\n",
    "        positions[option_id] += trade.Quantity\n",
    "        position_costs[option_id] += trade.Quantity*trade.Price\n",
    "        if positions[option_id]==0:\n",
    "            positions.pop(option_id)\n",
    "            position_costs.pop(option_id)\n",
    "    \n",
    "\n",
    "positions_df = pd.DataFrame({\"option_id\":positions.keys(), \"qty\":positions.values(), \"cost\":position_costs.values()})\n",
    "\n",
    "positions_df['avg_price'] = positions_df.cost/positions_df.qty\n",
    "\n",
    "positions_df = pd.merge(trades_df[['Company', 'Strike','Expiry', 'option_type', 'option_id']].drop_duplicates(), positions_df, on='option_id', how='right')\n",
    "\n",
    "positions_df.columns = map(str.lower, positions_df.columns)\n",
    "\n",
    "positions_df = positions_df[positions_df.qty>0]\n",
    "\n",
    "positions_df = positions_df[positions_df.expiry>dt.datetime.today()]\n",
    "\n",
    "positions_df['lot_size'] = 0\n",
    "positions_df['last_price'] = 0\n",
    "\n",
    "\n",
    "positions_df = positions_df.rename({'company':'underlying', \n",
    "                                    'strike':'strike_price'},\n",
    "                                   axis=1)"
   ]
  },
  {
   "cell_type": "markdown",
   "id": "multiple-occupation",
   "metadata": {
    "tags": []
   },
   "source": [
    "**Update the current value of positions**"
   ]
  },
  {
   "cell_type": "code",
   "execution_count": 61,
   "id": "invalid-captain",
   "metadata": {
    "tags": []
   },
   "outputs": [],
   "source": [
    "for idx, contract in positions_df[['underlying', 'expiry', 'option_type', 'strike_price', 'lot_size']].iterrows():\n",
    "#     contract = contract_row[1]\n",
    "    \n",
    "    if contract['underlying'] in indices:\n",
    "        instrument_type = 'OPTIDX'\n",
    "        symbol = contract['underlying']\n",
    "    else:\n",
    "        instrument_type = 'OPTSTK'\n",
    "        symbol = company_symbol_lookup[contract['underlying']]\n",
    "        \n",
    "    contract_quote = nsepy.get_quote(symbol=symbol, series='EQ', instrument=instrument_type, expiry=contract['expiry'], strike=contract['strike_price'], option_type=contract['option_type'])\n",
    "    positions_df.loc[idx, 'lot_size'] = float(contract_quote['data'][0]['marketLot'])\n",
    "    positions_df.loc[idx, 'last_price'] = float(contract_quote['data'][0]['lastPrice'])\n",
    "\n",
    "\n",
    "positions_df['cost'] = positions_df.qty*positions_df.avg_price\n",
    "\n",
    "positions_df['value'] = positions_df.qty*positions_df.last_price\n",
    "\n",
    "positions_df = positions_df[positions_df.expiry>dt.datetime.today()]"
   ]
  },
  {
   "cell_type": "code",
   "execution_count": 62,
   "id": "exceptional-industry",
   "metadata": {},
   "outputs": [
    {
     "data": {
      "text/plain": [
       "underlying             INFOSYS LTD.\n",
       "expiry          2021-12-30 00:00:00\n",
       "option_type                      CE\n",
       "strike_price                 1820.0\n",
       "lot_size                        300\n",
       "Name: 8, dtype: object"
      ]
     },
     "execution_count": 62,
     "metadata": {},
     "output_type": "execute_result"
    }
   ],
   "source": [
    "contract"
   ]
  },
  {
   "cell_type": "code",
   "execution_count": 63,
   "id": "regional-berry",
   "metadata": {},
   "outputs": [
    {
     "data": {
      "text/html": [
       "<div>\n",
       "<style scoped>\n",
       "    .dataframe tbody tr th:only-of-type {\n",
       "        vertical-align: middle;\n",
       "    }\n",
       "\n",
       "    .dataframe tbody tr th {\n",
       "        vertical-align: top;\n",
       "    }\n",
       "\n",
       "    .dataframe thead th {\n",
       "        text-align: right;\n",
       "    }\n",
       "</style>\n",
       "<table border=\"1\" class=\"dataframe\">\n",
       "  <thead>\n",
       "    <tr style=\"text-align: right;\">\n",
       "      <th></th>\n",
       "      <th>underlying</th>\n",
       "      <th>strike_price</th>\n",
       "      <th>expiry</th>\n",
       "      <th>option_type</th>\n",
       "      <th>option_id</th>\n",
       "      <th>qty</th>\n",
       "      <th>cost</th>\n",
       "      <th>avg_price</th>\n",
       "      <th>lot_size</th>\n",
       "      <th>last_price</th>\n",
       "      <th>value</th>\n",
       "    </tr>\n",
       "  </thead>\n",
       "  <tbody>\n",
       "    <tr>\n",
       "      <th>7</th>\n",
       "      <td>INFOSYS LTD.</td>\n",
       "      <td>1800.0</td>\n",
       "      <td>2021-12-30</td>\n",
       "      <td>PE</td>\n",
       "      <td>INFOSYS LTD.1800PE_30-Dec</td>\n",
       "      <td>300.0</td>\n",
       "      <td>6900.00</td>\n",
       "      <td>23.00</td>\n",
       "      <td>300</td>\n",
       "      <td>5.25</td>\n",
       "      <td>1575.00</td>\n",
       "    </tr>\n",
       "    <tr>\n",
       "      <th>8</th>\n",
       "      <td>INFOSYS LTD.</td>\n",
       "      <td>1820.0</td>\n",
       "      <td>2021-12-30</td>\n",
       "      <td>CE</td>\n",
       "      <td>INFOSYS LTD.1820CE_30-Dec</td>\n",
       "      <td>300.0</td>\n",
       "      <td>6750.00</td>\n",
       "      <td>22.50</td>\n",
       "      <td>300</td>\n",
       "      <td>40.80</td>\n",
       "      <td>12240.00</td>\n",
       "    </tr>\n",
       "    <tr>\n",
       "      <th>1</th>\n",
       "      <td>RELIANCE</td>\n",
       "      <td>2320.0</td>\n",
       "      <td>2021-12-30</td>\n",
       "      <td>PE</td>\n",
       "      <td>RELIANCE2320PE_30-Dec</td>\n",
       "      <td>250.0</td>\n",
       "      <td>6437.50</td>\n",
       "      <td>25.75</td>\n",
       "      <td>250</td>\n",
       "      <td>11.45</td>\n",
       "      <td>2862.50</td>\n",
       "    </tr>\n",
       "    <tr>\n",
       "      <th>0</th>\n",
       "      <td>RELIANCE</td>\n",
       "      <td>2340.0</td>\n",
       "      <td>2021-12-30</td>\n",
       "      <td>CE</td>\n",
       "      <td>RELIANCE2340CE_30-Dec</td>\n",
       "      <td>250.0</td>\n",
       "      <td>8625.00</td>\n",
       "      <td>34.50</td>\n",
       "      <td>250</td>\n",
       "      <td>47.60</td>\n",
       "      <td>11900.00</td>\n",
       "    </tr>\n",
       "    <tr>\n",
       "      <th>5</th>\n",
       "      <td>NIFTY</td>\n",
       "      <td>16800.0</td>\n",
       "      <td>2021-12-30</td>\n",
       "      <td>PE</td>\n",
       "      <td>NIFTY16800PE_30-Dec</td>\n",
       "      <td>50.0</td>\n",
       "      <td>7750.00</td>\n",
       "      <td>155.00</td>\n",
       "      <td>50</td>\n",
       "      <td>51.85</td>\n",
       "      <td>2592.50</td>\n",
       "    </tr>\n",
       "    <tr>\n",
       "      <th>4</th>\n",
       "      <td>NIFTY</td>\n",
       "      <td>17000.0</td>\n",
       "      <td>2021-12-30</td>\n",
       "      <td>CE</td>\n",
       "      <td>NIFTY17000CE_30-Dec</td>\n",
       "      <td>50.0</td>\n",
       "      <td>5552.50</td>\n",
       "      <td>111.05</td>\n",
       "      <td>50</td>\n",
       "      <td>198.80</td>\n",
       "      <td>9940.00</td>\n",
       "    </tr>\n",
       "    <tr>\n",
       "      <th>3</th>\n",
       "      <td>BANKNIFTY</td>\n",
       "      <td>34700.0</td>\n",
       "      <td>2021-12-30</td>\n",
       "      <td>PE</td>\n",
       "      <td>BANKNIFTY34700PE_30-Dec</td>\n",
       "      <td>25.0</td>\n",
       "      <td>12098.75</td>\n",
       "      <td>483.95</td>\n",
       "      <td>25</td>\n",
       "      <td>161.80</td>\n",
       "      <td>4045.00</td>\n",
       "    </tr>\n",
       "    <tr>\n",
       "      <th>2</th>\n",
       "      <td>BANKNIFTY</td>\n",
       "      <td>35100.0</td>\n",
       "      <td>2021-12-30</td>\n",
       "      <td>CE</td>\n",
       "      <td>BANKNIFTY35100CE_30-Dec</td>\n",
       "      <td>25.0</td>\n",
       "      <td>9793.75</td>\n",
       "      <td>391.75</td>\n",
       "      <td>25</td>\n",
       "      <td>563.65</td>\n",
       "      <td>14091.25</td>\n",
       "    </tr>\n",
       "  </tbody>\n",
       "</table>\n",
       "</div>"
      ],
      "text/plain": [
       "     underlying  strike_price     expiry option_type  \\\n",
       "7  INFOSYS LTD.        1800.0 2021-12-30          PE   \n",
       "8  INFOSYS LTD.        1820.0 2021-12-30          CE   \n",
       "1      RELIANCE        2320.0 2021-12-30          PE   \n",
       "0      RELIANCE        2340.0 2021-12-30          CE   \n",
       "5         NIFTY       16800.0 2021-12-30          PE   \n",
       "4         NIFTY       17000.0 2021-12-30          CE   \n",
       "3     BANKNIFTY       34700.0 2021-12-30          PE   \n",
       "2     BANKNIFTY       35100.0 2021-12-30          CE   \n",
       "\n",
       "                   option_id    qty      cost  avg_price  lot_size  \\\n",
       "7  INFOSYS LTD.1800PE_30-Dec  300.0   6900.00      23.00       300   \n",
       "8  INFOSYS LTD.1820CE_30-Dec  300.0   6750.00      22.50       300   \n",
       "1      RELIANCE2320PE_30-Dec  250.0   6437.50      25.75       250   \n",
       "0      RELIANCE2340CE_30-Dec  250.0   8625.00      34.50       250   \n",
       "5        NIFTY16800PE_30-Dec   50.0   7750.00     155.00        50   \n",
       "4        NIFTY17000CE_30-Dec   50.0   5552.50     111.05        50   \n",
       "3    BANKNIFTY34700PE_30-Dec   25.0  12098.75     483.95        25   \n",
       "2    BANKNIFTY35100CE_30-Dec   25.0   9793.75     391.75        25   \n",
       "\n",
       "   last_price     value  \n",
       "7        5.25   1575.00  \n",
       "8       40.80  12240.00  \n",
       "1       11.45   2862.50  \n",
       "0       47.60  11900.00  \n",
       "5       51.85   2592.50  \n",
       "4      198.80   9940.00  \n",
       "3      161.80   4045.00  \n",
       "2      563.65  14091.25  "
      ]
     },
     "execution_count": 63,
     "metadata": {},
     "output_type": "execute_result"
    }
   ],
   "source": [
    "positions_df.sort_values('strike_price')"
   ]
  },
  {
   "cell_type": "markdown",
   "id": "innovative-finnish",
   "metadata": {},
   "source": [
    "Total amount Invested:"
   ]
  },
  {
   "cell_type": "code",
   "execution_count": 64,
   "id": "sunrise-segment",
   "metadata": {},
   "outputs": [
    {
     "data": {
      "text/plain": [
       "63907.5"
      ]
     },
     "execution_count": 64,
     "metadata": {},
     "output_type": "execute_result"
    }
   ],
   "source": [
    "positions_df.cost.sum()"
   ]
  },
  {
   "cell_type": "markdown",
   "id": "positive-costs",
   "metadata": {},
   "source": [
    "Current Value of investments:"
   ]
  },
  {
   "cell_type": "code",
   "execution_count": 65,
   "id": "fallen-iraqi",
   "metadata": {},
   "outputs": [
    {
     "data": {
      "text/plain": [
       "59246.25"
      ]
     },
     "execution_count": 65,
     "metadata": {},
     "output_type": "execute_result"
    }
   ],
   "source": [
    "positions_df.value.sum()"
   ]
  },
  {
   "cell_type": "code",
   "execution_count": 66,
   "id": "express-emerald",
   "metadata": {},
   "outputs": [],
   "source": [
    "target_rate = 1.125"
   ]
  },
  {
   "cell_type": "markdown",
   "id": "quality-welsh",
   "metadata": {},
   "source": [
    "## Positions by Underlying"
   ]
  },
  {
   "cell_type": "code",
   "execution_count": 67,
   "id": "charming-transcript",
   "metadata": {},
   "outputs": [
    {
     "data": {
      "text/html": [
       "<div>\n",
       "<style scoped>\n",
       "    .dataframe tbody tr th:only-of-type {\n",
       "        vertical-align: middle;\n",
       "    }\n",
       "\n",
       "    .dataframe tbody tr th {\n",
       "        vertical-align: top;\n",
       "    }\n",
       "\n",
       "    .dataframe thead th {\n",
       "        text-align: right;\n",
       "    }\n",
       "</style>\n",
       "<table border=\"1\" class=\"dataframe\">\n",
       "  <thead>\n",
       "    <tr style=\"text-align: right;\">\n",
       "      <th></th>\n",
       "      <th>underlying</th>\n",
       "      <th>qty</th>\n",
       "      <th>lot_size</th>\n",
       "      <th>current_value</th>\n",
       "      <th>initial_investment</th>\n",
       "      <th>num_pairs</th>\n",
       "      <th>breakeven</th>\n",
       "      <th>target</th>\n",
       "      <th>change</th>\n",
       "    </tr>\n",
       "  </thead>\n",
       "  <tbody>\n",
       "    <tr>\n",
       "      <th>0</th>\n",
       "      <td>BANKNIFTY</td>\n",
       "      <td>50.0</td>\n",
       "      <td>25</td>\n",
       "      <td>18136.25</td>\n",
       "      <td>21892.5</td>\n",
       "      <td>1.0</td>\n",
       "      <td>875.70</td>\n",
       "      <td>985.16250</td>\n",
       "      <td>-0.171577</td>\n",
       "    </tr>\n",
       "    <tr>\n",
       "      <th>1</th>\n",
       "      <td>INFOSYS LTD.</td>\n",
       "      <td>600.0</td>\n",
       "      <td>300</td>\n",
       "      <td>13815.00</td>\n",
       "      <td>13650.0</td>\n",
       "      <td>1.0</td>\n",
       "      <td>45.50</td>\n",
       "      <td>51.18750</td>\n",
       "      <td>0.012088</td>\n",
       "    </tr>\n",
       "    <tr>\n",
       "      <th>2</th>\n",
       "      <td>NIFTY</td>\n",
       "      <td>100.0</td>\n",
       "      <td>50</td>\n",
       "      <td>12532.50</td>\n",
       "      <td>13302.5</td>\n",
       "      <td>1.0</td>\n",
       "      <td>266.05</td>\n",
       "      <td>299.30625</td>\n",
       "      <td>-0.057884</td>\n",
       "    </tr>\n",
       "    <tr>\n",
       "      <th>3</th>\n",
       "      <td>RELIANCE</td>\n",
       "      <td>500.0</td>\n",
       "      <td>250</td>\n",
       "      <td>14762.50</td>\n",
       "      <td>15062.5</td>\n",
       "      <td>1.0</td>\n",
       "      <td>60.25</td>\n",
       "      <td>67.78125</td>\n",
       "      <td>-0.019917</td>\n",
       "    </tr>\n",
       "  </tbody>\n",
       "</table>\n",
       "</div>"
      ],
      "text/plain": [
       "     underlying    qty  lot_size  current_value  initial_investment  \\\n",
       "0     BANKNIFTY   50.0        25       18136.25             21892.5   \n",
       "1  INFOSYS LTD.  600.0       300       13815.00             13650.0   \n",
       "2         NIFTY  100.0        50       12532.50             13302.5   \n",
       "3      RELIANCE  500.0       250       14762.50             15062.5   \n",
       "\n",
       "   num_pairs  breakeven     target    change  \n",
       "0        1.0     875.70  985.16250 -0.171577  \n",
       "1        1.0      45.50   51.18750  0.012088  \n",
       "2        1.0     266.05  299.30625 -0.057884  \n",
       "3        1.0      60.25   67.78125 -0.019917  "
      ]
     },
     "execution_count": 67,
     "metadata": {},
     "output_type": "execute_result"
    }
   ],
   "source": [
    "positions_by_underlying = positions_df.groupby(['underlying']).agg(qty=pd.NamedAgg(column=\"qty\", aggfunc=\"sum\"),  \n",
    "                                                                   lot_size=pd.NamedAgg(column=\"lot_size\", aggfunc=\"first\"),\n",
    "                                                                   current_value=pd.NamedAgg(column=\"value\", aggfunc=\"sum\"),\n",
    "                                                                   initial_investment=pd.NamedAgg(column=\"cost\", aggfunc=\"sum\") ).reset_index()\n",
    "\n",
    "positions_by_underlying['num_pairs'] = positions_by_underlying.qty/positions_by_underlying.lot_size/2\n",
    "\n",
    "positions_by_underlying['breakeven'] = positions_by_underlying['initial_investment']/(positions_by_underlying['qty']/2)\n",
    "positions_by_underlying['target'] = target_rate*positions_by_underlying['breakeven']\n",
    "\n",
    "# positions_by_underlying['current_value'] = positions_by_underlying['current_value']*positions_by_underlying['qty']\n",
    "\n",
    "\n",
    "positions_by_underlying['change'] = (positions_by_underlying['current_value']-positions_by_underlying['initial_investment'])/positions_by_underlying['initial_investment']\n",
    "\n",
    "positions_by_underlying"
   ]
  },
  {
   "cell_type": "markdown",
   "id": "silent-tract",
   "metadata": {},
   "source": [
    "Target Value"
   ]
  },
  {
   "cell_type": "code",
   "execution_count": 37,
   "id": "caroline-papua",
   "metadata": {},
   "outputs": [
    {
     "data": {
      "text/plain": [
       "71895.9375"
      ]
     },
     "execution_count": 37,
     "metadata": {},
     "output_type": "execute_result"
    }
   ],
   "source": [
    "sum(positions_by_underlying.target*positions_by_underlying.qty/2)"
   ]
  },
  {
   "cell_type": "markdown",
   "id": "dangerous-compact",
   "metadata": {},
   "source": [
    "## Positions by Underlying and Expiry"
   ]
  },
  {
   "cell_type": "code",
   "execution_count": 237,
   "id": "compressed-nothing",
   "metadata": {},
   "outputs": [
    {
     "data": {
      "text/html": [
       "<div>\n",
       "<style scoped>\n",
       "    .dataframe tbody tr th:only-of-type {\n",
       "        vertical-align: middle;\n",
       "    }\n",
       "\n",
       "    .dataframe tbody tr th {\n",
       "        vertical-align: top;\n",
       "    }\n",
       "\n",
       "    .dataframe thead th {\n",
       "        text-align: right;\n",
       "    }\n",
       "</style>\n",
       "<table border=\"1\" class=\"dataframe\">\n",
       "  <thead>\n",
       "    <tr style=\"text-align: right;\">\n",
       "      <th></th>\n",
       "      <th>underlying</th>\n",
       "      <th>expiry</th>\n",
       "      <th>qty</th>\n",
       "      <th>lot_size</th>\n",
       "      <th>current_value</th>\n",
       "      <th>initial_investment</th>\n",
       "      <th>num_pairs</th>\n",
       "      <th>target</th>\n",
       "      <th>change</th>\n",
       "    </tr>\n",
       "  </thead>\n",
       "  <tbody>\n",
       "    <tr>\n",
       "      <th>0</th>\n",
       "      <td>BANKNIFTY</td>\n",
       "      <td>2021-12-30</td>\n",
       "      <td>50.0</td>\n",
       "      <td>25</td>\n",
       "      <td>17722.5</td>\n",
       "      <td>21892.5</td>\n",
       "      <td>1.0</td>\n",
       "      <td>963.270</td>\n",
       "      <td>-0.190476</td>\n",
       "    </tr>\n",
       "    <tr>\n",
       "      <th>1</th>\n",
       "      <td>INFOSYS LTD.</td>\n",
       "      <td>2021-12-30</td>\n",
       "      <td>600.0</td>\n",
       "      <td>300</td>\n",
       "      <td>10650.0</td>\n",
       "      <td>13650.0</td>\n",
       "      <td>1.0</td>\n",
       "      <td>50.050</td>\n",
       "      <td>-0.219780</td>\n",
       "    </tr>\n",
       "    <tr>\n",
       "      <th>2</th>\n",
       "      <td>NIFTY</td>\n",
       "      <td>2021-12-30</td>\n",
       "      <td>100.0</td>\n",
       "      <td>50</td>\n",
       "      <td>11532.5</td>\n",
       "      <td>13302.5</td>\n",
       "      <td>1.0</td>\n",
       "      <td>292.655</td>\n",
       "      <td>-0.133058</td>\n",
       "    </tr>\n",
       "    <tr>\n",
       "      <th>3</th>\n",
       "      <td>RELIANCE</td>\n",
       "      <td>2021-12-30</td>\n",
       "      <td>500.0</td>\n",
       "      <td>250</td>\n",
       "      <td>15037.5</td>\n",
       "      <td>15062.5</td>\n",
       "      <td>1.0</td>\n",
       "      <td>66.275</td>\n",
       "      <td>-0.001660</td>\n",
       "    </tr>\n",
       "  </tbody>\n",
       "</table>\n",
       "</div>"
      ],
      "text/plain": [
       "     underlying     expiry    qty  lot_size  current_value  \\\n",
       "0     BANKNIFTY 2021-12-30   50.0        25        17722.5   \n",
       "1  INFOSYS LTD. 2021-12-30  600.0       300        10650.0   \n",
       "2         NIFTY 2021-12-30  100.0        50        11532.5   \n",
       "3      RELIANCE 2021-12-30  500.0       250        15037.5   \n",
       "\n",
       "   initial_investment  num_pairs   target    change  \n",
       "0             21892.5        1.0  963.270 -0.190476  \n",
       "1             13650.0        1.0   50.050 -0.219780  \n",
       "2             13302.5        1.0  292.655 -0.133058  \n",
       "3             15062.5        1.0   66.275 -0.001660  "
      ]
     },
     "execution_count": 237,
     "metadata": {},
     "output_type": "execute_result"
    }
   ],
   "source": [
    "positions_by_expiry = positions_df.groupby(['underlying', 'expiry']).agg(qty=pd.NamedAgg(column=\"qty\", aggfunc=\"sum\"),  \n",
    "                                                                         lot_size=pd.NamedAgg(column=\"lot_size\", aggfunc=\"first\"),\n",
    "                                                                         current_value=pd.NamedAgg(column=\"value\", aggfunc=\"sum\"),\n",
    "                                                                         initial_investment=pd.NamedAgg(column=\"cost\", aggfunc=\"sum\") ).reset_index()\n",
    "\n",
    "# positions_by_expiry['target'] = target_rate*positions_by_expiry.initial_investment/positions_by_expiry.qty\n",
    "\n",
    "positions_by_expiry['num_pairs'] = positions_by_expiry.qty/positions_by_expiry.lot_size/2\n",
    "\n",
    "\n",
    "# positions_by_expiry['current_value'] = positions_by_expiry['current_value']*positions_by_expiry['qty']\n",
    "\n",
    "# positions_by_expiry['target'] = target_rate*positions_by_expiry['initial_investment']/positions_by_expiry['num_pairs']/positions_by_expiry.lot_size\n",
    "\n",
    "\n",
    "positions_by_expiry['target'] = target_rate*positions_by_expiry['initial_investment']/(positions_by_expiry['qty']/2)\n",
    "\n",
    "positions_by_expiry['change'] = (positions_by_expiry['current_value']-positions_by_expiry['initial_investment'])/positions_by_expiry['initial_investment']\n",
    "\n",
    "positions_by_expiry"
   ]
  },
  {
   "cell_type": "markdown",
   "id": "according-positive",
   "metadata": {},
   "source": [
    "## Positions by Pairs"
   ]
  },
  {
   "cell_type": "code",
   "execution_count": 174,
   "id": "grave-registrar",
   "metadata": {},
   "outputs": [
    {
     "data": {
      "text/html": [
       "<div>\n",
       "<style scoped>\n",
       "    .dataframe tbody tr th:only-of-type {\n",
       "        vertical-align: middle;\n",
       "    }\n",
       "\n",
       "    .dataframe tbody tr th {\n",
       "        vertical-align: top;\n",
       "    }\n",
       "\n",
       "    .dataframe thead th {\n",
       "        text-align: right;\n",
       "    }\n",
       "</style>\n",
       "<table border=\"1\" class=\"dataframe\">\n",
       "  <thead>\n",
       "    <tr style=\"text-align: right;\">\n",
       "      <th></th>\n",
       "      <th>underlying</th>\n",
       "      <th>strike_price</th>\n",
       "      <th>expiry</th>\n",
       "      <th>option_type</th>\n",
       "      <th>option_id</th>\n",
       "      <th>qty</th>\n",
       "      <th>cost</th>\n",
       "      <th>avg_price</th>\n",
       "      <th>lot_size</th>\n",
       "      <th>last_price</th>\n",
       "      <th>value</th>\n",
       "    </tr>\n",
       "  </thead>\n",
       "  <tbody>\n",
       "    <tr>\n",
       "      <th>0</th>\n",
       "      <td>RELIANCE</td>\n",
       "      <td>2340.0</td>\n",
       "      <td>2021-12-30</td>\n",
       "      <td>CE</td>\n",
       "      <td>RELIANCE2340CE_30-Dec</td>\n",
       "      <td>250.0</td>\n",
       "      <td>8625.00</td>\n",
       "      <td>34.50</td>\n",
       "      <td>250</td>\n",
       "      <td>38.95</td>\n",
       "      <td>9737.50</td>\n",
       "    </tr>\n",
       "    <tr>\n",
       "      <th>1</th>\n",
       "      <td>RELIANCE</td>\n",
       "      <td>2320.0</td>\n",
       "      <td>2021-12-30</td>\n",
       "      <td>PE</td>\n",
       "      <td>RELIANCE2320PE_30-Dec</td>\n",
       "      <td>250.0</td>\n",
       "      <td>6437.50</td>\n",
       "      <td>25.75</td>\n",
       "      <td>250</td>\n",
       "      <td>19.20</td>\n",
       "      <td>4800.00</td>\n",
       "    </tr>\n",
       "    <tr>\n",
       "      <th>2</th>\n",
       "      <td>BANKNIFTY</td>\n",
       "      <td>35100.0</td>\n",
       "      <td>2021-12-30</td>\n",
       "      <td>CE</td>\n",
       "      <td>BANKNIFTY35100CE_30-Dec</td>\n",
       "      <td>25.0</td>\n",
       "      <td>9793.75</td>\n",
       "      <td>391.75</td>\n",
       "      <td>25</td>\n",
       "      <td>343.35</td>\n",
       "      <td>8583.75</td>\n",
       "    </tr>\n",
       "    <tr>\n",
       "      <th>3</th>\n",
       "      <td>BANKNIFTY</td>\n",
       "      <td>34700.0</td>\n",
       "      <td>2021-12-30</td>\n",
       "      <td>PE</td>\n",
       "      <td>BANKNIFTY34700PE_30-Dec</td>\n",
       "      <td>25.0</td>\n",
       "      <td>12098.75</td>\n",
       "      <td>483.95</td>\n",
       "      <td>25</td>\n",
       "      <td>369.80</td>\n",
       "      <td>9245.00</td>\n",
       "    </tr>\n",
       "    <tr>\n",
       "      <th>4</th>\n",
       "      <td>NIFTY</td>\n",
       "      <td>17000.0</td>\n",
       "      <td>2021-12-30</td>\n",
       "      <td>CE</td>\n",
       "      <td>NIFTY17000CE_30-Dec</td>\n",
       "      <td>50.0</td>\n",
       "      <td>5552.50</td>\n",
       "      <td>111.05</td>\n",
       "      <td>50</td>\n",
       "      <td>112.90</td>\n",
       "      <td>5645.00</td>\n",
       "    </tr>\n",
       "    <tr>\n",
       "      <th>5</th>\n",
       "      <td>NIFTY</td>\n",
       "      <td>16800.0</td>\n",
       "      <td>2021-12-30</td>\n",
       "      <td>PE</td>\n",
       "      <td>NIFTY16800PE_30-Dec</td>\n",
       "      <td>50.0</td>\n",
       "      <td>7750.00</td>\n",
       "      <td>155.00</td>\n",
       "      <td>50</td>\n",
       "      <td>113.95</td>\n",
       "      <td>5697.50</td>\n",
       "    </tr>\n",
       "    <tr>\n",
       "      <th>7</th>\n",
       "      <td>INFOSYS LTD.</td>\n",
       "      <td>1800.0</td>\n",
       "      <td>2021-12-30</td>\n",
       "      <td>PE</td>\n",
       "      <td>INFOSYS LTD.1800PE_30-Dec</td>\n",
       "      <td>300.0</td>\n",
       "      <td>6900.00</td>\n",
       "      <td>23.00</td>\n",
       "      <td>300</td>\n",
       "      <td>11.35</td>\n",
       "      <td>3405.00</td>\n",
       "    </tr>\n",
       "    <tr>\n",
       "      <th>8</th>\n",
       "      <td>INFOSYS LTD.</td>\n",
       "      <td>1820.0</td>\n",
       "      <td>2021-12-30</td>\n",
       "      <td>CE</td>\n",
       "      <td>INFOSYS LTD.1820CE_30-Dec</td>\n",
       "      <td>300.0</td>\n",
       "      <td>6750.00</td>\n",
       "      <td>22.50</td>\n",
       "      <td>300</td>\n",
       "      <td>23.10</td>\n",
       "      <td>6930.00</td>\n",
       "    </tr>\n",
       "  </tbody>\n",
       "</table>\n",
       "</div>"
      ],
      "text/plain": [
       "     underlying  strike_price     expiry option_type  \\\n",
       "0      RELIANCE        2340.0 2021-12-30          CE   \n",
       "1      RELIANCE        2320.0 2021-12-30          PE   \n",
       "2     BANKNIFTY       35100.0 2021-12-30          CE   \n",
       "3     BANKNIFTY       34700.0 2021-12-30          PE   \n",
       "4         NIFTY       17000.0 2021-12-30          CE   \n",
       "5         NIFTY       16800.0 2021-12-30          PE   \n",
       "7  INFOSYS LTD.        1800.0 2021-12-30          PE   \n",
       "8  INFOSYS LTD.        1820.0 2021-12-30          CE   \n",
       "\n",
       "                   option_id    qty      cost  avg_price  lot_size  \\\n",
       "0      RELIANCE2340CE_30-Dec  250.0   8625.00      34.50       250   \n",
       "1      RELIANCE2320PE_30-Dec  250.0   6437.50      25.75       250   \n",
       "2    BANKNIFTY35100CE_30-Dec   25.0   9793.75     391.75        25   \n",
       "3    BANKNIFTY34700PE_30-Dec   25.0  12098.75     483.95        25   \n",
       "4        NIFTY17000CE_30-Dec   50.0   5552.50     111.05        50   \n",
       "5        NIFTY16800PE_30-Dec   50.0   7750.00     155.00        50   \n",
       "7  INFOSYS LTD.1800PE_30-Dec  300.0   6900.00      23.00       300   \n",
       "8  INFOSYS LTD.1820CE_30-Dec  300.0   6750.00      22.50       300   \n",
       "\n",
       "   last_price    value  \n",
       "0       38.95  9737.50  \n",
       "1       19.20  4800.00  \n",
       "2      343.35  8583.75  \n",
       "3      369.80  9245.00  \n",
       "4      112.90  5645.00  \n",
       "5      113.95  5697.50  \n",
       "7       11.35  3405.00  \n",
       "8       23.10  6930.00  "
      ]
     },
     "execution_count": 174,
     "metadata": {},
     "output_type": "execute_result"
    }
   ],
   "source": [
    "positions_df"
   ]
  },
  {
   "cell_type": "code",
   "execution_count": 175,
   "id": "little-performance",
   "metadata": {},
   "outputs": [
    {
     "name": "stdout",
     "output_type": "stream",
     "text": [
      "RELIANCE2340CE_30-Dec RELIANCE2320PE_30-Dec\n",
      "BANKNIFTY35100CE_30-Dec BANKNIFTY34700PE_30-Dec\n",
      "NIFTY17000CE_30-Dec NIFTY16800PE_30-Dec\n",
      "INFOSYS LTD.1820CE_30-Dec INFOSYS LTD.1800PE_30-Dec\n"
     ]
    }
   ],
   "source": [
    "for u, e in positions_df[['underlying', 'expiry']].drop_duplicates().to_dict(orient='split')['data']:\n",
    "    \n",
    "    position_group = positions_df[(positions_df['underlying'] == u) & (positions_df['expiry'] == e)]\n",
    "\n",
    "    # Separate out Call and Put option\n",
    "    ce_positions = position_group[position_group['option_type']=='CE']\n",
    "    pe_positions = position_group[position_group['option_type']=='PE']\n",
    "\n",
    "    # Convert to dict for easier iteration\n",
    "    pe_positions = pe_positions.sort_values(by='strike_price', ascending=False).to_dict(orient='records')\n",
    "    ce_positions = ce_positions.sort_values(by='strike_price').to_dict(orient='records')\n",
    "\n",
    "    position_pairs = []\n",
    "\n",
    "    for pe_position in pe_positions:\n",
    "        for ce_position in ce_positions:\n",
    "            print(ce_position['option_id'],pe_position['option_id'])"
   ]
  },
  {
   "cell_type": "code",
   "execution_count": 177,
   "id": "conventional-virus",
   "metadata": {},
   "outputs": [
    {
     "data": {
      "text/plain": [
       "'INFY'"
      ]
     },
     "execution_count": 177,
     "metadata": {},
     "output_type": "execute_result"
    }
   ],
   "source": [
    "company_symbol_lookup[u]"
   ]
  },
  {
   "cell_type": "code",
   "execution_count": 20,
   "id": "northern-bible",
   "metadata": {},
   "outputs": [
    {
     "data": {
      "text/plain": [
       "'QmRnF1pCXfGEFbYwgTFJNJjSt3UL2RsftzqbLNFJ86GAmG'"
      ]
     },
     "execution_count": 20,
     "metadata": {},
     "output_type": "execute_result"
    }
   ],
   "source": [
    "# DATA_ROOT = 'QmVmo99nn2wMjShNGi5CDPEqzRWtYxWRrjD5XTsfQiCZD3'\n",
    "with open(\"datastore/nse.dataroot\") as f:\n",
    "    DATA_ROOT = f.readline()\n",
    "DATA_ROOT"
   ]
  },
  {
   "cell_type": "code",
   "execution_count": 21,
   "id": "worse-reader",
   "metadata": {},
   "outputs": [],
   "source": [
    "underlying_df = load_underlying(u, DATA_ROOT)"
   ]
  },
  {
   "cell_type": "code",
   "execution_count": 22,
   "id": "spread-minneapolis",
   "metadata": {},
   "outputs": [
    {
     "data": {
      "text/html": [
       "<div>\n",
       "<style scoped>\n",
       "    .dataframe tbody tr th:only-of-type {\n",
       "        vertical-align: middle;\n",
       "    }\n",
       "\n",
       "    .dataframe tbody tr th {\n",
       "        vertical-align: top;\n",
       "    }\n",
       "\n",
       "    .dataframe thead th {\n",
       "        text-align: right;\n",
       "    }\n",
       "</style>\n",
       "<table border=\"1\" class=\"dataframe\">\n",
       "  <thead>\n",
       "    <tr style=\"text-align: right;\">\n",
       "      <th></th>\n",
       "      <th>Close</th>\n",
       "      <th>High</th>\n",
       "      <th>Low</th>\n",
       "      <th>Open</th>\n",
       "      <th>Turnover</th>\n",
       "      <th>Volume</th>\n",
       "    </tr>\n",
       "    <tr>\n",
       "      <th>Date</th>\n",
       "      <th></th>\n",
       "      <th></th>\n",
       "      <th></th>\n",
       "      <th></th>\n",
       "      <th></th>\n",
       "      <th></th>\n",
       "    </tr>\n",
       "  </thead>\n",
       "  <tbody>\n",
       "    <tr>\n",
       "      <th>2018-01-02</th>\n",
       "      <td>10442.20</td>\n",
       "      <td>10495.20</td>\n",
       "      <td>10404.65</td>\n",
       "      <td>10477.55</td>\n",
       "      <td>8.665470e+03</td>\n",
       "      <td>158092430.0</td>\n",
       "    </tr>\n",
       "    <tr>\n",
       "      <th>2018-01-03</th>\n",
       "      <td>10443.20</td>\n",
       "      <td>10503.60</td>\n",
       "      <td>10429.55</td>\n",
       "      <td>10482.65</td>\n",
       "      <td>9.541600e+03</td>\n",
       "      <td>172516859.0</td>\n",
       "    </tr>\n",
       "    <tr>\n",
       "      <th>2018-01-04</th>\n",
       "      <td>10504.80</td>\n",
       "      <td>10513.00</td>\n",
       "      <td>10441.45</td>\n",
       "      <td>10469.40</td>\n",
       "      <td>9.561950e+03</td>\n",
       "      <td>180257392.0</td>\n",
       "    </tr>\n",
       "    <tr>\n",
       "      <th>2018-01-05</th>\n",
       "      <td>10558.85</td>\n",
       "      <td>10566.10</td>\n",
       "      <td>10520.10</td>\n",
       "      <td>10534.25</td>\n",
       "      <td>1.030622e+04</td>\n",
       "      <td>186469717.0</td>\n",
       "    </tr>\n",
       "    <tr>\n",
       "      <th>2018-01-08</th>\n",
       "      <td>10623.60</td>\n",
       "      <td>10631.20</td>\n",
       "      <td>10588.55</td>\n",
       "      <td>10591.70</td>\n",
       "      <td>9.907270e+03</td>\n",
       "      <td>174181231.0</td>\n",
       "    </tr>\n",
       "    <tr>\n",
       "      <th>...</th>\n",
       "      <td>...</td>\n",
       "      <td>...</td>\n",
       "      <td>...</td>\n",
       "      <td>...</td>\n",
       "      <td>...</td>\n",
       "      <td>...</td>\n",
       "    </tr>\n",
       "    <tr>\n",
       "      <th>2021-12-17</th>\n",
       "      <td>16985.20</td>\n",
       "      <td>17298.15</td>\n",
       "      <td>16966.45</td>\n",
       "      <td>17276.00</td>\n",
       "      <td>3.132691e+11</td>\n",
       "      <td>354591366.0</td>\n",
       "    </tr>\n",
       "    <tr>\n",
       "      <th>2021-12-17</th>\n",
       "      <td>16985.20</td>\n",
       "      <td>17298.15</td>\n",
       "      <td>16966.45</td>\n",
       "      <td>17276.00</td>\n",
       "      <td>3.132691e+11</td>\n",
       "      <td>354591366.0</td>\n",
       "    </tr>\n",
       "    <tr>\n",
       "      <th>2021-12-17</th>\n",
       "      <td>16985.20</td>\n",
       "      <td>17298.15</td>\n",
       "      <td>16966.45</td>\n",
       "      <td>17276.00</td>\n",
       "      <td>3.132691e+11</td>\n",
       "      <td>354591366.0</td>\n",
       "    </tr>\n",
       "    <tr>\n",
       "      <th>2021-12-17</th>\n",
       "      <td>16985.20</td>\n",
       "      <td>17298.15</td>\n",
       "      <td>16966.45</td>\n",
       "      <td>17276.00</td>\n",
       "      <td>3.132691e+11</td>\n",
       "      <td>354591366.0</td>\n",
       "    </tr>\n",
       "    <tr>\n",
       "      <th>2021-12-17</th>\n",
       "      <td>16985.20</td>\n",
       "      <td>17298.15</td>\n",
       "      <td>16966.45</td>\n",
       "      <td>17276.00</td>\n",
       "      <td>3.132691e+11</td>\n",
       "      <td>354591366.0</td>\n",
       "    </tr>\n",
       "  </tbody>\n",
       "</table>\n",
       "<p>1000 rows × 6 columns</p>\n",
       "</div>"
      ],
      "text/plain": [
       "               Close      High       Low      Open      Turnover       Volume\n",
       "Date                                                                         \n",
       "2018-01-02  10442.20  10495.20  10404.65  10477.55  8.665470e+03  158092430.0\n",
       "2018-01-03  10443.20  10503.60  10429.55  10482.65  9.541600e+03  172516859.0\n",
       "2018-01-04  10504.80  10513.00  10441.45  10469.40  9.561950e+03  180257392.0\n",
       "2018-01-05  10558.85  10566.10  10520.10  10534.25  1.030622e+04  186469717.0\n",
       "2018-01-08  10623.60  10631.20  10588.55  10591.70  9.907270e+03  174181231.0\n",
       "...              ...       ...       ...       ...           ...          ...\n",
       "2021-12-17  16985.20  17298.15  16966.45  17276.00  3.132691e+11  354591366.0\n",
       "2021-12-17  16985.20  17298.15  16966.45  17276.00  3.132691e+11  354591366.0\n",
       "2021-12-17  16985.20  17298.15  16966.45  17276.00  3.132691e+11  354591366.0\n",
       "2021-12-17  16985.20  17298.15  16966.45  17276.00  3.132691e+11  354591366.0\n",
       "2021-12-17  16985.20  17298.15  16966.45  17276.00  3.132691e+11  354591366.0\n",
       "\n",
       "[1000 rows x 6 columns]"
      ]
     },
     "execution_count": 22,
     "metadata": {},
     "output_type": "execute_result"
    }
   ],
   "source": [
    "underlying_df"
   ]
  },
  {
   "cell_type": "code",
   "execution_count": 23,
   "id": "hidden-expert",
   "metadata": {},
   "outputs": [
    {
     "data": {
      "text/html": [
       "<div>\n",
       "<style scoped>\n",
       "    .dataframe tbody tr th:only-of-type {\n",
       "        vertical-align: middle;\n",
       "    }\n",
       "\n",
       "    .dataframe tbody tr th {\n",
       "        vertical-align: top;\n",
       "    }\n",
       "\n",
       "    .dataframe thead th {\n",
       "        text-align: right;\n",
       "    }\n",
       "</style>\n",
       "<table border=\"1\" class=\"dataframe\">\n",
       "  <thead>\n",
       "    <tr style=\"text-align: right;\">\n",
       "      <th></th>\n",
       "      <th>delta</th>\n",
       "      <th>delta_max</th>\n",
       "      <th>delta_min</th>\n",
       "    </tr>\n",
       "    <tr>\n",
       "      <th>Date</th>\n",
       "      <th></th>\n",
       "      <th></th>\n",
       "      <th></th>\n",
       "    </tr>\n",
       "  </thead>\n",
       "  <tbody>\n",
       "    <tr>\n",
       "      <th>2018-01-08</th>\n",
       "      <td>0.017372</td>\n",
       "      <td>0.014665</td>\n",
       "      <td>-0.006958</td>\n",
       "    </tr>\n",
       "    <tr>\n",
       "      <th>2018-01-09</th>\n",
       "      <td>0.018558</td>\n",
       "      <td>0.016837</td>\n",
       "      <td>-0.005066</td>\n",
       "    </tr>\n",
       "    <tr>\n",
       "      <th>2018-01-10</th>\n",
       "      <td>0.012128</td>\n",
       "      <td>0.018124</td>\n",
       "      <td>-0.002670</td>\n",
       "    </tr>\n",
       "    <tr>\n",
       "      <th>2018-01-11</th>\n",
       "      <td>0.008746</td>\n",
       "      <td>0.012374</td>\n",
       "      <td>-0.001343</td>\n",
       "    </tr>\n",
       "    <tr>\n",
       "      <th>2018-01-12</th>\n",
       "      <td>0.005427</td>\n",
       "      <td>0.009319</td>\n",
       "      <td>-0.000297</td>\n",
       "    </tr>\n",
       "    <tr>\n",
       "      <th>...</th>\n",
       "      <td>...</td>\n",
       "      <td>...</td>\n",
       "      <td>...</td>\n",
       "    </tr>\n",
       "    <tr>\n",
       "      <th>2021-12-17</th>\n",
       "      <td>0.000000</td>\n",
       "      <td>0.001282</td>\n",
       "      <td>-0.017918</td>\n",
       "    </tr>\n",
       "    <tr>\n",
       "      <th>2021-12-17</th>\n",
       "      <td>0.000000</td>\n",
       "      <td>0.001282</td>\n",
       "      <td>-0.017918</td>\n",
       "    </tr>\n",
       "    <tr>\n",
       "      <th>2021-12-17</th>\n",
       "      <td>0.000000</td>\n",
       "      <td>0.001282</td>\n",
       "      <td>-0.017918</td>\n",
       "    </tr>\n",
       "    <tr>\n",
       "      <th>2021-12-17</th>\n",
       "      <td>0.000000</td>\n",
       "      <td>0.001282</td>\n",
       "      <td>-0.017918</td>\n",
       "    </tr>\n",
       "    <tr>\n",
       "      <th>2021-12-17</th>\n",
       "      <td>0.000000</td>\n",
       "      <td>0.001282</td>\n",
       "      <td>-0.017918</td>\n",
       "    </tr>\n",
       "  </tbody>\n",
       "</table>\n",
       "<p>996 rows × 3 columns</p>\n",
       "</div>"
      ],
      "text/plain": [
       "               delta  delta_max  delta_min\n",
       "Date                                      \n",
       "2018-01-08  0.017372   0.014665  -0.006958\n",
       "2018-01-09  0.018558   0.016837  -0.005066\n",
       "2018-01-10  0.012128   0.018124  -0.002670\n",
       "2018-01-11  0.008746   0.012374  -0.001343\n",
       "2018-01-12  0.005427   0.009319  -0.000297\n",
       "...              ...        ...        ...\n",
       "2021-12-17  0.000000   0.001282  -0.017918\n",
       "2021-12-17  0.000000   0.001282  -0.017918\n",
       "2021-12-17  0.000000   0.001282  -0.017918\n",
       "2021-12-17  0.000000   0.001282  -0.017918\n",
       "2021-12-17  0.000000   0.001282  -0.017918\n",
       "\n",
       "[996 rows x 3 columns]"
      ]
     },
     "execution_count": 23,
     "metadata": {},
     "output_type": "execute_result"
    }
   ],
   "source": [
    "delta_df = calculate_period_delta(underlying_df, 5)\n",
    "delta_df"
   ]
  },
  {
   "cell_type": "code",
   "execution_count": 24,
   "id": "equipped-phenomenon",
   "metadata": {},
   "outputs": [],
   "source": [
    "def evaluate_postions(options_data, underlying_period_delta, underlying_price, expected_rate=0.1):\n",
    "    # Separate out Call and Put option\n",
    "    ce_df = options_data[options_data['option_type']=='CE']\n",
    "    pe_df = options_data[options_data['option_type']=='PE']\n",
    "    \n",
    "    # Sort by Strike\n",
    "    ce_df = ce_df.sort_values('strike_price')\n",
    "    pe_df = pe_df.sort_values('strike_price')\n",
    "    \n",
    "\n",
    "    # Maximum Change required to break even on position\n",
    "    ce_df['change_breakeven'] = ((ce_df['strike_price'] + ce_df['avg_price'] - underlying_price)/underlying_price).values\n",
    "    pe_df['change_breakeven'] = ((pe_df['strike_price'] - pe_df['avg_price'] - underlying_price)/underlying_price).values\n",
    "\n",
    "    # Change percent required to close ITM\n",
    "    ce_df['change_itm'] = ((ce_df['strike_price'] - underlying_price)/underlying_price).values\n",
    "    pe_df['change_itm'] = ((pe_df['strike_price'] - underlying_price)/underlying_price).values\n",
    "\n",
    "    # Position cost per lot\n",
    "    ce_df['position_cost'] = ce_df['qty']*ce_df['avg_price']\n",
    "    pe_df['position_cost'] = pe_df['qty']*pe_df['avg_price']\n",
    "    \n",
    "    \n",
    "    delta_mean = underlying_period_delta['delta'].mean()\n",
    "    delta_std = underlying_period_delta['delta'].std()\n",
    "    \n",
    "    # Calculate underlying price after sigma change in either direction\n",
    "    sigma_high = underlying_price*(1+delta_mean+delta_std)\n",
    "    sigma_low = underlying_price*(1+delta_mean-delta_std)\n",
    "    \n",
    "    # Profits when underlying expires at mean +/- std\n",
    "    ce_df['sigma_returns'] = ce_df['qty']*(sigma_high - ce_df['strike_price'])\n",
    "    pe_df['sigma_returns'] = pe_df['qty']*(pe_df['strike_price'] - sigma_low)\n",
    "    \n",
    "    # Probabilty of breaking even within the period due to volatility\n",
    "    pe_df['p_volatility_breakeven'] = pe_df.change_breakeven.apply(lambda x:  (underlying_period_delta.delta_min<x).mean())\n",
    "    ce_df['p_volatility_breakeven'] = ce_df.change_breakeven.apply(lambda x:  (underlying_period_delta.delta_max>x).mean())\n",
    "    \n",
    "    # Probability of closing in the money at expiry\n",
    "    pe_df['p_expiry_itm'] = pe_df.change_itm.apply(lambda x:  (x>underlying_period_delta.delta).mean())\n",
    "    ce_df['p_expiry_itm'] = ce_df.change_itm.apply(lambda x:  (x<underlying_period_delta.delta).mean())\n",
    "    \n",
    "    # Probability of breaking even at expiry\n",
    "    pe_df['p_expiry_breakeven'] = pe_df.change_breakeven.apply(lambda x:  (x>underlying_period_delta.delta).mean())\n",
    "    ce_df['p_expiry_breakeven'] = ce_df.change_breakeven.apply(lambda x:  (x<underlying_period_delta.delta).mean()) \n",
    "    \n",
    "    \n",
    "    return ce_df, pe_df\n"
   ]
  },
  {
   "cell_type": "code",
   "execution_count": 25,
   "id": "saving-realtor",
   "metadata": {},
   "outputs": [],
   "source": [
    "def generate_pairs(pe_positions, ce_positions, fitler_sigma=True, brokerage=20):\n",
    "    \n",
    "    # Convert to dict for easier iteration\n",
    "    pe_positions = pe_positions.to_dict(orient='records')\n",
    "    ce_positions = ce_positions.to_dict(orient='records')\n",
    "    \n",
    "    position_pairs = []\n",
    "\n",
    "    for pe_position in pe_positions:\n",
    "\n",
    "        if pe_position['sigma_returns'] <= 0 & fitler_sigma:\n",
    "            continue\n",
    "        for ce_position in ce_positions:\n",
    "            if ce_position['sigma_returns'] <= 0 & fitler_sigma:\n",
    "                continue\n",
    "\n",
    "#             pair_cost = pe_position['position_cost'] + ce_position['position_cost']\n",
    "            position_pair = {'pair': pe_position['underlying']+str(pe_position['strike_price'])+pe_position['option_type']+'-'+ce_position['underlying']+str(ce_position['strike_price'])+ce_position['option_type']}\n",
    "            \n",
    "            position_pair['pe_price'] = pe_position['last_price']\n",
    "            position_pair['ce_price'] = ce_position['last_price']\n",
    "            position_pair['pe_buy_price'] = pe_position['avg_price']\n",
    "            position_pair['ce_buy_price'] = ce_position['avg_price']\n",
    "            position_pair['capital_not_breakeven_probability'] = (1-pe_position['p_volatility_breakeven'])*(1-ce_position['p_volatility_breakeven'])\n",
    "            position_pair['pe_strike_price'] = pe_position['strike_price']\n",
    "            position_pair['ce_strike_price'] = ce_position['strike_price']\n",
    "            position_pair['spread'] = ce_position['strike_price'] - pe_position['strike_price']\n",
    "            position_pair['pe_probability_itm'] = pe_position['p_expiry_itm']\n",
    "            position_pair['ce_probability_itm'] = ce_position['p_expiry_itm']\n",
    "            position_pair['pair_otm_probability'] = (1-ce_position['p_expiry_itm'])*(1-pe_position['p_expiry_itm'])\n",
    "            position_pair['lot_size'] = pe_position['lot_size']\n",
    "            \n",
    "            position_pairs.append(position_pair)\n",
    "\n",
    "\n",
    "    position_pairs_df = pd.DataFrame(position_pairs)\n",
    "    position_pairs_df['current_value'] = (position_pairs_df.ce_price+position_pairs_df.pe_price)*position_pairs_df.lot_size\n",
    "    position_pairs_df['cost'] = (position_pairs_df.pe_buy_price+position_pairs_df.pe_buy_price)*position_pairs_df.lot_size + brokerage*4 # 4x brokerage because we're accounting for the selling brokerage as well\n",
    "    \n",
    "    return position_pairs_df\n",
    "    \n",
    "    \n"
   ]
  },
  {
   "cell_type": "code",
   "execution_count": 26,
   "id": "motivated-dynamics",
   "metadata": {},
   "outputs": [
    {
     "data": {
      "text/html": [
       "<div>\n",
       "<style scoped>\n",
       "    .dataframe tbody tr th:only-of-type {\n",
       "        vertical-align: middle;\n",
       "    }\n",
       "\n",
       "    .dataframe tbody tr th {\n",
       "        vertical-align: top;\n",
       "    }\n",
       "\n",
       "    .dataframe thead th {\n",
       "        text-align: right;\n",
       "    }\n",
       "</style>\n",
       "<table border=\"1\" class=\"dataframe\">\n",
       "  <thead>\n",
       "    <tr style=\"text-align: right;\">\n",
       "      <th></th>\n",
       "      <th>underlying</th>\n",
       "      <th>strike_price</th>\n",
       "      <th>expiry</th>\n",
       "      <th>option_type</th>\n",
       "      <th>option_id</th>\n",
       "      <th>qty</th>\n",
       "      <th>cost</th>\n",
       "      <th>avg_price</th>\n",
       "      <th>lot_size</th>\n",
       "      <th>last_price</th>\n",
       "      <th>value</th>\n",
       "    </tr>\n",
       "  </thead>\n",
       "  <tbody>\n",
       "    <tr>\n",
       "      <th>0</th>\n",
       "      <td>NIFTY</td>\n",
       "      <td>17050.0</td>\n",
       "      <td>2021-12-30</td>\n",
       "      <td>CE</td>\n",
       "      <td>NIFTY17050CE_30-Dec</td>\n",
       "      <td>50.0</td>\n",
       "      <td>9750.0</td>\n",
       "      <td>195.0</td>\n",
       "      <td>50</td>\n",
       "      <td>47.50</td>\n",
       "      <td>2375.0</td>\n",
       "    </tr>\n",
       "    <tr>\n",
       "      <th>3</th>\n",
       "      <td>NIFTY</td>\n",
       "      <td>16950.0</td>\n",
       "      <td>2021-12-30</td>\n",
       "      <td>PE</td>\n",
       "      <td>NIFTY16950PE_30-Dec</td>\n",
       "      <td>50.0</td>\n",
       "      <td>8575.0</td>\n",
       "      <td>171.5</td>\n",
       "      <td>50</td>\n",
       "      <td>391.15</td>\n",
       "      <td>19557.5</td>\n",
       "    </tr>\n",
       "  </tbody>\n",
       "</table>\n",
       "</div>"
      ],
      "text/plain": [
       "  underlying  strike_price     expiry option_type            option_id   qty  \\\n",
       "0      NIFTY       17050.0 2021-12-30          CE  NIFTY17050CE_30-Dec  50.0   \n",
       "3      NIFTY       16950.0 2021-12-30          PE  NIFTY16950PE_30-Dec  50.0   \n",
       "\n",
       "     cost  avg_price  lot_size  last_price    value  \n",
       "0  9750.0      195.0        50       47.50   2375.0  \n",
       "3  8575.0      171.5        50      391.15  19557.5  "
      ]
     },
     "execution_count": 26,
     "metadata": {},
     "output_type": "execute_result"
    }
   ],
   "source": [
    "position_group"
   ]
  },
  {
   "cell_type": "code",
   "execution_count": 34,
   "id": "fundamental-exposure",
   "metadata": {},
   "outputs": [],
   "source": [
    "ce_positions, pe_positions = evaluate_postions(position_group, delta_df, underlying_price=16600)"
   ]
  },
  {
   "cell_type": "code",
   "execution_count": 35,
   "id": "continuous-missile",
   "metadata": {},
   "outputs": [
    {
     "data": {
      "text/html": [
       "<div>\n",
       "<style scoped>\n",
       "    .dataframe tbody tr th:only-of-type {\n",
       "        vertical-align: middle;\n",
       "    }\n",
       "\n",
       "    .dataframe tbody tr th {\n",
       "        vertical-align: top;\n",
       "    }\n",
       "\n",
       "    .dataframe thead th {\n",
       "        text-align: right;\n",
       "    }\n",
       "</style>\n",
       "<table border=\"1\" class=\"dataframe\">\n",
       "  <thead>\n",
       "    <tr style=\"text-align: right;\">\n",
       "      <th></th>\n",
       "      <th>underlying</th>\n",
       "      <th>strike_price</th>\n",
       "      <th>expiry</th>\n",
       "      <th>option_type</th>\n",
       "      <th>option_id</th>\n",
       "      <th>qty</th>\n",
       "      <th>cost</th>\n",
       "      <th>avg_price</th>\n",
       "      <th>lot_size</th>\n",
       "      <th>last_price</th>\n",
       "      <th>value</th>\n",
       "      <th>change_breakeven</th>\n",
       "      <th>change_itm</th>\n",
       "      <th>position_cost</th>\n",
       "      <th>sigma_returns</th>\n",
       "      <th>p_volatility_breakeven</th>\n",
       "      <th>p_expiry_itm</th>\n",
       "      <th>p_expiry_breakeven</th>\n",
       "    </tr>\n",
       "  </thead>\n",
       "  <tbody>\n",
       "    <tr>\n",
       "      <th>3</th>\n",
       "      <td>NIFTY</td>\n",
       "      <td>16950.0</td>\n",
       "      <td>2021-12-30</td>\n",
       "      <td>PE</td>\n",
       "      <td>NIFTY16950PE_30-Dec</td>\n",
       "      <td>50.0</td>\n",
       "      <td>8575.0</td>\n",
       "      <td>171.5</td>\n",
       "      <td>50</td>\n",
       "      <td>391.15</td>\n",
       "      <td>19557.5</td>\n",
       "      <td>0.010753</td>\n",
       "      <td>0.021084</td>\n",
       "      <td>8575.0</td>\n",
       "      <td>35760.947905</td>\n",
       "      <td>1.0</td>\n",
       "      <td>0.860442</td>\n",
       "      <td>0.662651</td>\n",
       "    </tr>\n",
       "  </tbody>\n",
       "</table>\n",
       "</div>"
      ],
      "text/plain": [
       "  underlying  strike_price     expiry option_type            option_id   qty  \\\n",
       "3      NIFTY       16950.0 2021-12-30          PE  NIFTY16950PE_30-Dec  50.0   \n",
       "\n",
       "     cost  avg_price  lot_size  last_price    value  change_breakeven  \\\n",
       "3  8575.0      171.5        50      391.15  19557.5          0.010753   \n",
       "\n",
       "   change_itm  position_cost  sigma_returns  p_volatility_breakeven  \\\n",
       "3    0.021084         8575.0   35760.947905                     1.0   \n",
       "\n",
       "   p_expiry_itm  p_expiry_breakeven  \n",
       "3      0.860442            0.662651  "
      ]
     },
     "execution_count": 35,
     "metadata": {},
     "output_type": "execute_result"
    }
   ],
   "source": [
    "pe_positions"
   ]
  },
  {
   "cell_type": "code",
   "execution_count": 36,
   "id": "lesbian-preserve",
   "metadata": {},
   "outputs": [
    {
     "data": {
      "text/html": [
       "<div>\n",
       "<style scoped>\n",
       "    .dataframe tbody tr th:only-of-type {\n",
       "        vertical-align: middle;\n",
       "    }\n",
       "\n",
       "    .dataframe tbody tr th {\n",
       "        vertical-align: top;\n",
       "    }\n",
       "\n",
       "    .dataframe thead th {\n",
       "        text-align: right;\n",
       "    }\n",
       "</style>\n",
       "<table border=\"1\" class=\"dataframe\">\n",
       "  <thead>\n",
       "    <tr style=\"text-align: right;\">\n",
       "      <th></th>\n",
       "      <th>underlying</th>\n",
       "      <th>strike_price</th>\n",
       "      <th>expiry</th>\n",
       "      <th>option_type</th>\n",
       "      <th>option_id</th>\n",
       "      <th>qty</th>\n",
       "      <th>cost</th>\n",
       "      <th>avg_price</th>\n",
       "      <th>lot_size</th>\n",
       "      <th>last_price</th>\n",
       "      <th>value</th>\n",
       "      <th>change_breakeven</th>\n",
       "      <th>change_itm</th>\n",
       "      <th>position_cost</th>\n",
       "      <th>sigma_returns</th>\n",
       "      <th>p_volatility_breakeven</th>\n",
       "      <th>p_expiry_itm</th>\n",
       "      <th>p_expiry_breakeven</th>\n",
       "    </tr>\n",
       "  </thead>\n",
       "  <tbody>\n",
       "    <tr>\n",
       "      <th>0</th>\n",
       "      <td>NIFTY</td>\n",
       "      <td>17050.0</td>\n",
       "      <td>2021-12-30</td>\n",
       "      <td>CE</td>\n",
       "      <td>NIFTY17050CE_30-Dec</td>\n",
       "      <td>50.0</td>\n",
       "      <td>9750.0</td>\n",
       "      <td>195.0</td>\n",
       "      <td>50</td>\n",
       "      <td>47.5</td>\n",
       "      <td>2375.0</td>\n",
       "      <td>0.038855</td>\n",
       "      <td>0.027108</td>\n",
       "      <td>9750.0</td>\n",
       "      <td>-525.717387</td>\n",
       "      <td>0.073293</td>\n",
       "      <td>0.082329</td>\n",
       "      <td>0.038153</td>\n",
       "    </tr>\n",
       "  </tbody>\n",
       "</table>\n",
       "</div>"
      ],
      "text/plain": [
       "  underlying  strike_price     expiry option_type            option_id   qty  \\\n",
       "0      NIFTY       17050.0 2021-12-30          CE  NIFTY17050CE_30-Dec  50.0   \n",
       "\n",
       "     cost  avg_price  lot_size  last_price   value  change_breakeven  \\\n",
       "0  9750.0      195.0        50        47.5  2375.0          0.038855   \n",
       "\n",
       "   change_itm  position_cost  sigma_returns  p_volatility_breakeven  \\\n",
       "0    0.027108         9750.0    -525.717387                0.073293   \n",
       "\n",
       "   p_expiry_itm  p_expiry_breakeven  \n",
       "0      0.082329            0.038153  "
      ]
     },
     "execution_count": 36,
     "metadata": {},
     "output_type": "execute_result"
    }
   ],
   "source": [
    "ce_positions"
   ]
  },
  {
   "cell_type": "code",
   "execution_count": 30,
   "id": "acquired-checkout",
   "metadata": {},
   "outputs": [],
   "source": [
    "position_pairs_df = generate_pairs(pe_positions, ce_positions)"
   ]
  },
  {
   "cell_type": "code",
   "execution_count": 31,
   "id": "protected-heritage",
   "metadata": {},
   "outputs": [
    {
     "data": {
      "text/html": [
       "<div>\n",
       "<style scoped>\n",
       "    .dataframe tbody tr th:only-of-type {\n",
       "        vertical-align: middle;\n",
       "    }\n",
       "\n",
       "    .dataframe tbody tr th {\n",
       "        vertical-align: top;\n",
       "    }\n",
       "\n",
       "    .dataframe thead th {\n",
       "        text-align: right;\n",
       "    }\n",
       "</style>\n",
       "<table border=\"1\" class=\"dataframe\">\n",
       "  <thead>\n",
       "    <tr style=\"text-align: right;\">\n",
       "      <th></th>\n",
       "      <th>pair</th>\n",
       "      <th>pe_price</th>\n",
       "      <th>ce_price</th>\n",
       "      <th>pe_buy_price</th>\n",
       "      <th>ce_buy_price</th>\n",
       "      <th>capital_not_breakeven_probability</th>\n",
       "      <th>pe_strike_price</th>\n",
       "      <th>ce_strike_price</th>\n",
       "      <th>spread</th>\n",
       "      <th>pe_probability_itm</th>\n",
       "      <th>...</th>\n",
       "      <th>pair_otm_probability</th>\n",
       "      <th>lot_size</th>\n",
       "      <th>current_value</th>\n",
       "      <th>cost</th>\n",
       "      <th>target</th>\n",
       "      <th>pe_breakeven_change</th>\n",
       "      <th>ce_breakeven_change</th>\n",
       "      <th>pe_breakeven_probability</th>\n",
       "      <th>ce_breakeven_probability</th>\n",
       "      <th>pair_not_breakeven_probability</th>\n",
       "    </tr>\n",
       "  </thead>\n",
       "  <tbody>\n",
       "    <tr>\n",
       "      <th>0</th>\n",
       "      <td>NIFTY16950.0PE-NIFTY17050.0CE</td>\n",
       "      <td>391.15</td>\n",
       "      <td>47.5</td>\n",
       "      <td>171.5</td>\n",
       "      <td>195.0</td>\n",
       "      <td>0.012081</td>\n",
       "      <td>16950.0</td>\n",
       "      <td>17050.0</td>\n",
       "      <td>100.0</td>\n",
       "      <td>0.15261</td>\n",
       "      <td>...</td>\n",
       "      <td>0.189727</td>\n",
       "      <td>50</td>\n",
       "      <td>21932.5</td>\n",
       "      <td>17230.0</td>\n",
       "      <td>361.83</td>\n",
       "      <td>-656.83</td>\n",
       "      <td>166.83</td>\n",
       "      <td>0.100402</td>\n",
       "      <td>0.564257</td>\n",
       "      <td>0.391994</td>\n",
       "    </tr>\n",
       "  </tbody>\n",
       "</table>\n",
       "<p>1 rows × 21 columns</p>\n",
       "</div>"
      ],
      "text/plain": [
       "                            pair  pe_price  ce_price  pe_buy_price  \\\n",
       "0  NIFTY16950.0PE-NIFTY17050.0CE    391.15      47.5         171.5   \n",
       "\n",
       "   ce_buy_price  capital_not_breakeven_probability  pe_strike_price  \\\n",
       "0         195.0                           0.012081          16950.0   \n",
       "\n",
       "   ce_strike_price  spread  pe_probability_itm  ...  pair_otm_probability  \\\n",
       "0          17050.0   100.0             0.15261  ...              0.189727   \n",
       "\n",
       "   lot_size  current_value     cost  target  pe_breakeven_change  \\\n",
       "0        50        21932.5  17230.0  361.83              -656.83   \n",
       "\n",
       "   ce_breakeven_change  pe_breakeven_probability  ce_breakeven_probability  \\\n",
       "0               166.83                  0.100402                  0.564257   \n",
       "\n",
       "   pair_not_breakeven_probability  \n",
       "0                        0.391994  \n",
       "\n",
       "[1 rows x 21 columns]"
      ]
     },
     "execution_count": 31,
     "metadata": {},
     "output_type": "execute_result"
    }
   ],
   "source": [
    "evaluate_pairs(position_pairs_df, underlying_close=, delta_df=delta_df)"
   ]
  },
  {
   "cell_type": "code",
   "execution_count": 21,
   "id": "complicated-association",
   "metadata": {},
   "outputs": [
    {
     "data": {
      "text/plain": [
       "101323.75"
      ]
     },
     "execution_count": 21,
     "metadata": {},
     "output_type": "execute_result"
    }
   ],
   "source": [
    "positions_df.cost.sum()"
   ]
  },
  {
   "cell_type": "code",
   "execution_count": 192,
   "id": "alpha-collection",
   "metadata": {},
   "outputs": [],
   "source": [
    "resp = nsepy.get_history(contract.instrument, start=today - dt.timedelta(days=4), end=today, index=True)"
   ]
  },
  {
   "cell_type": "code",
   "execution_count": 195,
   "id": "institutional-disposition",
   "metadata": {},
   "outputs": [
    {
     "data": {
      "text/plain": [
       "Open        1.742490e+04\n",
       "High        1.748980e+04\n",
       "Low         1.718080e+04\n",
       "Close       1.719670e+04\n",
       "Volume      2.925265e+08\n",
       "Turnover    2.310057e+11\n",
       "Name: 2021-12-03, dtype: float64"
      ]
     },
     "execution_count": 195,
     "metadata": {},
     "output_type": "execute_result"
    }
   ],
   "source": [
    "resp.iloc[-1]"
   ]
  },
  {
   "cell_type": "code",
   "execution_count": 180,
   "id": "synthetic-relay",
   "metadata": {},
   "outputs": [
    {
     "data": {
      "text/plain": [
       "{'valid': 'false',\n",
       " 'tradedDate': '03DEC2021',\n",
       " 'eqLink': '',\n",
       " 'data': [{}],\n",
       " 'companyName': 'Nifty 50',\n",
       " 'lastUpdateTime': '03-DEC-2021 15:30:27',\n",
       " 'isinCode': None,\n",
       " 'ocLink': '/marketinfo/sym_map/symbolMapping.jsp?symbol=NIFTY&instrument=-&date=-&segmentLink=17&symbolCount=2'}"
      ]
     },
     "execution_count": 180,
     "metadata": {},
     "output_type": "execute_result"
    }
   ],
   "source": [
    "nsepy.get_quote(symbol=contract['instrument'], series='EQ', instrument='FUTIDX', expiry=contract.expiry)"
   ]
  },
  {
   "cell_type": "markdown",
   "id": "engaging-halifax",
   "metadata": {},
   "source": [
    "### Recommend Pairs taking Avg Price into account"
   ]
  },
  {
   "cell_type": "code",
   "execution_count": 45,
   "id": "sapphire-topic",
   "metadata": {},
   "outputs": [
    {
     "data": {
      "text/html": [
       "<div>\n",
       "<style scoped>\n",
       "    .dataframe tbody tr th:only-of-type {\n",
       "        vertical-align: middle;\n",
       "    }\n",
       "\n",
       "    .dataframe tbody tr th {\n",
       "        vertical-align: top;\n",
       "    }\n",
       "\n",
       "    .dataframe thead th {\n",
       "        text-align: right;\n",
       "    }\n",
       "</style>\n",
       "<table border=\"1\" class=\"dataframe\">\n",
       "  <thead>\n",
       "    <tr style=\"text-align: right;\">\n",
       "      <th></th>\n",
       "      <th>underlying</th>\n",
       "      <th>strike_price</th>\n",
       "      <th>expiry</th>\n",
       "      <th>option_type</th>\n",
       "      <th>option_id</th>\n",
       "      <th>qty</th>\n",
       "      <th>cost</th>\n",
       "      <th>avg_price</th>\n",
       "      <th>lot_size</th>\n",
       "      <th>last_price</th>\n",
       "      <th>value</th>\n",
       "    </tr>\n",
       "  </thead>\n",
       "  <tbody>\n",
       "    <tr>\n",
       "      <th>0</th>\n",
       "      <td>NIFTY</td>\n",
       "      <td>17050.0</td>\n",
       "      <td>2021-12-30</td>\n",
       "      <td>CE</td>\n",
       "      <td>NIFTY17050CE_30-Dec</td>\n",
       "      <td>50.0</td>\n",
       "      <td>9750.0</td>\n",
       "      <td>195.0</td>\n",
       "      <td>50</td>\n",
       "      <td>47.50</td>\n",
       "      <td>2375.0</td>\n",
       "    </tr>\n",
       "    <tr>\n",
       "      <th>3</th>\n",
       "      <td>NIFTY</td>\n",
       "      <td>16950.0</td>\n",
       "      <td>2021-12-30</td>\n",
       "      <td>PE</td>\n",
       "      <td>NIFTY16950PE_30-Dec</td>\n",
       "      <td>50.0</td>\n",
       "      <td>8575.0</td>\n",
       "      <td>171.5</td>\n",
       "      <td>50</td>\n",
       "      <td>391.15</td>\n",
       "      <td>19557.5</td>\n",
       "    </tr>\n",
       "  </tbody>\n",
       "</table>\n",
       "</div>"
      ],
      "text/plain": [
       "  underlying  strike_price     expiry option_type            option_id   qty  \\\n",
       "0      NIFTY       17050.0 2021-12-30          CE  NIFTY17050CE_30-Dec  50.0   \n",
       "3      NIFTY       16950.0 2021-12-30          PE  NIFTY16950PE_30-Dec  50.0   \n",
       "\n",
       "     cost  avg_price  lot_size  last_price    value  \n",
       "0  9750.0      195.0        50       47.50   2375.0  \n",
       "3  8575.0      171.5        50      391.15  19557.5  "
      ]
     },
     "execution_count": 45,
     "metadata": {},
     "output_type": "execute_result"
    }
   ],
   "source": [
    "positions_df"
   ]
  },
  {
   "cell_type": "code",
   "execution_count": 50,
   "id": "little-friend",
   "metadata": {},
   "outputs": [],
   "source": [
    "for underlying in positions_df.underlying.unique():\n",
    "    options_df, _ = nse_load_options(underlying=underlying)\n",
    "    underlying_positions = positions_df[positions_df['underlying']==underlying]\n",
    "    "
   ]
  },
  {
   "cell_type": "code",
   "execution_count": 81,
   "id": "controlling-mambo",
   "metadata": {},
   "outputs": [],
   "source": [
    "for expiry in underlying_positions.expiry.unique():\n",
    "    options_expiry_df = options_df[(options_df['Symbol']==underlying) & (options_df['Expiry']==expiry)].copy()\n",
    "    options_expiry_df['avg_price'] = options_expiry_df['Close']\n",
    "    underlying_expiry_positions = underlying_positions[underlying_positions['expiry']==expiry]\n",
    "    \n",
    "    underlying_expiry_positions.ex"
   ]
  },
  {
   "cell_type": "code",
   "execution_count": 78,
   "id": "designing-personality",
   "metadata": {},
   "outputs": [
    {
     "data": {
      "text/plain": [
       "468    391.15\n",
       "Name: Close, dtype: float64"
      ]
     },
     "execution_count": 78,
     "metadata": {},
     "output_type": "execute_result"
    }
   ],
   "source": [
    "options_df"
   ]
  },
  {
   "cell_type": "code",
   "execution_count": 82,
   "id": "subject-converter",
   "metadata": {},
   "outputs": [
    {
     "name": "stdout",
     "output_type": "stream",
     "text": [
      "17050.0 47.5 121.25\n",
      "16950.0 391.15 281.325\n"
     ]
    }
   ],
   "source": [
    "for ix, position in underlying_expiry_positions[['strike_price', 'qty', 'avg_price', 'lot_size']].iterrows():\n",
    "    last_price = options_expiry_df.loc[options_expiry_df['Strike Price']==position['strike_price'], 'Close'].values[0]\n",
    "    avg_price = (last_price*position['lot_size'] + position['avg_price']*position['qty'])/(position['lot_size']+position['qty'])\n",
    "    options_expiry_df.loc[options_expiry_df['Strike Price']==position['strike_price'], 'avg_price'] = avg_price\n",
    "    print(position['strike_price'], last_price, avg_price)"
   ]
  },
  {
   "cell_type": "code",
   "execution_count": 83,
   "id": "suburban-miami",
   "metadata": {},
   "outputs": [
    {
     "data": {
      "text/html": [
       "<div>\n",
       "<style scoped>\n",
       "    .dataframe tbody tr th:only-of-type {\n",
       "        vertical-align: middle;\n",
       "    }\n",
       "\n",
       "    .dataframe tbody tr th {\n",
       "        vertical-align: top;\n",
       "    }\n",
       "\n",
       "    .dataframe thead th {\n",
       "        text-align: right;\n",
       "    }\n",
       "</style>\n",
       "<table border=\"1\" class=\"dataframe\">\n",
       "  <thead>\n",
       "    <tr style=\"text-align: right;\">\n",
       "      <th></th>\n",
       "      <th>Strike Price</th>\n",
       "      <th>Expiry</th>\n",
       "      <th>Option Type</th>\n",
       "      <th>Symbol</th>\n",
       "      <th>identifier</th>\n",
       "      <th>Open Interest</th>\n",
       "      <th>Change in OI</th>\n",
       "      <th>Change % in OI</th>\n",
       "      <th>Number of Contracts</th>\n",
       "      <th>impliedVolatility</th>\n",
       "      <th>...</th>\n",
       "      <th>Change</th>\n",
       "      <th>Change %</th>\n",
       "      <th>totalBuyQuantity</th>\n",
       "      <th>totalSellQuantity</th>\n",
       "      <th>bidQty</th>\n",
       "      <th>bidprice</th>\n",
       "      <th>askQty</th>\n",
       "      <th>askPrice</th>\n",
       "      <th>Underlying</th>\n",
       "      <th>avg_price</th>\n",
       "    </tr>\n",
       "  </thead>\n",
       "  <tbody>\n",
       "    <tr>\n",
       "      <th>1</th>\n",
       "      <td>8000</td>\n",
       "      <td>2021-12-30</td>\n",
       "      <td>PE</td>\n",
       "      <td>NIFTY</td>\n",
       "      <td>OPTIDXNIFTY30-12-2021PE8000.00</td>\n",
       "      <td>1648.0</td>\n",
       "      <td>153.0</td>\n",
       "      <td>10.234114</td>\n",
       "      <td>587</td>\n",
       "      <td>149.23</td>\n",
       "      <td>...</td>\n",
       "      <td>0.30</td>\n",
       "      <td>33.333333</td>\n",
       "      <td>56450</td>\n",
       "      <td>23750</td>\n",
       "      <td>600</td>\n",
       "      <td>1.15</td>\n",
       "      <td>1200</td>\n",
       "      <td>1.20</td>\n",
       "      <td>16614.2</td>\n",
       "      <td>1.20</td>\n",
       "    </tr>\n",
       "    <tr>\n",
       "      <th>3</th>\n",
       "      <td>8500</td>\n",
       "      <td>2021-12-30</td>\n",
       "      <td>PE</td>\n",
       "      <td>NIFTY</td>\n",
       "      <td>OPTIDXNIFTY30-12-2021PE8500.00</td>\n",
       "      <td>222.5</td>\n",
       "      <td>19.0</td>\n",
       "      <td>9.336609</td>\n",
       "      <td>87</td>\n",
       "      <td>139.91</td>\n",
       "      <td>...</td>\n",
       "      <td>-1.05</td>\n",
       "      <td>-42.000000</td>\n",
       "      <td>17100</td>\n",
       "      <td>13600</td>\n",
       "      <td>100</td>\n",
       "      <td>1.30</td>\n",
       "      <td>2900</td>\n",
       "      <td>1.45</td>\n",
       "      <td>16614.2</td>\n",
       "      <td>1.45</td>\n",
       "    </tr>\n",
       "    <tr>\n",
       "      <th>8</th>\n",
       "      <td>9000</td>\n",
       "      <td>2021-12-30</td>\n",
       "      <td>CE</td>\n",
       "      <td>NIFTY</td>\n",
       "      <td>OPTIDXNIFTY30-12-2021CE9000.00</td>\n",
       "      <td>144.5</td>\n",
       "      <td>0.0</td>\n",
       "      <td>0.000000</td>\n",
       "      <td>1</td>\n",
       "      <td>0.00</td>\n",
       "      <td>...</td>\n",
       "      <td>-495.00</td>\n",
       "      <td>-6.145251</td>\n",
       "      <td>7100</td>\n",
       "      <td>7100</td>\n",
       "      <td>100</td>\n",
       "      <td>7531.50</td>\n",
       "      <td>100</td>\n",
       "      <td>7675.90</td>\n",
       "      <td>16614.2</td>\n",
       "      <td>7560.00</td>\n",
       "    </tr>\n",
       "    <tr>\n",
       "      <th>9</th>\n",
       "      <td>9100</td>\n",
       "      <td>2021-12-30</td>\n",
       "      <td>PE</td>\n",
       "      <td>NIFTY</td>\n",
       "      <td>OPTIDXNIFTY30-12-2021PE9100.00</td>\n",
       "      <td>280.5</td>\n",
       "      <td>0.0</td>\n",
       "      <td>0.000000</td>\n",
       "      <td>0</td>\n",
       "      <td>0.00</td>\n",
       "      <td>...</td>\n",
       "      <td>0.00</td>\n",
       "      <td>0.000000</td>\n",
       "      <td>150</td>\n",
       "      <td>0</td>\n",
       "      <td>150</td>\n",
       "      <td>0.10</td>\n",
       "      <td>0</td>\n",
       "      <td>0.00</td>\n",
       "      <td>16614.2</td>\n",
       "      <td>410.00</td>\n",
       "    </tr>\n",
       "    <tr>\n",
       "      <th>10</th>\n",
       "      <td>9200</td>\n",
       "      <td>2021-12-30</td>\n",
       "      <td>PE</td>\n",
       "      <td>NIFTY</td>\n",
       "      <td>OPTIDXNIFTY30-12-2021PE9200.00</td>\n",
       "      <td>112.5</td>\n",
       "      <td>0.0</td>\n",
       "      <td>0.000000</td>\n",
       "      <td>0</td>\n",
       "      <td>0.00</td>\n",
       "      <td>...</td>\n",
       "      <td>0.00</td>\n",
       "      <td>0.000000</td>\n",
       "      <td>150</td>\n",
       "      <td>0</td>\n",
       "      <td>150</td>\n",
       "      <td>0.10</td>\n",
       "      <td>0</td>\n",
       "      <td>0.00</td>\n",
       "      <td>16614.2</td>\n",
       "      <td>3.10</td>\n",
       "    </tr>\n",
       "    <tr>\n",
       "      <th>...</th>\n",
       "      <td>...</td>\n",
       "      <td>...</td>\n",
       "      <td>...</td>\n",
       "      <td>...</td>\n",
       "      <td>...</td>\n",
       "      <td>...</td>\n",
       "      <td>...</td>\n",
       "      <td>...</td>\n",
       "      <td>...</td>\n",
       "      <td>...</td>\n",
       "      <td>...</td>\n",
       "      <td>...</td>\n",
       "      <td>...</td>\n",
       "      <td>...</td>\n",
       "      <td>...</td>\n",
       "      <td>...</td>\n",
       "      <td>...</td>\n",
       "      <td>...</td>\n",
       "      <td>...</td>\n",
       "      <td>...</td>\n",
       "      <td>...</td>\n",
       "    </tr>\n",
       "    <tr>\n",
       "      <th>985</th>\n",
       "      <td>19850</td>\n",
       "      <td>2021-12-30</td>\n",
       "      <td>PE</td>\n",
       "      <td>NIFTY</td>\n",
       "      <td>OPTIDXNIFTY30-12-2021PE19850.00</td>\n",
       "      <td>3.0</td>\n",
       "      <td>0.0</td>\n",
       "      <td>0.000000</td>\n",
       "      <td>0</td>\n",
       "      <td>0.00</td>\n",
       "      <td>...</td>\n",
       "      <td>0.00</td>\n",
       "      <td>0.000000</td>\n",
       "      <td>7200</td>\n",
       "      <td>4100</td>\n",
       "      <td>650</td>\n",
       "      <td>3147.00</td>\n",
       "      <td>350</td>\n",
       "      <td>3459.50</td>\n",
       "      <td>16614.2</td>\n",
       "      <td>2655.35</td>\n",
       "    </tr>\n",
       "    <tr>\n",
       "      <th>986</th>\n",
       "      <td>19900</td>\n",
       "      <td>2021-12-30</td>\n",
       "      <td>CE</td>\n",
       "      <td>NIFTY</td>\n",
       "      <td>OPTIDXNIFTY30-12-2021CE19900.00</td>\n",
       "      <td>345.0</td>\n",
       "      <td>-20.0</td>\n",
       "      <td>-5.479452</td>\n",
       "      <td>118</td>\n",
       "      <td>42.98</td>\n",
       "      <td>...</td>\n",
       "      <td>0.05</td>\n",
       "      <td>1.960784</td>\n",
       "      <td>99000</td>\n",
       "      <td>6050</td>\n",
       "      <td>550</td>\n",
       "      <td>2.60</td>\n",
       "      <td>50</td>\n",
       "      <td>2.80</td>\n",
       "      <td>16614.2</td>\n",
       "      <td>2.60</td>\n",
       "    </tr>\n",
       "    <tr>\n",
       "      <th>987</th>\n",
       "      <td>19950</td>\n",
       "      <td>2021-12-30</td>\n",
       "      <td>PE</td>\n",
       "      <td>NIFTY</td>\n",
       "      <td>OPTIDXNIFTY30-12-2021PE19950.00</td>\n",
       "      <td>1.0</td>\n",
       "      <td>0.0</td>\n",
       "      <td>0.000000</td>\n",
       "      <td>0</td>\n",
       "      <td>0.00</td>\n",
       "      <td>...</td>\n",
       "      <td>0.00</td>\n",
       "      <td>0.000000</td>\n",
       "      <td>5600</td>\n",
       "      <td>4450</td>\n",
       "      <td>1850</td>\n",
       "      <td>3222.95</td>\n",
       "      <td>1000</td>\n",
       "      <td>3653.15</td>\n",
       "      <td>16614.2</td>\n",
       "      <td>2067.75</td>\n",
       "    </tr>\n",
       "    <tr>\n",
       "      <th>988</th>\n",
       "      <td>20000</td>\n",
       "      <td>2021-12-30</td>\n",
       "      <td>CE</td>\n",
       "      <td>NIFTY</td>\n",
       "      <td>OPTIDXNIFTY30-12-2021CE20000.00</td>\n",
       "      <td>17785.0</td>\n",
       "      <td>-546.0</td>\n",
       "      <td>-2.978561</td>\n",
       "      <td>5530</td>\n",
       "      <td>43.64</td>\n",
       "      <td>...</td>\n",
       "      <td>-0.40</td>\n",
       "      <td>-14.285714</td>\n",
       "      <td>140000</td>\n",
       "      <td>45050</td>\n",
       "      <td>250</td>\n",
       "      <td>2.40</td>\n",
       "      <td>50</td>\n",
       "      <td>2.50</td>\n",
       "      <td>16614.2</td>\n",
       "      <td>2.40</td>\n",
       "    </tr>\n",
       "    <tr>\n",
       "      <th>1001</th>\n",
       "      <td>20500</td>\n",
       "      <td>2021-12-30</td>\n",
       "      <td>PE</td>\n",
       "      <td>NIFTY</td>\n",
       "      <td>OPTIDXNIFTY30-12-2021PE20500.00</td>\n",
       "      <td>2610.0</td>\n",
       "      <td>-230.0</td>\n",
       "      <td>-8.098592</td>\n",
       "      <td>531</td>\n",
       "      <td>73.44</td>\n",
       "      <td>...</td>\n",
       "      <td>381.90</td>\n",
       "      <td>10.948654</td>\n",
       "      <td>7250</td>\n",
       "      <td>6800</td>\n",
       "      <td>150</td>\n",
       "      <td>3856.60</td>\n",
       "      <td>50</td>\n",
       "      <td>3870.35</td>\n",
       "      <td>16614.2</td>\n",
       "      <td>3870.00</td>\n",
       "    </tr>\n",
       "  </tbody>\n",
       "</table>\n",
       "<p>128 rows × 21 columns</p>\n",
       "</div>"
      ],
      "text/plain": [
       "      Strike Price     Expiry Option Type Symbol  \\\n",
       "1             8000 2021-12-30          PE  NIFTY   \n",
       "3             8500 2021-12-30          PE  NIFTY   \n",
       "8             9000 2021-12-30          CE  NIFTY   \n",
       "9             9100 2021-12-30          PE  NIFTY   \n",
       "10            9200 2021-12-30          PE  NIFTY   \n",
       "...            ...        ...         ...    ...   \n",
       "985          19850 2021-12-30          PE  NIFTY   \n",
       "986          19900 2021-12-30          CE  NIFTY   \n",
       "987          19950 2021-12-30          PE  NIFTY   \n",
       "988          20000 2021-12-30          CE  NIFTY   \n",
       "1001         20500 2021-12-30          PE  NIFTY   \n",
       "\n",
       "                           identifier  Open Interest  Change in OI  \\\n",
       "1      OPTIDXNIFTY30-12-2021PE8000.00         1648.0         153.0   \n",
       "3      OPTIDXNIFTY30-12-2021PE8500.00          222.5          19.0   \n",
       "8      OPTIDXNIFTY30-12-2021CE9000.00          144.5           0.0   \n",
       "9      OPTIDXNIFTY30-12-2021PE9100.00          280.5           0.0   \n",
       "10     OPTIDXNIFTY30-12-2021PE9200.00          112.5           0.0   \n",
       "...                               ...            ...           ...   \n",
       "985   OPTIDXNIFTY30-12-2021PE19850.00            3.0           0.0   \n",
       "986   OPTIDXNIFTY30-12-2021CE19900.00          345.0         -20.0   \n",
       "987   OPTIDXNIFTY30-12-2021PE19950.00            1.0           0.0   \n",
       "988   OPTIDXNIFTY30-12-2021CE20000.00        17785.0        -546.0   \n",
       "1001  OPTIDXNIFTY30-12-2021PE20500.00         2610.0        -230.0   \n",
       "\n",
       "      Change % in OI  Number of Contracts  impliedVolatility  ...  Change  \\\n",
       "1          10.234114                  587             149.23  ...    0.30   \n",
       "3           9.336609                   87             139.91  ...   -1.05   \n",
       "8           0.000000                    1               0.00  ... -495.00   \n",
       "9           0.000000                    0               0.00  ...    0.00   \n",
       "10          0.000000                    0               0.00  ...    0.00   \n",
       "...              ...                  ...                ...  ...     ...   \n",
       "985         0.000000                    0               0.00  ...    0.00   \n",
       "986        -5.479452                  118              42.98  ...    0.05   \n",
       "987         0.000000                    0               0.00  ...    0.00   \n",
       "988        -2.978561                 5530              43.64  ...   -0.40   \n",
       "1001       -8.098592                  531              73.44  ...  381.90   \n",
       "\n",
       "       Change %  totalBuyQuantity  totalSellQuantity  bidQty  bidprice  \\\n",
       "1     33.333333             56450              23750     600      1.15   \n",
       "3    -42.000000             17100              13600     100      1.30   \n",
       "8     -6.145251              7100               7100     100   7531.50   \n",
       "9      0.000000               150                  0     150      0.10   \n",
       "10     0.000000               150                  0     150      0.10   \n",
       "...         ...               ...                ...     ...       ...   \n",
       "985    0.000000              7200               4100     650   3147.00   \n",
       "986    1.960784             99000               6050     550      2.60   \n",
       "987    0.000000              5600               4450    1850   3222.95   \n",
       "988  -14.285714            140000              45050     250      2.40   \n",
       "1001  10.948654              7250               6800     150   3856.60   \n",
       "\n",
       "      askQty  askPrice  Underlying  avg_price  \n",
       "1       1200      1.20     16614.2       1.20  \n",
       "3       2900      1.45     16614.2       1.45  \n",
       "8        100   7675.90     16614.2    7560.00  \n",
       "9          0      0.00     16614.2     410.00  \n",
       "10         0      0.00     16614.2       3.10  \n",
       "...      ...       ...         ...        ...  \n",
       "985      350   3459.50     16614.2    2655.35  \n",
       "986       50      2.80     16614.2       2.60  \n",
       "987     1000   3653.15     16614.2    2067.75  \n",
       "988       50      2.50     16614.2       2.40  \n",
       "1001      50   3870.35     16614.2    3870.00  \n",
       "\n",
       "[128 rows x 21 columns]"
      ]
     },
     "execution_count": 83,
     "metadata": {},
     "output_type": "execute_result"
    }
   ],
   "source": [
    "options_expiry_df"
   ]
  },
  {
   "cell_type": "code",
   "execution_count": 74,
   "id": "meaning-athens",
   "metadata": {},
   "outputs": [
    {
     "data": {
      "text/html": [
       "<div>\n",
       "<style scoped>\n",
       "    .dataframe tbody tr th:only-of-type {\n",
       "        vertical-align: middle;\n",
       "    }\n",
       "\n",
       "    .dataframe tbody tr th {\n",
       "        vertical-align: top;\n",
       "    }\n",
       "\n",
       "    .dataframe thead th {\n",
       "        text-align: right;\n",
       "    }\n",
       "</style>\n",
       "<table border=\"1\" class=\"dataframe\">\n",
       "  <thead>\n",
       "    <tr style=\"text-align: right;\">\n",
       "      <th></th>\n",
       "      <th>Strike Price</th>\n",
       "      <th>Expiry</th>\n",
       "      <th>Option Type</th>\n",
       "      <th>Symbol</th>\n",
       "      <th>identifier</th>\n",
       "      <th>Open Interest</th>\n",
       "      <th>Change in OI</th>\n",
       "      <th>Change % in OI</th>\n",
       "      <th>Number of Contracts</th>\n",
       "      <th>impliedVolatility</th>\n",
       "      <th>Close</th>\n",
       "      <th>Change</th>\n",
       "      <th>Change %</th>\n",
       "      <th>totalBuyQuantity</th>\n",
       "      <th>totalSellQuantity</th>\n",
       "      <th>bidQty</th>\n",
       "      <th>bidprice</th>\n",
       "      <th>askQty</th>\n",
       "      <th>askPrice</th>\n",
       "      <th>Underlying</th>\n",
       "    </tr>\n",
       "  </thead>\n",
       "  <tbody>\n",
       "    <tr>\n",
       "      <th>468</th>\n",
       "      <td>16950</td>\n",
       "      <td>2021-12-30</td>\n",
       "      <td>PE</td>\n",
       "      <td>NIFTY</td>\n",
       "      <td>OPTIDXNIFTY30-12-2021PE16950.00</td>\n",
       "      <td>1636.0</td>\n",
       "      <td>-318.0</td>\n",
       "      <td>-16.274309</td>\n",
       "      <td>2584</td>\n",
       "      <td>19.55</td>\n",
       "      <td>391.15</td>\n",
       "      <td>222.7</td>\n",
       "      <td>132.205402</td>\n",
       "      <td>16600</td>\n",
       "      <td>14100</td>\n",
       "      <td>50</td>\n",
       "      <td>379.0</td>\n",
       "      <td>50</td>\n",
       "      <td>391.15</td>\n",
       "      <td>16614.2</td>\n",
       "    </tr>\n",
       "  </tbody>\n",
       "</table>\n",
       "</div>"
      ],
      "text/plain": [
       "     Strike Price     Expiry Option Type Symbol  \\\n",
       "468         16950 2021-12-30          PE  NIFTY   \n",
       "\n",
       "                          identifier  Open Interest  Change in OI  \\\n",
       "468  OPTIDXNIFTY30-12-2021PE16950.00         1636.0        -318.0   \n",
       "\n",
       "     Change % in OI  Number of Contracts  impliedVolatility   Close  Change  \\\n",
       "468      -16.274309                 2584              19.55  391.15   222.7   \n",
       "\n",
       "       Change %  totalBuyQuantity  totalSellQuantity  bidQty  bidprice  \\\n",
       "468  132.205402             16600              14100      50     379.0   \n",
       "\n",
       "     askQty  askPrice  Underlying  \n",
       "468      50    391.15     16614.2  "
      ]
     },
     "execution_count": 74,
     "metadata": {},
     "output_type": "execute_result"
    }
   ],
   "source": [
    "options_expiry_df[options_expiry_df['Strike Price']==position['strike_price']]"
   ]
  },
  {
   "cell_type": "code",
   "execution_count": 55,
   "id": "applied-shame",
   "metadata": {},
   "outputs": [
    {
     "data": {
      "text/plain": [
       "[{'strike_price': 17050.0,\n",
       "  'expiry': Timestamp('2021-12-30 00:00:00'),\n",
       "  'option_type': 'CE'},\n",
       " {'strike_price': 16950.0,\n",
       "  'expiry': Timestamp('2021-12-30 00:00:00'),\n",
       "  'option_type': 'PE'}]"
      ]
     },
     "execution_count": 55,
     "metadata": {},
     "output_type": "execute_result"
    }
   ],
   "source": [
    "for position in underlying_positions[['strike_price', 'expiry', 'option_type']].to_dict(orient='records'):\n",
    "    options_df[a\n",
    "              ]"
   ]
  },
  {
   "cell_type": "code",
   "execution_count": 38,
   "id": "numeric-measure",
   "metadata": {},
   "outputs": [],
   "source": [
    "underlying = 'NIFTY'\n",
    "data_df, expiries = nse_load_options(underlying)"
   ]
  },
  {
   "cell_type": "code",
   "execution_count": null,
   "id": "vocal-railway",
   "metadata": {},
   "outputs": [],
   "source": []
  },
  {
   "cell_type": "code",
   "execution_count": null,
   "id": "latin-regression",
   "metadata": {},
   "outputs": [],
   "source": []
  },
  {
   "cell_type": "markdown",
   "id": "specified-portfolio",
   "metadata": {},
   "source": [
    "## Historical Analysis\n",
    "Get historical data for everything"
   ]
  },
  {
   "cell_type": "code",
   "execution_count": 16,
   "id": "virgin-prisoner",
   "metadata": {},
   "outputs": [],
   "source": [
    "pe_hist = nsepy.get_history(symbol=underlying,\n",
    "                                  start=today - dt.timedelta(days=15),\n",
    "                                  end=today,\n",
    "                                  index=True,\n",
    "                                  option_type='PE',\n",
    "                                  strike_price=put_strike,\n",
    "                                  expiry_date=expiry.date())\n",
    "\n",
    "ce_hist = nsepy.get_history(symbol=underlying,\n",
    "                                  start=today - dt.timedelta(days=15),\n",
    "                                  end=today,\n",
    "                                  index=True,\n",
    "                                  option_type='CE',\n",
    "                                  strike_price=call_strike,\n",
    "                                  expiry_date=expiry.date())\n",
    "\n",
    "underlying_hist = nsepy.get_history(symbol=underlying,\n",
    "                                  start=today - dt.timedelta(days=15),\n",
    "                                  end=today,\n",
    "                                  index=True,\n",
    "                                  strike_price=call_strike,\n",
    "                                  expiry_date=expiry.date())"
   ]
  },
  {
   "cell_type": "markdown",
   "id": "enabling-wildlife",
   "metadata": {},
   "source": [
    "Calculate the per day change "
   ]
  },
  {
   "cell_type": "code",
   "execution_count": 34,
   "id": "inclusive-prize",
   "metadata": {},
   "outputs": [],
   "source": [
    "pair_delta = (pe_hist.Close+ce_hist.Close).diff().iloc[1:]/(pe_hist.Open+ce_hist.Open).iloc[1:]"
   ]
  },
  {
   "cell_type": "code",
   "execution_count": 36,
   "id": "accepting-belly",
   "metadata": {},
   "outputs": [],
   "source": [
    "import matplotlib.pyplot as plt"
   ]
  },
  {
   "cell_type": "code",
   "execution_count": 78,
   "id": "radical-picnic",
   "metadata": {},
   "outputs": [],
   "source": [
    "pair_historical = pd.DataFrame({'Pair Premium': pe_hist.Close+ce_hist.Close, 'PE Premium': pe_hist.Close, 'CE Premium': ce_hist.Close, 'Underlying': underlying_hist.Close})"
   ]
  },
  {
   "cell_type": "code",
   "execution_count": 83,
   "id": "finite-causing",
   "metadata": {},
   "outputs": [
    {
     "data": {
      "text/html": [
       "<div>\n",
       "<style scoped>\n",
       "    .dataframe tbody tr th:only-of-type {\n",
       "        vertical-align: middle;\n",
       "    }\n",
       "\n",
       "    .dataframe tbody tr th {\n",
       "        vertical-align: top;\n",
       "    }\n",
       "\n",
       "    .dataframe thead th {\n",
       "        text-align: right;\n",
       "    }\n",
       "</style>\n",
       "<table border=\"1\" class=\"dataframe\">\n",
       "  <thead>\n",
       "    <tr style=\"text-align: right;\">\n",
       "      <th></th>\n",
       "      <th>Pair Premium</th>\n",
       "      <th>PE Premium</th>\n",
       "      <th>CE Premium</th>\n",
       "      <th>Underlying</th>\n",
       "    </tr>\n",
       "    <tr>\n",
       "      <th>Date</th>\n",
       "      <th></th>\n",
       "      <th></th>\n",
       "      <th></th>\n",
       "      <th></th>\n",
       "    </tr>\n",
       "  </thead>\n",
       "  <tbody>\n",
       "    <tr>\n",
       "      <th>2021-11-12</th>\n",
       "      <td>2965.80</td>\n",
       "      <td>46.10</td>\n",
       "      <td>2919.70</td>\n",
       "      <td>38733.35</td>\n",
       "    </tr>\n",
       "    <tr>\n",
       "      <th>2021-11-15</th>\n",
       "      <td>2962.80</td>\n",
       "      <td>43.10</td>\n",
       "      <td>2919.70</td>\n",
       "      <td>38702.35</td>\n",
       "    </tr>\n",
       "    <tr>\n",
       "      <th>2021-11-16</th>\n",
       "      <td>2982.75</td>\n",
       "      <td>63.05</td>\n",
       "      <td>2919.70</td>\n",
       "      <td>38307.10</td>\n",
       "    </tr>\n",
       "    <tr>\n",
       "      <th>2021-11-17</th>\n",
       "      <td>2987.95</td>\n",
       "      <td>68.25</td>\n",
       "      <td>2919.70</td>\n",
       "      <td>38041.55</td>\n",
       "    </tr>\n",
       "    <tr>\n",
       "      <th>2021-11-18</th>\n",
       "      <td>2972.20</td>\n",
       "      <td>52.50</td>\n",
       "      <td>2919.70</td>\n",
       "      <td>37976.25</td>\n",
       "    </tr>\n",
       "    <tr>\n",
       "      <th>2021-11-23</th>\n",
       "      <td>951.25</td>\n",
       "      <td>96.60</td>\n",
       "      <td>854.65</td>\n",
       "      <td>37272.80</td>\n",
       "    </tr>\n",
       "    <tr>\n",
       "      <th>2021-11-24</th>\n",
       "      <td>998.10</td>\n",
       "      <td>62.85</td>\n",
       "      <td>935.25</td>\n",
       "      <td>37441.95</td>\n",
       "    </tr>\n",
       "    <tr>\n",
       "      <th>2021-11-25</th>\n",
       "      <td>899.50</td>\n",
       "      <td>37.35</td>\n",
       "      <td>862.15</td>\n",
       "      <td>37364.75</td>\n",
       "    </tr>\n",
       "    <tr>\n",
       "      <th>2021-11-26</th>\n",
       "      <td>607.90</td>\n",
       "      <td>415.95</td>\n",
       "      <td>191.95</td>\n",
       "      <td>36025.50</td>\n",
       "    </tr>\n",
       "  </tbody>\n",
       "</table>\n",
       "</div>"
      ],
      "text/plain": [
       "            Pair Premium  PE Premium  CE Premium  Underlying\n",
       "Date                                                        \n",
       "2021-11-12       2965.80       46.10     2919.70    38733.35\n",
       "2021-11-15       2962.80       43.10     2919.70    38702.35\n",
       "2021-11-16       2982.75       63.05     2919.70    38307.10\n",
       "2021-11-17       2987.95       68.25     2919.70    38041.55\n",
       "2021-11-18       2972.20       52.50     2919.70    37976.25\n",
       "2021-11-23        951.25       96.60      854.65    37272.80\n",
       "2021-11-24        998.10       62.85      935.25    37441.95\n",
       "2021-11-25        899.50       37.35      862.15    37364.75\n",
       "2021-11-26        607.90      415.95      191.95    36025.50"
      ]
     },
     "execution_count": 83,
     "metadata": {},
     "output_type": "execute_result"
    }
   ],
   "source": []
  },
  {
   "cell_type": "code",
   "execution_count": 57,
   "id": "engaged-maryland",
   "metadata": {},
   "outputs": [],
   "source": [
    "pair_premium = pe_hist.Close+ce_hist.Close"
   ]
  },
  {
   "cell_type": "markdown",
   "id": "medieval-humanity",
   "metadata": {},
   "source": [
    "Pair Delta"
   ]
  },
  {
   "cell_type": "code",
   "execution_count": 75,
   "id": "entitled-friendship",
   "metadata": {},
   "outputs": [
    {
     "data": {
      "text/plain": [
       "Date\n",
       "2021-11-12          NaN\n",
       "2021-11-15    -0.096774\n",
       "2021-11-16     0.050474\n",
       "2021-11-17     0.019582\n",
       "2021-11-18    -0.241194\n",
       "2021-11-22          NaN\n",
       "2021-11-23   -14.034375\n",
       "2021-11-24     0.276973\n",
       "2021-11-25    -1.277202\n",
       "2021-11-26    -0.217734\n",
       "Name: Close, dtype: float64"
      ]
     },
     "execution_count": 75,
     "metadata": {},
     "output_type": "execute_result"
    }
   ],
   "source": [
    "pair_premium.diff() / abs(underlying_hist.Close.diff())"
   ]
  },
  {
   "cell_type": "code",
   "execution_count": 56,
   "id": "british-acquisition",
   "metadata": {},
   "outputs": [],
   "source": [
    "import plotly.graph_objects as go"
   ]
  },
  {
   "cell_type": "code",
   "execution_count": 60,
   "id": "undefined-thompson",
   "metadata": {},
   "outputs": [],
   "source": [
    "import plotly.express as px"
   ]
  },
  {
   "cell_type": "markdown",
   "id": "portable-dominant",
   "metadata": {},
   "source": [
    "**Premium Decay**"
   ]
  },
  {
   "cell_type": "code",
   "execution_count": 90,
   "id": "legendary-delivery",
   "metadata": {},
   "outputs": [
    {
     "data": {
      "application/vnd.plotly.v1+json": {
       "config": {
        "plotlyServerURL": "https://plot.ly"
       },
       "data": [
        {
         "hovertemplate": "variable=PE Premium<br>Date=%{x}<br>value=%{y}<extra></extra>",
         "legendgroup": "PE Premium",
         "line": {
          "color": "#636efa",
          "dash": "solid"
         },
         "mode": "lines",
         "name": "PE Premium",
         "orientation": "v",
         "showlegend": true,
         "type": "scatter",
         "x": [
          "2021-11-12",
          "2021-11-15",
          "2021-11-16",
          "2021-11-17",
          "2021-11-18",
          "2021-11-23",
          "2021-11-24",
          "2021-11-25",
          "2021-11-26"
         ],
         "xaxis": "x",
         "y": [
          46.1,
          43.1,
          63.05,
          68.25,
          52.5,
          96.6,
          62.85,
          37.35,
          415.95
         ],
         "yaxis": "y"
        },
        {
         "hovertemplate": "variable=CE Premium<br>Date=%{x}<br>value=%{y}<extra></extra>",
         "legendgroup": "CE Premium",
         "line": {
          "color": "#EF553B",
          "dash": "solid"
         },
         "mode": "lines",
         "name": "CE Premium",
         "orientation": "v",
         "showlegend": true,
         "type": "scatter",
         "x": [
          "2021-11-12",
          "2021-11-15",
          "2021-11-16",
          "2021-11-17",
          "2021-11-18",
          "2021-11-23",
          "2021-11-24",
          "2021-11-25",
          "2021-11-26"
         ],
         "xaxis": "x",
         "y": [
          2919.7,
          2919.7,
          2919.7,
          2919.7,
          2919.7,
          854.65,
          935.25,
          862.15,
          191.95
         ],
         "yaxis": "y"
        },
        {
         "hovertemplate": "variable=Pair Premium<br>Date=%{x}<br>value=%{y}<extra></extra>",
         "legendgroup": "Pair Premium",
         "line": {
          "color": "#00cc96",
          "dash": "solid"
         },
         "mode": "lines",
         "name": "Pair Premium",
         "orientation": "v",
         "showlegend": true,
         "type": "scatter",
         "x": [
          "2021-11-12",
          "2021-11-15",
          "2021-11-16",
          "2021-11-17",
          "2021-11-18",
          "2021-11-23",
          "2021-11-24",
          "2021-11-25",
          "2021-11-26"
         ],
         "xaxis": "x",
         "y": [
          2965.7999999999997,
          2962.7999999999997,
          2982.75,
          2987.95,
          2972.2,
          951.25,
          998.1,
          899.5,
          607.9
         ],
         "yaxis": "y"
        }
       ],
       "layout": {
        "annotations": [
         {
          "showarrow": false,
          "text": "Target",
          "x": 1,
          "xanchor": "right",
          "xref": "x domain",
          "y": 1032.295,
          "yanchor": "bottom",
          "yref": "y"
         }
        ],
        "autosize": true,
        "legend": {
         "title": {
          "text": "variable"
         },
         "tracegroupgap": 0
        },
        "shapes": [
         {
          "line": {
           "color": "green",
           "dash": "dash"
          },
          "type": "line",
          "x0": 0,
          "x1": 1,
          "xref": "x domain",
          "y0": 1032.295,
          "y1": 1032.295,
          "yref": "y"
         }
        ],
        "template": {
         "data": {
          "bar": [
           {
            "error_x": {
             "color": "#2a3f5f"
            },
            "error_y": {
             "color": "#2a3f5f"
            },
            "marker": {
             "line": {
              "color": "#E5ECF6",
              "width": 0.5
             },
             "pattern": {
              "fillmode": "overlay",
              "size": 10,
              "solidity": 0.2
             }
            },
            "type": "bar"
           }
          ],
          "barpolar": [
           {
            "marker": {
             "line": {
              "color": "#E5ECF6",
              "width": 0.5
             },
             "pattern": {
              "fillmode": "overlay",
              "size": 10,
              "solidity": 0.2
             }
            },
            "type": "barpolar"
           }
          ],
          "carpet": [
           {
            "aaxis": {
             "endlinecolor": "#2a3f5f",
             "gridcolor": "white",
             "linecolor": "white",
             "minorgridcolor": "white",
             "startlinecolor": "#2a3f5f"
            },
            "baxis": {
             "endlinecolor": "#2a3f5f",
             "gridcolor": "white",
             "linecolor": "white",
             "minorgridcolor": "white",
             "startlinecolor": "#2a3f5f"
            },
            "type": "carpet"
           }
          ],
          "choropleth": [
           {
            "colorbar": {
             "outlinewidth": 0,
             "ticks": ""
            },
            "type": "choropleth"
           }
          ],
          "contour": [
           {
            "colorbar": {
             "outlinewidth": 0,
             "ticks": ""
            },
            "colorscale": [
             [
              0,
              "#0d0887"
             ],
             [
              0.1111111111111111,
              "#46039f"
             ],
             [
              0.2222222222222222,
              "#7201a8"
             ],
             [
              0.3333333333333333,
              "#9c179e"
             ],
             [
              0.4444444444444444,
              "#bd3786"
             ],
             [
              0.5555555555555556,
              "#d8576b"
             ],
             [
              0.6666666666666666,
              "#ed7953"
             ],
             [
              0.7777777777777778,
              "#fb9f3a"
             ],
             [
              0.8888888888888888,
              "#fdca26"
             ],
             [
              1,
              "#f0f921"
             ]
            ],
            "type": "contour"
           }
          ],
          "contourcarpet": [
           {
            "colorbar": {
             "outlinewidth": 0,
             "ticks": ""
            },
            "type": "contourcarpet"
           }
          ],
          "heatmap": [
           {
            "colorbar": {
             "outlinewidth": 0,
             "ticks": ""
            },
            "colorscale": [
             [
              0,
              "#0d0887"
             ],
             [
              0.1111111111111111,
              "#46039f"
             ],
             [
              0.2222222222222222,
              "#7201a8"
             ],
             [
              0.3333333333333333,
              "#9c179e"
             ],
             [
              0.4444444444444444,
              "#bd3786"
             ],
             [
              0.5555555555555556,
              "#d8576b"
             ],
             [
              0.6666666666666666,
              "#ed7953"
             ],
             [
              0.7777777777777778,
              "#fb9f3a"
             ],
             [
              0.8888888888888888,
              "#fdca26"
             ],
             [
              1,
              "#f0f921"
             ]
            ],
            "type": "heatmap"
           }
          ],
          "heatmapgl": [
           {
            "colorbar": {
             "outlinewidth": 0,
             "ticks": ""
            },
            "colorscale": [
             [
              0,
              "#0d0887"
             ],
             [
              0.1111111111111111,
              "#46039f"
             ],
             [
              0.2222222222222222,
              "#7201a8"
             ],
             [
              0.3333333333333333,
              "#9c179e"
             ],
             [
              0.4444444444444444,
              "#bd3786"
             ],
             [
              0.5555555555555556,
              "#d8576b"
             ],
             [
              0.6666666666666666,
              "#ed7953"
             ],
             [
              0.7777777777777778,
              "#fb9f3a"
             ],
             [
              0.8888888888888888,
              "#fdca26"
             ],
             [
              1,
              "#f0f921"
             ]
            ],
            "type": "heatmapgl"
           }
          ],
          "histogram": [
           {
            "marker": {
             "pattern": {
              "fillmode": "overlay",
              "size": 10,
              "solidity": 0.2
             }
            },
            "type": "histogram"
           }
          ],
          "histogram2d": [
           {
            "colorbar": {
             "outlinewidth": 0,
             "ticks": ""
            },
            "colorscale": [
             [
              0,
              "#0d0887"
             ],
             [
              0.1111111111111111,
              "#46039f"
             ],
             [
              0.2222222222222222,
              "#7201a8"
             ],
             [
              0.3333333333333333,
              "#9c179e"
             ],
             [
              0.4444444444444444,
              "#bd3786"
             ],
             [
              0.5555555555555556,
              "#d8576b"
             ],
             [
              0.6666666666666666,
              "#ed7953"
             ],
             [
              0.7777777777777778,
              "#fb9f3a"
             ],
             [
              0.8888888888888888,
              "#fdca26"
             ],
             [
              1,
              "#f0f921"
             ]
            ],
            "type": "histogram2d"
           }
          ],
          "histogram2dcontour": [
           {
            "colorbar": {
             "outlinewidth": 0,
             "ticks": ""
            },
            "colorscale": [
             [
              0,
              "#0d0887"
             ],
             [
              0.1111111111111111,
              "#46039f"
             ],
             [
              0.2222222222222222,
              "#7201a8"
             ],
             [
              0.3333333333333333,
              "#9c179e"
             ],
             [
              0.4444444444444444,
              "#bd3786"
             ],
             [
              0.5555555555555556,
              "#d8576b"
             ],
             [
              0.6666666666666666,
              "#ed7953"
             ],
             [
              0.7777777777777778,
              "#fb9f3a"
             ],
             [
              0.8888888888888888,
              "#fdca26"
             ],
             [
              1,
              "#f0f921"
             ]
            ],
            "type": "histogram2dcontour"
           }
          ],
          "mesh3d": [
           {
            "colorbar": {
             "outlinewidth": 0,
             "ticks": ""
            },
            "type": "mesh3d"
           }
          ],
          "parcoords": [
           {
            "line": {
             "colorbar": {
              "outlinewidth": 0,
              "ticks": ""
             }
            },
            "type": "parcoords"
           }
          ],
          "pie": [
           {
            "automargin": true,
            "type": "pie"
           }
          ],
          "scatter": [
           {
            "marker": {
             "colorbar": {
              "outlinewidth": 0,
              "ticks": ""
             }
            },
            "type": "scatter"
           }
          ],
          "scatter3d": [
           {
            "line": {
             "colorbar": {
              "outlinewidth": 0,
              "ticks": ""
             }
            },
            "marker": {
             "colorbar": {
              "outlinewidth": 0,
              "ticks": ""
             }
            },
            "type": "scatter3d"
           }
          ],
          "scattercarpet": [
           {
            "marker": {
             "colorbar": {
              "outlinewidth": 0,
              "ticks": ""
             }
            },
            "type": "scattercarpet"
           }
          ],
          "scattergeo": [
           {
            "marker": {
             "colorbar": {
              "outlinewidth": 0,
              "ticks": ""
             }
            },
            "type": "scattergeo"
           }
          ],
          "scattergl": [
           {
            "marker": {
             "colorbar": {
              "outlinewidth": 0,
              "ticks": ""
             }
            },
            "type": "scattergl"
           }
          ],
          "scattermapbox": [
           {
            "marker": {
             "colorbar": {
              "outlinewidth": 0,
              "ticks": ""
             }
            },
            "type": "scattermapbox"
           }
          ],
          "scatterpolar": [
           {
            "marker": {
             "colorbar": {
              "outlinewidth": 0,
              "ticks": ""
             }
            },
            "type": "scatterpolar"
           }
          ],
          "scatterpolargl": [
           {
            "marker": {
             "colorbar": {
              "outlinewidth": 0,
              "ticks": ""
             }
            },
            "type": "scatterpolargl"
           }
          ],
          "scatterternary": [
           {
            "marker": {
             "colorbar": {
              "outlinewidth": 0,
              "ticks": ""
             }
            },
            "type": "scatterternary"
           }
          ],
          "surface": [
           {
            "colorbar": {
             "outlinewidth": 0,
             "ticks": ""
            },
            "colorscale": [
             [
              0,
              "#0d0887"
             ],
             [
              0.1111111111111111,
              "#46039f"
             ],
             [
              0.2222222222222222,
              "#7201a8"
             ],
             [
              0.3333333333333333,
              "#9c179e"
             ],
             [
              0.4444444444444444,
              "#bd3786"
             ],
             [
              0.5555555555555556,
              "#d8576b"
             ],
             [
              0.6666666666666666,
              "#ed7953"
             ],
             [
              0.7777777777777778,
              "#fb9f3a"
             ],
             [
              0.8888888888888888,
              "#fdca26"
             ],
             [
              1,
              "#f0f921"
             ]
            ],
            "type": "surface"
           }
          ],
          "table": [
           {
            "cells": {
             "fill": {
              "color": "#EBF0F8"
             },
             "line": {
              "color": "white"
             }
            },
            "header": {
             "fill": {
              "color": "#C8D4E3"
             },
             "line": {
              "color": "white"
             }
            },
            "type": "table"
           }
          ]
         },
         "layout": {
          "annotationdefaults": {
           "arrowcolor": "#2a3f5f",
           "arrowhead": 0,
           "arrowwidth": 1
          },
          "autotypenumbers": "strict",
          "coloraxis": {
           "colorbar": {
            "outlinewidth": 0,
            "ticks": ""
           }
          },
          "colorscale": {
           "diverging": [
            [
             0,
             "#8e0152"
            ],
            [
             0.1,
             "#c51b7d"
            ],
            [
             0.2,
             "#de77ae"
            ],
            [
             0.3,
             "#f1b6da"
            ],
            [
             0.4,
             "#fde0ef"
            ],
            [
             0.5,
             "#f7f7f7"
            ],
            [
             0.6,
             "#e6f5d0"
            ],
            [
             0.7,
             "#b8e186"
            ],
            [
             0.8,
             "#7fbc41"
            ],
            [
             0.9,
             "#4d9221"
            ],
            [
             1,
             "#276419"
            ]
           ],
           "sequential": [
            [
             0,
             "#0d0887"
            ],
            [
             0.1111111111111111,
             "#46039f"
            ],
            [
             0.2222222222222222,
             "#7201a8"
            ],
            [
             0.3333333333333333,
             "#9c179e"
            ],
            [
             0.4444444444444444,
             "#bd3786"
            ],
            [
             0.5555555555555556,
             "#d8576b"
            ],
            [
             0.6666666666666666,
             "#ed7953"
            ],
            [
             0.7777777777777778,
             "#fb9f3a"
            ],
            [
             0.8888888888888888,
             "#fdca26"
            ],
            [
             1,
             "#f0f921"
            ]
           ],
           "sequentialminus": [
            [
             0,
             "#0d0887"
            ],
            [
             0.1111111111111111,
             "#46039f"
            ],
            [
             0.2222222222222222,
             "#7201a8"
            ],
            [
             0.3333333333333333,
             "#9c179e"
            ],
            [
             0.4444444444444444,
             "#bd3786"
            ],
            [
             0.5555555555555556,
             "#d8576b"
            ],
            [
             0.6666666666666666,
             "#ed7953"
            ],
            [
             0.7777777777777778,
             "#fb9f3a"
            ],
            [
             0.8888888888888888,
             "#fdca26"
            ],
            [
             1,
             "#f0f921"
            ]
           ]
          },
          "colorway": [
           "#636efa",
           "#EF553B",
           "#00cc96",
           "#ab63fa",
           "#FFA15A",
           "#19d3f3",
           "#FF6692",
           "#B6E880",
           "#FF97FF",
           "#FECB52"
          ],
          "font": {
           "color": "#2a3f5f"
          },
          "geo": {
           "bgcolor": "white",
           "lakecolor": "white",
           "landcolor": "#E5ECF6",
           "showlakes": true,
           "showland": true,
           "subunitcolor": "white"
          },
          "hoverlabel": {
           "align": "left"
          },
          "hovermode": "closest",
          "mapbox": {
           "style": "light"
          },
          "paper_bgcolor": "white",
          "plot_bgcolor": "#E5ECF6",
          "polar": {
           "angularaxis": {
            "gridcolor": "white",
            "linecolor": "white",
            "ticks": ""
           },
           "bgcolor": "#E5ECF6",
           "radialaxis": {
            "gridcolor": "white",
            "linecolor": "white",
            "ticks": ""
           }
          },
          "scene": {
           "xaxis": {
            "backgroundcolor": "#E5ECF6",
            "gridcolor": "white",
            "gridwidth": 2,
            "linecolor": "white",
            "showbackground": true,
            "ticks": "",
            "zerolinecolor": "white"
           },
           "yaxis": {
            "backgroundcolor": "#E5ECF6",
            "gridcolor": "white",
            "gridwidth": 2,
            "linecolor": "white",
            "showbackground": true,
            "ticks": "",
            "zerolinecolor": "white"
           },
           "zaxis": {
            "backgroundcolor": "#E5ECF6",
            "gridcolor": "white",
            "gridwidth": 2,
            "linecolor": "white",
            "showbackground": true,
            "ticks": "",
            "zerolinecolor": "white"
           }
          },
          "shapedefaults": {
           "line": {
            "color": "#2a3f5f"
           }
          },
          "ternary": {
           "aaxis": {
            "gridcolor": "white",
            "linecolor": "white",
            "ticks": ""
           },
           "baxis": {
            "gridcolor": "white",
            "linecolor": "white",
            "ticks": ""
           },
           "bgcolor": "#E5ECF6",
           "caxis": {
            "gridcolor": "white",
            "linecolor": "white",
            "ticks": ""
           }
          },
          "title": {
           "x": 0.05
          },
          "xaxis": {
           "automargin": true,
           "gridcolor": "white",
           "linecolor": "white",
           "ticks": "",
           "title": {
            "standoff": 15
           },
           "zerolinecolor": "white",
           "zerolinewidth": 2
          },
          "yaxis": {
           "automargin": true,
           "gridcolor": "white",
           "linecolor": "white",
           "ticks": "",
           "title": {
            "standoff": 15
           },
           "zerolinecolor": "white",
           "zerolinewidth": 2
          }
         }
        },
        "title": {
         "text": "Pair Premium"
        },
        "xaxis": {
         "anchor": "y",
         "autorange": true,
         "domain": [
          0,
          1
         ],
         "range": [
          "2021-11-12",
          "2021-11-26"
         ],
         "title": {
          "text": "Date"
         },
         "type": "date"
        },
        "yaxis": {
         "anchor": "x",
         "autorange": true,
         "domain": [
          0,
          1
         ],
         "range": [
          -126.57222222222222,
          3151.8722222222223
         ],
         "title": {
          "text": "value"
         },
         "type": "linear"
        }
       }
      },
      "image/png": "[encoded data removed]",
      "text/html": [
       "<div>                            <div id=\"4aaff36b-0e5b-4f58-a47d-7b104ba1cae6\" class=\"plotly-graph-div\" style=\"height:525px; width:100%;\"></div>            <script type=\"text/javascript\">                require([\"plotly\"], function(Plotly) {                    window.PLOTLYENV=window.PLOTLYENV || {};                                    if (document.getElementById(\"4aaff36b-0e5b-4f58-a47d-7b104ba1cae6\")) {                    Plotly.newPlot(                        \"4aaff36b-0e5b-4f58-a47d-7b104ba1cae6\",                        [{\"hovertemplate\":\"variable=PE Premium<br>Date=%{x}<br>value=%{y}<extra></extra>\",\"legendgroup\":\"PE Premium\",\"line\":{\"color\":\"#636efa\",\"dash\":\"solid\"},\"mode\":\"lines\",\"name\":\"PE Premium\",\"orientation\":\"v\",\"showlegend\":true,\"type\":\"scatter\",\"x\":[\"2021-11-12\",\"2021-11-15\",\"2021-11-16\",\"2021-11-17\",\"2021-11-18\",\"2021-11-23\",\"2021-11-24\",\"2021-11-25\",\"2021-11-26\"],\"xaxis\":\"x\",\"y\":[46.1,43.1,63.05,68.25,52.5,96.6,62.85,37.35,415.95],\"yaxis\":\"y\"},{\"hovertemplate\":\"variable=CE Premium<br>Date=%{x}<br>value=%{y}<extra></extra>\",\"legendgroup\":\"CE Premium\",\"line\":{\"color\":\"#EF553B\",\"dash\":\"solid\"},\"mode\":\"lines\",\"name\":\"CE Premium\",\"orientation\":\"v\",\"showlegend\":true,\"type\":\"scatter\",\"x\":[\"2021-11-12\",\"2021-11-15\",\"2021-11-16\",\"2021-11-17\",\"2021-11-18\",\"2021-11-23\",\"2021-11-24\",\"2021-11-25\",\"2021-11-26\"],\"xaxis\":\"x\",\"y\":[2919.7,2919.7,2919.7,2919.7,2919.7,854.65,935.25,862.15,191.95],\"yaxis\":\"y\"},{\"hovertemplate\":\"variable=Pair Premium<br>Date=%{x}<br>value=%{y}<extra></extra>\",\"legendgroup\":\"Pair Premium\",\"line\":{\"color\":\"#00cc96\",\"dash\":\"solid\"},\"mode\":\"lines\",\"name\":\"Pair Premium\",\"orientation\":\"v\",\"showlegend\":true,\"type\":\"scatter\",\"x\":[\"2021-11-12\",\"2021-11-15\",\"2021-11-16\",\"2021-11-17\",\"2021-11-18\",\"2021-11-23\",\"2021-11-24\",\"2021-11-25\",\"2021-11-26\"],\"xaxis\":\"x\",\"y\":[2965.7999999999997,2962.7999999999997,2982.75,2987.95,2972.2,951.25,998.1,899.5,607.9],\"yaxis\":\"y\"}],                        {\"annotations\":[{\"showarrow\":false,\"text\":\"Target\",\"x\":1,\"xanchor\":\"right\",\"xref\":\"x domain\",\"y\":1032.295,\"yanchor\":\"bottom\",\"yref\":\"y\"}],\"legend\":{\"title\":{\"text\":\"variable\"},\"tracegroupgap\":0},\"shapes\":[{\"line\":{\"color\":\"green\",\"dash\":\"dash\"},\"type\":\"line\",\"x0\":0,\"x1\":1,\"xref\":\"x domain\",\"y0\":1032.295,\"y1\":1032.295,\"yref\":\"y\"}],\"template\":{\"data\":{\"bar\":[{\"error_x\":{\"color\":\"#2a3f5f\"},\"error_y\":{\"color\":\"#2a3f5f\"},\"marker\":{\"line\":{\"color\":\"#E5ECF6\",\"width\":0.5},\"pattern\":{\"fillmode\":\"overlay\",\"size\":10,\"solidity\":0.2}},\"type\":\"bar\"}],\"barpolar\":[{\"marker\":{\"line\":{\"color\":\"#E5ECF6\",\"width\":0.5},\"pattern\":{\"fillmode\":\"overlay\",\"size\":10,\"solidity\":0.2}},\"type\":\"barpolar\"}],\"carpet\":[{\"aaxis\":{\"endlinecolor\":\"#2a3f5f\",\"gridcolor\":\"white\",\"linecolor\":\"white\",\"minorgridcolor\":\"white\",\"startlinecolor\":\"#2a3f5f\"},\"baxis\":{\"endlinecolor\":\"#2a3f5f\",\"gridcolor\":\"white\",\"linecolor\":\"white\",\"minorgridcolor\":\"white\",\"startlinecolor\":\"#2a3f5f\"},\"type\":\"carpet\"}],\"choropleth\":[{\"colorbar\":{\"outlinewidth\":0,\"ticks\":\"\"},\"type\":\"choropleth\"}],\"contour\":[{\"colorbar\":{\"outlinewidth\":0,\"ticks\":\"\"},\"colorscale\":[[0.0,\"#0d0887\"],[0.1111111111111111,\"#46039f\"],[0.2222222222222222,\"#7201a8\"],[0.3333333333333333,\"#9c179e\"],[0.4444444444444444,\"#bd3786\"],[0.5555555555555556,\"#d8576b\"],[0.6666666666666666,\"#ed7953\"],[0.7777777777777778,\"#fb9f3a\"],[0.8888888888888888,\"#fdca26\"],[1.0,\"#f0f921\"]],\"type\":\"contour\"}],\"contourcarpet\":[{\"colorbar\":{\"outlinewidth\":0,\"ticks\":\"\"},\"type\":\"contourcarpet\"}],\"heatmap\":[{\"colorbar\":{\"outlinewidth\":0,\"ticks\":\"\"},\"colorscale\":[[0.0,\"#0d0887\"],[0.1111111111111111,\"#46039f\"],[0.2222222222222222,\"#7201a8\"],[0.3333333333333333,\"#9c179e\"],[0.4444444444444444,\"#bd3786\"],[0.5555555555555556,\"#d8576b\"],[0.6666666666666666,\"#ed7953\"],[0.7777777777777778,\"#fb9f3a\"],[0.8888888888888888,\"#fdca26\"],[1.0,\"#f0f921\"]],\"type\":\"heatmap\"}],\"heatmapgl\":[{\"colorbar\":{\"outlinewidth\":0,\"ticks\":\"\"},\"colorscale\":[[0.0,\"#0d0887\"],[0.1111111111111111,\"#46039f\"],[0.2222222222222222,\"#7201a8\"],[0.3333333333333333,\"#9c179e\"],[0.4444444444444444,\"#bd3786\"],[0.5555555555555556,\"#d8576b\"],[0.6666666666666666,\"#ed7953\"],[0.7777777777777778,\"#fb9f3a\"],[0.8888888888888888,\"#fdca26\"],[1.0,\"#f0f921\"]],\"type\":\"heatmapgl\"}],\"histogram\":[{\"marker\":{\"pattern\":{\"fillmode\":\"overlay\",\"size\":10,\"solidity\":0.2}},\"type\":\"histogram\"}],\"histogram2d\":[{\"colorbar\":{\"outlinewidth\":0,\"ticks\":\"\"},\"colorscale\":[[0.0,\"#0d0887\"],[0.1111111111111111,\"#46039f\"],[0.2222222222222222,\"#7201a8\"],[0.3333333333333333,\"#9c179e\"],[0.4444444444444444,\"#bd3786\"],[0.5555555555555556,\"#d8576b\"],[0.6666666666666666,\"#ed7953\"],[0.7777777777777778,\"#fb9f3a\"],[0.8888888888888888,\"#fdca26\"],[1.0,\"#f0f921\"]],\"type\":\"histogram2d\"}],\"histogram2dcontour\":[{\"colorbar\":{\"outlinewidth\":0,\"ticks\":\"\"},\"colorscale\":[[0.0,\"#0d0887\"],[0.1111111111111111,\"#46039f\"],[0.2222222222222222,\"#7201a8\"],[0.3333333333333333,\"#9c179e\"],[0.4444444444444444,\"#bd3786\"],[0.5555555555555556,\"#d8576b\"],[0.6666666666666666,\"#ed7953\"],[0.7777777777777778,\"#fb9f3a\"],[0.8888888888888888,\"#fdca26\"],[1.0,\"#f0f921\"]],\"type\":\"histogram2dcontour\"}],\"mesh3d\":[{\"colorbar\":{\"outlinewidth\":0,\"ticks\":\"\"},\"type\":\"mesh3d\"}],\"parcoords\":[{\"line\":{\"colorbar\":{\"outlinewidth\":0,\"ticks\":\"\"}},\"type\":\"parcoords\"}],\"pie\":[{\"automargin\":true,\"type\":\"pie\"}],\"scatter\":[{\"marker\":{\"colorbar\":{\"outlinewidth\":0,\"ticks\":\"\"}},\"type\":\"scatter\"}],\"scatter3d\":[{\"line\":{\"colorbar\":{\"outlinewidth\":0,\"ticks\":\"\"}},\"marker\":{\"colorbar\":{\"outlinewidth\":0,\"ticks\":\"\"}},\"type\":\"scatter3d\"}],\"scattercarpet\":[{\"marker\":{\"colorbar\":{\"outlinewidth\":0,\"ticks\":\"\"}},\"type\":\"scattercarpet\"}],\"scattergeo\":[{\"marker\":{\"colorbar\":{\"outlinewidth\":0,\"ticks\":\"\"}},\"type\":\"scattergeo\"}],\"scattergl\":[{\"marker\":{\"colorbar\":{\"outlinewidth\":0,\"ticks\":\"\"}},\"type\":\"scattergl\"}],\"scattermapbox\":[{\"marker\":{\"colorbar\":{\"outlinewidth\":0,\"ticks\":\"\"}},\"type\":\"scattermapbox\"}],\"scatterpolar\":[{\"marker\":{\"colorbar\":{\"outlinewidth\":0,\"ticks\":\"\"}},\"type\":\"scatterpolar\"}],\"scatterpolargl\":[{\"marker\":{\"colorbar\":{\"outlinewidth\":0,\"ticks\":\"\"}},\"type\":\"scatterpolargl\"}],\"scatterternary\":[{\"marker\":{\"colorbar\":{\"outlinewidth\":0,\"ticks\":\"\"}},\"type\":\"scatterternary\"}],\"surface\":[{\"colorbar\":{\"outlinewidth\":0,\"ticks\":\"\"},\"colorscale\":[[0.0,\"#0d0887\"],[0.1111111111111111,\"#46039f\"],[0.2222222222222222,\"#7201a8\"],[0.3333333333333333,\"#9c179e\"],[0.4444444444444444,\"#bd3786\"],[0.5555555555555556,\"#d8576b\"],[0.6666666666666666,\"#ed7953\"],[0.7777777777777778,\"#fb9f3a\"],[0.8888888888888888,\"#fdca26\"],[1.0,\"#f0f921\"]],\"type\":\"surface\"}],\"table\":[{\"cells\":{\"fill\":{\"color\":\"#EBF0F8\"},\"line\":{\"color\":\"white\"}},\"header\":{\"fill\":{\"color\":\"#C8D4E3\"},\"line\":{\"color\":\"white\"}},\"type\":\"table\"}]},\"layout\":{\"annotationdefaults\":{\"arrowcolor\":\"#2a3f5f\",\"arrowhead\":0,\"arrowwidth\":1},\"autotypenumbers\":\"strict\",\"coloraxis\":{\"colorbar\":{\"outlinewidth\":0,\"ticks\":\"\"}},\"colorscale\":{\"diverging\":[[0,\"#8e0152\"],[0.1,\"#c51b7d\"],[0.2,\"#de77ae\"],[0.3,\"#f1b6da\"],[0.4,\"#fde0ef\"],[0.5,\"#f7f7f7\"],[0.6,\"#e6f5d0\"],[0.7,\"#b8e186\"],[0.8,\"#7fbc41\"],[0.9,\"#4d9221\"],[1,\"#276419\"]],\"sequential\":[[0.0,\"#0d0887\"],[0.1111111111111111,\"#46039f\"],[0.2222222222222222,\"#7201a8\"],[0.3333333333333333,\"#9c179e\"],[0.4444444444444444,\"#bd3786\"],[0.5555555555555556,\"#d8576b\"],[0.6666666666666666,\"#ed7953\"],[0.7777777777777778,\"#fb9f3a\"],[0.8888888888888888,\"#fdca26\"],[1.0,\"#f0f921\"]],\"sequentialminus\":[[0.0,\"#0d0887\"],[0.1111111111111111,\"#46039f\"],[0.2222222222222222,\"#7201a8\"],[0.3333333333333333,\"#9c179e\"],[0.4444444444444444,\"#bd3786\"],[0.5555555555555556,\"#d8576b\"],[0.6666666666666666,\"#ed7953\"],[0.7777777777777778,\"#fb9f3a\"],[0.8888888888888888,\"#fdca26\"],[1.0,\"#f0f921\"]]},\"colorway\":[\"#636efa\",\"#EF553B\",\"#00cc96\",\"#ab63fa\",\"#FFA15A\",\"#19d3f3\",\"#FF6692\",\"#B6E880\",\"#FF97FF\",\"#FECB52\"],\"font\":{\"color\":\"#2a3f5f\"},\"geo\":{\"bgcolor\":\"white\",\"lakecolor\":\"white\",\"landcolor\":\"#E5ECF6\",\"showlakes\":true,\"showland\":true,\"subunitcolor\":\"white\"},\"hoverlabel\":{\"align\":\"left\"},\"hovermode\":\"closest\",\"mapbox\":{\"style\":\"light\"},\"paper_bgcolor\":\"white\",\"plot_bgcolor\":\"#E5ECF6\",\"polar\":{\"angularaxis\":{\"gridcolor\":\"white\",\"linecolor\":\"white\",\"ticks\":\"\"},\"bgcolor\":\"#E5ECF6\",\"radialaxis\":{\"gridcolor\":\"white\",\"linecolor\":\"white\",\"ticks\":\"\"}},\"scene\":{\"xaxis\":{\"backgroundcolor\":\"#E5ECF6\",\"gridcolor\":\"white\",\"gridwidth\":2,\"linecolor\":\"white\",\"showbackground\":true,\"ticks\":\"\",\"zerolinecolor\":\"white\"},\"yaxis\":{\"backgroundcolor\":\"#E5ECF6\",\"gridcolor\":\"white\",\"gridwidth\":2,\"linecolor\":\"white\",\"showbackground\":true,\"ticks\":\"\",\"zerolinecolor\":\"white\"},\"zaxis\":{\"backgroundcolor\":\"#E5ECF6\",\"gridcolor\":\"white\",\"gridwidth\":2,\"linecolor\":\"white\",\"showbackground\":true,\"ticks\":\"\",\"zerolinecolor\":\"white\"}},\"shapedefaults\":{\"line\":{\"color\":\"#2a3f5f\"}},\"ternary\":{\"aaxis\":{\"gridcolor\":\"white\",\"linecolor\":\"white\",\"ticks\":\"\"},\"baxis\":{\"gridcolor\":\"white\",\"linecolor\":\"white\",\"ticks\":\"\"},\"bgcolor\":\"#E5ECF6\",\"caxis\":{\"gridcolor\":\"white\",\"linecolor\":\"white\",\"ticks\":\"\"}},\"title\":{\"x\":0.05},\"xaxis\":{\"automargin\":true,\"gridcolor\":\"white\",\"linecolor\":\"white\",\"ticks\":\"\",\"title\":{\"standoff\":15},\"zerolinecolor\":\"white\",\"zerolinewidth\":2},\"yaxis\":{\"automargin\":true,\"gridcolor\":\"white\",\"linecolor\":\"white\",\"ticks\":\"\",\"title\":{\"standoff\":15},\"zerolinecolor\":\"white\",\"zerolinewidth\":2}}},\"title\":{\"text\":\"Pair Premium\"},\"xaxis\":{\"anchor\":\"y\",\"domain\":[0.0,1.0],\"title\":{\"text\":\"Date\"}},\"yaxis\":{\"anchor\":\"x\",\"domain\":[0.0,1.0],\"title\":{\"text\":\"value\"}}},                        {\"responsive\": true}                    ).then(function(){\n",
       "                            \n",
       "var gd = document.getElementById('4aaff36b-0e5b-4f58-a47d-7b104ba1cae6');\n",
       "var x = new MutationObserver(function (mutations, observer) {{\n",
       "        var display = window.getComputedStyle(gd).display;\n",
       "        if (!display || display === 'none') {{\n",
       "            console.log([gd, 'removed!']);\n",
       "            Plotly.purge(gd);\n",
       "            observer.disconnect();\n",
       "        }}\n",
       "}});\n",
       "\n",
       "// Listen for the removal of the full notebook cells\n",
       "var notebookContainer = gd.closest('#notebook-container');\n",
       "if (notebookContainer) {{\n",
       "    x.observe(notebookContainer, {childList: true});\n",
       "}}\n",
       "\n",
       "// Listen for the clearing of the current output cell\n",
       "var outputEl = gd.closest('.output');\n",
       "if (outputEl) {{\n",
       "    x.observe(outputEl, {childList: true});\n",
       "}}\n",
       "\n",
       "                        })                };                });            </script>        </div>"
      ]
     },
     "metadata": {},
     "output_type": "display_data"
    }
   ],
   "source": [
    "fig = px.line(pair_historical.dropna().reset_index(), x=\"Date\", y=[\"PE Premium\", \"CE Premium\", \"Pair Premium\"], title=\"Pair Premium\")\n",
    "fig.add_hline((1+target)*pair_position['cost']/pair_position['quantity'], line_dash=\"dash\", line_color=\"green\", annotation_text='Target')\n",
    "fig.show()"
   ]
  },
  {
   "cell_type": "markdown",
   "id": "located-lambda",
   "metadata": {},
   "source": [
    "# Kelly Criterion"
   ]
  },
  {
   "cell_type": "markdown",
   "id": "numeric-calculation",
   "metadata": {},
   "source": [
    "Against losing on all pairs"
   ]
  },
  {
   "cell_type": "code",
   "execution_count": 93,
   "id": "designing-chamber",
   "metadata": {},
   "outputs": [],
   "source": [
    "import  numpy as np"
   ]
  },
  {
   "cell_type": "markdown",
   "id": "rational-deputy",
   "metadata": {},
   "source": [
    "### Capital Allocation"
   ]
  },
  {
   "cell_type": "markdown",
   "id": "subjective-membrane",
   "metadata": {},
   "source": [
    "Not considering partial losses"
   ]
  },
  {
   "cell_type": "code",
   "execution_count": 145,
   "id": "after-shock",
   "metadata": {},
   "outputs": [
    {
     "data": {
      "application/vnd.plotly.v1+json": {
       "config": {
        "plotlyServerURL": "https://plot.ly"
       },
       "data": [
        {
         "mode": "lines",
         "name": "2 Positions",
         "type": "scatter",
         "x": [
          0.05,
          0.060000000000000005,
          0.07,
          0.08000000000000002,
          0.09000000000000001,
          0.1,
          0.11000000000000001,
          0.12000000000000001,
          0.13,
          0.14,
          0.15000000000000002,
          0.16000000000000003,
          0.17000000000000004,
          0.18000000000000005,
          0.19,
          0.2,
          0.21000000000000002,
          0.22000000000000003,
          0.23000000000000004,
          0.24000000000000005,
          0.25000000000000006,
          0.26000000000000006,
          0.27,
          0.28,
          0.29000000000000004,
          0.30000000000000004,
          0.31000000000000005,
          0.32000000000000006,
          0.33,
          0.34,
          0.35000000000000003,
          0.36000000000000004,
          0.37000000000000005,
          0.38000000000000006,
          0.39000000000000007,
          0.4000000000000001,
          0.4100000000000001,
          0.42000000000000004,
          0.43000000000000005,
          0.44000000000000006,
          0.45000000000000007,
          0.4600000000000001,
          0.4700000000000001,
          0.4800000000000001,
          0.49000000000000005
         ],
         "y": [
          0,
          0,
          0,
          0,
          0,
          0,
          0,
          0,
          0,
          0,
          0,
          0,
          0,
          0,
          0,
          0.039999999999999813,
          0.078095238095238,
          0.11272727272727268,
          0.1443478260869565,
          0.17333333333333334,
          0.19999999999999996,
          0.22461538461538466,
          0.2474074074074073,
          0.26857142857142846,
          0.2882758620689655,
          0.30666666666666664,
          0.32387096774193547,
          0.33999999999999997,
          0.35515151515151505,
          0.3694117647058823,
          0.3828571428571428,
          0.3955555555555555,
          0.4075675675675675,
          0.41894736842105257,
          0.4297435897435897,
          0.43999999999999995,
          0.44975609756097557,
          0.459047619047619,
          0.46790697674418597,
          0.4763636363636363,
          0.4844444444444444,
          0.49217391304347824,
          0.49957446808510636,
          0.5066666666666666,
          0.513469387755102
         ]
        },
        {
         "mode": "lines",
         "name": "3 Positions",
         "type": "scatter",
         "x": [
          0.05,
          0.060000000000000005,
          0.07,
          0.08000000000000002,
          0.09000000000000001,
          0.1,
          0.11000000000000001,
          0.12000000000000001,
          0.13,
          0.14,
          0.15000000000000002,
          0.16000000000000003,
          0.17000000000000004,
          0.18000000000000005,
          0.19,
          0.2,
          0.21000000000000002,
          0.22000000000000003,
          0.23000000000000004,
          0.24000000000000005,
          0.25000000000000006,
          0.26000000000000006,
          0.27,
          0.28,
          0.29000000000000004,
          0.30000000000000004,
          0.31000000000000005,
          0.32000000000000006,
          0.33,
          0.34,
          0.35000000000000003,
          0.36000000000000004,
          0.37000000000000005,
          0.38000000000000006,
          0.39000000000000007,
          0.4000000000000001,
          0.4100000000000001,
          0.42000000000000004,
          0.43000000000000005,
          0.44000000000000006,
          0.45000000000000007,
          0.4600000000000001,
          0.4700000000000001,
          0.4800000000000001,
          0.49000000000000005
         ],
         "y": [
          0,
          0,
          0.02171428571428491,
          0.13599999999999934,
          0.22488888888888825,
          0.2959999999999994,
          0.3541818181818177,
          0.4026666666666662,
          0.4436923076923072,
          0.4788571428571424,
          0.509333333333333,
          0.5359999999999996,
          0.5595294117647056,
          0.5804444444444441,
          0.5991578947368418,
          0.6159999999999997,
          0.6312380952380949,
          0.6450909090909088,
          0.6577391304347824,
          0.6693333333333331,
          0.6799999999999997,
          0.6898461538461537,
          0.6989629629629627,
          0.7074285714285712,
          0.7153103448275859,
          0.7226666666666665,
          0.729548387096774,
          0.7359999999999998,
          0.7420606060606059,
          0.7477647058823527,
          0.7531428571428569,
          0.758222222222222,
          0.7630270270270268,
          0.7675789473684209,
          0.7718974358974358,
          0.7759999999999998,
          0.77990243902439,
          0.7836190476190474,
          0.7871627906976743,
          0.7905454545454544,
          0.7937777777777776,
          0.7968695652173912,
          0.7998297872340424,
          0.8026666666666665,
          0.8053877551020406
         ]
        },
        {
         "mode": "lines",
         "name": "4 Positions",
         "type": "scatter",
         "x": [
          0.05,
          0.060000000000000005,
          0.07,
          0.08000000000000002,
          0.09000000000000001,
          0.1,
          0.11000000000000001,
          0.12000000000000001,
          0.13,
          0.14,
          0.15000000000000002,
          0.16000000000000003,
          0.17000000000000004,
          0.18000000000000005,
          0.19,
          0.2,
          0.21000000000000002,
          0.22000000000000003,
          0.23000000000000004,
          0.24000000000000005,
          0.25000000000000006,
          0.26000000000000006,
          0.27,
          0.28,
          0.29000000000000004,
          0.30000000000000004,
          0.31000000000000005,
          0.32000000000000006,
          0.33,
          0.34,
          0.35000000000000003,
          0.36000000000000004,
          0.37000000000000005,
          0.38000000000000006,
          0.39000000000000007,
          0.4000000000000001,
          0.4100000000000001,
          0.42000000000000004,
          0.43000000000000005,
          0.44000000000000006,
          0.45000000000000007,
          0.4600000000000001,
          0.4700000000000001,
          0.4800000000000001,
          0.49000000000000005
         ],
         "y": [
          0.4624000000000009,
          0.5477333333333341,
          0.6086857142857149,
          0.6544000000000006,
          0.6899555555555561,
          0.7184000000000005,
          0.7416727272727277,
          0.7610666666666671,
          0.7774769230769234,
          0.7915428571428575,
          0.8037333333333336,
          0.8144000000000003,
          0.8238117647058827,
          0.8321777777777781,
          0.8396631578947371,
          0.8464000000000003,
          0.8524952380952384,
          0.8580363636363639,
          0.8630956521739133,
          0.8677333333333336,
          0.8720000000000002,
          0.8759384615384618,
          0.8795851851851854,
          0.8829714285714287,
          0.8861241379310347,
          0.8890666666666669,
          0.8918193548387099,
          0.8944000000000002,
          0.8968242424242426,
          0.8991058823529413,
          0.901257142857143,
          0.903288888888889,
          0.905210810810811,
          0.9070315789473686,
          0.9087589743589746,
          0.9104000000000002,
          0.9119609756097563,
          0.9134476190476192,
          0.91486511627907,
          0.9162181818181819,
          0.9175111111111113,
          0.9187478260869567,
          0.9199319148936171,
          0.9210666666666668,
          0.9221551020408165
         ]
        },
        {
         "mode": "lines",
         "name": "5 Positions",
         "type": "scatter",
         "x": [
          0.05,
          0.060000000000000005,
          0.07,
          0.08000000000000002,
          0.09000000000000001,
          0.1,
          0.11000000000000001,
          0.12000000000000001,
          0.13,
          0.14,
          0.15000000000000002,
          0.16000000000000003,
          0.17000000000000004,
          0.18000000000000005,
          0.19,
          0.2,
          0.21000000000000002,
          0.22000000000000003,
          0.23000000000000004,
          0.24000000000000005,
          0.25000000000000006,
          0.26000000000000006,
          0.27,
          0.28,
          0.29000000000000004,
          0.30000000000000004,
          0.31000000000000005,
          0.32000000000000006,
          0.33,
          0.34,
          0.35000000000000003,
          0.36000000000000004,
          0.37000000000000005,
          0.38000000000000006,
          0.39000000000000007,
          0.4000000000000001,
          0.4100000000000001,
          0.42000000000000004,
          0.43000000000000005,
          0.44000000000000006,
          0.45000000000000007,
          0.4600000000000001,
          0.4700000000000001,
          0.4800000000000001,
          0.49000000000000005
         ],
         "y": [
          0.7849599999999994,
          0.8190933333333329,
          0.8434742857142853,
          0.8617599999999996,
          0.8759822222222219,
          0.8873599999999997,
          0.8966690909090906,
          0.9044266666666664,
          0.910990769230769,
          0.9166171428571427,
          0.9214933333333332,
          0.9257599999999998,
          0.9295247058823528,
          0.932871111111111,
          0.9358652631578945,
          0.9385599999999998,
          0.9409980952380951,
          0.9432145454545453,
          0.9452382608695651,
          0.9470933333333332,
          0.9487999999999999,
          0.9503753846153845,
          0.9518340740740739,
          0.9531885714285713,
          0.9544496551724136,
          0.9556266666666665,
          0.9567277419354838,
          0.95776,
          0.9587296969696969,
          0.9596423529411764,
          0.960502857142857,
          0.9613155555555555,
          0.9620843243243242,
          0.9628126315789473,
          0.9635035897435896,
          0.9641599999999999,
          0.9647843902439024,
          0.9653790476190476,
          0.9659460465116279,
          0.9664872727272726,
          0.9670044444444443,
          0.9674991304347825,
          0.9679727659574467,
          0.9684266666666665,
          0.9688620408163264
         ]
        }
       ],
       "layout": {
        "annotations": [
         {
          "showarrow": false,
          "text": "10 % Allocation Threshold",
          "x": 1,
          "xanchor": "right",
          "xref": "x domain",
          "y": 0.1,
          "yanchor": "bottom",
          "yref": "y"
         }
        ],
        "autosize": true,
        "font": {
         "color": "RebeccaPurple",
         "size": 12
        },
        "legend": {
         "title": {
          "text": "Number of Positions"
         }
        },
        "shapes": [
         {
          "line": {
           "color": "red",
           "dash": "dash"
          },
          "type": "line",
          "x0": 0,
          "x1": 1,
          "xref": "x domain",
          "y0": 0.1,
          "y1": 0.1,
          "yref": "y"
         }
        ],
        "template": {
         "data": {
          "bar": [
           {
            "error_x": {
             "color": "#2a3f5f"
            },
            "error_y": {
             "color": "#2a3f5f"
            },
            "marker": {
             "line": {
              "color": "#E5ECF6",
              "width": 0.5
             },
             "pattern": {
              "fillmode": "overlay",
              "size": 10,
              "solidity": 0.2
             }
            },
            "type": "bar"
           }
          ],
          "barpolar": [
           {
            "marker": {
             "line": {
              "color": "#E5ECF6",
              "width": 0.5
             },
             "pattern": {
              "fillmode": "overlay",
              "size": 10,
              "solidity": 0.2
             }
            },
            "type": "barpolar"
           }
          ],
          "carpet": [
           {
            "aaxis": {
             "endlinecolor": "#2a3f5f",
             "gridcolor": "white",
             "linecolor": "white",
             "minorgridcolor": "white",
             "startlinecolor": "#2a3f5f"
            },
            "baxis": {
             "endlinecolor": "#2a3f5f",
             "gridcolor": "white",
             "linecolor": "white",
             "minorgridcolor": "white",
             "startlinecolor": "#2a3f5f"
            },
            "type": "carpet"
           }
          ],
          "choropleth": [
           {
            "colorbar": {
             "outlinewidth": 0,
             "ticks": ""
            },
            "type": "choropleth"
           }
          ],
          "contour": [
           {
            "colorbar": {
             "outlinewidth": 0,
             "ticks": ""
            },
            "colorscale": [
             [
              0,
              "#0d0887"
             ],
             [
              0.1111111111111111,
              "#46039f"
             ],
             [
              0.2222222222222222,
              "#7201a8"
             ],
             [
              0.3333333333333333,
              "#9c179e"
             ],
             [
              0.4444444444444444,
              "#bd3786"
             ],
             [
              0.5555555555555556,
              "#d8576b"
             ],
             [
              0.6666666666666666,
              "#ed7953"
             ],
             [
              0.7777777777777778,
              "#fb9f3a"
             ],
             [
              0.8888888888888888,
              "#fdca26"
             ],
             [
              1,
              "#f0f921"
             ]
            ],
            "type": "contour"
           }
          ],
          "contourcarpet": [
           {
            "colorbar": {
             "outlinewidth": 0,
             "ticks": ""
            },
            "type": "contourcarpet"
           }
          ],
          "heatmap": [
           {
            "colorbar": {
             "outlinewidth": 0,
             "ticks": ""
            },
            "colorscale": [
             [
              0,
              "#0d0887"
             ],
             [
              0.1111111111111111,
              "#46039f"
             ],
             [
              0.2222222222222222,
              "#7201a8"
             ],
             [
              0.3333333333333333,
              "#9c179e"
             ],
             [
              0.4444444444444444,
              "#bd3786"
             ],
             [
              0.5555555555555556,
              "#d8576b"
             ],
             [
              0.6666666666666666,
              "#ed7953"
             ],
             [
              0.7777777777777778,
              "#fb9f3a"
             ],
             [
              0.8888888888888888,
              "#fdca26"
             ],
             [
              1,
              "#f0f921"
             ]
            ],
            "type": "heatmap"
           }
          ],
          "heatmapgl": [
           {
            "colorbar": {
             "outlinewidth": 0,
             "ticks": ""
            },
            "colorscale": [
             [
              0,
              "#0d0887"
             ],
             [
              0.1111111111111111,
              "#46039f"
             ],
             [
              0.2222222222222222,
              "#7201a8"
             ],
             [
              0.3333333333333333,
              "#9c179e"
             ],
             [
              0.4444444444444444,
              "#bd3786"
             ],
             [
              0.5555555555555556,
              "#d8576b"
             ],
             [
              0.6666666666666666,
              "#ed7953"
             ],
             [
              0.7777777777777778,
              "#fb9f3a"
             ],
             [
              0.8888888888888888,
              "#fdca26"
             ],
             [
              1,
              "#f0f921"
             ]
            ],
            "type": "heatmapgl"
           }
          ],
          "histogram": [
           {
            "marker": {
             "pattern": {
              "fillmode": "overlay",
              "size": 10,
              "solidity": 0.2
             }
            },
            "type": "histogram"
           }
          ],
          "histogram2d": [
           {
            "colorbar": {
             "outlinewidth": 0,
             "ticks": ""
            },
            "colorscale": [
             [
              0,
              "#0d0887"
             ],
             [
              0.1111111111111111,
              "#46039f"
             ],
             [
              0.2222222222222222,
              "#7201a8"
             ],
             [
              0.3333333333333333,
              "#9c179e"
             ],
             [
              0.4444444444444444,
              "#bd3786"
             ],
             [
              0.5555555555555556,
              "#d8576b"
             ],
             [
              0.6666666666666666,
              "#ed7953"
             ],
             [
              0.7777777777777778,
              "#fb9f3a"
             ],
             [
              0.8888888888888888,
              "#fdca26"
             ],
             [
              1,
              "#f0f921"
             ]
            ],
            "type": "histogram2d"
           }
          ],
          "histogram2dcontour": [
           {
            "colorbar": {
             "outlinewidth": 0,
             "ticks": ""
            },
            "colorscale": [
             [
              0,
              "#0d0887"
             ],
             [
              0.1111111111111111,
              "#46039f"
             ],
             [
              0.2222222222222222,
              "#7201a8"
             ],
             [
              0.3333333333333333,
              "#9c179e"
             ],
             [
              0.4444444444444444,
              "#bd3786"
             ],
             [
              0.5555555555555556,
              "#d8576b"
             ],
             [
              0.6666666666666666,
              "#ed7953"
             ],
             [
              0.7777777777777778,
              "#fb9f3a"
             ],
             [
              0.8888888888888888,
              "#fdca26"
             ],
             [
              1,
              "#f0f921"
             ]
            ],
            "type": "histogram2dcontour"
           }
          ],
          "mesh3d": [
           {
            "colorbar": {
             "outlinewidth": 0,
             "ticks": ""
            },
            "type": "mesh3d"
           }
          ],
          "parcoords": [
           {
            "line": {
             "colorbar": {
              "outlinewidth": 0,
              "ticks": ""
             }
            },
            "type": "parcoords"
           }
          ],
          "pie": [
           {
            "automargin": true,
            "type": "pie"
           }
          ],
          "scatter": [
           {
            "marker": {
             "colorbar": {
              "outlinewidth": 0,
              "ticks": ""
             }
            },
            "type": "scatter"
           }
          ],
          "scatter3d": [
           {
            "line": {
             "colorbar": {
              "outlinewidth": 0,
              "ticks": ""
             }
            },
            "marker": {
             "colorbar": {
              "outlinewidth": 0,
              "ticks": ""
             }
            },
            "type": "scatter3d"
           }
          ],
          "scattercarpet": [
           {
            "marker": {
             "colorbar": {
              "outlinewidth": 0,
              "ticks": ""
             }
            },
            "type": "scattercarpet"
           }
          ],
          "scattergeo": [
           {
            "marker": {
             "colorbar": {
              "outlinewidth": 0,
              "ticks": ""
             }
            },
            "type": "scattergeo"
           }
          ],
          "scattergl": [
           {
            "marker": {
             "colorbar": {
              "outlinewidth": 0,
              "ticks": ""
             }
            },
            "type": "scattergl"
           }
          ],
          "scattermapbox": [
           {
            "marker": {
             "colorbar": {
              "outlinewidth": 0,
              "ticks": ""
             }
            },
            "type": "scattermapbox"
           }
          ],
          "scatterpolar": [
           {
            "marker": {
             "colorbar": {
              "outlinewidth": 0,
              "ticks": ""
             }
            },
            "type": "scatterpolar"
           }
          ],
          "scatterpolargl": [
           {
            "marker": {
             "colorbar": {
              "outlinewidth": 0,
              "ticks": ""
             }
            },
            "type": "scatterpolargl"
           }
          ],
          "scatterternary": [
           {
            "marker": {
             "colorbar": {
              "outlinewidth": 0,
              "ticks": ""
             }
            },
            "type": "scatterternary"
           }
          ],
          "surface": [
           {
            "colorbar": {
             "outlinewidth": 0,
             "ticks": ""
            },
            "colorscale": [
             [
              0,
              "#0d0887"
             ],
             [
              0.1111111111111111,
              "#46039f"
             ],
             [
              0.2222222222222222,
              "#7201a8"
             ],
             [
              0.3333333333333333,
              "#9c179e"
             ],
             [
              0.4444444444444444,
              "#bd3786"
             ],
             [
              0.5555555555555556,
              "#d8576b"
             ],
             [
              0.6666666666666666,
              "#ed7953"
             ],
             [
              0.7777777777777778,
              "#fb9f3a"
             ],
             [
              0.8888888888888888,
              "#fdca26"
             ],
             [
              1,
              "#f0f921"
             ]
            ],
            "type": "surface"
           }
          ],
          "table": [
           {
            "cells": {
             "fill": {
              "color": "#EBF0F8"
             },
             "line": {
              "color": "white"
             }
            },
            "header": {
             "fill": {
              "color": "#C8D4E3"
             },
             "line": {
              "color": "white"
             }
            },
            "type": "table"
           }
          ]
         },
         "layout": {
          "annotationdefaults": {
           "arrowcolor": "#2a3f5f",
           "arrowhead": 0,
           "arrowwidth": 1
          },
          "autotypenumbers": "strict",
          "coloraxis": {
           "colorbar": {
            "outlinewidth": 0,
            "ticks": ""
           }
          },
          "colorscale": {
           "diverging": [
            [
             0,
             "#8e0152"
            ],
            [
             0.1,
             "#c51b7d"
            ],
            [
             0.2,
             "#de77ae"
            ],
            [
             0.3,
             "#f1b6da"
            ],
            [
             0.4,
             "#fde0ef"
            ],
            [
             0.5,
             "#f7f7f7"
            ],
            [
             0.6,
             "#e6f5d0"
            ],
            [
             0.7,
             "#b8e186"
            ],
            [
             0.8,
             "#7fbc41"
            ],
            [
             0.9,
             "#4d9221"
            ],
            [
             1,
             "#276419"
            ]
           ],
           "sequential": [
            [
             0,
             "#0d0887"
            ],
            [
             0.1111111111111111,
             "#46039f"
            ],
            [
             0.2222222222222222,
             "#7201a8"
            ],
            [
             0.3333333333333333,
             "#9c179e"
            ],
            [
             0.4444444444444444,
             "#bd3786"
            ],
            [
             0.5555555555555556,
             "#d8576b"
            ],
            [
             0.6666666666666666,
             "#ed7953"
            ],
            [
             0.7777777777777778,
             "#fb9f3a"
            ],
            [
             0.8888888888888888,
             "#fdca26"
            ],
            [
             1,
             "#f0f921"
            ]
           ],
           "sequentialminus": [
            [
             0,
             "#0d0887"
            ],
            [
             0.1111111111111111,
             "#46039f"
            ],
            [
             0.2222222222222222,
             "#7201a8"
            ],
            [
             0.3333333333333333,
             "#9c179e"
            ],
            [
             0.4444444444444444,
             "#bd3786"
            ],
            [
             0.5555555555555556,
             "#d8576b"
            ],
            [
             0.6666666666666666,
             "#ed7953"
            ],
            [
             0.7777777777777778,
             "#fb9f3a"
            ],
            [
             0.8888888888888888,
             "#fdca26"
            ],
            [
             1,
             "#f0f921"
            ]
           ]
          },
          "colorway": [
           "#636efa",
           "#EF553B",
           "#00cc96",
           "#ab63fa",
           "#FFA15A",
           "#19d3f3",
           "#FF6692",
           "#B6E880",
           "#FF97FF",
           "#FECB52"
          ],
          "font": {
           "color": "#2a3f5f"
          },
          "geo": {
           "bgcolor": "white",
           "lakecolor": "white",
           "landcolor": "#E5ECF6",
           "showlakes": true,
           "showland": true,
           "subunitcolor": "white"
          },
          "hoverlabel": {
           "align": "left"
          },
          "hovermode": "closest",
          "mapbox": {
           "style": "light"
          },
          "paper_bgcolor": "white",
          "plot_bgcolor": "#E5ECF6",
          "polar": {
           "angularaxis": {
            "gridcolor": "white",
            "linecolor": "white",
            "ticks": ""
           },
           "bgcolor": "#E5ECF6",
           "radialaxis": {
            "gridcolor": "white",
            "linecolor": "white",
            "ticks": ""
           }
          },
          "scene": {
           "xaxis": {
            "backgroundcolor": "#E5ECF6",
            "gridcolor": "white",
            "gridwidth": 2,
            "linecolor": "white",
            "showbackground": true,
            "ticks": "",
            "zerolinecolor": "white"
           },
           "yaxis": {
            "backgroundcolor": "#E5ECF6",
            "gridcolor": "white",
            "gridwidth": 2,
            "linecolor": "white",
            "showbackground": true,
            "ticks": "",
            "zerolinecolor": "white"
           },
           "zaxis": {
            "backgroundcolor": "#E5ECF6",
            "gridcolor": "white",
            "gridwidth": 2,
            "linecolor": "white",
            "showbackground": true,
            "ticks": "",
            "zerolinecolor": "white"
           }
          },
          "shapedefaults": {
           "line": {
            "color": "#2a3f5f"
           }
          },
          "ternary": {
           "aaxis": {
            "gridcolor": "white",
            "linecolor": "white",
            "ticks": ""
           },
           "baxis": {
            "gridcolor": "white",
            "linecolor": "white",
            "ticks": ""
           },
           "bgcolor": "#E5ECF6",
           "caxis": {
            "gridcolor": "white",
            "linecolor": "white",
            "ticks": ""
           }
          },
          "title": {
           "x": 0.05
          },
          "xaxis": {
           "automargin": true,
           "gridcolor": "white",
           "linecolor": "white",
           "ticks": "",
           "title": {
            "standoff": 15
           },
           "zerolinecolor": "white",
           "zerolinewidth": 2
          },
          "yaxis": {
           "automargin": true,
           "gridcolor": "white",
           "linecolor": "white",
           "ticks": "",
           "title": {
            "standoff": 15
           },
           "zerolinecolor": "white",
           "zerolinewidth": 2
          }
         }
        },
        "title": {
         "text": "Strategy Capital Allocation vs Target Returns"
        },
        "xaxis": {
         "autorange": true,
         "range": [
          0.05,
          0.49000000000000005
         ],
         "title": {
          "text": "Expected returns"
         },
         "type": "linear"
        },
        "yaxis": {
         "autorange": true,
         "range": [
          -0.05382566893424035,
          1.0226877097505669
         ],
         "title": {
          "text": "Fraction of Total Capital Invested"
         },
         "type": "linear"
        }
       }
      },
      "image/png": "[encoded data removed]",
      "text/html": [
       "<div>                            <div id=\"c5e6c582-dc6c-4d69-be7f-d271d44ed301\" class=\"plotly-graph-div\" style=\"height:525px; width:100%;\"></div>            <script type=\"text/javascript\">                require([\"plotly\"], function(Plotly) {                    window.PLOTLYENV=window.PLOTLYENV || {};                                    if (document.getElementById(\"c5e6c582-dc6c-4d69-be7f-d271d44ed301\")) {                    Plotly.newPlot(                        \"c5e6c582-dc6c-4d69-be7f-d271d44ed301\",                        [{\"mode\":\"lines\",\"name\":\"2 Positions\",\"type\":\"scatter\",\"x\":[0.05,0.060000000000000005,0.07,0.08000000000000002,0.09000000000000001,0.1,0.11000000000000001,0.12000000000000001,0.13,0.14,0.15000000000000002,0.16000000000000003,0.17000000000000004,0.18000000000000005,0.19,0.2,0.21000000000000002,0.22000000000000003,0.23000000000000004,0.24000000000000005,0.25000000000000006,0.26000000000000006,0.27,0.28,0.29000000000000004,0.30000000000000004,0.31000000000000005,0.32000000000000006,0.33,0.34,0.35000000000000003,0.36000000000000004,0.37000000000000005,0.38000000000000006,0.39000000000000007,0.4000000000000001,0.4100000000000001,0.42000000000000004,0.43000000000000005,0.44000000000000006,0.45000000000000007,0.4600000000000001,0.4700000000000001,0.4800000000000001,0.49000000000000005],\"y\":[0.0,0.0,0.0,0.0,0.0,0.0,0.0,0.0,0.0,0.0,0.0,0.0,0.0,0.0,0.0,0.039999999999999813,0.078095238095238,0.11272727272727268,0.1443478260869565,0.17333333333333334,0.19999999999999996,0.22461538461538466,0.2474074074074073,0.26857142857142846,0.2882758620689655,0.30666666666666664,0.32387096774193547,0.33999999999999997,0.35515151515151505,0.3694117647058823,0.3828571428571428,0.3955555555555555,0.4075675675675675,0.41894736842105257,0.4297435897435897,0.43999999999999995,0.44975609756097557,0.459047619047619,0.46790697674418597,0.4763636363636363,0.4844444444444444,0.49217391304347824,0.49957446808510636,0.5066666666666666,0.513469387755102]},{\"mode\":\"lines\",\"name\":\"3 Positions\",\"type\":\"scatter\",\"x\":[0.05,0.060000000000000005,0.07,0.08000000000000002,0.09000000000000001,0.1,0.11000000000000001,0.12000000000000001,0.13,0.14,0.15000000000000002,0.16000000000000003,0.17000000000000004,0.18000000000000005,0.19,0.2,0.21000000000000002,0.22000000000000003,0.23000000000000004,0.24000000000000005,0.25000000000000006,0.26000000000000006,0.27,0.28,0.29000000000000004,0.30000000000000004,0.31000000000000005,0.32000000000000006,0.33,0.34,0.35000000000000003,0.36000000000000004,0.37000000000000005,0.38000000000000006,0.39000000000000007,0.4000000000000001,0.4100000000000001,0.42000000000000004,0.43000000000000005,0.44000000000000006,0.45000000000000007,0.4600000000000001,0.4700000000000001,0.4800000000000001,0.49000000000000005],\"y\":[0.0,0.0,0.02171428571428491,0.13599999999999934,0.22488888888888825,0.2959999999999994,0.3541818181818177,0.4026666666666662,0.4436923076923072,0.4788571428571424,0.509333333333333,0.5359999999999996,0.5595294117647056,0.5804444444444441,0.5991578947368418,0.6159999999999997,0.6312380952380949,0.6450909090909088,0.6577391304347824,0.6693333333333331,0.6799999999999997,0.6898461538461537,0.6989629629629627,0.7074285714285712,0.7153103448275859,0.7226666666666665,0.729548387096774,0.7359999999999998,0.7420606060606059,0.7477647058823527,0.7531428571428569,0.758222222222222,0.7630270270270268,0.7675789473684209,0.7718974358974358,0.7759999999999998,0.77990243902439,0.7836190476190474,0.7871627906976743,0.7905454545454544,0.7937777777777776,0.7968695652173912,0.7998297872340424,0.8026666666666665,0.8053877551020406]},{\"mode\":\"lines\",\"name\":\"4 Positions\",\"type\":\"scatter\",\"x\":[0.05,0.060000000000000005,0.07,0.08000000000000002,0.09000000000000001,0.1,0.11000000000000001,0.12000000000000001,0.13,0.14,0.15000000000000002,0.16000000000000003,0.17000000000000004,0.18000000000000005,0.19,0.2,0.21000000000000002,0.22000000000000003,0.23000000000000004,0.24000000000000005,0.25000000000000006,0.26000000000000006,0.27,0.28,0.29000000000000004,0.30000000000000004,0.31000000000000005,0.32000000000000006,0.33,0.34,0.35000000000000003,0.36000000000000004,0.37000000000000005,0.38000000000000006,0.39000000000000007,0.4000000000000001,0.4100000000000001,0.42000000000000004,0.43000000000000005,0.44000000000000006,0.45000000000000007,0.4600000000000001,0.4700000000000001,0.4800000000000001,0.49000000000000005],\"y\":[0.4624000000000009,0.5477333333333341,0.6086857142857149,0.6544000000000006,0.6899555555555561,0.7184000000000005,0.7416727272727277,0.7610666666666671,0.7774769230769234,0.7915428571428575,0.8037333333333336,0.8144000000000003,0.8238117647058827,0.8321777777777781,0.8396631578947371,0.8464000000000003,0.8524952380952384,0.8580363636363639,0.8630956521739133,0.8677333333333336,0.8720000000000002,0.8759384615384618,0.8795851851851854,0.8829714285714287,0.8861241379310347,0.8890666666666669,0.8918193548387099,0.8944000000000002,0.8968242424242426,0.8991058823529413,0.901257142857143,0.903288888888889,0.905210810810811,0.9070315789473686,0.9087589743589746,0.9104000000000002,0.9119609756097563,0.9134476190476192,0.91486511627907,0.9162181818181819,0.9175111111111113,0.9187478260869567,0.9199319148936171,0.9210666666666668,0.9221551020408165]},{\"mode\":\"lines\",\"name\":\"5 Positions\",\"type\":\"scatter\",\"x\":[0.05,0.060000000000000005,0.07,0.08000000000000002,0.09000000000000001,0.1,0.11000000000000001,0.12000000000000001,0.13,0.14,0.15000000000000002,0.16000000000000003,0.17000000000000004,0.18000000000000005,0.19,0.2,0.21000000000000002,0.22000000000000003,0.23000000000000004,0.24000000000000005,0.25000000000000006,0.26000000000000006,0.27,0.28,0.29000000000000004,0.30000000000000004,0.31000000000000005,0.32000000000000006,0.33,0.34,0.35000000000000003,0.36000000000000004,0.37000000000000005,0.38000000000000006,0.39000000000000007,0.4000000000000001,0.4100000000000001,0.42000000000000004,0.43000000000000005,0.44000000000000006,0.45000000000000007,0.4600000000000001,0.4700000000000001,0.4800000000000001,0.49000000000000005],\"y\":[0.7849599999999994,0.8190933333333329,0.8434742857142853,0.8617599999999996,0.8759822222222219,0.8873599999999997,0.8966690909090906,0.9044266666666664,0.910990769230769,0.9166171428571427,0.9214933333333332,0.9257599999999998,0.9295247058823528,0.932871111111111,0.9358652631578945,0.9385599999999998,0.9409980952380951,0.9432145454545453,0.9452382608695651,0.9470933333333332,0.9487999999999999,0.9503753846153845,0.9518340740740739,0.9531885714285713,0.9544496551724136,0.9556266666666665,0.9567277419354838,0.95776,0.9587296969696969,0.9596423529411764,0.960502857142857,0.9613155555555555,0.9620843243243242,0.9628126315789473,0.9635035897435896,0.9641599999999999,0.9647843902439024,0.9653790476190476,0.9659460465116279,0.9664872727272726,0.9670044444444443,0.9674991304347825,0.9679727659574467,0.9684266666666665,0.9688620408163264]}],                        {\"annotations\":[{\"showarrow\":false,\"text\":\"10 % Allocation Threshold\",\"x\":1,\"xanchor\":\"right\",\"xref\":\"x domain\",\"y\":0.1,\"yanchor\":\"bottom\",\"yref\":\"y\"}],\"font\":{\"color\":\"RebeccaPurple\",\"size\":12},\"legend\":{\"title\":{\"text\":\"Number of Positions\"}},\"shapes\":[{\"line\":{\"color\":\"red\",\"dash\":\"dash\"},\"type\":\"line\",\"x0\":0,\"x1\":1,\"xref\":\"x domain\",\"y0\":0.1,\"y1\":0.1,\"yref\":\"y\"}],\"template\":{\"data\":{\"bar\":[{\"error_x\":{\"color\":\"#2a3f5f\"},\"error_y\":{\"color\":\"#2a3f5f\"},\"marker\":{\"line\":{\"color\":\"#E5ECF6\",\"width\":0.5},\"pattern\":{\"fillmode\":\"overlay\",\"size\":10,\"solidity\":0.2}},\"type\":\"bar\"}],\"barpolar\":[{\"marker\":{\"line\":{\"color\":\"#E5ECF6\",\"width\":0.5},\"pattern\":{\"fillmode\":\"overlay\",\"size\":10,\"solidity\":0.2}},\"type\":\"barpolar\"}],\"carpet\":[{\"aaxis\":{\"endlinecolor\":\"#2a3f5f\",\"gridcolor\":\"white\",\"linecolor\":\"white\",\"minorgridcolor\":\"white\",\"startlinecolor\":\"#2a3f5f\"},\"baxis\":{\"endlinecolor\":\"#2a3f5f\",\"gridcolor\":\"white\",\"linecolor\":\"white\",\"minorgridcolor\":\"white\",\"startlinecolor\":\"#2a3f5f\"},\"type\":\"carpet\"}],\"choropleth\":[{\"colorbar\":{\"outlinewidth\":0,\"ticks\":\"\"},\"type\":\"choropleth\"}],\"contour\":[{\"colorbar\":{\"outlinewidth\":0,\"ticks\":\"\"},\"colorscale\":[[0.0,\"#0d0887\"],[0.1111111111111111,\"#46039f\"],[0.2222222222222222,\"#7201a8\"],[0.3333333333333333,\"#9c179e\"],[0.4444444444444444,\"#bd3786\"],[0.5555555555555556,\"#d8576b\"],[0.6666666666666666,\"#ed7953\"],[0.7777777777777778,\"#fb9f3a\"],[0.8888888888888888,\"#fdca26\"],[1.0,\"#f0f921\"]],\"type\":\"contour\"}],\"contourcarpet\":[{\"colorbar\":{\"outlinewidth\":0,\"ticks\":\"\"},\"type\":\"contourcarpet\"}],\"heatmap\":[{\"colorbar\":{\"outlinewidth\":0,\"ticks\":\"\"},\"colorscale\":[[0.0,\"#0d0887\"],[0.1111111111111111,\"#46039f\"],[0.2222222222222222,\"#7201a8\"],[0.3333333333333333,\"#9c179e\"],[0.4444444444444444,\"#bd3786\"],[0.5555555555555556,\"#d8576b\"],[0.6666666666666666,\"#ed7953\"],[0.7777777777777778,\"#fb9f3a\"],[0.8888888888888888,\"#fdca26\"],[1.0,\"#f0f921\"]],\"type\":\"heatmap\"}],\"heatmapgl\":[{\"colorbar\":{\"outlinewidth\":0,\"ticks\":\"\"},\"colorscale\":[[0.0,\"#0d0887\"],[0.1111111111111111,\"#46039f\"],[0.2222222222222222,\"#7201a8\"],[0.3333333333333333,\"#9c179e\"],[0.4444444444444444,\"#bd3786\"],[0.5555555555555556,\"#d8576b\"],[0.6666666666666666,\"#ed7953\"],[0.7777777777777778,\"#fb9f3a\"],[0.8888888888888888,\"#fdca26\"],[1.0,\"#f0f921\"]],\"type\":\"heatmapgl\"}],\"histogram\":[{\"marker\":{\"pattern\":{\"fillmode\":\"overlay\",\"size\":10,\"solidity\":0.2}},\"type\":\"histogram\"}],\"histogram2d\":[{\"colorbar\":{\"outlinewidth\":0,\"ticks\":\"\"},\"colorscale\":[[0.0,\"#0d0887\"],[0.1111111111111111,\"#46039f\"],[0.2222222222222222,\"#7201a8\"],[0.3333333333333333,\"#9c179e\"],[0.4444444444444444,\"#bd3786\"],[0.5555555555555556,\"#d8576b\"],[0.6666666666666666,\"#ed7953\"],[0.7777777777777778,\"#fb9f3a\"],[0.8888888888888888,\"#fdca26\"],[1.0,\"#f0f921\"]],\"type\":\"histogram2d\"}],\"histogram2dcontour\":[{\"colorbar\":{\"outlinewidth\":0,\"ticks\":\"\"},\"colorscale\":[[0.0,\"#0d0887\"],[0.1111111111111111,\"#46039f\"],[0.2222222222222222,\"#7201a8\"],[0.3333333333333333,\"#9c179e\"],[0.4444444444444444,\"#bd3786\"],[0.5555555555555556,\"#d8576b\"],[0.6666666666666666,\"#ed7953\"],[0.7777777777777778,\"#fb9f3a\"],[0.8888888888888888,\"#fdca26\"],[1.0,\"#f0f921\"]],\"type\":\"histogram2dcontour\"}],\"mesh3d\":[{\"colorbar\":{\"outlinewidth\":0,\"ticks\":\"\"},\"type\":\"mesh3d\"}],\"parcoords\":[{\"line\":{\"colorbar\":{\"outlinewidth\":0,\"ticks\":\"\"}},\"type\":\"parcoords\"}],\"pie\":[{\"automargin\":true,\"type\":\"pie\"}],\"scatter\":[{\"marker\":{\"colorbar\":{\"outlinewidth\":0,\"ticks\":\"\"}},\"type\":\"scatter\"}],\"scatter3d\":[{\"line\":{\"colorbar\":{\"outlinewidth\":0,\"ticks\":\"\"}},\"marker\":{\"colorbar\":{\"outlinewidth\":0,\"ticks\":\"\"}},\"type\":\"scatter3d\"}],\"scattercarpet\":[{\"marker\":{\"colorbar\":{\"outlinewidth\":0,\"ticks\":\"\"}},\"type\":\"scattercarpet\"}],\"scattergeo\":[{\"marker\":{\"colorbar\":{\"outlinewidth\":0,\"ticks\":\"\"}},\"type\":\"scattergeo\"}],\"scattergl\":[{\"marker\":{\"colorbar\":{\"outlinewidth\":0,\"ticks\":\"\"}},\"type\":\"scattergl\"}],\"scattermapbox\":[{\"marker\":{\"colorbar\":{\"outlinewidth\":0,\"ticks\":\"\"}},\"type\":\"scattermapbox\"}],\"scatterpolar\":[{\"marker\":{\"colorbar\":{\"outlinewidth\":0,\"ticks\":\"\"}},\"type\":\"scatterpolar\"}],\"scatterpolargl\":[{\"marker\":{\"colorbar\":{\"outlinewidth\":0,\"ticks\":\"\"}},\"type\":\"scatterpolargl\"}],\"scatterternary\":[{\"marker\":{\"colorbar\":{\"outlinewidth\":0,\"ticks\":\"\"}},\"type\":\"scatterternary\"}],\"surface\":[{\"colorbar\":{\"outlinewidth\":0,\"ticks\":\"\"},\"colorscale\":[[0.0,\"#0d0887\"],[0.1111111111111111,\"#46039f\"],[0.2222222222222222,\"#7201a8\"],[0.3333333333333333,\"#9c179e\"],[0.4444444444444444,\"#bd3786\"],[0.5555555555555556,\"#d8576b\"],[0.6666666666666666,\"#ed7953\"],[0.7777777777777778,\"#fb9f3a\"],[0.8888888888888888,\"#fdca26\"],[1.0,\"#f0f921\"]],\"type\":\"surface\"}],\"table\":[{\"cells\":{\"fill\":{\"color\":\"#EBF0F8\"},\"line\":{\"color\":\"white\"}},\"header\":{\"fill\":{\"color\":\"#C8D4E3\"},\"line\":{\"color\":\"white\"}},\"type\":\"table\"}]},\"layout\":{\"annotationdefaults\":{\"arrowcolor\":\"#2a3f5f\",\"arrowhead\":0,\"arrowwidth\":1},\"autotypenumbers\":\"strict\",\"coloraxis\":{\"colorbar\":{\"outlinewidth\":0,\"ticks\":\"\"}},\"colorscale\":{\"diverging\":[[0,\"#8e0152\"],[0.1,\"#c51b7d\"],[0.2,\"#de77ae\"],[0.3,\"#f1b6da\"],[0.4,\"#fde0ef\"],[0.5,\"#f7f7f7\"],[0.6,\"#e6f5d0\"],[0.7,\"#b8e186\"],[0.8,\"#7fbc41\"],[0.9,\"#4d9221\"],[1,\"#276419\"]],\"sequential\":[[0.0,\"#0d0887\"],[0.1111111111111111,\"#46039f\"],[0.2222222222222222,\"#7201a8\"],[0.3333333333333333,\"#9c179e\"],[0.4444444444444444,\"#bd3786\"],[0.5555555555555556,\"#d8576b\"],[0.6666666666666666,\"#ed7953\"],[0.7777777777777778,\"#fb9f3a\"],[0.8888888888888888,\"#fdca26\"],[1.0,\"#f0f921\"]],\"sequentialminus\":[[0.0,\"#0d0887\"],[0.1111111111111111,\"#46039f\"],[0.2222222222222222,\"#7201a8\"],[0.3333333333333333,\"#9c179e\"],[0.4444444444444444,\"#bd3786\"],[0.5555555555555556,\"#d8576b\"],[0.6666666666666666,\"#ed7953\"],[0.7777777777777778,\"#fb9f3a\"],[0.8888888888888888,\"#fdca26\"],[1.0,\"#f0f921\"]]},\"colorway\":[\"#636efa\",\"#EF553B\",\"#00cc96\",\"#ab63fa\",\"#FFA15A\",\"#19d3f3\",\"#FF6692\",\"#B6E880\",\"#FF97FF\",\"#FECB52\"],\"font\":{\"color\":\"#2a3f5f\"},\"geo\":{\"bgcolor\":\"white\",\"lakecolor\":\"white\",\"landcolor\":\"#E5ECF6\",\"showlakes\":true,\"showland\":true,\"subunitcolor\":\"white\"},\"hoverlabel\":{\"align\":\"left\"},\"hovermode\":\"closest\",\"mapbox\":{\"style\":\"light\"},\"paper_bgcolor\":\"white\",\"plot_bgcolor\":\"#E5ECF6\",\"polar\":{\"angularaxis\":{\"gridcolor\":\"white\",\"linecolor\":\"white\",\"ticks\":\"\"},\"bgcolor\":\"#E5ECF6\",\"radialaxis\":{\"gridcolor\":\"white\",\"linecolor\":\"white\",\"ticks\":\"\"}},\"scene\":{\"xaxis\":{\"backgroundcolor\":\"#E5ECF6\",\"gridcolor\":\"white\",\"gridwidth\":2,\"linecolor\":\"white\",\"showbackground\":true,\"ticks\":\"\",\"zerolinecolor\":\"white\"},\"yaxis\":{\"backgroundcolor\":\"#E5ECF6\",\"gridcolor\":\"white\",\"gridwidth\":2,\"linecolor\":\"white\",\"showbackground\":true,\"ticks\":\"\",\"zerolinecolor\":\"white\"},\"zaxis\":{\"backgroundcolor\":\"#E5ECF6\",\"gridcolor\":\"white\",\"gridwidth\":2,\"linecolor\":\"white\",\"showbackground\":true,\"ticks\":\"\",\"zerolinecolor\":\"white\"}},\"shapedefaults\":{\"line\":{\"color\":\"#2a3f5f\"}},\"ternary\":{\"aaxis\":{\"gridcolor\":\"white\",\"linecolor\":\"white\",\"ticks\":\"\"},\"baxis\":{\"gridcolor\":\"white\",\"linecolor\":\"white\",\"ticks\":\"\"},\"bgcolor\":\"#E5ECF6\",\"caxis\":{\"gridcolor\":\"white\",\"linecolor\":\"white\",\"ticks\":\"\"}},\"title\":{\"x\":0.05},\"xaxis\":{\"automargin\":true,\"gridcolor\":\"white\",\"linecolor\":\"white\",\"ticks\":\"\",\"title\":{\"standoff\":15},\"zerolinecolor\":\"white\",\"zerolinewidth\":2},\"yaxis\":{\"automargin\":true,\"gridcolor\":\"white\",\"linecolor\":\"white\",\"ticks\":\"\",\"title\":{\"standoff\":15},\"zerolinecolor\":\"white\",\"zerolinewidth\":2}}},\"title\":{\"text\":\"Strategy Capital Allocation vs Target Returns\"},\"xaxis\":{\"title\":{\"text\":\"Expected returns\"}},\"yaxis\":{\"title\":{\"text\":\"Fraction of Total Capital Invested\"}}},                        {\"responsive\": true}                    ).then(function(){\n",
       "                            \n",
       "var gd = document.getElementById('c5e6c582-dc6c-4d69-be7f-d271d44ed301');\n",
       "var x = new MutationObserver(function (mutations, observer) {{\n",
       "        var display = window.getComputedStyle(gd).display;\n",
       "        if (!display || display === 'none') {{\n",
       "            console.log([gd, 'removed!']);\n",
       "            Plotly.purge(gd);\n",
       "            observer.disconnect();\n",
       "        }}\n",
       "}});\n",
       "\n",
       "// Listen for the removal of the full notebook cells\n",
       "var notebookContainer = gd.closest('#notebook-container');\n",
       "if (notebookContainer) {{\n",
       "    x.observe(notebookContainer, {childList: true});\n",
       "}}\n",
       "\n",
       "// Listen for the clearing of the current output cell\n",
       "var outputEl = gd.closest('.output');\n",
       "if (outputEl) {{\n",
       "    x.observe(outputEl, {childList: true});\n",
       "}}\n",
       "\n",
       "                        })                };                });            </script>        </div>"
      ]
     },
     "metadata": {},
     "output_type": "display_data"
    }
   ],
   "source": [
    "expected_gain_range = np.arange(0.05, 0.5, 0.01)\n",
    "\n",
    "position_range = np.arange(2, 6)\n",
    "\n",
    "p_not_breakeven = 0.4\n",
    "# num_positions = 2\n",
    "fig = go.Figure()\n",
    "for num_positions in position_range:\n",
    "    \n",
    "    p = 1 - p_not_breakeven**num_positions\n",
    "    gain_fraction_df =  pd.DataFrame({\"Capital Fraction\":np.apply_along_axis(lambda expected_gain: p -  (1-p) / expected_gain, 0, expected_gain_range),\n",
    "                                  \"Expected Gain\":expected_gain_range})\n",
    "    gain_fraction_df.loc[gain_fraction_df['Capital Fraction']<0, 'Capital Fraction'] = 0\n",
    "    # gain_fraction_df.loc[gain_fraction_df['Capital Fraction'].gt(0.05).idxmax(), \"Expected Gain\"]\n",
    "\n",
    "    fig.add_trace(go.Scatter(x=gain_fraction_df[\"Expected Gain\"], y=gain_fraction_df[\"Capital Fraction\"],\n",
    "                    mode='lines',\n",
    "                    name='%d Positions'%num_positions))\n",
    "    \n",
    "fig.add_hline(0.1, line_dash=\"dash\", line_color=\"red\", annotation_text='10 % Allocation Threshold')\n",
    "fig.update_layout(\n",
    "    title=\"Strategy Capital Allocation vs Target Returns\",\n",
    "    xaxis_title=\"Expected returns\",\n",
    "    yaxis_title=\"Fraction of Total Capital Invested\",\n",
    "    legend_title=\"Number of Positions\",\n",
    "    font=dict(\n",
    "#         family=\"Courier New, monospace\",\n",
    "        size=12,\n",
    "        color=\"RebeccaPurple\"\n",
    "    )\n",
    ")\n",
    "\n",
    "fig.show()"
   ]
  },
  {
   "cell_type": "markdown",
   "id": "warming-money",
   "metadata": {},
   "source": [
    "Considering partial losses : Loss of 1 position"
   ]
  },
  {
   "cell_type": "code",
   "execution_count": 146,
   "id": "filled-liabilities",
   "metadata": {},
   "outputs": [
    {
     "data": {
      "application/vnd.plotly.v1+json": {
       "config": {
        "plotlyServerURL": "https://plot.ly"
       },
       "data": [
        {
         "mode": "lines",
         "name": "1 Positions",
         "type": "scatter",
         "x": [
          0.05,
          0.060000000000000005,
          0.07,
          0.08000000000000002,
          0.09000000000000001,
          0.1,
          0.11000000000000001,
          0.12000000000000001,
          0.13,
          0.14,
          0.15000000000000002,
          0.16000000000000003,
          0.17000000000000004,
          0.18000000000000005,
          0.19,
          0.2,
          0.21000000000000002,
          0.22000000000000003,
          0.23000000000000004,
          0.24000000000000005,
          0.25000000000000006,
          0.26000000000000006,
          0.27,
          0.28,
          0.29000000000000004,
          0.30000000000000004,
          0.31000000000000005,
          0.32000000000000006,
          0.33,
          0.34,
          0.35000000000000003,
          0.36000000000000004,
          0.37000000000000005,
          0.38000000000000006,
          0.39000000000000007,
          0.4000000000000001,
          0.4100000000000001,
          0.42000000000000004,
          0.43000000000000005,
          0.44000000000000006,
          0.45000000000000007,
          0.4600000000000001,
          0.4700000000000001,
          0.4800000000000001,
          0.49000000000000005
         ],
         "y": [
          0,
          0,
          0,
          0,
          0,
          0,
          0,
          0,
          0,
          0,
          0,
          0,
          0,
          0,
          0,
          0,
          0,
          0,
          0,
          0,
          0,
          0,
          0,
          0,
          0,
          0,
          0,
          0,
          0,
          0,
          0,
          0,
          0,
          0,
          0,
          0,
          0,
          0,
          0,
          0,
          0,
          0,
          0,
          0,
          0
         ]
        },
        {
         "mode": "lines",
         "name": "2 Positions",
         "type": "scatter",
         "x": [
          0.05,
          0.060000000000000005,
          0.07,
          0.08000000000000002,
          0.09000000000000001,
          0.1,
          0.11000000000000001,
          0.12000000000000001,
          0.13,
          0.14,
          0.15000000000000002,
          0.16000000000000003,
          0.17000000000000004,
          0.18000000000000005,
          0.19,
          0.2,
          0.21000000000000002,
          0.22000000000000003,
          0.23000000000000004,
          0.24000000000000005,
          0.25000000000000006,
          0.26000000000000006,
          0.27,
          0.28,
          0.29000000000000004,
          0.30000000000000004,
          0.31000000000000005,
          0.32000000000000006,
          0.33,
          0.34,
          0.35000000000000003,
          0.36000000000000004,
          0.37000000000000005,
          0.38000000000000006,
          0.39000000000000007,
          0.4000000000000001,
          0.4100000000000001,
          0.42000000000000004,
          0.43000000000000005,
          0.44000000000000006,
          0.45000000000000007,
          0.4600000000000001,
          0.4700000000000001,
          0.4800000000000001,
          0.49000000000000005
         ],
         "y": [
          0,
          0,
          0,
          0,
          0,
          0.07999999999999963,
          0.22545454545454535,
          0.34666666666666646,
          0.4492307692307689,
          0.5371428571428569,
          0.6133333333333333,
          0.6799999999999999,
          0.7388235294117647,
          0.7911111111111111,
          0.837894736842105,
          0.8799999999999998,
          0.918095238095238,
          0.9527272727272726,
          0.9843478260869565,
          1.0133333333333332,
          1.04,
          1.0646153846153847,
          1.0874074074074072,
          1.1085714285714285,
          1.1282758620689655,
          1.1466666666666665,
          1.1638709677419354,
          1.18,
          1.195151515151515,
          1.2094117647058822,
          1.2228571428571429,
          1.2355555555555555,
          1.2475675675675675,
          1.2589473684210526,
          1.2697435897435896,
          1.2799999999999998,
          1.2897560975609754,
          1.299047619047619,
          1.307906976744186,
          1.3163636363636364,
          1.3244444444444443,
          1.3321739130434782,
          1.3395744680851063,
          1.3466666666666667,
          1.3534693877551018
         ]
        },
        {
         "mode": "lines",
         "name": "3 Positions",
         "type": "scatter",
         "x": [
          0.05,
          0.060000000000000005,
          0.07,
          0.08000000000000002,
          0.09000000000000001,
          0.1,
          0.11000000000000001,
          0.12000000000000001,
          0.13,
          0.14,
          0.15000000000000002,
          0.16000000000000003,
          0.17000000000000004,
          0.18000000000000005,
          0.19,
          0.2,
          0.21000000000000002,
          0.22000000000000003,
          0.23000000000000004,
          0.24000000000000005,
          0.25000000000000006,
          0.26000000000000006,
          0.27,
          0.28,
          0.29000000000000004,
          0.30000000000000004,
          0.31000000000000005,
          0.32000000000000006,
          0.33,
          0.34,
          0.35000000000000003,
          0.36000000000000004,
          0.37000000000000005,
          0.38000000000000006,
          0.39000000000000007,
          0.4000000000000001,
          0.4100000000000001,
          0.42000000000000004,
          0.43000000000000005,
          0.44000000000000006,
          0.45000000000000007,
          0.4600000000000001,
          0.4700000000000001,
          0.4800000000000001,
          0.49000000000000005
         ],
         "y": [
          1.5279999999999987,
          1.7413333333333323,
          1.8937142857142848,
          2.007999999999999,
          2.096888888888888,
          2.1679999999999993,
          2.226181818181818,
          2.274666666666666,
          2.315692307692307,
          2.3508571428571425,
          2.381333333333333,
          2.4079999999999995,
          2.4315294117647053,
          2.452444444444444,
          2.4711578947368418,
          2.4879999999999995,
          2.503238095238095,
          2.517090909090909,
          2.5297391304347823,
          2.541333333333333,
          2.5519999999999996,
          2.5618461538461537,
          2.5709629629629625,
          2.579428571428571,
          2.587310344827586,
          2.5946666666666665,
          2.601548387096774,
          2.6079999999999997,
          2.6140606060606055,
          2.6197647058823526,
          2.625142857142857,
          2.630222222222222,
          2.635027027027027,
          2.639578947368421,
          2.6438974358974354,
          2.6479999999999997,
          2.65190243902439,
          2.655619047619047,
          2.6591627906976743,
          2.6625454545454543,
          2.6657777777777776,
          2.668869565217391,
          2.671829787234042,
          2.6746666666666665,
          2.6773877551020404
         ]
        },
        {
         "mode": "lines",
         "name": "4 Positions",
         "type": "scatter",
         "x": [
          0.05,
          0.060000000000000005,
          0.07,
          0.08000000000000002,
          0.09000000000000001,
          0.1,
          0.11000000000000001,
          0.12000000000000001,
          0.13,
          0.14,
          0.15000000000000002,
          0.16000000000000003,
          0.17000000000000004,
          0.18000000000000005,
          0.19,
          0.2,
          0.21000000000000002,
          0.22000000000000003,
          0.23000000000000004,
          0.24000000000000005,
          0.25000000000000006,
          0.26000000000000006,
          0.27,
          0.28,
          0.29000000000000004,
          0.30000000000000004,
          0.31000000000000005,
          0.32000000000000006,
          0.33,
          0.34,
          0.35000000000000003,
          0.36000000000000004,
          0.37000000000000005,
          0.38000000000000006,
          0.39000000000000007,
          0.4000000000000001,
          0.4100000000000001,
          0.42000000000000004,
          0.43000000000000005,
          0.44000000000000006,
          0.45000000000000007,
          0.4600000000000001,
          0.4700000000000001,
          0.4800000000000001,
          0.49000000000000005
         ],
         "y": [
          3.385600000000001,
          3.4709333333333343,
          3.531885714285715,
          3.577600000000001,
          3.613155555555556,
          3.6416000000000004,
          3.6648727272727277,
          3.6842666666666672,
          3.7006769230769234,
          3.714742857142858,
          3.7269333333333337,
          3.7376000000000005,
          3.7470117647058827,
          3.7553777777777784,
          3.762863157894737,
          3.7696000000000005,
          3.7756952380952384,
          3.781236363636364,
          3.7862956521739135,
          3.7909333333333337,
          3.7952000000000004,
          3.799138461538462,
          3.8027851851851855,
          3.806171428571429,
          3.8093241379310347,
          3.812266666666667,
          3.81501935483871,
          3.8176000000000005,
          3.8200242424242425,
          3.8223058823529414,
          3.824457142857143,
          3.826488888888889,
          3.8284108108108112,
          3.8302315789473687,
          3.8319589743589746,
          3.8336,
          3.835160975609756,
          3.8366476190476195,
          3.83806511627907,
          3.839418181818182,
          3.840711111111111,
          3.841947826086957,
          3.8431319148936174,
          3.844266666666667,
          3.8453551020408168
         ]
        },
        {
         "mode": "lines",
         "name": "5 Positions",
         "type": "scatter",
         "x": [
          0.05,
          0.060000000000000005,
          0.07,
          0.08000000000000002,
          0.09000000000000001,
          0.1,
          0.11000000000000001,
          0.12000000000000001,
          0.13,
          0.14,
          0.15000000000000002,
          0.16000000000000003,
          0.17000000000000004,
          0.18000000000000005,
          0.19,
          0.2,
          0.21000000000000002,
          0.22000000000000003,
          0.23000000000000004,
          0.24000000000000005,
          0.25000000000000006,
          0.26000000000000006,
          0.27,
          0.28,
          0.29000000000000004,
          0.30000000000000004,
          0.31000000000000005,
          0.32000000000000006,
          0.33,
          0.34,
          0.35000000000000003,
          0.36000000000000004,
          0.37000000000000005,
          0.38000000000000006,
          0.39000000000000007,
          0.4000000000000001,
          0.4100000000000001,
          0.42000000000000004,
          0.43000000000000005,
          0.44000000000000006,
          0.45000000000000007,
          0.4600000000000001,
          0.4700000000000001,
          0.4800000000000001,
          0.49000000000000005
         ],
         "y": [
          4.743999999999999,
          4.778133333333332,
          4.802514285714285,
          4.820799999999999,
          4.8350222222222214,
          4.846399999999999,
          4.85570909090909,
          4.863466666666666,
          4.870030769230769,
          4.8756571428571425,
          4.880533333333332,
          4.884799999999999,
          4.888564705882352,
          4.89191111111111,
          4.894905263157894,
          4.897599999999999,
          4.900038095238094,
          4.902254545454545,
          4.904278260869565,
          4.906133333333333,
          4.907839999999999,
          4.909415384615384,
          4.910874074074074,
          4.912228571428571,
          4.913489655172413,
          4.914666666666666,
          4.9157677419354835,
          4.916799999999999,
          4.917769696969696,
          4.918682352941175,
          4.919542857142856,
          4.920355555555555,
          4.921124324324324,
          4.921852631578947,
          4.922543589743589,
          4.9232,
          4.923824390243902,
          4.924419047619047,
          4.924986046511627,
          4.9255272727272725,
          4.926044444444444,
          4.926539130434782,
          4.927012765957446,
          4.927466666666666,
          4.927902040816326
         ]
        }
       ],
       "layout": {
        "annotations": [
         {
          "showarrow": false,
          "text": "Leverage Threshold",
          "x": 1,
          "xanchor": "right",
          "xref": "x domain",
          "y": 1.01,
          "yanchor": "bottom",
          "yref": "y"
         }
        ],
        "autosize": true,
        "font": {
         "color": "RebeccaPurple",
         "size": 12
        },
        "legend": {
         "title": {
          "text": "Number of Positions"
         }
        },
        "shapes": [
         {
          "line": {
           "color": "red",
           "dash": "dash"
          },
          "type": "line",
          "x0": 0,
          "x1": 1,
          "xref": "x domain",
          "y0": 1.01,
          "y1": 1.01,
          "yref": "y"
         }
        ],
        "template": {
         "data": {
          "bar": [
           {
            "error_x": {
             "color": "#2a3f5f"
            },
            "error_y": {
             "color": "#2a3f5f"
            },
            "marker": {
             "line": {
              "color": "#E5ECF6",
              "width": 0.5
             },
             "pattern": {
              "fillmode": "overlay",
              "size": 10,
              "solidity": 0.2
             }
            },
            "type": "bar"
           }
          ],
          "barpolar": [
           {
            "marker": {
             "line": {
              "color": "#E5ECF6",
              "width": 0.5
             },
             "pattern": {
              "fillmode": "overlay",
              "size": 10,
              "solidity": 0.2
             }
            },
            "type": "barpolar"
           }
          ],
          "carpet": [
           {
            "aaxis": {
             "endlinecolor": "#2a3f5f",
             "gridcolor": "white",
             "linecolor": "white",
             "minorgridcolor": "white",
             "startlinecolor": "#2a3f5f"
            },
            "baxis": {
             "endlinecolor": "#2a3f5f",
             "gridcolor": "white",
             "linecolor": "white",
             "minorgridcolor": "white",
             "startlinecolor": "#2a3f5f"
            },
            "type": "carpet"
           }
          ],
          "choropleth": [
           {
            "colorbar": {
             "outlinewidth": 0,
             "ticks": ""
            },
            "type": "choropleth"
           }
          ],
          "contour": [
           {
            "colorbar": {
             "outlinewidth": 0,
             "ticks": ""
            },
            "colorscale": [
             [
              0,
              "#0d0887"
             ],
             [
              0.1111111111111111,
              "#46039f"
             ],
             [
              0.2222222222222222,
              "#7201a8"
             ],
             [
              0.3333333333333333,
              "#9c179e"
             ],
             [
              0.4444444444444444,
              "#bd3786"
             ],
             [
              0.5555555555555556,
              "#d8576b"
             ],
             [
              0.6666666666666666,
              "#ed7953"
             ],
             [
              0.7777777777777778,
              "#fb9f3a"
             ],
             [
              0.8888888888888888,
              "#fdca26"
             ],
             [
              1,
              "#f0f921"
             ]
            ],
            "type": "contour"
           }
          ],
          "contourcarpet": [
           {
            "colorbar": {
             "outlinewidth": 0,
             "ticks": ""
            },
            "type": "contourcarpet"
           }
          ],
          "heatmap": [
           {
            "colorbar": {
             "outlinewidth": 0,
             "ticks": ""
            },
            "colorscale": [
             [
              0,
              "#0d0887"
             ],
             [
              0.1111111111111111,
              "#46039f"
             ],
             [
              0.2222222222222222,
              "#7201a8"
             ],
             [
              0.3333333333333333,
              "#9c179e"
             ],
             [
              0.4444444444444444,
              "#bd3786"
             ],
             [
              0.5555555555555556,
              "#d8576b"
             ],
             [
              0.6666666666666666,
              "#ed7953"
             ],
             [
              0.7777777777777778,
              "#fb9f3a"
             ],
             [
              0.8888888888888888,
              "#fdca26"
             ],
             [
              1,
              "#f0f921"
             ]
            ],
            "type": "heatmap"
           }
          ],
          "heatmapgl": [
           {
            "colorbar": {
             "outlinewidth": 0,
             "ticks": ""
            },
            "colorscale": [
             [
              0,
              "#0d0887"
             ],
             [
              0.1111111111111111,
              "#46039f"
             ],
             [
              0.2222222222222222,
              "#7201a8"
             ],
             [
              0.3333333333333333,
              "#9c179e"
             ],
             [
              0.4444444444444444,
              "#bd3786"
             ],
             [
              0.5555555555555556,
              "#d8576b"
             ],
             [
              0.6666666666666666,
              "#ed7953"
             ],
             [
              0.7777777777777778,
              "#fb9f3a"
             ],
             [
              0.8888888888888888,
              "#fdca26"
             ],
             [
              1,
              "#f0f921"
             ]
            ],
            "type": "heatmapgl"
           }
          ],
          "histogram": [
           {
            "marker": {
             "pattern": {
              "fillmode": "overlay",
              "size": 10,
              "solidity": 0.2
             }
            },
            "type": "histogram"
           }
          ],
          "histogram2d": [
           {
            "colorbar": {
             "outlinewidth": 0,
             "ticks": ""
            },
            "colorscale": [
             [
              0,
              "#0d0887"
             ],
             [
              0.1111111111111111,
              "#46039f"
             ],
             [
              0.2222222222222222,
              "#7201a8"
             ],
             [
              0.3333333333333333,
              "#9c179e"
             ],
             [
              0.4444444444444444,
              "#bd3786"
             ],
             [
              0.5555555555555556,
              "#d8576b"
             ],
             [
              0.6666666666666666,
              "#ed7953"
             ],
             [
              0.7777777777777778,
              "#fb9f3a"
             ],
             [
              0.8888888888888888,
              "#fdca26"
             ],
             [
              1,
              "#f0f921"
             ]
            ],
            "type": "histogram2d"
           }
          ],
          "histogram2dcontour": [
           {
            "colorbar": {
             "outlinewidth": 0,
             "ticks": ""
            },
            "colorscale": [
             [
              0,
              "#0d0887"
             ],
             [
              0.1111111111111111,
              "#46039f"
             ],
             [
              0.2222222222222222,
              "#7201a8"
             ],
             [
              0.3333333333333333,
              "#9c179e"
             ],
             [
              0.4444444444444444,
              "#bd3786"
             ],
             [
              0.5555555555555556,
              "#d8576b"
             ],
             [
              0.6666666666666666,
              "#ed7953"
             ],
             [
              0.7777777777777778,
              "#fb9f3a"
             ],
             [
              0.8888888888888888,
              "#fdca26"
             ],
             [
              1,
              "#f0f921"
             ]
            ],
            "type": "histogram2dcontour"
           }
          ],
          "mesh3d": [
           {
            "colorbar": {
             "outlinewidth": 0,
             "ticks": ""
            },
            "type": "mesh3d"
           }
          ],
          "parcoords": [
           {
            "line": {
             "colorbar": {
              "outlinewidth": 0,
              "ticks": ""
             }
            },
            "type": "parcoords"
           }
          ],
          "pie": [
           {
            "automargin": true,
            "type": "pie"
           }
          ],
          "scatter": [
           {
            "marker": {
             "colorbar": {
              "outlinewidth": 0,
              "ticks": ""
             }
            },
            "type": "scatter"
           }
          ],
          "scatter3d": [
           {
            "line": {
             "colorbar": {
              "outlinewidth": 0,
              "ticks": ""
             }
            },
            "marker": {
             "colorbar": {
              "outlinewidth": 0,
              "ticks": ""
             }
            },
            "type": "scatter3d"
           }
          ],
          "scattercarpet": [
           {
            "marker": {
             "colorbar": {
              "outlinewidth": 0,
              "ticks": ""
             }
            },
            "type": "scattercarpet"
           }
          ],
          "scattergeo": [
           {
            "marker": {
             "colorbar": {
              "outlinewidth": 0,
              "ticks": ""
             }
            },
            "type": "scattergeo"
           }
          ],
          "scattergl": [
           {
            "marker": {
             "colorbar": {
              "outlinewidth": 0,
              "ticks": ""
             }
            },
            "type": "scattergl"
           }
          ],
          "scattermapbox": [
           {
            "marker": {
             "colorbar": {
              "outlinewidth": 0,
              "ticks": ""
             }
            },
            "type": "scattermapbox"
           }
          ],
          "scatterpolar": [
           {
            "marker": {
             "colorbar": {
              "outlinewidth": 0,
              "ticks": ""
             }
            },
            "type": "scatterpolar"
           }
          ],
          "scatterpolargl": [
           {
            "marker": {
             "colorbar": {
              "outlinewidth": 0,
              "ticks": ""
             }
            },
            "type": "scatterpolargl"
           }
          ],
          "scatterternary": [
           {
            "marker": {
             "colorbar": {
              "outlinewidth": 0,
              "ticks": ""
             }
            },
            "type": "scatterternary"
           }
          ],
          "surface": [
           {
            "colorbar": {
             "outlinewidth": 0,
             "ticks": ""
            },
            "colorscale": [
             [
              0,
              "#0d0887"
             ],
             [
              0.1111111111111111,
              "#46039f"
             ],
             [
              0.2222222222222222,
              "#7201a8"
             ],
             [
              0.3333333333333333,
              "#9c179e"
             ],
             [
              0.4444444444444444,
              "#bd3786"
             ],
             [
              0.5555555555555556,
              "#d8576b"
             ],
             [
              0.6666666666666666,
              "#ed7953"
             ],
             [
              0.7777777777777778,
              "#fb9f3a"
             ],
             [
              0.8888888888888888,
              "#fdca26"
             ],
             [
              1,
              "#f0f921"
             ]
            ],
            "type": "surface"
           }
          ],
          "table": [
           {
            "cells": {
             "fill": {
              "color": "#EBF0F8"
             },
             "line": {
              "color": "white"
             }
            },
            "header": {
             "fill": {
              "color": "#C8D4E3"
             },
             "line": {
              "color": "white"
             }
            },
            "type": "table"
           }
          ]
         },
         "layout": {
          "annotationdefaults": {
           "arrowcolor": "#2a3f5f",
           "arrowhead": 0,
           "arrowwidth": 1
          },
          "autotypenumbers": "strict",
          "coloraxis": {
           "colorbar": {
            "outlinewidth": 0,
            "ticks": ""
           }
          },
          "colorscale": {
           "diverging": [
            [
             0,
             "#8e0152"
            ],
            [
             0.1,
             "#c51b7d"
            ],
            [
             0.2,
             "#de77ae"
            ],
            [
             0.3,
             "#f1b6da"
            ],
            [
             0.4,
             "#fde0ef"
            ],
            [
             0.5,
             "#f7f7f7"
            ],
            [
             0.6,
             "#e6f5d0"
            ],
            [
             0.7,
             "#b8e186"
            ],
            [
             0.8,
             "#7fbc41"
            ],
            [
             0.9,
             "#4d9221"
            ],
            [
             1,
             "#276419"
            ]
           ],
           "sequential": [
            [
             0,
             "#0d0887"
            ],
            [
             0.1111111111111111,
             "#46039f"
            ],
            [
             0.2222222222222222,
             "#7201a8"
            ],
            [
             0.3333333333333333,
             "#9c179e"
            ],
            [
             0.4444444444444444,
             "#bd3786"
            ],
            [
             0.5555555555555556,
             "#d8576b"
            ],
            [
             0.6666666666666666,
             "#ed7953"
            ],
            [
             0.7777777777777778,
             "#fb9f3a"
            ],
            [
             0.8888888888888888,
             "#fdca26"
            ],
            [
             1,
             "#f0f921"
            ]
           ],
           "sequentialminus": [
            [
             0,
             "#0d0887"
            ],
            [
             0.1111111111111111,
             "#46039f"
            ],
            [
             0.2222222222222222,
             "#7201a8"
            ],
            [
             0.3333333333333333,
             "#9c179e"
            ],
            [
             0.4444444444444444,
             "#bd3786"
            ],
            [
             0.5555555555555556,
             "#d8576b"
            ],
            [
             0.6666666666666666,
             "#ed7953"
            ],
            [
             0.7777777777777778,
             "#fb9f3a"
            ],
            [
             0.8888888888888888,
             "#fdca26"
            ],
            [
             1,
             "#f0f921"
            ]
           ]
          },
          "colorway": [
           "#636efa",
           "#EF553B",
           "#00cc96",
           "#ab63fa",
           "#FFA15A",
           "#19d3f3",
           "#FF6692",
           "#B6E880",
           "#FF97FF",
           "#FECB52"
          ],
          "font": {
           "color": "#2a3f5f"
          },
          "geo": {
           "bgcolor": "white",
           "lakecolor": "white",
           "landcolor": "#E5ECF6",
           "showlakes": true,
           "showland": true,
           "subunitcolor": "white"
          },
          "hoverlabel": {
           "align": "left"
          },
          "hovermode": "closest",
          "mapbox": {
           "style": "light"
          },
          "paper_bgcolor": "white",
          "plot_bgcolor": "#E5ECF6",
          "polar": {
           "angularaxis": {
            "gridcolor": "white",
            "linecolor": "white",
            "ticks": ""
           },
           "bgcolor": "#E5ECF6",
           "radialaxis": {
            "gridcolor": "white",
            "linecolor": "white",
            "ticks": ""
           }
          },
          "scene": {
           "xaxis": {
            "backgroundcolor": "#E5ECF6",
            "gridcolor": "white",
            "gridwidth": 2,
            "linecolor": "white",
            "showbackground": true,
            "ticks": "",
            "zerolinecolor": "white"
           },
           "yaxis": {
            "backgroundcolor": "#E5ECF6",
            "gridcolor": "white",
            "gridwidth": 2,
            "linecolor": "white",
            "showbackground": true,
            "ticks": "",
            "zerolinecolor": "white"
           },
           "zaxis": {
            "backgroundcolor": "#E5ECF6",
            "gridcolor": "white",
            "gridwidth": 2,
            "linecolor": "white",
            "showbackground": true,
            "ticks": "",
            "zerolinecolor": "white"
           }
          },
          "shapedefaults": {
           "line": {
            "color": "#2a3f5f"
           }
          },
          "ternary": {
           "aaxis": {
            "gridcolor": "white",
            "linecolor": "white",
            "ticks": ""
           },
           "baxis": {
            "gridcolor": "white",
            "linecolor": "white",
            "ticks": ""
           },
           "bgcolor": "#E5ECF6",
           "caxis": {
            "gridcolor": "white",
            "linecolor": "white",
            "ticks": ""
           }
          },
          "title": {
           "x": 0.05
          },
          "xaxis": {
           "automargin": true,
           "gridcolor": "white",
           "linecolor": "white",
           "ticks": "",
           "title": {
            "standoff": 15
           },
           "zerolinecolor": "white",
           "zerolinewidth": 2
          },
          "yaxis": {
           "automargin": true,
           "gridcolor": "white",
           "linecolor": "white",
           "ticks": "",
           "title": {
            "standoff": 15
           },
           "zerolinecolor": "white",
           "zerolinewidth": 2
          }
         }
        },
        "title": {
         "text": "Strategy Capital Allocation vs Target Returns"
        },
        "xaxis": {
         "autorange": true,
         "range": [
          0.05,
          0.49000000000000005
         ],
         "title": {
          "text": "Expected returns"
         },
         "type": "linear"
        },
        "yaxis": {
         "autorange": true,
         "range": [
          -0.27377233560090697,
          5.201674376417233
         ],
         "title": {
          "text": "Fraction of Total Capital Invested"
         },
         "type": "linear"
        }
       }
      },
      "image/png": "[encoded data removed]",
      "text/html": [
       "<div>                            <div id=\"990ba825-b307-4c9b-9dc5-b88ecd4328c1\" class=\"plotly-graph-div\" style=\"height:525px; width:100%;\"></div>            <script type=\"text/javascript\">                require([\"plotly\"], function(Plotly) {                    window.PLOTLYENV=window.PLOTLYENV || {};                                    if (document.getElementById(\"990ba825-b307-4c9b-9dc5-b88ecd4328c1\")) {                    Plotly.newPlot(                        \"990ba825-b307-4c9b-9dc5-b88ecd4328c1\",                        [{\"mode\":\"lines\",\"name\":\"1 Positions\",\"type\":\"scatter\",\"x\":[0.05,0.060000000000000005,0.07,0.08000000000000002,0.09000000000000001,0.1,0.11000000000000001,0.12000000000000001,0.13,0.14,0.15000000000000002,0.16000000000000003,0.17000000000000004,0.18000000000000005,0.19,0.2,0.21000000000000002,0.22000000000000003,0.23000000000000004,0.24000000000000005,0.25000000000000006,0.26000000000000006,0.27,0.28,0.29000000000000004,0.30000000000000004,0.31000000000000005,0.32000000000000006,0.33,0.34,0.35000000000000003,0.36000000000000004,0.37000000000000005,0.38000000000000006,0.39000000000000007,0.4000000000000001,0.4100000000000001,0.42000000000000004,0.43000000000000005,0.44000000000000006,0.45000000000000007,0.4600000000000001,0.4700000000000001,0.4800000000000001,0.49000000000000005],\"y\":[0.0,0.0,0.0,0.0,0.0,0.0,0.0,0.0,0.0,0.0,0.0,0.0,0.0,0.0,0.0,0.0,0.0,0.0,0.0,0.0,0.0,0.0,0.0,0.0,0.0,0.0,0.0,0.0,0.0,0.0,0.0,0.0,0.0,0.0,0.0,0.0,0.0,0.0,0.0,0.0,0.0,0.0,0.0,0.0,0.0]},{\"mode\":\"lines\",\"name\":\"2 Positions\",\"type\":\"scatter\",\"x\":[0.05,0.060000000000000005,0.07,0.08000000000000002,0.09000000000000001,0.1,0.11000000000000001,0.12000000000000001,0.13,0.14,0.15000000000000002,0.16000000000000003,0.17000000000000004,0.18000000000000005,0.19,0.2,0.21000000000000002,0.22000000000000003,0.23000000000000004,0.24000000000000005,0.25000000000000006,0.26000000000000006,0.27,0.28,0.29000000000000004,0.30000000000000004,0.31000000000000005,0.32000000000000006,0.33,0.34,0.35000000000000003,0.36000000000000004,0.37000000000000005,0.38000000000000006,0.39000000000000007,0.4000000000000001,0.4100000000000001,0.42000000000000004,0.43000000000000005,0.44000000000000006,0.45000000000000007,0.4600000000000001,0.4700000000000001,0.4800000000000001,0.49000000000000005],\"y\":[0.0,0.0,0.0,0.0,0.0,0.07999999999999963,0.22545454545454535,0.34666666666666646,0.4492307692307689,0.5371428571428569,0.6133333333333333,0.6799999999999999,0.7388235294117647,0.7911111111111111,0.837894736842105,0.8799999999999998,0.918095238095238,0.9527272727272726,0.9843478260869565,1.0133333333333332,1.04,1.0646153846153847,1.0874074074074072,1.1085714285714285,1.1282758620689655,1.1466666666666665,1.1638709677419354,1.18,1.195151515151515,1.2094117647058822,1.2228571428571429,1.2355555555555555,1.2475675675675675,1.2589473684210526,1.2697435897435896,1.2799999999999998,1.2897560975609754,1.299047619047619,1.307906976744186,1.3163636363636364,1.3244444444444443,1.3321739130434782,1.3395744680851063,1.3466666666666667,1.3534693877551018]},{\"mode\":\"lines\",\"name\":\"3 Positions\",\"type\":\"scatter\",\"x\":[0.05,0.060000000000000005,0.07,0.08000000000000002,0.09000000000000001,0.1,0.11000000000000001,0.12000000000000001,0.13,0.14,0.15000000000000002,0.16000000000000003,0.17000000000000004,0.18000000000000005,0.19,0.2,0.21000000000000002,0.22000000000000003,0.23000000000000004,0.24000000000000005,0.25000000000000006,0.26000000000000006,0.27,0.28,0.29000000000000004,0.30000000000000004,0.31000000000000005,0.32000000000000006,0.33,0.34,0.35000000000000003,0.36000000000000004,0.37000000000000005,0.38000000000000006,0.39000000000000007,0.4000000000000001,0.4100000000000001,0.42000000000000004,0.43000000000000005,0.44000000000000006,0.45000000000000007,0.4600000000000001,0.4700000000000001,0.4800000000000001,0.49000000000000005],\"y\":[1.5279999999999987,1.7413333333333323,1.8937142857142848,2.007999999999999,2.096888888888888,2.1679999999999993,2.226181818181818,2.274666666666666,2.315692307692307,2.3508571428571425,2.381333333333333,2.4079999999999995,2.4315294117647053,2.452444444444444,2.4711578947368418,2.4879999999999995,2.503238095238095,2.517090909090909,2.5297391304347823,2.541333333333333,2.5519999999999996,2.5618461538461537,2.5709629629629625,2.579428571428571,2.587310344827586,2.5946666666666665,2.601548387096774,2.6079999999999997,2.6140606060606055,2.6197647058823526,2.625142857142857,2.630222222222222,2.635027027027027,2.639578947368421,2.6438974358974354,2.6479999999999997,2.65190243902439,2.655619047619047,2.6591627906976743,2.6625454545454543,2.6657777777777776,2.668869565217391,2.671829787234042,2.6746666666666665,2.6773877551020404]},{\"mode\":\"lines\",\"name\":\"4 Positions\",\"type\":\"scatter\",\"x\":[0.05,0.060000000000000005,0.07,0.08000000000000002,0.09000000000000001,0.1,0.11000000000000001,0.12000000000000001,0.13,0.14,0.15000000000000002,0.16000000000000003,0.17000000000000004,0.18000000000000005,0.19,0.2,0.21000000000000002,0.22000000000000003,0.23000000000000004,0.24000000000000005,0.25000000000000006,0.26000000000000006,0.27,0.28,0.29000000000000004,0.30000000000000004,0.31000000000000005,0.32000000000000006,0.33,0.34,0.35000000000000003,0.36000000000000004,0.37000000000000005,0.38000000000000006,0.39000000000000007,0.4000000000000001,0.4100000000000001,0.42000000000000004,0.43000000000000005,0.44000000000000006,0.45000000000000007,0.4600000000000001,0.4700000000000001,0.4800000000000001,0.49000000000000005],\"y\":[3.385600000000001,3.4709333333333343,3.531885714285715,3.577600000000001,3.613155555555556,3.6416000000000004,3.6648727272727277,3.6842666666666672,3.7006769230769234,3.714742857142858,3.7269333333333337,3.7376000000000005,3.7470117647058827,3.7553777777777784,3.762863157894737,3.7696000000000005,3.7756952380952384,3.781236363636364,3.7862956521739135,3.7909333333333337,3.7952000000000004,3.799138461538462,3.8027851851851855,3.806171428571429,3.8093241379310347,3.812266666666667,3.81501935483871,3.8176000000000005,3.8200242424242425,3.8223058823529414,3.824457142857143,3.826488888888889,3.8284108108108112,3.8302315789473687,3.8319589743589746,3.8336,3.835160975609756,3.8366476190476195,3.83806511627907,3.839418181818182,3.840711111111111,3.841947826086957,3.8431319148936174,3.844266666666667,3.8453551020408168]},{\"mode\":\"lines\",\"name\":\"5 Positions\",\"type\":\"scatter\",\"x\":[0.05,0.060000000000000005,0.07,0.08000000000000002,0.09000000000000001,0.1,0.11000000000000001,0.12000000000000001,0.13,0.14,0.15000000000000002,0.16000000000000003,0.17000000000000004,0.18000000000000005,0.19,0.2,0.21000000000000002,0.22000000000000003,0.23000000000000004,0.24000000000000005,0.25000000000000006,0.26000000000000006,0.27,0.28,0.29000000000000004,0.30000000000000004,0.31000000000000005,0.32000000000000006,0.33,0.34,0.35000000000000003,0.36000000000000004,0.37000000000000005,0.38000000000000006,0.39000000000000007,0.4000000000000001,0.4100000000000001,0.42000000000000004,0.43000000000000005,0.44000000000000006,0.45000000000000007,0.4600000000000001,0.4700000000000001,0.4800000000000001,0.49000000000000005],\"y\":[4.743999999999999,4.778133333333332,4.802514285714285,4.820799999999999,4.8350222222222214,4.846399999999999,4.85570909090909,4.863466666666666,4.870030769230769,4.8756571428571425,4.880533333333332,4.884799999999999,4.888564705882352,4.89191111111111,4.894905263157894,4.897599999999999,4.900038095238094,4.902254545454545,4.904278260869565,4.906133333333333,4.907839999999999,4.909415384615384,4.910874074074074,4.912228571428571,4.913489655172413,4.914666666666666,4.9157677419354835,4.916799999999999,4.917769696969696,4.918682352941175,4.919542857142856,4.920355555555555,4.921124324324324,4.921852631578947,4.922543589743589,4.9232,4.923824390243902,4.924419047619047,4.924986046511627,4.9255272727272725,4.926044444444444,4.926539130434782,4.927012765957446,4.927466666666666,4.927902040816326]}],                        {\"annotations\":[{\"showarrow\":false,\"text\":\"Leverage Threshold\",\"x\":1,\"xanchor\":\"right\",\"xref\":\"x domain\",\"y\":1.01,\"yanchor\":\"bottom\",\"yref\":\"y\"}],\"font\":{\"color\":\"RebeccaPurple\",\"size\":12},\"legend\":{\"title\":{\"text\":\"Number of Positions\"}},\"shapes\":[{\"line\":{\"color\":\"red\",\"dash\":\"dash\"},\"type\":\"line\",\"x0\":0,\"x1\":1,\"xref\":\"x domain\",\"y0\":1.01,\"y1\":1.01,\"yref\":\"y\"}],\"template\":{\"data\":{\"bar\":[{\"error_x\":{\"color\":\"#2a3f5f\"},\"error_y\":{\"color\":\"#2a3f5f\"},\"marker\":{\"line\":{\"color\":\"#E5ECF6\",\"width\":0.5},\"pattern\":{\"fillmode\":\"overlay\",\"size\":10,\"solidity\":0.2}},\"type\":\"bar\"}],\"barpolar\":[{\"marker\":{\"line\":{\"color\":\"#E5ECF6\",\"width\":0.5},\"pattern\":{\"fillmode\":\"overlay\",\"size\":10,\"solidity\":0.2}},\"type\":\"barpolar\"}],\"carpet\":[{\"aaxis\":{\"endlinecolor\":\"#2a3f5f\",\"gridcolor\":\"white\",\"linecolor\":\"white\",\"minorgridcolor\":\"white\",\"startlinecolor\":\"#2a3f5f\"},\"baxis\":{\"endlinecolor\":\"#2a3f5f\",\"gridcolor\":\"white\",\"linecolor\":\"white\",\"minorgridcolor\":\"white\",\"startlinecolor\":\"#2a3f5f\"},\"type\":\"carpet\"}],\"choropleth\":[{\"colorbar\":{\"outlinewidth\":0,\"ticks\":\"\"},\"type\":\"choropleth\"}],\"contour\":[{\"colorbar\":{\"outlinewidth\":0,\"ticks\":\"\"},\"colorscale\":[[0.0,\"#0d0887\"],[0.1111111111111111,\"#46039f\"],[0.2222222222222222,\"#7201a8\"],[0.3333333333333333,\"#9c179e\"],[0.4444444444444444,\"#bd3786\"],[0.5555555555555556,\"#d8576b\"],[0.6666666666666666,\"#ed7953\"],[0.7777777777777778,\"#fb9f3a\"],[0.8888888888888888,\"#fdca26\"],[1.0,\"#f0f921\"]],\"type\":\"contour\"}],\"contourcarpet\":[{\"colorbar\":{\"outlinewidth\":0,\"ticks\":\"\"},\"type\":\"contourcarpet\"}],\"heatmap\":[{\"colorbar\":{\"outlinewidth\":0,\"ticks\":\"\"},\"colorscale\":[[0.0,\"#0d0887\"],[0.1111111111111111,\"#46039f\"],[0.2222222222222222,\"#7201a8\"],[0.3333333333333333,\"#9c179e\"],[0.4444444444444444,\"#bd3786\"],[0.5555555555555556,\"#d8576b\"],[0.6666666666666666,\"#ed7953\"],[0.7777777777777778,\"#fb9f3a\"],[0.8888888888888888,\"#fdca26\"],[1.0,\"#f0f921\"]],\"type\":\"heatmap\"}],\"heatmapgl\":[{\"colorbar\":{\"outlinewidth\":0,\"ticks\":\"\"},\"colorscale\":[[0.0,\"#0d0887\"],[0.1111111111111111,\"#46039f\"],[0.2222222222222222,\"#7201a8\"],[0.3333333333333333,\"#9c179e\"],[0.4444444444444444,\"#bd3786\"],[0.5555555555555556,\"#d8576b\"],[0.6666666666666666,\"#ed7953\"],[0.7777777777777778,\"#fb9f3a\"],[0.8888888888888888,\"#fdca26\"],[1.0,\"#f0f921\"]],\"type\":\"heatmapgl\"}],\"histogram\":[{\"marker\":{\"pattern\":{\"fillmode\":\"overlay\",\"size\":10,\"solidity\":0.2}},\"type\":\"histogram\"}],\"histogram2d\":[{\"colorbar\":{\"outlinewidth\":0,\"ticks\":\"\"},\"colorscale\":[[0.0,\"#0d0887\"],[0.1111111111111111,\"#46039f\"],[0.2222222222222222,\"#7201a8\"],[0.3333333333333333,\"#9c179e\"],[0.4444444444444444,\"#bd3786\"],[0.5555555555555556,\"#d8576b\"],[0.6666666666666666,\"#ed7953\"],[0.7777777777777778,\"#fb9f3a\"],[0.8888888888888888,\"#fdca26\"],[1.0,\"#f0f921\"]],\"type\":\"histogram2d\"}],\"histogram2dcontour\":[{\"colorbar\":{\"outlinewidth\":0,\"ticks\":\"\"},\"colorscale\":[[0.0,\"#0d0887\"],[0.1111111111111111,\"#46039f\"],[0.2222222222222222,\"#7201a8\"],[0.3333333333333333,\"#9c179e\"],[0.4444444444444444,\"#bd3786\"],[0.5555555555555556,\"#d8576b\"],[0.6666666666666666,\"#ed7953\"],[0.7777777777777778,\"#fb9f3a\"],[0.8888888888888888,\"#fdca26\"],[1.0,\"#f0f921\"]],\"type\":\"histogram2dcontour\"}],\"mesh3d\":[{\"colorbar\":{\"outlinewidth\":0,\"ticks\":\"\"},\"type\":\"mesh3d\"}],\"parcoords\":[{\"line\":{\"colorbar\":{\"outlinewidth\":0,\"ticks\":\"\"}},\"type\":\"parcoords\"}],\"pie\":[{\"automargin\":true,\"type\":\"pie\"}],\"scatter\":[{\"marker\":{\"colorbar\":{\"outlinewidth\":0,\"ticks\":\"\"}},\"type\":\"scatter\"}],\"scatter3d\":[{\"line\":{\"colorbar\":{\"outlinewidth\":0,\"ticks\":\"\"}},\"marker\":{\"colorbar\":{\"outlinewidth\":0,\"ticks\":\"\"}},\"type\":\"scatter3d\"}],\"scattercarpet\":[{\"marker\":{\"colorbar\":{\"outlinewidth\":0,\"ticks\":\"\"}},\"type\":\"scattercarpet\"}],\"scattergeo\":[{\"marker\":{\"colorbar\":{\"outlinewidth\":0,\"ticks\":\"\"}},\"type\":\"scattergeo\"}],\"scattergl\":[{\"marker\":{\"colorbar\":{\"outlinewidth\":0,\"ticks\":\"\"}},\"type\":\"scattergl\"}],\"scattermapbox\":[{\"marker\":{\"colorbar\":{\"outlinewidth\":0,\"ticks\":\"\"}},\"type\":\"scattermapbox\"}],\"scatterpolar\":[{\"marker\":{\"colorbar\":{\"outlinewidth\":0,\"ticks\":\"\"}},\"type\":\"scatterpolar\"}],\"scatterpolargl\":[{\"marker\":{\"colorbar\":{\"outlinewidth\":0,\"ticks\":\"\"}},\"type\":\"scatterpolargl\"}],\"scatterternary\":[{\"marker\":{\"colorbar\":{\"outlinewidth\":0,\"ticks\":\"\"}},\"type\":\"scatterternary\"}],\"surface\":[{\"colorbar\":{\"outlinewidth\":0,\"ticks\":\"\"},\"colorscale\":[[0.0,\"#0d0887\"],[0.1111111111111111,\"#46039f\"],[0.2222222222222222,\"#7201a8\"],[0.3333333333333333,\"#9c179e\"],[0.4444444444444444,\"#bd3786\"],[0.5555555555555556,\"#d8576b\"],[0.6666666666666666,\"#ed7953\"],[0.7777777777777778,\"#fb9f3a\"],[0.8888888888888888,\"#fdca26\"],[1.0,\"#f0f921\"]],\"type\":\"surface\"}],\"table\":[{\"cells\":{\"fill\":{\"color\":\"#EBF0F8\"},\"line\":{\"color\":\"white\"}},\"header\":{\"fill\":{\"color\":\"#C8D4E3\"},\"line\":{\"color\":\"white\"}},\"type\":\"table\"}]},\"layout\":{\"annotationdefaults\":{\"arrowcolor\":\"#2a3f5f\",\"arrowhead\":0,\"arrowwidth\":1},\"autotypenumbers\":\"strict\",\"coloraxis\":{\"colorbar\":{\"outlinewidth\":0,\"ticks\":\"\"}},\"colorscale\":{\"diverging\":[[0,\"#8e0152\"],[0.1,\"#c51b7d\"],[0.2,\"#de77ae\"],[0.3,\"#f1b6da\"],[0.4,\"#fde0ef\"],[0.5,\"#f7f7f7\"],[0.6,\"#e6f5d0\"],[0.7,\"#b8e186\"],[0.8,\"#7fbc41\"],[0.9,\"#4d9221\"],[1,\"#276419\"]],\"sequential\":[[0.0,\"#0d0887\"],[0.1111111111111111,\"#46039f\"],[0.2222222222222222,\"#7201a8\"],[0.3333333333333333,\"#9c179e\"],[0.4444444444444444,\"#bd3786\"],[0.5555555555555556,\"#d8576b\"],[0.6666666666666666,\"#ed7953\"],[0.7777777777777778,\"#fb9f3a\"],[0.8888888888888888,\"#fdca26\"],[1.0,\"#f0f921\"]],\"sequentialminus\":[[0.0,\"#0d0887\"],[0.1111111111111111,\"#46039f\"],[0.2222222222222222,\"#7201a8\"],[0.3333333333333333,\"#9c179e\"],[0.4444444444444444,\"#bd3786\"],[0.5555555555555556,\"#d8576b\"],[0.6666666666666666,\"#ed7953\"],[0.7777777777777778,\"#fb9f3a\"],[0.8888888888888888,\"#fdca26\"],[1.0,\"#f0f921\"]]},\"colorway\":[\"#636efa\",\"#EF553B\",\"#00cc96\",\"#ab63fa\",\"#FFA15A\",\"#19d3f3\",\"#FF6692\",\"#B6E880\",\"#FF97FF\",\"#FECB52\"],\"font\":{\"color\":\"#2a3f5f\"},\"geo\":{\"bgcolor\":\"white\",\"lakecolor\":\"white\",\"landcolor\":\"#E5ECF6\",\"showlakes\":true,\"showland\":true,\"subunitcolor\":\"white\"},\"hoverlabel\":{\"align\":\"left\"},\"hovermode\":\"closest\",\"mapbox\":{\"style\":\"light\"},\"paper_bgcolor\":\"white\",\"plot_bgcolor\":\"#E5ECF6\",\"polar\":{\"angularaxis\":{\"gridcolor\":\"white\",\"linecolor\":\"white\",\"ticks\":\"\"},\"bgcolor\":\"#E5ECF6\",\"radialaxis\":{\"gridcolor\":\"white\",\"linecolor\":\"white\",\"ticks\":\"\"}},\"scene\":{\"xaxis\":{\"backgroundcolor\":\"#E5ECF6\",\"gridcolor\":\"white\",\"gridwidth\":2,\"linecolor\":\"white\",\"showbackground\":true,\"ticks\":\"\",\"zerolinecolor\":\"white\"},\"yaxis\":{\"backgroundcolor\":\"#E5ECF6\",\"gridcolor\":\"white\",\"gridwidth\":2,\"linecolor\":\"white\",\"showbackground\":true,\"ticks\":\"\",\"zerolinecolor\":\"white\"},\"zaxis\":{\"backgroundcolor\":\"#E5ECF6\",\"gridcolor\":\"white\",\"gridwidth\":2,\"linecolor\":\"white\",\"showbackground\":true,\"ticks\":\"\",\"zerolinecolor\":\"white\"}},\"shapedefaults\":{\"line\":{\"color\":\"#2a3f5f\"}},\"ternary\":{\"aaxis\":{\"gridcolor\":\"white\",\"linecolor\":\"white\",\"ticks\":\"\"},\"baxis\":{\"gridcolor\":\"white\",\"linecolor\":\"white\",\"ticks\":\"\"},\"bgcolor\":\"#E5ECF6\",\"caxis\":{\"gridcolor\":\"white\",\"linecolor\":\"white\",\"ticks\":\"\"}},\"title\":{\"x\":0.05},\"xaxis\":{\"automargin\":true,\"gridcolor\":\"white\",\"linecolor\":\"white\",\"ticks\":\"\",\"title\":{\"standoff\":15},\"zerolinecolor\":\"white\",\"zerolinewidth\":2},\"yaxis\":{\"automargin\":true,\"gridcolor\":\"white\",\"linecolor\":\"white\",\"ticks\":\"\",\"title\":{\"standoff\":15},\"zerolinecolor\":\"white\",\"zerolinewidth\":2}}},\"title\":{\"text\":\"Strategy Capital Allocation vs Target Returns\"},\"xaxis\":{\"title\":{\"text\":\"Expected returns\"}},\"yaxis\":{\"title\":{\"text\":\"Fraction of Total Capital Invested\"}}},                        {\"responsive\": true}                    ).then(function(){\n",
       "                            \n",
       "var gd = document.getElementById('990ba825-b307-4c9b-9dc5-b88ecd4328c1');\n",
       "var x = new MutationObserver(function (mutations, observer) {{\n",
       "        var display = window.getComputedStyle(gd).display;\n",
       "        if (!display || display === 'none') {{\n",
       "            console.log([gd, 'removed!']);\n",
       "            Plotly.purge(gd);\n",
       "            observer.disconnect();\n",
       "        }}\n",
       "}});\n",
       "\n",
       "// Listen for the removal of the full notebook cells\n",
       "var notebookContainer = gd.closest('#notebook-container');\n",
       "if (notebookContainer) {{\n",
       "    x.observe(notebookContainer, {childList: true});\n",
       "}}\n",
       "\n",
       "// Listen for the clearing of the current output cell\n",
       "var outputEl = gd.closest('.output');\n",
       "if (outputEl) {{\n",
       "    x.observe(outputEl, {childList: true});\n",
       "}}\n",
       "\n",
       "                        })                };                });            </script>        </div>"
      ]
     },
     "metadata": {},
     "output_type": "display_data"
    }
   ],
   "source": [
    "expected_gain_range = np.arange(0.05, 0.5, 0.01)\n",
    "\n",
    "position_range = np.arange(1, 6)\n",
    "\n",
    "p_not_breakeven = 0.4\n",
    "# num_positions = 2\n",
    "fig = go.Figure()\n",
    "for num_positions in position_range:\n",
    "    \n",
    "    p = 1 - p_not_breakeven**num_positions\n",
    "    gain_fraction_df =  pd.DataFrame({\"Capital Fraction\":np.apply_along_axis(lambda expected_gain: p/(1/num_positions) -  (1-p) / expected_gain, 0, expected_gain_range),\n",
    "                                  \"Expected Gain\":expected_gain_range})\n",
    "    gain_fraction_df.loc[gain_fraction_df['Capital Fraction']<0, 'Capital Fraction'] = 0\n",
    "    # gain_fraction_df.loc[gain_fraction_df['Capital Fraction'].gt(0.05).idxmax(), \"Expected Gain\"]\n",
    "\n",
    "    fig.add_trace(go.Scatter(x=gain_fraction_df[\"Expected Gain\"], y=gain_fraction_df[\"Capital Fraction\"],\n",
    "                    mode='lines',\n",
    "                    name='%d Positions'%num_positions))\n",
    "    \n",
    "fig.add_hline(1.01, line_dash=\"dash\", line_color=\"red\", annotation_text='Leverage Threshold')\n",
    "fig.update_layout(\n",
    "    title=\"Strategy Capital Allocation vs Target Returns\",\n",
    "    xaxis_title=\"Expected returns\",\n",
    "    yaxis_title=\"Fraction of Total Capital Invested\",\n",
    "    legend_title=\"Number of Positions\",\n",
    "    font=dict(\n",
    "#         family=\"Courier New, monospace\",\n",
    "        size=12,\n",
    "        color=\"RebeccaPurple\"\n",
    "    )\n",
    ")\n",
    "\n",
    "fig.show()"
   ]
  },
  {
   "cell_type": "code",
   "execution_count": 140,
   "id": "precious-insight",
   "metadata": {},
   "outputs": [
    {
     "data": {
      "application/vnd.plotly.v1+json": {
       "config": {
        "plotlyServerURL": "https://plot.ly"
       },
       "data": [
        {
         "mode": "lines",
         "name": "2 Positions",
         "type": "scatter",
         "x": [
          0.05,
          0.060000000000000005,
          0.07,
          0.08000000000000002,
          0.09000000000000001,
          0.1,
          0.11000000000000001,
          0.12000000000000001,
          0.13,
          0.14,
          0.15000000000000002,
          0.16000000000000003,
          0.17000000000000004,
          0.18000000000000005,
          0.19,
          0.2,
          0.21000000000000002,
          0.22000000000000003,
          0.23000000000000004,
          0.24000000000000005,
          0.25000000000000006,
          0.26000000000000006,
          0.27,
          0.28,
          0.29000000000000004,
          0.30000000000000004,
          0.31000000000000005,
          0.32000000000000006,
          0.33,
          0.34,
          0.35000000000000003,
          0.36000000000000004,
          0.37000000000000005,
          0.38000000000000006,
          0.39000000000000007,
          0.4000000000000001,
          0.4100000000000001,
          0.42000000000000004,
          0.43000000000000005,
          0.44000000000000006,
          0.45000000000000007,
          0.4600000000000001,
          0.4700000000000001,
          0.4800000000000001,
          0.49000000000000005
         ],
         "y": [
          0,
          0,
          0,
          0,
          0,
          0,
          0,
          0,
          0,
          0,
          0,
          0,
          0,
          0,
          0,
          0,
          0,
          0,
          0,
          0,
          0,
          0,
          0,
          0,
          0,
          0,
          0,
          0,
          0,
          0,
          0,
          0,
          0,
          0,
          0,
          0,
          0,
          0,
          0,
          0,
          0,
          0.004660869565217163,
          0.01916595744680827,
          0.03306666666666647,
          0.046399999999999775
         ]
        },
        {
         "mode": "lines",
         "name": "2 Positions",
         "type": "scatter",
         "x": [
          0.05,
          0.060000000000000005,
          0.07,
          0.08000000000000002,
          0.09000000000000001,
          0.1,
          0.11000000000000001,
          0.12000000000000001,
          0.13,
          0.14,
          0.15000000000000002,
          0.16000000000000003,
          0.17000000000000004,
          0.18000000000000005,
          0.19,
          0.2,
          0.21000000000000002,
          0.22000000000000003,
          0.23000000000000004,
          0.24000000000000005,
          0.25000000000000006,
          0.26000000000000006,
          0.27,
          0.28,
          0.29000000000000004,
          0.30000000000000004,
          0.31000000000000005,
          0.32000000000000006,
          0.33,
          0.34,
          0.35000000000000003,
          0.36000000000000004,
          0.37000000000000005,
          0.38000000000000006,
          0.39000000000000007,
          0.4000000000000001,
          0.4100000000000001,
          0.42000000000000004,
          0.43000000000000005,
          0.44000000000000006,
          0.45000000000000007,
          0.4600000000000001,
          0.4700000000000001,
          0.4800000000000001,
          0.49000000000000005
         ],
         "y": [
          0,
          0,
          0,
          0,
          0,
          0,
          0,
          0,
          0,
          0,
          0,
          0,
          0,
          0,
          0,
          0,
          0,
          0,
          0,
          0,
          0,
          0,
          0,
          0,
          0,
          0,
          0,
          0,
          0,
          0,
          0,
          0,
          0,
          0,
          0,
          0,
          0,
          0,
          0,
          0.01000000000000012,
          0.025277777777777954,
          0.03989130434782617,
          0.05388297872340442,
          0.06729166666666686,
          0.08015306122448984
         ]
        },
        {
         "mode": "lines",
         "name": "2 Positions",
         "type": "scatter",
         "x": [
          0.05,
          0.060000000000000005,
          0.07,
          0.08000000000000002,
          0.09000000000000001,
          0.1,
          0.11000000000000001,
          0.12000000000000001,
          0.13,
          0.14,
          0.15000000000000002,
          0.16000000000000003,
          0.17000000000000004,
          0.18000000000000005,
          0.19,
          0.2,
          0.21000000000000002,
          0.22000000000000003,
          0.23000000000000004,
          0.24000000000000005,
          0.25000000000000006,
          0.26000000000000006,
          0.27,
          0.28,
          0.29000000000000004,
          0.30000000000000004,
          0.31000000000000005,
          0.32000000000000006,
          0.33,
          0.34,
          0.35000000000000003,
          0.36000000000000004,
          0.37000000000000005,
          0.38000000000000006,
          0.39000000000000007,
          0.4000000000000001,
          0.4100000000000001,
          0.42000000000000004,
          0.43000000000000005,
          0.44000000000000006,
          0.45000000000000007,
          0.4600000000000001,
          0.4700000000000001,
          0.4800000000000001,
          0.49000000000000005
         ],
         "y": [
          0,
          0,
          0,
          0,
          0,
          0,
          0,
          0,
          0,
          0,
          0,
          0,
          0,
          0,
          0,
          0,
          0,
          0,
          0,
          0,
          0,
          0,
          0,
          0,
          0,
          0,
          0,
          0,
          0,
          0,
          0,
          0,
          0,
          0,
          0,
          0,
          0,
          0.014114285714285524,
          0.03026046511627889,
          0.04567272727272709,
          0.06039999999999979,
          0.07448695652173898,
          0.08797446808510623,
          0.10089999999999988,
          0.11329795918367325
         ]
        },
        {
         "mode": "lines",
         "name": "2 Positions",
         "type": "scatter",
         "x": [
          0.05,
          0.060000000000000005,
          0.07,
          0.08000000000000002,
          0.09000000000000001,
          0.1,
          0.11000000000000001,
          0.12000000000000001,
          0.13,
          0.14,
          0.15000000000000002,
          0.16000000000000003,
          0.17000000000000004,
          0.18000000000000005,
          0.19,
          0.2,
          0.21000000000000002,
          0.22000000000000003,
          0.23000000000000004,
          0.24000000000000005,
          0.25000000000000006,
          0.26000000000000006,
          0.27,
          0.28,
          0.29000000000000004,
          0.30000000000000004,
          0.31000000000000005,
          0.32000000000000006,
          0.33,
          0.34,
          0.35000000000000003,
          0.36000000000000004,
          0.37000000000000005,
          0.38000000000000006,
          0.39000000000000007,
          0.4000000000000001,
          0.4100000000000001,
          0.42000000000000004,
          0.43000000000000005,
          0.44000000000000006,
          0.45000000000000007,
          0.4600000000000001,
          0.4700000000000001,
          0.4800000000000001,
          0.49000000000000005
         ],
         "y": [
          0,
          0,
          0,
          0,
          0,
          0,
          0,
          0,
          0,
          0,
          0,
          0,
          0,
          0,
          0,
          0,
          0,
          0,
          0,
          0,
          0,
          0,
          0,
          0,
          0,
          0,
          0,
          0,
          0,
          0,
          0,
          0,
          0,
          0,
          0,
          0.01685000000000003,
          0.033978048780487824,
          0.05029047619047611,
          0.06584418604651154,
          0.08069090909090904,
          0.09487777777777773,
          0.10844782608695647,
          0.12144042553191492,
          0.13389166666666663,
          0.145834693877551
         ]
        },
        {
         "mode": "lines",
         "name": "2 Positions",
         "type": "scatter",
         "x": [
          0.05,
          0.060000000000000005,
          0.07,
          0.08000000000000002,
          0.09000000000000001,
          0.1,
          0.11000000000000001,
          0.12000000000000001,
          0.13,
          0.14,
          0.15000000000000002,
          0.16000000000000003,
          0.17000000000000004,
          0.18000000000000005,
          0.19,
          0.2,
          0.21000000000000002,
          0.22000000000000003,
          0.23000000000000004,
          0.24000000000000005,
          0.25000000000000006,
          0.26000000000000006,
          0.27,
          0.28,
          0.29000000000000004,
          0.30000000000000004,
          0.31000000000000005,
          0.32000000000000006,
          0.33,
          0.34,
          0.35000000000000003,
          0.36000000000000004,
          0.37000000000000005,
          0.38000000000000006,
          0.39000000000000007,
          0.4000000000000001,
          0.4100000000000001,
          0.42000000000000004,
          0.43000000000000005,
          0.44000000000000006,
          0.45000000000000007,
          0.4600000000000001,
          0.4700000000000001,
          0.4800000000000001,
          0.49000000000000005
         ],
         "y": [
          0,
          0,
          0,
          0,
          0,
          0,
          0,
          0,
          0,
          0,
          0,
          0,
          0,
          0,
          0,
          0,
          0,
          0,
          0,
          0,
          0,
          0,
          0,
          0,
          0,
          0,
          0,
          0,
          0,
          0,
          0,
          0,
          0,
          0.01802105263157916,
          0.03626666666666689,
          0.0536000000000002,
          0.070087804878049,
          0.0857904761904763,
          0.10076279069767458,
          0.11505454545454563,
          0.12871111111111133,
          0.14177391304347842,
          0.15428085106382994,
          0.1662666666666669,
          0.17776326530612263
         ]
        },
        {
         "mode": "lines",
         "name": "2 Positions",
         "type": "scatter",
         "x": [
          0.05,
          0.060000000000000005,
          0.07,
          0.08000000000000002,
          0.09000000000000001,
          0.1,
          0.11000000000000001,
          0.12000000000000001,
          0.13,
          0.14,
          0.15000000000000002,
          0.16000000000000003,
          0.17000000000000004,
          0.18000000000000005,
          0.19,
          0.2,
          0.21000000000000002,
          0.22000000000000003,
          0.23000000000000004,
          0.24000000000000005,
          0.25000000000000006,
          0.26000000000000006,
          0.27,
          0.28,
          0.29000000000000004,
          0.30000000000000004,
          0.31000000000000005,
          0.32000000000000006,
          0.33,
          0.34,
          0.35000000000000003,
          0.36000000000000004,
          0.37000000000000005,
          0.38000000000000006,
          0.39000000000000007,
          0.4000000000000001,
          0.4100000000000001,
          0.42000000000000004,
          0.43000000000000005,
          0.44000000000000006,
          0.45000000000000007,
          0.4600000000000001,
          0.4700000000000001,
          0.4800000000000001,
          0.49000000000000005
         ],
         "y": [
          0,
          0,
          0,
          0,
          0,
          0,
          0,
          0,
          0,
          0,
          0,
          0,
          0,
          0,
          0,
          0,
          0,
          0,
          0,
          0,
          0,
          0,
          0,
          0,
          0,
          0,
          0,
          0,
          0,
          0,
          0,
          0.017400000000000082,
          0.036927027027027104,
          0.05542631578947377,
          0.07297692307692316,
          0.08965000000000012,
          0.10550975609756108,
          0.12061428571428578,
          0.13501627906976754,
          0.14876363636363643,
          0.16190000000000004,
          0.1744652173913045,
          0.18649574468085117,
          0.19802500000000012,
          0.20908367346938783
         ]
        },
        {
         "mode": "lines",
         "name": "2 Positions",
         "type": "scatter",
         "x": [
          0.05,
          0.060000000000000005,
          0.07,
          0.08000000000000002,
          0.09000000000000001,
          0.1,
          0.11000000000000001,
          0.12000000000000001,
          0.13,
          0.14,
          0.15000000000000002,
          0.16000000000000003,
          0.17000000000000004,
          0.18000000000000005,
          0.19,
          0.2,
          0.21000000000000002,
          0.22000000000000003,
          0.23000000000000004,
          0.24000000000000005,
          0.25000000000000006,
          0.26000000000000006,
          0.27,
          0.28,
          0.29000000000000004,
          0.30000000000000004,
          0.31000000000000005,
          0.32000000000000006,
          0.33,
          0.34,
          0.35000000000000003,
          0.36000000000000004,
          0.37000000000000005,
          0.38000000000000006,
          0.39000000000000007,
          0.4000000000000001,
          0.4100000000000001,
          0.42000000000000004,
          0.43000000000000005,
          0.44000000000000006,
          0.45000000000000007,
          0.4600000000000001,
          0.4700000000000001,
          0.4800000000000001,
          0.49000000000000005
         ],
         "y": [
          0,
          0,
          0,
          0,
          0,
          0,
          0,
          0,
          0,
          0,
          0,
          0,
          0,
          0,
          0,
          0,
          0,
          0,
          0,
          0,
          0,
          0,
          0,
          0,
          0,
          0,
          0,
          0,
          0,
          0.014705882352941235,
          0.03571428571428581,
          0.05555555555555569,
          0.07432432432432445,
          0.0921052631578948,
          0.10897435897435914,
          0.1250000000000001,
          0.14024390243902451,
          0.15476190476190477,
          0.16860465116279078,
          0.18181818181818188,
          0.19444444444444453,
          0.20652173913043492,
          0.21808510638297884,
          0.22916666666666674,
          0.23979591836734704
         ]
        },
        {
         "mode": "lines",
         "name": "2 Positions",
         "type": "scatter",
         "x": [
          0.05,
          0.060000000000000005,
          0.07,
          0.08000000000000002,
          0.09000000000000001,
          0.1,
          0.11000000000000001,
          0.12000000000000001,
          0.13,
          0.14,
          0.15000000000000002,
          0.16000000000000003,
          0.17000000000000004,
          0.18000000000000005,
          0.19,
          0.2,
          0.21000000000000002,
          0.22000000000000003,
          0.23000000000000004,
          0.24000000000000005,
          0.25000000000000006,
          0.26000000000000006,
          0.27,
          0.28,
          0.29000000000000004,
          0.30000000000000004,
          0.31000000000000005,
          0.32000000000000006,
          0.33,
          0.34,
          0.35000000000000003,
          0.36000000000000004,
          0.37000000000000005,
          0.38000000000000006,
          0.39000000000000007,
          0.4000000000000001,
          0.4100000000000001,
          0.42000000000000004,
          0.43000000000000005,
          0.44000000000000006,
          0.45000000000000007,
          0.4600000000000001,
          0.4700000000000001,
          0.4800000000000001,
          0.49000000000000005
         ],
         "y": [
          0,
          0,
          0,
          0,
          0,
          0,
          0,
          0,
          0,
          0,
          0,
          0,
          0,
          0,
          0,
          0,
          0,
          0,
          0,
          0,
          0,
          0,
          0,
          0,
          0,
          0,
          0,
          0.009587500000000193,
          0.03232424242424259,
          0.05372352941176484,
          0.07390000000000019,
          0.09295555555555568,
          0.11098108108108129,
          0.12805789473684226,
          0.1442589743589745,
          0.15965000000000018,
          0.1742902439024392,
          0.18823333333333347,
          0.20152790697674428,
          0.21421818181818197,
          0.22634444444444457,
          0.2379434782608697,
          0.24904893617021295,
          0.2596916666666669,
          0.2699000000000001
         ]
        },
        {
         "mode": "lines",
         "name": "2 Positions",
         "type": "scatter",
         "x": [
          0.05,
          0.060000000000000005,
          0.07,
          0.08000000000000002,
          0.09000000000000001,
          0.1,
          0.11000000000000001,
          0.12000000000000001,
          0.13,
          0.14,
          0.15000000000000002,
          0.16000000000000003,
          0.17000000000000004,
          0.18000000000000005,
          0.19,
          0.2,
          0.21000000000000002,
          0.22000000000000003,
          0.23000000000000004,
          0.24000000000000005,
          0.25000000000000006,
          0.26000000000000006,
          0.27,
          0.28,
          0.29000000000000004,
          0.30000000000000004,
          0.31000000000000005,
          0.32000000000000006,
          0.33,
          0.34,
          0.35000000000000003,
          0.36000000000000004,
          0.37000000000000005,
          0.38000000000000006,
          0.39000000000000007,
          0.4000000000000001,
          0.4100000000000001,
          0.42000000000000004,
          0.43000000000000005,
          0.44000000000000006,
          0.45000000000000007,
          0.4600000000000001,
          0.4700000000000001,
          0.4800000000000001,
          0.49000000000000005
         ],
         "y": [
          0,
          0,
          0,
          0,
          0,
          0,
          0,
          0,
          0,
          0,
          0,
          0,
          0,
          0,
          0,
          0,
          0,
          0,
          0,
          0,
          0,
          0,
          0,
          0,
          0,
          0.001600000000000379,
          0.026374193548387437,
          0.04960000000000042,
          0.07141818181818205,
          0.0919529411764709,
          0.11131428571428603,
          0.12960000000000027,
          0.1468972972972976,
          0.16328421052631614,
          0.17883076923076957,
          0.19360000000000033,
          0.20764878048780522,
          0.22102857142857169,
          0.23378604651162815,
          0.2459636363636366,
          0.2576000000000003,
          0.26873043478260894,
          0.2793872340425535,
          0.2896000000000003,
          0.2993959183673472
         ]
        },
        {
         "mode": "lines",
         "name": "2 Positions",
         "type": "scatter",
         "x": [
          0.05,
          0.060000000000000005,
          0.07,
          0.08000000000000002,
          0.09000000000000001,
          0.1,
          0.11000000000000001,
          0.12000000000000001,
          0.13,
          0.14,
          0.15000000000000002,
          0.16000000000000003,
          0.17000000000000004,
          0.18000000000000005,
          0.19,
          0.2,
          0.21000000000000002,
          0.22000000000000003,
          0.23000000000000004,
          0.24000000000000005,
          0.25000000000000006,
          0.26000000000000006,
          0.27,
          0.28,
          0.29000000000000004,
          0.30000000000000004,
          0.31000000000000005,
          0.32000000000000006,
          0.33,
          0.34,
          0.35000000000000003,
          0.36000000000000004,
          0.37000000000000005,
          0.38000000000000006,
          0.39000000000000007,
          0.4000000000000001,
          0.4100000000000001,
          0.42000000000000004,
          0.43000000000000005,
          0.44000000000000006,
          0.45000000000000007,
          0.4600000000000001,
          0.4700000000000001,
          0.4800000000000001,
          0.49000000000000005
         ],
         "y": [
          0,
          0,
          0,
          0,
          0,
          0,
          0,
          0,
          0,
          0,
          0,
          0,
          0,
          0,
          0,
          0,
          0,
          0,
          0,
          0,
          0,
          0,
          0,
          0,
          0.017375862068965686,
          0.04276666666666684,
          0.06651935483870985,
          0.08878750000000024,
          0.1097060606060607,
          0.12939411764705888,
          0.147957142857143,
          0.16548888888888902,
          0.1820729729729731,
          0.1977842105263159,
          0.2126897435897438,
          0.2268500000000001,
          0.24031951219512215,
          0.2531476190476192,
          0.26537906976744197,
          0.27705454545454555,
          0.28821111111111125,
          0.2988826086956523,
          0.30910000000000015,
          0.3188916666666668,
          0.32828367346938786
         ]
        },
        {
         "mode": "lines",
         "name": "2 Positions",
         "type": "scatter",
         "x": [
          0.05,
          0.060000000000000005,
          0.07,
          0.08000000000000002,
          0.09000000000000001,
          0.1,
          0.11000000000000001,
          0.12000000000000001,
          0.13,
          0.14,
          0.15000000000000002,
          0.16000000000000003,
          0.17000000000000004,
          0.18000000000000005,
          0.19,
          0.2,
          0.21000000000000002,
          0.22000000000000003,
          0.23000000000000004,
          0.24000000000000005,
          0.25000000000000006,
          0.26000000000000006,
          0.27,
          0.28,
          0.29000000000000004,
          0.30000000000000004,
          0.31000000000000005,
          0.32000000000000006,
          0.33,
          0.34,
          0.35000000000000003,
          0.36000000000000004,
          0.37000000000000005,
          0.38000000000000006,
          0.39000000000000007,
          0.4000000000000001,
          0.4100000000000001,
          0.42000000000000004,
          0.43000000000000005,
          0.44000000000000006,
          0.45000000000000007,
          0.4600000000000001,
          0.4700000000000001,
          0.4800000000000001,
          0.49000000000000005
         ],
         "y": [
          0,
          0,
          0,
          0,
          0,
          0,
          0,
          0,
          0,
          0,
          0,
          0,
          0,
          0,
          0,
          0,
          0,
          0,
          0,
          0,
          0,
          0,
          0.0046962962962963095,
          0.03268571428571432,
          0.058744827586206916,
          0.08306666666666673,
          0.10581935483870974,
          0.1271500000000001,
          0.14718787878787876,
          0.16604705882352944,
          0.18382857142857145,
          0.20062222222222226,
          0.21650810810810817,
          0.23155789473684218,
          0.2458358974358975,
          0.2594000000000001,
          0.27230243902439033,
          0.28459047619047617,
          0.29630697674418605,
          0.30749090909090915,
          0.31817777777777784,
          0.3284,
          0.33818723404255324,
          0.34756666666666675,
          0.3565632653061225
         ]
        },
        {
         "mode": "lines",
         "name": "2 Positions",
         "type": "scatter",
         "x": [
          0.05,
          0.060000000000000005,
          0.07,
          0.08000000000000002,
          0.09000000000000001,
          0.1,
          0.11000000000000001,
          0.12000000000000001,
          0.13,
          0.14,
          0.15000000000000002,
          0.16000000000000003,
          0.17000000000000004,
          0.18000000000000005,
          0.19,
          0.2,
          0.21000000000000002,
          0.22000000000000003,
          0.23000000000000004,
          0.24000000000000005,
          0.25000000000000006,
          0.26000000000000006,
          0.27,
          0.28,
          0.29000000000000004,
          0.30000000000000004,
          0.31000000000000005,
          0.32000000000000006,
          0.33,
          0.34,
          0.35000000000000003,
          0.36000000000000004,
          0.37000000000000005,
          0.38000000000000006,
          0.39000000000000007,
          0.4000000000000001,
          0.4100000000000001,
          0.42000000000000004,
          0.43000000000000005,
          0.44000000000000006,
          0.45000000000000007,
          0.4600000000000001,
          0.4700000000000001,
          0.4800000000000001,
          0.49000000000000005
         ],
         "y": [
          0,
          0,
          0,
          0,
          0,
          0,
          0,
          0,
          0,
          0,
          0,
          0,
          0,
          0,
          0,
          0,
          0,
          0,
          0,
          0,
          0,
          0.018653846153846798,
          0.04750000000000054,
          0.07428571428571484,
          0.09922413793103502,
          0.1225000000000005,
          0.14427419354838766,
          0.16468750000000054,
          0.18386363636363678,
          0.2019117647058828,
          0.2189285714285718,
          0.23500000000000043,
          0.2502027027027032,
          0.2646052631578951,
          0.27826923076923116,
          0.29125000000000045,
          0.3035975609756102,
          0.3153571428571432,
          0.32656976744186084,
          0.33727272727272767,
          0.34750000000000036,
          0.35728260869565254,
          0.36664893617021316,
          0.3756250000000004,
          0.3842346938775514
         ]
        },
        {
         "mode": "lines",
         "name": "2 Positions",
         "type": "scatter",
         "x": [
          0.05,
          0.060000000000000005,
          0.07,
          0.08000000000000002,
          0.09000000000000001,
          0.1,
          0.11000000000000001,
          0.12000000000000001,
          0.13,
          0.14,
          0.15000000000000002,
          0.16000000000000003,
          0.17000000000000004,
          0.18000000000000005,
          0.19,
          0.2,
          0.21000000000000002,
          0.22000000000000003,
          0.23000000000000004,
          0.24000000000000005,
          0.25000000000000006,
          0.26000000000000006,
          0.27,
          0.28,
          0.29000000000000004,
          0.30000000000000004,
          0.31000000000000005,
          0.32000000000000006,
          0.33,
          0.34,
          0.35000000000000003,
          0.36000000000000004,
          0.37000000000000005,
          0.38000000000000006,
          0.39000000000000007,
          0.4000000000000001,
          0.4100000000000001,
          0.42000000000000004,
          0.43000000000000005,
          0.44000000000000006,
          0.45000000000000007,
          0.4600000000000001,
          0.4700000000000001,
          0.4800000000000001,
          0.49000000000000005
         ],
         "y": [
          0,
          0,
          0,
          0,
          0,
          0,
          0,
          0,
          0,
          0,
          0,
          0,
          0,
          0,
          0,
          0,
          0,
          0,
          0,
          0,
          0.03200000000000025,
          0.06178461538461555,
          0.08936296296296309,
          0.11497142857142861,
          0.13881379310344844,
          0.1610666666666668,
          0.18188387096774206,
          0.20140000000000013,
          0.21973333333333334,
          0.23698823529411772,
          0.25325714285714296,
          0.2686222222222223,
          0.2831567567567569,
          0.2969263157894738,
          0.3099897435897437,
          0.32240000000000013,
          0.33420487804878063,
          0.3454476190476191,
          0.3561674418604652,
          0.36640000000000006,
          0.37617777777777783,
          0.3855304347826088,
          0.3944851063829788,
          0.40306666666666674,
          0.4112979591836735
         ]
        },
        {
         "mode": "lines",
         "name": "2 Positions",
         "type": "scatter",
         "x": [
          0.05,
          0.060000000000000005,
          0.07,
          0.08000000000000002,
          0.09000000000000001,
          0.1,
          0.11000000000000001,
          0.12000000000000001,
          0.13,
          0.14,
          0.15000000000000002,
          0.16000000000000003,
          0.17000000000000004,
          0.18000000000000005,
          0.19,
          0.2,
          0.21000000000000002,
          0.22000000000000003,
          0.23000000000000004,
          0.24000000000000005,
          0.25000000000000006,
          0.26000000000000006,
          0.27,
          0.28,
          0.29000000000000004,
          0.30000000000000004,
          0.31000000000000005,
          0.32000000000000006,
          0.33,
          0.34,
          0.35000000000000003,
          0.36000000000000004,
          0.37000000000000005,
          0.38000000000000006,
          0.39000000000000007,
          0.4000000000000001,
          0.4100000000000001,
          0.42000000000000004,
          0.43000000000000005,
          0.44000000000000006,
          0.45000000000000007,
          0.4600000000000001,
          0.4700000000000001,
          0.4800000000000001,
          0.49000000000000005
         ],
         "y": [
          0,
          0,
          0,
          0,
          0,
          0,
          0,
          0,
          0,
          0,
          0,
          0,
          0,
          0,
          0,
          0,
          0,
          0,
          0.01118695652173951,
          0.04468333333333374,
          0.07550000000000034,
          0.10394615384615424,
          0.1302851851851855,
          0.1547428571428574,
          0.1775137931034486,
          0.19876666666666698,
          0.21864838709677448,
          0.23728750000000032,
          0.25479696969696997,
          0.27127647058823556,
          0.2868142857142859,
          0.30148888888888914,
          0.31537027027027054,
          0.3285210526315792,
          0.34099743589743614,
          0.3528500000000003,
          0.3641243902439027,
          0.37486190476190495,
          0.3851000000000002,
          0.3948727272727275,
          0.4042111111111113,
          0.4131434782608698,
          0.4216957446808513,
          0.4298916666666669,
          0.43775306122449
         ]
        },
        {
         "mode": "lines",
         "name": "2 Positions",
         "type": "scatter",
         "x": [
          0.05,
          0.060000000000000005,
          0.07,
          0.08000000000000002,
          0.09000000000000001,
          0.1,
          0.11000000000000001,
          0.12000000000000001,
          0.13,
          0.14,
          0.15000000000000002,
          0.16000000000000003,
          0.17000000000000004,
          0.18000000000000005,
          0.19,
          0.2,
          0.21000000000000002,
          0.22000000000000003,
          0.23000000000000004,
          0.24000000000000005,
          0.25000000000000006,
          0.26000000000000006,
          0.27,
          0.28,
          0.29000000000000004,
          0.30000000000000004,
          0.31000000000000005,
          0.32000000000000006,
          0.33,
          0.34,
          0.35000000000000003,
          0.36000000000000004,
          0.37000000000000005,
          0.38000000000000006,
          0.39000000000000007,
          0.4000000000000001,
          0.4100000000000001,
          0.42000000000000004,
          0.43000000000000005,
          0.44000000000000006,
          0.45000000000000007,
          0.4600000000000001,
          0.4700000000000001,
          0.4800000000000001,
          0.49000000000000005
         ],
         "y": [
          0,
          0,
          0,
          0,
          0,
          0,
          0,
          0,
          0,
          0,
          0,
          0,
          0,
          0,
          0,
          0,
          0,
          0.0217818181818189,
          0.05664347826087024,
          0.08860000000000068,
          0.11800000000000066,
          0.14513846153846222,
          0.17026666666666723,
          0.19360000000000055,
          0.215324137931035,
          0.2356000000000006,
          0.2545677419354845,
          0.27235000000000054,
          0.2890545454545459,
          0.30477647058823576,
          0.31960000000000044,
          0.33360000000000045,
          0.3468432432432437,
          0.359389473684211,
          0.37129230769230814,
          0.3826000000000005,
          0.39335609756097606,
          0.4036000000000004,
          0.41336744186046553,
          0.4226909090909095,
          0.4316000000000004,
          0.4401217391304352,
          0.4482808510638302,
          0.4561000000000004,
          0.46360000000000035
         ]
        },
        {
         "mode": "lines",
         "name": "2 Positions",
         "type": "scatter",
         "x": [
          0.05,
          0.060000000000000005,
          0.07,
          0.08000000000000002,
          0.09000000000000001,
          0.1,
          0.11000000000000001,
          0.12000000000000001,
          0.13,
          0.14,
          0.15000000000000002,
          0.16000000000000003,
          0.17000000000000004,
          0.18000000000000005,
          0.19,
          0.2,
          0.21000000000000002,
          0.22000000000000003,
          0.23000000000000004,
          0.24000000000000005,
          0.25000000000000006,
          0.26000000000000006,
          0.27,
          0.28,
          0.29000000000000004,
          0.30000000000000004,
          0.31000000000000005,
          0.32000000000000006,
          0.33,
          0.34,
          0.35000000000000003,
          0.36000000000000004,
          0.37000000000000005,
          0.38000000000000006,
          0.39000000000000007,
          0.4000000000000001,
          0.4100000000000001,
          0.42000000000000004,
          0.43000000000000005,
          0.44000000000000006,
          0.45000000000000007,
          0.4600000000000001,
          0.4700000000000001,
          0.4800000000000001,
          0.49000000000000005
         ],
         "y": [
          0,
          0,
          0,
          0,
          0,
          0,
          0,
          0,
          0,
          0,
          0,
          0,
          0,
          0,
          0,
          0,
          0.031423809523810076,
          0.06780909090909149,
          0.10103043478260931,
          0.13148333333333395,
          0.15950000000000053,
          0.18536153846153902,
          0.20930740740740783,
          0.2315428571428576,
          0.25224482758620737,
          0.27156666666666707,
          0.2896419354838714,
          0.30658750000000046,
          0.322506060606061,
          0.33748823529411803,
          0.3516142857142861,
          0.3649555555555559,
          0.37757567567567607,
          0.3895315789473688,
          0.40087435897435936,
          0.41165000000000035,
          0.4219000000000004,
          0.4316619047619051,
          0.4409697674418608,
          0.4498545454545458,
          0.4583444444444448,
          0.4664652173913047,
          0.4742404255319152,
          0.481691666666667,
          0.4888387755102044
         ]
        },
        {
         "mode": "lines",
         "name": "2 Positions",
         "type": "scatter",
         "x": [
          0.05,
          0.060000000000000005,
          0.07,
          0.08000000000000002,
          0.09000000000000001,
          0.1,
          0.11000000000000001,
          0.12000000000000001,
          0.13,
          0.14,
          0.15000000000000002,
          0.16000000000000003,
          0.17000000000000004,
          0.18000000000000005,
          0.19,
          0.2,
          0.21000000000000002,
          0.22000000000000003,
          0.23000000000000004,
          0.24000000000000005,
          0.25000000000000006,
          0.26000000000000006,
          0.27,
          0.28,
          0.29000000000000004,
          0.30000000000000004,
          0.31000000000000005,
          0.32000000000000006,
          0.33,
          0.34,
          0.35000000000000003,
          0.36000000000000004,
          0.37000000000000005,
          0.38000000000000006,
          0.39000000000000007,
          0.4000000000000001,
          0.4100000000000001,
          0.42000000000000004,
          0.43000000000000005,
          0.44000000000000006,
          0.45000000000000007,
          0.4600000000000001,
          0.4700000000000001,
          0.4800000000000001,
          0.49000000000000005
         ],
         "y": [
          0,
          0,
          0,
          0,
          0,
          0,
          0,
          0,
          0,
          0,
          0,
          0,
          0,
          0,
          0,
          0.04000000000000048,
          0.07809523809523866,
          0.11272727272727323,
          0.14434782608695707,
          0.1733333333333339,
          0.2000000000000005,
          0.2246153846153851,
          0.24740740740740785,
          0.268571428571429,
          0.28827586206896594,
          0.3066666666666671,
          0.3238709677419359,
          0.3400000000000004,
          0.3551515151515155,
          0.3694117647058827,
          0.38285714285714323,
          0.3955555555555559,
          0.4075675675675679,
          0.418947368421053,
          0.4297435897435901,
          0.44000000000000034,
          0.44975609756097595,
          0.45904761904761937,
          0.46790697674418635,
          0.47636363636363666,
          0.48444444444444473,
          0.4921739130434786,
          0.4995744680851067,
          0.506666666666667,
          0.5134693877551023
         ]
        },
        {
         "mode": "lines",
         "name": "2 Positions",
         "type": "scatter",
         "x": [
          0.05,
          0.060000000000000005,
          0.07,
          0.08000000000000002,
          0.09000000000000001,
          0.1,
          0.11000000000000001,
          0.12000000000000001,
          0.13,
          0.14,
          0.15000000000000002,
          0.16000000000000003,
          0.17000000000000004,
          0.18000000000000005,
          0.19,
          0.2,
          0.21000000000000002,
          0.22000000000000003,
          0.23000000000000004,
          0.24000000000000005,
          0.25000000000000006,
          0.26000000000000006,
          0.27,
          0.28,
          0.29000000000000004,
          0.30000000000000004,
          0.31000000000000005,
          0.32000000000000006,
          0.33,
          0.34,
          0.35000000000000003,
          0.36000000000000004,
          0.37000000000000005,
          0.38000000000000006,
          0.39000000000000007,
          0.4000000000000001,
          0.4100000000000001,
          0.42000000000000004,
          0.43000000000000005,
          0.44000000000000006,
          0.45000000000000007,
          0.4600000000000001,
          0.4700000000000001,
          0.4800000000000001,
          0.49000000000000005
         ],
         "y": [
          0,
          0,
          0,
          0,
          0,
          0,
          0,
          0,
          0,
          0,
          0,
          0,
          0,
          0.002900000000000902,
          0.0473736842105269,
          0.08740000000000059,
          0.12361428571428634,
          0.15653636363636425,
          0.18659565217391372,
          0.21415000000000062,
          0.2395000000000006,
          0.2629000000000006,
          0.2845666666666672,
          0.3046857142857148,
          0.3234172413793108,
          0.34090000000000054,
          0.3572548387096779,
          0.3725875000000005,
          0.3869909090909095,
          0.4005470588235298,
          0.4133285714285718,
          0.42540000000000044,
          0.43681891891891933,
          0.44763684210526355,
          0.4579000000000004,
          0.4676500000000004,
          0.4769243902439029,
          0.4857571428571432,
          0.49417906976744225,
          0.5022181818181821,
          0.5099000000000004,
          0.5172478260869569,
          0.5242829787234047,
          0.5310250000000003,
          0.5374918367346941
         ]
        },
        {
         "mode": "lines",
         "name": "2 Positions",
         "type": "scatter",
         "x": [
          0.05,
          0.060000000000000005,
          0.07,
          0.08000000000000002,
          0.09000000000000001,
          0.1,
          0.11000000000000001,
          0.12000000000000001,
          0.13,
          0.14,
          0.15000000000000002,
          0.16000000000000003,
          0.17000000000000004,
          0.18000000000000005,
          0.19,
          0.2,
          0.21000000000000002,
          0.22000000000000003,
          0.23000000000000004,
          0.24000000000000005,
          0.25000000000000006,
          0.26000000000000006,
          0.27,
          0.28,
          0.29000000000000004,
          0.30000000000000004,
          0.31000000000000005,
          0.32000000000000006,
          0.33,
          0.34,
          0.35000000000000003,
          0.36000000000000004,
          0.37000000000000005,
          0.38000000000000006,
          0.39000000000000007,
          0.4000000000000001,
          0.4100000000000001,
          0.42000000000000004,
          0.43000000000000005,
          0.44000000000000006,
          0.45000000000000007,
          0.4600000000000001,
          0.4700000000000001,
          0.4800000000000001,
          0.49000000000000005
         ],
         "y": [
          0,
          0,
          0,
          0,
          0,
          0,
          0,
          0,
          0,
          0,
          0,
          0,
          0.006188235294118827,
          0.053377777777778856,
          0.0956000000000009,
          0.13360000000000083,
          0.16798095238095323,
          0.19923636363636454,
          0.22777391304347905,
          0.2539333333333341,
          0.2780000000000008,
          0.30021538461538544,
          0.32078518518518584,
          0.339885714285715,
          0.35766896551724203,
          0.37426666666666736,
          0.38979354838709745,
          0.40435000000000065,
          0.418024242424243,
          0.43089411764705937,
          0.443028571428572,
          0.45448888888888944,
          0.4653297297297303,
          0.4756000000000006,
          0.4853435897435903,
          0.49460000000000054,
          0.503404878048781,
          0.5117904761904767,
          0.5197860465116284,
          0.5274181818181823,
          0.5347111111111116,
          0.5416869565217396,
          0.5483659574468089,
          0.5547666666666671,
          0.56090612244898
         ]
        },
        {
         "mode": "lines",
         "name": "2 Positions",
         "type": "scatter",
         "x": [
          0.05,
          0.060000000000000005,
          0.07,
          0.08000000000000002,
          0.09000000000000001,
          0.1,
          0.11000000000000001,
          0.12000000000000001,
          0.13,
          0.14,
          0.15000000000000002,
          0.16000000000000003,
          0.17000000000000004,
          0.18000000000000005,
          0.19,
          0.2,
          0.21000000000000002,
          0.22000000000000003,
          0.23000000000000004,
          0.24000000000000005,
          0.25000000000000006,
          0.26000000000000006,
          0.27,
          0.28,
          0.29000000000000004,
          0.30000000000000004,
          0.31000000000000005,
          0.32000000000000006,
          0.33,
          0.34,
          0.35000000000000003,
          0.36000000000000004,
          0.37000000000000005,
          0.38000000000000006,
          0.39000000000000007,
          0.4000000000000001,
          0.4100000000000001,
          0.42000000000000004,
          0.43000000000000005,
          0.44000000000000006,
          0.45000000000000007,
          0.4600000000000001,
          0.4700000000000001,
          0.4800000000000001,
          0.49000000000000005
         ],
         "y": [
          0,
          0,
          0,
          0,
          0,
          0,
          0,
          0,
          0,
          0,
          0,
          0.007475000000000787,
          0.05780588235294193,
          0.10254444444444522,
          0.14257368421052685,
          0.17860000000000054,
          0.21119523809523866,
          0.24082727272727333,
          0.2678826086956527,
          0.29268333333333385,
          0.31550000000000056,
          0.336561538461539,
          0.35606296296296347,
          0.37417142857142904,
          0.39103103448275905,
          0.4067666666666671,
          0.421487096774194,
          0.43528750000000044,
          0.4482515151515155,
          0.46045294117647095,
          0.47195714285714324,
          0.4828222222222226,
          0.49310000000000037,
          0.5028368421052636,
          0.5120743589743594,
          0.5208500000000004,
          0.5291975609756101,
          0.5371476190476194,
          0.5447279069767446,
          0.5519636363636367,
          0.558877777777778,
          0.5654913043478265,
          0.5718234042553194,
          0.5778916666666669,
          0.5837122448979595
         ]
        },
        {
         "mode": "lines",
         "name": "2 Positions",
         "type": "scatter",
         "x": [
          0.05,
          0.060000000000000005,
          0.07,
          0.08000000000000002,
          0.09000000000000001,
          0.1,
          0.11000000000000001,
          0.12000000000000001,
          0.13,
          0.14,
          0.15000000000000002,
          0.16000000000000003,
          0.17000000000000004,
          0.18000000000000005,
          0.19,
          0.2,
          0.21000000000000002,
          0.22000000000000003,
          0.23000000000000004,
          0.24000000000000005,
          0.25000000000000006,
          0.26000000000000006,
          0.27,
          0.28,
          0.29000000000000004,
          0.30000000000000004,
          0.31000000000000005,
          0.32000000000000006,
          0.33,
          0.34,
          0.35000000000000003,
          0.36000000000000004,
          0.37000000000000005,
          0.38000000000000006,
          0.39000000000000007,
          0.4000000000000001,
          0.4100000000000001,
          0.42000000000000004,
          0.43000000000000005,
          0.44000000000000006,
          0.45000000000000007,
          0.4600000000000001,
          0.4700000000000001,
          0.4800000000000001,
          0.49000000000000005
         ],
         "y": [
          0,
          0,
          0,
          0,
          0,
          0,
          0,
          0,
          0,
          0,
          0.006400000000000627,
          0.060400000000000564,
          0.10804705882353005,
          0.15040000000000064,
          0.18829473684210563,
          0.22240000000000038,
          0.2532571428571433,
          0.2813090909090913,
          0.3069217391304352,
          0.33040000000000047,
          0.3520000000000004,
          0.37193846153846194,
          0.3904000000000003,
          0.4075428571428575,
          0.4235034482758624,
          0.43840000000000034,
          0.45233548387096806,
          0.4654000000000003,
          0.4776727272727275,
          0.489223529411765,
          0.500114285714286,
          0.5104000000000003,
          0.52012972972973,
          0.5293473684210529,
          0.538092307692308,
          0.5464000000000002,
          0.5543024390243905,
          0.5618285714285717,
          0.5690046511627909,
          0.5758545454545456,
          0.5824000000000003,
          0.5886608695652176,
          0.5946553191489364,
          0.6004000000000003,
          0.6059102040816329
         ]
        },
        {
         "mode": "lines",
         "name": "2 Positions",
         "type": "scatter",
         "x": [
          0.05,
          0.060000000000000005,
          0.07,
          0.08000000000000002,
          0.09000000000000001,
          0.1,
          0.11000000000000001,
          0.12000000000000001,
          0.13,
          0.14,
          0.15000000000000002,
          0.16000000000000003,
          0.17000000000000004,
          0.18000000000000005,
          0.19,
          0.2,
          0.21000000000000002,
          0.22000000000000003,
          0.23000000000000004,
          0.24000000000000005,
          0.25000000000000006,
          0.26000000000000006,
          0.27,
          0.28,
          0.29000000000000004,
          0.30000000000000004,
          0.31000000000000005,
          0.32000000000000006,
          0.33,
          0.34,
          0.35000000000000003,
          0.36000000000000004,
          0.37000000000000005,
          0.38000000000000006,
          0.39000000000000007,
          0.4000000000000001,
          0.4100000000000001,
          0.42000000000000004,
          0.43000000000000005,
          0.44000000000000006,
          0.45000000000000007,
          0.4600000000000001,
          0.4700000000000001,
          0.4800000000000001,
          0.49000000000000005
         ],
         "y": [
          0,
          0,
          0,
          0,
          0,
          0,
          0,
          0,
          0,
          0.002500000000000502,
          0.06083333333333385,
          0.11187500000000061,
          0.15691176470588297,
          0.19694444444444503,
          0.23276315789473723,
          0.26500000000000035,
          0.294166666666667,
          0.3206818181818186,
          0.34489130434782644,
          0.36708333333333376,
          0.3875000000000004,
          0.40634615384615425,
          0.4237962962962966,
          0.4400000000000003,
          0.45508620689655205,
          0.46916666666666695,
          0.48233870967741965,
          0.49468750000000034,
          0.5062878787878791,
          0.5172058823529414,
          0.5275000000000003,
          0.5372222222222225,
          0.5464189189189192,
          0.5551315789473688,
          0.5633974358974362,
          0.5712500000000003,
          0.5787195121951222,
          0.5858333333333335,
          0.5926162790697677,
          0.5990909090909093,
          0.605277777777778,
          0.6111956521739133,
          0.6168617021276598,
          0.6222916666666669,
          0.6275000000000002
         ]
        },
        {
         "mode": "lines",
         "name": "2 Positions",
         "type": "scatter",
         "x": [
          0.05,
          0.060000000000000005,
          0.07,
          0.08000000000000002,
          0.09000000000000001,
          0.1,
          0.11000000000000001,
          0.12000000000000001,
          0.13,
          0.14,
          0.15000000000000002,
          0.16000000000000003,
          0.17000000000000004,
          0.18000000000000005,
          0.19,
          0.2,
          0.21000000000000002,
          0.22000000000000003,
          0.23000000000000004,
          0.24000000000000005,
          0.25000000000000006,
          0.26000000000000006,
          0.27,
          0.28,
          0.29000000000000004,
          0.30000000000000004,
          0.31000000000000005,
          0.32000000000000006,
          0.33,
          0.34,
          0.35000000000000003,
          0.36000000000000004,
          0.37000000000000005,
          0.38000000000000006,
          0.39000000000000007,
          0.4000000000000001,
          0.4100000000000001,
          0.42000000000000004,
          0.43000000000000005,
          0.44000000000000006,
          0.45000000000000007,
          0.4600000000000001,
          0.4700000000000001,
          0.4800000000000001,
          0.49000000000000005
         ],
         "y": [
          0,
          0,
          0,
          0,
          0,
          0,
          0,
          0,
          0,
          0.05868571428571501,
          0.11373333333333402,
          0.1619000000000007,
          0.2044000000000007,
          0.2421777777777785,
          0.27597894736842155,
          0.30640000000000045,
          0.33392380952380996,
          0.358945454545455,
          0.3817913043478266,
          0.40273333333333383,
          0.4220000000000005,
          0.4397846153846159,
          0.45625185185185224,
          0.47154285714285754,
          0.48577931034482796,
          0.49906666666666705,
          0.5114967741935488,
          0.5231500000000004,
          0.53409696969697,
          0.5444000000000003,
          0.554114285714286,
          0.5632888888888892,
          0.571967567567568,
          0.5801894736842108,
          0.5879897435897439,
          0.5954000000000004,
          0.6024487804878051,
          0.609161904761905,
          0.6155627906976747,
          0.6216727272727276,
          0.6275111111111114,
          0.6330956521739133,
          0.6384425531914897,
          0.643566666666667,
          0.6484816326530615
         ]
        },
        {
         "mode": "lines",
         "name": "2 Positions",
         "type": "scatter",
         "x": [
          0.05,
          0.060000000000000005,
          0.07,
          0.08000000000000002,
          0.09000000000000001,
          0.1,
          0.11000000000000001,
          0.12000000000000001,
          0.13,
          0.14,
          0.15000000000000002,
          0.16000000000000003,
          0.17000000000000004,
          0.18000000000000005,
          0.19,
          0.2,
          0.21000000000000002,
          0.22000000000000003,
          0.23000000000000004,
          0.24000000000000005,
          0.25000000000000006,
          0.26000000000000006,
          0.27,
          0.28,
          0.29000000000000004,
          0.30000000000000004,
          0.31000000000000005,
          0.32000000000000006,
          0.33,
          0.34,
          0.35000000000000003,
          0.36000000000000004,
          0.37000000000000005,
          0.38000000000000006,
          0.39000000000000007,
          0.4000000000000001,
          0.4100000000000001,
          0.42000000000000004,
          0.43000000000000005,
          0.44000000000000006,
          0.45000000000000007,
          0.4600000000000001,
          0.4700000000000001,
          0.4800000000000001,
          0.49000000000000005
         ],
         "y": [
          0,
          0,
          0,
          0,
          0,
          0,
          0,
          0,
          0.05340769230769338,
          0.1132428571428582,
          0.16510000000000102,
          0.21047500000000097,
          0.2505117647058833,
          0.2861000000000009,
          0.3179421052631586,
          0.3466000000000007,
          0.3725285714285721,
          0.3961000000000007,
          0.4176217391304355,
          0.4373500000000007,
          0.4555000000000007,
          0.4722538461538468,
          0.48776666666666724,
          0.5021714285714292,
          0.5155827586206903,
          0.5281000000000006,
          0.5398096774193554,
          0.5507875000000005,
          0.5611000000000005,
          0.5708058823529416,
          0.5799571428571433,
          0.5886000000000005,
          0.5967756756756761,
          0.6045210526315794,
          0.6118692307692313,
          0.6188500000000005,
          0.6254902439024395,
          0.6318142857142861,
          0.637844186046512,
          0.6436000000000004,
          0.6491000000000005,
          0.6543608695652178,
          0.6593978723404259,
          0.6642250000000004,
          0.6688551020408167
         ]
        },
        {
         "mode": "lines",
         "name": "2 Positions",
         "type": "scatter",
         "x": [
          0.05,
          0.060000000000000005,
          0.07,
          0.08000000000000002,
          0.09000000000000001,
          0.1,
          0.11000000000000001,
          0.12000000000000001,
          0.13,
          0.14,
          0.15000000000000002,
          0.16000000000000003,
          0.17000000000000004,
          0.18000000000000005,
          0.19,
          0.2,
          0.21000000000000002,
          0.22000000000000003,
          0.23000000000000004,
          0.24000000000000005,
          0.25000000000000006,
          0.26000000000000006,
          0.27,
          0.28,
          0.29000000000000004,
          0.30000000000000004,
          0.31000000000000005,
          0.32000000000000006,
          0.33,
          0.34,
          0.35000000000000003,
          0.36000000000000004,
          0.37000000000000005,
          0.38000000000000006,
          0.39000000000000007,
          0.4000000000000001,
          0.4100000000000001,
          0.42000000000000004,
          0.43000000000000005,
          0.44000000000000006,
          0.45000000000000007,
          0.4600000000000001,
          0.4700000000000001,
          0.4800000000000001,
          0.49000000000000005
         ],
         "y": [
          0,
          0,
          0,
          0,
          0,
          0,
          0,
          0.04426666666666734,
          0.10990769230769293,
          0.1661714285714292,
          0.21493333333333398,
          0.2576000000000006,
          0.29524705882353,
          0.32871111111111173,
          0.3586526315789478,
          0.3856000000000004,
          0.4099809523809528,
          0.43214545454545494,
          0.4523826086956526,
          0.47093333333333376,
          0.48800000000000043,
          0.5037538461538466,
          0.518340740740741,
          0.5318857142857146,
          0.5444965517241382,
          0.556266666666667,
          0.5672774193548391,
          0.5776000000000003,
          0.58729696969697,
          0.596423529411765,
          0.6050285714285717,
          0.6131555555555559,
          0.6208432432432436,
          0.628126315789474,
          0.6350358974358977,
          0.6416000000000003,
          0.6478439024390247,
          0.6537904761904765,
          0.6594604651162793,
          0.6648727272727275,
          0.6700444444444447,
          0.6749913043478264,
          0.6797276595744683,
          0.6842666666666669,
          0.6886204081632655
         ]
        },
        {
         "mode": "lines",
         "name": "2 Positions",
         "type": "scatter",
         "x": [
          0.05,
          0.060000000000000005,
          0.07,
          0.08000000000000002,
          0.09000000000000001,
          0.1,
          0.11000000000000001,
          0.12000000000000001,
          0.13,
          0.14,
          0.15000000000000002,
          0.16000000000000003,
          0.17000000000000004,
          0.18000000000000005,
          0.19,
          0.2,
          0.21000000000000002,
          0.22000000000000003,
          0.23000000000000004,
          0.24000000000000005,
          0.25000000000000006,
          0.26000000000000006,
          0.27,
          0.28,
          0.29000000000000004,
          0.30000000000000004,
          0.31000000000000005,
          0.32000000000000006,
          0.33,
          0.34,
          0.35000000000000003,
          0.36000000000000004,
          0.37000000000000005,
          0.38000000000000006,
          0.39000000000000007,
          0.4000000000000001,
          0.4100000000000001,
          0.42000000000000004,
          0.43000000000000005,
          0.44000000000000006,
          0.45000000000000007,
          0.4600000000000001,
          0.4700000000000001,
          0.4800000000000001,
          0.49000000000000005
         ],
         "y": [
          0,
          0,
          0,
          0,
          0,
          0,
          0.030263636363637936,
          0.10306666666666808,
          0.16466923076923212,
          0.21747142857142987,
          0.26323333333333454,
          0.3032750000000012,
          0.3386058823529423,
          0.3700111111111122,
          0.39811052631579036,
          0.4234000000000009,
          0.4462809523809533,
          0.46708181818181904,
          0.48607391304347913,
          0.5034833333333342,
          0.5195000000000008,
          0.5342846153846161,
          0.5479740740740748,
          0.560685714285715,
          0.5725206896551731,
          0.5835666666666673,
          0.5939000000000008,
          0.6035875000000006,
          0.6126878787878793,
          0.6212529411764711,
          0.629328571428572,
          0.6369555555555562,
          0.6441702702702709,
          0.6510052631578953,
          0.6574897435897442,
          0.6636500000000005,
          0.6695097560975616,
          0.6750904761904767,
          0.6804116279069773,
          0.6854909090909096,
          0.690344444444445,
          0.6949869565217397,
          0.6994319148936176,
          0.7036916666666672,
          0.7077775510204086
         ]
        },
        {
         "mode": "lines",
         "name": "2 Positions",
         "type": "scatter",
         "x": [
          0.05,
          0.060000000000000005,
          0.07,
          0.08000000000000002,
          0.09000000000000001,
          0.1,
          0.11000000000000001,
          0.12000000000000001,
          0.13,
          0.14,
          0.15000000000000002,
          0.16000000000000003,
          0.17000000000000004,
          0.18000000000000005,
          0.19,
          0.2,
          0.21000000000000002,
          0.22000000000000003,
          0.23000000000000004,
          0.24000000000000005,
          0.25000000000000006,
          0.26000000000000006,
          0.27,
          0.28,
          0.29000000000000004,
          0.30000000000000004,
          0.31000000000000005,
          0.32000000000000006,
          0.33,
          0.34,
          0.35000000000000003,
          0.36000000000000004,
          0.37000000000000005,
          0.38000000000000006,
          0.39000000000000007,
          0.4000000000000001,
          0.4100000000000001,
          0.42000000000000004,
          0.43000000000000005,
          0.44000000000000006,
          0.45000000000000007,
          0.4600000000000001,
          0.4700000000000001,
          0.4800000000000001,
          0.49000000000000005
         ],
         "y": [
          0,
          0,
          0,
          0,
          0,
          0.010000000000001563,
          0.09181818181818335,
          0.16000000000000136,
          0.21769230769230896,
          0.26714285714285835,
          0.31000000000000116,
          0.34750000000000114,
          0.3805882352941188,
          0.4100000000000011,
          0.4363157894736851,
          0.46000000000000085,
          0.48142857142857226,
          0.5009090909090917,
          0.5186956521739139,
          0.5350000000000008,
          0.5500000000000007,
          0.5638461538461546,
          0.5766666666666673,
          0.5885714285714292,
          0.5996551724137937,
          0.6100000000000007,
          0.6196774193548393,
          0.6287500000000006,
          0.6372727272727279,
          0.6452941176470595,
          0.6528571428571435,
          0.6600000000000006,
          0.6667567567567574,
          0.6731578947368426,
          0.6792307692307697,
          0.6850000000000005,
          0.6904878048780493,
          0.6957142857142862,
          0.7006976744186051,
          0.705454545454546,
          0.7100000000000005,
          0.714347826086957,
          0.7185106382978728,
          0.7225000000000005,
          0.7263265306122453
         ]
        },
        {
         "mode": "lines",
         "name": "2 Positions",
         "type": "scatter",
         "x": [
          0.05,
          0.060000000000000005,
          0.07,
          0.08000000000000002,
          0.09000000000000001,
          0.1,
          0.11000000000000001,
          0.12000000000000001,
          0.13,
          0.14,
          0.15000000000000002,
          0.16000000000000003,
          0.17000000000000004,
          0.18000000000000005,
          0.19,
          0.2,
          0.21000000000000002,
          0.22000000000000003,
          0.23000000000000004,
          0.24000000000000005,
          0.25000000000000006,
          0.26000000000000006,
          0.27,
          0.28,
          0.29000000000000004,
          0.30000000000000004,
          0.31000000000000005,
          0.32000000000000006,
          0.33,
          0.34,
          0.35000000000000003,
          0.36000000000000004,
          0.37000000000000005,
          0.38000000000000006,
          0.39000000000000007,
          0.4000000000000001,
          0.4100000000000001,
          0.42000000000000004,
          0.43000000000000005,
          0.44000000000000006,
          0.45000000000000007,
          0.4600000000000001,
          0.4700000000000001,
          0.4800000000000001,
          0.49000000000000005
         ],
         "y": [
          0,
          0,
          0,
          0,
          0,
          0.07490000000000174,
          0.15135454545454718,
          0.21506666666666818,
          0.26897692307692445,
          0.3151857142857156,
          0.3552333333333346,
          0.39027500000000126,
          0.42119411764706005,
          0.44867777777777895,
          0.47326842105263256,
          0.49540000000000095,
          0.5154238095238104,
          0.5336272727272737,
          0.5502478260869574,
          0.5654833333333342,
          0.5795000000000008,
          0.5924384615384624,
          0.6044185185185194,
          0.6155428571428578,
          0.6259000000000008,
          0.6355666666666674,
          0.6446096774193555,
          0.6530875000000007,
          0.6610515151515157,
          0.66854705882353,
          0.6756142857142864,
          0.6822888888888895,
          0.6886027027027033,
          0.6945842105263164,
          0.700258974358975,
          0.7056500000000006,
          0.7107780487804884,
          0.7156619047619053,
          0.7203186046511634,
          0.7247636363636369,
          0.7290111111111116,
          0.7330739130434788,
          0.7369638297872345,
          0.7406916666666672,
          0.7442673469387759
         ]
        },
        {
         "mode": "lines",
         "name": "2 Positions",
         "type": "scatter",
         "x": [
          0.05,
          0.060000000000000005,
          0.07,
          0.08000000000000002,
          0.09000000000000001,
          0.1,
          0.11000000000000001,
          0.12000000000000001,
          0.13,
          0.14,
          0.15000000000000002,
          0.16000000000000003,
          0.17000000000000004,
          0.18000000000000005,
          0.19,
          0.2,
          0.21000000000000002,
          0.22000000000000003,
          0.23000000000000004,
          0.24000000000000005,
          0.25000000000000006,
          0.26000000000000006,
          0.27,
          0.28,
          0.29000000000000004,
          0.30000000000000004,
          0.31000000000000005,
          0.32000000000000006,
          0.33,
          0.34,
          0.35000000000000003,
          0.36000000000000004,
          0.37000000000000005,
          0.38000000000000006,
          0.39000000000000007,
          0.4000000000000001,
          0.4100000000000001,
          0.42000000000000004,
          0.43000000000000005,
          0.44000000000000006,
          0.45000000000000007,
          0.4600000000000001,
          0.4700000000000001,
          0.4800000000000001,
          0.49000000000000005
         ],
         "y": [
          0,
          0,
          0,
          0,
          0.05048888888889003,
          0.13760000000000094,
          0.2088727272727282,
          0.26826666666666754,
          0.3185230769230777,
          0.3616000000000007,
          0.39893333333333403,
          0.4316000000000007,
          0.4604235294117654,
          0.4860444444444451,
          0.5089684210526322,
          0.5296000000000005,
          0.5482666666666671,
          0.5652363636363642,
          0.5807304347826092,
          0.5949333333333338,
          0.6080000000000005,
          0.6200615384615389,
          0.63122962962963,
          0.6416000000000004,
          0.6512551724137935,
          0.660266666666667,
          0.6686967741935488,
          0.6766000000000004,
          0.6840242424242428,
          0.6910117647058827,
          0.6976000000000003,
          0.7038222222222226,
          0.7097081081081085,
          0.7152842105263162,
          0.7205743589743593,
          0.7256000000000004,
          0.7303804878048784,
          0.7349333333333337,
          0.7392744186046515,
          0.7434181818181821,
          0.7473777777777781,
          0.7511652173913046,
          0.7547914893617025,
          0.758266666666667,
          0.7616000000000003
         ]
        },
        {
         "mode": "lines",
         "name": "2 Positions",
         "type": "scatter",
         "x": [
          0.05,
          0.060000000000000005,
          0.07,
          0.08000000000000002,
          0.09000000000000001,
          0.1,
          0.11000000000000001,
          0.12000000000000001,
          0.13,
          0.14,
          0.15000000000000002,
          0.16000000000000003,
          0.17000000000000004,
          0.18000000000000005,
          0.19,
          0.2,
          0.21000000000000002,
          0.22000000000000003,
          0.23000000000000004,
          0.24000000000000005,
          0.25000000000000006,
          0.26000000000000006,
          0.27,
          0.28,
          0.29000000000000004,
          0.30000000000000004,
          0.31000000000000005,
          0.32000000000000006,
          0.33,
          0.34,
          0.35000000000000003,
          0.36000000000000004,
          0.37000000000000005,
          0.38000000000000006,
          0.39000000000000007,
          0.4000000000000001,
          0.4100000000000001,
          0.42000000000000004,
          0.43000000000000005,
          0.44000000000000006,
          0.45000000000000007,
          0.4600000000000001,
          0.4700000000000001,
          0.4800000000000001,
          0.49000000000000005
         ],
         "y": [
          0,
          0,
          0,
          0.01585000000000214,
          0.11710000000000187,
          0.1981000000000016,
          0.26437272727272887,
          0.31960000000000144,
          0.36633076923077057,
          0.40638571428571557,
          0.4411000000000012,
          0.47147500000000114,
          0.4982764705882364,
          0.5221000000000011,
          0.5434157894736851,
          0.5626000000000009,
          0.5799571428571437,
          0.5957363636363645,
          0.6101434782608703,
          0.6233500000000007,
          0.6355000000000008,
          0.6467153846153855,
          0.6571000000000007,
          0.6667428571428579,
          0.6757206896551731,
          0.6841000000000007,
          0.69193870967742,
          0.6992875000000006,
          0.7061909090909098,
          0.7126882352941182,
          0.7188142857142863,
          0.7246000000000006,
          0.7300729729729736,
          0.7352578947368427,
          0.7401769230769236,
          0.7448500000000006,
          0.7492951219512201,
          0.753528571428572,
          0.7575651162790703,
          0.7614181818181823,
          0.7651000000000006,
          0.7686217391304353,
          0.7719936170212771,
          0.7752250000000005,
          0.7783244897959188
         ]
        },
        {
         "mode": "lines",
         "name": "2 Positions",
         "type": "scatter",
         "x": [
          0.05,
          0.060000000000000005,
          0.07,
          0.08000000000000002,
          0.09000000000000001,
          0.1,
          0.11000000000000001,
          0.12000000000000001,
          0.13,
          0.14,
          0.15000000000000002,
          0.16000000000000003,
          0.17000000000000004,
          0.18000000000000005,
          0.19,
          0.2,
          0.21000000000000002,
          0.22000000000000003,
          0.23000000000000004,
          0.24000000000000005,
          0.25000000000000006,
          0.26000000000000006,
          0.27,
          0.28,
          0.29000000000000004,
          0.30000000000000004,
          0.31000000000000005,
          0.32000000000000006,
          0.33,
          0.34,
          0.35000000000000003,
          0.36000000000000004,
          0.37000000000000005,
          0.38000000000000006,
          0.39000000000000007,
          0.4000000000000001,
          0.4100000000000001,
          0.42000000000000004,
          0.43000000000000005,
          0.44000000000000006,
          0.45000000000000007,
          0.4600000000000001,
          0.4700000000000001,
          0.4800000000000001,
          0.49000000000000005
         ],
         "y": [
          0,
          0,
          0,
          0.0874000000000017,
          0.1812888888888904,
          0.2564000000000013,
          0.3178545454545467,
          0.36906666666666776,
          0.412400000000001,
          0.44954285714285813,
          0.4817333333333343,
          0.5099000000000009,
          0.5347529411764715,
          0.5568444444444454,
          0.5766105263157902,
          0.5944000000000007,
          0.6104952380952389,
          0.6251272727272734,
          0.6384869565217398,
          0.650733333333334,
          0.6620000000000006,
          0.6724000000000006,
          0.6820296296296302,
          0.6909714285714291,
          0.6992965517241385,
          0.7070666666666672,
          0.7143354838709682,
          0.7211500000000005,
          0.7275515151515156,
          0.7335764705882357,
          0.7392571428571433,
          0.7446222222222227,
          0.7496972972972977,
          0.7545052631578952,
          0.7590666666666671,
          0.7634000000000004,
          0.7675219512195126,
          0.7714476190476195,
          0.775190697674419,
          0.7787636363636368,
          0.7821777777777782,
          0.7854434782608699,
          0.7885702127659578,
          0.7915666666666671,
          0.794440816326531
         ]
        },
        {
         "mode": "lines",
         "name": "2 Positions",
         "type": "scatter",
         "x": [
          0.05,
          0.060000000000000005,
          0.07,
          0.08000000000000002,
          0.09000000000000001,
          0.1,
          0.11000000000000001,
          0.12000000000000001,
          0.13,
          0.14,
          0.15000000000000002,
          0.16000000000000003,
          0.17000000000000004,
          0.18000000000000005,
          0.19,
          0.2,
          0.21000000000000002,
          0.22000000000000003,
          0.23000000000000004,
          0.24000000000000005,
          0.25000000000000006,
          0.26000000000000006,
          0.27,
          0.28,
          0.29000000000000004,
          0.30000000000000004,
          0.31000000000000005,
          0.32000000000000006,
          0.33,
          0.34,
          0.35000000000000003,
          0.36000000000000004,
          0.37000000000000005,
          0.38000000000000006,
          0.39000000000000007,
          0.4000000000000001,
          0.4100000000000001,
          0.42000000000000004,
          0.43000000000000005,
          0.44000000000000006,
          0.45000000000000007,
          0.4600000000000001,
          0.4700000000000001,
          0.4800000000000001,
          0.49000000000000005
         ],
         "y": [
          0,
          0,
          0.04464285714285887,
          0.15625000000000167,
          0.24305555555555702,
          0.3125000000000012,
          0.369318181818183,
          0.41666666666666774,
          0.4567307692307702,
          0.4910714285714295,
          0.5208333333333343,
          0.5468750000000009,
          0.5698529411764715,
          0.5902777777777786,
          0.608552631578948,
          0.6250000000000007,
          0.639880952380953,
          0.6534090909090915,
          0.665760869565218,
          0.6770833333333339,
          0.6875000000000007,
          0.6971153846153852,
          0.706018518518519,
          0.7142857142857149,
          0.7219827586206902,
          0.7291666666666672,
          0.7358870967741941,
          0.7421875000000004,
          0.748106060606061,
          0.7536764705882357,
          0.7589285714285718,
          0.7638888888888893,
          0.7685810810810815,
          0.7730263157894741,
          0.7772435897435902,
          0.7812500000000004,
          0.7850609756097565,
          0.7886904761904766,
          0.7921511627906981,
          0.7954545454545459,
          0.7986111111111115,
          0.8016304347826091,
          0.804521276595745,
          0.8072916666666671,
          0.8099489795918371
         ]
        },
        {
         "mode": "lines",
         "name": "2 Positions",
         "type": "scatter",
         "x": [
          0.05,
          0.060000000000000005,
          0.07,
          0.08000000000000002,
          0.09000000000000001,
          0.1,
          0.11000000000000001,
          0.12000000000000001,
          0.13,
          0.14,
          0.15000000000000002,
          0.16000000000000003,
          0.17000000000000004,
          0.18000000000000005,
          0.19,
          0.2,
          0.21000000000000002,
          0.22000000000000003,
          0.23000000000000004,
          0.24000000000000005,
          0.25000000000000006,
          0.26000000000000006,
          0.27,
          0.28,
          0.29000000000000004,
          0.30000000000000004,
          0.31000000000000005,
          0.32000000000000006,
          0.33,
          0.34,
          0.35000000000000003,
          0.36000000000000004,
          0.37000000000000005,
          0.38000000000000006,
          0.39000000000000007,
          0.4000000000000001,
          0.4100000000000001,
          0.42000000000000004,
          0.43000000000000005,
          0.44000000000000006,
          0.45000000000000007,
          0.4600000000000001,
          0.4700000000000001,
          0.4800000000000001,
          0.49000000000000005
         ],
         "y": [
          0,
          0,
          0.11954285714285917,
          0.22240000000000182,
          0.30240000000000156,
          0.3664000000000014,
          0.41876363636363767,
          0.4624000000000012,
          0.49932307692307804,
          0.5309714285714296,
          0.558400000000001,
          0.5824000000000009,
          0.6035764705882363,
          0.622400000000001,
          0.6392421052631587,
          0.6544000000000008,
          0.6681142857142865,
          0.6805818181818188,
          0.6919652173913051,
          0.7024000000000007,
          0.7120000000000006,
          0.7208615384615391,
          0.7290666666666673,
          0.7366857142857148,
          0.7437793103448281,
          0.7504000000000006,
          0.7565935483870974,
          0.7624000000000005,
          0.767854545454546,
          0.7729882352941182,
          0.777828571428572,
          0.7824000000000004,
          0.7867243243243248,
          0.7908210526315794,
          0.7947076923076928,
          0.7984000000000004,
          0.8019121951219517,
          0.8052571428571433,
          0.8084465116279074,
          0.8114909090909095,
          0.8144000000000005,
          0.8171826086956526,
          0.8198468085106387,
          0.8224000000000005,
          0.8248489795918371
         ]
        }
       ],
       "layout": {
        "annotations": [
         {
          "showarrow": false,
          "text": "10% Allocation Threshold",
          "x": 1,
          "xanchor": "right",
          "xref": "x domain",
          "y": 0.1,
          "yanchor": "bottom",
          "yref": "y"
         }
        ],
        "autosize": true,
        "font": {
         "color": "RebeccaPurple",
         "size": 12
        },
        "legend": {
         "title": {
          "text": "Number of Positions"
         }
        },
        "shapes": [
         {
          "line": {
           "color": "red",
           "dash": "dash"
          },
          "type": "line",
          "x0": 0,
          "x1": 1,
          "xref": "x domain",
          "y0": 0.1,
          "y1": 0.1,
          "yref": "y"
         }
        ],
        "template": {
         "data": {
          "bar": [
           {
            "error_x": {
             "color": "#2a3f5f"
            },
            "error_y": {
             "color": "#2a3f5f"
            },
            "marker": {
             "line": {
              "color": "#E5ECF6",
              "width": 0.5
             },
             "pattern": {
              "fillmode": "overlay",
              "size": 10,
              "solidity": 0.2
             }
            },
            "type": "bar"
           }
          ],
          "barpolar": [
           {
            "marker": {
             "line": {
              "color": "#E5ECF6",
              "width": 0.5
             },
             "pattern": {
              "fillmode": "overlay",
              "size": 10,
              "solidity": 0.2
             }
            },
            "type": "barpolar"
           }
          ],
          "carpet": [
           {
            "aaxis": {
             "endlinecolor": "#2a3f5f",
             "gridcolor": "white",
             "linecolor": "white",
             "minorgridcolor": "white",
             "startlinecolor": "#2a3f5f"
            },
            "baxis": {
             "endlinecolor": "#2a3f5f",
             "gridcolor": "white",
             "linecolor": "white",
             "minorgridcolor": "white",
             "startlinecolor": "#2a3f5f"
            },
            "type": "carpet"
           }
          ],
          "choropleth": [
           {
            "colorbar": {
             "outlinewidth": 0,
             "ticks": ""
            },
            "type": "choropleth"
           }
          ],
          "contour": [
           {
            "colorbar": {
             "outlinewidth": 0,
             "ticks": ""
            },
            "colorscale": [
             [
              0,
              "#0d0887"
             ],
             [
              0.1111111111111111,
              "#46039f"
             ],
             [
              0.2222222222222222,
              "#7201a8"
             ],
             [
              0.3333333333333333,
              "#9c179e"
             ],
             [
              0.4444444444444444,
              "#bd3786"
             ],
             [
              0.5555555555555556,
              "#d8576b"
             ],
             [
              0.6666666666666666,
              "#ed7953"
             ],
             [
              0.7777777777777778,
              "#fb9f3a"
             ],
             [
              0.8888888888888888,
              "#fdca26"
             ],
             [
              1,
              "#f0f921"
             ]
            ],
            "type": "contour"
           }
          ],
          "contourcarpet": [
           {
            "colorbar": {
             "outlinewidth": 0,
             "ticks": ""
            },
            "type": "contourcarpet"
           }
          ],
          "heatmap": [
           {
            "colorbar": {
             "outlinewidth": 0,
             "ticks": ""
            },
            "colorscale": [
             [
              0,
              "#0d0887"
             ],
             [
              0.1111111111111111,
              "#46039f"
             ],
             [
              0.2222222222222222,
              "#7201a8"
             ],
             [
              0.3333333333333333,
              "#9c179e"
             ],
             [
              0.4444444444444444,
              "#bd3786"
             ],
             [
              0.5555555555555556,
              "#d8576b"
             ],
             [
              0.6666666666666666,
              "#ed7953"
             ],
             [
              0.7777777777777778,
              "#fb9f3a"
             ],
             [
              0.8888888888888888,
              "#fdca26"
             ],
             [
              1,
              "#f0f921"
             ]
            ],
            "type": "heatmap"
           }
          ],
          "heatmapgl": [
           {
            "colorbar": {
             "outlinewidth": 0,
             "ticks": ""
            },
            "colorscale": [
             [
              0,
              "#0d0887"
             ],
             [
              0.1111111111111111,
              "#46039f"
             ],
             [
              0.2222222222222222,
              "#7201a8"
             ],
             [
              0.3333333333333333,
              "#9c179e"
             ],
             [
              0.4444444444444444,
              "#bd3786"
             ],
             [
              0.5555555555555556,
              "#d8576b"
             ],
             [
              0.6666666666666666,
              "#ed7953"
             ],
             [
              0.7777777777777778,
              "#fb9f3a"
             ],
             [
              0.8888888888888888,
              "#fdca26"
             ],
             [
              1,
              "#f0f921"
             ]
            ],
            "type": "heatmapgl"
           }
          ],
          "histogram": [
           {
            "marker": {
             "pattern": {
              "fillmode": "overlay",
              "size": 10,
              "solidity": 0.2
             }
            },
            "type": "histogram"
           }
          ],
          "histogram2d": [
           {
            "colorbar": {
             "outlinewidth": 0,
             "ticks": ""
            },
            "colorscale": [
             [
              0,
              "#0d0887"
             ],
             [
              0.1111111111111111,
              "#46039f"
             ],
             [
              0.2222222222222222,
              "#7201a8"
             ],
             [
              0.3333333333333333,
              "#9c179e"
             ],
             [
              0.4444444444444444,
              "#bd3786"
             ],
             [
              0.5555555555555556,
              "#d8576b"
             ],
             [
              0.6666666666666666,
              "#ed7953"
             ],
             [
              0.7777777777777778,
              "#fb9f3a"
             ],
             [
              0.8888888888888888,
              "#fdca26"
             ],
             [
              1,
              "#f0f921"
             ]
            ],
            "type": "histogram2d"
           }
          ],
          "histogram2dcontour": [
           {
            "colorbar": {
             "outlinewidth": 0,
             "ticks": ""
            },
            "colorscale": [
             [
              0,
              "#0d0887"
             ],
             [
              0.1111111111111111,
              "#46039f"
             ],
             [
              0.2222222222222222,
              "#7201a8"
             ],
             [
              0.3333333333333333,
              "#9c179e"
             ],
             [
              0.4444444444444444,
              "#bd3786"
             ],
             [
              0.5555555555555556,
              "#d8576b"
             ],
             [
              0.6666666666666666,
              "#ed7953"
             ],
             [
              0.7777777777777778,
              "#fb9f3a"
             ],
             [
              0.8888888888888888,
              "#fdca26"
             ],
             [
              1,
              "#f0f921"
             ]
            ],
            "type": "histogram2dcontour"
           }
          ],
          "mesh3d": [
           {
            "colorbar": {
             "outlinewidth": 0,
             "ticks": ""
            },
            "type": "mesh3d"
           }
          ],
          "parcoords": [
           {
            "line": {
             "colorbar": {
              "outlinewidth": 0,
              "ticks": ""
             }
            },
            "type": "parcoords"
           }
          ],
          "pie": [
           {
            "automargin": true,
            "type": "pie"
           }
          ],
          "scatter": [
           {
            "marker": {
             "colorbar": {
              "outlinewidth": 0,
              "ticks": ""
             }
            },
            "type": "scatter"
           }
          ],
          "scatter3d": [
           {
            "line": {
             "colorbar": {
              "outlinewidth": 0,
              "ticks": ""
             }
            },
            "marker": {
             "colorbar": {
              "outlinewidth": 0,
              "ticks": ""
             }
            },
            "type": "scatter3d"
           }
          ],
          "scattercarpet": [
           {
            "marker": {
             "colorbar": {
              "outlinewidth": 0,
              "ticks": ""
             }
            },
            "type": "scattercarpet"
           }
          ],
          "scattergeo": [
           {
            "marker": {
             "colorbar": {
              "outlinewidth": 0,
              "ticks": ""
             }
            },
            "type": "scattergeo"
           }
          ],
          "scattergl": [
           {
            "marker": {
             "colorbar": {
              "outlinewidth": 0,
              "ticks": ""
             }
            },
            "type": "scattergl"
           }
          ],
          "scattermapbox": [
           {
            "marker": {
             "colorbar": {
              "outlinewidth": 0,
              "ticks": ""
             }
            },
            "type": "scattermapbox"
           }
          ],
          "scatterpolar": [
           {
            "marker": {
             "colorbar": {
              "outlinewidth": 0,
              "ticks": ""
             }
            },
            "type": "scatterpolar"
           }
          ],
          "scatterpolargl": [
           {
            "marker": {
             "colorbar": {
              "outlinewidth": 0,
              "ticks": ""
             }
            },
            "type": "scatterpolargl"
           }
          ],
          "scatterternary": [
           {
            "marker": {
             "colorbar": {
              "outlinewidth": 0,
              "ticks": ""
             }
            },
            "type": "scatterternary"
           }
          ],
          "surface": [
           {
            "colorbar": {
             "outlinewidth": 0,
             "ticks": ""
            },
            "colorscale": [
             [
              0,
              "#0d0887"
             ],
             [
              0.1111111111111111,
              "#46039f"
             ],
             [
              0.2222222222222222,
              "#7201a8"
             ],
             [
              0.3333333333333333,
              "#9c179e"
             ],
             [
              0.4444444444444444,
              "#bd3786"
             ],
             [
              0.5555555555555556,
              "#d8576b"
             ],
             [
              0.6666666666666666,
              "#ed7953"
             ],
             [
              0.7777777777777778,
              "#fb9f3a"
             ],
             [
              0.8888888888888888,
              "#fdca26"
             ],
             [
              1,
              "#f0f921"
             ]
            ],
            "type": "surface"
           }
          ],
          "table": [
           {
            "cells": {
             "fill": {
              "color": "#EBF0F8"
             },
             "line": {
              "color": "white"
             }
            },
            "header": {
             "fill": {
              "color": "#C8D4E3"
             },
             "line": {
              "color": "white"
             }
            },
            "type": "table"
           }
          ]
         },
         "layout": {
          "annotationdefaults": {
           "arrowcolor": "#2a3f5f",
           "arrowhead": 0,
           "arrowwidth": 1
          },
          "autotypenumbers": "strict",
          "coloraxis": {
           "colorbar": {
            "outlinewidth": 0,
            "ticks": ""
           }
          },
          "colorscale": {
           "diverging": [
            [
             0,
             "#8e0152"
            ],
            [
             0.1,
             "#c51b7d"
            ],
            [
             0.2,
             "#de77ae"
            ],
            [
             0.3,
             "#f1b6da"
            ],
            [
             0.4,
             "#fde0ef"
            ],
            [
             0.5,
             "#f7f7f7"
            ],
            [
             0.6,
             "#e6f5d0"
            ],
            [
             0.7,
             "#b8e186"
            ],
            [
             0.8,
             "#7fbc41"
            ],
            [
             0.9,
             "#4d9221"
            ],
            [
             1,
             "#276419"
            ]
           ],
           "sequential": [
            [
             0,
             "#0d0887"
            ],
            [
             0.1111111111111111,
             "#46039f"
            ],
            [
             0.2222222222222222,
             "#7201a8"
            ],
            [
             0.3333333333333333,
             "#9c179e"
            ],
            [
             0.4444444444444444,
             "#bd3786"
            ],
            [
             0.5555555555555556,
             "#d8576b"
            ],
            [
             0.6666666666666666,
             "#ed7953"
            ],
            [
             0.7777777777777778,
             "#fb9f3a"
            ],
            [
             0.8888888888888888,
             "#fdca26"
            ],
            [
             1,
             "#f0f921"
            ]
           ],
           "sequentialminus": [
            [
             0,
             "#0d0887"
            ],
            [
             0.1111111111111111,
             "#46039f"
            ],
            [
             0.2222222222222222,
             "#7201a8"
            ],
            [
             0.3333333333333333,
             "#9c179e"
            ],
            [
             0.4444444444444444,
             "#bd3786"
            ],
            [
             0.5555555555555556,
             "#d8576b"
            ],
            [
             0.6666666666666666,
             "#ed7953"
            ],
            [
             0.7777777777777778,
             "#fb9f3a"
            ],
            [
             0.8888888888888888,
             "#fdca26"
            ],
            [
             1,
             "#f0f921"
            ]
           ]
          },
          "colorway": [
           "#636efa",
           "#EF553B",
           "#00cc96",
           "#ab63fa",
           "#FFA15A",
           "#19d3f3",
           "#FF6692",
           "#B6E880",
           "#FF97FF",
           "#FECB52"
          ],
          "font": {
           "color": "#2a3f5f"
          },
          "geo": {
           "bgcolor": "white",
           "lakecolor": "white",
           "landcolor": "#E5ECF6",
           "showlakes": true,
           "showland": true,
           "subunitcolor": "white"
          },
          "hoverlabel": {
           "align": "left"
          },
          "hovermode": "closest",
          "mapbox": {
           "style": "light"
          },
          "paper_bgcolor": "white",
          "plot_bgcolor": "#E5ECF6",
          "polar": {
           "angularaxis": {
            "gridcolor": "white",
            "linecolor": "white",
            "ticks": ""
           },
           "bgcolor": "#E5ECF6",
           "radialaxis": {
            "gridcolor": "white",
            "linecolor": "white",
            "ticks": ""
           }
          },
          "scene": {
           "xaxis": {
            "backgroundcolor": "#E5ECF6",
            "gridcolor": "white",
            "gridwidth": 2,
            "linecolor": "white",
            "showbackground": true,
            "ticks": "",
            "zerolinecolor": "white"
           },
           "yaxis": {
            "backgroundcolor": "#E5ECF6",
            "gridcolor": "white",
            "gridwidth": 2,
            "linecolor": "white",
            "showbackground": true,
            "ticks": "",
            "zerolinecolor": "white"
           },
           "zaxis": {
            "backgroundcolor": "#E5ECF6",
            "gridcolor": "white",
            "gridwidth": 2,
            "linecolor": "white",
            "showbackground": true,
            "ticks": "",
            "zerolinecolor": "white"
           }
          },
          "shapedefaults": {
           "line": {
            "color": "#2a3f5f"
           }
          },
          "ternary": {
           "aaxis": {
            "gridcolor": "white",
            "linecolor": "white",
            "ticks": ""
           },
           "baxis": {
            "gridcolor": "white",
            "linecolor": "white",
            "ticks": ""
           },
           "bgcolor": "#E5ECF6",
           "caxis": {
            "gridcolor": "white",
            "linecolor": "white",
            "ticks": ""
           }
          },
          "title": {
           "x": 0.05
          },
          "xaxis": {
           "automargin": true,
           "gridcolor": "white",
           "linecolor": "white",
           "ticks": "",
           "title": {
            "standoff": 15
           },
           "zerolinecolor": "white",
           "zerolinewidth": 2
          },
          "yaxis": {
           "automargin": true,
           "gridcolor": "white",
           "linecolor": "white",
           "ticks": "",
           "title": {
            "standoff": 15
           },
           "zerolinecolor": "white",
           "zerolinewidth": 2
          }
         }
        },
        "title": {
         "text": "Risk vs Reward"
        },
        "xaxis": {
         "autorange": true,
         "range": [
          0.05,
          0.49000000000000005
         ],
         "title": {
          "text": "Expected returns"
         },
         "type": "linear"
        },
        "yaxis": {
         "autorange": true,
         "range": [
          -0.04582494331065762,
          0.8706739229024947
         ],
         "title": {
          "text": "Fraction of Total Capital Invested"
         },
         "type": "linear"
        }
       }
      },
      "image/png": "[encoded data removed]",
      "text/html": [
       "<div>                            <div id=\"f40dedb0-fd76-4f33-90d9-7f67d7e00716\" class=\"plotly-graph-div\" style=\"height:525px; width:100%;\"></div>            <script type=\"text/javascript\">                require([\"plotly\"], function(Plotly) {                    window.PLOTLYENV=window.PLOTLYENV || {};                                    if (document.getElementById(\"f40dedb0-fd76-4f33-90d9-7f67d7e00716\")) {                    Plotly.newPlot(                        \"f40dedb0-fd76-4f33-90d9-7f67d7e00716\",                        [{\"mode\":\"lines\",\"name\":\"2 Positions\",\"type\":\"scatter\",\"x\":[0.05,0.060000000000000005,0.07,0.08000000000000002,0.09000000000000001,0.1,0.11000000000000001,0.12000000000000001,0.13,0.14,0.15000000000000002,0.16000000000000003,0.17000000000000004,0.18000000000000005,0.19,0.2,0.21000000000000002,0.22000000000000003,0.23000000000000004,0.24000000000000005,0.25000000000000006,0.26000000000000006,0.27,0.28,0.29000000000000004,0.30000000000000004,0.31000000000000005,0.32000000000000006,0.33,0.34,0.35000000000000003,0.36000000000000004,0.37000000000000005,0.38000000000000006,0.39000000000000007,0.4000000000000001,0.4100000000000001,0.42000000000000004,0.43000000000000005,0.44000000000000006,0.45000000000000007,0.4600000000000001,0.4700000000000001,0.4800000000000001,0.49000000000000005],\"y\":[0.0,0.0,0.0,0.0,0.0,0.0,0.0,0.0,0.0,0.0,0.0,0.0,0.0,0.0,0.0,0.0,0.0,0.0,0.0,0.0,0.0,0.0,0.0,0.0,0.0,0.0,0.0,0.0,0.0,0.0,0.0,0.0,0.0,0.0,0.0,0.0,0.0,0.0,0.0,0.0,0.0,0.004660869565217163,0.01916595744680827,0.03306666666666647,0.046399999999999775]},{\"mode\":\"lines\",\"name\":\"2 Positions\",\"type\":\"scatter\",\"x\":[0.05,0.060000000000000005,0.07,0.08000000000000002,0.09000000000000001,0.1,0.11000000000000001,0.12000000000000001,0.13,0.14,0.15000000000000002,0.16000000000000003,0.17000000000000004,0.18000000000000005,0.19,0.2,0.21000000000000002,0.22000000000000003,0.23000000000000004,0.24000000000000005,0.25000000000000006,0.26000000000000006,0.27,0.28,0.29000000000000004,0.30000000000000004,0.31000000000000005,0.32000000000000006,0.33,0.34,0.35000000000000003,0.36000000000000004,0.37000000000000005,0.38000000000000006,0.39000000000000007,0.4000000000000001,0.4100000000000001,0.42000000000000004,0.43000000000000005,0.44000000000000006,0.45000000000000007,0.4600000000000001,0.4700000000000001,0.4800000000000001,0.49000000000000005],\"y\":[0.0,0.0,0.0,0.0,0.0,0.0,0.0,0.0,0.0,0.0,0.0,0.0,0.0,0.0,0.0,0.0,0.0,0.0,0.0,0.0,0.0,0.0,0.0,0.0,0.0,0.0,0.0,0.0,0.0,0.0,0.0,0.0,0.0,0.0,0.0,0.0,0.0,0.0,0.0,0.01000000000000012,0.025277777777777954,0.03989130434782617,0.05388297872340442,0.06729166666666686,0.08015306122448984]},{\"mode\":\"lines\",\"name\":\"2 Positions\",\"type\":\"scatter\",\"x\":[0.05,0.060000000000000005,0.07,0.08000000000000002,0.09000000000000001,0.1,0.11000000000000001,0.12000000000000001,0.13,0.14,0.15000000000000002,0.16000000000000003,0.17000000000000004,0.18000000000000005,0.19,0.2,0.21000000000000002,0.22000000000000003,0.23000000000000004,0.24000000000000005,0.25000000000000006,0.26000000000000006,0.27,0.28,0.29000000000000004,0.30000000000000004,0.31000000000000005,0.32000000000000006,0.33,0.34,0.35000000000000003,0.36000000000000004,0.37000000000000005,0.38000000000000006,0.39000000000000007,0.4000000000000001,0.4100000000000001,0.42000000000000004,0.43000000000000005,0.44000000000000006,0.45000000000000007,0.4600000000000001,0.4700000000000001,0.4800000000000001,0.49000000000000005],\"y\":[0.0,0.0,0.0,0.0,0.0,0.0,0.0,0.0,0.0,0.0,0.0,0.0,0.0,0.0,0.0,0.0,0.0,0.0,0.0,0.0,0.0,0.0,0.0,0.0,0.0,0.0,0.0,0.0,0.0,0.0,0.0,0.0,0.0,0.0,0.0,0.0,0.0,0.014114285714285524,0.03026046511627889,0.04567272727272709,0.06039999999999979,0.07448695652173898,0.08797446808510623,0.10089999999999988,0.11329795918367325]},{\"mode\":\"lines\",\"name\":\"2 Positions\",\"type\":\"scatter\",\"x\":[0.05,0.060000000000000005,0.07,0.08000000000000002,0.09000000000000001,0.1,0.11000000000000001,0.12000000000000001,0.13,0.14,0.15000000000000002,0.16000000000000003,0.17000000000000004,0.18000000000000005,0.19,0.2,0.21000000000000002,0.22000000000000003,0.23000000000000004,0.24000000000000005,0.25000000000000006,0.26000000000000006,0.27,0.28,0.29000000000000004,0.30000000000000004,0.31000000000000005,0.32000000000000006,0.33,0.34,0.35000000000000003,0.36000000000000004,0.37000000000000005,0.38000000000000006,0.39000000000000007,0.4000000000000001,0.4100000000000001,0.42000000000000004,0.43000000000000005,0.44000000000000006,0.45000000000000007,0.4600000000000001,0.4700000000000001,0.4800000000000001,0.49000000000000005],\"y\":[0.0,0.0,0.0,0.0,0.0,0.0,0.0,0.0,0.0,0.0,0.0,0.0,0.0,0.0,0.0,0.0,0.0,0.0,0.0,0.0,0.0,0.0,0.0,0.0,0.0,0.0,0.0,0.0,0.0,0.0,0.0,0.0,0.0,0.0,0.0,0.01685000000000003,0.033978048780487824,0.05029047619047611,0.06584418604651154,0.08069090909090904,0.09487777777777773,0.10844782608695647,0.12144042553191492,0.13389166666666663,0.145834693877551]},{\"mode\":\"lines\",\"name\":\"2 Positions\",\"type\":\"scatter\",\"x\":[0.05,0.060000000000000005,0.07,0.08000000000000002,0.09000000000000001,0.1,0.11000000000000001,0.12000000000000001,0.13,0.14,0.15000000000000002,0.16000000000000003,0.17000000000000004,0.18000000000000005,0.19,0.2,0.21000000000000002,0.22000000000000003,0.23000000000000004,0.24000000000000005,0.25000000000000006,0.26000000000000006,0.27,0.28,0.29000000000000004,0.30000000000000004,0.31000000000000005,0.32000000000000006,0.33,0.34,0.35000000000000003,0.36000000000000004,0.37000000000000005,0.38000000000000006,0.39000000000000007,0.4000000000000001,0.4100000000000001,0.42000000000000004,0.43000000000000005,0.44000000000000006,0.45000000000000007,0.4600000000000001,0.4700000000000001,0.4800000000000001,0.49000000000000005],\"y\":[0.0,0.0,0.0,0.0,0.0,0.0,0.0,0.0,0.0,0.0,0.0,0.0,0.0,0.0,0.0,0.0,0.0,0.0,0.0,0.0,0.0,0.0,0.0,0.0,0.0,0.0,0.0,0.0,0.0,0.0,0.0,0.0,0.0,0.01802105263157916,0.03626666666666689,0.0536000000000002,0.070087804878049,0.0857904761904763,0.10076279069767458,0.11505454545454563,0.12871111111111133,0.14177391304347842,0.15428085106382994,0.1662666666666669,0.17776326530612263]},{\"mode\":\"lines\",\"name\":\"2 Positions\",\"type\":\"scatter\",\"x\":[0.05,0.060000000000000005,0.07,0.08000000000000002,0.09000000000000001,0.1,0.11000000000000001,0.12000000000000001,0.13,0.14,0.15000000000000002,0.16000000000000003,0.17000000000000004,0.18000000000000005,0.19,0.2,0.21000000000000002,0.22000000000000003,0.23000000000000004,0.24000000000000005,0.25000000000000006,0.26000000000000006,0.27,0.28,0.29000000000000004,0.30000000000000004,0.31000000000000005,0.32000000000000006,0.33,0.34,0.35000000000000003,0.36000000000000004,0.37000000000000005,0.38000000000000006,0.39000000000000007,0.4000000000000001,0.4100000000000001,0.42000000000000004,0.43000000000000005,0.44000000000000006,0.45000000000000007,0.4600000000000001,0.4700000000000001,0.4800000000000001,0.49000000000000005],\"y\":[0.0,0.0,0.0,0.0,0.0,0.0,0.0,0.0,0.0,0.0,0.0,0.0,0.0,0.0,0.0,0.0,0.0,0.0,0.0,0.0,0.0,0.0,0.0,0.0,0.0,0.0,0.0,0.0,0.0,0.0,0.0,0.017400000000000082,0.036927027027027104,0.05542631578947377,0.07297692307692316,0.08965000000000012,0.10550975609756108,0.12061428571428578,0.13501627906976754,0.14876363636363643,0.16190000000000004,0.1744652173913045,0.18649574468085117,0.19802500000000012,0.20908367346938783]},{\"mode\":\"lines\",\"name\":\"2 Positions\",\"type\":\"scatter\",\"x\":[0.05,0.060000000000000005,0.07,0.08000000000000002,0.09000000000000001,0.1,0.11000000000000001,0.12000000000000001,0.13,0.14,0.15000000000000002,0.16000000000000003,0.17000000000000004,0.18000000000000005,0.19,0.2,0.21000000000000002,0.22000000000000003,0.23000000000000004,0.24000000000000005,0.25000000000000006,0.26000000000000006,0.27,0.28,0.29000000000000004,0.30000000000000004,0.31000000000000005,0.32000000000000006,0.33,0.34,0.35000000000000003,0.36000000000000004,0.37000000000000005,0.38000000000000006,0.39000000000000007,0.4000000000000001,0.4100000000000001,0.42000000000000004,0.43000000000000005,0.44000000000000006,0.45000000000000007,0.4600000000000001,0.4700000000000001,0.4800000000000001,0.49000000000000005],\"y\":[0.0,0.0,0.0,0.0,0.0,0.0,0.0,0.0,0.0,0.0,0.0,0.0,0.0,0.0,0.0,0.0,0.0,0.0,0.0,0.0,0.0,0.0,0.0,0.0,0.0,0.0,0.0,0.0,0.0,0.014705882352941235,0.03571428571428581,0.05555555555555569,0.07432432432432445,0.0921052631578948,0.10897435897435914,0.1250000000000001,0.14024390243902451,0.15476190476190477,0.16860465116279078,0.18181818181818188,0.19444444444444453,0.20652173913043492,0.21808510638297884,0.22916666666666674,0.23979591836734704]},{\"mode\":\"lines\",\"name\":\"2 Positions\",\"type\":\"scatter\",\"x\":[0.05,0.060000000000000005,0.07,0.08000000000000002,0.09000000000000001,0.1,0.11000000000000001,0.12000000000000001,0.13,0.14,0.15000000000000002,0.16000000000000003,0.17000000000000004,0.18000000000000005,0.19,0.2,0.21000000000000002,0.22000000000000003,0.23000000000000004,0.24000000000000005,0.25000000000000006,0.26000000000000006,0.27,0.28,0.29000000000000004,0.30000000000000004,0.31000000000000005,0.32000000000000006,0.33,0.34,0.35000000000000003,0.36000000000000004,0.37000000000000005,0.38000000000000006,0.39000000000000007,0.4000000000000001,0.4100000000000001,0.42000000000000004,0.43000000000000005,0.44000000000000006,0.45000000000000007,0.4600000000000001,0.4700000000000001,0.4800000000000001,0.49000000000000005],\"y\":[0.0,0.0,0.0,0.0,0.0,0.0,0.0,0.0,0.0,0.0,0.0,0.0,0.0,0.0,0.0,0.0,0.0,0.0,0.0,0.0,0.0,0.0,0.0,0.0,0.0,0.0,0.0,0.009587500000000193,0.03232424242424259,0.05372352941176484,0.07390000000000019,0.09295555555555568,0.11098108108108129,0.12805789473684226,0.1442589743589745,0.15965000000000018,0.1742902439024392,0.18823333333333347,0.20152790697674428,0.21421818181818197,0.22634444444444457,0.2379434782608697,0.24904893617021295,0.2596916666666669,0.2699000000000001]},{\"mode\":\"lines\",\"name\":\"2 Positions\",\"type\":\"scatter\",\"x\":[0.05,0.060000000000000005,0.07,0.08000000000000002,0.09000000000000001,0.1,0.11000000000000001,0.12000000000000001,0.13,0.14,0.15000000000000002,0.16000000000000003,0.17000000000000004,0.18000000000000005,0.19,0.2,0.21000000000000002,0.22000000000000003,0.23000000000000004,0.24000000000000005,0.25000000000000006,0.26000000000000006,0.27,0.28,0.29000000000000004,0.30000000000000004,0.31000000000000005,0.32000000000000006,0.33,0.34,0.35000000000000003,0.36000000000000004,0.37000000000000005,0.38000000000000006,0.39000000000000007,0.4000000000000001,0.4100000000000001,0.42000000000000004,0.43000000000000005,0.44000000000000006,0.45000000000000007,0.4600000000000001,0.4700000000000001,0.4800000000000001,0.49000000000000005],\"y\":[0.0,0.0,0.0,0.0,0.0,0.0,0.0,0.0,0.0,0.0,0.0,0.0,0.0,0.0,0.0,0.0,0.0,0.0,0.0,0.0,0.0,0.0,0.0,0.0,0.0,0.001600000000000379,0.026374193548387437,0.04960000000000042,0.07141818181818205,0.0919529411764709,0.11131428571428603,0.12960000000000027,0.1468972972972976,0.16328421052631614,0.17883076923076957,0.19360000000000033,0.20764878048780522,0.22102857142857169,0.23378604651162815,0.2459636363636366,0.2576000000000003,0.26873043478260894,0.2793872340425535,0.2896000000000003,0.2993959183673472]},{\"mode\":\"lines\",\"name\":\"2 Positions\",\"type\":\"scatter\",\"x\":[0.05,0.060000000000000005,0.07,0.08000000000000002,0.09000000000000001,0.1,0.11000000000000001,0.12000000000000001,0.13,0.14,0.15000000000000002,0.16000000000000003,0.17000000000000004,0.18000000000000005,0.19,0.2,0.21000000000000002,0.22000000000000003,0.23000000000000004,0.24000000000000005,0.25000000000000006,0.26000000000000006,0.27,0.28,0.29000000000000004,0.30000000000000004,0.31000000000000005,0.32000000000000006,0.33,0.34,0.35000000000000003,0.36000000000000004,0.37000000000000005,0.38000000000000006,0.39000000000000007,0.4000000000000001,0.4100000000000001,0.42000000000000004,0.43000000000000005,0.44000000000000006,0.45000000000000007,0.4600000000000001,0.4700000000000001,0.4800000000000001,0.49000000000000005],\"y\":[0.0,0.0,0.0,0.0,0.0,0.0,0.0,0.0,0.0,0.0,0.0,0.0,0.0,0.0,0.0,0.0,0.0,0.0,0.0,0.0,0.0,0.0,0.0,0.0,0.017375862068965686,0.04276666666666684,0.06651935483870985,0.08878750000000024,0.1097060606060607,0.12939411764705888,0.147957142857143,0.16548888888888902,0.1820729729729731,0.1977842105263159,0.2126897435897438,0.2268500000000001,0.24031951219512215,0.2531476190476192,0.26537906976744197,0.27705454545454555,0.28821111111111125,0.2988826086956523,0.30910000000000015,0.3188916666666668,0.32828367346938786]},{\"mode\":\"lines\",\"name\":\"2 Positions\",\"type\":\"scatter\",\"x\":[0.05,0.060000000000000005,0.07,0.08000000000000002,0.09000000000000001,0.1,0.11000000000000001,0.12000000000000001,0.13,0.14,0.15000000000000002,0.16000000000000003,0.17000000000000004,0.18000000000000005,0.19,0.2,0.21000000000000002,0.22000000000000003,0.23000000000000004,0.24000000000000005,0.25000000000000006,0.26000000000000006,0.27,0.28,0.29000000000000004,0.30000000000000004,0.31000000000000005,0.32000000000000006,0.33,0.34,0.35000000000000003,0.36000000000000004,0.37000000000000005,0.38000000000000006,0.39000000000000007,0.4000000000000001,0.4100000000000001,0.42000000000000004,0.43000000000000005,0.44000000000000006,0.45000000000000007,0.4600000000000001,0.4700000000000001,0.4800000000000001,0.49000000000000005],\"y\":[0.0,0.0,0.0,0.0,0.0,0.0,0.0,0.0,0.0,0.0,0.0,0.0,0.0,0.0,0.0,0.0,0.0,0.0,0.0,0.0,0.0,0.0,0.0046962962962963095,0.03268571428571432,0.058744827586206916,0.08306666666666673,0.10581935483870974,0.1271500000000001,0.14718787878787876,0.16604705882352944,0.18382857142857145,0.20062222222222226,0.21650810810810817,0.23155789473684218,0.2458358974358975,0.2594000000000001,0.27230243902439033,0.28459047619047617,0.29630697674418605,0.30749090909090915,0.31817777777777784,0.3284,0.33818723404255324,0.34756666666666675,0.3565632653061225]},{\"mode\":\"lines\",\"name\":\"2 Positions\",\"type\":\"scatter\",\"x\":[0.05,0.060000000000000005,0.07,0.08000000000000002,0.09000000000000001,0.1,0.11000000000000001,0.12000000000000001,0.13,0.14,0.15000000000000002,0.16000000000000003,0.17000000000000004,0.18000000000000005,0.19,0.2,0.21000000000000002,0.22000000000000003,0.23000000000000004,0.24000000000000005,0.25000000000000006,0.26000000000000006,0.27,0.28,0.29000000000000004,0.30000000000000004,0.31000000000000005,0.32000000000000006,0.33,0.34,0.35000000000000003,0.36000000000000004,0.37000000000000005,0.38000000000000006,0.39000000000000007,0.4000000000000001,0.4100000000000001,0.42000000000000004,0.43000000000000005,0.44000000000000006,0.45000000000000007,0.4600000000000001,0.4700000000000001,0.4800000000000001,0.49000000000000005],\"y\":[0.0,0.0,0.0,0.0,0.0,0.0,0.0,0.0,0.0,0.0,0.0,0.0,0.0,0.0,0.0,0.0,0.0,0.0,0.0,0.0,0.0,0.018653846153846798,0.04750000000000054,0.07428571428571484,0.09922413793103502,0.1225000000000005,0.14427419354838766,0.16468750000000054,0.18386363636363678,0.2019117647058828,0.2189285714285718,0.23500000000000043,0.2502027027027032,0.2646052631578951,0.27826923076923116,0.29125000000000045,0.3035975609756102,0.3153571428571432,0.32656976744186084,0.33727272727272767,0.34750000000000036,0.35728260869565254,0.36664893617021316,0.3756250000000004,0.3842346938775514]},{\"mode\":\"lines\",\"name\":\"2 Positions\",\"type\":\"scatter\",\"x\":[0.05,0.060000000000000005,0.07,0.08000000000000002,0.09000000000000001,0.1,0.11000000000000001,0.12000000000000001,0.13,0.14,0.15000000000000002,0.16000000000000003,0.17000000000000004,0.18000000000000005,0.19,0.2,0.21000000000000002,0.22000000000000003,0.23000000000000004,0.24000000000000005,0.25000000000000006,0.26000000000000006,0.27,0.28,0.29000000000000004,0.30000000000000004,0.31000000000000005,0.32000000000000006,0.33,0.34,0.35000000000000003,0.36000000000000004,0.37000000000000005,0.38000000000000006,0.39000000000000007,0.4000000000000001,0.4100000000000001,0.42000000000000004,0.43000000000000005,0.44000000000000006,0.45000000000000007,0.4600000000000001,0.4700000000000001,0.4800000000000001,0.49000000000000005],\"y\":[0.0,0.0,0.0,0.0,0.0,0.0,0.0,0.0,0.0,0.0,0.0,0.0,0.0,0.0,0.0,0.0,0.0,0.0,0.0,0.0,0.03200000000000025,0.06178461538461555,0.08936296296296309,0.11497142857142861,0.13881379310344844,0.1610666666666668,0.18188387096774206,0.20140000000000013,0.21973333333333334,0.23698823529411772,0.25325714285714296,0.2686222222222223,0.2831567567567569,0.2969263157894738,0.3099897435897437,0.32240000000000013,0.33420487804878063,0.3454476190476191,0.3561674418604652,0.36640000000000006,0.37617777777777783,0.3855304347826088,0.3944851063829788,0.40306666666666674,0.4112979591836735]},{\"mode\":\"lines\",\"name\":\"2 Positions\",\"type\":\"scatter\",\"x\":[0.05,0.060000000000000005,0.07,0.08000000000000002,0.09000000000000001,0.1,0.11000000000000001,0.12000000000000001,0.13,0.14,0.15000000000000002,0.16000000000000003,0.17000000000000004,0.18000000000000005,0.19,0.2,0.21000000000000002,0.22000000000000003,0.23000000000000004,0.24000000000000005,0.25000000000000006,0.26000000000000006,0.27,0.28,0.29000000000000004,0.30000000000000004,0.31000000000000005,0.32000000000000006,0.33,0.34,0.35000000000000003,0.36000000000000004,0.37000000000000005,0.38000000000000006,0.39000000000000007,0.4000000000000001,0.4100000000000001,0.42000000000000004,0.43000000000000005,0.44000000000000006,0.45000000000000007,0.4600000000000001,0.4700000000000001,0.4800000000000001,0.49000000000000005],\"y\":[0.0,0.0,0.0,0.0,0.0,0.0,0.0,0.0,0.0,0.0,0.0,0.0,0.0,0.0,0.0,0.0,0.0,0.0,0.01118695652173951,0.04468333333333374,0.07550000000000034,0.10394615384615424,0.1302851851851855,0.1547428571428574,0.1775137931034486,0.19876666666666698,0.21864838709677448,0.23728750000000032,0.25479696969696997,0.27127647058823556,0.2868142857142859,0.30148888888888914,0.31537027027027054,0.3285210526315792,0.34099743589743614,0.3528500000000003,0.3641243902439027,0.37486190476190495,0.3851000000000002,0.3948727272727275,0.4042111111111113,0.4131434782608698,0.4216957446808513,0.4298916666666669,0.43775306122449]},{\"mode\":\"lines\",\"name\":\"2 Positions\",\"type\":\"scatter\",\"x\":[0.05,0.060000000000000005,0.07,0.08000000000000002,0.09000000000000001,0.1,0.11000000000000001,0.12000000000000001,0.13,0.14,0.15000000000000002,0.16000000000000003,0.17000000000000004,0.18000000000000005,0.19,0.2,0.21000000000000002,0.22000000000000003,0.23000000000000004,0.24000000000000005,0.25000000000000006,0.26000000000000006,0.27,0.28,0.29000000000000004,0.30000000000000004,0.31000000000000005,0.32000000000000006,0.33,0.34,0.35000000000000003,0.36000000000000004,0.37000000000000005,0.38000000000000006,0.39000000000000007,0.4000000000000001,0.4100000000000001,0.42000000000000004,0.43000000000000005,0.44000000000000006,0.45000000000000007,0.4600000000000001,0.4700000000000001,0.4800000000000001,0.49000000000000005],\"y\":[0.0,0.0,0.0,0.0,0.0,0.0,0.0,0.0,0.0,0.0,0.0,0.0,0.0,0.0,0.0,0.0,0.0,0.0217818181818189,0.05664347826087024,0.08860000000000068,0.11800000000000066,0.14513846153846222,0.17026666666666723,0.19360000000000055,0.215324137931035,0.2356000000000006,0.2545677419354845,0.27235000000000054,0.2890545454545459,0.30477647058823576,0.31960000000000044,0.33360000000000045,0.3468432432432437,0.359389473684211,0.37129230769230814,0.3826000000000005,0.39335609756097606,0.4036000000000004,0.41336744186046553,0.4226909090909095,0.4316000000000004,0.4401217391304352,0.4482808510638302,0.4561000000000004,0.46360000000000035]},{\"mode\":\"lines\",\"name\":\"2 Positions\",\"type\":\"scatter\",\"x\":[0.05,0.060000000000000005,0.07,0.08000000000000002,0.09000000000000001,0.1,0.11000000000000001,0.12000000000000001,0.13,0.14,0.15000000000000002,0.16000000000000003,0.17000000000000004,0.18000000000000005,0.19,0.2,0.21000000000000002,0.22000000000000003,0.23000000000000004,0.24000000000000005,0.25000000000000006,0.26000000000000006,0.27,0.28,0.29000000000000004,0.30000000000000004,0.31000000000000005,0.32000000000000006,0.33,0.34,0.35000000000000003,0.36000000000000004,0.37000000000000005,0.38000000000000006,0.39000000000000007,0.4000000000000001,0.4100000000000001,0.42000000000000004,0.43000000000000005,0.44000000000000006,0.45000000000000007,0.4600000000000001,0.4700000000000001,0.4800000000000001,0.49000000000000005],\"y\":[0.0,0.0,0.0,0.0,0.0,0.0,0.0,0.0,0.0,0.0,0.0,0.0,0.0,0.0,0.0,0.0,0.031423809523810076,0.06780909090909149,0.10103043478260931,0.13148333333333395,0.15950000000000053,0.18536153846153902,0.20930740740740783,0.2315428571428576,0.25224482758620737,0.27156666666666707,0.2896419354838714,0.30658750000000046,0.322506060606061,0.33748823529411803,0.3516142857142861,0.3649555555555559,0.37757567567567607,0.3895315789473688,0.40087435897435936,0.41165000000000035,0.4219000000000004,0.4316619047619051,0.4409697674418608,0.4498545454545458,0.4583444444444448,0.4664652173913047,0.4742404255319152,0.481691666666667,0.4888387755102044]},{\"mode\":\"lines\",\"name\":\"2 Positions\",\"type\":\"scatter\",\"x\":[0.05,0.060000000000000005,0.07,0.08000000000000002,0.09000000000000001,0.1,0.11000000000000001,0.12000000000000001,0.13,0.14,0.15000000000000002,0.16000000000000003,0.17000000000000004,0.18000000000000005,0.19,0.2,0.21000000000000002,0.22000000000000003,0.23000000000000004,0.24000000000000005,0.25000000000000006,0.26000000000000006,0.27,0.28,0.29000000000000004,0.30000000000000004,0.31000000000000005,0.32000000000000006,0.33,0.34,0.35000000000000003,0.36000000000000004,0.37000000000000005,0.38000000000000006,0.39000000000000007,0.4000000000000001,0.4100000000000001,0.42000000000000004,0.43000000000000005,0.44000000000000006,0.45000000000000007,0.4600000000000001,0.4700000000000001,0.4800000000000001,0.49000000000000005],\"y\":[0.0,0.0,0.0,0.0,0.0,0.0,0.0,0.0,0.0,0.0,0.0,0.0,0.0,0.0,0.0,0.04000000000000048,0.07809523809523866,0.11272727272727323,0.14434782608695707,0.1733333333333339,0.2000000000000005,0.2246153846153851,0.24740740740740785,0.268571428571429,0.28827586206896594,0.3066666666666671,0.3238709677419359,0.3400000000000004,0.3551515151515155,0.3694117647058827,0.38285714285714323,0.3955555555555559,0.4075675675675679,0.418947368421053,0.4297435897435901,0.44000000000000034,0.44975609756097595,0.45904761904761937,0.46790697674418635,0.47636363636363666,0.48444444444444473,0.4921739130434786,0.4995744680851067,0.506666666666667,0.5134693877551023]},{\"mode\":\"lines\",\"name\":\"2 Positions\",\"type\":\"scatter\",\"x\":[0.05,0.060000000000000005,0.07,0.08000000000000002,0.09000000000000001,0.1,0.11000000000000001,0.12000000000000001,0.13,0.14,0.15000000000000002,0.16000000000000003,0.17000000000000004,0.18000000000000005,0.19,0.2,0.21000000000000002,0.22000000000000003,0.23000000000000004,0.24000000000000005,0.25000000000000006,0.26000000000000006,0.27,0.28,0.29000000000000004,0.30000000000000004,0.31000000000000005,0.32000000000000006,0.33,0.34,0.35000000000000003,0.36000000000000004,0.37000000000000005,0.38000000000000006,0.39000000000000007,0.4000000000000001,0.4100000000000001,0.42000000000000004,0.43000000000000005,0.44000000000000006,0.45000000000000007,0.4600000000000001,0.4700000000000001,0.4800000000000001,0.49000000000000005],\"y\":[0.0,0.0,0.0,0.0,0.0,0.0,0.0,0.0,0.0,0.0,0.0,0.0,0.0,0.002900000000000902,0.0473736842105269,0.08740000000000059,0.12361428571428634,0.15653636363636425,0.18659565217391372,0.21415000000000062,0.2395000000000006,0.2629000000000006,0.2845666666666672,0.3046857142857148,0.3234172413793108,0.34090000000000054,0.3572548387096779,0.3725875000000005,0.3869909090909095,0.4005470588235298,0.4133285714285718,0.42540000000000044,0.43681891891891933,0.44763684210526355,0.4579000000000004,0.4676500000000004,0.4769243902439029,0.4857571428571432,0.49417906976744225,0.5022181818181821,0.5099000000000004,0.5172478260869569,0.5242829787234047,0.5310250000000003,0.5374918367346941]},{\"mode\":\"lines\",\"name\":\"2 Positions\",\"type\":\"scatter\",\"x\":[0.05,0.060000000000000005,0.07,0.08000000000000002,0.09000000000000001,0.1,0.11000000000000001,0.12000000000000001,0.13,0.14,0.15000000000000002,0.16000000000000003,0.17000000000000004,0.18000000000000005,0.19,0.2,0.21000000000000002,0.22000000000000003,0.23000000000000004,0.24000000000000005,0.25000000000000006,0.26000000000000006,0.27,0.28,0.29000000000000004,0.30000000000000004,0.31000000000000005,0.32000000000000006,0.33,0.34,0.35000000000000003,0.36000000000000004,0.37000000000000005,0.38000000000000006,0.39000000000000007,0.4000000000000001,0.4100000000000001,0.42000000000000004,0.43000000000000005,0.44000000000000006,0.45000000000000007,0.4600000000000001,0.4700000000000001,0.4800000000000001,0.49000000000000005],\"y\":[0.0,0.0,0.0,0.0,0.0,0.0,0.0,0.0,0.0,0.0,0.0,0.0,0.006188235294118827,0.053377777777778856,0.0956000000000009,0.13360000000000083,0.16798095238095323,0.19923636363636454,0.22777391304347905,0.2539333333333341,0.2780000000000008,0.30021538461538544,0.32078518518518584,0.339885714285715,0.35766896551724203,0.37426666666666736,0.38979354838709745,0.40435000000000065,0.418024242424243,0.43089411764705937,0.443028571428572,0.45448888888888944,0.4653297297297303,0.4756000000000006,0.4853435897435903,0.49460000000000054,0.503404878048781,0.5117904761904767,0.5197860465116284,0.5274181818181823,0.5347111111111116,0.5416869565217396,0.5483659574468089,0.5547666666666671,0.56090612244898]},{\"mode\":\"lines\",\"name\":\"2 Positions\",\"type\":\"scatter\",\"x\":[0.05,0.060000000000000005,0.07,0.08000000000000002,0.09000000000000001,0.1,0.11000000000000001,0.12000000000000001,0.13,0.14,0.15000000000000002,0.16000000000000003,0.17000000000000004,0.18000000000000005,0.19,0.2,0.21000000000000002,0.22000000000000003,0.23000000000000004,0.24000000000000005,0.25000000000000006,0.26000000000000006,0.27,0.28,0.29000000000000004,0.30000000000000004,0.31000000000000005,0.32000000000000006,0.33,0.34,0.35000000000000003,0.36000000000000004,0.37000000000000005,0.38000000000000006,0.39000000000000007,0.4000000000000001,0.4100000000000001,0.42000000000000004,0.43000000000000005,0.44000000000000006,0.45000000000000007,0.4600000000000001,0.4700000000000001,0.4800000000000001,0.49000000000000005],\"y\":[0.0,0.0,0.0,0.0,0.0,0.0,0.0,0.0,0.0,0.0,0.0,0.007475000000000787,0.05780588235294193,0.10254444444444522,0.14257368421052685,0.17860000000000054,0.21119523809523866,0.24082727272727333,0.2678826086956527,0.29268333333333385,0.31550000000000056,0.336561538461539,0.35606296296296347,0.37417142857142904,0.39103103448275905,0.4067666666666671,0.421487096774194,0.43528750000000044,0.4482515151515155,0.46045294117647095,0.47195714285714324,0.4828222222222226,0.49310000000000037,0.5028368421052636,0.5120743589743594,0.5208500000000004,0.5291975609756101,0.5371476190476194,0.5447279069767446,0.5519636363636367,0.558877777777778,0.5654913043478265,0.5718234042553194,0.5778916666666669,0.5837122448979595]},{\"mode\":\"lines\",\"name\":\"2 Positions\",\"type\":\"scatter\",\"x\":[0.05,0.060000000000000005,0.07,0.08000000000000002,0.09000000000000001,0.1,0.11000000000000001,0.12000000000000001,0.13,0.14,0.15000000000000002,0.16000000000000003,0.17000000000000004,0.18000000000000005,0.19,0.2,0.21000000000000002,0.22000000000000003,0.23000000000000004,0.24000000000000005,0.25000000000000006,0.26000000000000006,0.27,0.28,0.29000000000000004,0.30000000000000004,0.31000000000000005,0.32000000000000006,0.33,0.34,0.35000000000000003,0.36000000000000004,0.37000000000000005,0.38000000000000006,0.39000000000000007,0.4000000000000001,0.4100000000000001,0.42000000000000004,0.43000000000000005,0.44000000000000006,0.45000000000000007,0.4600000000000001,0.4700000000000001,0.4800000000000001,0.49000000000000005],\"y\":[0.0,0.0,0.0,0.0,0.0,0.0,0.0,0.0,0.0,0.0,0.006400000000000627,0.060400000000000564,0.10804705882353005,0.15040000000000064,0.18829473684210563,0.22240000000000038,0.2532571428571433,0.2813090909090913,0.3069217391304352,0.33040000000000047,0.3520000000000004,0.37193846153846194,0.3904000000000003,0.4075428571428575,0.4235034482758624,0.43840000000000034,0.45233548387096806,0.4654000000000003,0.4776727272727275,0.489223529411765,0.500114285714286,0.5104000000000003,0.52012972972973,0.5293473684210529,0.538092307692308,0.5464000000000002,0.5543024390243905,0.5618285714285717,0.5690046511627909,0.5758545454545456,0.5824000000000003,0.5886608695652176,0.5946553191489364,0.6004000000000003,0.6059102040816329]},{\"mode\":\"lines\",\"name\":\"2 Positions\",\"type\":\"scatter\",\"x\":[0.05,0.060000000000000005,0.07,0.08000000000000002,0.09000000000000001,0.1,0.11000000000000001,0.12000000000000001,0.13,0.14,0.15000000000000002,0.16000000000000003,0.17000000000000004,0.18000000000000005,0.19,0.2,0.21000000000000002,0.22000000000000003,0.23000000000000004,0.24000000000000005,0.25000000000000006,0.26000000000000006,0.27,0.28,0.29000000000000004,0.30000000000000004,0.31000000000000005,0.32000000000000006,0.33,0.34,0.35000000000000003,0.36000000000000004,0.37000000000000005,0.38000000000000006,0.39000000000000007,0.4000000000000001,0.4100000000000001,0.42000000000000004,0.43000000000000005,0.44000000000000006,0.45000000000000007,0.4600000000000001,0.4700000000000001,0.4800000000000001,0.49000000000000005],\"y\":[0.0,0.0,0.0,0.0,0.0,0.0,0.0,0.0,0.0,0.002500000000000502,0.06083333333333385,0.11187500000000061,0.15691176470588297,0.19694444444444503,0.23276315789473723,0.26500000000000035,0.294166666666667,0.3206818181818186,0.34489130434782644,0.36708333333333376,0.3875000000000004,0.40634615384615425,0.4237962962962966,0.4400000000000003,0.45508620689655205,0.46916666666666695,0.48233870967741965,0.49468750000000034,0.5062878787878791,0.5172058823529414,0.5275000000000003,0.5372222222222225,0.5464189189189192,0.5551315789473688,0.5633974358974362,0.5712500000000003,0.5787195121951222,0.5858333333333335,0.5926162790697677,0.5990909090909093,0.605277777777778,0.6111956521739133,0.6168617021276598,0.6222916666666669,0.6275000000000002]},{\"mode\":\"lines\",\"name\":\"2 Positions\",\"type\":\"scatter\",\"x\":[0.05,0.060000000000000005,0.07,0.08000000000000002,0.09000000000000001,0.1,0.11000000000000001,0.12000000000000001,0.13,0.14,0.15000000000000002,0.16000000000000003,0.17000000000000004,0.18000000000000005,0.19,0.2,0.21000000000000002,0.22000000000000003,0.23000000000000004,0.24000000000000005,0.25000000000000006,0.26000000000000006,0.27,0.28,0.29000000000000004,0.30000000000000004,0.31000000000000005,0.32000000000000006,0.33,0.34,0.35000000000000003,0.36000000000000004,0.37000000000000005,0.38000000000000006,0.39000000000000007,0.4000000000000001,0.4100000000000001,0.42000000000000004,0.43000000000000005,0.44000000000000006,0.45000000000000007,0.4600000000000001,0.4700000000000001,0.4800000000000001,0.49000000000000005],\"y\":[0.0,0.0,0.0,0.0,0.0,0.0,0.0,0.0,0.0,0.05868571428571501,0.11373333333333402,0.1619000000000007,0.2044000000000007,0.2421777777777785,0.27597894736842155,0.30640000000000045,0.33392380952380996,0.358945454545455,0.3817913043478266,0.40273333333333383,0.4220000000000005,0.4397846153846159,0.45625185185185224,0.47154285714285754,0.48577931034482796,0.49906666666666705,0.5114967741935488,0.5231500000000004,0.53409696969697,0.5444000000000003,0.554114285714286,0.5632888888888892,0.571967567567568,0.5801894736842108,0.5879897435897439,0.5954000000000004,0.6024487804878051,0.609161904761905,0.6155627906976747,0.6216727272727276,0.6275111111111114,0.6330956521739133,0.6384425531914897,0.643566666666667,0.6484816326530615]},{\"mode\":\"lines\",\"name\":\"2 Positions\",\"type\":\"scatter\",\"x\":[0.05,0.060000000000000005,0.07,0.08000000000000002,0.09000000000000001,0.1,0.11000000000000001,0.12000000000000001,0.13,0.14,0.15000000000000002,0.16000000000000003,0.17000000000000004,0.18000000000000005,0.19,0.2,0.21000000000000002,0.22000000000000003,0.23000000000000004,0.24000000000000005,0.25000000000000006,0.26000000000000006,0.27,0.28,0.29000000000000004,0.30000000000000004,0.31000000000000005,0.32000000000000006,0.33,0.34,0.35000000000000003,0.36000000000000004,0.37000000000000005,0.38000000000000006,0.39000000000000007,0.4000000000000001,0.4100000000000001,0.42000000000000004,0.43000000000000005,0.44000000000000006,0.45000000000000007,0.4600000000000001,0.4700000000000001,0.4800000000000001,0.49000000000000005],\"y\":[0.0,0.0,0.0,0.0,0.0,0.0,0.0,0.0,0.05340769230769338,0.1132428571428582,0.16510000000000102,0.21047500000000097,0.2505117647058833,0.2861000000000009,0.3179421052631586,0.3466000000000007,0.3725285714285721,0.3961000000000007,0.4176217391304355,0.4373500000000007,0.4555000000000007,0.4722538461538468,0.48776666666666724,0.5021714285714292,0.5155827586206903,0.5281000000000006,0.5398096774193554,0.5507875000000005,0.5611000000000005,0.5708058823529416,0.5799571428571433,0.5886000000000005,0.5967756756756761,0.6045210526315794,0.6118692307692313,0.6188500000000005,0.6254902439024395,0.6318142857142861,0.637844186046512,0.6436000000000004,0.6491000000000005,0.6543608695652178,0.6593978723404259,0.6642250000000004,0.6688551020408167]},{\"mode\":\"lines\",\"name\":\"2 Positions\",\"type\":\"scatter\",\"x\":[0.05,0.060000000000000005,0.07,0.08000000000000002,0.09000000000000001,0.1,0.11000000000000001,0.12000000000000001,0.13,0.14,0.15000000000000002,0.16000000000000003,0.17000000000000004,0.18000000000000005,0.19,0.2,0.21000000000000002,0.22000000000000003,0.23000000000000004,0.24000000000000005,0.25000000000000006,0.26000000000000006,0.27,0.28,0.29000000000000004,0.30000000000000004,0.31000000000000005,0.32000000000000006,0.33,0.34,0.35000000000000003,0.36000000000000004,0.37000000000000005,0.38000000000000006,0.39000000000000007,0.4000000000000001,0.4100000000000001,0.42000000000000004,0.43000000000000005,0.44000000000000006,0.45000000000000007,0.4600000000000001,0.4700000000000001,0.4800000000000001,0.49000000000000005],\"y\":[0.0,0.0,0.0,0.0,0.0,0.0,0.0,0.04426666666666734,0.10990769230769293,0.1661714285714292,0.21493333333333398,0.2576000000000006,0.29524705882353,0.32871111111111173,0.3586526315789478,0.3856000000000004,0.4099809523809528,0.43214545454545494,0.4523826086956526,0.47093333333333376,0.48800000000000043,0.5037538461538466,0.518340740740741,0.5318857142857146,0.5444965517241382,0.556266666666667,0.5672774193548391,0.5776000000000003,0.58729696969697,0.596423529411765,0.6050285714285717,0.6131555555555559,0.6208432432432436,0.628126315789474,0.6350358974358977,0.6416000000000003,0.6478439024390247,0.6537904761904765,0.6594604651162793,0.6648727272727275,0.6700444444444447,0.6749913043478264,0.6797276595744683,0.6842666666666669,0.6886204081632655]},{\"mode\":\"lines\",\"name\":\"2 Positions\",\"type\":\"scatter\",\"x\":[0.05,0.060000000000000005,0.07,0.08000000000000002,0.09000000000000001,0.1,0.11000000000000001,0.12000000000000001,0.13,0.14,0.15000000000000002,0.16000000000000003,0.17000000000000004,0.18000000000000005,0.19,0.2,0.21000000000000002,0.22000000000000003,0.23000000000000004,0.24000000000000005,0.25000000000000006,0.26000000000000006,0.27,0.28,0.29000000000000004,0.30000000000000004,0.31000000000000005,0.32000000000000006,0.33,0.34,0.35000000000000003,0.36000000000000004,0.37000000000000005,0.38000000000000006,0.39000000000000007,0.4000000000000001,0.4100000000000001,0.42000000000000004,0.43000000000000005,0.44000000000000006,0.45000000000000007,0.4600000000000001,0.4700000000000001,0.4800000000000001,0.49000000000000005],\"y\":[0.0,0.0,0.0,0.0,0.0,0.0,0.030263636363637936,0.10306666666666808,0.16466923076923212,0.21747142857142987,0.26323333333333454,0.3032750000000012,0.3386058823529423,0.3700111111111122,0.39811052631579036,0.4234000000000009,0.4462809523809533,0.46708181818181904,0.48607391304347913,0.5034833333333342,0.5195000000000008,0.5342846153846161,0.5479740740740748,0.560685714285715,0.5725206896551731,0.5835666666666673,0.5939000000000008,0.6035875000000006,0.6126878787878793,0.6212529411764711,0.629328571428572,0.6369555555555562,0.6441702702702709,0.6510052631578953,0.6574897435897442,0.6636500000000005,0.6695097560975616,0.6750904761904767,0.6804116279069773,0.6854909090909096,0.690344444444445,0.6949869565217397,0.6994319148936176,0.7036916666666672,0.7077775510204086]},{\"mode\":\"lines\",\"name\":\"2 Positions\",\"type\":\"scatter\",\"x\":[0.05,0.060000000000000005,0.07,0.08000000000000002,0.09000000000000001,0.1,0.11000000000000001,0.12000000000000001,0.13,0.14,0.15000000000000002,0.16000000000000003,0.17000000000000004,0.18000000000000005,0.19,0.2,0.21000000000000002,0.22000000000000003,0.23000000000000004,0.24000000000000005,0.25000000000000006,0.26000000000000006,0.27,0.28,0.29000000000000004,0.30000000000000004,0.31000000000000005,0.32000000000000006,0.33,0.34,0.35000000000000003,0.36000000000000004,0.37000000000000005,0.38000000000000006,0.39000000000000007,0.4000000000000001,0.4100000000000001,0.42000000000000004,0.43000000000000005,0.44000000000000006,0.45000000000000007,0.4600000000000001,0.4700000000000001,0.4800000000000001,0.49000000000000005],\"y\":[0.0,0.0,0.0,0.0,0.0,0.010000000000001563,0.09181818181818335,0.16000000000000136,0.21769230769230896,0.26714285714285835,0.31000000000000116,0.34750000000000114,0.3805882352941188,0.4100000000000011,0.4363157894736851,0.46000000000000085,0.48142857142857226,0.5009090909090917,0.5186956521739139,0.5350000000000008,0.5500000000000007,0.5638461538461546,0.5766666666666673,0.5885714285714292,0.5996551724137937,0.6100000000000007,0.6196774193548393,0.6287500000000006,0.6372727272727279,0.6452941176470595,0.6528571428571435,0.6600000000000006,0.6667567567567574,0.6731578947368426,0.6792307692307697,0.6850000000000005,0.6904878048780493,0.6957142857142862,0.7006976744186051,0.705454545454546,0.7100000000000005,0.714347826086957,0.7185106382978728,0.7225000000000005,0.7263265306122453]},{\"mode\":\"lines\",\"name\":\"2 Positions\",\"type\":\"scatter\",\"x\":[0.05,0.060000000000000005,0.07,0.08000000000000002,0.09000000000000001,0.1,0.11000000000000001,0.12000000000000001,0.13,0.14,0.15000000000000002,0.16000000000000003,0.17000000000000004,0.18000000000000005,0.19,0.2,0.21000000000000002,0.22000000000000003,0.23000000000000004,0.24000000000000005,0.25000000000000006,0.26000000000000006,0.27,0.28,0.29000000000000004,0.30000000000000004,0.31000000000000005,0.32000000000000006,0.33,0.34,0.35000000000000003,0.36000000000000004,0.37000000000000005,0.38000000000000006,0.39000000000000007,0.4000000000000001,0.4100000000000001,0.42000000000000004,0.43000000000000005,0.44000000000000006,0.45000000000000007,0.4600000000000001,0.4700000000000001,0.4800000000000001,0.49000000000000005],\"y\":[0.0,0.0,0.0,0.0,0.0,0.07490000000000174,0.15135454545454718,0.21506666666666818,0.26897692307692445,0.3151857142857156,0.3552333333333346,0.39027500000000126,0.42119411764706005,0.44867777777777895,0.47326842105263256,0.49540000000000095,0.5154238095238104,0.5336272727272737,0.5502478260869574,0.5654833333333342,0.5795000000000008,0.5924384615384624,0.6044185185185194,0.6155428571428578,0.6259000000000008,0.6355666666666674,0.6446096774193555,0.6530875000000007,0.6610515151515157,0.66854705882353,0.6756142857142864,0.6822888888888895,0.6886027027027033,0.6945842105263164,0.700258974358975,0.7056500000000006,0.7107780487804884,0.7156619047619053,0.7203186046511634,0.7247636363636369,0.7290111111111116,0.7330739130434788,0.7369638297872345,0.7406916666666672,0.7442673469387759]},{\"mode\":\"lines\",\"name\":\"2 Positions\",\"type\":\"scatter\",\"x\":[0.05,0.060000000000000005,0.07,0.08000000000000002,0.09000000000000001,0.1,0.11000000000000001,0.12000000000000001,0.13,0.14,0.15000000000000002,0.16000000000000003,0.17000000000000004,0.18000000000000005,0.19,0.2,0.21000000000000002,0.22000000000000003,0.23000000000000004,0.24000000000000005,0.25000000000000006,0.26000000000000006,0.27,0.28,0.29000000000000004,0.30000000000000004,0.31000000000000005,0.32000000000000006,0.33,0.34,0.35000000000000003,0.36000000000000004,0.37000000000000005,0.38000000000000006,0.39000000000000007,0.4000000000000001,0.4100000000000001,0.42000000000000004,0.43000000000000005,0.44000000000000006,0.45000000000000007,0.4600000000000001,0.4700000000000001,0.4800000000000001,0.49000000000000005],\"y\":[0.0,0.0,0.0,0.0,0.05048888888889003,0.13760000000000094,0.2088727272727282,0.26826666666666754,0.3185230769230777,0.3616000000000007,0.39893333333333403,0.4316000000000007,0.4604235294117654,0.4860444444444451,0.5089684210526322,0.5296000000000005,0.5482666666666671,0.5652363636363642,0.5807304347826092,0.5949333333333338,0.6080000000000005,0.6200615384615389,0.63122962962963,0.6416000000000004,0.6512551724137935,0.660266666666667,0.6686967741935488,0.6766000000000004,0.6840242424242428,0.6910117647058827,0.6976000000000003,0.7038222222222226,0.7097081081081085,0.7152842105263162,0.7205743589743593,0.7256000000000004,0.7303804878048784,0.7349333333333337,0.7392744186046515,0.7434181818181821,0.7473777777777781,0.7511652173913046,0.7547914893617025,0.758266666666667,0.7616000000000003]},{\"mode\":\"lines\",\"name\":\"2 Positions\",\"type\":\"scatter\",\"x\":[0.05,0.060000000000000005,0.07,0.08000000000000002,0.09000000000000001,0.1,0.11000000000000001,0.12000000000000001,0.13,0.14,0.15000000000000002,0.16000000000000003,0.17000000000000004,0.18000000000000005,0.19,0.2,0.21000000000000002,0.22000000000000003,0.23000000000000004,0.24000000000000005,0.25000000000000006,0.26000000000000006,0.27,0.28,0.29000000000000004,0.30000000000000004,0.31000000000000005,0.32000000000000006,0.33,0.34,0.35000000000000003,0.36000000000000004,0.37000000000000005,0.38000000000000006,0.39000000000000007,0.4000000000000001,0.4100000000000001,0.42000000000000004,0.43000000000000005,0.44000000000000006,0.45000000000000007,0.4600000000000001,0.4700000000000001,0.4800000000000001,0.49000000000000005],\"y\":[0.0,0.0,0.0,0.01585000000000214,0.11710000000000187,0.1981000000000016,0.26437272727272887,0.31960000000000144,0.36633076923077057,0.40638571428571557,0.4411000000000012,0.47147500000000114,0.4982764705882364,0.5221000000000011,0.5434157894736851,0.5626000000000009,0.5799571428571437,0.5957363636363645,0.6101434782608703,0.6233500000000007,0.6355000000000008,0.6467153846153855,0.6571000000000007,0.6667428571428579,0.6757206896551731,0.6841000000000007,0.69193870967742,0.6992875000000006,0.7061909090909098,0.7126882352941182,0.7188142857142863,0.7246000000000006,0.7300729729729736,0.7352578947368427,0.7401769230769236,0.7448500000000006,0.7492951219512201,0.753528571428572,0.7575651162790703,0.7614181818181823,0.7651000000000006,0.7686217391304353,0.7719936170212771,0.7752250000000005,0.7783244897959188]},{\"mode\":\"lines\",\"name\":\"2 Positions\",\"type\":\"scatter\",\"x\":[0.05,0.060000000000000005,0.07,0.08000000000000002,0.09000000000000001,0.1,0.11000000000000001,0.12000000000000001,0.13,0.14,0.15000000000000002,0.16000000000000003,0.17000000000000004,0.18000000000000005,0.19,0.2,0.21000000000000002,0.22000000000000003,0.23000000000000004,0.24000000000000005,0.25000000000000006,0.26000000000000006,0.27,0.28,0.29000000000000004,0.30000000000000004,0.31000000000000005,0.32000000000000006,0.33,0.34,0.35000000000000003,0.36000000000000004,0.37000000000000005,0.38000000000000006,0.39000000000000007,0.4000000000000001,0.4100000000000001,0.42000000000000004,0.43000000000000005,0.44000000000000006,0.45000000000000007,0.4600000000000001,0.4700000000000001,0.4800000000000001,0.49000000000000005],\"y\":[0.0,0.0,0.0,0.0874000000000017,0.1812888888888904,0.2564000000000013,0.3178545454545467,0.36906666666666776,0.412400000000001,0.44954285714285813,0.4817333333333343,0.5099000000000009,0.5347529411764715,0.5568444444444454,0.5766105263157902,0.5944000000000007,0.6104952380952389,0.6251272727272734,0.6384869565217398,0.650733333333334,0.6620000000000006,0.6724000000000006,0.6820296296296302,0.6909714285714291,0.6992965517241385,0.7070666666666672,0.7143354838709682,0.7211500000000005,0.7275515151515156,0.7335764705882357,0.7392571428571433,0.7446222222222227,0.7496972972972977,0.7545052631578952,0.7590666666666671,0.7634000000000004,0.7675219512195126,0.7714476190476195,0.775190697674419,0.7787636363636368,0.7821777777777782,0.7854434782608699,0.7885702127659578,0.7915666666666671,0.794440816326531]},{\"mode\":\"lines\",\"name\":\"2 Positions\",\"type\":\"scatter\",\"x\":[0.05,0.060000000000000005,0.07,0.08000000000000002,0.09000000000000001,0.1,0.11000000000000001,0.12000000000000001,0.13,0.14,0.15000000000000002,0.16000000000000003,0.17000000000000004,0.18000000000000005,0.19,0.2,0.21000000000000002,0.22000000000000003,0.23000000000000004,0.24000000000000005,0.25000000000000006,0.26000000000000006,0.27,0.28,0.29000000000000004,0.30000000000000004,0.31000000000000005,0.32000000000000006,0.33,0.34,0.35000000000000003,0.36000000000000004,0.37000000000000005,0.38000000000000006,0.39000000000000007,0.4000000000000001,0.4100000000000001,0.42000000000000004,0.43000000000000005,0.44000000000000006,0.45000000000000007,0.4600000000000001,0.4700000000000001,0.4800000000000001,0.49000000000000005],\"y\":[0.0,0.0,0.04464285714285887,0.15625000000000167,0.24305555555555702,0.3125000000000012,0.369318181818183,0.41666666666666774,0.4567307692307702,0.4910714285714295,0.5208333333333343,0.5468750000000009,0.5698529411764715,0.5902777777777786,0.608552631578948,0.6250000000000007,0.639880952380953,0.6534090909090915,0.665760869565218,0.6770833333333339,0.6875000000000007,0.6971153846153852,0.706018518518519,0.7142857142857149,0.7219827586206902,0.7291666666666672,0.7358870967741941,0.7421875000000004,0.748106060606061,0.7536764705882357,0.7589285714285718,0.7638888888888893,0.7685810810810815,0.7730263157894741,0.7772435897435902,0.7812500000000004,0.7850609756097565,0.7886904761904766,0.7921511627906981,0.7954545454545459,0.7986111111111115,0.8016304347826091,0.804521276595745,0.8072916666666671,0.8099489795918371]},{\"mode\":\"lines\",\"name\":\"2 Positions\",\"type\":\"scatter\",\"x\":[0.05,0.060000000000000005,0.07,0.08000000000000002,0.09000000000000001,0.1,0.11000000000000001,0.12000000000000001,0.13,0.14,0.15000000000000002,0.16000000000000003,0.17000000000000004,0.18000000000000005,0.19,0.2,0.21000000000000002,0.22000000000000003,0.23000000000000004,0.24000000000000005,0.25000000000000006,0.26000000000000006,0.27,0.28,0.29000000000000004,0.30000000000000004,0.31000000000000005,0.32000000000000006,0.33,0.34,0.35000000000000003,0.36000000000000004,0.37000000000000005,0.38000000000000006,0.39000000000000007,0.4000000000000001,0.4100000000000001,0.42000000000000004,0.43000000000000005,0.44000000000000006,0.45000000000000007,0.4600000000000001,0.4700000000000001,0.4800000000000001,0.49000000000000005],\"y\":[0.0,0.0,0.11954285714285917,0.22240000000000182,0.30240000000000156,0.3664000000000014,0.41876363636363767,0.4624000000000012,0.49932307692307804,0.5309714285714296,0.558400000000001,0.5824000000000009,0.6035764705882363,0.622400000000001,0.6392421052631587,0.6544000000000008,0.6681142857142865,0.6805818181818188,0.6919652173913051,0.7024000000000007,0.7120000000000006,0.7208615384615391,0.7290666666666673,0.7366857142857148,0.7437793103448281,0.7504000000000006,0.7565935483870974,0.7624000000000005,0.767854545454546,0.7729882352941182,0.777828571428572,0.7824000000000004,0.7867243243243248,0.7908210526315794,0.7947076923076928,0.7984000000000004,0.8019121951219517,0.8052571428571433,0.8084465116279074,0.8114909090909095,0.8144000000000005,0.8171826086956526,0.8198468085106387,0.8224000000000005,0.8248489795918371]}],                        {\"annotations\":[{\"showarrow\":false,\"text\":\"10% Allocation Threshold\",\"x\":1,\"xanchor\":\"right\",\"xref\":\"x domain\",\"y\":0.1,\"yanchor\":\"bottom\",\"yref\":\"y\"}],\"font\":{\"color\":\"RebeccaPurple\",\"size\":12},\"legend\":{\"title\":{\"text\":\"Number of Positions\"}},\"shapes\":[{\"line\":{\"color\":\"red\",\"dash\":\"dash\"},\"type\":\"line\",\"x0\":0,\"x1\":1,\"xref\":\"x domain\",\"y0\":0.1,\"y1\":0.1,\"yref\":\"y\"}],\"template\":{\"data\":{\"bar\":[{\"error_x\":{\"color\":\"#2a3f5f\"},\"error_y\":{\"color\":\"#2a3f5f\"},\"marker\":{\"line\":{\"color\":\"#E5ECF6\",\"width\":0.5},\"pattern\":{\"fillmode\":\"overlay\",\"size\":10,\"solidity\":0.2}},\"type\":\"bar\"}],\"barpolar\":[{\"marker\":{\"line\":{\"color\":\"#E5ECF6\",\"width\":0.5},\"pattern\":{\"fillmode\":\"overlay\",\"size\":10,\"solidity\":0.2}},\"type\":\"barpolar\"}],\"carpet\":[{\"aaxis\":{\"endlinecolor\":\"#2a3f5f\",\"gridcolor\":\"white\",\"linecolor\":\"white\",\"minorgridcolor\":\"white\",\"startlinecolor\":\"#2a3f5f\"},\"baxis\":{\"endlinecolor\":\"#2a3f5f\",\"gridcolor\":\"white\",\"linecolor\":\"white\",\"minorgridcolor\":\"white\",\"startlinecolor\":\"#2a3f5f\"},\"type\":\"carpet\"}],\"choropleth\":[{\"colorbar\":{\"outlinewidth\":0,\"ticks\":\"\"},\"type\":\"choropleth\"}],\"contour\":[{\"colorbar\":{\"outlinewidth\":0,\"ticks\":\"\"},\"colorscale\":[[0.0,\"#0d0887\"],[0.1111111111111111,\"#46039f\"],[0.2222222222222222,\"#7201a8\"],[0.3333333333333333,\"#9c179e\"],[0.4444444444444444,\"#bd3786\"],[0.5555555555555556,\"#d8576b\"],[0.6666666666666666,\"#ed7953\"],[0.7777777777777778,\"#fb9f3a\"],[0.8888888888888888,\"#fdca26\"],[1.0,\"#f0f921\"]],\"type\":\"contour\"}],\"contourcarpet\":[{\"colorbar\":{\"outlinewidth\":0,\"ticks\":\"\"},\"type\":\"contourcarpet\"}],\"heatmap\":[{\"colorbar\":{\"outlinewidth\":0,\"ticks\":\"\"},\"colorscale\":[[0.0,\"#0d0887\"],[0.1111111111111111,\"#46039f\"],[0.2222222222222222,\"#7201a8\"],[0.3333333333333333,\"#9c179e\"],[0.4444444444444444,\"#bd3786\"],[0.5555555555555556,\"#d8576b\"],[0.6666666666666666,\"#ed7953\"],[0.7777777777777778,\"#fb9f3a\"],[0.8888888888888888,\"#fdca26\"],[1.0,\"#f0f921\"]],\"type\":\"heatmap\"}],\"heatmapgl\":[{\"colorbar\":{\"outlinewidth\":0,\"ticks\":\"\"},\"colorscale\":[[0.0,\"#0d0887\"],[0.1111111111111111,\"#46039f\"],[0.2222222222222222,\"#7201a8\"],[0.3333333333333333,\"#9c179e\"],[0.4444444444444444,\"#bd3786\"],[0.5555555555555556,\"#d8576b\"],[0.6666666666666666,\"#ed7953\"],[0.7777777777777778,\"#fb9f3a\"],[0.8888888888888888,\"#fdca26\"],[1.0,\"#f0f921\"]],\"type\":\"heatmapgl\"}],\"histogram\":[{\"marker\":{\"pattern\":{\"fillmode\":\"overlay\",\"size\":10,\"solidity\":0.2}},\"type\":\"histogram\"}],\"histogram2d\":[{\"colorbar\":{\"outlinewidth\":0,\"ticks\":\"\"},\"colorscale\":[[0.0,\"#0d0887\"],[0.1111111111111111,\"#46039f\"],[0.2222222222222222,\"#7201a8\"],[0.3333333333333333,\"#9c179e\"],[0.4444444444444444,\"#bd3786\"],[0.5555555555555556,\"#d8576b\"],[0.6666666666666666,\"#ed7953\"],[0.7777777777777778,\"#fb9f3a\"],[0.8888888888888888,\"#fdca26\"],[1.0,\"#f0f921\"]],\"type\":\"histogram2d\"}],\"histogram2dcontour\":[{\"colorbar\":{\"outlinewidth\":0,\"ticks\":\"\"},\"colorscale\":[[0.0,\"#0d0887\"],[0.1111111111111111,\"#46039f\"],[0.2222222222222222,\"#7201a8\"],[0.3333333333333333,\"#9c179e\"],[0.4444444444444444,\"#bd3786\"],[0.5555555555555556,\"#d8576b\"],[0.6666666666666666,\"#ed7953\"],[0.7777777777777778,\"#fb9f3a\"],[0.8888888888888888,\"#fdca26\"],[1.0,\"#f0f921\"]],\"type\":\"histogram2dcontour\"}],\"mesh3d\":[{\"colorbar\":{\"outlinewidth\":0,\"ticks\":\"\"},\"type\":\"mesh3d\"}],\"parcoords\":[{\"line\":{\"colorbar\":{\"outlinewidth\":0,\"ticks\":\"\"}},\"type\":\"parcoords\"}],\"pie\":[{\"automargin\":true,\"type\":\"pie\"}],\"scatter\":[{\"marker\":{\"colorbar\":{\"outlinewidth\":0,\"ticks\":\"\"}},\"type\":\"scatter\"}],\"scatter3d\":[{\"line\":{\"colorbar\":{\"outlinewidth\":0,\"ticks\":\"\"}},\"marker\":{\"colorbar\":{\"outlinewidth\":0,\"ticks\":\"\"}},\"type\":\"scatter3d\"}],\"scattercarpet\":[{\"marker\":{\"colorbar\":{\"outlinewidth\":0,\"ticks\":\"\"}},\"type\":\"scattercarpet\"}],\"scattergeo\":[{\"marker\":{\"colorbar\":{\"outlinewidth\":0,\"ticks\":\"\"}},\"type\":\"scattergeo\"}],\"scattergl\":[{\"marker\":{\"colorbar\":{\"outlinewidth\":0,\"ticks\":\"\"}},\"type\":\"scattergl\"}],\"scattermapbox\":[{\"marker\":{\"colorbar\":{\"outlinewidth\":0,\"ticks\":\"\"}},\"type\":\"scattermapbox\"}],\"scatterpolar\":[{\"marker\":{\"colorbar\":{\"outlinewidth\":0,\"ticks\":\"\"}},\"type\":\"scatterpolar\"}],\"scatterpolargl\":[{\"marker\":{\"colorbar\":{\"outlinewidth\":0,\"ticks\":\"\"}},\"type\":\"scatterpolargl\"}],\"scatterternary\":[{\"marker\":{\"colorbar\":{\"outlinewidth\":0,\"ticks\":\"\"}},\"type\":\"scatterternary\"}],\"surface\":[{\"colorbar\":{\"outlinewidth\":0,\"ticks\":\"\"},\"colorscale\":[[0.0,\"#0d0887\"],[0.1111111111111111,\"#46039f\"],[0.2222222222222222,\"#7201a8\"],[0.3333333333333333,\"#9c179e\"],[0.4444444444444444,\"#bd3786\"],[0.5555555555555556,\"#d8576b\"],[0.6666666666666666,\"#ed7953\"],[0.7777777777777778,\"#fb9f3a\"],[0.8888888888888888,\"#fdca26\"],[1.0,\"#f0f921\"]],\"type\":\"surface\"}],\"table\":[{\"cells\":{\"fill\":{\"color\":\"#EBF0F8\"},\"line\":{\"color\":\"white\"}},\"header\":{\"fill\":{\"color\":\"#C8D4E3\"},\"line\":{\"color\":\"white\"}},\"type\":\"table\"}]},\"layout\":{\"annotationdefaults\":{\"arrowcolor\":\"#2a3f5f\",\"arrowhead\":0,\"arrowwidth\":1},\"autotypenumbers\":\"strict\",\"coloraxis\":{\"colorbar\":{\"outlinewidth\":0,\"ticks\":\"\"}},\"colorscale\":{\"diverging\":[[0,\"#8e0152\"],[0.1,\"#c51b7d\"],[0.2,\"#de77ae\"],[0.3,\"#f1b6da\"],[0.4,\"#fde0ef\"],[0.5,\"#f7f7f7\"],[0.6,\"#e6f5d0\"],[0.7,\"#b8e186\"],[0.8,\"#7fbc41\"],[0.9,\"#4d9221\"],[1,\"#276419\"]],\"sequential\":[[0.0,\"#0d0887\"],[0.1111111111111111,\"#46039f\"],[0.2222222222222222,\"#7201a8\"],[0.3333333333333333,\"#9c179e\"],[0.4444444444444444,\"#bd3786\"],[0.5555555555555556,\"#d8576b\"],[0.6666666666666666,\"#ed7953\"],[0.7777777777777778,\"#fb9f3a\"],[0.8888888888888888,\"#fdca26\"],[1.0,\"#f0f921\"]],\"sequentialminus\":[[0.0,\"#0d0887\"],[0.1111111111111111,\"#46039f\"],[0.2222222222222222,\"#7201a8\"],[0.3333333333333333,\"#9c179e\"],[0.4444444444444444,\"#bd3786\"],[0.5555555555555556,\"#d8576b\"],[0.6666666666666666,\"#ed7953\"],[0.7777777777777778,\"#fb9f3a\"],[0.8888888888888888,\"#fdca26\"],[1.0,\"#f0f921\"]]},\"colorway\":[\"#636efa\",\"#EF553B\",\"#00cc96\",\"#ab63fa\",\"#FFA15A\",\"#19d3f3\",\"#FF6692\",\"#B6E880\",\"#FF97FF\",\"#FECB52\"],\"font\":{\"color\":\"#2a3f5f\"},\"geo\":{\"bgcolor\":\"white\",\"lakecolor\":\"white\",\"landcolor\":\"#E5ECF6\",\"showlakes\":true,\"showland\":true,\"subunitcolor\":\"white\"},\"hoverlabel\":{\"align\":\"left\"},\"hovermode\":\"closest\",\"mapbox\":{\"style\":\"light\"},\"paper_bgcolor\":\"white\",\"plot_bgcolor\":\"#E5ECF6\",\"polar\":{\"angularaxis\":{\"gridcolor\":\"white\",\"linecolor\":\"white\",\"ticks\":\"\"},\"bgcolor\":\"#E5ECF6\",\"radialaxis\":{\"gridcolor\":\"white\",\"linecolor\":\"white\",\"ticks\":\"\"}},\"scene\":{\"xaxis\":{\"backgroundcolor\":\"#E5ECF6\",\"gridcolor\":\"white\",\"gridwidth\":2,\"linecolor\":\"white\",\"showbackground\":true,\"ticks\":\"\",\"zerolinecolor\":\"white\"},\"yaxis\":{\"backgroundcolor\":\"#E5ECF6\",\"gridcolor\":\"white\",\"gridwidth\":2,\"linecolor\":\"white\",\"showbackground\":true,\"ticks\":\"\",\"zerolinecolor\":\"white\"},\"zaxis\":{\"backgroundcolor\":\"#E5ECF6\",\"gridcolor\":\"white\",\"gridwidth\":2,\"linecolor\":\"white\",\"showbackground\":true,\"ticks\":\"\",\"zerolinecolor\":\"white\"}},\"shapedefaults\":{\"line\":{\"color\":\"#2a3f5f\"}},\"ternary\":{\"aaxis\":{\"gridcolor\":\"white\",\"linecolor\":\"white\",\"ticks\":\"\"},\"baxis\":{\"gridcolor\":\"white\",\"linecolor\":\"white\",\"ticks\":\"\"},\"bgcolor\":\"#E5ECF6\",\"caxis\":{\"gridcolor\":\"white\",\"linecolor\":\"white\",\"ticks\":\"\"}},\"title\":{\"x\":0.05},\"xaxis\":{\"automargin\":true,\"gridcolor\":\"white\",\"linecolor\":\"white\",\"ticks\":\"\",\"title\":{\"standoff\":15},\"zerolinecolor\":\"white\",\"zerolinewidth\":2},\"yaxis\":{\"automargin\":true,\"gridcolor\":\"white\",\"linecolor\":\"white\",\"ticks\":\"\",\"title\":{\"standoff\":15},\"zerolinecolor\":\"white\",\"zerolinewidth\":2}}},\"title\":{\"text\":\"Risk vs Reward\"},\"xaxis\":{\"title\":{\"text\":\"Expected returns\"}},\"yaxis\":{\"title\":{\"text\":\"Fraction of Total Capital Invested\"}}},                        {\"responsive\": true}                    ).then(function(){\n",
       "                            \n",
       "var gd = document.getElementById('f40dedb0-fd76-4f33-90d9-7f67d7e00716');\n",
       "var x = new MutationObserver(function (mutations, observer) {{\n",
       "        var display = window.getComputedStyle(gd).display;\n",
       "        if (!display || display === 'none') {{\n",
       "            console.log([gd, 'removed!']);\n",
       "            Plotly.purge(gd);\n",
       "            observer.disconnect();\n",
       "        }}\n",
       "}});\n",
       "\n",
       "// Listen for the removal of the full notebook cells\n",
       "var notebookContainer = gd.closest('#notebook-container');\n",
       "if (notebookContainer) {{\n",
       "    x.observe(notebookContainer, {childList: true});\n",
       "}}\n",
       "\n",
       "// Listen for the clearing of the current output cell\n",
       "var outputEl = gd.closest('.output');\n",
       "if (outputEl) {{\n",
       "    x.observe(outputEl, {childList: true});\n",
       "}}\n",
       "\n",
       "                        })                };                });            </script>        </div>"
      ]
     },
     "metadata": {},
     "output_type": "display_data"
    }
   ],
   "source": [
    "# p_not_breakeven = 0.4\n",
    "# num_positions = 2\n",
    "expected_gain = 0.1\n",
    "position_range = np.arange(1, 6)\n",
    "p_range = np.arange(0.56, 0.24, -0.01)\n",
    "fig = go.Figure()\n",
    "for p_not_breakeven in p_range:\n",
    "    \n",
    "    for num_positions in position_range:\n",
    "    \n",
    "        p = 1 - p_not_breakeven**num_positions\n",
    "        p/(1/num_positions) - p_not_breakeven/\n",
    "#     gain_fraction_df =  pd.DataFrame({\"Capital Fraction\":np.apply_along_axis(lambda expected_gain: p -  (1-p) / expected_gain, 0, expected_gain_range),\n",
    "#                                   \"Expected Gain\":expected_gain_range})\n",
    "#     gain_fraction_df.loc[gain_fraction_df['Capital Fraction']<0, 'Capital Fraction'] = 0\n",
    "#     # gain_fraction_df.loc[gain_fraction_df['Capital Fraction'].gt(0.05).idxmax(), \"Expected Gain\"]\n",
    "\n",
    "    fig.add_trace(go.Scatter(x=gain_fraction_df[\"Expected Gain\"], y=gain_fraction_df[\"Capital Fraction\"],\n",
    "                    mode='lines',\n",
    "                    name='%d Positions'%num_positions))\n",
    "    \n",
    "fig.add_hline(0.1, line_dash=\"dash\", line_color=\"red\", annotation_text='10% Allocation Threshold')\n",
    "fig.update_layout(\n",
    "    title=\"Risk vs Reward\",\n",
    "    xaxis_title=\"Expected returns\",\n",
    "    yaxis_title=\"Fraction of Total Capital Invested\",\n",
    "    legend_title=\"Number of Positions\",\n",
    "    font=dict(\n",
    "#         family=\"Courier New, monospace\",\n",
    "        size=12,\n",
    "        color=\"RebeccaPurple\"\n",
    "    )\n",
    ")\n",
    "\n",
    "fig.show()"
   ]
  },
  {
   "cell_type": "markdown",
   "id": "dress-speech",
   "metadata": {},
   "source": [
    "The more pairs we hold"
   ]
  },
  {
   "cell_type": "code",
   "execution_count": null,
   "id": "executed-restaurant",
   "metadata": {},
   "outputs": [],
   "source": []
  }
 ],
 "metadata": {
  "kernelspec": {
   "display_name": "Python 3",
   "language": "python",
   "name": "python3"
  },
  "language_info": {
   "codemirror_mode": {
    "name": "ipython",
    "version": 3
   },
   "file_extension": ".py",
   "mimetype": "text/x-python",
   "name": "python",
   "nbconvert_exporter": "python",
   "pygments_lexer": "ipython3",
   "version": "3.8.8"
  }
 },
 "nbformat": 4,
 "nbformat_minor": 5
}
