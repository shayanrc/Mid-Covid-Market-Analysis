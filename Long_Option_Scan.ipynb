{
 "cells": [
  {
   "cell_type": "code",
   "execution_count": 1,
   "id": "d0edd615-6b0d-4eb6-a9ed-d3ab70bcda97",
   "metadata": {},
   "outputs": [],
   "source": [
    "import nsepy\n",
    "\n",
    "import pandas as pd\n",
    "import datetime as dt\n",
    "\n",
    "from Dashboards.helpers.nse import load_underlying, load_instrument_list, nse_load_options, get_lotsize\n",
    "\n",
    "import numpy as np\n",
    "\n",
    "from dateutil import relativedelta\n",
    "\n",
    "import tqdm\n",
    "\n",
    "import requests\n",
    "\n",
    "import plotly.express as px"
   ]
  },
  {
   "cell_type": "code",
   "execution_count": 6,
   "id": "variable-detector",
   "metadata": {
    "tags": []
   },
   "outputs": [],
   "source": [
    "def calculate_period_delta(underlying_df, holding_period):\n",
    "    underlying_df['adj_close'] = (underlying_df['High']+underlying_df['Low']+underlying_df['Close'])/3\n",
    "\n",
    "    underlying_df['z_score'] = (underlying_df.Close-underlying_df.adj_close.rolling(holding_period, min_periods=1).mean())/underlying_df.adj_close.rolling(holding_period, min_periods=1).std()\n",
    "\n",
    "    period_delta = pd.DataFrame({'z_score' : (underlying_df.Close-underlying_df.adj_close.rolling(holding_period).mean())/underlying_df.adj_close.rolling(holding_period).std(),\n",
    "                                 'period_delta': (underlying_df['Close'] - underlying_df['Close'].shift(holding_period))/underlying_df['Close'].shift(holding_period),\n",
    "                                 'delta_max': (underlying_df['High'] - underlying_df['Close'].shift(holding_period))/underlying_df['Close'].shift(holding_period),\n",
    "                                 'delta_min': (underlying_df['Low'] - underlying_df['Close'].shift(holding_period))/underlying_df['Close'].shift(holding_period)})\n",
    "\n",
    "    period_delta.z_score =period_delta.z_score.shift(-holding_period+1)\n",
    "\n",
    "    period_delta = period_delta.dropna()\n",
    "    \n",
    "    return period_delta"
   ]
  },
  {
   "cell_type": "code",
   "execution_count": 2,
   "id": "convertible-archive",
   "metadata": {},
   "outputs": [],
   "source": [
    "\n",
    "def generate_pairs(pe_positions, ce_positions, brokerage=20):\n",
    "    \n",
    "    # Convert to dict for easier iteration\n",
    "    pe_positions = pe_positions.to_dict(orient='records')\n",
    "    ce_positions = ce_positions.to_dict(orient='records')\n",
    "    \n",
    "    position_pairs = []\n",
    "\n",
    "    for pe_position in pe_positions:\n",
    "\n",
    "        for ce_position in ce_positions:\n",
    "            \n",
    "            pair_cost = pe_position['position_cost'] + ce_position['position_cost']\n",
    "            position_pair = {'cost': pair_cost+brokerage*4}\n",
    "            position_pair['lot_size'] = pe_position['lot_size']\n",
    "            position_pair['underlying_name'] = pe_position['Symbol']\n",
    "            position_pair['expiry'] = pe_position['Expiry']\n",
    "            position_pair['underlying_value'] = pe_position['Underlying']\n",
    "            \n",
    "            position_pair['pe_strike_price'] = pe_position['Strike Price']\n",
    "            position_pair['ce_strike_price'] = ce_position['Strike Price']\n",
    "            \n",
    "            position_pair['pe_premium'] = pe_position['Close']\n",
    "            position_pair['ce_premium'] = ce_position['Close']\n",
    "            \n",
    "            position_pair['pe_tpremium'] = pe_position['true_premium']\n",
    "            position_pair['pe_tpremium_decay'] = pe_position['expected_true_premium_decay']\n",
    "            \n",
    "            position_pair['ce_tpremium'] = ce_position['true_premium']\n",
    "            position_pair['ce_tpremium_decay'] = ce_position['expected_true_premium_decay']\n",
    "            \n",
    "            position_pair['spread'] = ce_position['Strike Price'] - pe_position['Strike Price']\n",
    "            position_pair['breakeven'] = position_pair['cost']/position_pair['lot_size']\n",
    "            position_pairs.append(position_pair)\n",
    "\n",
    "\n",
    "    position_pairs = pd.DataFrame(position_pairs)\n",
    "\n",
    "    # position_pairs['capital_breakeven_probability'] = 1-position_pairs['capital_not_breakeven_probability']\n",
    "    return position_pairs"
   ]
  },
  {
   "cell_type": "code",
   "execution_count": 3,
   "id": "impaired-honolulu",
   "metadata": {},
   "outputs": [
    {
     "name": "stdout",
     "output_type": "stream",
     "text": [
      "Qma38kW9X6VvJv7GewBE6pZ7NR2x9U9pALuTiXBRWAok8D\n"
     ]
    }
   ],
   "source": [
    "with open(\"datastore/nse.dataroot\") as f:\n",
    "    data_root = f.readline()\n",
    "    print(data_root)"
   ]
  },
  {
   "cell_type": "code",
   "execution_count": 4,
   "id": "pressing-advertiser",
   "metadata": {},
   "outputs": [],
   "source": [
    "inst_list = load_instrument_list(data_root)"
   ]
  },
  {
   "cell_type": "code",
   "execution_count": 5,
   "id": "aggregate-round",
   "metadata": {},
   "outputs": [
    {
     "data": {
      "text/plain": [
       "['NIFTY',\n",
       " 'BANKNIFTY',\n",
       " 'DLF',\n",
       " 'INFY',\n",
       " 'HINDUNILVR',\n",
       " 'HCLTECH',\n",
       " 'TCS',\n",
       " 'SBIN',\n",
       " 'ASIANPAINT',\n",
       " 'RELIANCE',\n",
       " 'KOTAKBANK',\n",
       " 'ITC',\n",
       " 'ULTRACEMCO',\n",
       " 'CIPLA',\n",
       " 'POWERGRID',\n",
       " 'JSWSTEEL',\n",
       " 'GRASIM',\n",
       " 'HINDALCO',\n",
       " 'NMDC',\n",
       " 'VEDL',\n",
       " 'COALINDIA',\n",
       " 'MPHASIS',\n",
       " 'UPL',\n",
       " 'GMRINFRA',\n",
       " 'INDHOTEL',\n",
       " 'COFORGE',\n",
       " 'CHAMBLFERT',\n",
       " 'AARTIIND',\n",
       " 'LALPATHLAB',\n",
       " 'PEL',\n",
       " 'STAR']"
      ]
     },
     "execution_count": 5,
     "metadata": {},
     "output_type": "execute_result"
    }
   ],
   "source": [
    "inst_list"
   ]
  },
  {
   "cell_type": "code",
   "execution_count": 7,
   "id": "interim-syntax",
   "metadata": {},
   "outputs": [],
   "source": [
    "holding_period = 4"
   ]
  },
  {
   "cell_type": "code",
   "execution_count": 7,
   "id": "94b29642-b529-4289-afed-30a3310c38f6",
   "metadata": {},
   "outputs": [
    {
     "name": "stderr",
     "output_type": "stream",
     "text": [
      "Downloading underlying for NIFTY:   0%|          | 0/31 [00:18<?, ?it/s]\n"
     ]
    }
   ],
   "source": [
    "all_underlying = []\n",
    "\n",
    "indices = ['NIFTY', 'BANKNIFTY']\n",
    "pbar = tqdm.tqdm(inst_list)\n",
    "\n",
    "\n",
    "for inst in pbar:\n",
    "    pbar.set_description(f'Downloading underlying for {inst}')\n",
    "    underlying_df = load_underlying(inst, data_root)\n",
    "    all_underlying.append(underlying_df)\n",
    "    break"
   ]
  },
  {
   "cell_type": "code",
   "execution_count": 103,
   "id": "retained-equation",
   "metadata": {},
   "outputs": [
    {
     "name": "stderr",
     "output_type": "stream",
     "text": [
      "Processing STAR: 100%|██████████| 31/31 [02:25<00:00,  4.70s/it]      \n"
     ]
    }
   ],
   "source": [
    "all_options = []\n",
    "all_holding_period_delta = []\n",
    "all_deltas = []\n",
    "indices = ['NIFTY', 'BANKNIFTY']\n",
    "pbar = tqdm.tqdm(inst_list)\n",
    "\n",
    "for inst in pbar:\n",
    "    pbar.set_description(f'Processing {inst}')\n",
    "    \n",
    "    if inst in indices:\n",
    "        inst_type = 'FUTIDX'\n",
    "    else:\n",
    "        inst_type = 'FUTSTK'\n",
    "    \n",
    "    options_table, expiries = nse_load_options(inst, is_index=inst in indices)\n",
    "    \n",
    "    lot_size = int(get_lotsize(inst, is_index=inst in indices))\n",
    "    underlying_df = load_underlying(inst, data_root)\n",
    "    holding_period_delta = calculate_period_delta(underlying_df, holding_period)\n",
    "    holding_period_delta['underlying_name'] = inst\n",
    "    all_holding_period_delta.append(holding_period_delta)\n",
    "    \n",
    "    options_table = options_table[options_table['Close']>0]\n",
    "    \n",
    "    # Get last price of monthly future\n",
    "    fut_expiry = dt.date.today()+relativedelta.relativedelta(day=31, weekday=relativedelta.TH(-1))\n",
    "    fut_quote = nsepy.get_quote(symbol=inst, series='EQ', instrument=inst_type, expiry=fut_expiry)['data'][0]\n",
    "    last_price = float(fut_quote['lastPrice'].replace(',', ''))\n",
    "    \n",
    "    options_table['lot_size']=lot_size\n",
    "    options_table.Expiry = pd.to_datetime(options_table.Expiry)\n",
    "    # min open interest == 10k\n",
    "    options_table = options_table[(options_table.Expiry.dt.date>=(dt.date.today()+dt.timedelta(days=holding_period))) & (options_table.Expiry.dt.date<(dt.date.today()+dt.timedelta(days=31)))]\n",
    "#     options_table = options_table[(options_table.Expiry.dt.date<(dt.date.today()+dt.timedelta(days=31)))]\n",
    "    # there should be at least be 1 lot being traded\n",
    "    options_table = options_table[options_table['Open Interest']>=0.1]\n",
    "    options_table = options_table.sort_values('Expiry').reset_index(drop=True)\n",
    "    \n",
    "    \n",
    "    for expiry in expiries:\n",
    "        options_df = options_table[options_table['Expiry']==expiry]\n",
    "        if len(options_df)==0:\n",
    "            continue\n",
    "        trade_days_left = np.busday_count(dt.date.today(), expiry.date())\n",
    "        period_delta = calculate_period_delta(underlying_df, trade_days_left)\n",
    "        \n",
    "        \n",
    "        ce_df = options_df[options_df['Option Type']=='CE'].sort_values('Strike Price').reset_index(drop=True)\n",
    "        ce_df['break_even_delta'] = ((ce_df['Close']+ce_df['Strike Price']) - last_price)/last_price\n",
    "        ce_df['p_condition_breakeven'] = 0\n",
    "        ce_df['p_breakeven'] = 0\n",
    "\n",
    "        for ix, ce_row in ce_df.iterrows():\n",
    "            ce_df.loc[ix, 'p_condition_breakeven'] = ((period_delta.delta_max>ce_row['break_even_delta']) & (period_delta.z_score>period_delta.z_score[-1])*0.9).mean()\n",
    "            ce_df.loc[ix, 'p_breakeven'] = (period_delta.delta_max>ce_row['break_even_delta']).mean()\n",
    "\n",
    "        ce_df['kelly_fraction'] = ce_df['p_breakeven']-(1-ce_df['p_breakeven'])/1.1\n",
    "        \n",
    "        pe_df = options_df[options_df['Option Type']=='PE'].sort_values('Strike Price').reset_index(drop=True)\n",
    "        pe_df['break_even_delta'] = ((pe_df['Strike Price'] -  pe_df['Close'])- last_price)/last_price\n",
    "        pe_df['p_condition_breakeven'] = 0\n",
    "        pe_df['p_breakeven'] = 0\n",
    "\n",
    "        for ix, pe_row in pe_df.iterrows():\n",
    "            pe_df.loc[ix, 'p_condition_breakeven'] = ((period_delta.delta_min<pe_row['break_even_delta']) & (period_delta.z_score<(period_delta.z_score[-1])*1.1)).mean()\n",
    "            pe_df.loc[ix, 'p_breakeven'] = (period_delta.delta_min<pe_row['break_even_delta']).mean()\n",
    "        \n",
    "        pe_df['kelly_fraction'] = pe_df['p_breakeven']-(1-pe_df['p_breakeven'])/1.1\n",
    "        \n",
    "        all_options.extend([ce_df, pe_df])  \n",
    "        \n",
    "        period_delta['trade_days_left'] = trade_days_left\n",
    "        period_delta['underlying_name'] = inst\n",
    "        all_deltas.append(period_delta)\n",
    "        \n"
   ]
  },
  {
   "cell_type": "code",
   "execution_count": 104,
   "id": "wooden-appreciation",
   "metadata": {},
   "outputs": [],
   "source": [
    "all_options = pd.concat(all_options, ignore_index=True)\n",
    "\n",
    "all_options['true_premium'] = 0\n",
    "ce_mask = all_options['Option Type']=='CE'\n",
    "all_options.loc[ce_mask, 'true_premium'] =  all_options.loc[ce_mask, 'Close'] + (all_options.loc[ce_mask, 'Strike Price']-all_options.loc[ce_mask, 'Underlying'])\n",
    "pe_mask = all_options['Option Type']=='PE'\n",
    "all_options.loc[pe_mask, 'true_premium'] = all_options.loc[pe_mask, 'Close'] + (all_options.loc[pe_mask, 'Underlying']-all_options.loc[pe_mask, 'Strike Price'])"
   ]
  },
  {
   "cell_type": "code",
   "execution_count": 105,
   "id": "thick-fence",
   "metadata": {},
   "outputs": [
    {
     "data": {
      "text/plain": [
       "'NIFTY, BANKNIFTY, DLF, INFY, HINDUNILVR, HCLTECH, TCS, SBIN, ASIANPAINT, RELIANCE, KOTAKBANK, ITC, ULTRACEMCO, CIPLA, POWERGRID, JSWSTEEL, GRASIM, HINDALCO, NMDC, VEDL, COALINDIA, MPHASIS, UPL, GMRINFRA, INDHOTEL, COFORGE, CHAMBLFERT, AARTIIND, LALPATHLAB, PEL, STAR'"
      ]
     },
     "execution_count": 105,
     "metadata": {},
     "output_type": "execute_result"
    }
   ],
   "source": [
    "\", \".join(all_options['Symbol'].unique())"
   ]
  },
  {
   "cell_type": "code",
   "execution_count": 106,
   "id": "crazy-butler",
   "metadata": {},
   "outputs": [],
   "source": [
    "all_deltas = pd.concat(all_deltas)\n",
    "\n",
    "all_holding_period_delta = pd.concat(all_holding_period_delta)"
   ]
  },
  {
   "cell_type": "code",
   "execution_count": 107,
   "id": "5758d38d-12e8-49c3-bc7c-1f8d0817d3fa",
   "metadata": {},
   "outputs": [],
   "source": [
    "all_options['position_cost'] = all_options['Close']*all_options['lot_size']\n",
    "\n",
    "all_options['expected_true_premium_decay'] = all_options['true_premium']/np.busday_count(dt.date.today(), all_options['Expiry'].dt.date)\n",
    "\n",
    "all_options['tp_decay_delta'] = (all_options['break_even_delta']*all_options['Underlying'] - all_options['expected_true_premium_decay']*holding_period)/all_options['Underlying']"
   ]
  },
  {
   "cell_type": "code",
   "execution_count": 108,
   "id": "macro-possession",
   "metadata": {},
   "outputs": [
    {
     "data": {
      "text/html": [
       "<div>\n",
       "<style scoped>\n",
       "    .dataframe tbody tr th:only-of-type {\n",
       "        vertical-align: middle;\n",
       "    }\n",
       "\n",
       "    .dataframe tbody tr th {\n",
       "        vertical-align: top;\n",
       "    }\n",
       "\n",
       "    .dataframe thead th {\n",
       "        text-align: right;\n",
       "    }\n",
       "</style>\n",
       "<table border=\"1\" class=\"dataframe\">\n",
       "  <thead>\n",
       "    <tr style=\"text-align: right;\">\n",
       "      <th></th>\n",
       "      <th>Strike Price</th>\n",
       "      <th>Expiry</th>\n",
       "      <th>Option Type</th>\n",
       "      <th>Symbol</th>\n",
       "      <th>identifier</th>\n",
       "      <th>Open Interest</th>\n",
       "      <th>Change in OI</th>\n",
       "      <th>Change % in OI</th>\n",
       "      <th>Number of Contracts</th>\n",
       "      <th>impliedVolatility</th>\n",
       "      <th>...</th>\n",
       "      <th>Underlying</th>\n",
       "      <th>lot_size</th>\n",
       "      <th>break_even_delta</th>\n",
       "      <th>p_condition_breakeven</th>\n",
       "      <th>p_breakeven</th>\n",
       "      <th>kelly_fraction</th>\n",
       "      <th>true_premium</th>\n",
       "      <th>position_cost</th>\n",
       "      <th>expected_true_premium_decay</th>\n",
       "      <th>tp_decay_delta</th>\n",
       "    </tr>\n",
       "  </thead>\n",
       "  <tbody>\n",
       "    <tr>\n",
       "      <th>2</th>\n",
       "      <td>16800.0</td>\n",
       "      <td>2022-01-13</td>\n",
       "      <td>CE</td>\n",
       "      <td>NIFTY</td>\n",
       "      <td>OPTIDXNIFTY13-01-2022CE16800.00</td>\n",
       "      <td>158.0</td>\n",
       "      <td>102.0</td>\n",
       "      <td>182.142857</td>\n",
       "      <td>80</td>\n",
       "      <td>0.0</td>\n",
       "      <td>...</td>\n",
       "      <td>17757.35</td>\n",
       "      <td>50</td>\n",
       "      <td>-0.004484</td>\n",
       "      <td>0.038579</td>\n",
       "      <td>0.784772</td>\n",
       "      <td>0.589109</td>\n",
       "      <td>-41.00</td>\n",
       "      <td>45817.5</td>\n",
       "      <td>-10.2500</td>\n",
       "      <td>-0.002175</td>\n",
       "    </tr>\n",
       "    <tr>\n",
       "      <th>4</th>\n",
       "      <td>16950.0</td>\n",
       "      <td>2022-01-13</td>\n",
       "      <td>CE</td>\n",
       "      <td>NIFTY</td>\n",
       "      <td>OPTIDXNIFTY13-01-2022CE16950.00</td>\n",
       "      <td>36.0</td>\n",
       "      <td>15.0</td>\n",
       "      <td>71.428571</td>\n",
       "      <td>28</td>\n",
       "      <td>0.0</td>\n",
       "      <td>...</td>\n",
       "      <td>17757.35</td>\n",
       "      <td>50</td>\n",
       "      <td>-0.004012</td>\n",
       "      <td>0.038579</td>\n",
       "      <td>0.779695</td>\n",
       "      <td>0.579419</td>\n",
       "      <td>-32.60</td>\n",
       "      <td>38737.5</td>\n",
       "      <td>-8.1500</td>\n",
       "      <td>-0.002176</td>\n",
       "    </tr>\n",
       "    <tr>\n",
       "      <th>6</th>\n",
       "      <td>17050.0</td>\n",
       "      <td>2022-01-13</td>\n",
       "      <td>CE</td>\n",
       "      <td>NIFTY</td>\n",
       "      <td>OPTIDXNIFTY13-01-2022CE17050.00</td>\n",
       "      <td>91.0</td>\n",
       "      <td>38.0</td>\n",
       "      <td>71.698113</td>\n",
       "      <td>44</td>\n",
       "      <td>0.0</td>\n",
       "      <td>...</td>\n",
       "      <td>17757.35</td>\n",
       "      <td>50</td>\n",
       "      <td>-0.003357</td>\n",
       "      <td>0.036548</td>\n",
       "      <td>0.767513</td>\n",
       "      <td>0.556161</td>\n",
       "      <td>-20.95</td>\n",
       "      <td>34320.0</td>\n",
       "      <td>-5.2375</td>\n",
       "      <td>-0.002178</td>\n",
       "    </tr>\n",
       "    <tr>\n",
       "      <th>212</th>\n",
       "      <td>34000.0</td>\n",
       "      <td>2022-01-13</td>\n",
       "      <td>CE</td>\n",
       "      <td>BANKNIFTY</td>\n",
       "      <td>OPTIDXBANKNIFTY13-01-2022CE34000.00</td>\n",
       "      <td>104.0</td>\n",
       "      <td>78.0</td>\n",
       "      <td>300.000000</td>\n",
       "      <td>185</td>\n",
       "      <td>0.0</td>\n",
       "      <td>...</td>\n",
       "      <td>37590.65</td>\n",
       "      <td>25</td>\n",
       "      <td>-0.006245</td>\n",
       "      <td>0.037602</td>\n",
       "      <td>0.767276</td>\n",
       "      <td>0.555710</td>\n",
       "      <td>-123.35</td>\n",
       "      <td>86682.5</td>\n",
       "      <td>-30.8375</td>\n",
       "      <td>-0.002964</td>\n",
       "    </tr>\n",
       "    <tr>\n",
       "      <th>304</th>\n",
       "      <td>40500.0</td>\n",
       "      <td>2022-01-13</td>\n",
       "      <td>PE</td>\n",
       "      <td>BANKNIFTY</td>\n",
       "      <td>OPTIDXBANKNIFTY13-01-2022PE40500.00</td>\n",
       "      <td>5.0</td>\n",
       "      <td>5.0</td>\n",
       "      <td>0.000000</td>\n",
       "      <td>16</td>\n",
       "      <td>0.0</td>\n",
       "      <td>...</td>\n",
       "      <td>37590.65</td>\n",
       "      <td>25</td>\n",
       "      <td>0.011197</td>\n",
       "      <td>0.744919</td>\n",
       "      <td>0.762195</td>\n",
       "      <td>0.546009</td>\n",
       "      <td>-534.25</td>\n",
       "      <td>59377.5</td>\n",
       "      <td>-133.5625</td>\n",
       "      <td>0.025409</td>\n",
       "    </tr>\n",
       "  </tbody>\n",
       "</table>\n",
       "<p>5 rows × 29 columns</p>\n",
       "</div>"
      ],
      "text/plain": [
       "     Strike Price     Expiry Option Type     Symbol  \\\n",
       "2         16800.0 2022-01-13          CE      NIFTY   \n",
       "4         16950.0 2022-01-13          CE      NIFTY   \n",
       "6         17050.0 2022-01-13          CE      NIFTY   \n",
       "212       34000.0 2022-01-13          CE  BANKNIFTY   \n",
       "304       40500.0 2022-01-13          PE  BANKNIFTY   \n",
       "\n",
       "                              identifier  Open Interest  Change in OI  \\\n",
       "2        OPTIDXNIFTY13-01-2022CE16800.00          158.0         102.0   \n",
       "4        OPTIDXNIFTY13-01-2022CE16950.00           36.0          15.0   \n",
       "6        OPTIDXNIFTY13-01-2022CE17050.00           91.0          38.0   \n",
       "212  OPTIDXBANKNIFTY13-01-2022CE34000.00          104.0          78.0   \n",
       "304  OPTIDXBANKNIFTY13-01-2022PE40500.00            5.0           5.0   \n",
       "\n",
       "     Change % in OI  Number of Contracts  impliedVolatility  ...  Underlying  \\\n",
       "2        182.142857                   80                0.0  ...    17757.35   \n",
       "4         71.428571                   28                0.0  ...    17757.35   \n",
       "6         71.698113                   44                0.0  ...    17757.35   \n",
       "212      300.000000                  185                0.0  ...    37590.65   \n",
       "304        0.000000                   16                0.0  ...    37590.65   \n",
       "\n",
       "     lot_size  break_even_delta  p_condition_breakeven  p_breakeven  \\\n",
       "2          50         -0.004484               0.038579     0.784772   \n",
       "4          50         -0.004012               0.038579     0.779695   \n",
       "6          50         -0.003357               0.036548     0.767513   \n",
       "212        25         -0.006245               0.037602     0.767276   \n",
       "304        25          0.011197               0.744919     0.762195   \n",
       "\n",
       "     kelly_fraction  true_premium  position_cost  expected_true_premium_decay  \\\n",
       "2          0.589109        -41.00        45817.5                     -10.2500   \n",
       "4          0.579419        -32.60        38737.5                      -8.1500   \n",
       "6          0.556161        -20.95        34320.0                      -5.2375   \n",
       "212        0.555710       -123.35        86682.5                     -30.8375   \n",
       "304        0.546009       -534.25        59377.5                    -133.5625   \n",
       "\n",
       "     tp_decay_delta  \n",
       "2         -0.002175  \n",
       "4         -0.002176  \n",
       "6         -0.002178  \n",
       "212       -0.002964  \n",
       "304        0.025409  \n",
       "\n",
       "[5 rows x 29 columns]"
      ]
     },
     "execution_count": 108,
     "metadata": {},
     "output_type": "execute_result"
    }
   ],
   "source": [
    "all_options.sort_values('p_breakeven', ascending=False).head()"
   ]
  },
  {
   "cell_type": "markdown",
   "id": "minor-tragedy",
   "metadata": {},
   "source": [
    "P(Breakeven |  Premium decay till expiry )"
   ]
  },
  {
   "cell_type": "code",
   "execution_count": 109,
   "id": "honey-chemical",
   "metadata": {},
   "outputs": [],
   "source": [
    "all_options['p_tp_breakeven'] = 0\n",
    "for underlying in all_options['Symbol'].unique():\n",
    "    period_delta = all_holding_period_delta[(all_holding_period_delta['underlying_name'] == underlying)]\n",
    "    options_df = all_options[all_options['Symbol']==underlying]\n",
    "    all_options.loc[(all_options['Symbol']==underlying) & (all_options['Option Type']=='CE'), 'p_tp_breakeven'] = options_df.loc[options_df['Option Type']=='CE','tp_decay_delta'].map(lambda x: (x<period_delta['delta_max']).mean())\n",
    "    all_options.loc[(all_options['Symbol']==underlying) & (all_options['Option Type']=='PE'), 'p_tp_breakeven'] = options_df.loc[options_df['Option Type']=='PE','tp_decay_delta'].map(lambda x: (x>period_delta['delta_min']).mean())"
   ]
  },
  {
   "cell_type": "code",
   "execution_count": 110,
   "id": "abroad-printer",
   "metadata": {},
   "outputs": [],
   "source": [
    "ce_otm_mask =  ((all_options['Option Type']=='CE') & (all_options['Strike Price']>all_options['Underlying']))\n",
    "\n",
    "pe_otm_mask =  ((all_options['Option Type']=='PE') & (all_options['Strike Price']<all_options['Underlying']))\n",
    "\n",
    "otm_mask = ((all_options['Option Type']=='CE') & (all_options['Strike Price']>all_options['Underlying'])) | ((all_options['Option Type']=='PE') & (all_options['Strike Price']<all_options['Underlying']))"
   ]
  },
  {
   "cell_type": "code",
   "execution_count": 111,
   "id": "mechanical-pleasure",
   "metadata": {},
   "outputs": [],
   "source": [
    "relevant_col = ['Symbol', 'Strike Price', 'Expiry', 'Option Type',\n",
    "                'Open Interest', 'Change in OI', 'Number of Contracts', \n",
    "                'impliedVolatility', 'Close', 'Change', 'Underlying', 'lot_size',\n",
    "                'break_even_delta', 'p_condition_breakeven', 'p_breakeven',\n",
    "                'kelly_fraction', 'true_premium', 'expected_true_premium_decay',\n",
    "                'tp_decay_delta', 'p_tp_breakeven', 'position_cost']"
   ]
  },
  {
   "cell_type": "code",
   "execution_count": 112,
   "id": "copyrighted-salvation",
   "metadata": {},
   "outputs": [],
   "source": [
    "all_options = all_options[relevant_col].copy()"
   ]
  },
  {
   "cell_type": "markdown",
   "id": "color-causing",
   "metadata": {},
   "source": [
    "Since true premium should go to zero by expiry"
   ]
  },
  {
   "cell_type": "markdown",
   "id": "historical-pasta",
   "metadata": {},
   "source": [
    "P(Breakeven |  Premium decay till expiry )"
   ]
  },
  {
   "cell_type": "code",
   "execution_count": 113,
   "id": "structural-blind",
   "metadata": {},
   "outputs": [],
   "source": [
    "all_options['p_tp_breakeven'] = 0\n",
    "for _, row in all_options[['Symbol', 'Expiry']].drop_duplicates().iterrows():\n",
    "    days = np.busday_count(dt.date.today(), row['Expiry'].date())\n",
    "    period_delta = all_deltas[(all_deltas['underlying_name'] == row['Symbol']) & (all_deltas['trade_days_left']==days)]\n",
    "    options_df = all_options[(all_options['Symbol']==row['Symbol']) & (all_options['Expiry']==row['Expiry'])]\n",
    "    all_options['p_tp_breakeven'] = options_df['tp_decay_delta'].map(lambda x: (x>period_delta['period_delta']).mean())\n",
    "    all_options.loc[(all_options['Symbol']==row['Symbol']) & (all_options['Expiry']==row['Expiry']), 'p_tp_breakeven'] = options_df['tp_decay_delta'].map(lambda x: (x>period_delta['period_delta']).mean())"
   ]
  },
  {
   "cell_type": "code",
   "execution_count": 114,
   "id": "focused-hopkins",
   "metadata": {},
   "outputs": [],
   "source": [
    "today = dt.date.today()"
   ]
  },
  {
   "cell_type": "code",
   "execution_count": 115,
   "id": "purple-shore",
   "metadata": {},
   "outputs": [],
   "source": [
    "all_pairs = []\n",
    "for _, contract_expiry in all_options[['Symbol', 'Expiry']].drop_duplicates().iterrows():\n",
    "    options_mask = (all_options['Symbol']==contract_expiry['Symbol']) & (all_options['Expiry']==contract_expiry['Expiry'])\n",
    "    pairs = generate_pairs(all_options[options_mask&pe_otm_mask],all_options[options_mask&ce_otm_mask])\n",
    "    if len(pairs) == 0:\n",
    "        continue\n",
    "    period_delta = all_holding_period_delta[(all_holding_period_delta['underlying_name'] == underlying)].reset_index()\n",
    "    pairs['target'] = 1.1*pairs['breakeven']\n",
    "    pairs['pe_breakeven_delta'] = ((pairs['pe_strike_price']-pairs['target']) - pairs['underlying_value'])/pairs['underlying_value']\n",
    "    pairs['ce_breakeven_delta'] = ((pairs['ce_strike_price']+pairs['target']) - pairs['underlying_value'])/pairs['underlying_value']\n",
    "    p_pe_vol_be = pairs['pe_breakeven_delta'].map(lambda x:(period_delta['delta_min']<=x).mean())\n",
    "    p_ce_vol_be = pairs['ce_breakeven_delta'].map(lambda x:(period_delta['delta_max']>=x).mean())\n",
    "    pairs['p_not_breakeven_volatility'] = (1-p_ce_vol_be)*(1-p_pe_vol_be)\n",
    "    \n",
    "    p_pe_tp_be = ((pairs['target']-(holding_period*(pairs['pe_tpremium_decay']+pairs['ce_tpremium_decay'])/2))/pairs['underlying_value']).map(lambda x:(period_delta['delta_min']<=x).mean())\n",
    "    p_ce_tp_be = ((pairs['target']-(holding_period*(pairs['pe_tpremium_decay']+pairs['ce_tpremium_decay'])/2))/pairs['underlying_value']).map(lambda x:(period_delta['delta_max']>=-x).mean())\n",
    "    pairs['p_not_breakeven_tp'] = (1-p_ce_tp_be)*(1-p_pe_tp_be)\n",
    "    all_pairs.append(pairs)\n",
    "\n",
    "all_pairs = pd.concat(all_pairs)"
   ]
  },
  {
   "cell_type": "code",
   "execution_count": 116,
   "id": "fe44a266-bfcf-48ef-b14c-e64c91c79374",
   "metadata": {},
   "outputs": [],
   "source": [
    "all_pairs['p_dist'] = np.sqrt(all_pairs.p_not_breakeven_tp**2 + all_pairs.p_not_breakeven_volatility**2)\n",
    "\n",
    "all_pairs['spread_percent'] = (all_pairs['target']+all_pairs['spread'])/all_pairs['underlying_value']\n",
    "\n",
    "all_pairs['kelly_fraction'] = (1-all_pairs['p_not_breakeven_volatility']) - all_pairs['p_not_breakeven_tp']/(0.1)"
   ]
  },
  {
   "cell_type": "code",
   "execution_count": 117,
   "id": "138da542-20da-49af-b027-b7aa95ab5764",
   "metadata": {},
   "outputs": [],
   "source": [
    "disp_filter = (all_pairs['p_not_breakeven_tp']<.5) & (all_pairs['p_not_breakeven_volatility']<.5) & (all_pairs['p_not_breakeven_tp']<all_pairs['p_not_breakeven_volatility'])"
   ]
  },
  {
   "cell_type": "code",
   "execution_count": 118,
   "id": "c0f83ea2-276b-4d86-926e-8d662bab010f",
   "metadata": {},
   "outputs": [],
   "source": [
    "kelly_capital_filter = (all_pairs['kelly_fraction']>=(0.9*all_pairs['cost']/100000)) & (all_pairs['kelly_fraction']>0)"
   ]
  },
  {
   "cell_type": "code",
   "execution_count": 119,
   "id": "b91d7ba4-ae0d-46c5-977e-99e59c15db92",
   "metadata": {},
   "outputs": [
    {
     "data": {
      "application/vnd.plotly.v1+json": {
       "config": {
        "plotlyServerURL": "https://plot.ly"
       },
       "data": [
        {
         "customdata": [
          [
           "2022-01-13T00:00:00",
           17757.35,
           -2.8223374726077433,
           17800,
           16650,
           0.07278704311172558,
           123.9,
           4.05,
           142.50500000000002,
           6477.5
          ],
          [
           "2022-01-13T00:00:00",
           17757.35,
           -2.693498904309715,
           17800,
           16700,
           0.07000228074571939,
           123.9,
           4.55,
           143.05500000000004,
           6502.5
          ],
          [
           "2022-01-13T00:00:00",
           17757.35,
           -2.605040175310445,
           17800,
           16750,
           0.0672175183797132,
           123.9,
           5.05,
           143.60500000000002,
           6527.5
          ],
          [
           "2022-01-13T00:00:00",
           17757.35,
           -3.1945726807888972,
           17950,
           16750,
           0.07206874899689425,
           65.85,
           5.05,
           79.74999999999999,
           3624.9999999999995
          ],
          [
           "2022-01-13T00:00:00",
           17757.35,
           -3.420310445580715,
           18000,
           16750,
           0.0740203352414634,
           51.9,
           5.05,
           64.405,
           2927.5
          ],
          [
           "2022-01-13T00:00:00",
           17757.35,
           -3.9615230094959824,
           18150,
           16750,
           0.0807454378046274,
           24.1,
           5.05,
           33.825,
           1537.5
          ],
          [
           "2022-01-13T00:00:00",
           17757.35,
           -2.1603999269539806,
           17800,
           16900,
           0.05891898284372386,
           123.9,
           7.45,
           146.245,
           6647.5
          ],
          [
           "2022-01-13T00:00:00",
           17757.35,
           -2.729839298758217,
           17950,
           16900,
           0.06377021346090493,
           65.85,
           7.45,
           82.39,
           3744.9999999999995
          ],
          [
           "2022-01-13T00:00:00",
           17757.35,
           -2.950628195763331,
           18000,
           16900,
           0.06572179970547408,
           51.9,
           7.45,
           67.045,
           3047.5
          ],
          [
           "2022-01-13T00:00:00",
           17757.35,
           -3.5661468224981743,
           18150,
           16900,
           0.07244690226863806,
           24.1,
           7.45,
           36.465,
           1657.5
          ],
          [
           "2022-01-13T00:00:00",
           17757.35,
           -3.7064663988312643,
           18200,
           16900,
           0.07492812835248504,
           18.7,
           7.45,
           30.525000000000002,
           1387.5
          ],
          [
           "2022-01-13T00:00:00",
           17757.35,
           -4.224996347699051,
           18350,
           16900,
           0.08273109444821442,
           8.3,
           7.45,
           19.085000000000004,
           867.5
          ],
          [
           "2022-01-13T00:00:00",
           17757.35,
           -4.395266617969321,
           18400,
           16900,
           0.08543532678017836,
           6.5,
           7.45,
           17.105,
           777.5
          ],
          [
           "2022-01-13T00:00:00",
           17757.35,
           -1.5377556610664718,
           17800,
           17100,
           0.0479286042117771,
           123.9,
           11.85,
           151.085,
           6867.5
          ],
          [
           "2022-01-13T00:00:00",
           17757.35,
           -2.180894813732652,
           17950,
           17100,
           0.05277983482895816,
           65.85,
           11.85,
           87.23,
           3964.9999999999995
          ],
          [
           "2022-01-13T00:00:00",
           17757.35,
           -2.3767804967129296,
           18000,
           17100,
           0.054731421073527305,
           51.9,
           11.85,
           71.885,
           3267.5
          ],
          [
           "2022-01-13T00:00:00",
           17757.35,
           -2.882030679327976,
           18150,
           17100,
           0.061456523636691296,
           24.1,
           11.85,
           41.305,
           1877.5
          ],
          [
           "2022-01-13T00:00:00",
           17757.35,
           -3.0403287070854628,
           18200,
           17100,
           0.06393774972053826,
           18.7,
           11.85,
           35.365,
           1607.5
          ],
          [
           "2022-01-13T00:00:00",
           17757.35,
           -3.60536157779401,
           18350,
           17100,
           0.07174071581626763,
           8.3,
           11.85,
           23.925,
           1087.5
          ],
          [
           "2022-01-13T00:00:00",
           17757.35,
           -3.7397187728268806,
           18400,
           17100,
           0.07444494814823158,
           6.5,
           11.85,
           21.945,
           997.5
          ],
          [
           "2022-01-13T00:00:00",
           17757.35,
           -0.8890175310445582,
           17800,
           17350,
           0.03485655235719294,
           123.9,
           28.1,
           168.96,
           7680
          ],
          [
           "2022-01-13T00:00:00",
           17757.35,
           -1.4254857560262966,
           17950,
           17350,
           0.039707782974373995,
           65.85,
           28.1,
           105.105,
           4777.5
          ],
          [
           "2022-01-13T00:00:00",
           17757.35,
           -1.5467951059167275,
           18000,
           17350,
           0.04165936921894314,
           51.9,
           28.1,
           89.76,
           4080
          ],
          [
           "2022-01-13T00:00:00",
           17757.35,
           -2.115900292184076,
           18150,
           17350,
           0.04838447178210713,
           24.1,
           28.1,
           59.18,
           2690
          ],
          [
           "2022-01-13T00:00:00",
           17757.35,
           -2.2610482103725347,
           18200,
           17350,
           0.0508656978659541,
           18.7,
           28.1,
           53.24,
           2420
          ],
          [
           "2022-01-13T00:00:00",
           17757.35,
           -2.7191417092768444,
           18350,
           17350,
           0.05866866396168347,
           8.3,
           28.1,
           41.800000000000004,
           1900
          ],
          [
           "2022-01-13T00:00:00",
           17757.35,
           -2.885330533235938,
           18400,
           17350,
           0.06137289629364742,
           6.5,
           28.1,
           39.82000000000001,
           1810
          ],
          [
           "2022-01-13T00:00:00",
           17757.35,
           -3.6877319211102995,
           18650,
           17350,
           0.07519449692662476,
           2.35,
           28.1,
           35.255,
           1602.5
          ],
          [
           "2022-01-13T00:00:00",
           17757.35,
           -0.7596512052593135,
           17800,
           17400,
           0.03242488321737196,
           123.9,
           34.3,
           175.78000000000003,
           7990
          ],
          [
           "2022-01-13T00:00:00",
           17757.35,
           -1.2940686632578526,
           17950,
           17400,
           0.03727611383455302,
           65.85,
           34.3,
           111.925,
           5087.499999999999
          ],
          [
           "2022-01-13T00:00:00",
           17757.35,
           -1.4254601899196495,
           18000,
           17400,
           0.03922770007912217,
           51.9,
           34.3,
           96.58,
           4390
          ],
          [
           "2022-01-13T00:00:00",
           17757.35,
           -1.9053542731921107,
           18150,
           17400,
           0.045952802642286156,
           24.1,
           34.3,
           66,
           3000
          ],
          [
           "2022-01-13T00:00:00",
           17757.35,
           -2.100200876552227,
           18200,
           17400,
           0.04843402872613313,
           18.7,
           34.3,
           60.06000000000001,
           2730
          ],
          [
           "2022-01-13T00:00:00",
           17757.35,
           -2.6151661796932064,
           18350,
           17400,
           0.0562369948218625,
           8.3,
           34.3,
           48.620000000000005,
           2210
          ],
          [
           "2022-01-13T00:00:00",
           17757.35,
           -2.7101168736303873,
           18400,
           17400,
           0.05894122715382646,
           6.5,
           34.3,
           46.64,
           2120
          ],
          [
           "2022-01-13T00:00:00",
           17757.35,
           -0.4218955441928416,
           17800,
           17550,
           0.02571836450821773,
           123.9,
           62.4,
           206.69000000000003,
           9395
          ],
          [
           "2022-01-13T00:00:00",
           17757.35,
           -0.8140522279035791,
           17950,
           17550,
           0.030569595125398783,
           65.85,
           62.4,
           142.835,
           6492.5
          ],
          [
           "2022-01-13T00:00:00",
           17757.35,
           -0.9690650109569028,
           18000,
           17550,
           0.032521181369967934,
           51.9,
           62.4,
           127.49000000000002,
           5795
          ],
          [
           "2022-01-13T00:00:00",
           17757.35,
           -1.412264426588751,
           18150,
           17550,
           0.03924628393313192,
           24.1,
           62.4,
           96.91,
           4405
          ],
          [
           "2022-01-13T00:00:00",
           17757.35,
           -1.5341508400292185,
           18200,
           17550,
           0.04172751001697889,
           18.7,
           62.4,
           90.97000000000001,
           4135
          ],
          [
           "2022-01-13T00:00:00",
           17757.35,
           -2.044914170927684,
           18350,
           17550,
           0.04953047611270826,
           8.3,
           62.4,
           79.53,
           3615
          ],
          [
           "2022-01-13T00:00:00",
           17757.35,
           -2.1815230094959825,
           18400,
           17550,
           0.052234708444672207,
           6.5,
           62.4,
           77.55000000000001,
           3525
          ],
          [
           "2022-01-13T00:00:00",
           17757.35,
           -2.9180807158509854,
           18650,
           17550,
           0.06605630907764953,
           2.35,
           62.4,
           72.985,
           3317.5
          ],
          [
           "2022-01-13T00:00:00",
           17757.35,
           -0.2913148283418552,
           17800,
           17600,
           0.023745097100637203,
           123.9,
           76,
           221.65,
           10075
          ],
          [
           "2022-01-13T00:00:00",
           17757.35,
           -0.6749598246895543,
           17950,
           17600,
           0.028596327717818254,
           65.85,
           76,
           157.795,
           7172.5
          ],
          [
           "2022-01-13T00:00:00",
           17757.35,
           -0.8108016800584366,
           18000,
           17600,
           0.030547913962387412,
           51.9,
           76,
           142.45000000000002,
           6475
          ],
          [
           "2022-01-13T00:00:00",
           17757.35,
           -1.2823593864134408,
           18150,
           17600,
           0.03727301652555139,
           24.1,
           76,
           111.87000000000002,
           5085
          ],
          [
           "2022-01-13T00:00:00",
           17757.35,
           -1.4148502556610665,
           18200,
           17600,
           0.03975424260939837,
           18.7,
           76,
           105.93,
           4815
          ],
          [
           "2022-01-13T00:00:00",
           17757.35,
           -1.8050109569028485,
           18350,
           17600,
           0.04755720870512774,
           8.3,
           76,
           94.49000000000001,
           4295
          ],
          [
           "2022-01-13T00:00:00",
           17757.35,
           -2.0060664718772827,
           18400,
           17600,
           0.05026144103709169,
           6.5,
           76,
           92.51,
           4205
          ],
          [
           "2022-01-13T00:00:00",
           17757.35,
           -2.699225712198685,
           18650,
           17600,
           0.06408304167006902,
           2.35,
           76,
           87.94500000000001,
           3997.5
          ],
          [
           "2022-01-13T00:00:00",
           17757.35,
           -0.019495982468955342,
           17800,
           17750,
           0.018807141831410655,
           123.9,
           132.65,
           283.965,
           12907.5
          ],
          [
           "2022-01-13T00:00:00",
           17757.35,
           -0.30559532505478426,
           17950,
           17750,
           0.023658372448591713,
           65.85,
           132.65,
           220.11,
           10005
          ],
          [
           "2022-01-13T00:00:00",
           17757.35,
           -0.43065376186997795,
           18000,
           17750,
           0.02560995869316086,
           51.9,
           132.65,
           204.76500000000001,
           9307.5
          ],
          [
           "2022-01-13T00:00:00",
           17757.35,
           -0.7614408327246165,
           18150,
           17750,
           0.03233506125632485,
           24.1,
           132.65,
           174.185,
           7917.5
          ],
          [
           "2022-01-13T00:00:00",
           17757.35,
           -0.8870270270270271,
           18200,
           17750,
           0.03481628734017182,
           18.7,
           132.65,
           168.245,
           7647.5
          ],
          [
           "2022-01-13T00:00:00",
           17757.35,
           -1.3001917457998542,
           18350,
           17750,
           0.0426192534359012,
           8.3,
           132.65,
           156.80500000000004,
           7127.5
          ],
          [
           "2022-01-13T00:00:00",
           17757.35,
           -1.4181154127100073,
           18400,
           17750,
           0.04532348576786514,
           6.5,
           132.65,
           154.82500000000002,
           7037.5
          ],
          [
           "2022-01-13T00:00:00",
           17757.35,
           -2.1302045288531777,
           18650,
           17750,
           0.05914508640084247,
           2.35,
           132.65,
           150.26000000000002,
           6830
          ],
          [
           "2022-01-13T00:00:00",
           17757.35,
           -2.5773739956172386,
           18800,
           17750,
           0.06754273582488379,
           1.55,
           132.65,
           149.38000000000002,
           6790
          ],
          [
           "2022-01-13T00:00:00",
           17757.35,
           -2.691197954711468,
           18850,
           17750,
           0.07035847128090623,
           1.55,
           132.65,
           149.38000000000002,
           6790
          ],
          [
           "2022-01-20T00:00:00",
           17757.35,
           -1.2157962016070125,
           17800,
           16200,
           0.1030626754555156,
           198.95,
           8.65,
           230.12,
           10460
          ],
          [
           "2022-01-20T00:00:00",
           17757.35,
           -1.4127903579254928,
           17850,
           16200,
           0.10427710215769809,
           173.1,
           8.65,
           201.685,
           9167.5
          ],
          [
           "2022-01-20T00:00:00",
           17757.35,
           -1.706983199415632,
           17950,
           16200,
           0.107201525002323,
           129.4,
           8.65,
           153.615,
           6982.5
          ],
          [
           "2022-01-20T00:00:00",
           17757.35,
           -1.0095872899926952,
           17800,
           16400,
           0.09193291791849574,
           198.95,
           10.8,
           232.485,
           10567.5
          ],
          [
           "2022-01-20T00:00:00",
           17757.35,
           -1.1675018261504746,
           17850,
           16400,
           0.0931473446206782,
           173.1,
           10.8,
           204.05,
           9275
          ],
          [
           "2022-01-20T00:00:00",
           17757.35,
           -1.4864536157779402,
           17950,
           16400,
           0.0960717674653031,
           129.4,
           10.8,
           155.98000000000002,
           7090
          ],
          [
           "2022-01-20T00:00:00",
           17757.35,
           -1.731820672023375,
           18050,
           16400,
           0.0995227328402042,
           94.2,
           10.8,
           117.26,
           5330
          ],
          [
           "2022-01-20T00:00:00",
           17757.35,
           -0.8000620891161431,
           17800,
           16600,
           0.08087439848851322,
           198.95,
           14.1,
           236.11500000000004,
           10732.5
          ],
          [
           "2022-01-20T00:00:00",
           17757.35,
           -0.9423155588020453,
           17850,
           16600,
           0.0820888251906957,
           173.1,
           14.1,
           207.68000000000004,
           9440
          ],
          [
           "2022-01-20T00:00:00",
           17757.35,
           -1.227025200876552,
           17950,
           16600,
           0.0850132480353206,
           129.4,
           14.1,
           159.61,
           7255
          ],
          [
           "2022-01-20T00:00:00",
           17757.35,
           -1.5166581446311174,
           18050,
           16600,
           0.08846421341022169,
           94.2,
           14.1,
           120.89000000000001,
           5495
          ],
          [
           "2022-01-20T00:00:00",
           17757.35,
           -1.7318042366691018,
           18150,
           16600,
           0.09230234241032588,
           65.25,
           14.1,
           89.04500000000002,
           4047.5
          ],
          [
           "2022-01-20T00:00:00",
           17757.35,
           -0.7506300219138056,
           17800,
           16700,
           0.07538540379054308,
           198.95,
           16.4,
           238.645,
           10847.5
          ],
          [
           "2022-01-20T00:00:00",
           17757.35,
           -0.843599342585829,
           17850,
           16700,
           0.07659983049272556,
           173.1,
           16.4,
           210.21,
           9555
          ],
          [
           "2022-01-20T00:00:00",
           17757.35,
           -1.1090850986121255,
           17950,
           16700,
           0.07952425333735046,
           129.4,
           16.4,
           162.14000000000001,
           7370
          ],
          [
           "2022-01-20T00:00:00",
           17757.35,
           -1.3970270270270273,
           18050,
           16700,
           0.08297521871225155,
           94.2,
           16.4,
           123.42000000000002,
           5610
          ],
          [
           "2022-01-20T00:00:00",
           17757.35,
           -1.6199415631848064,
           18150,
           16700,
           0.08681334771235574,
           65.25,
           16.4,
           91.575,
           4162.5
          ],
          [
           "2022-01-20T00:00:00",
           17757.35,
           -1.7206245434623813,
           18200,
           16700,
           0.08894457787901912,
           54.2,
           16.4,
           79.42000000000002,
           3610
          ],
          [
           "2022-01-20T00:00:00",
           17757.35,
           -0.5917750182615047,
           17800,
           16850,
           0.06730058257566585,
           198.95,
           22.25,
           245.08000000000004,
           11140
          ],
          [
           "2022-01-20T00:00:00",
           17757.35,
           -0.7350693937180423,
           17850,
           16850,
           0.06851500927784833,
           173.1,
           22.25,
           216.645,
           9847.5
          ],
          [
           "2022-01-20T00:00:00",
           17757.35,
           -0.9325675675675678,
           17950,
           16850,
           0.07143943212247324,
           129.4,
           22.25,
           168.57500000000002,
           7662.5
          ],
          [
           "2022-01-20T00:00:00",
           17757.35,
           -1.1864499634769903,
           18050,
           16850,
           0.07489039749737433,
           94.2,
           22.25,
           129.85500000000002,
           5902.5
          ],
          [
           "2022-01-20T00:00:00",
           17757.35,
           -1.466121256391527,
           18150,
           16850,
           0.07872852649747851,
           65.25,
           22.25,
           98.01,
           4455
          ],
          [
           "2022-01-20T00:00:00",
           17757.35,
           -1.5664864864864865,
           18200,
           16850,
           0.0808597566641419,
           54.2,
           22.25,
           85.855,
           3902.5
          ],
          [
           "2022-01-20T00:00:00",
           17757.35,
           -0.5378378378378379,
           17800,
           16900,
           0.06466758835073928,
           198.95,
           25.2,
           248.32500000000002,
           11287.5
          ],
          [
           "2022-01-20T00:00:00",
           17757.35,
           -0.6671475529583641,
           17850,
           16900,
           0.06588201505292175,
           173.1,
           25.2,
           219.89000000000001,
           9995
          ],
          [
           "2022-01-20T00:00:00",
           17757.35,
           -0.8682231555880204,
           17950,
           16900,
           0.06880643789754665,
           129.4,
           25.2,
           171.82,
           7810
          ],
          [
           "2022-01-20T00:00:00",
           17757.35,
           -1.1094485025566105,
           18050,
           16900,
           0.07225740327244774,
           94.2,
           25.2,
           133.10000000000002,
           6050
          ],
          [
           "2022-01-20T00:00:00",
           17757.35,
           -1.3660299488677865,
           18150,
           16900,
           0.07609553227255195,
           65.25,
           25.2,
           101.25500000000001,
           4602.5
          ],
          [
           "2022-01-20T00:00:00",
           17757.35,
           -1.4846585098612126,
           18200,
           16900,
           0.07822676243921531,
           54.2,
           25.2,
           89.10000000000001,
           4050
          ],
          [
           "2022-01-20T00:00:00",
           17757.35,
           -1.6571804236669099,
           18300,
           16900,
           0.08282373214471754,
           37.5,
           25.2,
           70.73,
           3215
          ],
          [
           "2022-01-20T00:00:00",
           17757.35,
           -0.34992695398100804,
           17800,
           17050,
           0.05695754152505864,
           198.95,
           37.1,
           261.415,
           11882.5
          ],
          [
           "2022-01-20T00:00:00",
           17757.35,
           -0.4865230094959824,
           17850,
           17050,
           0.05817196822724112,
           173.1,
           37.1,
           232.98000000000002,
           10590
          ],
          [
           "2022-01-20T00:00:00",
           17757.35,
           -0.7377940102264424,
           17950,
           17050,
           0.06109639107186603,
           129.4,
           37.1,
           184.91,
           8405
          ],
          [
           "2022-01-20T00:00:00",
           17757.35,
           -0.9202647918188458,
           18050,
           17050,
           0.06454735644676712,
           94.2,
           37.1,
           146.19000000000003,
           6645
          ],
          [
           "2022-01-20T00:00:00",
           17757.35,
           -1.128257852447042,
           18150,
           17050,
           0.0683854854468713,
           65.25,
           37.1,
           114.34500000000001,
           5197.5
          ],
          [
           "2022-01-20T00:00:00",
           17757.35,
           -1.2223319941563184,
           18200,
           17050,
           0.07051671561353469,
           54.2,
           37.1,
           102.19000000000001,
           4645
          ],
          [
           "2022-01-20T00:00:00",
           17757.35,
           -1.4715430971512056,
           18300,
           17050,
           0.07511368531903691,
           37.5,
           37.1,
           83.82000000000001,
           3810
          ],
          [
           "2022-01-20T00:00:00",
           17757.35,
           -1.5414207450693937,
           18350,
           17050,
           0.07747721366082214,
           30.2,
           37.1,
           75.79,
           3445
          ],
          [
           "2022-01-20T00:00:00",
           17757.35,
           -1.6187363038714389,
           18400,
           17050,
           0.0799956074526886,
           25.4,
           37.1,
           70.51,
           3205
          ],
          [
           "2022-01-20T00:00:00",
           17757.35,
           -0.29420014609203815,
           17800,
           17100,
           0.05438339617116293,
           198.95,
           41,
           265.70500000000004,
           12077.5
          ],
          [
           "2022-01-20T00:00:00",
           17757.35,
           -0.420843681519357,
           17850,
           17100,
           0.05559782287334541,
           173.1,
           41,
           237.27,
           10785
          ],
          [
           "2022-01-20T00:00:00",
           17757.35,
           -0.6643115412710008,
           17950,
           17100,
           0.058522245717970316,
           129.4,
           41,
           189.20000000000002,
           8600
          ],
          [
           "2022-01-20T00:00:00",
           17757.35,
           -0.8360573411249086,
           18050,
           17100,
           0.061973211092871405,
           94.2,
           41,
           150.48000000000002,
           6840
          ],
          [
           "2022-01-20T00:00:00",
           17757.35,
           -1.0635062089116138,
           18150,
           17100,
           0.0658113400929756,
           65.25,
           41,
           118.635,
           5392.5
          ],
          [
           "2022-01-20T00:00:00",
           17757.35,
           -1.156833455076698,
           18200,
           17100,
           0.06794257025963897,
           54.2,
           41,
           106.48,
           4840
          ],
          [
           "2022-01-20T00:00:00",
           17757.35,
           -1.3691362308254198,
           18300,
           17100,
           0.07253953996514119,
           37.5,
           41,
           88.11,
           4005
          ],
          [
           "2022-01-20T00:00:00",
           17757.35,
           -1.4759569028487949,
           18350,
           17100,
           0.07490306830692643,
           30.2,
           41,
           80.08,
           3640
          ],
          [
           "2022-01-20T00:00:00",
           17757.35,
           -1.5606099342585826,
           18400,
           17100,
           0.0774214620987929,
           25.4,
           41,
           74.80000000000001,
           3400
          ],
          [
           "2022-01-20T00:00:00",
           17757.35,
           -0.20599342585829072,
           17800,
           17250,
           0.047187502639751994,
           198.95,
           61.2,
           287.925,
           13087.5
          ],
          [
           "2022-01-20T00:00:00",
           17757.35,
           -0.2642293644996343,
           17850,
           17250,
           0.04840192934193447,
           173.1,
           61.2,
           259.49,
           11795
          ],
          [
           "2022-01-20T00:00:00",
           17757.35,
           -0.4639335281227175,
           17950,
           17250,
           0.05132635218655938,
           129.4,
           61.2,
           211.42000000000002,
           9610
          ],
          [
           "2022-01-20T00:00:00",
           17757.35,
           -0.654791818845873,
           18050,
           17250,
           0.054777317561460474,
           94.2,
           61.2,
           172.70000000000002,
           7850
          ],
          [
           "2022-01-20T00:00:00",
           17757.35,
           -0.8122571219868516,
           18150,
           17250,
           0.05861544656156465,
           65.25,
           61.2,
           140.85500000000002,
           6402.5
          ],
          [
           "2022-01-20T00:00:00",
           17757.35,
           -0.9053140978816654,
           18200,
           17250,
           0.06074667672822804,
           54.2,
           61.2,
           128.70000000000002,
           5850
          ],
          [
           "2022-01-20T00:00:00",
           17757.35,
           -1.0855916727538348,
           18300,
           17250,
           0.06534364643373027,
           37.5,
           61.2,
           110.33000000000001,
           5015
          ],
          [
           "2022-01-20T00:00:00",
           17757.35,
           -1.1756099342585828,
           18350,
           17250,
           0.0677071747755155,
           30.2,
           61.2,
           102.30000000000001,
           4650
          ],
          [
           "2022-01-20T00:00:00",
           17757.35,
           -1.2370708546384224,
           18400,
           17250,
           0.07022556856738196,
           25.4,
           61.2,
           97.02000000000001,
           4410
          ],
          [
           "2022-01-20T00:00:00",
           17757.35,
           -1.453670562454346,
           18500,
           17250,
           0.07535217811216202,
           17.25,
           61.2,
           88.055,
           4002.5
          ],
          [
           "2022-01-20T00:00:00",
           17757.35,
           -1.495708546384222,
           18550,
           17250,
           0.07795110193807071,
           13.75,
           61.2,
           84.205,
           3827.5
          ],
          [
           "2022-01-20T00:00:00",
           17757.35,
           -1.5715759678597516,
           18600,
           17250,
           0.08064604234302979,
           11.8,
           61.2,
           82.06,
           3730
          ],
          [
           "2022-01-20T00:00:00",
           17757.35,
           -1.6123301680058437,
           18650,
           17250,
           0.08336576122000186,
           10.25,
           61.2,
           80.355,
           3652.5
          ],
          [
           "2022-01-20T00:00:00",
           17757.35,
           -0.16201241782322862,
           17800,
           17300,
           0.04484565546097813,
           198.95,
           68.85,
           296.34,
           13470
          ],
          [
           "2022-01-20T00:00:00",
           17757.35,
           -0.21848429510591671,
           17850,
           17300,
           0.04606008216316061,
           173.1,
           68.85,
           267.90500000000003,
           12177.5
          ],
          [
           "2022-01-20T00:00:00",
           17757.35,
           -0.3809422936449961,
           17950,
           17300,
           0.04898450500778551,
           129.4,
           68.85,
           219.835,
           9992.5
          ],
          [
           "2022-01-20T00:00:00",
           17757.35,
           -0.5900894813732651,
           18050,
           17300,
           0.05243547038268661,
           94.2,
           68.85,
           181.115,
           8232.5
          ],
          [
           "2022-01-20T00:00:00",
           17757.35,
           -0.7510737764791819,
           18150,
           17300,
           0.05627359938279079,
           65.25,
           68.85,
           149.27,
           6785
          ],
          [
           "2022-01-20T00:00:00",
           17757.35,
           -0.8233747260774287,
           18200,
           17300,
           0.058404829549454175,
           54.2,
           68.85,
           137.115,
           6232.5
          ],
          [
           "2022-01-20T00:00:00",
           17757.35,
           -1.0032943754565373,
           18300,
           17300,
           0.06300179925495641,
           37.5,
           68.85,
           118.74500000000002,
           5397.5
          ],
          [
           "2022-01-20T00:00:00",
           17757.35,
           -1.0869247626004381,
           18350,
           17300,
           0.06536532759674163,
           30.2,
           68.85,
           110.71500000000002,
           5032.5
          ],
          [
           "2022-01-20T00:00:00",
           17757.35,
           -1.1605661066471873,
           18400,
           17300,
           0.0678837213886081,
           25.4,
           68.85,
           105.435,
           4792.5
          ],
          [
           "2022-01-20T00:00:00",
           17757.35,
           -1.325836376917458,
           18500,
           17300,
           0.07301033093338816,
           17.25,
           68.85,
           96.47000000000001,
           4385
          ],
          [
           "2022-01-20T00:00:00",
           17757.35,
           -1.3971402483564646,
           18550,
           17300,
           0.07560925475929685,
           13.75,
           68.85,
           92.62,
           4210
          ],
          [
           "2022-01-20T00:00:00",
           17757.35,
           -1.4726333089846606,
           18600,
           17300,
           0.07830419516425594,
           11.8,
           68.85,
           90.47500000000001,
           4112.5
          ],
          [
           "2022-01-20T00:00:00",
           17757.35,
           -1.5516088385682978,
           18650,
           17300,
           0.08102391404122801,
           10.25,
           68.85,
           88.77,
           4034.9999999999995
          ],
          [
           "2022-01-20T00:00:00",
           17757.35,
           -1.7149506939371801,
           18800,
           17300,
           0.08923882223417347,
           6.5,
           68.85,
           84.645,
           3847.4999999999995
          ],
          [
           "2022-01-20T00:00:00",
           17757.35,
           -0.053725346968590215,
           17800,
           17400,
           0.040350896952529525,
           198.95,
           87.2,
           316.52500000000003,
           14387.5
          ],
          [
           "2022-01-20T00:00:00",
           17757.35,
           -0.12939371804236655,
           17850,
           17400,
           0.041565323654711994,
           173.1,
           87.2,
           288.09,
           13095
          ],
          [
           "2022-01-20T00:00:00",
           17757.35,
           -0.2552684441197951,
           17950,
           17400,
           0.044489746499336895,
           129.4,
           87.2,
           240.02,
           10910
          ],
          [
           "2022-01-20T00:00:00",
           17757.35,
           -0.42975529583637684,
           18050,
           17400,
           0.04794071187423799,
           94.2,
           87.2,
           201.3,
           9150
          ],
          [
           "2022-01-20T00:00:00",
           17757.35,
           -0.6178889700511322,
           18150,
           17400,
           0.05177884087434218,
           65.25,
           87.2,
           169.455,
           7702.5
          ],
          [
           "2022-01-20T00:00:00",
           17757.35,
           -0.7132505478451423,
           18200,
           17400,
           0.05391007104100556,
           54.2,
           87.2,
           157.3,
           7150
          ],
          [
           "2022-01-20T00:00:00",
           17757.35,
           -0.8164554419284148,
           18300,
           17400,
           0.05850704074650779,
           37.5,
           87.2,
           138.93,
           6315
          ],
          [
           "2022-01-20T00:00:00",
           17757.35,
           -0.901418918918919,
           18350,
           17400,
           0.060870569088293025,
           30.2,
           87.2,
           130.9,
           5950
          ],
          [
           "2022-01-20T00:00:00",
           17757.35,
           -0.9645781592403213,
           18400,
           17400,
           0.0633889628801595,
           25.4,
           87.2,
           125.62000000000002,
           5710
          ],
          [
           "2022-01-20T00:00:00",
           17757.35,
           -1.098918918918919,
           18500,
           17400,
           0.06851557242493954,
           17.25,
           87.2,
           116.655,
           5302.5
          ],
          [
           "2022-01-20T00:00:00",
           17757.35,
           -1.1705332359386413,
           18550,
           17400,
           0.07111449625084824,
           13.75,
           87.2,
           112.805,
           5127.5
          ],
          [
           "2022-01-20T00:00:00",
           17757.35,
           -1.2260865595325057,
           18600,
           17400,
           0.07380943665580733,
           11.8,
           87.2,
           110.66,
           5030
          ],
          [
           "2022-01-20T00:00:00",
           17757.35,
           -1.3257669831994157,
           18650,
           17400,
           0.07652915553277939,
           10.25,
           87.2,
           108.95500000000001,
           4952.5
          ],
          [
           "2022-01-20T00:00:00",
           17757.35,
           -1.532753834915997,
           18800,
           17400,
           0.08474406372572485,
           6.5,
           87.2,
           104.83,
           4765
          ],
          [
           "2022-01-20T00:00:00",
           17757.35,
           -1.5894338933528123,
           18850,
           17400,
           0.08751953416472616,
           5.85,
           87.2,
           104.11500000000001,
           4732.5
          ],
          [
           "2022-01-20T00:00:00",
           17757.35,
           -1.7348283418553692,
           19000,
           17400,
           0.09588621049875122,
           4.55,
           87.2,
           102.685,
           4667.5
          ],
          [
           "2022-01-20T00:00:00",
           17757.35,
           0.10369612856099353,
           17800,
           17550,
           0.03423286695368397,
           198.95,
           124.8,
           357.88500000000005,
           16267.5
          ],
          [
           "2022-01-20T00:00:00",
           17757.35,
           0.03641344046749451,
           17850,
           17550,
           0.03544729365586645,
           173.1,
           124.8,
           329.45000000000005,
           14975
          ],
          [
           "2022-01-20T00:00:00",
           17757.35,
           -0.10744521548575614,
           17950,
           17550,
           0.03837171650049136,
           129.4,
           124.8,
           281.38000000000005,
           12790
          ],
          [
           "2022-01-20T00:00:00",
           17757.35,
           -0.22784149013878718,
           18050,
           17550,
           0.04182268187539245,
           94.2,
           124.8,
           242.66000000000003,
           11030
          ],
          [
           "2022-01-20T00:00:00",
           17757.35,
           -0.3292731921110297,
           18150,
           17550,
           0.04566081087549663,
           65.25,
           124.8,
           210.81500000000003,
           9582.5
          ],
          [
           "2022-01-20T00:00:00",
           17757.35,
           -0.4336102994886779,
           18200,
           17550,
           0.04779204104216001,
           54.2,
           124.8,
           198.66,
           9030
          ],
          [
           "2022-01-20T00:00:00",
           17757.35,
           -0.581988677867056,
           18300,
           17550,
           0.05238901074766224,
           37.5,
           124.8,
           180.29000000000002,
           8195
          ],
          [
           "2022-01-20T00:00:00",
           17757.35,
           -0.6451460920379842,
           18350,
           17550,
           0.05475253908944747,
           30.2,
           124.8,
           172.26000000000002,
           7830
          ],
          [
           "2022-01-20T00:00:00",
           17757.35,
           -0.713491599707816,
           18400,
           17550,
           0.05727093288131394,
           25.4,
           124.8,
           166.98000000000002,
           7590
          ],
          [
           "2022-01-20T00:00:00",
           17757.35,
           -0.8076040905770634,
           18500,
           17550,
           0.062397542426093994,
           17.25,
           124.8,
           158.01500000000001,
           7182.5
          ],
          [
           "2022-01-20T00:00:00",
           17757.35,
           -0.8468407596785974,
           18550,
           17550,
           0.0649964662520027,
           13.75,
           124.8,
           154.16500000000002,
           7007.5
          ],
          [
           "2022-01-20T00:00:00",
           17757.35,
           -0.9085956902848795,
           18600,
           17550,
           0.06769140665696177,
           11.8,
           124.8,
           152.02,
           6910
          ],
          [
           "2022-01-20T00:00:00",
           17757.35,
           -0.9699123447772097,
           18650,
           17550,
           0.07041112553393385,
           10.25,
           124.8,
           150.31500000000003,
           6832.5
          ],
          [
           "2022-01-20T00:00:00",
           17757.35,
           -1.1543827611395177,
           18800,
           17550,
           0.0786260337268793,
           6.5,
           124.8,
           146.19000000000003,
           6645
          ],
          [
           "2022-01-20T00:00:00",
           17757.35,
           -1.2122863403944484,
           18850,
           17550,
           0.08140150416588061,
           5.85,
           124.8,
           145.47500000000002,
           6612.5
          ],
          [
           "2022-01-20T00:00:00",
           17757.35,
           -1.4393535427319208,
           19000,
           17550,
           0.08976818049990569,
           4.55,
           124.8,
           144.045,
           6547.5
          ],
          [
           "2022-01-20T00:00:00",
           17757.35,
           -1.4716179693206721,
           19050,
           17550,
           0.0925808186469265,
           4.5,
           124.8,
           143.99,
           6545
          ],
          [
           "2022-01-20T00:00:00",
           17757.35,
           -1.613595690284879,
           19200,
           17550,
           0.10096917614396293,
           3.55,
           124.8,
           142.945,
           6497.5
          ],
          [
           "2022-01-20T00:00:00",
           17757.35,
           0.13883308984660347,
           17800,
           17600,
           0.032377297288165185,
           198.95,
           140.3,
           374.93500000000006,
           17042.5
          ],
          [
           "2022-01-20T00:00:00",
           17757.35,
           0.08535062089116141,
           17850,
           17600,
           0.03359172399034766,
           173.1,
           140.3,
           346.5,
           15750
          ],
          [
           "2022-01-20T00:00:00",
           17757.35,
           -0.05257487216946666,
           17950,
           17600,
           0.03651614683497257,
           129.4,
           140.3,
           298.43000000000006,
           13565
          ],
          [
           "2022-01-20T00:00:00",
           17757.35,
           -0.1705624543462383,
           18050,
           17600,
           0.039967112209873666,
           94.2,
           140.3,
           259.71000000000004,
           11805
          ],
          [
           "2022-01-20T00:00:00",
           17757.35,
           -0.2457925493060631,
           18150,
           17600,
           0.04380524120997784,
           65.25,
           140.3,
           227.86500000000004,
           10357.5
          ],
          [
           "2022-01-20T00:00:00",
           17757.35,
           -0.31050766983199407,
           18200,
           17600,
           0.045936471376641225,
           54.2,
           140.3,
           215.71,
           9805
          ],
          [
           "2022-01-20T00:00:00",
           17757.35,
           -0.4844411979547115,
           18300,
           17600,
           0.05053344108214346,
           37.5,
           140.3,
           197.34000000000003,
           8970
          ],
          [
           "2022-01-20T00:00:00",
           17757.35,
           -0.5496895544192839,
           18350,
           17600,
           0.052896969423928686,
           30.2,
           140.3,
           189.31,
           8605
          ],
          [
           "2022-01-20T00:00:00",
           17757.35,
           -0.6088568298027757,
           18400,
           17600,
           0.055415363215795155,
           25.4,
           140.3,
           184.03000000000003,
           8365
          ],
          [
           "2022-01-20T00:00:00",
           17757.35,
           -0.7163860482103724,
           18500,
           17600,
           0.060541972760575206,
           17.25,
           140.3,
           175.06500000000003,
           7957.500000000001
          ],
          [
           "2022-01-20T00:00:00",
           17757.35,
           -0.7503305332359387,
           18550,
           17600,
           0.06314089658648392,
           13.75,
           140.3,
           171.21500000000003,
           7782.500000000001
          ],
          [
           "2022-01-20T00:00:00",
           17757.35,
           -0.804972607742878,
           18600,
           17600,
           0.06583583699144298,
           11.8,
           140.3,
           169.07000000000002,
           7685.000000000001
          ],
          [
           "2022-01-20T00:00:00",
           17757.35,
           -0.8491033601168736,
           18650,
           17600,
           0.06855555586841505,
           10.25,
           140.3,
           167.365,
           7607.500000000001
          ],
          [
           "2022-01-20T00:00:00",
           17757.35,
           -1.0266782322863404,
           18800,
           17600,
           0.07677046406136051,
           6.5,
           140.3,
           163.24,
           7420.000000000001
          ],
          [
           "2022-01-20T00:00:00",
           17757.35,
           -1.077554784514244,
           18850,
           17600,
           0.07954593450036183,
           5.85,
           140.3,
           162.52500000000003,
           7387.500000000001
          ],
          [
           "2022-01-20T00:00:00",
           17757.35,
           -1.2348685171658143,
           19000,
           17600,
           0.0879126108343869,
           4.55,
           140.3,
           161.09500000000003,
           7322.500000000001
          ],
          [
           "2022-01-20T00:00:00",
           17757.35,
           -1.3349726077428778,
           19050,
           17600,
           0.0907252489814077,
           4.5,
           140.3,
           161.04000000000002,
           7320.000000000001
          ],
          [
           "2022-01-20T00:00:00",
           17757.35,
           -1.4999726077428779,
           19200,
           17600,
           0.09911360647844415,
           3.55,
           140.3,
           159.99500000000003,
           7272.500000000001
          ],
          [
           "2022-01-20T00:00:00",
           17757.35,
           0.28739225712198696,
           17800,
           17750,
           0.0275725263060085,
           198.95,
           199.1,
           439.615,
           19982.5
          ],
          [
           "2022-01-20T00:00:00",
           17757.35,
           0.2516983199415629,
           17850,
           17750,
           0.02878695300819098,
           173.1,
           199.1,
           411.18000000000006,
           18690
          ],
          [
           "2022-01-20T00:00:00",
           17757.35,
           0.1344174579985391,
           17950,
           17750,
           0.03171137585281589,
           129.4,
           199.1,
           363.11000000000007,
           16505
          ],
          [
           "2022-01-20T00:00:00",
           17757.35,
           0.043487947406866234,
           18050,
           17750,
           0.03516234122771698,
           94.2,
           199.1,
           324.39,
           14745
          ],
          [
           "2022-01-20T00:00:00",
           17757.35,
           -0.07818115412710014,
           18150,
           17750,
           0.03900047022782116,
           65.25,
           199.1,
           292.545,
           13297.5
          ],
          [
           "2022-01-20T00:00:00",
           17757.35,
           -0.1224762600438275,
           18200,
           17750,
           0.04113170039448455,
           54.2,
           199.1,
           280.39000000000004,
           12745
          ],
          [
           "2022-01-20T00:00:00",
           17757.35,
           -0.20224616508400295,
           18300,
           17750,
           0.04572867009998677,
           37.5,
           199.1,
           262.02,
           11910
          ],
          [
           "2022-01-20T00:00:00",
           17757.35,
           -0.23043644996347667,
           18350,
           17750,
           0.048092198441772004,
           30.2,
           199.1,
           253.99000000000004,
           11545
          ],
          [
           "2022-01-20T00:00:00",
           17757.35,
           -0.2654127100073046,
           18400,
           17750,
           0.05061059223363847,
           25.4,
           199.1,
           248.71,
           11305
          ],
          [
           "2022-01-20T00:00:00",
           17757.35,
           -0.38841490138787427,
           18500,
           17750,
           0.05573720177841852,
           17.25,
           199.1,
           239.745,
           10897.5
          ],
          [
           "2022-01-20T00:00:00",
           17757.35,
           -0.4489737034331629,
           18550,
           17750,
           0.05833612560432722,
           13.75,
           199.1,
           235.895,
           10722.5
          ],
          [
           "2022-01-20T00:00:00",
           17757.35,
           -0.49805332359386423,
           18600,
           17750,
           0.0610310660092863,
           11.8,
           199.1,
           233.75000000000003,
           10625
          ],
          [
           "2022-01-20T00:00:00",
           17757.35,
           -0.5567421475529581,
           18650,
           17750,
           0.06375078488625838,
           10.25,
           199.1,
           232.04500000000002,
           10547.5
          ],
          [
           "2022-01-20T00:00:00",
           17757.35,
           -0.7200438276113952,
           18800,
           17750,
           0.07196569307920384,
           6.5,
           199.1,
           227.92000000000002,
           10360
          ],
          [
           "2022-01-20T00:00:00",
           17757.35,
           -0.7455478451424399,
           18850,
           17750,
           0.07474116351820514,
           5.85,
           199.1,
           227.20500000000004,
           10327.5
          ],
          [
           "2022-01-20T00:00:00",
           17757.35,
           -0.8508692476260045,
           19000,
           17750,
           0.08310783985223022,
           4.55,
           199.1,
           225.775,
           10262.5
          ],
          [
           "2022-01-20T00:00:00",
           17757.35,
           -0.9033601168736303,
           19050,
           17750,
           0.08592047799925102,
           4.5,
           199.1,
           225.72,
           10260
          ],
          [
           "2022-01-20T00:00:00",
           17757.35,
           -1.0714170927684439,
           19200,
           17750,
           0.09430883549628746,
           3.55,
           199.1,
           224.675,
           10212.5
          ],
          [
           "2022-01-27T00:00:00",
           17757.35,
           -0.7573922571219871,
           17850,
           15950,
           0.12228316725187037,
           233.1,
           12.05,
           271.425,
           12337.5
          ],
          [
           "2022-01-27T00:00:00",
           17757.35,
           -0.7224579985390793,
           17850,
           16000,
           0.11954176721188692,
           233.1,
           13.25,
           272.745,
           12397.5
          ],
          [
           "2022-01-27T00:00:00",
           17757.35,
           -0.6354236669101533,
           17850,
           16150,
           0.11124632898489922,
           233.1,
           15.7,
           275.44000000000005,
           12520
          ],
          [
           "2022-01-27T00:00:00",
           17757.35,
           -0.5742695398100803,
           17850,
           16250,
           0.10581308584895834,
           233.1,
           18.9,
           278.96000000000004,
           12680
          ],
          [
           "2022-01-27T00:00:00",
           17757.35,
           -0.5333637691745796,
           17850,
           16300,
           0.10305310195496514,
           233.1,
           19.8,
           279.95000000000005,
           12725
          ],
          [
           "2022-01-27T00:00:00",
           17757.35,
           -0.43348429510591635,
           17850,
           16450,
           0.09488775070604567,
           233.1,
           24.35,
           284.95500000000004,
           12952.5
          ],
          [
           "2022-01-27T00:00:00",
           17757.35,
           -0.393754565376187,
           17850,
           16500,
           0.09218351837408172,
           233.1,
           26.15,
           286.93500000000006,
           13042.5
          ],
          [
           "2022-01-27T00:00:00",
           17757.35,
           -0.3531592403214022,
           17850,
           16650,
           0.08412037832221589,
           233.1,
           32.35,
           293.75500000000005,
           13352.5
          ],
          [
           "2022-01-27T00:00:00",
           17757.35,
           -0.5415558802045286,
           17950,
           16650,
           0.0865956913616052,
           182.15,
           32.35,
           237.71,
           10805
          ],
          [
           "2022-01-27T00:00:00",
           17757.35,
           -0.3249196493791088,
           17850,
           16700,
           0.08148118947928604,
           233.1,
           35.2,
           296.89,
           13495
          ],
          [
           "2022-01-27T00:00:00",
           17757.35,
           -0.5033235938641345,
           17950,
           16700,
           0.08395650251867537,
           182.15,
           35.2,
           240.845,
           10947.5
          ],
          [
           "2022-01-27T00:00:00",
           17757.35,
           -0.7102483564645725,
           18050,
           16700,
           0.08711632084742374,
           142.25,
           35.2,
           196.95500000000004,
           8952.5
          ],
          [
           "2022-01-27T00:00:00",
           17757.35,
           -0.3082870708546386,
           17850,
           16750,
           0.07890084950738709,
           233.1,
           39,
           301.07,
           13685
          ],
          [
           "2022-01-27T00:00:00",
           17757.35,
           -0.4476680058436815,
           17950,
           16750,
           0.08137616254677642,
           182.15,
           39,
           245.025,
           11137.5
          ],
          [
           "2022-01-27T00:00:00",
           17757.35,
           -0.6547808619430238,
           18050,
           16750,
           0.08453598087552479,
           142.25,
           39,
           201.13500000000002,
           9142.5
          ],
          [
           "2022-01-27T00:00:00",
           17757.35,
           -0.29021913805697597,
           17850,
           16800,
           0.07629263375447351,
           233.1,
           42.35,
           304.75500000000005,
           13852.5
          ],
          [
           "2022-01-27T00:00:00",
           17757.35,
           -0.41175493060628177,
           17950,
           16800,
           0.07876794679386283,
           182.15,
           42.35,
           248.71,
           11305
          ],
          [
           "2022-01-27T00:00:00",
           17757.35,
           -0.6229912344777211,
           18050,
           16800,
           0.0819277651226112,
           142.25,
           42.35,
           204.82,
           9310
          ],
          [
           "2022-01-27T00:00:00",
           17757.35,
           -0.23131848064280502,
           17850,
           16900,
           0.0711846080637032,
           233.1,
           50.8,
           314.05,
           14275
          ],
          [
           "2022-01-27T00:00:00",
           17757.35,
           -0.3617165814463108,
           17950,
           16900,
           0.07365992110309254,
           182.15,
           50.8,
           258.00500000000005,
           11727.5
          ],
          [
           "2022-01-27T00:00:00",
           17757.35,
           -0.5202556610664717,
           18050,
           16900,
           0.07681973943184091,
           142.25,
           50.8,
           214.11500000000004,
           9732.5
          ],
          [
           "2022-01-27T00:00:00",
           17757.35,
           -0.19476442658875093,
           17850,
           16950,
           0.06872196583386597,
           233.1,
           56.5,
           320.32,
           14560
          ],
          [
           "2022-01-27T00:00:00",
           17757.35,
           -0.334127100073046,
           17950,
           16950,
           0.0711972788732553,
           182.15,
           56.5,
           264.27500000000003,
           12012.5
          ],
          [
           "2022-01-27T00:00:00",
           17757.35,
           -0.4619284149013879,
           18050,
           16950,
           0.07435709720200369,
           142.25,
           56.5,
           220.38500000000002,
           10017.5
          ],
          [
           "2022-01-27T00:00:00",
           17757.35,
           -0.15837837837837843,
           17850,
           17000,
           0.06626861553103364,
           233.1,
           62.35,
           326.75500000000005,
           14852.5
          ],
          [
           "2022-01-27T00:00:00",
           17757.35,
           -0.301948502556611,
           17950,
           17000,
           0.06874392857042295,
           182.15,
           62.35,
           270.71000000000004,
           12305
          ],
          [
           "2022-01-27T00:00:00",
           17757.35,
           -0.42220598977355706,
           18050,
           17000,
           0.07190374689917133,
           142.25,
           62.35,
           226.82,
           10310
          ],
          [
           "2022-01-27T00:00:00",
           17757.35,
           -0.7072899926953979,
           18200,
           17000,
           0.0772846173556302,
           92.75,
           62.35,
           172.37,
           7835
          ],
          [
           "2022-01-27T00:00:00",
           17757.35,
           -0.08833089846603359,
           17850,
           17100,
           0.06138359608838031,
           233.1,
           74.4,
           340.01000000000005,
           15455
          ],
          [
           "2022-01-27T00:00:00",
           17757.35,
           -0.241953981008035,
           17950,
           17100,
           0.06385890912776963,
           182.15,
           74.4,
           283.965,
           12907.5
          ],
          [
           "2022-01-27T00:00:00",
           17757.35,
           -0.3489755295836374,
           18050,
           17100,
           0.06701872745651802,
           142.25,
           74.4,
           240.07500000000002,
           10912.5
          ],
          [
           "2022-01-27T00:00:00",
           17757.35,
           -0.6082706355003653,
           18200,
           17100,
           0.07239959791297688,
           92.75,
           74.4,
           185.62500000000003,
           8437.5
          ],
          [
           "2022-01-27T00:00:00",
           17757.35,
           -0.050414536157779244,
           17850,
           17150,
           0.05900458120158695,
           233.1,
           81.45,
           347.765,
           15807.5
          ],
          [
           "2022-01-27T00:00:00",
           17757.35,
           -0.19894996347699068,
           17950,
           17150,
           0.06147989424097628,
           182.15,
           81.45,
           291.72,
           13260
          ],
          [
           "2022-01-27T00:00:00",
           17757.35,
           -0.324419284149014,
           18050,
           17150,
           0.06463971256972464,
           142.25,
           81.45,
           247.83000000000004,
           11265
          ],
          [
           "2022-01-27T00:00:00",
           17757.35,
           -0.5282505478451422,
           18200,
           17150,
           0.07002058302618354,
           92.75,
           81.45,
           193.38000000000002,
           8790
          ],
          [
           "2022-01-27T00:00:00",
           17757.35,
           -0.7566362308254202,
           18350,
           17150,
           0.07629967309311357,
           57.75,
           81.45,
           154.88000000000002,
           7040
          ],
          [
           "2022-01-27T00:00:00",
           17757.35,
           0.0771512052593134,
           17850,
           17350,
           0.05002745342069622,
           233.1,
           118.35,
           388.355,
           17652.5
          ],
          [
           "2022-01-27T00:00:00",
           17757.35,
           -0.024656683710737703,
           17950,
           17350,
           0.05250276646008555,
           182.15,
           118.35,
           332.31000000000006,
           15105
          ],
          [
           "2022-01-27T00:00:00",
           17757.35,
           -0.1621804236669102,
           18050,
           17350,
           0.05566258478883393,
           142.25,
           118.35,
           288.42,
           13110
          ],
          [
           "2022-01-27T00:00:00",
           17757.35,
           -0.32173119065010936,
           18200,
           17350,
           0.0610434552452928,
           92.75,
           118.35,
           233.97,
           10635
          ],
          [
           "2022-01-27T00:00:00",
           17757.35,
           -0.48490504017531044,
           18350,
           17350,
           0.06732254531222283,
           57.75,
           118.35,
           195.47,
           8885
          ],
          [
           "2022-01-27T00:00:00",
           17757.35,
           -0.5450328707085466,
           18400,
           17350,
           0.0696024463109642,
           49.1,
           118.35,
           185.95500000000004,
           8452.5
          ],
          [
           "2022-01-27T00:00:00",
           17757.35,
           -0.7021365960555146,
           18550,
           17350,
           0.07688196718541901,
           30.25,
           118.35,
           165.22,
           7510
          ],
          [
           "2022-01-27T00:00:00",
           17757.35,
           -0.8224105186267348,
           18650,
           17350,
           0.0819776036401828,
           21.6,
           118.35,
           155.705,
           7077.5
          ],
          [
           "2022-01-27T00:00:00",
           17757.35,
           -0.8380460189919647,
           18700,
           17350,
           0.08462608441011751,
           18.9,
           118.35,
           152.735,
           6942.5
          ],
          [
           "2022-01-27T00:00:00",
           17757.35,
           0.11585646457268084,
           17850,
           17400,
           0.04792719634404909,
           233.1,
           129.9,
           401.06000000000006,
           18230
          ],
          [
           "2022-01-27T00:00:00",
           17757.35,
           0.011605186267348522,
           17950,
           17400,
           0.05040250938343841,
           182.15,
           129.9,
           345.015,
           15682.5
          ],
          [
           "2022-01-27T00:00:00",
           17757.35,
           -0.10812271731190648,
           18050,
           17400,
           0.05356232771218679,
           142.25,
           129.9,
           301.125,
           13687.5
          ],
          [
           "2022-01-27T00:00:00",
           17757.35,
           -0.2749123447772098,
           18200,
           17400,
           0.05894319816864566,
           92.75,
           129.9,
           246.675,
           11212.5
          ],
          [
           "2022-01-27T00:00:00",
           17757.35,
           -0.40458728999269544,
           18350,
           17400,
           0.06522228823557569,
           57.75,
           129.9,
           208.175,
           9462.5
          ],
          [
           "2022-01-27T00:00:00",
           17757.35,
           -0.4726661796932068,
           18400,
           17400,
           0.06750218923431707,
           49.1,
           129.9,
           198.66,
           9030
          ],
          [
           "2022-01-27T00:00:00",
           17757.35,
           -0.6243206720233743,
           18550,
           17400,
           0.07478171010877187,
           30.25,
           129.9,
           177.925,
           8087.5
          ],
          [
           "2022-01-27T00:00:00",
           17757.35,
           -0.7218918918918917,
           18650,
           17400,
           0.07987734656353568,
           21.6,
           129.9,
           168.41,
           7655
          ],
          [
           "2022-01-27T00:00:00",
           17757.35,
           -0.7607742878013148,
           18700,
           17400,
           0.08252582733347037,
           18.9,
           129.9,
           165.44000000000003,
           7520
          ],
          [
           "2022-01-27T00:00:00",
           17757.35,
           0.15064280496712923,
           17850,
           17450,
           0.04587959352042958,
           233.1,
           142.3,
           414.70000000000005,
           18850
          ],
          [
           "2022-01-27T00:00:00",
           17757.35,
           0.04490138787436093,
           17950,
           17450,
           0.048354906559818896,
           182.15,
           142.3,
           358.65500000000003,
           16302.5
          ],
          [
           "2022-01-27T00:00:00",
           17757.35,
           -0.06353177501826146,
           18050,
           17450,
           0.05151472488856727,
           142.25,
           142.3,
           314.765,
           14307.5
          ],
          [
           "2022-01-27T00:00:00",
           17757.35,
           -0.23813002191380583,
           18200,
           17450,
           0.056895595345026154,
           92.75,
           142.3,
           260.31500000000005,
           11832.5
          ],
          [
           "2022-01-27T00:00:00",
           17757.35,
           -0.3258728999269538,
           18350,
           17450,
           0.06317468541195619,
           57.75,
           142.3,
           221.81500000000003,
           10082.5
          ],
          [
           "2022-01-27T00:00:00",
           17757.35,
           -0.38278853177501815,
           18400,
           17450,
           0.06545458641069754,
           49.1,
           142.3,
           212.3,
           9650
          ],
          [
           "2022-01-27T00:00:00",
           17757.35,
           -0.5407651570489409,
           18550,
           17450,
           0.07273410728515235,
           30.25,
           142.3,
           191.56500000000003,
           8707.5
          ],
          [
           "2022-01-27T00:00:00",
           17757.35,
           -0.6422589481373264,
           18650,
           17450,
           0.07782974373991615,
           21.6,
           142.3,
           182.05,
           8275
          ],
          [
           "2022-01-27T00:00:00",
           17757.35,
           -0.690080350620891,
           18700,
           17450,
           0.08047822450985086,
           18.9,
           142.3,
           179.08000000000004,
           8140.000000000001
          ],
          [
           "2022-01-27T00:00:00",
           17757.35,
           -0.8229090577063549,
           18850,
           17450,
           0.08853516994371347,
           12.6,
           142.3,
           172.15000000000003,
           7825.000000000001
          ],
          [
           "2022-01-27T00:00:00",
           17757.35,
           -0.8387910883856828,
           18900,
           17450,
           0.09127966729269853,
           11.45,
           142.3,
           170.88500000000005,
           7767.500000000001
          ],
          [
           "2022-01-27T00:00:00",
           17757.35,
           0.22934623813002203,
           17850,
           17550,
           0.042063145683336765,
           233.1,
           171.6,
           446.93000000000006,
           20315
          ],
          [
           "2022-01-27T00:00:00",
           17757.35,
           0.12297297297297305,
           17950,
           17550,
           0.04453845872272608,
           182.15,
           171.6,
           390.88500000000005,
           17767.5
          ],
          [
           "2022-01-27T00:00:00",
           17757.35,
           0.0396932067202338,
           18050,
           17550,
           0.04769827705147446,
           142.25,
           171.6,
           346.995,
           15772.5
          ],
          [
           "2022-01-27T00:00:00",
           17757.35,
           -0.11862856099342589,
           18200,
           17550,
           0.05307914750793334,
           92.75,
           171.6,
           292.545,
           13297.5
          ],
          [
           "2022-01-27T00:00:00",
           17757.35,
           -0.25561723886048227,
           18350,
           17550,
           0.05935823757486337,
           57.75,
           171.6,
           254.04500000000002,
           11547.5
          ],
          [
           "2022-01-27T00:00:00",
           17757.35,
           -0.2749342585829072,
           18400,
           17550,
           0.061638138573604735,
           49.1,
           171.6,
           244.53000000000003,
           11115
          ],
          [
           "2022-01-27T00:00:00",
           17757.35,
           -0.3650219138056974,
           18550,
           17550,
           0.06891765944805954,
           30.25,
           171.6,
           223.79500000000002,
           10172.5
          ],
          [
           "2022-01-27T00:00:00",
           17757.35,
           -0.46235938641344043,
           18650,
           17550,
           0.07401329590282334,
           21.6,
           171.6,
           214.28000000000003,
           9740
          ],
          [
           "2022-01-27T00:00:00",
           17757.35,
           -0.4991417092768442,
           18700,
           17550,
           0.07666177667275804,
           18.9,
           171.6,
           211.31,
           9605
          ],
          [
           "2022-01-27T00:00:00",
           17757.35,
           -0.6211029948867784,
           18850,
           17550,
           0.08471872210662065,
           12.6,
           171.6,
           204.38000000000002,
           9290
          ],
          [
           "2022-01-27T00:00:00",
           17757.35,
           -0.6539791818845871,
           18900,
           17550,
           0.08746321945560571,
           11.45,
           171.6,
           203.115,
           9232.5
          ],
          [
           "2022-01-27T00:00:00",
           17757.35,
           -0.7425219138056977,
           19050,
           17550,
           0.09576485230059666,
           9.1,
           171.6,
           200.53000000000003,
           9115
          ],
          [
           "2022-01-27T00:00:00",
           17757.35,
           -0.788305332359386,
           19100,
           17550,
           0.09852173888558824,
           8.15,
           171.6,
           199.485,
           9067.5
          ],
          [
           "2022-01-27T00:00:00",
           17757.35,
           -0.8475894813732652,
           19250,
           17550,
           0.10688222060161004,
           6.75,
           171.6,
           197.945,
           8997.5
          ],
          [
           "2022-01-27T00:00:00",
           17757.35,
           -0.9063823959094228,
           19350,
           17550,
           0.1124610372606273,
           5.9,
           171.6,
           197.01000000000002,
           8955
          ],
          [
           "2022-01-27T00:00:00",
           17757.35,
           -0.993699780861943,
           19500,
           17550,
           0.12076267010561825,
           3.55,
           171.6,
           194.425,
           8837.5
          ],
          [
           "2022-01-27T00:00:00",
           17757.35,
           0.2546566837107377,
           17850,
           17600,
           0.04020138139981473,
           233.1,
           187,
           463.87,
           21085
          ],
          [
           "2022-01-27T00:00:00",
           17757.35,
           0.1678305332359385,
           17950,
           17600,
           0.042676694439204056,
           182.15,
           187,
           407.82500000000005,
           18537.5
          ],
          [
           "2022-01-27T00:00:00",
           17757.35,
           0.0797297297297298,
           18050,
           17600,
           0.045836512767952434,
           142.25,
           187,
           363.93500000000006,
           16542.5
          ],
          [
           "2022-01-27T00:00:00",
           17757.35,
           -0.05039444850255659,
           18200,
           17600,
           0.051217383224411314,
           92.75,
           187,
           309.48500000000007,
           14067.5
          ],
          [
           "2022-01-27T00:00:00",
           17757.35,
           -0.1918042366691013,
           18350,
           17600,
           0.05749647329134134,
           57.75,
           187,
           270.985,
           12317.5
          ],
          [
           "2022-01-27T00:00:00",
           17757.35,
           -0.23327246165084004,
           18400,
           17600,
           0.05977637429008271,
           49.1,
           187,
           261.47,
           11885
          ],
          [
           "2022-01-27T00:00:00",
           17757.35,
           -0.31421840759678554,
           18550,
           17600,
           0.06705589516453751,
           30.25,
           187,
           240.735,
           10942.5
          ],
          [
           "2022-01-27T00:00:00",
           17757.35,
           -0.3625967859751642,
           18650,
           17600,
           0.07215153161930131,
           21.6,
           187,
           231.22,
           10510
          ],
          [
           "2022-01-27T00:00:00",
           17757.35,
           -0.3978780131482834,
           18700,
           17600,
           0.07480001238923602,
           18.9,
           187,
           228.25000000000003,
           10375
          ],
          [
           "2022-01-27T00:00:00",
           17757.35,
           -0.5343024105186268,
           18850,
           17600,
           0.08285695782309861,
           12.6,
           187,
           221.32,
           10060
          ],
          [
           "2022-01-27T00:00:00",
           17757.35,
           -0.5838787436084734,
           18900,
           17600,
           0.08560145517208369,
           11.45,
           187,
           220.05500000000004,
           10002.5
          ],
          [
           "2022-01-27T00:00:00",
           17757.35,
           -0.6561723886048207,
           19050,
           17600,
           0.09390308801707463,
           9.1,
           187,
           217.47,
           9885
          ],
          [
           "2022-01-27T00:00:00",
           17757.35,
           -0.6879108838568297,
           19100,
           17600,
           0.0966599746020662,
           8.15,
           187,
           216.425,
           9837.5
          ],
          [
           "2022-01-27T00:00:00",
           17757.35,
           -0.7935098612125637,
           19250,
           17600,
           0.10502045631808801,
           6.75,
           187,
           214.88500000000002,
           9767.5
          ],
          [
           "2022-01-27T00:00:00",
           17757.35,
           -0.8324287801314829,
           19350,
           17600,
           0.11059927297710527,
           5.9,
           187,
           213.95000000000002,
           9725
          ],
          [
           "2022-01-27T00:00:00",
           17757.35,
           -0.9014883126369613,
           19500,
           17600,
           0.11890090582209623,
           3.55,
           187,
           211.36500000000004,
           9607.5
          ],
          [
           "2022-01-27T00:00:00",
           17757.35,
           -0.9270708546384222,
           19550,
           17600,
           0.12176619822214464,
           4.35,
           187,
           212.245,
           9647.5
          ]
         ],
         "hovertemplate": "underlying_name=NIFTY<br>p_not_breakeven_tp=%{x}<br>p_not_breakeven_volatility=%{y}<br>cost=%{customdata[9]}<br>expiry=%{customdata[0]}<br>underlying_value=%{customdata[1]}<br>kelly_fraction=%{customdata[2]}<br>ce_strike_price=%{customdata[3]}<br>pe_strike_price=%{customdata[4]}<br>spread_percent=%{customdata[5]}<br>ce_premium=%{customdata[6]}<br>pe_premium=%{customdata[7]}<br>target=%{customdata[8]}<extra></extra>",
         "legendgroup": "NIFTY",
         "marker": {
          "color": "#636efa",
          "size": [
           6477.5,
           6502.5,
           6527.5,
           3624.9999999999995,
           2927.5,
           1537.5,
           6647.5,
           3744.9999999999995,
           3047.5,
           1657.5,
           1387.5,
           867.5,
           777.5,
           6867.5,
           3964.9999999999995,
           3267.5,
           1877.5,
           1607.5,
           1087.5,
           997.5,
           7680,
           4777.5,
           4080,
           2690,
           2420,
           1900,
           1810,
           1602.5,
           7990,
           5087.499999999999,
           4390,
           3000,
           2730,
           2210,
           2120,
           9395,
           6492.5,
           5795,
           4405,
           4135,
           3615,
           3525,
           3317.5,
           10075,
           7172.5,
           6475,
           5085,
           4815,
           4295,
           4205,
           3997.5,
           12907.5,
           10005,
           9307.5,
           7917.5,
           7647.5,
           7127.5,
           7037.5,
           6830,
           6790,
           6790,
           10460,
           9167.5,
           6982.5,
           10567.5,
           9275,
           7090,
           5330,
           10732.5,
           9440,
           7255,
           5495,
           4047.5,
           10847.5,
           9555,
           7370,
           5610,
           4162.5,
           3610,
           11140,
           9847.5,
           7662.5,
           5902.5,
           4455,
           3902.5,
           11287.5,
           9995,
           7810,
           6050,
           4602.5,
           4050,
           3215,
           11882.5,
           10590,
           8405,
           6645,
           5197.5,
           4645,
           3810,
           3445,
           3205,
           12077.5,
           10785,
           8600,
           6840,
           5392.5,
           4840,
           4005,
           3640,
           3400,
           13087.5,
           11795,
           9610,
           7850,
           6402.5,
           5850,
           5015,
           4650,
           4410,
           4002.5,
           3827.5,
           3730,
           3652.5,
           13470,
           12177.5,
           9992.5,
           8232.5,
           6785,
           6232.5,
           5397.5,
           5032.5,
           4792.5,
           4385,
           4210,
           4112.5,
           4034.9999999999995,
           3847.4999999999995,
           14387.5,
           13095,
           10910,
           9150,
           7702.5,
           7150,
           6315,
           5950,
           5710,
           5302.5,
           5127.5,
           5030,
           4952.5,
           4765,
           4732.5,
           4667.5,
           16267.5,
           14975,
           12790,
           11030,
           9582.5,
           9030,
           8195,
           7830,
           7590,
           7182.5,
           7007.5,
           6910,
           6832.5,
           6645,
           6612.5,
           6547.5,
           6545,
           6497.5,
           17042.5,
           15750,
           13565,
           11805,
           10357.5,
           9805,
           8970,
           8605,
           8365,
           7957.500000000001,
           7782.500000000001,
           7685.000000000001,
           7607.500000000001,
           7420.000000000001,
           7387.500000000001,
           7322.500000000001,
           7320.000000000001,
           7272.500000000001,
           19982.5,
           18690,
           16505,
           14745,
           13297.5,
           12745,
           11910,
           11545,
           11305,
           10897.5,
           10722.5,
           10625,
           10547.5,
           10360,
           10327.5,
           10262.5,
           10260,
           10212.5,
           12337.5,
           12397.5,
           12520,
           12680,
           12725,
           12952.5,
           13042.5,
           13352.5,
           10805,
           13495,
           10947.5,
           8952.5,
           13685,
           11137.5,
           9142.5,
           13852.5,
           11305,
           9310,
           14275,
           11727.5,
           9732.5,
           14560,
           12012.5,
           10017.5,
           14852.5,
           12305,
           10310,
           7835,
           15455,
           12907.5,
           10912.5,
           8437.5,
           15807.5,
           13260,
           11265,
           8790,
           7040,
           17652.5,
           15105,
           13110,
           10635,
           8885,
           8452.5,
           7510,
           7077.5,
           6942.5,
           18230,
           15682.5,
           13687.5,
           11212.5,
           9462.5,
           9030,
           8087.5,
           7655,
           7520,
           18850,
           16302.5,
           14307.5,
           11832.5,
           10082.5,
           9650,
           8707.5,
           8275,
           8140.000000000001,
           7825.000000000001,
           7767.500000000001,
           20315,
           17767.5,
           15772.5,
           13297.5,
           11547.5,
           11115,
           10172.5,
           9740,
           9605,
           9290,
           9232.5,
           9115,
           9067.5,
           8997.5,
           8955,
           8837.5,
           21085,
           18537.5,
           16542.5,
           14067.5,
           12317.5,
           11885,
           10942.5,
           10510,
           10375,
           10060,
           10002.5,
           9885,
           9837.5,
           9767.5,
           9725,
           9607.5,
           9647.5
          ],
          "sizemode": "area",
          "sizeref": 68.034375,
          "symbol": "circle"
         },
         "mode": "markers",
         "name": "NIFTY",
         "orientation": "v",
         "showlegend": true,
         "type": "scatter",
         "x": [
          0.34629291453615785,
          0.3336851716581446,
          0.3251789627465303,
          0.38045288531775023,
          0.40161614317019717,
          0.4510098612125639,
          0.2820306793279766,
          0.33604090577063545,
          0.3566983199415632,
          0.4136723886048211,
          0.42684806428049676,
          0.47388604821037256,
          0.48988312636961295,
          0.22242512783053325,
          0.28418188458729005,
          0.30249269539810086,
          0.3494594594594594,
          0.3647918188458728,
          0.4171804236669101,
          0.42951059167275385,
          0.1608619430241052,
          0.2129327976625274,
          0.22434258582907235,
          0.27845872899926954,
          0.29218224981738494,
          0.3344758948137327,
          0.3502465303140978,
          0.42595507669831995,
          0.1487947406866326,
          0.20062454346238132,
          0.2129327976625274,
          0.2588604821037253,
          0.2777501826150474,
          0.32594229364499633,
          0.3344758948137327,
          0.1168827611395179,
          0.15504017531044556,
          0.17027027027027028,
          0.2129327976625274,
          0.22434258582907235,
          0.27279035792549305,
          0.2856355003652301,
          0.3559021183345507,
          0.10383856829802775,
          0.14210372534696858,
          0.15504017531044556,
          0.20062454346238132,
          0.2129327976625274,
          0.24932432432432433,
          0.2685719503287071,
          0.3344758948137327,
          0.07762965668371073,
          0.1051406135865595,
          0.11734112490869247,
          0.14930606281957634,
          0.1608619430241052,
          0.20062454346238132,
          0.21166910153396643,
          0.2798867786705625,
          0.3228780131482834,
          0.3336851716581446,
          0.17703067932797664,
          0.19520270270270268,
          0.22242512783053325,
          0.15762417823228633,
          0.17199598246895542,
          0.20183710737764793,
          0.22370343316289268,
          0.13758948137326515,
          0.1508655953250548,
          0.17703067932797664,
          0.20365230094959824,
          0.22370343316289268,
          0.1331190650109569,
          0.14160336011687363,
          0.16640430971512052,
          0.19279766252739228,
          0.2135646457268079,
          0.22242512783053325,
          0.11826880934989042,
          0.13213476990504017,
          0.15032870708546386,
          0.17372169466764062,
          0.20002921840759683,
          0.2091891891891892,
          0.11322132943754566,
          0.12583272461650843,
          0.1446311176040906,
          0.16640430971512052,
          0.1910080350620891,
          0.20183710737764793,
          0.21607012417823226,
          0.09610664718772827,
          0.10959824689554419,
          0.1331190650109569,
          0.14930606281957634,
          0.16915631848064283,
          0.17758217677136598,
          0.20002921840759683,
          0.2060993425858291,
          0.2129327976625274,
          0.09105551497443391,
          0.10339481373265157,
          0.12631300219138059,
          0.14210372534696858,
          0.1636742147552958,
          0.17199598246895542,
          0.1910080350620891,
          0.20062454346238132,
          0.2079327976625274,
          0.08351351351351353,
          0.08907414170927681,
          0.10778670562454348,
          0.12679327976625276,
          0.14160336011687363,
          0.1498173849525201,
          0.16586924762600438,
          0.17372169466764062,
          0.17872352081811543,
          0.19882213294375456,
          0.20243425858290723,
          0.2091891891891892,
          0.2129327976625274,
          0.07954711468224981,
          0.08505295836376918,
          0.1007834185536888,
          0.12108108108108108,
          0.13559897735573412,
          0.14210372534696858,
          0.158699780861943,
          0.16586924762600438,
          0.17257121986851715,
          0.1875054784514244,
          0.19398648648648648,
          0.20062454346238132,
          0.2079327976625274,
          0.22178962746530312,
          0.07012783053323594,
          0.07762965668371073,
          0.08907414170927681,
          0.1064682249817385,
          0.1243973703433163,
          0.1331190650109569,
          0.14210372534696858,
          0.1498173849525201,
          0.15504017531044556,
          0.16750913075237403,
          0.17372169466764062,
          0.17872352081811543,
          0.1875054784514244,
          0.2060993425858291,
          0.2110573411249087,
          0.22370343316289268,
          0.05527392257121986,
          0.06214207450693937,
          0.07683345507669832,
          0.08823776479181883,
          0.09781227173119063,
          0.10778670562454348,
          0.12154857560262965,
          0.12679327976625276,
          0.1331190650109569,
          0.14160336011687363,
          0.14515704894083273,
          0.1508655953250548,
          0.15607377647918189,
          0.17257121986851715,
          0.17758217677136598,
          0.19882213294375456,
          0.20183710737764793,
          0.21544923301680055,
          0.05213294375456537,
          0.05750182615047479,
          0.07157048940832723,
          0.08351351351351353,
          0.0902739225712199,
          0.09610664718772827,
          0.1123082542001461,
          0.11826880934989042,
          0.1243973703433163,
          0.13410701241782322,
          0.1370927684441198,
          0.14160336011687363,
          0.14568298027757487,
          0.16198685171658145,
          0.16640430971512052,
          0.18046018991964938,
          0.1904035792549306,
          0.2060993425858291,
          0.03827611395178962,
          0.04248539079620163,
          0.05400657414170928,
          0.06350073046018993,
          0.07538349159970782,
          0.07954711468224981,
          0.0866691015339664,
          0.08907414170927681,
          0.09190650109569029,
          0.10339481373265157,
          0.10869247626004384,
          0.11322132943754566,
          0.11826880934989042,
          0.1331190650109569,
          0.13510409057706357,
          0.1446311176040906,
          0.1498173849525201,
          0.16586924762600438,
          0.12583272461650843,
          0.12249269539810079,
          0.11367421475529584,
          0.10778670562454348,
          0.10383856829802775,
          0.09481373265157046,
          0.09105551497443391,
          0.08785244704163621,
          0.10471146822498172,
          0.08505295836376918,
          0.10122352081811543,
          0.12108108108108108,
          0.08351351351351353,
          0.09610664718772827,
          0.11596603360116871,
          0.0818918918918919,
          0.09312454346238129,
          0.11322132943754566,
          0.07683345507669832,
          0.08907414170927681,
          0.10383856829802775,
          0.07346968590211833,
          0.0866691015339664,
          0.09865960555149746,
          0.07012783053323594,
          0.08429693206720236,
          0.09524470416362306,
          0.12108108108108108,
          0.06381665449233018,
          0.07954711468224981,
          0.08907414170927681,
          0.1123082542001461,
          0.0607980277574872,
          0.07573411249086925,
          0.0866691015339664,
          0.1051406135865595,
          0.12583272461650843,
          0.0502410518626735,
          0.060489408327246155,
          0.07346968590211833,
          0.08823776479181883,
          0.10254382761139517,
          0.10823959094229366,
          0.12249269539810079,
          0.1331190650109569,
          0.13410701241782322,
          0.04665814463111761,
          0.057151205259313366,
          0.06869978086194302,
          0.08391891891891894,
          0.09567567567567568,
          0.1021037253469686,
          0.11596603360116871,
          0.1243973703433163,
          0.12775748721694669,
          0.0435646457268079,
          0.054685902118334545,
          0.06455441928414901,
          0.0810810810810811,
          0.08907414170927681,
          0.09441197954711467,
          0.10869247626004384,
          0.11780861943024104,
          0.12154857560262965,
          0.1331190650109569,
          0.13410701241782322,
          0.03674945215485755,
          0.04729729729729729,
          0.05527392257121986,
          0.0708473338203068,
          0.08351351351351353,
          0.08505295836376918,
          0.09312454346238129,
          0.1021037253469686,
          0.1051406135865595,
          0.11550401753104454,
          0.11826880934989042,
          0.12631300219138059,
          0.13066837107377646,
          0.1360938641344047,
          0.14160336011687363,
          0.1498173849525201,
          0.034514243973703444,
          0.043305332359386425,
          0.05241782322863403,
          0.06455441928414901,
          0.07838568298027755,
          0.0822972972972973,
          0.08907414170927681,
          0.09312454346238129,
          0.09610664718772827,
          0.10778670562454348,
          0.1123082542001461,
          0.11873813002191379,
          0.12154857560262965,
          0.1316471877282688,
          0.13510409057706357,
          0.14160336011687363,
          0.14360482103725347
         ],
         "xaxis": "x",
         "y": [
          0.35940832724616506,
          0.3566471877282688,
          0.3532505478451425,
          0.39004382761139517,
          0.40414901387874363,
          0.45142439737034323,
          0.3400931336742148,
          0.36943024105186273,
          0.38364499634769905,
          0.4294229364499635,
          0.43798575602629664,
          0.486135865595325,
          0.49643535427319213,
          0.3135043827611395,
          0.3390759678597517,
          0.3518535427319211,
          0.3874360847333821,
          0.39241051862673487,
          0.4335573411249087,
          0.4446128560993426,
          0.28039810080350624,
          0.29615777940102267,
          0.3033692476260044,
          0.3313130021913806,
          0.33922571219868525,
          0.37438276113951785,
          0.3828652300949598,
          0.4281811541271,
          0.27170379839298764,
          0.2878232286340394,
          0.29613221329437545,
          0.3167494521548576,
          0.32269905040175306,
          0.3557432432432433,
          0.36535792549306073,
          0.25306793279766254,
          0.26365047479912346,
          0.2663623082542001,
          0.282936449963477,
          0.29072498173849526,
          0.31701059167275386,
          0.32516800584368155,
          0.35905953250547845,
          0.2529291453615778,
          0.25392257121986855,
          0.260399926953981,
          0.2761139517896275,
          0.2855222790357925,
          0.31176771365960554,
          0.32034696859021183,
          0.3544667640613587,
          0.24319941563184808,
          0.25418918918918926,
          0.2572425127830533,
          0.2683802045288532,
          0.2784075967859751,
          0.29394631117604086,
          0.3014243973703433,
          0.331336742147553,
          0.34859386413440463,
          0.35434623813002186,
          0.44548940832724626,
          0.46076333089846605,
          0.48273192111029956,
          0.43334550766983204,
          0.4475420014609204,
          0.46808254200146093,
          0.4947863403944486,
          0.42416727538349164,
          0.43365960555149746,
          0.4567184075967859,
          0.48013513513513517,
          0.4947699050401752,
          0.4194393718042367,
          0.42756574141709275,
          0.44504200146092043,
          0.4690504017531045,
          0.4842951059167276,
          0.496373265157049,
          0.4090869247626005,
          0.41372169466764064,
          0.42928049671292917,
          0.44923301680058436,
          0.46582907231555876,
          0.47459459459459463,
          0.40562454346238136,
          0.4088203067932798,
          0.4219119795471147,
          0.4454054054054054,
          0.4559495982468955,
          0.4662874360847334,
          0.4964791818845873,
          0.3888604821037253,
          0.39054054054054055,
          0.40660336011687354,
          0.42720416362308256,
          0.4366946676406136,
          0.4465102264426588,
          0.47125091307523737,
          0.48042731921110304,
          0.489408327246165,
          0.38364499634769905,
          0.3868955441928415,
          0.40118151935719504,
          0.4150200876552228,
          0.4267640613586559,
          0.4368736303871439,
          0.4590558802045288,
          0.4697114682249818,
          0.48128195763330894,
          0.3708582907231555,
          0.37348794740686625,
          0.38606647187728277,
          0.3868590211833454,
          0.3962235208181154,
          0.4071402483564646,
          0.42689919649379116,
          0.43839298758217676,
          0.44983564645726815,
          0.46544923301680063,
          0.4713659605551498,
          0.4796840759678598,
          0.4830021913805697,
          0.3665412710007305,
          0.367954711468225,
          0.3731081081081081,
          0.3792786705624544,
          0.3950840029218407,
          0.4023374726077429,
          0.4162965668371074,
          0.4282322863403945,
          0.43485390796201606,
          0.450781592403214,
          0.4572753834915998,
          0.46638787436084733,
          0.4722808619430241,
          0.497054419284149,
          0.3524470416362308,
          0.3530971512052593,
          0.364527027027027,
          0.36507304601899193,
          0.37391526661796937,
          0.3820598977355734,
          0.395418188458729,
          0.4032450693937181,
          0.4141764061358657,
          0.42382761139517894,
          0.4333162892622352,
          0.43885135135135134,
          0.4507121986851717,
          0.47176040905770633,
          0.47886048210372534,
          0.4977940102264427,
          0.3435646457268079,
          0.3421658144631118,
          0.3391106647187729,
          0.34546384222059895,
          0.3511504747991235,
          0.3557432432432433,
          0.36650292184075967,
          0.3772132943754566,
          0.38230094959824695,
          0.39157048940832717,
          0.39527027027027023,
          0.39993973703433167,
          0.40917457998539086,
          0.4286705624543462,
          0.43646457268078886,
          0.4511322132943755,
          0.45324689554419284,
          0.45910336011687364,
          0.33983747260774294,
          0.33963111760409065,
          0.3368699780861943,
          0.335427319211103,
          0.34305332359386415,
          0.34944119795471146,
          0.36135865595325056,
          0.36700146092037983,
          0.3648831263696129,
          0.3753159240321403,
          0.37940284879474073,
          0.38893900657414177,
          0.3922735573411249,
          0.40680971512052594,
          0.4135116873630388,
          0.4302666179693207,
          0.43093681519357196,
          0.4389791818845873,
          0.32984660336011684,
          0.3234477720964208,
          0.32551680058436816,
          0.32150474799123446,
          0.3243462381300219,
          0.32700511322132947,
          0.335555149744339,
          0.33969503287070857,
          0.34634769905040175,
          0.3544667640613587,
          0.3620489408327246,
          0.3658400292184076,
          0.37405405405405406,
          0.3888531775018262,
          0.39450693937180425,
          0.40455807158509866,
          0.4051862673484295,
          0.4127246165084003,
          0.49906501095690287,
          0.4975310445580716,
          0.49868151935719507,
          0.49640248356464567,
          0.49497808619430234,
          0.48534696859021176,
          0.483199415631848,
          0.47463476990504017,
          0.4944411979547115,
          0.4743900657414171,
          0.4910883856829802,
          0.4994375456537618,
          0.47315193571950337,
          0.4866015339663988,
          0.49512052593133665,
          0.471300219138057,
          0.480509495982469,
          0.4907779401022645,
          0.4629839298758218,
          0.47097516435354275,
          0.4818699780861943,
          0.4600675675675676,
          0.4674360847333821,
          0.4753323593864134,
          0.457100073046019,
          0.45897918188458736,
          0.4697589481373265,
          0.4964791818845873,
          0.4501643535427319,
          0.4464828341855369,
          0.45823411249086926,
          0.4851880934989043,
          0.44243425858290725,
          0.4416088385682981,
          0.45772826880934997,
          0.4768444119795472,
          0.49830898466033596,
          0.4204382761139517,
          0.4197626004382762,
          0.42748356464572684,
          0.4393535427319211,
          0.45946676406135867,
          0.46263696128561,
          0.4772096420745069,
          0.4912198685171658,
          0.4969758948137326,
          0.4175620891161432,
          0.4168827611395179,
          0.4211249086924763,
          0.4357231555880205,
          0.44783053323593863,
          0.4516289262235209,
          0.46466033601168727,
          0.47791818845872897,
          0.48319941563184804,
          0.41371073776479184,
          0.4082395909422937,
          0.41798758217677134,
          0.42731921110299487,
          0.4351314828341856,
          0.4386687363038715,
          0.45384039444850255,
          0.464172753834916,
          0.47459459459459463,
          0.491718407596786,
          0.4977209642074507,
          0.4031592403214025,
          0.40405405405405403,
          0.4075675675675676,
          0.41015522279035793,
          0.42048210372534706,
          0.42440467494521544,
          0.4337764791818846,
          0.44132213294375455,
          0.4477355734112491,
          0.4660628195763331,
          0.471291088385683,
          0.4793918918918919,
          0.48162162162162164,
          0.4866508400292185,
          0.49034879474068666,
          0.4955259313367422,
          0.4002008765522279,
          0.3991161431701972,
          0.3960920379839299,
          0.4048502556610665,
          0.4079474068663258,
          0.41029948867786703,
          0.4234769905040175,
          0.43135135135135133,
          0.4368115412710008,
          0.45643535427319215,
          0.46079620160701246,
          0.468791088385683,
          0.4724251278305333,
          0.4770379839298758,
          0.4813878743608473,
          0.485454711468225,
          0.4910226442658875
         ],
         "yaxis": "y"
        },
        {
         "customdata": [
          [
           "2022-01-13T00:00:00",
           37590.65,
           -3.0106720233747266,
           37700,
           35000,
           0.08372015381484492,
           384.1,
           19.15,
           447.095,
           10161.25
          ],
          [
           "2022-01-13T00:00:00",
           37590.65,
           -3.4912454346238135,
           37900,
           35000,
           0.08657525209061295,
           299.85,
           19.15,
           354.4200000000001,
           8055.000000000001
          ],
          [
           "2022-01-13T00:00:00",
           37590.65,
           -3.7072607742878003,
           38000,
           35000,
           0.08815423516220124,
           262.9,
           19.15,
           313.775,
           7131.249999999999
          ],
          [
           "2022-01-13T00:00:00",
           37590.65,
           -4.066891891891892,
           38200,
           35000,
           0.09164579489846544,
           200.4,
           19.15,
           245.025,
           5568.75
          ],
          [
           "2022-01-13T00:00:00",
           37590.65,
           -2.896793279766253,
           37700,
           35100,
           0.08110673797872608,
           384.1,
           20.75,
           448.8550000000001,
           10201.25
          ],
          [
           "2022-01-13T00:00:00",
           37590.65,
           -3.3352227903579266,
           37900,
           35100,
           0.08396183625449415,
           299.85,
           20.75,
           356.18000000000006,
           8095.000000000001
          ],
          [
           "2022-01-13T00:00:00",
           37590.65,
           -3.591057341124909,
           38000,
           35100,
           0.08554081932608242,
           262.9,
           20.75,
           315.53499999999997,
           7171.249999999999
          ],
          [
           "2022-01-13T00:00:00",
           37590.65,
           -3.9337837837837837,
           38200,
           35100,
           0.08903237906234661,
           200.4,
           20.75,
           246.78500000000003,
           5608.75
          ],
          [
           "2022-01-13T00:00:00",
           37590.65,
           -4.3282834185536885,
           38400,
           35100,
           0.09288533185778909,
           150.25,
           20.75,
           191.62,
           4355
          ],
          [
           "2022-01-13T00:00:00",
           37590.65,
           -2.7603761869978087,
           37700,
           35200,
           0.07851234282993244,
           384.1,
           23,
           451.33000000000004,
           10257.5
          ],
          [
           "2022-01-13T00:00:00",
           37590.65,
           -3.190401753104455,
           37900,
           35200,
           0.08136744110570049,
           299.85,
           23,
           358.65500000000003,
           8151.250000000001
          ],
          [
           "2022-01-13T00:00:00",
           37590.65,
           -3.3971621621621617,
           38000,
           35200,
           0.08294642417728877,
           262.9,
           23,
           318.01,
           7227.499999999999
          ],
          [
           "2022-01-13T00:00:00",
           37590.65,
           -3.7942202337472604,
           38200,
           35200,
           0.08643798391355298,
           200.4,
           23,
           249.26000000000002,
           5665
          ],
          [
           "2022-01-13T00:00:00",
           37590.65,
           -4.200436449963477,
           38400,
           35200,
           0.09029093670899545,
           150.25,
           23,
           194.095,
           4411.25
          ],
          [
           "2022-01-13T00:00:00",
           37590.65,
           -2.498341855368882,
           37700,
           35400,
           0.07333964696008183,
           384.1,
           28.05,
           456.88500000000005,
           10383.75
          ],
          [
           "2022-01-13T00:00:00",
           37590.65,
           -2.887647918188459,
           37900,
           35400,
           0.07619474523584988,
           299.85,
           28.05,
           364.21000000000004,
           8277.5
          ],
          [
           "2022-01-13T00:00:00",
           37590.65,
           -3.0860043827611383,
           38000,
           35400,
           0.07777372830743814,
           262.9,
           28.05,
           323.565,
           7353.749999999999
          ],
          [
           "2022-01-13T00:00:00",
           37590.65,
           -3.528707085463843,
           38200,
           35400,
           0.08126528804370235,
           200.4,
           28.05,
           254.81500000000003,
           5791.25
          ],
          [
           "2022-01-13T00:00:00",
           37590.65,
           -3.843968224981739,
           38400,
           35400,
           0.08511824083914483,
           150.25,
           28.05,
           199.65,
           4537.5
          ],
          [
           "2022-01-13T00:00:00",
           37590.65,
           -2.3668151935719504,
           37700,
           35500,
           0.0707657356284076,
           384.1,
           31,
           460.13000000000005,
           10457.5
          ],
          [
           "2022-01-13T00:00:00",
           37590.65,
           -2.758007669831994,
           37900,
           35500,
           0.07362083390417563,
           299.85,
           31,
           367.45500000000004,
           8351.25
          ],
          [
           "2022-01-13T00:00:00",
           37590.65,
           -2.9612235208181157,
           38000,
           35500,
           0.07519981697576392,
           262.9,
           31,
           326.81,
           7427.499999999999
          ],
          [
           "2022-01-13T00:00:00",
           37590.65,
           -3.361550401753105,
           38200,
           35500,
           0.07869137671202812,
           200.4,
           31,
           258.06,
           5865
          ],
          [
           "2022-01-13T00:00:00",
           37590.65,
           -3.7412271731190656,
           38400,
           35500,
           0.0825443295074706,
           150.25,
           31,
           202.895,
           4611.25
          ],
          [
           "2022-01-13T00:00:00",
           37590.65,
           -4.068918918918918,
           38600,
           35500,
           0.08672941276620649,
           111.45,
           31,
           160.21500000000003,
           3641.25
          ],
          [
           "2022-01-13T00:00:00",
           37590.65,
           -1.9032286340394444,
           37700,
           35800,
           0.06315519949774745,
           384.1,
           43.65,
           474.045,
           10773.75
          ],
          [
           "2022-01-13T00:00:00",
           37590.65,
           -2.356691015339664,
           37900,
           35800,
           0.06601029777351548,
           299.85,
           43.65,
           381.37,
           8667.5
          ],
          [
           "2022-01-13T00:00:00",
           37590.65,
           -2.56409788166545,
           38000,
           35800,
           0.06758928084510377,
           262.9,
           43.65,
           340.72499999999997,
           7743.749999999999
          ],
          [
           "2022-01-13T00:00:00",
           37590.65,
           -2.901356829802776,
           38200,
           35800,
           0.07108084058136797,
           200.4,
           43.65,
           271.975,
           6181.25
          ],
          [
           "2022-01-13T00:00:00",
           37590.65,
           -3.27058984660336,
           38400,
           35800,
           0.07493379337681046,
           150.25,
           43.65,
           216.81,
           4927.5
          ],
          [
           "2022-01-13T00:00:00",
           37590.65,
           -3.6548137326515704,
           38600,
           35800,
           0.07911887663554634,
           111.45,
           43.65,
           174.13000000000002,
           3957.5
          ],
          [
           "2022-01-13T00:00:00",
           37590.65,
           -1.7712947406866326,
           37700,
           35900,
           0.06064566587701995,
           384.1,
           48.8,
           479.71000000000004,
           10902.5
          ],
          [
           "2022-01-13T00:00:00",
           37590.65,
           -2.2279474068663254,
           37900,
           35900,
           0.06350076415278799,
           299.85,
           48.8,
           387.0350000000001,
           8796.25
          ],
          [
           "2022-01-13T00:00:00",
           37590.65,
           -2.405934989043098,
           38000,
           35900,
           0.06507974722437627,
           262.9,
           48.8,
           346.39,
           7872.499999999999
          ],
          [
           "2022-01-13T00:00:00",
           37590.65,
           -2.767063550036523,
           38200,
           35900,
           0.06857130696064047,
           200.4,
           48.8,
           277.64000000000004,
           6310
          ],
          [
           "2022-01-13T00:00:00",
           37590.65,
           -3.109243973703433,
           38400,
           35900,
           0.07242425975608295,
           150.25,
           48.8,
           222.47500000000002,
           5056.25
          ],
          [
           "2022-01-13T00:00:00",
           37590.65,
           -3.5095398100803505,
           38600,
           35900,
           0.07660934301481884,
           111.45,
           48.8,
           179.79500000000002,
           4086.25
          ],
          [
           "2022-01-13T00:00:00",
           37590.65,
           -1.5145763330898467,
           37700,
           36100,
           0.05572462833177931,
           384.1,
           62.45,
           494.725,
           11243.75
          ],
          [
           "2022-01-13T00:00:00",
           37590.65,
           -1.8619978086194302,
           37900,
           36100,
           0.05857972660754736,
           299.85,
           62.45,
           402.05,
           9137.5
          ],
          [
           "2022-01-13T00:00:00",
           37590.65,
           -2.1254638422205985,
           38000,
           36100,
           0.06015870967913564,
           262.9,
           62.45,
           361.40500000000003,
           8213.75
          ],
          [
           "2022-01-13T00:00:00",
           37590.65,
           -2.488813002191381,
           38200,
           36100,
           0.06365026941539985,
           200.4,
           62.45,
           292.65500000000003,
           6651.25
          ],
          [
           "2022-01-13T00:00:00",
           37590.65,
           -2.798466033601168,
           38400,
           36100,
           0.06750322221084233,
           150.25,
           62.45,
           237.49000000000004,
           5397.5
          ],
          [
           "2022-01-13T00:00:00",
           37590.65,
           -3.181418918918919,
           38600,
           36100,
           0.0716883054695782,
           111.45,
           62.45,
           194.81,
           4427.5
          ],
          [
           "2022-01-13T00:00:00",
           37590.65,
           -3.6999634769905043,
           38900,
           36100,
           0.07848826769422716,
           71.1,
           62.45,
           150.425,
           3418.75
          ],
          [
           "2022-01-13T00:00:00",
           37590.65,
           -3.8150547845142437,
           39000,
           36100,
           0.08088221406120936,
           62,
           62.45,
           140.41500000000002,
           3191.25
          ],
          [
           "2022-01-13T00:00:00",
           37590.65,
           -1.4099342585829069,
           37700,
           36200,
           0.053276546162410066,
           384.1,
           69.7,
           502.70000000000005,
           11425
          ],
          [
           "2022-01-13T00:00:00",
           37590.65,
           -1.7608108108108111,
           37900,
           36200,
           0.05613164443817811,
           299.85,
           69.7,
           410.02500000000003,
           9318.75
          ],
          [
           "2022-01-13T00:00:00",
           37590.65,
           -1.9328305332359392,
           38000,
           36200,
           0.05771062750976639,
           262.9,
           69.7,
           369.38000000000005,
           8395
          ],
          [
           "2022-01-13T00:00:00",
           37590.65,
           -2.332344777209642,
           38200,
           36200,
           0.0612021872460306,
           200.4,
           69.7,
           300.63000000000005,
           6832.5
          ],
          [
           "2022-01-13T00:00:00",
           37590.65,
           -2.7173484295105914,
           38400,
           36200,
           0.06505514004147309,
           150.25,
           69.7,
           245.46500000000003,
           5578.75
          ],
          [
           "2022-01-13T00:00:00",
           37590.65,
           -3.0083272461650843,
           38600,
           36200,
           0.06924022330020896,
           111.45,
           69.7,
           202.785,
           4608.75
          ],
          [
           "2022-01-13T00:00:00",
           37590.65,
           -3.5514974433893354,
           38900,
           36200,
           0.0760401855248579,
           71.1,
           69.7,
           158.4,
           3600
          ],
          [
           "2022-01-13T00:00:00",
           37590.65,
           -3.708566471877283,
           39000,
           36200,
           0.07843413189184012,
           62,
           69.7,
           148.39000000000001,
           3372.5
          ],
          [
           "2022-01-13T00:00:00",
           37590.65,
           -0.8656409788166548,
           37700,
           36600,
           0.044060690623865244,
           384.1,
           118.4,
           556.27,
           12642.5
          ],
          [
           "2022-01-13T00:00:00",
           37590.65,
           -1.2140339663988318,
           37900,
           36600,
           0.046915788899633284,
           299.85,
           118.4,
           463.595,
           10536.25
          ],
          [
           "2022-01-13T00:00:00",
           37590.65,
           -1.3870197224251277,
           38000,
           36600,
           0.04849477197122157,
           262.9,
           118.4,
           422.95000000000005,
           9612.5
          ],
          [
           "2022-01-13T00:00:00",
           37590.65,
           -1.6966033601168733,
           38200,
           36600,
           0.05198633170748577,
           200.4,
           118.4,
           354.20000000000005,
           8050
          ],
          [
           "2022-01-13T00:00:00",
           37590.65,
           -2.071964937910884,
           38400,
           36600,
           0.05583928450292825,
           150.25,
           118.4,
           299.035,
           6796.25
          ],
          [
           "2022-01-13T00:00:00",
           37590.65,
           -2.3995617238860487,
           38600,
           36600,
           0.06002436776166414,
           111.45,
           118.4,
           256.355,
           5826.25
          ],
          [
           "2022-01-13T00:00:00",
           37590.65,
           -2.8451022644265884,
           38900,
           36600,
           0.06682432998631307,
           71.1,
           118.4,
           211.97,
           4817.5
          ],
          [
           "2022-01-13T00:00:00",
           37590.65,
           -3.010540540540541,
           39000,
           36600,
           0.0692182763532953,
           62,
           118.4,
           201.96,
           4590
          ],
          [
           "2022-01-13T00:00:00",
           37590.65,
           -3.3402337472607746,
           39200,
           36600,
           0.07407054679820647,
           46,
           118.4,
           184.36,
           4190
          ],
          [
           "2022-01-13T00:00:00",
           37590.65,
           -3.5033235938641347,
           39300,
           36600,
           0.07656252286140303,
           40.25,
           118.4,
           178.035,
           4046.25
          ],
          [
           "2022-01-13T00:00:00",
           37590.65,
           -3.6468115412710005,
           39400,
           36600,
           0.07907498274171902,
           35.2,
           118.4,
           172.48000000000002,
           3920
          ],
          [
           "2022-01-13T00:00:00",
           37590.65,
           -3.9193243243243243,
           39600,
           36600,
           0.08416135395370923,
           27.2,
           118.4,
           163.68000000000004,
           3720
          ],
          [
           "2022-01-13T00:00:00",
           37590.65,
           -4.0592786705624535,
           39700,
           36600,
           0.08671770772785253,
           23.65,
           118.4,
           159.775,
           3631.25
          ],
          [
           "2022-01-13T00:00:00",
           37590.65,
           -4.244207450693936,
           39800,
           36600,
           0.08929015592973252,
           20.65,
           118.4,
           156.47500000000002,
           3556.25
          ],
          [
           "2022-01-13T00:00:00",
           37590.65,
           -0.6800493060628194,
           37700,
           36800,
           0.03975416759220711,
           384.1,
           153.05,
           594.3850000000001,
           13508.75
          ],
          [
           "2022-01-13T00:00:00",
           37590.65,
           -0.9503506208911612,
           37900,
           36800,
           0.04260926586797515,
           299.85,
           153.05,
           501.71000000000015,
           11402.500000000002
          ],
          [
           "2022-01-13T00:00:00",
           37590.65,
           -1.0924872169466764,
           38000,
           36800,
           0.044188248939563426,
           262.9,
           153.05,
           461.065,
           10478.75
          ],
          [
           "2022-01-13T00:00:00",
           37590.65,
           -1.4392951059167274,
           38200,
           36800,
           0.047679808675827634,
           200.4,
           153.05,
           392.315,
           8916.25
          ],
          [
           "2022-01-13T00:00:00",
           37590.65,
           -1.711806062819576,
           38400,
           36800,
           0.051532761471270117,
           150.25,
           153.05,
           337.15000000000003,
           7662.5
          ],
          [
           "2022-01-13T00:00:00",
           37590.65,
           -2.071869978086194,
           38600,
           36800,
           0.055717844730006,
           111.45,
           153.05,
           294.47,
           6692.5
          ],
          [
           "2022-01-13T00:00:00",
           37590.65,
           -2.5524470416362313,
           38900,
           36800,
           0.06251780695465495,
           71.1,
           153.05,
           250.085,
           5683.75
          ],
          [
           "2022-01-13T00:00:00",
           37590.65,
           -2.7320452885317748,
           39000,
           36800,
           0.06491175332163715,
           62,
           153.05,
           240.07500000000002,
           5456.25
          ],
          [
           "2022-01-13T00:00:00",
           37590.65,
           -2.984620160701241,
           39200,
           36800,
           0.06976402376654832,
           46,
           153.05,
           222.47500000000002,
           5056.25
          ],
          [
           "2022-01-13T00:00:00",
           37590.65,
           -3.106422571219868,
           39300,
           36800,
           0.0722559998297449,
           40.25,
           153.05,
           216.15,
           4912.5
          ],
          [
           "2022-01-13T00:00:00",
           37590.65,
           -3.2767987582176765,
           39400,
           36800,
           0.07476845971006088,
           35.2,
           153.05,
           210.59500000000006,
           4786.250000000001
          ],
          [
           "2022-01-13T00:00:00",
           37590.65,
           -3.6095836376917454,
           39600,
           36800,
           0.07985483092205109,
           27.2,
           153.05,
           201.79500000000002,
           4586.25
          ],
          [
           "2022-01-13T00:00:00",
           37590.65,
           -3.737410518626735,
           39700,
           36800,
           0.08241118469619439,
           23.65,
           153.05,
           197.89000000000001,
           4497.5
          ],
          [
           "2022-01-13T00:00:00",
           37590.65,
           -3.844306062819576,
           39800,
           36800,
           0.08498363289807438,
           20.65,
           153.05,
           194.59000000000003,
           4422.5
          ],
          [
           "2022-01-13T00:00:00",
           37590.65,
           -4.331486486486487,
           40100,
           36800,
           0.092788765291369,
           14.65,
           153.05,
           187.99,
           4272.5
          ],
          [
           "2022-01-13T00:00:00",
           37590.65,
           -0.5671384222059896,
           37700,
           36900,
           0.037769897567613224,
           384.1,
           176.15,
           619.7950000000001,
           14086.25
          ],
          [
           "2022-01-13T00:00:00",
           37590.65,
           -0.8045471146822499,
           37900,
           36900,
           0.040624995843381265,
           299.85,
           176.15,
           527.12,
           11980
          ],
          [
           "2022-01-13T00:00:00",
           37590.65,
           -0.9616508400292183,
           38000,
           36900,
           0.04220397891496954,
           262.9,
           176.15,
           486.475,
           11056.25
          ],
          [
           "2022-01-13T00:00:00",
           37590.65,
           -1.260107742878013,
           38200,
           36900,
           0.04569553865123375,
           200.4,
           176.15,
           417.725,
           9493.75
          ],
          [
           "2022-01-13T00:00:00",
           37590.65,
           -1.549264061358656,
           38400,
           36900,
           0.04954849144667623,
           150.25,
           176.15,
           362.56000000000006,
           8240
          ],
          [
           "2022-01-13T00:00:00",
           37590.65,
           -1.84350073046019,
           38600,
           36900,
           0.05373357470541212,
           111.45,
           176.15,
           319.88000000000005,
           7270
          ],
          [
           "2022-01-13T00:00:00",
           37590.65,
           -2.374415631848065,
           38900,
           36900,
           0.06053353693006106,
           71.1,
           176.15,
           275.495,
           6261.25
          ],
          [
           "2022-01-13T00:00:00",
           37590.65,
           -2.5378670562454344,
           39000,
           36900,
           0.06292748329704329,
           62,
           176.15,
           265.485,
           6033.75
          ],
          [
           "2022-01-13T00:00:00",
           37590.65,
           -2.7785244704163614,
           39200,
           36900,
           0.06777975374195445,
           46,
           176.15,
           247.88500000000002,
           5633.75
          ],
          [
           "2022-01-13T00:00:00",
           37590.65,
           -2.9441070124178235,
           39300,
           36900,
           0.070271729805151,
           40.25,
           176.15,
           241.56,
           5490
          ],
          [
           "2022-01-13T00:00:00",
           37590.65,
           -3.060854638422206,
           39400,
           36900,
           0.072784189685467,
           35.2,
           176.15,
           236.00500000000002,
           5363.75
          ],
          [
           "2022-01-13T00:00:00",
           37590.65,
           -3.3889043097151204,
           39600,
           36900,
           0.07787056089745721,
           27.2,
           176.15,
           227.20500000000004,
           5163.75
          ],
          [
           "2022-01-13T00:00:00",
           37590.65,
           -3.582204163623083,
           39700,
           36900,
           0.08042691467160051,
           23.65,
           176.15,
           223.3,
           5075
          ],
          [
           "2022-01-13T00:00:00",
           37590.65,
           -3.705127830533235,
           39800,
           36900,
           0.0829993628734805,
           20.65,
           176.15,
           220.00000000000003,
           5000
          ],
          [
           "2022-01-13T00:00:00",
           37590.65,
           -4.119671292914536,
           40100,
           36900,
           0.09080449526677511,
           14.65,
           176.15,
           213.4,
           4850
          ],
          [
           "2022-01-13T00:00:00",
           37590.65,
           -0.3292184075967858,
           37700,
           37100,
           0.033931576070113184,
           384.1,
           226.8,
           675.5100000000001,
           15352.5
          ],
          [
           "2022-01-13T00:00:00",
           37590.65,
           -0.5970598977355734,
           37900,
           37100,
           0.036786674345881225,
           299.85,
           226.8,
           582.835,
           13246.25
          ],
          [
           "2022-01-13T00:00:00",
           37590.65,
           -0.7060299488677868,
           38000,
           37100,
           0.0383656574174695,
           262.9,
           226.8,
           542.19,
           12322.5
          ],
          [
           "2022-01-13T00:00:00",
           37590.65,
           -0.9734842951059165,
           38200,
           37100,
           0.04185721715373371,
           200.4,
           226.8,
           473.44,
           10760
          ],
          [
           "2022-01-13T00:00:00",
           37590.65,
           -1.2587728268809348,
           38400,
           37100,
           0.04571016994917619,
           150.25,
           226.8,
           418.27500000000003,
           9506.25
          ],
          [
           "2022-01-13T00:00:00",
           37590.65,
           -1.527059897735573,
           38600,
           37100,
           0.04989525320791207,
           111.45,
           226.8,
           375.595,
           8536.25
          ],
          [
           "2022-01-13T00:00:00",
           37590.65,
           -1.9736322132943749,
           38900,
           37100,
           0.05669521543256102,
           71.1,
           226.8,
           331.21000000000004,
           7527.5
          ],
          [
           "2022-01-13T00:00:00",
           37590.65,
           -2.1526442658875085,
           39000,
           37100,
           0.05908916179954323,
           62,
           226.8,
           321.20000000000005,
           7300
          ],
          [
           "2022-01-13T00:00:00",
           37590.65,
           -2.460562454346238,
           39200,
           37100,
           0.06394143224445441,
           46,
           226.8,
           303.6,
           6900
          ],
          [
           "2022-01-13T00:00:00",
           37590.65,
           -2.6235299488677866,
           39300,
           37100,
           0.06643340830765097,
           40.25,
           226.8,
           297.27500000000003,
           6756.25
          ],
          [
           "2022-01-13T00:00:00",
           37590.65,
           -2.7439883126369606,
           39400,
           37100,
           0.06894586818796695,
           35.2,
           226.8,
           291.72,
           6630
          ],
          [
           "2022-01-13T00:00:00",
           37590.65,
           -2.9901387874360843,
           39600,
           37100,
           0.07403223939995716,
           27.2,
           226.8,
           282.92,
           6430
          ],
          [
           "2022-01-13T00:00:00",
           37590.65,
           -3.162885317750183,
           39700,
           37100,
           0.07658859317410047,
           23.65,
           226.8,
           279.01500000000004,
           6341.25
          ],
          [
           "2022-01-13T00:00:00",
           37590.65,
           -3.318831263696129,
           39800,
           37100,
           0.07916104137598047,
           20.65,
           226.8,
           275.71500000000003,
           6266.25
          ],
          [
           "2022-01-13T00:00:00",
           37590.65,
           -3.758951789627465,
           40100,
           37100,
           0.08696617376927507,
           14.65,
           226.8,
           269.115,
           6116.25
          ],
          [
           "2022-01-13T00:00:00",
           37590.65,
           -3.8699342585829077,
           40200,
           37100,
           0.08958690525436512,
           13.3,
           226.8,
           267.63000000000005,
           6082.5
          ],
          [
           "2022-01-13T00:00:00",
           37590.65,
           -0.009886778670562424,
           37700,
           37500,
           0.027637590730673716,
           384.1,
           375.35,
           838.9150000000001,
           19066.25
          ],
          [
           "2022-01-13T00:00:00",
           37590.65,
           -0.15785244704163648,
           37900,
           37500,
           0.03049268900644176,
           299.85,
           375.35,
           746.24,
           16960
          ],
          [
           "2022-01-13T00:00:00",
           37590.65,
           -0.2129729729729729,
           38000,
           37500,
           0.03207167207803005,
           262.9,
           375.35,
           705.5950000000001,
           16036.25
          ],
          [
           "2022-01-13T00:00:00",
           37590.65,
           -0.4551972242512783,
           38200,
           37500,
           0.03556323181429425,
           200.4,
           375.35,
           636.8450000000001,
           14473.75
          ],
          [
           "2022-01-13T00:00:00",
           37590.65,
           -0.6740759678597519,
           38400,
           37500,
           0.039416184609736726,
           150.25,
           375.35,
           581.68,
           13220
          ],
          [
           "2022-01-13T00:00:00",
           37590.65,
           -0.8668918918918918,
           38600,
           37500,
           0.04360126786847261,
           111.45,
           375.35,
           539,
           12250
          ],
          [
           "2022-01-13T00:00:00",
           37590.65,
           -1.2760664718772827,
           38900,
           37500,
           0.05040123009312156,
           71.1,
           375.35,
           494.615,
           11241.25
          ],
          [
           "2022-01-13T00:00:00",
           37590.65,
           -1.4283053323593862,
           39000,
           37500,
           0.052795176460103774,
           62,
           375.35,
           484.6050000000001,
           11013.75
          ],
          [
           "2022-01-13T00:00:00",
           37590.65,
           -1.633088020452885,
           39200,
           37500,
           0.05764744690501494,
           46,
           375.35,
           467.00500000000005,
           10613.75
          ],
          [
           "2022-01-13T00:00:00",
           37590.65,
           -1.7708327246165079,
           39300,
           37500,
           0.060139422968211516,
           40.25,
           375.35,
           460.68000000000006,
           10470
          ],
          [
           "2022-01-13T00:00:00",
           37590.65,
           -1.9222826880934996,
           39400,
           37500,
           0.06265188284852749,
           35.2,
           375.35,
           455.12500000000006,
           10343.75
          ],
          [
           "2022-01-13T00:00:00",
           37590.65,
           -2.237019722425128,
           39600,
           37500,
           0.0677382540605177,
           27.2,
           375.35,
           446.32500000000005,
           10143.75
          ],
          [
           "2022-01-13T00:00:00",
           37590.65,
           -2.3799835646457277,
           39700,
           37500,
           0.07029460783466102,
           23.65,
           375.35,
           442.42,
           10055
          ],
          [
           "2022-01-13T00:00:00",
           37590.65,
           -2.53604638422206,
           39800,
           37500,
           0.07286705603654099,
           20.65,
           375.35,
           439.12,
           9980
          ],
          [
           "2022-01-13T00:00:00",
           37590.65,
           -2.9068480642804957,
           40100,
           37500,
           0.0806721884298356,
           14.65,
           375.35,
           432.52000000000004,
           9830
          ],
          [
           "2022-01-13T00:00:00",
           37590.65,
           -3.0133637691745805,
           40200,
           37500,
           0.08329291991492564,
           13.3,
           375.35,
           431.0350000000001,
           9796.25
          ],
          [
           "2022-01-13T00:00:00",
           37590.65,
           -3.3385135135135133,
           40400,
           37500,
           0.08853877227448846,
           10.75,
           375.35,
           428.2300000000001,
           9732.5
          ],
          [
           "2022-01-20T00:00:00",
           37590.65,
           -0.9419740686632578,
           37600,
           34000,
           0.1156114618927845,
           645,
           29.9,
           745.9100000000001,
           16952.5
          ],
          [
           "2022-01-20T00:00:00",
           37590.65,
           -0.8922644265887509,
           37600,
           34100,
           0.11309753888267428,
           645,
           34.9,
           751.4100000000001,
           17077.5
          ],
          [
           "2022-01-20T00:00:00",
           37590.65,
           -0.7565558802045289,
           37600,
           34500,
           0.10270825324914573,
           645,
           43.5,
           760.8700000000001,
           17292.5
          ],
          [
           "2022-01-20T00:00:00",
           37590.65,
           -0.7352848794740686,
           37600,
           34600,
           0.09983732656923995,
           645,
           36.3,
           752.95,
           17112.5
          ],
          [
           "2022-01-20T00:00:00",
           37590.65,
           -0.6223703433162894,
           37600,
           34800,
           0.09500553994144821,
           645,
           53,
           771.3200000000002,
           17530
          ],
          [
           "2022-01-20T00:00:00",
           37590.65,
           -0.37453250547845107,
           37600,
           35300,
           0.08290412642505517,
           645,
           94,
           816.4200000000001,
           18555
          ],
          [
           "2022-01-20T00:00:00",
           37590.65,
           -0.3147735573411249,
           37600,
           35600,
           0.07581446450114589,
           645,
           124.45,
           849.9150000000001,
           19316.25
          ],
          [
           "2022-01-20T00:00:00",
           37590.65,
           -0.24491417092768442,
           37600,
           35800,
           0.07058909595870248,
           645,
           127.7,
           853.49,
           19397.5
          ],
          [
           "2022-01-20T00:00:00",
           37590.65,
           -0.5558144631117603,
           38000,
           35800,
           0.07595545700859123,
           464.75,
           127.7,
           655.215,
           14891.25
          ],
          [
           "2022-01-20T00:00:00",
           37590.65,
           -0.11428049671292917,
           37600,
           36100,
           0.06395446740080313,
           645,
           173.7,
           904.09,
           20547.5
          ],
          [
           "2022-01-20T00:00:00",
           37590.65,
           -0.37065376186997767,
           38000,
           36100,
           0.06932082845069186,
           464.75,
           173.7,
           705.815,
           16041.25
          ],
          [
           "2022-01-20T00:00:00",
           37590.65,
           -0.07554419284148994,
           37600,
           36200,
           0.061785843022134496,
           645,
           190.5,
           922.5700000000002,
           20967.5
          ],
          [
           "2022-01-20T00:00:00",
           37590.65,
           -0.359870343316289,
           38000,
           36200,
           0.06715220407202323,
           464.75,
           190.5,
           724.2950000000001,
           16461.25
          ],
          [
           "2022-01-20T00:00:00",
           37590.65,
           -0.6212856099342585,
           38300,
           36200,
           0.07171943023065576,
           348.1,
           190.5,
           595.98,
           13545
          ],
          [
           "2022-01-20T00:00:00",
           37590.65,
           0.026307523739956373,
           37600,
           36500,
           0.05534873698645807,
           645,
           243.25,
           980.5950000000001,
           22286.25
          ],
          [
           "2022-01-20T00:00:00",
           37590.65,
           -0.2373831263696129,
           38000,
           36500,
           0.06071509803634681,
           464.75,
           243.25,
           782.3200000000002,
           17780
          ],
          [
           "2022-01-20T00:00:00",
           37590.65,
           -0.38672571219868535,
           38300,
           36500,
           0.06528232419497934,
           348.1,
           243.25,
           654.005,
           14863.75
          ],
          [
           "2022-01-20T00:00:00",
           37590.65,
           -0.47762052593133675,
           38400,
           36500,
           0.06702078841414022,
           316.6,
           243.25,
           619.355,
           14076.25
          ],
          [
           "2022-01-20T00:00:00",
           37590.65,
           0.14137691745799874,
           37600,
           36800,
           0.04937983248493974,
           645,
           312,
           1056.22,
           24005
          ],
          [
           "2022-01-20T00:00:00",
           37590.65,
           -0.07476625273922566,
           38000,
           36800,
           0.05474619353482848,
           464.75,
           312,
           857.9450000000002,
           19498.75
          ],
          [
           "2022-01-20T00:00:00",
           37590.65,
           -0.27885682980277593,
           38300,
           36800,
           0.05931341969346101,
           348.1,
           312,
           729.63,
           16582.5
          ],
          [
           "2022-01-20T00:00:00",
           37590.65,
           -0.3189371804236668,
           38400,
           36800,
           0.06105188391262189,
           316.6,
           312,
           694.98,
           15795
          ],
          [
           "2022-01-20T00:00:00",
           37590.65,
           -0.4984331628926224,
           38700,
           36800,
           0.06662866962928281,
           234.45,
           312,
           604.615,
           13741.25
          ],
          [
           "2022-01-20T00:00:00",
           37590.65,
           -0.5793937180423667,
           38800,
           36800,
           0.06857343514943211,
           210,
           312,
           577.7200000000001,
           13130
          ],
          [
           "2022-01-20T00:00:00",
           37590.65,
           0.2085737764791818,
           37600,
           37000,
           0.04576975923534177,
           645,
           370.45,
           1120.515,
           25466.25
          ],
          [
           "2022-01-20T00:00:00",
           37590.65,
           0.0001826150474800725,
           38000,
           37000,
           0.0511361202852305,
           464.75,
           370.45,
           922.24,
           20960
          ],
          [
           "2022-01-20T00:00:00",
           37590.65,
           -0.15325054784514236,
           38300,
           37000,
           0.05570334644386304,
           348.1,
           370.45,
           793.9250000000001,
           18043.75
          ],
          [
           "2022-01-20T00:00:00",
           37590.65,
           -0.21369612856099351,
           38400,
           37000,
           0.057441810663023916,
           316.6,
           370.45,
           759.2750000000001,
           17256.25
          ],
          [
           "2022-01-20T00:00:00",
           37590.65,
           -0.35706720233747236,
           38700,
           37000,
           0.06301859637968484,
           234.45,
           370.45,
           668.9100000000001,
           15202.5
          ],
          [
           "2022-01-20T00:00:00",
           37590.65,
           -0.39768078889700487,
           38800,
           37000,
           0.06496336189983414,
           210,
           370.45,
           642.015,
           14591.25
          ],
          [
           "2022-01-20T00:00:00",
           37590.65,
           -0.6689225712198682,
           39200,
           37000,
           0.07357055544397344,
           140.5,
           370.45,
           565.565,
           12853.75
          ],
          [
           "2022-01-20T00:00:00",
           37590.65,
           -0.7330204528853177,
           39300,
           37000,
           0.07579331562502908,
           125.55,
           370.45,
           549.12,
           12480
          ],
          [
           "2022-01-20T00:00:00",
           37590.65,
           0.23446311176040913,
           37600,
           37100,
           0.044019589977826935,
           645,
           401.55,
           1154.7250000000001,
           26243.75
          ],
          [
           "2022-01-20T00:00:00",
           37590.65,
           0.051581446311176116,
           38000,
           37100,
           0.04938595102771567,
           464.75,
           401.55,
           956.45,
           21737.5
          ],
          [
           "2022-01-20T00:00:00",
           37590.65,
           -0.09287983929875832,
           38300,
           37100,
           0.053953177186348206,
           348.1,
           401.55,
           828.1350000000001,
           18821.25
          ],
          [
           "2022-01-20T00:00:00",
           37590.65,
           -0.16067202337472608,
           38400,
           37100,
           0.055691641405509085,
           316.6,
           401.55,
           793.4850000000001,
           18033.75
          ],
          [
           "2022-01-20T00:00:00",
           37590.65,
           -0.304835646457268,
           38700,
           37100,
           0.061268427122170004,
           234.45,
           401.55,
           703.1200000000001,
           15980
          ],
          [
           "2022-01-20T00:00:00",
           37590.65,
           -0.34835646457268055,
           38800,
           37100,
           0.0632131926423193,
           210,
           401.55,
           676.225,
           15368.75
          ],
          [
           "2022-01-20T00:00:00",
           37590.65,
           -0.5943170197224252,
           39200,
           37100,
           0.0718203861864586,
           140.5,
           401.55,
           599.7750000000001,
           13631.25
          ],
          [
           "2022-01-20T00:00:00",
           37590.65,
           -0.6331081081081078,
           39300,
           37100,
           0.07404314636751426,
           125.55,
           401.55,
           583.33,
           13257.5
          ],
          [
           "2022-01-20T00:00:00",
           37590.65,
           -0.863310810810811,
           39700,
           37100,
           0.08330874831906339,
           78.55,
           401.55,
           531.6300000000001,
           12082.5
          ],
          [
           "2022-01-20T00:00:00",
           37590.65,
           -0.945617238860482,
           39900,
           37100,
           0.08840682456940754,
           70.95,
           401.55,
           523.27,
           11892.5
          ],
          [
           "2022-01-20T00:00:00",
           37590.65,
           0.2669192841490139,
           37600,
           37200,
           0.04249474270862568,
           645,
           440.35,
           1197.405,
           27213.75
          ],
          [
           "2022-01-20T00:00:00",
           37590.65,
           0.09764061358655934,
           38000,
           37200,
           0.04786110375851442,
           464.75,
           440.35,
           999.13,
           22707.5
          ],
          [
           "2022-01-20T00:00:00",
           37590.65,
           -0.03867786705624554,
           38300,
           37200,
           0.05242832991714695,
           348.1,
           440.35,
           870.815,
           19791.25
          ],
          [
           "2022-01-20T00:00:00",
           37590.65,
           -0.08732651570489403,
           38400,
           37200,
           0.05416679413630783,
           316.6,
           440.35,
           836.1650000000001,
           19003.75
          ],
          [
           "2022-01-20T00:00:00",
           37590.65,
           -0.24612856099342573,
           38700,
           37200,
           0.059743579852968756,
           234.45,
           440.35,
           745.8000000000001,
           16950
          ],
          [
           "2022-01-20T00:00:00",
           37590.65,
           -0.28829072315558824,
           38800,
           37200,
           0.06168834537311804,
           210,
           440.35,
           718.905,
           16338.75
          ],
          [
           "2022-01-20T00:00:00",
           37590.65,
           -0.46364317019722423,
           39200,
           37200,
           0.07029553891725734,
           140.5,
           440.35,
           642.455,
           14601.25
          ],
          [
           "2022-01-20T00:00:00",
           37590.65,
           -0.5388422205989771,
           39300,
           37200,
           0.07251829909831302,
           125.55,
           440.35,
           626.0100000000001,
           14227.5
          ],
          [
           "2022-01-20T00:00:00",
           37590.65,
           -0.7927501826150471,
           39700,
           37200,
           0.08178390104986213,
           78.55,
           440.35,
           574.3100000000001,
           13052.5
          ],
          [
           "2022-01-20T00:00:00",
           37590.65,
           -0.8515193571950329,
           39900,
           37200,
           0.08688197730020629,
           70.95,
           440.35,
           565.95,
           12862.5
          ]
         ],
         "hovertemplate": "underlying_name=BANKNIFTY<br>p_not_breakeven_tp=%{x}<br>p_not_breakeven_volatility=%{y}<br>cost=%{customdata[9]}<br>expiry=%{customdata[0]}<br>underlying_value=%{customdata[1]}<br>kelly_fraction=%{customdata[2]}<br>ce_strike_price=%{customdata[3]}<br>pe_strike_price=%{customdata[4]}<br>spread_percent=%{customdata[5]}<br>ce_premium=%{customdata[6]}<br>pe_premium=%{customdata[7]}<br>target=%{customdata[8]}<extra></extra>",
         "legendgroup": "BANKNIFTY",
         "marker": {
          "color": "#EF553B",
          "size": [
           10161.25,
           8055.000000000001,
           7131.249999999999,
           5568.75,
           10201.25,
           8095.000000000001,
           7171.249999999999,
           5608.75,
           4355,
           10257.5,
           8151.250000000001,
           7227.499999999999,
           5665,
           4411.25,
           10383.75,
           8277.5,
           7353.749999999999,
           5791.25,
           4537.5,
           10457.5,
           8351.25,
           7427.499999999999,
           5865,
           4611.25,
           3641.25,
           10773.75,
           8667.5,
           7743.749999999999,
           6181.25,
           4927.5,
           3957.5,
           10902.5,
           8796.25,
           7872.499999999999,
           6310,
           5056.25,
           4086.25,
           11243.75,
           9137.5,
           8213.75,
           6651.25,
           5397.5,
           4427.5,
           3418.75,
           3191.25,
           11425,
           9318.75,
           8395,
           6832.5,
           5578.75,
           4608.75,
           3600,
           3372.5,
           12642.5,
           10536.25,
           9612.5,
           8050,
           6796.25,
           5826.25,
           4817.5,
           4590,
           4190,
           4046.25,
           3920,
           3720,
           3631.25,
           3556.25,
           13508.75,
           11402.500000000002,
           10478.75,
           8916.25,
           7662.5,
           6692.5,
           5683.75,
           5456.25,
           5056.25,
           4912.5,
           4786.250000000001,
           4586.25,
           4497.5,
           4422.5,
           4272.5,
           14086.25,
           11980,
           11056.25,
           9493.75,
           8240,
           7270,
           6261.25,
           6033.75,
           5633.75,
           5490,
           5363.75,
           5163.75,
           5075,
           5000,
           4850,
           15352.5,
           13246.25,
           12322.5,
           10760,
           9506.25,
           8536.25,
           7527.5,
           7300,
           6900,
           6756.25,
           6630,
           6430,
           6341.25,
           6266.25,
           6116.25,
           6082.5,
           19066.25,
           16960,
           16036.25,
           14473.75,
           13220,
           12250,
           11241.25,
           11013.75,
           10613.75,
           10470,
           10343.75,
           10143.75,
           10055,
           9980,
           9830,
           9796.25,
           9732.5,
           16952.5,
           17077.5,
           17292.5,
           17112.5,
           17530,
           18555,
           19316.25,
           19397.5,
           14891.25,
           20547.5,
           16041.25,
           20967.5,
           16461.25,
           13545,
           22286.25,
           17780,
           14863.75,
           14076.25,
           24005,
           19498.75,
           16582.5,
           15795,
           13741.25,
           13130,
           25466.25,
           20960,
           18043.75,
           17256.25,
           15202.5,
           14591.25,
           12853.75,
           12480,
           26243.75,
           21737.5,
           18821.25,
           18033.75,
           15980,
           15368.75,
           13631.25,
           13257.5,
           12082.5,
           11892.5,
           27213.75,
           22707.5,
           19791.25,
           19003.75,
           16950,
           16338.75,
           14601.25,
           14227.5,
           13052.5,
           12862.5
          ],
          "sizemode": "area",
          "sizeref": 68.034375,
          "symbol": "circle"
         },
         "mode": "markers",
         "name": "BANKNIFTY",
         "orientation": "v",
         "showlegend": true,
         "type": "scatter",
         "x": [
          0.3591124908692477,
          0.40502556610664725,
          0.4250840029218407,
          0.45831994156318484,
          0.34786340394448506,
          0.38969138056975905,
          0.4136723886048211,
          0.4456008035062089,
          0.483199415631848,
          0.3344758948137327,
          0.3754930606281957,
          0.3947699050401753,
          0.4321621621621622,
          0.4711468224981738,
          0.30922571219868517,
          0.34629291453615785,
          0.3647918188458728,
          0.4067202337472608,
          0.43658144631117607,
          0.29658144631117606,
          0.3336851716581446,
          0.3526625273922572,
          0.39052227903579256,
          0.42684806428049676,
          0.4573959094229364,
          0.25135135135135134,
          0.29511322132943757,
          0.3145069393718043,
          0.34629291453615785,
          0.3821219868517166,
          0.41804236669101535,
          0.23864499634769906,
          0.28274287801314824,
          0.2995343316289263,
          0.3336851716581446,
          0.36642622352081816,
          0.4041526661796932,
          0.2135646457268079,
          0.24730277574872173,
          0.27279035792549305,
          0.3069740686632579,
          0.3368151935719503,
          0.3730241051862674,
          0.4215449233016801,
          0.4321621621621622,
          0.20365230094959824,
          0.2373228634039445,
          0.2540704894083273,
          0.29218224981738494,
          0.3298027757487217,
          0.3566983199415632,
          0.4075967859751644,
          0.4224342585829073,
          0.15137874360847337,
          0.1857140248356465,
          0.20243425858290723,
          0.2320781592403214,
          0.2685719503287071,
          0.2995343316289263,
          0.3415157048940833,
          0.3566983199415632,
          0.38886048210372537,
          0.4041526661796932,
          0.41804236669101535,
          0.4437783053323594,
          0.4573959094229364,
          0.47479912344777203,
          0.13410701241782322,
          0.16029948867786703,
          0.17372169466764062,
          0.2079327976625274,
          0.23403944485025566,
          0.2685719503287071,
          0.3145069393718043,
          0.33135682980277575,
          0.3559021183345507,
          0.3672315558802045,
          0.38379474068663255,
          0.41541271000730456,
          0.42772096420745076,
          0.43746165084002925,
          0.4841581446311176,
          0.12296932067202336,
          0.14620891161431704,
          0.1614243973703433,
          0.1910080350620891,
          0.21860299488677867,
          0.24663257852447046,
          0.29731555880204535,
          0.31298758217677136,
          0.33604090577063545,
          0.35184806428049675,
          0.36316106647187735,
          0.3947699050401753,
          0.4136723886048211,
          0.4250840029218407,
          0.4647151205259313,
          0.09994704163623082,
          0.12631300219138059,
          0.1370927684441198,
          0.1631117604090577,
          0.1910080350620891,
          0.21670562454346234,
          0.2595471146822498,
          0.27703433162892616,
          0.306227173119065,
          0.3221165084002922,
          0.3336851716581446,
          0.3574945215485756,
          0.3738385682980278,
          0.38886048210372537,
          0.4312837837837838,
          0.4419558071585099,
          0.06869978086194302,
          0.08429693206720236,
          0.08946311176040905,
          0.11322132943754566,
          0.13510409057706357,
          0.1534897735573411,
          0.19337837837837837,
          0.2079327976625274,
          0.227554784514244,
          0.2406281957633309,
          0.25543279766252747,
          0.2856355003652301,
          0.2995343316289263,
          0.3145069393718043,
          0.3502465303140978,
          0.3607085463842221,
          0.3930971512052593,
          0.1446311176040906,
          0.1396018991964938,
          0.12631300219138059,
          0.1243973703433163,
          0.11322132943754566,
          0.08907414170927681,
          0.0831081081081081,
          0.07723155588020453,
          0.1064682249817385,
          0.06455441928414901,
          0.08907414170927681,
          0.0607980277574872,
          0.08785244704163621,
          0.1123082542001461,
          0.05213294375456537,
          0.07683345507669832,
          0.0902739225712199,
          0.09909422936449963,
          0.0416289262235208,
          0.06177867056245435,
          0.0810810810810811,
          0.08505295836376918,
          0.1021037253469686,
          0.11005113221329438,
          0.035252008765522286,
          0.054685902118334545,
          0.07012783053323594,
          0.07573411249086925,
          0.08907414170927681,
          0.09312454346238129,
          0.11873813002191379,
          0.12487582176771365,
          0.032702702702702695,
          0.050571585098612135,
          0.06455441928414901,
          0.07046018991964938,
          0.08467494521548577,
          0.08865595325054781,
          0.1123082542001461,
          0.11596603360116871,
          0.1370927684441198,
          0.1446311176040906,
          0.029353542731921114,
          0.04612490869247627,
          0.059163623082542006,
          0.06381665449233018,
          0.07954711468224981,
          0.08351351351351353,
          0.09994704163623082,
          0.10733382030679327,
          0.13066837107377646,
          0.13559897735573412
         ],
         "xaxis": "x",
         "y": [
          0.4195471146822498,
          0.44098977355734115,
          0.45642074506939373,
          0.48369247626004386,
          0.41815924032140245,
          0.438308984660336,
          0.45433345507669826,
          0.4777757487216947,
          0.49628926223520814,
          0.4156172388604821,
          0.43547114682249816,
          0.449463111760409,
          0.4725986121256392,
          0.48896822498173853,
          0.4060847333820306,
          0.4247187728268809,
          0.4380861943024106,
          0.4615047479912346,
          0.4781537618699781,
          0.4010007304601899,
          0.4211559532505479,
          0.4345982468955442,
          0.456327611395179,
          0.4727465303140979,
          0.4949598246895544,
          0.3897151205259314,
          0.4055588020452885,
          0.4190284879474069,
          0.43842768444119795,
          0.44936997808619433,
          0.4743900657414171,
          0.38484477720964205,
          0.400518626734843,
          0.4105916727538349,
          0.43021183345507674,
          0.444981738495252,
          0.46801314828341856,
          0.37892987582176774,
          0.3889700511322133,
          0.3975602629656684,
          0.41907231555880203,
          0.43031409788166547,
          0.4511778670562454,
          0.48451424397370335,
          0.49343316289262235,
          0.37341124908692475,
          0.38758217677136597,
          0.3921256391526662,
          0.4105222790357926,
          0.41932067202337475,
          0.4413440467494521,
          0.47552958363769177,
          0.4842238860482104,
          0.3518535427319211,
          0.3568937180423667,
          0.36267713659605555,
          0.3758217677136596,
          0.38624543462381306,
          0.40421840759678596,
          0.42994521548575604,
          0.4435573411249087,
          0.4516289262235209,
          0.4617969320672024,
          0.46638787436084733,
          0.4815412710007304,
          0.48531957633308986,
          0.49621621621621625,
          0.3389791818845873,
          0.3473557341124909,
          0.35527027027027036,
          0.35996712929145364,
          0.3714116143170197,
          0.3861504747991234,
          0.4073776479181884,
          0.4184769905040176,
          0.42559897735573415,
          0.4341070124178233,
          0.43885135135135134,
          0.4554565376186998,
          0.4602008765522279,
          0.46968955441928417,
          0.48990504017531045,
          0.33744521548575607,
          0.34245799853907954,
          0.34740686632578527,
          0.350027392257122,
          0.36323411249086923,
          0.3771749452154857,
          0.4012600438276114,
          0.40799123447772095,
          0.41811541271000724,
          0.42562636961285616,
          0.4292439737034331,
          0.44120525931336746,
          0.4454802775748722,
          0.4542878013148283,
          0.4725200876552228,
          0.3297479912344777,
          0.33392987582176775,
          0.3351022644265888,
          0.3423666910153397,
          0.34869247626004385,
          0.3600036523009496,
          0.37816106647187725,
          0.38230094959824695,
          0.39829072315558806,
          0.40236486486486484,
          0.40713659605551494,
          0.41519357195032863,
          0.424499634769905,
          0.43022644265887505,
          0.44611395178962754,
          0.4503761869978087,
          0.32288897005113226,
          0.3148831263696129,
          0.3183418553688824,
          0.32298392987582175,
          0.3230350620891162,
          0.33199415631848067,
          0.34228268809349893,
          0.34897735573411254,
          0.3575401753104456,
          0.3645507669831994,
          0.36795471146822495,
          0.38066471877282687,
          0.38464024835646454,
          0.3909769905040175,
          0.40438276113951793,
          0.40627830533235937,
          0.40754200146092034,
          0.49566289262235214,
          0.49624543462381304,
          0.49342585829072316,
          0.4913111760409058,
          0.4901570489408328,
          0.48379108838568297,
          0.48369247626004386,
          0.4725986121256392,
          0.49113221329437545,
          0.46873630387143905,
          0.47991234477720957,
          0.46756391526661795,
          0.481345872899927,
          0.4982030679327976,
          0.45236303871439004,
          0.46904857560262975,
          0.4839864864864865,
          0.48667823228634044,
          0.44233382030679325,
          0.45697954711468225,
          0.46804601899196496,
          0.46840759678597516,
          0.4773959094229365,
          0.478882395909423,
          0.43890613586559535,
          0.45295836376917453,
          0.451972242512783,
          0.456355003652301,
          0.4663257852447042,
          0.4664353542731921,
          0.4815412710007304,
          0.4842622352081812,
          0.4385098612125639,
          0.4427027027027027,
          0.44733564645726814,
          0.4560701241782323,
          0.45808619430241043,
          0.4617969320672024,
          0.4712344777209643,
          0.4734477720964207,
          0.49238312636961296,
          0.4993060628195763,
          0.43954528853177505,
          0.4411102994886779,
          0.4470416362308255,
          0.44915997078159237,
          0.4506574141709277,
          0.4531555880204529,
          0.464172753834916,
          0.46550401753104453,
          0.48606647187728275,
          0.49552958363769173
         ],
         "yaxis": "y"
        },
        {
         "customdata": [
          [
           "2022-01-27T00:00:00",
           2416.85,
           0.22481373265157056,
           2420,
           2360,
           0.05505444414561654,
           46,
           20.15,
           73.05833333333335,
           19925
          ],
          [
           "2022-01-27T00:00:00",
           2416.85,
           0.09542001460920391,
           2440,
           2360,
           0.05896035473171001,
           36.4,
           20.15,
           62.49833333333334,
           17045
          ],
          [
           "2022-01-27T00:00:00",
           2416.85,
           -0.04631117604090562,
           2460,
           2360,
           0.06363999972415886,
           28.5,
           20.15,
           53.80833333333334,
           14675
          ]
         ],
         "hovertemplate": "underlying_name=HINDUNILVR<br>p_not_breakeven_tp=%{x}<br>p_not_breakeven_volatility=%{y}<br>cost=%{customdata[9]}<br>expiry=%{customdata[0]}<br>underlying_value=%{customdata[1]}<br>kelly_fraction=%{customdata[2]}<br>ce_strike_price=%{customdata[3]}<br>pe_strike_price=%{customdata[4]}<br>spread_percent=%{customdata[5]}<br>ce_premium=%{customdata[6]}<br>pe_premium=%{customdata[7]}<br>target=%{customdata[8]}<extra></extra>",
         "legendgroup": "HINDUNILVR",
         "marker": {
          "color": "#00cc96",
          "size": [
           19925,
           17045,
           14675
          ],
          "sizemode": "area",
          "sizeref": 68.034375,
          "symbol": "circle"
         },
         "mode": "markers",
         "name": "HINDUNILVR",
         "orientation": "v",
         "showlegend": true,
         "type": "scatter",
         "x": [
          0.029561723886048212,
          0.04132943754565375,
          0.054685902118334545
         ],
         "xaxis": "x",
         "y": [
          0.47956902848794736,
          0.49128560993425857,
          0.4994521548575602
         ],
         "yaxis": "y"
        }
       ],
       "layout": {
        "autosize": true,
        "legend": {
         "itemsizing": "constant",
         "title": {
          "text": "underlying_name"
         },
         "tracegroupgap": 0
        },
        "margin": {
         "t": 60
        },
        "template": {
         "data": {
          "bar": [
           {
            "error_x": {
             "color": "#2a3f5f"
            },
            "error_y": {
             "color": "#2a3f5f"
            },
            "marker": {
             "line": {
              "color": "#E5ECF6",
              "width": 0.5
             },
             "pattern": {
              "fillmode": "overlay",
              "size": 10,
              "solidity": 0.2
             }
            },
            "type": "bar"
           }
          ],
          "barpolar": [
           {
            "marker": {
             "line": {
              "color": "#E5ECF6",
              "width": 0.5
             },
             "pattern": {
              "fillmode": "overlay",
              "size": 10,
              "solidity": 0.2
             }
            },
            "type": "barpolar"
           }
          ],
          "carpet": [
           {
            "aaxis": {
             "endlinecolor": "#2a3f5f",
             "gridcolor": "white",
             "linecolor": "white",
             "minorgridcolor": "white",
             "startlinecolor": "#2a3f5f"
            },
            "baxis": {
             "endlinecolor": "#2a3f5f",
             "gridcolor": "white",
             "linecolor": "white",
             "minorgridcolor": "white",
             "startlinecolor": "#2a3f5f"
            },
            "type": "carpet"
           }
          ],
          "choropleth": [
           {
            "colorbar": {
             "outlinewidth": 0,
             "ticks": ""
            },
            "type": "choropleth"
           }
          ],
          "contour": [
           {
            "colorbar": {
             "outlinewidth": 0,
             "ticks": ""
            },
            "colorscale": [
             [
              0,
              "#0d0887"
             ],
             [
              0.1111111111111111,
              "#46039f"
             ],
             [
              0.2222222222222222,
              "#7201a8"
             ],
             [
              0.3333333333333333,
              "#9c179e"
             ],
             [
              0.4444444444444444,
              "#bd3786"
             ],
             [
              0.5555555555555556,
              "#d8576b"
             ],
             [
              0.6666666666666666,
              "#ed7953"
             ],
             [
              0.7777777777777778,
              "#fb9f3a"
             ],
             [
              0.8888888888888888,
              "#fdca26"
             ],
             [
              1,
              "#f0f921"
             ]
            ],
            "type": "contour"
           }
          ],
          "contourcarpet": [
           {
            "colorbar": {
             "outlinewidth": 0,
             "ticks": ""
            },
            "type": "contourcarpet"
           }
          ],
          "heatmap": [
           {
            "colorbar": {
             "outlinewidth": 0,
             "ticks": ""
            },
            "colorscale": [
             [
              0,
              "#0d0887"
             ],
             [
              0.1111111111111111,
              "#46039f"
             ],
             [
              0.2222222222222222,
              "#7201a8"
             ],
             [
              0.3333333333333333,
              "#9c179e"
             ],
             [
              0.4444444444444444,
              "#bd3786"
             ],
             [
              0.5555555555555556,
              "#d8576b"
             ],
             [
              0.6666666666666666,
              "#ed7953"
             ],
             [
              0.7777777777777778,
              "#fb9f3a"
             ],
             [
              0.8888888888888888,
              "#fdca26"
             ],
             [
              1,
              "#f0f921"
             ]
            ],
            "type": "heatmap"
           }
          ],
          "heatmapgl": [
           {
            "colorbar": {
             "outlinewidth": 0,
             "ticks": ""
            },
            "colorscale": [
             [
              0,
              "#0d0887"
             ],
             [
              0.1111111111111111,
              "#46039f"
             ],
             [
              0.2222222222222222,
              "#7201a8"
             ],
             [
              0.3333333333333333,
              "#9c179e"
             ],
             [
              0.4444444444444444,
              "#bd3786"
             ],
             [
              0.5555555555555556,
              "#d8576b"
             ],
             [
              0.6666666666666666,
              "#ed7953"
             ],
             [
              0.7777777777777778,
              "#fb9f3a"
             ],
             [
              0.8888888888888888,
              "#fdca26"
             ],
             [
              1,
              "#f0f921"
             ]
            ],
            "type": "heatmapgl"
           }
          ],
          "histogram": [
           {
            "marker": {
             "pattern": {
              "fillmode": "overlay",
              "size": 10,
              "solidity": 0.2
             }
            },
            "type": "histogram"
           }
          ],
          "histogram2d": [
           {
            "colorbar": {
             "outlinewidth": 0,
             "ticks": ""
            },
            "colorscale": [
             [
              0,
              "#0d0887"
             ],
             [
              0.1111111111111111,
              "#46039f"
             ],
             [
              0.2222222222222222,
              "#7201a8"
             ],
             [
              0.3333333333333333,
              "#9c179e"
             ],
             [
              0.4444444444444444,
              "#bd3786"
             ],
             [
              0.5555555555555556,
              "#d8576b"
             ],
             [
              0.6666666666666666,
              "#ed7953"
             ],
             [
              0.7777777777777778,
              "#fb9f3a"
             ],
             [
              0.8888888888888888,
              "#fdca26"
             ],
             [
              1,
              "#f0f921"
             ]
            ],
            "type": "histogram2d"
           }
          ],
          "histogram2dcontour": [
           {
            "colorbar": {
             "outlinewidth": 0,
             "ticks": ""
            },
            "colorscale": [
             [
              0,
              "#0d0887"
             ],
             [
              0.1111111111111111,
              "#46039f"
             ],
             [
              0.2222222222222222,
              "#7201a8"
             ],
             [
              0.3333333333333333,
              "#9c179e"
             ],
             [
              0.4444444444444444,
              "#bd3786"
             ],
             [
              0.5555555555555556,
              "#d8576b"
             ],
             [
              0.6666666666666666,
              "#ed7953"
             ],
             [
              0.7777777777777778,
              "#fb9f3a"
             ],
             [
              0.8888888888888888,
              "#fdca26"
             ],
             [
              1,
              "#f0f921"
             ]
            ],
            "type": "histogram2dcontour"
           }
          ],
          "mesh3d": [
           {
            "colorbar": {
             "outlinewidth": 0,
             "ticks": ""
            },
            "type": "mesh3d"
           }
          ],
          "parcoords": [
           {
            "line": {
             "colorbar": {
              "outlinewidth": 0,
              "ticks": ""
             }
            },
            "type": "parcoords"
           }
          ],
          "pie": [
           {
            "automargin": true,
            "type": "pie"
           }
          ],
          "scatter": [
           {
            "marker": {
             "colorbar": {
              "outlinewidth": 0,
              "ticks": ""
             }
            },
            "type": "scatter"
           }
          ],
          "scatter3d": [
           {
            "line": {
             "colorbar": {
              "outlinewidth": 0,
              "ticks": ""
             }
            },
            "marker": {
             "colorbar": {
              "outlinewidth": 0,
              "ticks": ""
             }
            },
            "type": "scatter3d"
           }
          ],
          "scattercarpet": [
           {
            "marker": {
             "colorbar": {
              "outlinewidth": 0,
              "ticks": ""
             }
            },
            "type": "scattercarpet"
           }
          ],
          "scattergeo": [
           {
            "marker": {
             "colorbar": {
              "outlinewidth": 0,
              "ticks": ""
             }
            },
            "type": "scattergeo"
           }
          ],
          "scattergl": [
           {
            "marker": {
             "colorbar": {
              "outlinewidth": 0,
              "ticks": ""
             }
            },
            "type": "scattergl"
           }
          ],
          "scattermapbox": [
           {
            "marker": {
             "colorbar": {
              "outlinewidth": 0,
              "ticks": ""
             }
            },
            "type": "scattermapbox"
           }
          ],
          "scatterpolar": [
           {
            "marker": {
             "colorbar": {
              "outlinewidth": 0,
              "ticks": ""
             }
            },
            "type": "scatterpolar"
           }
          ],
          "scatterpolargl": [
           {
            "marker": {
             "colorbar": {
              "outlinewidth": 0,
              "ticks": ""
             }
            },
            "type": "scatterpolargl"
           }
          ],
          "scatterternary": [
           {
            "marker": {
             "colorbar": {
              "outlinewidth": 0,
              "ticks": ""
             }
            },
            "type": "scatterternary"
           }
          ],
          "surface": [
           {
            "colorbar": {
             "outlinewidth": 0,
             "ticks": ""
            },
            "colorscale": [
             [
              0,
              "#0d0887"
             ],
             [
              0.1111111111111111,
              "#46039f"
             ],
             [
              0.2222222222222222,
              "#7201a8"
             ],
             [
              0.3333333333333333,
              "#9c179e"
             ],
             [
              0.4444444444444444,
              "#bd3786"
             ],
             [
              0.5555555555555556,
              "#d8576b"
             ],
             [
              0.6666666666666666,
              "#ed7953"
             ],
             [
              0.7777777777777778,
              "#fb9f3a"
             ],
             [
              0.8888888888888888,
              "#fdca26"
             ],
             [
              1,
              "#f0f921"
             ]
            ],
            "type": "surface"
           }
          ],
          "table": [
           {
            "cells": {
             "fill": {
              "color": "#EBF0F8"
             },
             "line": {
              "color": "white"
             }
            },
            "header": {
             "fill": {
              "color": "#C8D4E3"
             },
             "line": {
              "color": "white"
             }
            },
            "type": "table"
           }
          ]
         },
         "layout": {
          "annotationdefaults": {
           "arrowcolor": "#2a3f5f",
           "arrowhead": 0,
           "arrowwidth": 1
          },
          "autotypenumbers": "strict",
          "coloraxis": {
           "colorbar": {
            "outlinewidth": 0,
            "ticks": ""
           }
          },
          "colorscale": {
           "diverging": [
            [
             0,
             "#8e0152"
            ],
            [
             0.1,
             "#c51b7d"
            ],
            [
             0.2,
             "#de77ae"
            ],
            [
             0.3,
             "#f1b6da"
            ],
            [
             0.4,
             "#fde0ef"
            ],
            [
             0.5,
             "#f7f7f7"
            ],
            [
             0.6,
             "#e6f5d0"
            ],
            [
             0.7,
             "#b8e186"
            ],
            [
             0.8,
             "#7fbc41"
            ],
            [
             0.9,
             "#4d9221"
            ],
            [
             1,
             "#276419"
            ]
           ],
           "sequential": [
            [
             0,
             "#0d0887"
            ],
            [
             0.1111111111111111,
             "#46039f"
            ],
            [
             0.2222222222222222,
             "#7201a8"
            ],
            [
             0.3333333333333333,
             "#9c179e"
            ],
            [
             0.4444444444444444,
             "#bd3786"
            ],
            [
             0.5555555555555556,
             "#d8576b"
            ],
            [
             0.6666666666666666,
             "#ed7953"
            ],
            [
             0.7777777777777778,
             "#fb9f3a"
            ],
            [
             0.8888888888888888,
             "#fdca26"
            ],
            [
             1,
             "#f0f921"
            ]
           ],
           "sequentialminus": [
            [
             0,
             "#0d0887"
            ],
            [
             0.1111111111111111,
             "#46039f"
            ],
            [
             0.2222222222222222,
             "#7201a8"
            ],
            [
             0.3333333333333333,
             "#9c179e"
            ],
            [
             0.4444444444444444,
             "#bd3786"
            ],
            [
             0.5555555555555556,
             "#d8576b"
            ],
            [
             0.6666666666666666,
             "#ed7953"
            ],
            [
             0.7777777777777778,
             "#fb9f3a"
            ],
            [
             0.8888888888888888,
             "#fdca26"
            ],
            [
             1,
             "#f0f921"
            ]
           ]
          },
          "colorway": [
           "#636efa",
           "#EF553B",
           "#00cc96",
           "#ab63fa",
           "#FFA15A",
           "#19d3f3",
           "#FF6692",
           "#B6E880",
           "#FF97FF",
           "#FECB52"
          ],
          "font": {
           "color": "#2a3f5f"
          },
          "geo": {
           "bgcolor": "white",
           "lakecolor": "white",
           "landcolor": "#E5ECF6",
           "showlakes": true,
           "showland": true,
           "subunitcolor": "white"
          },
          "hoverlabel": {
           "align": "left"
          },
          "hovermode": "closest",
          "mapbox": {
           "style": "light"
          },
          "paper_bgcolor": "white",
          "plot_bgcolor": "#E5ECF6",
          "polar": {
           "angularaxis": {
            "gridcolor": "white",
            "linecolor": "white",
            "ticks": ""
           },
           "bgcolor": "#E5ECF6",
           "radialaxis": {
            "gridcolor": "white",
            "linecolor": "white",
            "ticks": ""
           }
          },
          "scene": {
           "xaxis": {
            "backgroundcolor": "#E5ECF6",
            "gridcolor": "white",
            "gridwidth": 2,
            "linecolor": "white",
            "showbackground": true,
            "ticks": "",
            "zerolinecolor": "white"
           },
           "yaxis": {
            "backgroundcolor": "#E5ECF6",
            "gridcolor": "white",
            "gridwidth": 2,
            "linecolor": "white",
            "showbackground": true,
            "ticks": "",
            "zerolinecolor": "white"
           },
           "zaxis": {
            "backgroundcolor": "#E5ECF6",
            "gridcolor": "white",
            "gridwidth": 2,
            "linecolor": "white",
            "showbackground": true,
            "ticks": "",
            "zerolinecolor": "white"
           }
          },
          "shapedefaults": {
           "line": {
            "color": "#2a3f5f"
           }
          },
          "ternary": {
           "aaxis": {
            "gridcolor": "white",
            "linecolor": "white",
            "ticks": ""
           },
           "baxis": {
            "gridcolor": "white",
            "linecolor": "white",
            "ticks": ""
           },
           "bgcolor": "#E5ECF6",
           "caxis": {
            "gridcolor": "white",
            "linecolor": "white",
            "ticks": ""
           }
          },
          "title": {
           "x": 0.05
          },
          "xaxis": {
           "automargin": true,
           "gridcolor": "white",
           "linecolor": "white",
           "ticks": "",
           "title": {
            "standoff": 15
           },
           "zerolinecolor": "white",
           "zerolinewidth": 2
          },
          "yaxis": {
           "automargin": true,
           "gridcolor": "white",
           "linecolor": "white",
           "ticks": "",
           "title": {
            "standoff": 15
           },
           "zerolinecolor": "white",
           "zerolinewidth": 2
          }
         }
        },
        "xaxis": {
         "anchor": "y",
         "autorange": true,
         "domain": [
          0,
          1
         ],
         "range": [
          -0.0033829610361548017,
          0.5171842683509152
         ],
         "title": {
          "text": "p_not_breakeven_tp"
         },
         "type": "linear"
        },
        "yaxis": {
         "anchor": "x",
         "autorange": true,
         "domain": [
          0,
          1
         ],
         "range": [
          0.21123829713287187,
          0.5324669765933537
         ],
         "title": {
          "text": "p_not_breakeven_volatility"
         },
         "type": "linear"
        }
       }
      },
      "image/png": "[encoded data removed]",
      "text/html": [
       "<div>                            <div id=\"db4bedd9-842b-4edd-a02a-8484880ffe67\" class=\"plotly-graph-div\" style=\"height:525px; width:100%;\"></div>            <script type=\"text/javascript\">                require([\"plotly\"], function(Plotly) {                    window.PLOTLYENV=window.PLOTLYENV || {};                                    if (document.getElementById(\"db4bedd9-842b-4edd-a02a-8484880ffe67\")) {                    Plotly.newPlot(                        \"db4bedd9-842b-4edd-a02a-8484880ffe67\",                        [{\"customdata\":[[\"2022-01-13T00:00:00\",17757.35,-2.8223374726077433,17800.0,16650.0,0.07278704311172558,123.9,4.05,142.50500000000002,6477.5],[\"2022-01-13T00:00:00\",17757.35,-2.693498904309715,17800.0,16700.0,0.07000228074571939,123.9,4.55,143.05500000000004,6502.5],[\"2022-01-13T00:00:00\",17757.35,-2.605040175310445,17800.0,16750.0,0.0672175183797132,123.9,5.05,143.60500000000002,6527.5],[\"2022-01-13T00:00:00\",17757.35,-3.1945726807888972,17950.0,16750.0,0.07206874899689425,65.85,5.05,79.74999999999999,3624.9999999999995],[\"2022-01-13T00:00:00\",17757.35,-3.420310445580715,18000.0,16750.0,0.0740203352414634,51.9,5.05,64.405,2927.5],[\"2022-01-13T00:00:00\",17757.35,-3.9615230094959824,18150.0,16750.0,0.0807454378046274,24.1,5.05,33.825,1537.5],[\"2022-01-13T00:00:00\",17757.35,-2.1603999269539806,17800.0,16900.0,0.05891898284372386,123.9,7.45,146.245,6647.5],[\"2022-01-13T00:00:00\",17757.35,-2.729839298758217,17950.0,16900.0,0.06377021346090493,65.85,7.45,82.39,3744.9999999999995],[\"2022-01-13T00:00:00\",17757.35,-2.950628195763331,18000.0,16900.0,0.06572179970547408,51.9,7.45,67.045,3047.5],[\"2022-01-13T00:00:00\",17757.35,-3.5661468224981743,18150.0,16900.0,0.07244690226863806,24.1,7.45,36.465,1657.5],[\"2022-01-13T00:00:00\",17757.35,-3.7064663988312643,18200.0,16900.0,0.07492812835248504,18.7,7.45,30.525000000000002,1387.5],[\"2022-01-13T00:00:00\",17757.35,-4.224996347699051,18350.0,16900.0,0.08273109444821442,8.3,7.45,19.085000000000004,867.5],[\"2022-01-13T00:00:00\",17757.35,-4.395266617969321,18400.0,16900.0,0.08543532678017836,6.5,7.45,17.105,777.5],[\"2022-01-13T00:00:00\",17757.35,-1.5377556610664718,17800.0,17100.0,0.0479286042117771,123.9,11.85,151.085,6867.5],[\"2022-01-13T00:00:00\",17757.35,-2.180894813732652,17950.0,17100.0,0.05277983482895816,65.85,11.85,87.23,3964.9999999999995],[\"2022-01-13T00:00:00\",17757.35,-2.3767804967129296,18000.0,17100.0,0.054731421073527305,51.9,11.85,71.885,3267.5],[\"2022-01-13T00:00:00\",17757.35,-2.882030679327976,18150.0,17100.0,0.061456523636691296,24.1,11.85,41.305,1877.5],[\"2022-01-13T00:00:00\",17757.35,-3.0403287070854628,18200.0,17100.0,0.06393774972053826,18.7,11.85,35.365,1607.5],[\"2022-01-13T00:00:00\",17757.35,-3.60536157779401,18350.0,17100.0,0.07174071581626763,8.3,11.85,23.925,1087.5],[\"2022-01-13T00:00:00\",17757.35,-3.7397187728268806,18400.0,17100.0,0.07444494814823158,6.5,11.85,21.945,997.5],[\"2022-01-13T00:00:00\",17757.35,-0.8890175310445582,17800.0,17350.0,0.03485655235719294,123.9,28.1,168.96,7680.0],[\"2022-01-13T00:00:00\",17757.35,-1.4254857560262966,17950.0,17350.0,0.039707782974373995,65.85,28.1,105.105,4777.5],[\"2022-01-13T00:00:00\",17757.35,-1.5467951059167275,18000.0,17350.0,0.04165936921894314,51.9,28.1,89.76,4080.0],[\"2022-01-13T00:00:00\",17757.35,-2.115900292184076,18150.0,17350.0,0.04838447178210713,24.1,28.1,59.18,2690.0],[\"2022-01-13T00:00:00\",17757.35,-2.2610482103725347,18200.0,17350.0,0.0508656978659541,18.7,28.1,53.24,2420.0],[\"2022-01-13T00:00:00\",17757.35,-2.7191417092768444,18350.0,17350.0,0.05866866396168347,8.3,28.1,41.800000000000004,1900.0],[\"2022-01-13T00:00:00\",17757.35,-2.885330533235938,18400.0,17350.0,0.06137289629364742,6.5,28.1,39.82000000000001,1810.0],[\"2022-01-13T00:00:00\",17757.35,-3.6877319211102995,18650.0,17350.0,0.07519449692662476,2.35,28.1,35.255,1602.5],[\"2022-01-13T00:00:00\",17757.35,-0.7596512052593135,17800.0,17400.0,0.03242488321737196,123.9,34.3,175.78000000000003,7990.0],[\"2022-01-13T00:00:00\",17757.35,-1.2940686632578526,17950.0,17400.0,0.03727611383455302,65.85,34.3,111.925,5087.499999999999],[\"2022-01-13T00:00:00\",17757.35,-1.4254601899196495,18000.0,17400.0,0.03922770007912217,51.9,34.3,96.58,4390.0],[\"2022-01-13T00:00:00\",17757.35,-1.9053542731921107,18150.0,17400.0,0.045952802642286156,24.1,34.3,66.0,3000.0],[\"2022-01-13T00:00:00\",17757.35,-2.100200876552227,18200.0,17400.0,0.04843402872613313,18.7,34.3,60.06000000000001,2730.0],[\"2022-01-13T00:00:00\",17757.35,-2.6151661796932064,18350.0,17400.0,0.0562369948218625,8.3,34.3,48.620000000000005,2210.0],[\"2022-01-13T00:00:00\",17757.35,-2.7101168736303873,18400.0,17400.0,0.05894122715382646,6.5,34.3,46.64,2120.0],[\"2022-01-13T00:00:00\",17757.35,-0.4218955441928416,17800.0,17550.0,0.02571836450821773,123.9,62.4,206.69000000000003,9395.0],[\"2022-01-13T00:00:00\",17757.35,-0.8140522279035791,17950.0,17550.0,0.030569595125398783,65.85,62.4,142.835,6492.5],[\"2022-01-13T00:00:00\",17757.35,-0.9690650109569028,18000.0,17550.0,0.032521181369967934,51.9,62.4,127.49000000000002,5795.0],[\"2022-01-13T00:00:00\",17757.35,-1.412264426588751,18150.0,17550.0,0.03924628393313192,24.1,62.4,96.91,4405.0],[\"2022-01-13T00:00:00\",17757.35,-1.5341508400292185,18200.0,17550.0,0.04172751001697889,18.7,62.4,90.97000000000001,4135.0],[\"2022-01-13T00:00:00\",17757.35,-2.044914170927684,18350.0,17550.0,0.04953047611270826,8.3,62.4,79.53,3615.0],[\"2022-01-13T00:00:00\",17757.35,-2.1815230094959825,18400.0,17550.0,0.052234708444672207,6.5,62.4,77.55000000000001,3525.0],[\"2022-01-13T00:00:00\",17757.35,-2.9180807158509854,18650.0,17550.0,0.06605630907764953,2.35,62.4,72.985,3317.5],[\"2022-01-13T00:00:00\",17757.35,-0.2913148283418552,17800.0,17600.0,0.023745097100637203,123.9,76.0,221.65,10075.0],[\"2022-01-13T00:00:00\",17757.35,-0.6749598246895543,17950.0,17600.0,0.028596327717818254,65.85,76.0,157.795,7172.5],[\"2022-01-13T00:00:00\",17757.35,-0.8108016800584366,18000.0,17600.0,0.030547913962387412,51.9,76.0,142.45000000000002,6475.0],[\"2022-01-13T00:00:00\",17757.35,-1.2823593864134408,18150.0,17600.0,0.03727301652555139,24.1,76.0,111.87000000000002,5085.0],[\"2022-01-13T00:00:00\",17757.35,-1.4148502556610665,18200.0,17600.0,0.03975424260939837,18.7,76.0,105.93,4815.0],[\"2022-01-13T00:00:00\",17757.35,-1.8050109569028485,18350.0,17600.0,0.04755720870512774,8.3,76.0,94.49000000000001,4295.0],[\"2022-01-13T00:00:00\",17757.35,-2.0060664718772827,18400.0,17600.0,0.05026144103709169,6.5,76.0,92.51,4205.0],[\"2022-01-13T00:00:00\",17757.35,-2.699225712198685,18650.0,17600.0,0.06408304167006902,2.35,76.0,87.94500000000001,3997.5],[\"2022-01-13T00:00:00\",17757.35,-0.019495982468955342,17800.0,17750.0,0.018807141831410655,123.9,132.65,283.965,12907.5],[\"2022-01-13T00:00:00\",17757.35,-0.30559532505478426,17950.0,17750.0,0.023658372448591713,65.85,132.65,220.11,10005.0],[\"2022-01-13T00:00:00\",17757.35,-0.43065376186997795,18000.0,17750.0,0.02560995869316086,51.9,132.65,204.76500000000001,9307.5],[\"2022-01-13T00:00:00\",17757.35,-0.7614408327246165,18150.0,17750.0,0.03233506125632485,24.1,132.65,174.185,7917.5],[\"2022-01-13T00:00:00\",17757.35,-0.8870270270270271,18200.0,17750.0,0.03481628734017182,18.7,132.65,168.245,7647.5],[\"2022-01-13T00:00:00\",17757.35,-1.3001917457998542,18350.0,17750.0,0.0426192534359012,8.3,132.65,156.80500000000004,7127.5],[\"2022-01-13T00:00:00\",17757.35,-1.4181154127100073,18400.0,17750.0,0.04532348576786514,6.5,132.65,154.82500000000002,7037.5],[\"2022-01-13T00:00:00\",17757.35,-2.1302045288531777,18650.0,17750.0,0.05914508640084247,2.35,132.65,150.26000000000002,6830.0],[\"2022-01-13T00:00:00\",17757.35,-2.5773739956172386,18800.0,17750.0,0.06754273582488379,1.55,132.65,149.38000000000002,6790.0],[\"2022-01-13T00:00:00\",17757.35,-2.691197954711468,18850.0,17750.0,0.07035847128090623,1.55,132.65,149.38000000000002,6790.0],[\"2022-01-20T00:00:00\",17757.35,-1.2157962016070125,17800.0,16200.0,0.1030626754555156,198.95,8.65,230.12,10460.0],[\"2022-01-20T00:00:00\",17757.35,-1.4127903579254928,17850.0,16200.0,0.10427710215769809,173.1,8.65,201.685,9167.5],[\"2022-01-20T00:00:00\",17757.35,-1.706983199415632,17950.0,16200.0,0.107201525002323,129.4,8.65,153.615,6982.5],[\"2022-01-20T00:00:00\",17757.35,-1.0095872899926952,17800.0,16400.0,0.09193291791849574,198.95,10.8,232.485,10567.5],[\"2022-01-20T00:00:00\",17757.35,-1.1675018261504746,17850.0,16400.0,0.0931473446206782,173.1,10.8,204.05,9275.0],[\"2022-01-20T00:00:00\",17757.35,-1.4864536157779402,17950.0,16400.0,0.0960717674653031,129.4,10.8,155.98000000000002,7090.0],[\"2022-01-20T00:00:00\",17757.35,-1.731820672023375,18050.0,16400.0,0.0995227328402042,94.2,10.8,117.26,5330.0],[\"2022-01-20T00:00:00\",17757.35,-0.8000620891161431,17800.0,16600.0,0.08087439848851322,198.95,14.1,236.11500000000004,10732.5],[\"2022-01-20T00:00:00\",17757.35,-0.9423155588020453,17850.0,16600.0,0.0820888251906957,173.1,14.1,207.68000000000004,9440.0],[\"2022-01-20T00:00:00\",17757.35,-1.227025200876552,17950.0,16600.0,0.0850132480353206,129.4,14.1,159.61,7255.0],[\"2022-01-20T00:00:00\",17757.35,-1.5166581446311174,18050.0,16600.0,0.08846421341022169,94.2,14.1,120.89000000000001,5495.0],[\"2022-01-20T00:00:00\",17757.35,-1.7318042366691018,18150.0,16600.0,0.09230234241032588,65.25,14.1,89.04500000000002,4047.5],[\"2022-01-20T00:00:00\",17757.35,-0.7506300219138056,17800.0,16700.0,0.07538540379054308,198.95,16.4,238.645,10847.5],[\"2022-01-20T00:00:00\",17757.35,-0.843599342585829,17850.0,16700.0,0.07659983049272556,173.1,16.4,210.21,9555.0],[\"2022-01-20T00:00:00\",17757.35,-1.1090850986121255,17950.0,16700.0,0.07952425333735046,129.4,16.4,162.14000000000001,7370.0],[\"2022-01-20T00:00:00\",17757.35,-1.3970270270270273,18050.0,16700.0,0.08297521871225155,94.2,16.4,123.42000000000002,5610.0],[\"2022-01-20T00:00:00\",17757.35,-1.6199415631848064,18150.0,16700.0,0.08681334771235574,65.25,16.4,91.575,4162.5],[\"2022-01-20T00:00:00\",17757.35,-1.7206245434623813,18200.0,16700.0,0.08894457787901912,54.2,16.4,79.42000000000002,3610.0],[\"2022-01-20T00:00:00\",17757.35,-0.5917750182615047,17800.0,16850.0,0.06730058257566585,198.95,22.25,245.08000000000004,11140.0],[\"2022-01-20T00:00:00\",17757.35,-0.7350693937180423,17850.0,16850.0,0.06851500927784833,173.1,22.25,216.645,9847.5],[\"2022-01-20T00:00:00\",17757.35,-0.9325675675675678,17950.0,16850.0,0.07143943212247324,129.4,22.25,168.57500000000002,7662.5],[\"2022-01-20T00:00:00\",17757.35,-1.1864499634769903,18050.0,16850.0,0.07489039749737433,94.2,22.25,129.85500000000002,5902.5],[\"2022-01-20T00:00:00\",17757.35,-1.466121256391527,18150.0,16850.0,0.07872852649747851,65.25,22.25,98.01,4455.0],[\"2022-01-20T00:00:00\",17757.35,-1.5664864864864865,18200.0,16850.0,0.0808597566641419,54.2,22.25,85.855,3902.5],[\"2022-01-20T00:00:00\",17757.35,-0.5378378378378379,17800.0,16900.0,0.06466758835073928,198.95,25.2,248.32500000000002,11287.5],[\"2022-01-20T00:00:00\",17757.35,-0.6671475529583641,17850.0,16900.0,0.06588201505292175,173.1,25.2,219.89000000000001,9995.0],[\"2022-01-20T00:00:00\",17757.35,-0.8682231555880204,17950.0,16900.0,0.06880643789754665,129.4,25.2,171.82,7810.0],[\"2022-01-20T00:00:00\",17757.35,-1.1094485025566105,18050.0,16900.0,0.07225740327244774,94.2,25.2,133.10000000000002,6050.0],[\"2022-01-20T00:00:00\",17757.35,-1.3660299488677865,18150.0,16900.0,0.07609553227255195,65.25,25.2,101.25500000000001,4602.5],[\"2022-01-20T00:00:00\",17757.35,-1.4846585098612126,18200.0,16900.0,0.07822676243921531,54.2,25.2,89.10000000000001,4050.0],[\"2022-01-20T00:00:00\",17757.35,-1.6571804236669099,18300.0,16900.0,0.08282373214471754,37.5,25.2,70.73,3215.0],[\"2022-01-20T00:00:00\",17757.35,-0.34992695398100804,17800.0,17050.0,0.05695754152505864,198.95,37.1,261.415,11882.5],[\"2022-01-20T00:00:00\",17757.35,-0.4865230094959824,17850.0,17050.0,0.05817196822724112,173.1,37.1,232.98000000000002,10590.0],[\"2022-01-20T00:00:00\",17757.35,-0.7377940102264424,17950.0,17050.0,0.06109639107186603,129.4,37.1,184.91,8405.0],[\"2022-01-20T00:00:00\",17757.35,-0.9202647918188458,18050.0,17050.0,0.06454735644676712,94.2,37.1,146.19000000000003,6645.0],[\"2022-01-20T00:00:00\",17757.35,-1.128257852447042,18150.0,17050.0,0.0683854854468713,65.25,37.1,114.34500000000001,5197.5],[\"2022-01-20T00:00:00\",17757.35,-1.2223319941563184,18200.0,17050.0,0.07051671561353469,54.2,37.1,102.19000000000001,4645.0],[\"2022-01-20T00:00:00\",17757.35,-1.4715430971512056,18300.0,17050.0,0.07511368531903691,37.5,37.1,83.82000000000001,3810.0],[\"2022-01-20T00:00:00\",17757.35,-1.5414207450693937,18350.0,17050.0,0.07747721366082214,30.2,37.1,75.79,3445.0],[\"2022-01-20T00:00:00\",17757.35,-1.6187363038714389,18400.0,17050.0,0.0799956074526886,25.4,37.1,70.51,3205.0],[\"2022-01-20T00:00:00\",17757.35,-0.29420014609203815,17800.0,17100.0,0.05438339617116293,198.95,41.0,265.70500000000004,12077.5],[\"2022-01-20T00:00:00\",17757.35,-0.420843681519357,17850.0,17100.0,0.05559782287334541,173.1,41.0,237.27,10785.0],[\"2022-01-20T00:00:00\",17757.35,-0.6643115412710008,17950.0,17100.0,0.058522245717970316,129.4,41.0,189.20000000000002,8600.0],[\"2022-01-20T00:00:00\",17757.35,-0.8360573411249086,18050.0,17100.0,0.061973211092871405,94.2,41.0,150.48000000000002,6840.0],[\"2022-01-20T00:00:00\",17757.35,-1.0635062089116138,18150.0,17100.0,0.0658113400929756,65.25,41.0,118.635,5392.5],[\"2022-01-20T00:00:00\",17757.35,-1.156833455076698,18200.0,17100.0,0.06794257025963897,54.2,41.0,106.48,4840.0],[\"2022-01-20T00:00:00\",17757.35,-1.3691362308254198,18300.0,17100.0,0.07253953996514119,37.5,41.0,88.11,4005.0],[\"2022-01-20T00:00:00\",17757.35,-1.4759569028487949,18350.0,17100.0,0.07490306830692643,30.2,41.0,80.08,3640.0],[\"2022-01-20T00:00:00\",17757.35,-1.5606099342585826,18400.0,17100.0,0.0774214620987929,25.4,41.0,74.80000000000001,3400.0],[\"2022-01-20T00:00:00\",17757.35,-0.20599342585829072,17800.0,17250.0,0.047187502639751994,198.95,61.2,287.925,13087.5],[\"2022-01-20T00:00:00\",17757.35,-0.2642293644996343,17850.0,17250.0,0.04840192934193447,173.1,61.2,259.49,11795.0],[\"2022-01-20T00:00:00\",17757.35,-0.4639335281227175,17950.0,17250.0,0.05132635218655938,129.4,61.2,211.42000000000002,9610.0],[\"2022-01-20T00:00:00\",17757.35,-0.654791818845873,18050.0,17250.0,0.054777317561460474,94.2,61.2,172.70000000000002,7850.0],[\"2022-01-20T00:00:00\",17757.35,-0.8122571219868516,18150.0,17250.0,0.05861544656156465,65.25,61.2,140.85500000000002,6402.5],[\"2022-01-20T00:00:00\",17757.35,-0.9053140978816654,18200.0,17250.0,0.06074667672822804,54.2,61.2,128.70000000000002,5850.0],[\"2022-01-20T00:00:00\",17757.35,-1.0855916727538348,18300.0,17250.0,0.06534364643373027,37.5,61.2,110.33000000000001,5015.0],[\"2022-01-20T00:00:00\",17757.35,-1.1756099342585828,18350.0,17250.0,0.0677071747755155,30.2,61.2,102.30000000000001,4650.0],[\"2022-01-20T00:00:00\",17757.35,-1.2370708546384224,18400.0,17250.0,0.07022556856738196,25.4,61.2,97.02000000000001,4410.0],[\"2022-01-20T00:00:00\",17757.35,-1.453670562454346,18500.0,17250.0,0.07535217811216202,17.25,61.2,88.055,4002.5],[\"2022-01-20T00:00:00\",17757.35,-1.495708546384222,18550.0,17250.0,0.07795110193807071,13.75,61.2,84.205,3827.5],[\"2022-01-20T00:00:00\",17757.35,-1.5715759678597516,18600.0,17250.0,0.08064604234302979,11.8,61.2,82.06,3730.0],[\"2022-01-20T00:00:00\",17757.35,-1.6123301680058437,18650.0,17250.0,0.08336576122000186,10.25,61.2,80.355,3652.5],[\"2022-01-20T00:00:00\",17757.35,-0.16201241782322862,17800.0,17300.0,0.04484565546097813,198.95,68.85,296.34,13470.0],[\"2022-01-20T00:00:00\",17757.35,-0.21848429510591671,17850.0,17300.0,0.04606008216316061,173.1,68.85,267.90500000000003,12177.5],[\"2022-01-20T00:00:00\",17757.35,-0.3809422936449961,17950.0,17300.0,0.04898450500778551,129.4,68.85,219.835,9992.5],[\"2022-01-20T00:00:00\",17757.35,-0.5900894813732651,18050.0,17300.0,0.05243547038268661,94.2,68.85,181.115,8232.5],[\"2022-01-20T00:00:00\",17757.35,-0.7510737764791819,18150.0,17300.0,0.05627359938279079,65.25,68.85,149.27,6785.0],[\"2022-01-20T00:00:00\",17757.35,-0.8233747260774287,18200.0,17300.0,0.058404829549454175,54.2,68.85,137.115,6232.5],[\"2022-01-20T00:00:00\",17757.35,-1.0032943754565373,18300.0,17300.0,0.06300179925495641,37.5,68.85,118.74500000000002,5397.5],[\"2022-01-20T00:00:00\",17757.35,-1.0869247626004381,18350.0,17300.0,0.06536532759674163,30.2,68.85,110.71500000000002,5032.5],[\"2022-01-20T00:00:00\",17757.35,-1.1605661066471873,18400.0,17300.0,0.0678837213886081,25.4,68.85,105.435,4792.5],[\"2022-01-20T00:00:00\",17757.35,-1.325836376917458,18500.0,17300.0,0.07301033093338816,17.25,68.85,96.47000000000001,4385.0],[\"2022-01-20T00:00:00\",17757.35,-1.3971402483564646,18550.0,17300.0,0.07560925475929685,13.75,68.85,92.62,4210.0],[\"2022-01-20T00:00:00\",17757.35,-1.4726333089846606,18600.0,17300.0,0.07830419516425594,11.8,68.85,90.47500000000001,4112.5],[\"2022-01-20T00:00:00\",17757.35,-1.5516088385682978,18650.0,17300.0,0.08102391404122801,10.25,68.85,88.77,4034.9999999999995],[\"2022-01-20T00:00:00\",17757.35,-1.7149506939371801,18800.0,17300.0,0.08923882223417347,6.5,68.85,84.645,3847.4999999999995],[\"2022-01-20T00:00:00\",17757.35,-0.053725346968590215,17800.0,17400.0,0.040350896952529525,198.95,87.2,316.52500000000003,14387.5],[\"2022-01-20T00:00:00\",17757.35,-0.12939371804236655,17850.0,17400.0,0.041565323654711994,173.1,87.2,288.09,13095.0],[\"2022-01-20T00:00:00\",17757.35,-0.2552684441197951,17950.0,17400.0,0.044489746499336895,129.4,87.2,240.02,10910.0],[\"2022-01-20T00:00:00\",17757.35,-0.42975529583637684,18050.0,17400.0,0.04794071187423799,94.2,87.2,201.3,9150.0],[\"2022-01-20T00:00:00\",17757.35,-0.6178889700511322,18150.0,17400.0,0.05177884087434218,65.25,87.2,169.455,7702.5],[\"2022-01-20T00:00:00\",17757.35,-0.7132505478451423,18200.0,17400.0,0.05391007104100556,54.2,87.2,157.3,7150.0],[\"2022-01-20T00:00:00\",17757.35,-0.8164554419284148,18300.0,17400.0,0.05850704074650779,37.5,87.2,138.93,6315.0],[\"2022-01-20T00:00:00\",17757.35,-0.901418918918919,18350.0,17400.0,0.060870569088293025,30.2,87.2,130.9,5950.0],[\"2022-01-20T00:00:00\",17757.35,-0.9645781592403213,18400.0,17400.0,0.0633889628801595,25.4,87.2,125.62000000000002,5710.0],[\"2022-01-20T00:00:00\",17757.35,-1.098918918918919,18500.0,17400.0,0.06851557242493954,17.25,87.2,116.655,5302.5],[\"2022-01-20T00:00:00\",17757.35,-1.1705332359386413,18550.0,17400.0,0.07111449625084824,13.75,87.2,112.805,5127.5],[\"2022-01-20T00:00:00\",17757.35,-1.2260865595325057,18600.0,17400.0,0.07380943665580733,11.8,87.2,110.66,5030.0],[\"2022-01-20T00:00:00\",17757.35,-1.3257669831994157,18650.0,17400.0,0.07652915553277939,10.25,87.2,108.95500000000001,4952.5],[\"2022-01-20T00:00:00\",17757.35,-1.532753834915997,18800.0,17400.0,0.08474406372572485,6.5,87.2,104.83,4765.0],[\"2022-01-20T00:00:00\",17757.35,-1.5894338933528123,18850.0,17400.0,0.08751953416472616,5.85,87.2,104.11500000000001,4732.5],[\"2022-01-20T00:00:00\",17757.35,-1.7348283418553692,19000.0,17400.0,0.09588621049875122,4.55,87.2,102.685,4667.5],[\"2022-01-20T00:00:00\",17757.35,0.10369612856099353,17800.0,17550.0,0.03423286695368397,198.95,124.8,357.88500000000005,16267.5],[\"2022-01-20T00:00:00\",17757.35,0.03641344046749451,17850.0,17550.0,0.03544729365586645,173.1,124.8,329.45000000000005,14975.0],[\"2022-01-20T00:00:00\",17757.35,-0.10744521548575614,17950.0,17550.0,0.03837171650049136,129.4,124.8,281.38000000000005,12790.0],[\"2022-01-20T00:00:00\",17757.35,-0.22784149013878718,18050.0,17550.0,0.04182268187539245,94.2,124.8,242.66000000000003,11030.0],[\"2022-01-20T00:00:00\",17757.35,-0.3292731921110297,18150.0,17550.0,0.04566081087549663,65.25,124.8,210.81500000000003,9582.5],[\"2022-01-20T00:00:00\",17757.35,-0.4336102994886779,18200.0,17550.0,0.04779204104216001,54.2,124.8,198.66,9030.0],[\"2022-01-20T00:00:00\",17757.35,-0.581988677867056,18300.0,17550.0,0.05238901074766224,37.5,124.8,180.29000000000002,8195.0],[\"2022-01-20T00:00:00\",17757.35,-0.6451460920379842,18350.0,17550.0,0.05475253908944747,30.2,124.8,172.26000000000002,7830.0],[\"2022-01-20T00:00:00\",17757.35,-0.713491599707816,18400.0,17550.0,0.05727093288131394,25.4,124.8,166.98000000000002,7590.0],[\"2022-01-20T00:00:00\",17757.35,-0.8076040905770634,18500.0,17550.0,0.062397542426093994,17.25,124.8,158.01500000000001,7182.5],[\"2022-01-20T00:00:00\",17757.35,-0.8468407596785974,18550.0,17550.0,0.0649964662520027,13.75,124.8,154.16500000000002,7007.5],[\"2022-01-20T00:00:00\",17757.35,-0.9085956902848795,18600.0,17550.0,0.06769140665696177,11.8,124.8,152.02,6910.0],[\"2022-01-20T00:00:00\",17757.35,-0.9699123447772097,18650.0,17550.0,0.07041112553393385,10.25,124.8,150.31500000000003,6832.5],[\"2022-01-20T00:00:00\",17757.35,-1.1543827611395177,18800.0,17550.0,0.0786260337268793,6.5,124.8,146.19000000000003,6645.0],[\"2022-01-20T00:00:00\",17757.35,-1.2122863403944484,18850.0,17550.0,0.08140150416588061,5.85,124.8,145.47500000000002,6612.5],[\"2022-01-20T00:00:00\",17757.35,-1.4393535427319208,19000.0,17550.0,0.08976818049990569,4.55,124.8,144.045,6547.5],[\"2022-01-20T00:00:00\",17757.35,-1.4716179693206721,19050.0,17550.0,0.0925808186469265,4.5,124.8,143.99,6545.0],[\"2022-01-20T00:00:00\",17757.35,-1.613595690284879,19200.0,17550.0,0.10096917614396293,3.55,124.8,142.945,6497.5],[\"2022-01-20T00:00:00\",17757.35,0.13883308984660347,17800.0,17600.0,0.032377297288165185,198.95,140.3,374.93500000000006,17042.5],[\"2022-01-20T00:00:00\",17757.35,0.08535062089116141,17850.0,17600.0,0.03359172399034766,173.1,140.3,346.5,15750.0],[\"2022-01-20T00:00:00\",17757.35,-0.05257487216946666,17950.0,17600.0,0.03651614683497257,129.4,140.3,298.43000000000006,13565.0],[\"2022-01-20T00:00:00\",17757.35,-0.1705624543462383,18050.0,17600.0,0.039967112209873666,94.2,140.3,259.71000000000004,11805.0],[\"2022-01-20T00:00:00\",17757.35,-0.2457925493060631,18150.0,17600.0,0.04380524120997784,65.25,140.3,227.86500000000004,10357.5],[\"2022-01-20T00:00:00\",17757.35,-0.31050766983199407,18200.0,17600.0,0.045936471376641225,54.2,140.3,215.71,9805.0],[\"2022-01-20T00:00:00\",17757.35,-0.4844411979547115,18300.0,17600.0,0.05053344108214346,37.5,140.3,197.34000000000003,8970.0],[\"2022-01-20T00:00:00\",17757.35,-0.5496895544192839,18350.0,17600.0,0.052896969423928686,30.2,140.3,189.31,8605.0],[\"2022-01-20T00:00:00\",17757.35,-0.6088568298027757,18400.0,17600.0,0.055415363215795155,25.4,140.3,184.03000000000003,8365.0],[\"2022-01-20T00:00:00\",17757.35,-0.7163860482103724,18500.0,17600.0,0.060541972760575206,17.25,140.3,175.06500000000003,7957.500000000001],[\"2022-01-20T00:00:00\",17757.35,-0.7503305332359387,18550.0,17600.0,0.06314089658648392,13.75,140.3,171.21500000000003,7782.500000000001],[\"2022-01-20T00:00:00\",17757.35,-0.804972607742878,18600.0,17600.0,0.06583583699144298,11.8,140.3,169.07000000000002,7685.000000000001],[\"2022-01-20T00:00:00\",17757.35,-0.8491033601168736,18650.0,17600.0,0.06855555586841505,10.25,140.3,167.365,7607.500000000001],[\"2022-01-20T00:00:00\",17757.35,-1.0266782322863404,18800.0,17600.0,0.07677046406136051,6.5,140.3,163.24,7420.000000000001],[\"2022-01-20T00:00:00\",17757.35,-1.077554784514244,18850.0,17600.0,0.07954593450036183,5.85,140.3,162.52500000000003,7387.500000000001],[\"2022-01-20T00:00:00\",17757.35,-1.2348685171658143,19000.0,17600.0,0.0879126108343869,4.55,140.3,161.09500000000003,7322.500000000001],[\"2022-01-20T00:00:00\",17757.35,-1.3349726077428778,19050.0,17600.0,0.0907252489814077,4.5,140.3,161.04000000000002,7320.000000000001],[\"2022-01-20T00:00:00\",17757.35,-1.4999726077428779,19200.0,17600.0,0.09911360647844415,3.55,140.3,159.99500000000003,7272.500000000001],[\"2022-01-20T00:00:00\",17757.35,0.28739225712198696,17800.0,17750.0,0.0275725263060085,198.95,199.1,439.615,19982.5],[\"2022-01-20T00:00:00\",17757.35,0.2516983199415629,17850.0,17750.0,0.02878695300819098,173.1,199.1,411.18000000000006,18690.0],[\"2022-01-20T00:00:00\",17757.35,0.1344174579985391,17950.0,17750.0,0.03171137585281589,129.4,199.1,363.11000000000007,16505.0],[\"2022-01-20T00:00:00\",17757.35,0.043487947406866234,18050.0,17750.0,0.03516234122771698,94.2,199.1,324.39,14745.0],[\"2022-01-20T00:00:00\",17757.35,-0.07818115412710014,18150.0,17750.0,0.03900047022782116,65.25,199.1,292.545,13297.5],[\"2022-01-20T00:00:00\",17757.35,-0.1224762600438275,18200.0,17750.0,0.04113170039448455,54.2,199.1,280.39000000000004,12745.0],[\"2022-01-20T00:00:00\",17757.35,-0.20224616508400295,18300.0,17750.0,0.04572867009998677,37.5,199.1,262.02,11910.0],[\"2022-01-20T00:00:00\",17757.35,-0.23043644996347667,18350.0,17750.0,0.048092198441772004,30.2,199.1,253.99000000000004,11545.0],[\"2022-01-20T00:00:00\",17757.35,-0.2654127100073046,18400.0,17750.0,0.05061059223363847,25.4,199.1,248.71,11305.0],[\"2022-01-20T00:00:00\",17757.35,-0.38841490138787427,18500.0,17750.0,0.05573720177841852,17.25,199.1,239.745,10897.5],[\"2022-01-20T00:00:00\",17757.35,-0.4489737034331629,18550.0,17750.0,0.05833612560432722,13.75,199.1,235.895,10722.5],[\"2022-01-20T00:00:00\",17757.35,-0.49805332359386423,18600.0,17750.0,0.0610310660092863,11.8,199.1,233.75000000000003,10625.0],[\"2022-01-20T00:00:00\",17757.35,-0.5567421475529581,18650.0,17750.0,0.06375078488625838,10.25,199.1,232.04500000000002,10547.5],[\"2022-01-20T00:00:00\",17757.35,-0.7200438276113952,18800.0,17750.0,0.07196569307920384,6.5,199.1,227.92000000000002,10360.0],[\"2022-01-20T00:00:00\",17757.35,-0.7455478451424399,18850.0,17750.0,0.07474116351820514,5.85,199.1,227.20500000000004,10327.5],[\"2022-01-20T00:00:00\",17757.35,-0.8508692476260045,19000.0,17750.0,0.08310783985223022,4.55,199.1,225.775,10262.5],[\"2022-01-20T00:00:00\",17757.35,-0.9033601168736303,19050.0,17750.0,0.08592047799925102,4.5,199.1,225.72,10260.0],[\"2022-01-20T00:00:00\",17757.35,-1.0714170927684439,19200.0,17750.0,0.09430883549628746,3.55,199.1,224.675,10212.5],[\"2022-01-27T00:00:00\",17757.35,-0.7573922571219871,17850.0,15950.0,0.12228316725187037,233.1,12.05,271.425,12337.5],[\"2022-01-27T00:00:00\",17757.35,-0.7224579985390793,17850.0,16000.0,0.11954176721188692,233.1,13.25,272.745,12397.5],[\"2022-01-27T00:00:00\",17757.35,-0.6354236669101533,17850.0,16150.0,0.11124632898489922,233.1,15.7,275.44000000000005,12520.0],[\"2022-01-27T00:00:00\",17757.35,-0.5742695398100803,17850.0,16250.0,0.10581308584895834,233.1,18.9,278.96000000000004,12680.0],[\"2022-01-27T00:00:00\",17757.35,-0.5333637691745796,17850.0,16300.0,0.10305310195496514,233.1,19.8,279.95000000000005,12725.0],[\"2022-01-27T00:00:00\",17757.35,-0.43348429510591635,17850.0,16450.0,0.09488775070604567,233.1,24.35,284.95500000000004,12952.5],[\"2022-01-27T00:00:00\",17757.35,-0.393754565376187,17850.0,16500.0,0.09218351837408172,233.1,26.15,286.93500000000006,13042.5],[\"2022-01-27T00:00:00\",17757.35,-0.3531592403214022,17850.0,16650.0,0.08412037832221589,233.1,32.35,293.75500000000005,13352.5],[\"2022-01-27T00:00:00\",17757.35,-0.5415558802045286,17950.0,16650.0,0.0865956913616052,182.15,32.35,237.71,10805.0],[\"2022-01-27T00:00:00\",17757.35,-0.3249196493791088,17850.0,16700.0,0.08148118947928604,233.1,35.2,296.89,13495.0],[\"2022-01-27T00:00:00\",17757.35,-0.5033235938641345,17950.0,16700.0,0.08395650251867537,182.15,35.2,240.845,10947.5],[\"2022-01-27T00:00:00\",17757.35,-0.7102483564645725,18050.0,16700.0,0.08711632084742374,142.25,35.2,196.95500000000004,8952.5],[\"2022-01-27T00:00:00\",17757.35,-0.3082870708546386,17850.0,16750.0,0.07890084950738709,233.1,39.0,301.07,13685.0],[\"2022-01-27T00:00:00\",17757.35,-0.4476680058436815,17950.0,16750.0,0.08137616254677642,182.15,39.0,245.025,11137.5],[\"2022-01-27T00:00:00\",17757.35,-0.6547808619430238,18050.0,16750.0,0.08453598087552479,142.25,39.0,201.13500000000002,9142.5],[\"2022-01-27T00:00:00\",17757.35,-0.29021913805697597,17850.0,16800.0,0.07629263375447351,233.1,42.35,304.75500000000005,13852.5],[\"2022-01-27T00:00:00\",17757.35,-0.41175493060628177,17950.0,16800.0,0.07876794679386283,182.15,42.35,248.71,11305.0],[\"2022-01-27T00:00:00\",17757.35,-0.6229912344777211,18050.0,16800.0,0.0819277651226112,142.25,42.35,204.82,9310.0],[\"2022-01-27T00:00:00\",17757.35,-0.23131848064280502,17850.0,16900.0,0.0711846080637032,233.1,50.8,314.05,14275.0],[\"2022-01-27T00:00:00\",17757.35,-0.3617165814463108,17950.0,16900.0,0.07365992110309254,182.15,50.8,258.00500000000005,11727.5],[\"2022-01-27T00:00:00\",17757.35,-0.5202556610664717,18050.0,16900.0,0.07681973943184091,142.25,50.8,214.11500000000004,9732.5],[\"2022-01-27T00:00:00\",17757.35,-0.19476442658875093,17850.0,16950.0,0.06872196583386597,233.1,56.5,320.32,14560.0],[\"2022-01-27T00:00:00\",17757.35,-0.334127100073046,17950.0,16950.0,0.0711972788732553,182.15,56.5,264.27500000000003,12012.5],[\"2022-01-27T00:00:00\",17757.35,-0.4619284149013879,18050.0,16950.0,0.07435709720200369,142.25,56.5,220.38500000000002,10017.5],[\"2022-01-27T00:00:00\",17757.35,-0.15837837837837843,17850.0,17000.0,0.06626861553103364,233.1,62.35,326.75500000000005,14852.5],[\"2022-01-27T00:00:00\",17757.35,-0.301948502556611,17950.0,17000.0,0.06874392857042295,182.15,62.35,270.71000000000004,12305.0],[\"2022-01-27T00:00:00\",17757.35,-0.42220598977355706,18050.0,17000.0,0.07190374689917133,142.25,62.35,226.82,10310.0],[\"2022-01-27T00:00:00\",17757.35,-0.7072899926953979,18200.0,17000.0,0.0772846173556302,92.75,62.35,172.37,7835.0],[\"2022-01-27T00:00:00\",17757.35,-0.08833089846603359,17850.0,17100.0,0.06138359608838031,233.1,74.4,340.01000000000005,15455.0],[\"2022-01-27T00:00:00\",17757.35,-0.241953981008035,17950.0,17100.0,0.06385890912776963,182.15,74.4,283.965,12907.5],[\"2022-01-27T00:00:00\",17757.35,-0.3489755295836374,18050.0,17100.0,0.06701872745651802,142.25,74.4,240.07500000000002,10912.5],[\"2022-01-27T00:00:00\",17757.35,-0.6082706355003653,18200.0,17100.0,0.07239959791297688,92.75,74.4,185.62500000000003,8437.5],[\"2022-01-27T00:00:00\",17757.35,-0.050414536157779244,17850.0,17150.0,0.05900458120158695,233.1,81.45,347.765,15807.5],[\"2022-01-27T00:00:00\",17757.35,-0.19894996347699068,17950.0,17150.0,0.06147989424097628,182.15,81.45,291.72,13260.0],[\"2022-01-27T00:00:00\",17757.35,-0.324419284149014,18050.0,17150.0,0.06463971256972464,142.25,81.45,247.83000000000004,11265.0],[\"2022-01-27T00:00:00\",17757.35,-0.5282505478451422,18200.0,17150.0,0.07002058302618354,92.75,81.45,193.38000000000002,8790.0],[\"2022-01-27T00:00:00\",17757.35,-0.7566362308254202,18350.0,17150.0,0.07629967309311357,57.75,81.45,154.88000000000002,7040.0],[\"2022-01-27T00:00:00\",17757.35,0.0771512052593134,17850.0,17350.0,0.05002745342069622,233.1,118.35,388.355,17652.5],[\"2022-01-27T00:00:00\",17757.35,-0.024656683710737703,17950.0,17350.0,0.05250276646008555,182.15,118.35,332.31000000000006,15105.0],[\"2022-01-27T00:00:00\",17757.35,-0.1621804236669102,18050.0,17350.0,0.05566258478883393,142.25,118.35,288.42,13110.0],[\"2022-01-27T00:00:00\",17757.35,-0.32173119065010936,18200.0,17350.0,0.0610434552452928,92.75,118.35,233.97,10635.0],[\"2022-01-27T00:00:00\",17757.35,-0.48490504017531044,18350.0,17350.0,0.06732254531222283,57.75,118.35,195.47,8885.0],[\"2022-01-27T00:00:00\",17757.35,-0.5450328707085466,18400.0,17350.0,0.0696024463109642,49.1,118.35,185.95500000000004,8452.5],[\"2022-01-27T00:00:00\",17757.35,-0.7021365960555146,18550.0,17350.0,0.07688196718541901,30.25,118.35,165.22,7510.0],[\"2022-01-27T00:00:00\",17757.35,-0.8224105186267348,18650.0,17350.0,0.0819776036401828,21.6,118.35,155.705,7077.5],[\"2022-01-27T00:00:00\",17757.35,-0.8380460189919647,18700.0,17350.0,0.08462608441011751,18.9,118.35,152.735,6942.5],[\"2022-01-27T00:00:00\",17757.35,0.11585646457268084,17850.0,17400.0,0.04792719634404909,233.1,129.9,401.06000000000006,18230.0],[\"2022-01-27T00:00:00\",17757.35,0.011605186267348522,17950.0,17400.0,0.05040250938343841,182.15,129.9,345.015,15682.5],[\"2022-01-27T00:00:00\",17757.35,-0.10812271731190648,18050.0,17400.0,0.05356232771218679,142.25,129.9,301.125,13687.5],[\"2022-01-27T00:00:00\",17757.35,-0.2749123447772098,18200.0,17400.0,0.05894319816864566,92.75,129.9,246.675,11212.5],[\"2022-01-27T00:00:00\",17757.35,-0.40458728999269544,18350.0,17400.0,0.06522228823557569,57.75,129.9,208.175,9462.5],[\"2022-01-27T00:00:00\",17757.35,-0.4726661796932068,18400.0,17400.0,0.06750218923431707,49.1,129.9,198.66,9030.0],[\"2022-01-27T00:00:00\",17757.35,-0.6243206720233743,18550.0,17400.0,0.07478171010877187,30.25,129.9,177.925,8087.5],[\"2022-01-27T00:00:00\",17757.35,-0.7218918918918917,18650.0,17400.0,0.07987734656353568,21.6,129.9,168.41,7655.0],[\"2022-01-27T00:00:00\",17757.35,-0.7607742878013148,18700.0,17400.0,0.08252582733347037,18.9,129.9,165.44000000000003,7520.0],[\"2022-01-27T00:00:00\",17757.35,0.15064280496712923,17850.0,17450.0,0.04587959352042958,233.1,142.3,414.70000000000005,18850.0],[\"2022-01-27T00:00:00\",17757.35,0.04490138787436093,17950.0,17450.0,0.048354906559818896,182.15,142.3,358.65500000000003,16302.5],[\"2022-01-27T00:00:00\",17757.35,-0.06353177501826146,18050.0,17450.0,0.05151472488856727,142.25,142.3,314.765,14307.5],[\"2022-01-27T00:00:00\",17757.35,-0.23813002191380583,18200.0,17450.0,0.056895595345026154,92.75,142.3,260.31500000000005,11832.5],[\"2022-01-27T00:00:00\",17757.35,-0.3258728999269538,18350.0,17450.0,0.06317468541195619,57.75,142.3,221.81500000000003,10082.5],[\"2022-01-27T00:00:00\",17757.35,-0.38278853177501815,18400.0,17450.0,0.06545458641069754,49.1,142.3,212.3,9650.0],[\"2022-01-27T00:00:00\",17757.35,-0.5407651570489409,18550.0,17450.0,0.07273410728515235,30.25,142.3,191.56500000000003,8707.5],[\"2022-01-27T00:00:00\",17757.35,-0.6422589481373264,18650.0,17450.0,0.07782974373991615,21.6,142.3,182.05,8275.0],[\"2022-01-27T00:00:00\",17757.35,-0.690080350620891,18700.0,17450.0,0.08047822450985086,18.9,142.3,179.08000000000004,8140.000000000001],[\"2022-01-27T00:00:00\",17757.35,-0.8229090577063549,18850.0,17450.0,0.08853516994371347,12.6,142.3,172.15000000000003,7825.000000000001],[\"2022-01-27T00:00:00\",17757.35,-0.8387910883856828,18900.0,17450.0,0.09127966729269853,11.45,142.3,170.88500000000005,7767.500000000001],[\"2022-01-27T00:00:00\",17757.35,0.22934623813002203,17850.0,17550.0,0.042063145683336765,233.1,171.6,446.93000000000006,20315.0],[\"2022-01-27T00:00:00\",17757.35,0.12297297297297305,17950.0,17550.0,0.04453845872272608,182.15,171.6,390.88500000000005,17767.5],[\"2022-01-27T00:00:00\",17757.35,0.0396932067202338,18050.0,17550.0,0.04769827705147446,142.25,171.6,346.995,15772.5],[\"2022-01-27T00:00:00\",17757.35,-0.11862856099342589,18200.0,17550.0,0.05307914750793334,92.75,171.6,292.545,13297.5],[\"2022-01-27T00:00:00\",17757.35,-0.25561723886048227,18350.0,17550.0,0.05935823757486337,57.75,171.6,254.04500000000002,11547.5],[\"2022-01-27T00:00:00\",17757.35,-0.2749342585829072,18400.0,17550.0,0.061638138573604735,49.1,171.6,244.53000000000003,11115.0],[\"2022-01-27T00:00:00\",17757.35,-0.3650219138056974,18550.0,17550.0,0.06891765944805954,30.25,171.6,223.79500000000002,10172.5],[\"2022-01-27T00:00:00\",17757.35,-0.46235938641344043,18650.0,17550.0,0.07401329590282334,21.6,171.6,214.28000000000003,9740.0],[\"2022-01-27T00:00:00\",17757.35,-0.4991417092768442,18700.0,17550.0,0.07666177667275804,18.9,171.6,211.31,9605.0],[\"2022-01-27T00:00:00\",17757.35,-0.6211029948867784,18850.0,17550.0,0.08471872210662065,12.6,171.6,204.38000000000002,9290.0],[\"2022-01-27T00:00:00\",17757.35,-0.6539791818845871,18900.0,17550.0,0.08746321945560571,11.45,171.6,203.115,9232.5],[\"2022-01-27T00:00:00\",17757.35,-0.7425219138056977,19050.0,17550.0,0.09576485230059666,9.1,171.6,200.53000000000003,9115.0],[\"2022-01-27T00:00:00\",17757.35,-0.788305332359386,19100.0,17550.0,0.09852173888558824,8.15,171.6,199.485,9067.5],[\"2022-01-27T00:00:00\",17757.35,-0.8475894813732652,19250.0,17550.0,0.10688222060161004,6.75,171.6,197.945,8997.5],[\"2022-01-27T00:00:00\",17757.35,-0.9063823959094228,19350.0,17550.0,0.1124610372606273,5.9,171.6,197.01000000000002,8955.0],[\"2022-01-27T00:00:00\",17757.35,-0.993699780861943,19500.0,17550.0,0.12076267010561825,3.55,171.6,194.425,8837.5],[\"2022-01-27T00:00:00\",17757.35,0.2546566837107377,17850.0,17600.0,0.04020138139981473,233.1,187.0,463.87,21085.0],[\"2022-01-27T00:00:00\",17757.35,0.1678305332359385,17950.0,17600.0,0.042676694439204056,182.15,187.0,407.82500000000005,18537.5],[\"2022-01-27T00:00:00\",17757.35,0.0797297297297298,18050.0,17600.0,0.045836512767952434,142.25,187.0,363.93500000000006,16542.5],[\"2022-01-27T00:00:00\",17757.35,-0.05039444850255659,18200.0,17600.0,0.051217383224411314,92.75,187.0,309.48500000000007,14067.5],[\"2022-01-27T00:00:00\",17757.35,-0.1918042366691013,18350.0,17600.0,0.05749647329134134,57.75,187.0,270.985,12317.5],[\"2022-01-27T00:00:00\",17757.35,-0.23327246165084004,18400.0,17600.0,0.05977637429008271,49.1,187.0,261.47,11885.0],[\"2022-01-27T00:00:00\",17757.35,-0.31421840759678554,18550.0,17600.0,0.06705589516453751,30.25,187.0,240.735,10942.5],[\"2022-01-27T00:00:00\",17757.35,-0.3625967859751642,18650.0,17600.0,0.07215153161930131,21.6,187.0,231.22,10510.0],[\"2022-01-27T00:00:00\",17757.35,-0.3978780131482834,18700.0,17600.0,0.07480001238923602,18.9,187.0,228.25000000000003,10375.0],[\"2022-01-27T00:00:00\",17757.35,-0.5343024105186268,18850.0,17600.0,0.08285695782309861,12.6,187.0,221.32,10060.0],[\"2022-01-27T00:00:00\",17757.35,-0.5838787436084734,18900.0,17600.0,0.08560145517208369,11.45,187.0,220.05500000000004,10002.5],[\"2022-01-27T00:00:00\",17757.35,-0.6561723886048207,19050.0,17600.0,0.09390308801707463,9.1,187.0,217.47,9885.0],[\"2022-01-27T00:00:00\",17757.35,-0.6879108838568297,19100.0,17600.0,0.0966599746020662,8.15,187.0,216.425,9837.5],[\"2022-01-27T00:00:00\",17757.35,-0.7935098612125637,19250.0,17600.0,0.10502045631808801,6.75,187.0,214.88500000000002,9767.5],[\"2022-01-27T00:00:00\",17757.35,-0.8324287801314829,19350.0,17600.0,0.11059927297710527,5.9,187.0,213.95000000000002,9725.0],[\"2022-01-27T00:00:00\",17757.35,-0.9014883126369613,19500.0,17600.0,0.11890090582209623,3.55,187.0,211.36500000000004,9607.5],[\"2022-01-27T00:00:00\",17757.35,-0.9270708546384222,19550.0,17600.0,0.12176619822214464,4.35,187.0,212.245,9647.5]],\"hovertemplate\":\"underlying_name=NIFTY<br>p_not_breakeven_tp=%{x}<br>p_not_breakeven_volatility=%{y}<br>cost=%{customdata[9]}<br>expiry=%{customdata[0]}<br>underlying_value=%{customdata[1]}<br>kelly_fraction=%{customdata[2]}<br>ce_strike_price=%{customdata[3]}<br>pe_strike_price=%{customdata[4]}<br>spread_percent=%{customdata[5]}<br>ce_premium=%{customdata[6]}<br>pe_premium=%{customdata[7]}<br>target=%{customdata[8]}<extra></extra>\",\"legendgroup\":\"NIFTY\",\"marker\":{\"color\":\"#636efa\",\"size\":[6477.5,6502.5,6527.5,3624.9999999999995,2927.5,1537.5,6647.5,3744.9999999999995,3047.5,1657.5,1387.5,867.5,777.5,6867.5,3964.9999999999995,3267.5,1877.5,1607.5,1087.5,997.5,7680.0,4777.5,4080.0,2690.0,2420.0,1900.0,1810.0,1602.5,7990.0,5087.499999999999,4390.0,3000.0,2730.0,2210.0,2120.0,9395.0,6492.5,5795.0,4405.0,4135.0,3615.0,3525.0,3317.5,10075.0,7172.5,6475.0,5085.0,4815.0,4295.0,4205.0,3997.5,12907.5,10005.0,9307.5,7917.5,7647.5,7127.5,7037.5,6830.0,6790.0,6790.0,10460.0,9167.5,6982.5,10567.5,9275.0,7090.0,5330.0,10732.5,9440.0,7255.0,5495.0,4047.5,10847.5,9555.0,7370.0,5610.0,4162.5,3610.0,11140.0,9847.5,7662.5,5902.5,4455.0,3902.5,11287.5,9995.0,7810.0,6050.0,4602.5,4050.0,3215.0,11882.5,10590.0,8405.0,6645.0,5197.5,4645.0,3810.0,3445.0,3205.0,12077.5,10785.0,8600.0,6840.0,5392.5,4840.0,4005.0,3640.0,3400.0,13087.5,11795.0,9610.0,7850.0,6402.5,5850.0,5015.0,4650.0,4410.0,4002.5,3827.5,3730.0,3652.5,13470.0,12177.5,9992.5,8232.5,6785.0,6232.5,5397.5,5032.5,4792.5,4385.0,4210.0,4112.5,4034.9999999999995,3847.4999999999995,14387.5,13095.0,10910.0,9150.0,7702.5,7150.0,6315.0,5950.0,5710.0,5302.5,5127.5,5030.0,4952.5,4765.0,4732.5,4667.5,16267.5,14975.0,12790.0,11030.0,9582.5,9030.0,8195.0,7830.0,7590.0,7182.5,7007.5,6910.0,6832.5,6645.0,6612.5,6547.5,6545.0,6497.5,17042.5,15750.0,13565.0,11805.0,10357.5,9805.0,8970.0,8605.0,8365.0,7957.500000000001,7782.500000000001,7685.000000000001,7607.500000000001,7420.000000000001,7387.500000000001,7322.500000000001,7320.000000000001,7272.500000000001,19982.5,18690.0,16505.0,14745.0,13297.5,12745.0,11910.0,11545.0,11305.0,10897.5,10722.5,10625.0,10547.5,10360.0,10327.5,10262.5,10260.0,10212.5,12337.5,12397.5,12520.0,12680.0,12725.0,12952.5,13042.5,13352.5,10805.0,13495.0,10947.5,8952.5,13685.0,11137.5,9142.5,13852.5,11305.0,9310.0,14275.0,11727.5,9732.5,14560.0,12012.5,10017.5,14852.5,12305.0,10310.0,7835.0,15455.0,12907.5,10912.5,8437.5,15807.5,13260.0,11265.0,8790.0,7040.0,17652.5,15105.0,13110.0,10635.0,8885.0,8452.5,7510.0,7077.5,6942.5,18230.0,15682.5,13687.5,11212.5,9462.5,9030.0,8087.5,7655.0,7520.0,18850.0,16302.5,14307.5,11832.5,10082.5,9650.0,8707.5,8275.0,8140.000000000001,7825.000000000001,7767.500000000001,20315.0,17767.5,15772.5,13297.5,11547.5,11115.0,10172.5,9740.0,9605.0,9290.0,9232.5,9115.0,9067.5,8997.5,8955.0,8837.5,21085.0,18537.5,16542.5,14067.5,12317.5,11885.0,10942.5,10510.0,10375.0,10060.0,10002.5,9885.0,9837.5,9767.5,9725.0,9607.5,9647.5],\"sizemode\":\"area\",\"sizeref\":68.034375,\"symbol\":\"circle\"},\"mode\":\"markers\",\"name\":\"NIFTY\",\"orientation\":\"v\",\"showlegend\":true,\"type\":\"scatter\",\"x\":[0.34629291453615785,0.3336851716581446,0.3251789627465303,0.38045288531775023,0.40161614317019717,0.4510098612125639,0.2820306793279766,0.33604090577063545,0.3566983199415632,0.4136723886048211,0.42684806428049676,0.47388604821037256,0.48988312636961295,0.22242512783053325,0.28418188458729005,0.30249269539810086,0.3494594594594594,0.3647918188458728,0.4171804236669101,0.42951059167275385,0.1608619430241052,0.2129327976625274,0.22434258582907235,0.27845872899926954,0.29218224981738494,0.3344758948137327,0.3502465303140978,0.42595507669831995,0.1487947406866326,0.20062454346238132,0.2129327976625274,0.2588604821037253,0.2777501826150474,0.32594229364499633,0.3344758948137327,0.1168827611395179,0.15504017531044556,0.17027027027027028,0.2129327976625274,0.22434258582907235,0.27279035792549305,0.2856355003652301,0.3559021183345507,0.10383856829802775,0.14210372534696858,0.15504017531044556,0.20062454346238132,0.2129327976625274,0.24932432432432433,0.2685719503287071,0.3344758948137327,0.07762965668371073,0.1051406135865595,0.11734112490869247,0.14930606281957634,0.1608619430241052,0.20062454346238132,0.21166910153396643,0.2798867786705625,0.3228780131482834,0.3336851716581446,0.17703067932797664,0.19520270270270268,0.22242512783053325,0.15762417823228633,0.17199598246895542,0.20183710737764793,0.22370343316289268,0.13758948137326515,0.1508655953250548,0.17703067932797664,0.20365230094959824,0.22370343316289268,0.1331190650109569,0.14160336011687363,0.16640430971512052,0.19279766252739228,0.2135646457268079,0.22242512783053325,0.11826880934989042,0.13213476990504017,0.15032870708546386,0.17372169466764062,0.20002921840759683,0.2091891891891892,0.11322132943754566,0.12583272461650843,0.1446311176040906,0.16640430971512052,0.1910080350620891,0.20183710737764793,0.21607012417823226,0.09610664718772827,0.10959824689554419,0.1331190650109569,0.14930606281957634,0.16915631848064283,0.17758217677136598,0.20002921840759683,0.2060993425858291,0.2129327976625274,0.09105551497443391,0.10339481373265157,0.12631300219138059,0.14210372534696858,0.1636742147552958,0.17199598246895542,0.1910080350620891,0.20062454346238132,0.2079327976625274,0.08351351351351353,0.08907414170927681,0.10778670562454348,0.12679327976625276,0.14160336011687363,0.1498173849525201,0.16586924762600438,0.17372169466764062,0.17872352081811543,0.19882213294375456,0.20243425858290723,0.2091891891891892,0.2129327976625274,0.07954711468224981,0.08505295836376918,0.1007834185536888,0.12108108108108108,0.13559897735573412,0.14210372534696858,0.158699780861943,0.16586924762600438,0.17257121986851715,0.1875054784514244,0.19398648648648648,0.20062454346238132,0.2079327976625274,0.22178962746530312,0.07012783053323594,0.07762965668371073,0.08907414170927681,0.1064682249817385,0.1243973703433163,0.1331190650109569,0.14210372534696858,0.1498173849525201,0.15504017531044556,0.16750913075237403,0.17372169466764062,0.17872352081811543,0.1875054784514244,0.2060993425858291,0.2110573411249087,0.22370343316289268,0.05527392257121986,0.06214207450693937,0.07683345507669832,0.08823776479181883,0.09781227173119063,0.10778670562454348,0.12154857560262965,0.12679327976625276,0.1331190650109569,0.14160336011687363,0.14515704894083273,0.1508655953250548,0.15607377647918189,0.17257121986851715,0.17758217677136598,0.19882213294375456,0.20183710737764793,0.21544923301680055,0.05213294375456537,0.05750182615047479,0.07157048940832723,0.08351351351351353,0.0902739225712199,0.09610664718772827,0.1123082542001461,0.11826880934989042,0.1243973703433163,0.13410701241782322,0.1370927684441198,0.14160336011687363,0.14568298027757487,0.16198685171658145,0.16640430971512052,0.18046018991964938,0.1904035792549306,0.2060993425858291,0.03827611395178962,0.04248539079620163,0.05400657414170928,0.06350073046018993,0.07538349159970782,0.07954711468224981,0.0866691015339664,0.08907414170927681,0.09190650109569029,0.10339481373265157,0.10869247626004384,0.11322132943754566,0.11826880934989042,0.1331190650109569,0.13510409057706357,0.1446311176040906,0.1498173849525201,0.16586924762600438,0.12583272461650843,0.12249269539810079,0.11367421475529584,0.10778670562454348,0.10383856829802775,0.09481373265157046,0.09105551497443391,0.08785244704163621,0.10471146822498172,0.08505295836376918,0.10122352081811543,0.12108108108108108,0.08351351351351353,0.09610664718772827,0.11596603360116871,0.0818918918918919,0.09312454346238129,0.11322132943754566,0.07683345507669832,0.08907414170927681,0.10383856829802775,0.07346968590211833,0.0866691015339664,0.09865960555149746,0.07012783053323594,0.08429693206720236,0.09524470416362306,0.12108108108108108,0.06381665449233018,0.07954711468224981,0.08907414170927681,0.1123082542001461,0.0607980277574872,0.07573411249086925,0.0866691015339664,0.1051406135865595,0.12583272461650843,0.0502410518626735,0.060489408327246155,0.07346968590211833,0.08823776479181883,0.10254382761139517,0.10823959094229366,0.12249269539810079,0.1331190650109569,0.13410701241782322,0.04665814463111761,0.057151205259313366,0.06869978086194302,0.08391891891891894,0.09567567567567568,0.1021037253469686,0.11596603360116871,0.1243973703433163,0.12775748721694669,0.0435646457268079,0.054685902118334545,0.06455441928414901,0.0810810810810811,0.08907414170927681,0.09441197954711467,0.10869247626004384,0.11780861943024104,0.12154857560262965,0.1331190650109569,0.13410701241782322,0.03674945215485755,0.04729729729729729,0.05527392257121986,0.0708473338203068,0.08351351351351353,0.08505295836376918,0.09312454346238129,0.1021037253469686,0.1051406135865595,0.11550401753104454,0.11826880934989042,0.12631300219138059,0.13066837107377646,0.1360938641344047,0.14160336011687363,0.1498173849525201,0.034514243973703444,0.043305332359386425,0.05241782322863403,0.06455441928414901,0.07838568298027755,0.0822972972972973,0.08907414170927681,0.09312454346238129,0.09610664718772827,0.10778670562454348,0.1123082542001461,0.11873813002191379,0.12154857560262965,0.1316471877282688,0.13510409057706357,0.14160336011687363,0.14360482103725347],\"xaxis\":\"x\",\"y\":[0.35940832724616506,0.3566471877282688,0.3532505478451425,0.39004382761139517,0.40414901387874363,0.45142439737034323,0.3400931336742148,0.36943024105186273,0.38364499634769905,0.4294229364499635,0.43798575602629664,0.486135865595325,0.49643535427319213,0.3135043827611395,0.3390759678597517,0.3518535427319211,0.3874360847333821,0.39241051862673487,0.4335573411249087,0.4446128560993426,0.28039810080350624,0.29615777940102267,0.3033692476260044,0.3313130021913806,0.33922571219868525,0.37438276113951785,0.3828652300949598,0.4281811541271,0.27170379839298764,0.2878232286340394,0.29613221329437545,0.3167494521548576,0.32269905040175306,0.3557432432432433,0.36535792549306073,0.25306793279766254,0.26365047479912346,0.2663623082542001,0.282936449963477,0.29072498173849526,0.31701059167275386,0.32516800584368155,0.35905953250547845,0.2529291453615778,0.25392257121986855,0.260399926953981,0.2761139517896275,0.2855222790357925,0.31176771365960554,0.32034696859021183,0.3544667640613587,0.24319941563184808,0.25418918918918926,0.2572425127830533,0.2683802045288532,0.2784075967859751,0.29394631117604086,0.3014243973703433,0.331336742147553,0.34859386413440463,0.35434623813002186,0.44548940832724626,0.46076333089846605,0.48273192111029956,0.43334550766983204,0.4475420014609204,0.46808254200146093,0.4947863403944486,0.42416727538349164,0.43365960555149746,0.4567184075967859,0.48013513513513517,0.4947699050401752,0.4194393718042367,0.42756574141709275,0.44504200146092043,0.4690504017531045,0.4842951059167276,0.496373265157049,0.4090869247626005,0.41372169466764064,0.42928049671292917,0.44923301680058436,0.46582907231555876,0.47459459459459463,0.40562454346238136,0.4088203067932798,0.4219119795471147,0.4454054054054054,0.4559495982468955,0.4662874360847334,0.4964791818845873,0.3888604821037253,0.39054054054054055,0.40660336011687354,0.42720416362308256,0.4366946676406136,0.4465102264426588,0.47125091307523737,0.48042731921110304,0.489408327246165,0.38364499634769905,0.3868955441928415,0.40118151935719504,0.4150200876552228,0.4267640613586559,0.4368736303871439,0.4590558802045288,0.4697114682249818,0.48128195763330894,0.3708582907231555,0.37348794740686625,0.38606647187728277,0.3868590211833454,0.3962235208181154,0.4071402483564646,0.42689919649379116,0.43839298758217676,0.44983564645726815,0.46544923301680063,0.4713659605551498,0.4796840759678598,0.4830021913805697,0.3665412710007305,0.367954711468225,0.3731081081081081,0.3792786705624544,0.3950840029218407,0.4023374726077429,0.4162965668371074,0.4282322863403945,0.43485390796201606,0.450781592403214,0.4572753834915998,0.46638787436084733,0.4722808619430241,0.497054419284149,0.3524470416362308,0.3530971512052593,0.364527027027027,0.36507304601899193,0.37391526661796937,0.3820598977355734,0.395418188458729,0.4032450693937181,0.4141764061358657,0.42382761139517894,0.4333162892622352,0.43885135135135134,0.4507121986851717,0.47176040905770633,0.47886048210372534,0.4977940102264427,0.3435646457268079,0.3421658144631118,0.3391106647187729,0.34546384222059895,0.3511504747991235,0.3557432432432433,0.36650292184075967,0.3772132943754566,0.38230094959824695,0.39157048940832717,0.39527027027027023,0.39993973703433167,0.40917457998539086,0.4286705624543462,0.43646457268078886,0.4511322132943755,0.45324689554419284,0.45910336011687364,0.33983747260774294,0.33963111760409065,0.3368699780861943,0.335427319211103,0.34305332359386415,0.34944119795471146,0.36135865595325056,0.36700146092037983,0.3648831263696129,0.3753159240321403,0.37940284879474073,0.38893900657414177,0.3922735573411249,0.40680971512052594,0.4135116873630388,0.4302666179693207,0.43093681519357196,0.4389791818845873,0.32984660336011684,0.3234477720964208,0.32551680058436816,0.32150474799123446,0.3243462381300219,0.32700511322132947,0.335555149744339,0.33969503287070857,0.34634769905040175,0.3544667640613587,0.3620489408327246,0.3658400292184076,0.37405405405405406,0.3888531775018262,0.39450693937180425,0.40455807158509866,0.4051862673484295,0.4127246165084003,0.49906501095690287,0.4975310445580716,0.49868151935719507,0.49640248356464567,0.49497808619430234,0.48534696859021176,0.483199415631848,0.47463476990504017,0.4944411979547115,0.4743900657414171,0.4910883856829802,0.4994375456537618,0.47315193571950337,0.4866015339663988,0.49512052593133665,0.471300219138057,0.480509495982469,0.4907779401022645,0.4629839298758218,0.47097516435354275,0.4818699780861943,0.4600675675675676,0.4674360847333821,0.4753323593864134,0.457100073046019,0.45897918188458736,0.4697589481373265,0.4964791818845873,0.4501643535427319,0.4464828341855369,0.45823411249086926,0.4851880934989043,0.44243425858290725,0.4416088385682981,0.45772826880934997,0.4768444119795472,0.49830898466033596,0.4204382761139517,0.4197626004382762,0.42748356464572684,0.4393535427319211,0.45946676406135867,0.46263696128561,0.4772096420745069,0.4912198685171658,0.4969758948137326,0.4175620891161432,0.4168827611395179,0.4211249086924763,0.4357231555880205,0.44783053323593863,0.4516289262235209,0.46466033601168727,0.47791818845872897,0.48319941563184804,0.41371073776479184,0.4082395909422937,0.41798758217677134,0.42731921110299487,0.4351314828341856,0.4386687363038715,0.45384039444850255,0.464172753834916,0.47459459459459463,0.491718407596786,0.4977209642074507,0.4031592403214025,0.40405405405405403,0.4075675675675676,0.41015522279035793,0.42048210372534706,0.42440467494521544,0.4337764791818846,0.44132213294375455,0.4477355734112491,0.4660628195763331,0.471291088385683,0.4793918918918919,0.48162162162162164,0.4866508400292185,0.49034879474068666,0.4955259313367422,0.4002008765522279,0.3991161431701972,0.3960920379839299,0.4048502556610665,0.4079474068663258,0.41029948867786703,0.4234769905040175,0.43135135135135133,0.4368115412710008,0.45643535427319215,0.46079620160701246,0.468791088385683,0.4724251278305333,0.4770379839298758,0.4813878743608473,0.485454711468225,0.4910226442658875],\"yaxis\":\"y\"},{\"customdata\":[[\"2022-01-13T00:00:00\",37590.65,-3.0106720233747266,37700.0,35000.0,0.08372015381484492,384.1,19.15,447.095,10161.25],[\"2022-01-13T00:00:00\",37590.65,-3.4912454346238135,37900.0,35000.0,0.08657525209061295,299.85,19.15,354.4200000000001,8055.000000000001],[\"2022-01-13T00:00:00\",37590.65,-3.7072607742878003,38000.0,35000.0,0.08815423516220124,262.9,19.15,313.775,7131.249999999999],[\"2022-01-13T00:00:00\",37590.65,-4.066891891891892,38200.0,35000.0,0.09164579489846544,200.4,19.15,245.025,5568.75],[\"2022-01-13T00:00:00\",37590.65,-2.896793279766253,37700.0,35100.0,0.08110673797872608,384.1,20.75,448.8550000000001,10201.25],[\"2022-01-13T00:00:00\",37590.65,-3.3352227903579266,37900.0,35100.0,0.08396183625449415,299.85,20.75,356.18000000000006,8095.000000000001],[\"2022-01-13T00:00:00\",37590.65,-3.591057341124909,38000.0,35100.0,0.08554081932608242,262.9,20.75,315.53499999999997,7171.249999999999],[\"2022-01-13T00:00:00\",37590.65,-3.9337837837837837,38200.0,35100.0,0.08903237906234661,200.4,20.75,246.78500000000003,5608.75],[\"2022-01-13T00:00:00\",37590.65,-4.3282834185536885,38400.0,35100.0,0.09288533185778909,150.25,20.75,191.62,4355.0],[\"2022-01-13T00:00:00\",37590.65,-2.7603761869978087,37700.0,35200.0,0.07851234282993244,384.1,23.0,451.33000000000004,10257.5],[\"2022-01-13T00:00:00\",37590.65,-3.190401753104455,37900.0,35200.0,0.08136744110570049,299.85,23.0,358.65500000000003,8151.250000000001],[\"2022-01-13T00:00:00\",37590.65,-3.3971621621621617,38000.0,35200.0,0.08294642417728877,262.9,23.0,318.01,7227.499999999999],[\"2022-01-13T00:00:00\",37590.65,-3.7942202337472604,38200.0,35200.0,0.08643798391355298,200.4,23.0,249.26000000000002,5665.0],[\"2022-01-13T00:00:00\",37590.65,-4.200436449963477,38400.0,35200.0,0.09029093670899545,150.25,23.0,194.095,4411.25],[\"2022-01-13T00:00:00\",37590.65,-2.498341855368882,37700.0,35400.0,0.07333964696008183,384.1,28.05,456.88500000000005,10383.75],[\"2022-01-13T00:00:00\",37590.65,-2.887647918188459,37900.0,35400.0,0.07619474523584988,299.85,28.05,364.21000000000004,8277.5],[\"2022-01-13T00:00:00\",37590.65,-3.0860043827611383,38000.0,35400.0,0.07777372830743814,262.9,28.05,323.565,7353.749999999999],[\"2022-01-13T00:00:00\",37590.65,-3.528707085463843,38200.0,35400.0,0.08126528804370235,200.4,28.05,254.81500000000003,5791.25],[\"2022-01-13T00:00:00\",37590.65,-3.843968224981739,38400.0,35400.0,0.08511824083914483,150.25,28.05,199.65,4537.5],[\"2022-01-13T00:00:00\",37590.65,-2.3668151935719504,37700.0,35500.0,0.0707657356284076,384.1,31.0,460.13000000000005,10457.5],[\"2022-01-13T00:00:00\",37590.65,-2.758007669831994,37900.0,35500.0,0.07362083390417563,299.85,31.0,367.45500000000004,8351.25],[\"2022-01-13T00:00:00\",37590.65,-2.9612235208181157,38000.0,35500.0,0.07519981697576392,262.9,31.0,326.81,7427.499999999999],[\"2022-01-13T00:00:00\",37590.65,-3.361550401753105,38200.0,35500.0,0.07869137671202812,200.4,31.0,258.06,5865.0],[\"2022-01-13T00:00:00\",37590.65,-3.7412271731190656,38400.0,35500.0,0.0825443295074706,150.25,31.0,202.895,4611.25],[\"2022-01-13T00:00:00\",37590.65,-4.068918918918918,38600.0,35500.0,0.08672941276620649,111.45,31.0,160.21500000000003,3641.25],[\"2022-01-13T00:00:00\",37590.65,-1.9032286340394444,37700.0,35800.0,0.06315519949774745,384.1,43.65,474.045,10773.75],[\"2022-01-13T00:00:00\",37590.65,-2.356691015339664,37900.0,35800.0,0.06601029777351548,299.85,43.65,381.37,8667.5],[\"2022-01-13T00:00:00\",37590.65,-2.56409788166545,38000.0,35800.0,0.06758928084510377,262.9,43.65,340.72499999999997,7743.749999999999],[\"2022-01-13T00:00:00\",37590.65,-2.901356829802776,38200.0,35800.0,0.07108084058136797,200.4,43.65,271.975,6181.25],[\"2022-01-13T00:00:00\",37590.65,-3.27058984660336,38400.0,35800.0,0.07493379337681046,150.25,43.65,216.81,4927.5],[\"2022-01-13T00:00:00\",37590.65,-3.6548137326515704,38600.0,35800.0,0.07911887663554634,111.45,43.65,174.13000000000002,3957.5],[\"2022-01-13T00:00:00\",37590.65,-1.7712947406866326,37700.0,35900.0,0.06064566587701995,384.1,48.8,479.71000000000004,10902.5],[\"2022-01-13T00:00:00\",37590.65,-2.2279474068663254,37900.0,35900.0,0.06350076415278799,299.85,48.8,387.0350000000001,8796.25],[\"2022-01-13T00:00:00\",37590.65,-2.405934989043098,38000.0,35900.0,0.06507974722437627,262.9,48.8,346.39,7872.499999999999],[\"2022-01-13T00:00:00\",37590.65,-2.767063550036523,38200.0,35900.0,0.06857130696064047,200.4,48.8,277.64000000000004,6310.0],[\"2022-01-13T00:00:00\",37590.65,-3.109243973703433,38400.0,35900.0,0.07242425975608295,150.25,48.8,222.47500000000002,5056.25],[\"2022-01-13T00:00:00\",37590.65,-3.5095398100803505,38600.0,35900.0,0.07660934301481884,111.45,48.8,179.79500000000002,4086.25],[\"2022-01-13T00:00:00\",37590.65,-1.5145763330898467,37700.0,36100.0,0.05572462833177931,384.1,62.45,494.725,11243.75],[\"2022-01-13T00:00:00\",37590.65,-1.8619978086194302,37900.0,36100.0,0.05857972660754736,299.85,62.45,402.05,9137.5],[\"2022-01-13T00:00:00\",37590.65,-2.1254638422205985,38000.0,36100.0,0.06015870967913564,262.9,62.45,361.40500000000003,8213.75],[\"2022-01-13T00:00:00\",37590.65,-2.488813002191381,38200.0,36100.0,0.06365026941539985,200.4,62.45,292.65500000000003,6651.25],[\"2022-01-13T00:00:00\",37590.65,-2.798466033601168,38400.0,36100.0,0.06750322221084233,150.25,62.45,237.49000000000004,5397.5],[\"2022-01-13T00:00:00\",37590.65,-3.181418918918919,38600.0,36100.0,0.0716883054695782,111.45,62.45,194.81,4427.5],[\"2022-01-13T00:00:00\",37590.65,-3.6999634769905043,38900.0,36100.0,0.07848826769422716,71.1,62.45,150.425,3418.75],[\"2022-01-13T00:00:00\",37590.65,-3.8150547845142437,39000.0,36100.0,0.08088221406120936,62.0,62.45,140.41500000000002,3191.25],[\"2022-01-13T00:00:00\",37590.65,-1.4099342585829069,37700.0,36200.0,0.053276546162410066,384.1,69.7,502.70000000000005,11425.0],[\"2022-01-13T00:00:00\",37590.65,-1.7608108108108111,37900.0,36200.0,0.05613164443817811,299.85,69.7,410.02500000000003,9318.75],[\"2022-01-13T00:00:00\",37590.65,-1.9328305332359392,38000.0,36200.0,0.05771062750976639,262.9,69.7,369.38000000000005,8395.0],[\"2022-01-13T00:00:00\",37590.65,-2.332344777209642,38200.0,36200.0,0.0612021872460306,200.4,69.7,300.63000000000005,6832.5],[\"2022-01-13T00:00:00\",37590.65,-2.7173484295105914,38400.0,36200.0,0.06505514004147309,150.25,69.7,245.46500000000003,5578.75],[\"2022-01-13T00:00:00\",37590.65,-3.0083272461650843,38600.0,36200.0,0.06924022330020896,111.45,69.7,202.785,4608.75],[\"2022-01-13T00:00:00\",37590.65,-3.5514974433893354,38900.0,36200.0,0.0760401855248579,71.1,69.7,158.4,3600.0],[\"2022-01-13T00:00:00\",37590.65,-3.708566471877283,39000.0,36200.0,0.07843413189184012,62.0,69.7,148.39000000000001,3372.5],[\"2022-01-13T00:00:00\",37590.65,-0.8656409788166548,37700.0,36600.0,0.044060690623865244,384.1,118.4,556.27,12642.5],[\"2022-01-13T00:00:00\",37590.65,-1.2140339663988318,37900.0,36600.0,0.046915788899633284,299.85,118.4,463.595,10536.25],[\"2022-01-13T00:00:00\",37590.65,-1.3870197224251277,38000.0,36600.0,0.04849477197122157,262.9,118.4,422.95000000000005,9612.5],[\"2022-01-13T00:00:00\",37590.65,-1.6966033601168733,38200.0,36600.0,0.05198633170748577,200.4,118.4,354.20000000000005,8050.0],[\"2022-01-13T00:00:00\",37590.65,-2.071964937910884,38400.0,36600.0,0.05583928450292825,150.25,118.4,299.035,6796.25],[\"2022-01-13T00:00:00\",37590.65,-2.3995617238860487,38600.0,36600.0,0.06002436776166414,111.45,118.4,256.355,5826.25],[\"2022-01-13T00:00:00\",37590.65,-2.8451022644265884,38900.0,36600.0,0.06682432998631307,71.1,118.4,211.97,4817.5],[\"2022-01-13T00:00:00\",37590.65,-3.010540540540541,39000.0,36600.0,0.0692182763532953,62.0,118.4,201.96,4590.0],[\"2022-01-13T00:00:00\",37590.65,-3.3402337472607746,39200.0,36600.0,0.07407054679820647,46.0,118.4,184.36,4190.0],[\"2022-01-13T00:00:00\",37590.65,-3.5033235938641347,39300.0,36600.0,0.07656252286140303,40.25,118.4,178.035,4046.25],[\"2022-01-13T00:00:00\",37590.65,-3.6468115412710005,39400.0,36600.0,0.07907498274171902,35.2,118.4,172.48000000000002,3920.0],[\"2022-01-13T00:00:00\",37590.65,-3.9193243243243243,39600.0,36600.0,0.08416135395370923,27.2,118.4,163.68000000000004,3720.0],[\"2022-01-13T00:00:00\",37590.65,-4.0592786705624535,39700.0,36600.0,0.08671770772785253,23.65,118.4,159.775,3631.25],[\"2022-01-13T00:00:00\",37590.65,-4.244207450693936,39800.0,36600.0,0.08929015592973252,20.65,118.4,156.47500000000002,3556.25],[\"2022-01-13T00:00:00\",37590.65,-0.6800493060628194,37700.0,36800.0,0.03975416759220711,384.1,153.05,594.3850000000001,13508.75],[\"2022-01-13T00:00:00\",37590.65,-0.9503506208911612,37900.0,36800.0,0.04260926586797515,299.85,153.05,501.71000000000015,11402.500000000002],[\"2022-01-13T00:00:00\",37590.65,-1.0924872169466764,38000.0,36800.0,0.044188248939563426,262.9,153.05,461.065,10478.75],[\"2022-01-13T00:00:00\",37590.65,-1.4392951059167274,38200.0,36800.0,0.047679808675827634,200.4,153.05,392.315,8916.25],[\"2022-01-13T00:00:00\",37590.65,-1.711806062819576,38400.0,36800.0,0.051532761471270117,150.25,153.05,337.15000000000003,7662.5],[\"2022-01-13T00:00:00\",37590.65,-2.071869978086194,38600.0,36800.0,0.055717844730006,111.45,153.05,294.47,6692.5],[\"2022-01-13T00:00:00\",37590.65,-2.5524470416362313,38900.0,36800.0,0.06251780695465495,71.1,153.05,250.085,5683.75],[\"2022-01-13T00:00:00\",37590.65,-2.7320452885317748,39000.0,36800.0,0.06491175332163715,62.0,153.05,240.07500000000002,5456.25],[\"2022-01-13T00:00:00\",37590.65,-2.984620160701241,39200.0,36800.0,0.06976402376654832,46.0,153.05,222.47500000000002,5056.25],[\"2022-01-13T00:00:00\",37590.65,-3.106422571219868,39300.0,36800.0,0.0722559998297449,40.25,153.05,216.15,4912.5],[\"2022-01-13T00:00:00\",37590.65,-3.2767987582176765,39400.0,36800.0,0.07476845971006088,35.2,153.05,210.59500000000006,4786.250000000001],[\"2022-01-13T00:00:00\",37590.65,-3.6095836376917454,39600.0,36800.0,0.07985483092205109,27.2,153.05,201.79500000000002,4586.25],[\"2022-01-13T00:00:00\",37590.65,-3.737410518626735,39700.0,36800.0,0.08241118469619439,23.65,153.05,197.89000000000001,4497.5],[\"2022-01-13T00:00:00\",37590.65,-3.844306062819576,39800.0,36800.0,0.08498363289807438,20.65,153.05,194.59000000000003,4422.5],[\"2022-01-13T00:00:00\",37590.65,-4.331486486486487,40100.0,36800.0,0.092788765291369,14.65,153.05,187.99,4272.5],[\"2022-01-13T00:00:00\",37590.65,-0.5671384222059896,37700.0,36900.0,0.037769897567613224,384.1,176.15,619.7950000000001,14086.25],[\"2022-01-13T00:00:00\",37590.65,-0.8045471146822499,37900.0,36900.0,0.040624995843381265,299.85,176.15,527.12,11980.0],[\"2022-01-13T00:00:00\",37590.65,-0.9616508400292183,38000.0,36900.0,0.04220397891496954,262.9,176.15,486.475,11056.25],[\"2022-01-13T00:00:00\",37590.65,-1.260107742878013,38200.0,36900.0,0.04569553865123375,200.4,176.15,417.725,9493.75],[\"2022-01-13T00:00:00\",37590.65,-1.549264061358656,38400.0,36900.0,0.04954849144667623,150.25,176.15,362.56000000000006,8240.0],[\"2022-01-13T00:00:00\",37590.65,-1.84350073046019,38600.0,36900.0,0.05373357470541212,111.45,176.15,319.88000000000005,7270.0],[\"2022-01-13T00:00:00\",37590.65,-2.374415631848065,38900.0,36900.0,0.06053353693006106,71.1,176.15,275.495,6261.25],[\"2022-01-13T00:00:00\",37590.65,-2.5378670562454344,39000.0,36900.0,0.06292748329704329,62.0,176.15,265.485,6033.75],[\"2022-01-13T00:00:00\",37590.65,-2.7785244704163614,39200.0,36900.0,0.06777975374195445,46.0,176.15,247.88500000000002,5633.75],[\"2022-01-13T00:00:00\",37590.65,-2.9441070124178235,39300.0,36900.0,0.070271729805151,40.25,176.15,241.56,5490.0],[\"2022-01-13T00:00:00\",37590.65,-3.060854638422206,39400.0,36900.0,0.072784189685467,35.2,176.15,236.00500000000002,5363.75],[\"2022-01-13T00:00:00\",37590.65,-3.3889043097151204,39600.0,36900.0,0.07787056089745721,27.2,176.15,227.20500000000004,5163.75],[\"2022-01-13T00:00:00\",37590.65,-3.582204163623083,39700.0,36900.0,0.08042691467160051,23.65,176.15,223.3,5075.0],[\"2022-01-13T00:00:00\",37590.65,-3.705127830533235,39800.0,36900.0,0.0829993628734805,20.65,176.15,220.00000000000003,5000.0],[\"2022-01-13T00:00:00\",37590.65,-4.119671292914536,40100.0,36900.0,0.09080449526677511,14.65,176.15,213.4,4850.0],[\"2022-01-13T00:00:00\",37590.65,-0.3292184075967858,37700.0,37100.0,0.033931576070113184,384.1,226.8,675.5100000000001,15352.5],[\"2022-01-13T00:00:00\",37590.65,-0.5970598977355734,37900.0,37100.0,0.036786674345881225,299.85,226.8,582.835,13246.25],[\"2022-01-13T00:00:00\",37590.65,-0.7060299488677868,38000.0,37100.0,0.0383656574174695,262.9,226.8,542.19,12322.5],[\"2022-01-13T00:00:00\",37590.65,-0.9734842951059165,38200.0,37100.0,0.04185721715373371,200.4,226.8,473.44,10760.0],[\"2022-01-13T00:00:00\",37590.65,-1.2587728268809348,38400.0,37100.0,0.04571016994917619,150.25,226.8,418.27500000000003,9506.25],[\"2022-01-13T00:00:00\",37590.65,-1.527059897735573,38600.0,37100.0,0.04989525320791207,111.45,226.8,375.595,8536.25],[\"2022-01-13T00:00:00\",37590.65,-1.9736322132943749,38900.0,37100.0,0.05669521543256102,71.1,226.8,331.21000000000004,7527.5],[\"2022-01-13T00:00:00\",37590.65,-2.1526442658875085,39000.0,37100.0,0.05908916179954323,62.0,226.8,321.20000000000005,7300.0],[\"2022-01-13T00:00:00\",37590.65,-2.460562454346238,39200.0,37100.0,0.06394143224445441,46.0,226.8,303.6,6900.0],[\"2022-01-13T00:00:00\",37590.65,-2.6235299488677866,39300.0,37100.0,0.06643340830765097,40.25,226.8,297.27500000000003,6756.25],[\"2022-01-13T00:00:00\",37590.65,-2.7439883126369606,39400.0,37100.0,0.06894586818796695,35.2,226.8,291.72,6630.0],[\"2022-01-13T00:00:00\",37590.65,-2.9901387874360843,39600.0,37100.0,0.07403223939995716,27.2,226.8,282.92,6430.0],[\"2022-01-13T00:00:00\",37590.65,-3.162885317750183,39700.0,37100.0,0.07658859317410047,23.65,226.8,279.01500000000004,6341.25],[\"2022-01-13T00:00:00\",37590.65,-3.318831263696129,39800.0,37100.0,0.07916104137598047,20.65,226.8,275.71500000000003,6266.25],[\"2022-01-13T00:00:00\",37590.65,-3.758951789627465,40100.0,37100.0,0.08696617376927507,14.65,226.8,269.115,6116.25],[\"2022-01-13T00:00:00\",37590.65,-3.8699342585829077,40200.0,37100.0,0.08958690525436512,13.3,226.8,267.63000000000005,6082.5],[\"2022-01-13T00:00:00\",37590.65,-0.009886778670562424,37700.0,37500.0,0.027637590730673716,384.1,375.35,838.9150000000001,19066.25],[\"2022-01-13T00:00:00\",37590.65,-0.15785244704163648,37900.0,37500.0,0.03049268900644176,299.85,375.35,746.24,16960.0],[\"2022-01-13T00:00:00\",37590.65,-0.2129729729729729,38000.0,37500.0,0.03207167207803005,262.9,375.35,705.5950000000001,16036.25],[\"2022-01-13T00:00:00\",37590.65,-0.4551972242512783,38200.0,37500.0,0.03556323181429425,200.4,375.35,636.8450000000001,14473.75],[\"2022-01-13T00:00:00\",37590.65,-0.6740759678597519,38400.0,37500.0,0.039416184609736726,150.25,375.35,581.68,13220.0],[\"2022-01-13T00:00:00\",37590.65,-0.8668918918918918,38600.0,37500.0,0.04360126786847261,111.45,375.35,539.0,12250.0],[\"2022-01-13T00:00:00\",37590.65,-1.2760664718772827,38900.0,37500.0,0.05040123009312156,71.1,375.35,494.615,11241.25],[\"2022-01-13T00:00:00\",37590.65,-1.4283053323593862,39000.0,37500.0,0.052795176460103774,62.0,375.35,484.6050000000001,11013.75],[\"2022-01-13T00:00:00\",37590.65,-1.633088020452885,39200.0,37500.0,0.05764744690501494,46.0,375.35,467.00500000000005,10613.75],[\"2022-01-13T00:00:00\",37590.65,-1.7708327246165079,39300.0,37500.0,0.060139422968211516,40.25,375.35,460.68000000000006,10470.0],[\"2022-01-13T00:00:00\",37590.65,-1.9222826880934996,39400.0,37500.0,0.06265188284852749,35.2,375.35,455.12500000000006,10343.75],[\"2022-01-13T00:00:00\",37590.65,-2.237019722425128,39600.0,37500.0,0.0677382540605177,27.2,375.35,446.32500000000005,10143.75],[\"2022-01-13T00:00:00\",37590.65,-2.3799835646457277,39700.0,37500.0,0.07029460783466102,23.65,375.35,442.42,10055.0],[\"2022-01-13T00:00:00\",37590.65,-2.53604638422206,39800.0,37500.0,0.07286705603654099,20.65,375.35,439.12,9980.0],[\"2022-01-13T00:00:00\",37590.65,-2.9068480642804957,40100.0,37500.0,0.0806721884298356,14.65,375.35,432.52000000000004,9830.0],[\"2022-01-13T00:00:00\",37590.65,-3.0133637691745805,40200.0,37500.0,0.08329291991492564,13.3,375.35,431.0350000000001,9796.25],[\"2022-01-13T00:00:00\",37590.65,-3.3385135135135133,40400.0,37500.0,0.08853877227448846,10.75,375.35,428.2300000000001,9732.5],[\"2022-01-20T00:00:00\",37590.65,-0.9419740686632578,37600.0,34000.0,0.1156114618927845,645.0,29.9,745.9100000000001,16952.5],[\"2022-01-20T00:00:00\",37590.65,-0.8922644265887509,37600.0,34100.0,0.11309753888267428,645.0,34.9,751.4100000000001,17077.5],[\"2022-01-20T00:00:00\",37590.65,-0.7565558802045289,37600.0,34500.0,0.10270825324914573,645.0,43.5,760.8700000000001,17292.5],[\"2022-01-20T00:00:00\",37590.65,-0.7352848794740686,37600.0,34600.0,0.09983732656923995,645.0,36.3,752.95,17112.5],[\"2022-01-20T00:00:00\",37590.65,-0.6223703433162894,37600.0,34800.0,0.09500553994144821,645.0,53.0,771.3200000000002,17530.0],[\"2022-01-20T00:00:00\",37590.65,-0.37453250547845107,37600.0,35300.0,0.08290412642505517,645.0,94.0,816.4200000000001,18555.0],[\"2022-01-20T00:00:00\",37590.65,-0.3147735573411249,37600.0,35600.0,0.07581446450114589,645.0,124.45,849.9150000000001,19316.25],[\"2022-01-20T00:00:00\",37590.65,-0.24491417092768442,37600.0,35800.0,0.07058909595870248,645.0,127.7,853.49,19397.5],[\"2022-01-20T00:00:00\",37590.65,-0.5558144631117603,38000.0,35800.0,0.07595545700859123,464.75,127.7,655.215,14891.25],[\"2022-01-20T00:00:00\",37590.65,-0.11428049671292917,37600.0,36100.0,0.06395446740080313,645.0,173.7,904.09,20547.5],[\"2022-01-20T00:00:00\",37590.65,-0.37065376186997767,38000.0,36100.0,0.06932082845069186,464.75,173.7,705.815,16041.25],[\"2022-01-20T00:00:00\",37590.65,-0.07554419284148994,37600.0,36200.0,0.061785843022134496,645.0,190.5,922.5700000000002,20967.5],[\"2022-01-20T00:00:00\",37590.65,-0.359870343316289,38000.0,36200.0,0.06715220407202323,464.75,190.5,724.2950000000001,16461.25],[\"2022-01-20T00:00:00\",37590.65,-0.6212856099342585,38300.0,36200.0,0.07171943023065576,348.1,190.5,595.98,13545.0],[\"2022-01-20T00:00:00\",37590.65,0.026307523739956373,37600.0,36500.0,0.05534873698645807,645.0,243.25,980.5950000000001,22286.25],[\"2022-01-20T00:00:00\",37590.65,-0.2373831263696129,38000.0,36500.0,0.06071509803634681,464.75,243.25,782.3200000000002,17780.0],[\"2022-01-20T00:00:00\",37590.65,-0.38672571219868535,38300.0,36500.0,0.06528232419497934,348.1,243.25,654.005,14863.75],[\"2022-01-20T00:00:00\",37590.65,-0.47762052593133675,38400.0,36500.0,0.06702078841414022,316.6,243.25,619.355,14076.25],[\"2022-01-20T00:00:00\",37590.65,0.14137691745799874,37600.0,36800.0,0.04937983248493974,645.0,312.0,1056.22,24005.0],[\"2022-01-20T00:00:00\",37590.65,-0.07476625273922566,38000.0,36800.0,0.05474619353482848,464.75,312.0,857.9450000000002,19498.75],[\"2022-01-20T00:00:00\",37590.65,-0.27885682980277593,38300.0,36800.0,0.05931341969346101,348.1,312.0,729.63,16582.5],[\"2022-01-20T00:00:00\",37590.65,-0.3189371804236668,38400.0,36800.0,0.06105188391262189,316.6,312.0,694.98,15795.0],[\"2022-01-20T00:00:00\",37590.65,-0.4984331628926224,38700.0,36800.0,0.06662866962928281,234.45,312.0,604.615,13741.25],[\"2022-01-20T00:00:00\",37590.65,-0.5793937180423667,38800.0,36800.0,0.06857343514943211,210.0,312.0,577.7200000000001,13130.0],[\"2022-01-20T00:00:00\",37590.65,0.2085737764791818,37600.0,37000.0,0.04576975923534177,645.0,370.45,1120.515,25466.25],[\"2022-01-20T00:00:00\",37590.65,0.0001826150474800725,38000.0,37000.0,0.0511361202852305,464.75,370.45,922.24,20960.0],[\"2022-01-20T00:00:00\",37590.65,-0.15325054784514236,38300.0,37000.0,0.05570334644386304,348.1,370.45,793.9250000000001,18043.75],[\"2022-01-20T00:00:00\",37590.65,-0.21369612856099351,38400.0,37000.0,0.057441810663023916,316.6,370.45,759.2750000000001,17256.25],[\"2022-01-20T00:00:00\",37590.65,-0.35706720233747236,38700.0,37000.0,0.06301859637968484,234.45,370.45,668.9100000000001,15202.5],[\"2022-01-20T00:00:00\",37590.65,-0.39768078889700487,38800.0,37000.0,0.06496336189983414,210.0,370.45,642.015,14591.25],[\"2022-01-20T00:00:00\",37590.65,-0.6689225712198682,39200.0,37000.0,0.07357055544397344,140.5,370.45,565.565,12853.75],[\"2022-01-20T00:00:00\",37590.65,-0.7330204528853177,39300.0,37000.0,0.07579331562502908,125.55,370.45,549.12,12480.0],[\"2022-01-20T00:00:00\",37590.65,0.23446311176040913,37600.0,37100.0,0.044019589977826935,645.0,401.55,1154.7250000000001,26243.75],[\"2022-01-20T00:00:00\",37590.65,0.051581446311176116,38000.0,37100.0,0.04938595102771567,464.75,401.55,956.45,21737.5],[\"2022-01-20T00:00:00\",37590.65,-0.09287983929875832,38300.0,37100.0,0.053953177186348206,348.1,401.55,828.1350000000001,18821.25],[\"2022-01-20T00:00:00\",37590.65,-0.16067202337472608,38400.0,37100.0,0.055691641405509085,316.6,401.55,793.4850000000001,18033.75],[\"2022-01-20T00:00:00\",37590.65,-0.304835646457268,38700.0,37100.0,0.061268427122170004,234.45,401.55,703.1200000000001,15980.0],[\"2022-01-20T00:00:00\",37590.65,-0.34835646457268055,38800.0,37100.0,0.0632131926423193,210.0,401.55,676.225,15368.75],[\"2022-01-20T00:00:00\",37590.65,-0.5943170197224252,39200.0,37100.0,0.0718203861864586,140.5,401.55,599.7750000000001,13631.25],[\"2022-01-20T00:00:00\",37590.65,-0.6331081081081078,39300.0,37100.0,0.07404314636751426,125.55,401.55,583.33,13257.5],[\"2022-01-20T00:00:00\",37590.65,-0.863310810810811,39700.0,37100.0,0.08330874831906339,78.55,401.55,531.6300000000001,12082.5],[\"2022-01-20T00:00:00\",37590.65,-0.945617238860482,39900.0,37100.0,0.08840682456940754,70.95,401.55,523.27,11892.5],[\"2022-01-20T00:00:00\",37590.65,0.2669192841490139,37600.0,37200.0,0.04249474270862568,645.0,440.35,1197.405,27213.75],[\"2022-01-20T00:00:00\",37590.65,0.09764061358655934,38000.0,37200.0,0.04786110375851442,464.75,440.35,999.13,22707.5],[\"2022-01-20T00:00:00\",37590.65,-0.03867786705624554,38300.0,37200.0,0.05242832991714695,348.1,440.35,870.815,19791.25],[\"2022-01-20T00:00:00\",37590.65,-0.08732651570489403,38400.0,37200.0,0.05416679413630783,316.6,440.35,836.1650000000001,19003.75],[\"2022-01-20T00:00:00\",37590.65,-0.24612856099342573,38700.0,37200.0,0.059743579852968756,234.45,440.35,745.8000000000001,16950.0],[\"2022-01-20T00:00:00\",37590.65,-0.28829072315558824,38800.0,37200.0,0.06168834537311804,210.0,440.35,718.905,16338.75],[\"2022-01-20T00:00:00\",37590.65,-0.46364317019722423,39200.0,37200.0,0.07029553891725734,140.5,440.35,642.455,14601.25],[\"2022-01-20T00:00:00\",37590.65,-0.5388422205989771,39300.0,37200.0,0.07251829909831302,125.55,440.35,626.0100000000001,14227.5],[\"2022-01-20T00:00:00\",37590.65,-0.7927501826150471,39700.0,37200.0,0.08178390104986213,78.55,440.35,574.3100000000001,13052.5],[\"2022-01-20T00:00:00\",37590.65,-0.8515193571950329,39900.0,37200.0,0.08688197730020629,70.95,440.35,565.95,12862.5]],\"hovertemplate\":\"underlying_name=BANKNIFTY<br>p_not_breakeven_tp=%{x}<br>p_not_breakeven_volatility=%{y}<br>cost=%{customdata[9]}<br>expiry=%{customdata[0]}<br>underlying_value=%{customdata[1]}<br>kelly_fraction=%{customdata[2]}<br>ce_strike_price=%{customdata[3]}<br>pe_strike_price=%{customdata[4]}<br>spread_percent=%{customdata[5]}<br>ce_premium=%{customdata[6]}<br>pe_premium=%{customdata[7]}<br>target=%{customdata[8]}<extra></extra>\",\"legendgroup\":\"BANKNIFTY\",\"marker\":{\"color\":\"#EF553B\",\"size\":[10161.25,8055.000000000001,7131.249999999999,5568.75,10201.25,8095.000000000001,7171.249999999999,5608.75,4355.0,10257.5,8151.250000000001,7227.499999999999,5665.0,4411.25,10383.75,8277.5,7353.749999999999,5791.25,4537.5,10457.5,8351.25,7427.499999999999,5865.0,4611.25,3641.25,10773.75,8667.5,7743.749999999999,6181.25,4927.5,3957.5,10902.5,8796.25,7872.499999999999,6310.0,5056.25,4086.25,11243.75,9137.5,8213.75,6651.25,5397.5,4427.5,3418.75,3191.25,11425.0,9318.75,8395.0,6832.5,5578.75,4608.75,3600.0,3372.5,12642.5,10536.25,9612.5,8050.0,6796.25,5826.25,4817.5,4590.0,4190.0,4046.25,3920.0,3720.0,3631.25,3556.25,13508.75,11402.500000000002,10478.75,8916.25,7662.5,6692.5,5683.75,5456.25,5056.25,4912.5,4786.250000000001,4586.25,4497.5,4422.5,4272.5,14086.25,11980.0,11056.25,9493.75,8240.0,7270.0,6261.25,6033.75,5633.75,5490.0,5363.75,5163.75,5075.0,5000.0,4850.0,15352.5,13246.25,12322.5,10760.0,9506.25,8536.25,7527.5,7300.0,6900.0,6756.25,6630.0,6430.0,6341.25,6266.25,6116.25,6082.5,19066.25,16960.0,16036.25,14473.75,13220.0,12250.0,11241.25,11013.75,10613.75,10470.0,10343.75,10143.75,10055.0,9980.0,9830.0,9796.25,9732.5,16952.5,17077.5,17292.5,17112.5,17530.0,18555.0,19316.25,19397.5,14891.25,20547.5,16041.25,20967.5,16461.25,13545.0,22286.25,17780.0,14863.75,14076.25,24005.0,19498.75,16582.5,15795.0,13741.25,13130.0,25466.25,20960.0,18043.75,17256.25,15202.5,14591.25,12853.75,12480.0,26243.75,21737.5,18821.25,18033.75,15980.0,15368.75,13631.25,13257.5,12082.5,11892.5,27213.75,22707.5,19791.25,19003.75,16950.0,16338.75,14601.25,14227.5,13052.5,12862.5],\"sizemode\":\"area\",\"sizeref\":68.034375,\"symbol\":\"circle\"},\"mode\":\"markers\",\"name\":\"BANKNIFTY\",\"orientation\":\"v\",\"showlegend\":true,\"type\":\"scatter\",\"x\":[0.3591124908692477,0.40502556610664725,0.4250840029218407,0.45831994156318484,0.34786340394448506,0.38969138056975905,0.4136723886048211,0.4456008035062089,0.483199415631848,0.3344758948137327,0.3754930606281957,0.3947699050401753,0.4321621621621622,0.4711468224981738,0.30922571219868517,0.34629291453615785,0.3647918188458728,0.4067202337472608,0.43658144631117607,0.29658144631117606,0.3336851716581446,0.3526625273922572,0.39052227903579256,0.42684806428049676,0.4573959094229364,0.25135135135135134,0.29511322132943757,0.3145069393718043,0.34629291453615785,0.3821219868517166,0.41804236669101535,0.23864499634769906,0.28274287801314824,0.2995343316289263,0.3336851716581446,0.36642622352081816,0.4041526661796932,0.2135646457268079,0.24730277574872173,0.27279035792549305,0.3069740686632579,0.3368151935719503,0.3730241051862674,0.4215449233016801,0.4321621621621622,0.20365230094959824,0.2373228634039445,0.2540704894083273,0.29218224981738494,0.3298027757487217,0.3566983199415632,0.4075967859751644,0.4224342585829073,0.15137874360847337,0.1857140248356465,0.20243425858290723,0.2320781592403214,0.2685719503287071,0.2995343316289263,0.3415157048940833,0.3566983199415632,0.38886048210372537,0.4041526661796932,0.41804236669101535,0.4437783053323594,0.4573959094229364,0.47479912344777203,0.13410701241782322,0.16029948867786703,0.17372169466764062,0.2079327976625274,0.23403944485025566,0.2685719503287071,0.3145069393718043,0.33135682980277575,0.3559021183345507,0.3672315558802045,0.38379474068663255,0.41541271000730456,0.42772096420745076,0.43746165084002925,0.4841581446311176,0.12296932067202336,0.14620891161431704,0.1614243973703433,0.1910080350620891,0.21860299488677867,0.24663257852447046,0.29731555880204535,0.31298758217677136,0.33604090577063545,0.35184806428049675,0.36316106647187735,0.3947699050401753,0.4136723886048211,0.4250840029218407,0.4647151205259313,0.09994704163623082,0.12631300219138059,0.1370927684441198,0.1631117604090577,0.1910080350620891,0.21670562454346234,0.2595471146822498,0.27703433162892616,0.306227173119065,0.3221165084002922,0.3336851716581446,0.3574945215485756,0.3738385682980278,0.38886048210372537,0.4312837837837838,0.4419558071585099,0.06869978086194302,0.08429693206720236,0.08946311176040905,0.11322132943754566,0.13510409057706357,0.1534897735573411,0.19337837837837837,0.2079327976625274,0.227554784514244,0.2406281957633309,0.25543279766252747,0.2856355003652301,0.2995343316289263,0.3145069393718043,0.3502465303140978,0.3607085463842221,0.3930971512052593,0.1446311176040906,0.1396018991964938,0.12631300219138059,0.1243973703433163,0.11322132943754566,0.08907414170927681,0.0831081081081081,0.07723155588020453,0.1064682249817385,0.06455441928414901,0.08907414170927681,0.0607980277574872,0.08785244704163621,0.1123082542001461,0.05213294375456537,0.07683345507669832,0.0902739225712199,0.09909422936449963,0.0416289262235208,0.06177867056245435,0.0810810810810811,0.08505295836376918,0.1021037253469686,0.11005113221329438,0.035252008765522286,0.054685902118334545,0.07012783053323594,0.07573411249086925,0.08907414170927681,0.09312454346238129,0.11873813002191379,0.12487582176771365,0.032702702702702695,0.050571585098612135,0.06455441928414901,0.07046018991964938,0.08467494521548577,0.08865595325054781,0.1123082542001461,0.11596603360116871,0.1370927684441198,0.1446311176040906,0.029353542731921114,0.04612490869247627,0.059163623082542006,0.06381665449233018,0.07954711468224981,0.08351351351351353,0.09994704163623082,0.10733382030679327,0.13066837107377646,0.13559897735573412],\"xaxis\":\"x\",\"y\":[0.4195471146822498,0.44098977355734115,0.45642074506939373,0.48369247626004386,0.41815924032140245,0.438308984660336,0.45433345507669826,0.4777757487216947,0.49628926223520814,0.4156172388604821,0.43547114682249816,0.449463111760409,0.4725986121256392,0.48896822498173853,0.4060847333820306,0.4247187728268809,0.4380861943024106,0.4615047479912346,0.4781537618699781,0.4010007304601899,0.4211559532505479,0.4345982468955442,0.456327611395179,0.4727465303140979,0.4949598246895544,0.3897151205259314,0.4055588020452885,0.4190284879474069,0.43842768444119795,0.44936997808619433,0.4743900657414171,0.38484477720964205,0.400518626734843,0.4105916727538349,0.43021183345507674,0.444981738495252,0.46801314828341856,0.37892987582176774,0.3889700511322133,0.3975602629656684,0.41907231555880203,0.43031409788166547,0.4511778670562454,0.48451424397370335,0.49343316289262235,0.37341124908692475,0.38758217677136597,0.3921256391526662,0.4105222790357926,0.41932067202337475,0.4413440467494521,0.47552958363769177,0.4842238860482104,0.3518535427319211,0.3568937180423667,0.36267713659605555,0.3758217677136596,0.38624543462381306,0.40421840759678596,0.42994521548575604,0.4435573411249087,0.4516289262235209,0.4617969320672024,0.46638787436084733,0.4815412710007304,0.48531957633308986,0.49621621621621625,0.3389791818845873,0.3473557341124909,0.35527027027027036,0.35996712929145364,0.3714116143170197,0.3861504747991234,0.4073776479181884,0.4184769905040176,0.42559897735573415,0.4341070124178233,0.43885135135135134,0.4554565376186998,0.4602008765522279,0.46968955441928417,0.48990504017531045,0.33744521548575607,0.34245799853907954,0.34740686632578527,0.350027392257122,0.36323411249086923,0.3771749452154857,0.4012600438276114,0.40799123447772095,0.41811541271000724,0.42562636961285616,0.4292439737034331,0.44120525931336746,0.4454802775748722,0.4542878013148283,0.4725200876552228,0.3297479912344777,0.33392987582176775,0.3351022644265888,0.3423666910153397,0.34869247626004385,0.3600036523009496,0.37816106647187725,0.38230094959824695,0.39829072315558806,0.40236486486486484,0.40713659605551494,0.41519357195032863,0.424499634769905,0.43022644265887505,0.44611395178962754,0.4503761869978087,0.32288897005113226,0.3148831263696129,0.3183418553688824,0.32298392987582175,0.3230350620891162,0.33199415631848067,0.34228268809349893,0.34897735573411254,0.3575401753104456,0.3645507669831994,0.36795471146822495,0.38066471877282687,0.38464024835646454,0.3909769905040175,0.40438276113951793,0.40627830533235937,0.40754200146092034,0.49566289262235214,0.49624543462381304,0.49342585829072316,0.4913111760409058,0.4901570489408328,0.48379108838568297,0.48369247626004386,0.4725986121256392,0.49113221329437545,0.46873630387143905,0.47991234477720957,0.46756391526661795,0.481345872899927,0.4982030679327976,0.45236303871439004,0.46904857560262975,0.4839864864864865,0.48667823228634044,0.44233382030679325,0.45697954711468225,0.46804601899196496,0.46840759678597516,0.4773959094229365,0.478882395909423,0.43890613586559535,0.45295836376917453,0.451972242512783,0.456355003652301,0.4663257852447042,0.4664353542731921,0.4815412710007304,0.4842622352081812,0.4385098612125639,0.4427027027027027,0.44733564645726814,0.4560701241782323,0.45808619430241043,0.4617969320672024,0.4712344777209643,0.4734477720964207,0.49238312636961296,0.4993060628195763,0.43954528853177505,0.4411102994886779,0.4470416362308255,0.44915997078159237,0.4506574141709277,0.4531555880204529,0.464172753834916,0.46550401753104453,0.48606647187728275,0.49552958363769173],\"yaxis\":\"y\"},{\"customdata\":[[\"2022-01-27T00:00:00\",2416.85,0.22481373265157056,2420.0,2360.0,0.05505444414561654,46.0,20.15,73.05833333333335,19925.0],[\"2022-01-27T00:00:00\",2416.85,0.09542001460920391,2440.0,2360.0,0.05896035473171001,36.4,20.15,62.49833333333334,17045.0],[\"2022-01-27T00:00:00\",2416.85,-0.04631117604090562,2460.0,2360.0,0.06363999972415886,28.5,20.15,53.80833333333334,14675.0]],\"hovertemplate\":\"underlying_name=HINDUNILVR<br>p_not_breakeven_tp=%{x}<br>p_not_breakeven_volatility=%{y}<br>cost=%{customdata[9]}<br>expiry=%{customdata[0]}<br>underlying_value=%{customdata[1]}<br>kelly_fraction=%{customdata[2]}<br>ce_strike_price=%{customdata[3]}<br>pe_strike_price=%{customdata[4]}<br>spread_percent=%{customdata[5]}<br>ce_premium=%{customdata[6]}<br>pe_premium=%{customdata[7]}<br>target=%{customdata[8]}<extra></extra>\",\"legendgroup\":\"HINDUNILVR\",\"marker\":{\"color\":\"#00cc96\",\"size\":[19925.0,17045.0,14675.0],\"sizemode\":\"area\",\"sizeref\":68.034375,\"symbol\":\"circle\"},\"mode\":\"markers\",\"name\":\"HINDUNILVR\",\"orientation\":\"v\",\"showlegend\":true,\"type\":\"scatter\",\"x\":[0.029561723886048212,0.04132943754565375,0.054685902118334545],\"xaxis\":\"x\",\"y\":[0.47956902848794736,0.49128560993425857,0.4994521548575602],\"yaxis\":\"y\"}],                        {\"legend\":{\"itemsizing\":\"constant\",\"title\":{\"text\":\"underlying_name\"},\"tracegroupgap\":0},\"margin\":{\"t\":60},\"template\":{\"data\":{\"bar\":[{\"error_x\":{\"color\":\"#2a3f5f\"},\"error_y\":{\"color\":\"#2a3f5f\"},\"marker\":{\"line\":{\"color\":\"#E5ECF6\",\"width\":0.5},\"pattern\":{\"fillmode\":\"overlay\",\"size\":10,\"solidity\":0.2}},\"type\":\"bar\"}],\"barpolar\":[{\"marker\":{\"line\":{\"color\":\"#E5ECF6\",\"width\":0.5},\"pattern\":{\"fillmode\":\"overlay\",\"size\":10,\"solidity\":0.2}},\"type\":\"barpolar\"}],\"carpet\":[{\"aaxis\":{\"endlinecolor\":\"#2a3f5f\",\"gridcolor\":\"white\",\"linecolor\":\"white\",\"minorgridcolor\":\"white\",\"startlinecolor\":\"#2a3f5f\"},\"baxis\":{\"endlinecolor\":\"#2a3f5f\",\"gridcolor\":\"white\",\"linecolor\":\"white\",\"minorgridcolor\":\"white\",\"startlinecolor\":\"#2a3f5f\"},\"type\":\"carpet\"}],\"choropleth\":[{\"colorbar\":{\"outlinewidth\":0,\"ticks\":\"\"},\"type\":\"choropleth\"}],\"contour\":[{\"colorbar\":{\"outlinewidth\":0,\"ticks\":\"\"},\"colorscale\":[[0.0,\"#0d0887\"],[0.1111111111111111,\"#46039f\"],[0.2222222222222222,\"#7201a8\"],[0.3333333333333333,\"#9c179e\"],[0.4444444444444444,\"#bd3786\"],[0.5555555555555556,\"#d8576b\"],[0.6666666666666666,\"#ed7953\"],[0.7777777777777778,\"#fb9f3a\"],[0.8888888888888888,\"#fdca26\"],[1.0,\"#f0f921\"]],\"type\":\"contour\"}],\"contourcarpet\":[{\"colorbar\":{\"outlinewidth\":0,\"ticks\":\"\"},\"type\":\"contourcarpet\"}],\"heatmap\":[{\"colorbar\":{\"outlinewidth\":0,\"ticks\":\"\"},\"colorscale\":[[0.0,\"#0d0887\"],[0.1111111111111111,\"#46039f\"],[0.2222222222222222,\"#7201a8\"],[0.3333333333333333,\"#9c179e\"],[0.4444444444444444,\"#bd3786\"],[0.5555555555555556,\"#d8576b\"],[0.6666666666666666,\"#ed7953\"],[0.7777777777777778,\"#fb9f3a\"],[0.8888888888888888,\"#fdca26\"],[1.0,\"#f0f921\"]],\"type\":\"heatmap\"}],\"heatmapgl\":[{\"colorbar\":{\"outlinewidth\":0,\"ticks\":\"\"},\"colorscale\":[[0.0,\"#0d0887\"],[0.1111111111111111,\"#46039f\"],[0.2222222222222222,\"#7201a8\"],[0.3333333333333333,\"#9c179e\"],[0.4444444444444444,\"#bd3786\"],[0.5555555555555556,\"#d8576b\"],[0.6666666666666666,\"#ed7953\"],[0.7777777777777778,\"#fb9f3a\"],[0.8888888888888888,\"#fdca26\"],[1.0,\"#f0f921\"]],\"type\":\"heatmapgl\"}],\"histogram\":[{\"marker\":{\"pattern\":{\"fillmode\":\"overlay\",\"size\":10,\"solidity\":0.2}},\"type\":\"histogram\"}],\"histogram2d\":[{\"colorbar\":{\"outlinewidth\":0,\"ticks\":\"\"},\"colorscale\":[[0.0,\"#0d0887\"],[0.1111111111111111,\"#46039f\"],[0.2222222222222222,\"#7201a8\"],[0.3333333333333333,\"#9c179e\"],[0.4444444444444444,\"#bd3786\"],[0.5555555555555556,\"#d8576b\"],[0.6666666666666666,\"#ed7953\"],[0.7777777777777778,\"#fb9f3a\"],[0.8888888888888888,\"#fdca26\"],[1.0,\"#f0f921\"]],\"type\":\"histogram2d\"}],\"histogram2dcontour\":[{\"colorbar\":{\"outlinewidth\":0,\"ticks\":\"\"},\"colorscale\":[[0.0,\"#0d0887\"],[0.1111111111111111,\"#46039f\"],[0.2222222222222222,\"#7201a8\"],[0.3333333333333333,\"#9c179e\"],[0.4444444444444444,\"#bd3786\"],[0.5555555555555556,\"#d8576b\"],[0.6666666666666666,\"#ed7953\"],[0.7777777777777778,\"#fb9f3a\"],[0.8888888888888888,\"#fdca26\"],[1.0,\"#f0f921\"]],\"type\":\"histogram2dcontour\"}],\"mesh3d\":[{\"colorbar\":{\"outlinewidth\":0,\"ticks\":\"\"},\"type\":\"mesh3d\"}],\"parcoords\":[{\"line\":{\"colorbar\":{\"outlinewidth\":0,\"ticks\":\"\"}},\"type\":\"parcoords\"}],\"pie\":[{\"automargin\":true,\"type\":\"pie\"}],\"scatter\":[{\"marker\":{\"colorbar\":{\"outlinewidth\":0,\"ticks\":\"\"}},\"type\":\"scatter\"}],\"scatter3d\":[{\"line\":{\"colorbar\":{\"outlinewidth\":0,\"ticks\":\"\"}},\"marker\":{\"colorbar\":{\"outlinewidth\":0,\"ticks\":\"\"}},\"type\":\"scatter3d\"}],\"scattercarpet\":[{\"marker\":{\"colorbar\":{\"outlinewidth\":0,\"ticks\":\"\"}},\"type\":\"scattercarpet\"}],\"scattergeo\":[{\"marker\":{\"colorbar\":{\"outlinewidth\":0,\"ticks\":\"\"}},\"type\":\"scattergeo\"}],\"scattergl\":[{\"marker\":{\"colorbar\":{\"outlinewidth\":0,\"ticks\":\"\"}},\"type\":\"scattergl\"}],\"scattermapbox\":[{\"marker\":{\"colorbar\":{\"outlinewidth\":0,\"ticks\":\"\"}},\"type\":\"scattermapbox\"}],\"scatterpolar\":[{\"marker\":{\"colorbar\":{\"outlinewidth\":0,\"ticks\":\"\"}},\"type\":\"scatterpolar\"}],\"scatterpolargl\":[{\"marker\":{\"colorbar\":{\"outlinewidth\":0,\"ticks\":\"\"}},\"type\":\"scatterpolargl\"}],\"scatterternary\":[{\"marker\":{\"colorbar\":{\"outlinewidth\":0,\"ticks\":\"\"}},\"type\":\"scatterternary\"}],\"surface\":[{\"colorbar\":{\"outlinewidth\":0,\"ticks\":\"\"},\"colorscale\":[[0.0,\"#0d0887\"],[0.1111111111111111,\"#46039f\"],[0.2222222222222222,\"#7201a8\"],[0.3333333333333333,\"#9c179e\"],[0.4444444444444444,\"#bd3786\"],[0.5555555555555556,\"#d8576b\"],[0.6666666666666666,\"#ed7953\"],[0.7777777777777778,\"#fb9f3a\"],[0.8888888888888888,\"#fdca26\"],[1.0,\"#f0f921\"]],\"type\":\"surface\"}],\"table\":[{\"cells\":{\"fill\":{\"color\":\"#EBF0F8\"},\"line\":{\"color\":\"white\"}},\"header\":{\"fill\":{\"color\":\"#C8D4E3\"},\"line\":{\"color\":\"white\"}},\"type\":\"table\"}]},\"layout\":{\"annotationdefaults\":{\"arrowcolor\":\"#2a3f5f\",\"arrowhead\":0,\"arrowwidth\":1},\"autotypenumbers\":\"strict\",\"coloraxis\":{\"colorbar\":{\"outlinewidth\":0,\"ticks\":\"\"}},\"colorscale\":{\"diverging\":[[0,\"#8e0152\"],[0.1,\"#c51b7d\"],[0.2,\"#de77ae\"],[0.3,\"#f1b6da\"],[0.4,\"#fde0ef\"],[0.5,\"#f7f7f7\"],[0.6,\"#e6f5d0\"],[0.7,\"#b8e186\"],[0.8,\"#7fbc41\"],[0.9,\"#4d9221\"],[1,\"#276419\"]],\"sequential\":[[0.0,\"#0d0887\"],[0.1111111111111111,\"#46039f\"],[0.2222222222222222,\"#7201a8\"],[0.3333333333333333,\"#9c179e\"],[0.4444444444444444,\"#bd3786\"],[0.5555555555555556,\"#d8576b\"],[0.6666666666666666,\"#ed7953\"],[0.7777777777777778,\"#fb9f3a\"],[0.8888888888888888,\"#fdca26\"],[1.0,\"#f0f921\"]],\"sequentialminus\":[[0.0,\"#0d0887\"],[0.1111111111111111,\"#46039f\"],[0.2222222222222222,\"#7201a8\"],[0.3333333333333333,\"#9c179e\"],[0.4444444444444444,\"#bd3786\"],[0.5555555555555556,\"#d8576b\"],[0.6666666666666666,\"#ed7953\"],[0.7777777777777778,\"#fb9f3a\"],[0.8888888888888888,\"#fdca26\"],[1.0,\"#f0f921\"]]},\"colorway\":[\"#636efa\",\"#EF553B\",\"#00cc96\",\"#ab63fa\",\"#FFA15A\",\"#19d3f3\",\"#FF6692\",\"#B6E880\",\"#FF97FF\",\"#FECB52\"],\"font\":{\"color\":\"#2a3f5f\"},\"geo\":{\"bgcolor\":\"white\",\"lakecolor\":\"white\",\"landcolor\":\"#E5ECF6\",\"showlakes\":true,\"showland\":true,\"subunitcolor\":\"white\"},\"hoverlabel\":{\"align\":\"left\"},\"hovermode\":\"closest\",\"mapbox\":{\"style\":\"light\"},\"paper_bgcolor\":\"white\",\"plot_bgcolor\":\"#E5ECF6\",\"polar\":{\"angularaxis\":{\"gridcolor\":\"white\",\"linecolor\":\"white\",\"ticks\":\"\"},\"bgcolor\":\"#E5ECF6\",\"radialaxis\":{\"gridcolor\":\"white\",\"linecolor\":\"white\",\"ticks\":\"\"}},\"scene\":{\"xaxis\":{\"backgroundcolor\":\"#E5ECF6\",\"gridcolor\":\"white\",\"gridwidth\":2,\"linecolor\":\"white\",\"showbackground\":true,\"ticks\":\"\",\"zerolinecolor\":\"white\"},\"yaxis\":{\"backgroundcolor\":\"#E5ECF6\",\"gridcolor\":\"white\",\"gridwidth\":2,\"linecolor\":\"white\",\"showbackground\":true,\"ticks\":\"\",\"zerolinecolor\":\"white\"},\"zaxis\":{\"backgroundcolor\":\"#E5ECF6\",\"gridcolor\":\"white\",\"gridwidth\":2,\"linecolor\":\"white\",\"showbackground\":true,\"ticks\":\"\",\"zerolinecolor\":\"white\"}},\"shapedefaults\":{\"line\":{\"color\":\"#2a3f5f\"}},\"ternary\":{\"aaxis\":{\"gridcolor\":\"white\",\"linecolor\":\"white\",\"ticks\":\"\"},\"baxis\":{\"gridcolor\":\"white\",\"linecolor\":\"white\",\"ticks\":\"\"},\"bgcolor\":\"#E5ECF6\",\"caxis\":{\"gridcolor\":\"white\",\"linecolor\":\"white\",\"ticks\":\"\"}},\"title\":{\"x\":0.05},\"xaxis\":{\"automargin\":true,\"gridcolor\":\"white\",\"linecolor\":\"white\",\"ticks\":\"\",\"title\":{\"standoff\":15},\"zerolinecolor\":\"white\",\"zerolinewidth\":2},\"yaxis\":{\"automargin\":true,\"gridcolor\":\"white\",\"linecolor\":\"white\",\"ticks\":\"\",\"title\":{\"standoff\":15},\"zerolinecolor\":\"white\",\"zerolinewidth\":2}}},\"xaxis\":{\"anchor\":\"y\",\"domain\":[0.0,1.0],\"title\":{\"text\":\"p_not_breakeven_tp\"}},\"yaxis\":{\"anchor\":\"x\",\"domain\":[0.0,1.0],\"title\":{\"text\":\"p_not_breakeven_volatility\"}}},                        {\"responsive\": true}                    ).then(function(){\n",
       "                            \n",
       "var gd = document.getElementById('db4bedd9-842b-4edd-a02a-8484880ffe67');\n",
       "var x = new MutationObserver(function (mutations, observer) {{\n",
       "        var display = window.getComputedStyle(gd).display;\n",
       "        if (!display || display === 'none') {{\n",
       "            console.log([gd, 'removed!']);\n",
       "            Plotly.purge(gd);\n",
       "            observer.disconnect();\n",
       "        }}\n",
       "}});\n",
       "\n",
       "// Listen for the removal of the full notebook cells\n",
       "var notebookContainer = gd.closest('#notebook-container');\n",
       "if (notebookContainer) {{\n",
       "    x.observe(notebookContainer, {childList: true});\n",
       "}}\n",
       "\n",
       "// Listen for the clearing of the current output cell\n",
       "var outputEl = gd.closest('.output');\n",
       "if (outputEl) {{\n",
       "    x.observe(outputEl, {childList: true});\n",
       "}}\n",
       "\n",
       "                        })                };                });            </script>        </div>"
      ]
     },
     "metadata": {},
     "output_type": "display_data"
    }
   ],
   "source": [
    "fig = px.scatter(all_pairs[disp_filter], \n",
    "                 x='p_not_breakeven_tp', y='p_not_breakeven_volatility', \n",
    "                 size='cost', color='underlying_name', \n",
    "                 hover_data=['expiry', 'underlying_value', 'kelly_fraction',\n",
    "                             'ce_strike_price', 'pe_strike_price', 'spread_percent',\n",
    "                             'ce_premium', 'pe_premium', \n",
    "                             'target', 'cost'])\n",
    "\n",
    "fig.show()"
   ]
  },
  {
   "cell_type": "code",
   "execution_count": 120,
   "id": "0d7c9cb7-e672-4acc-948a-15139dc8998c",
   "metadata": {},
   "outputs": [
    {
     "data": {
      "application/vnd.plotly.v1+json": {
       "config": {
        "plotlyServerURL": "https://plot.ly"
       },
       "data": [
        {
         "customdata": [
          [
           "2022-01-20T00:00:00",
           17757.35,
           0.28739225712198696,
           17800,
           17750,
           0.0275725263060085,
           198.95,
           199.1,
           439.615,
           19982.5
          ],
          [
           "2022-01-20T00:00:00",
           17757.35,
           0.2516983199415629,
           17850,
           17750,
           0.02878695300819098,
           173.1,
           199.1,
           411.18000000000006,
           18690
          ],
          [
           "2022-01-27T00:00:00",
           17757.35,
           0.22934623813002203,
           17850,
           17550,
           0.042063145683336765,
           233.1,
           171.6,
           446.93000000000006,
           20315
          ],
          [
           "2022-01-27T00:00:00",
           17757.35,
           0.2546566837107377,
           17850,
           17600,
           0.04020138139981473,
           233.1,
           187,
           463.87,
           21085
          ],
          [
           "2022-01-27T00:00:00",
           17757.35,
           0.1678305332359385,
           17950,
           17600,
           0.042676694439204056,
           182.15,
           187,
           407.82500000000005,
           18537.5
          ],
          [
           "2022-02-03T00:00:00",
           17757.35,
           0.35437910883856827,
           17800,
           17700,
           0.048891585737736776,
           380,
           316.75,
           768.1850000000001,
           34917.5
          ],
          [
           "2022-02-03T00:00:00",
           17757.35,
           0.30116873630387153,
           18000,
           17700,
           0.053396199320281466,
           270.9,
           316.75,
           648.1750000000001,
           29462.5
          ]
         ],
         "hovertemplate": "underlying_name=NIFTY<br>p_not_breakeven_tp=%{x}<br>p_not_breakeven_volatility=%{y}<br>cost=%{customdata[9]}<br>expiry=%{customdata[0]}<br>underlying_value=%{customdata[1]}<br>kelly_fraction=%{customdata[2]}<br>ce_strike_price=%{customdata[3]}<br>pe_strike_price=%{customdata[4]}<br>spread_percent=%{customdata[5]}<br>ce_premium=%{customdata[6]}<br>pe_premium=%{customdata[7]}<br>target=%{customdata[8]}<extra></extra>",
         "legendgroup": "NIFTY",
         "marker": {
          "color": "#636efa",
          "size": [
           19982.5,
           18690,
           20315,
           21085,
           18537.5,
           34917.5,
           29462.5
          ],
          "sizemode": "area",
          "sizeref": 93.446875,
          "symbol": "circle"
         },
         "mode": "markers",
         "name": "NIFTY",
         "orientation": "v",
         "showlegend": true,
         "type": "scatter",
         "x": [
          0.03827611395178962,
          0.04248539079620163,
          0.03674945215485755,
          0.034514243973703444,
          0.043305332359386425,
          0.011539444850255662,
          0.018528122717311902
         ],
         "xaxis": "x",
         "y": [
          0.32984660336011684,
          0.3234477720964208,
          0.4031592403214025,
          0.4002008765522279,
          0.3991161431701972,
          0.5302264426588751,
          0.5135500365230095
         ],
         "yaxis": "y"
        },
        {
         "customdata": [
          [
           "2022-01-20T00:00:00",
           37590.65,
           0.2669192841490139,
           37600,
           37200,
           0.04249474270862568,
           645,
           440.35,
           1197.405,
           27213.75
          ],
          [
           "2022-01-27T00:00:00",
           37590.65,
           0.3383473338203068,
           37600,
           37400,
           0.04791218028951349,
           815.1,
           637.2,
           1601.0500000000002,
           36387.5
          ],
          [
           "2022-01-27T00:00:00",
           37590.65,
           0.30822680788897006,
           37800,
           37400,
           0.050419053674251445,
           718.95,
           637.2,
           1495.285,
           33983.75
          ],
          [
           "2022-01-27T00:00:00",
           37590.65,
           0.2978816654492331,
           37900,
           37400,
           0.051589823533245635,
           668.05,
           637.2,
           1439.295,
           32711.25
          ],
          [
           "2022-01-27T00:00:00",
           37590.65,
           0.3526880934989042,
           37600,
           37500,
           0.046412206226814384,
           815.1,
           676.85,
           1644.6650000000002,
           37378.75
          ],
          [
           "2022-01-27T00:00:00",
           37590.65,
           0.3289262235208182,
           37800,
           37500,
           0.04891907961155234,
           718.95,
           676.85,
           1538.9,
           34975
          ],
          [
           "2022-01-27T00:00:00",
           37590.65,
           0.3168407596785974,
           37900,
           37500,
           0.05008984947054653,
           668.05,
           676.85,
           1482.91,
           33702.5
          ],
          [
           "2022-01-27T00:00:00",
           37590.65,
           0.3002447041636231,
           38000,
           37500,
           0.05135133337678386,
           620.25,
           676.85,
           1430.3300000000002,
           32507.5
          ],
          [
           "2022-01-27T00:00:00",
           37590.65,
           0.2747589481373266,
           38200,
           37500,
           0.05427227249329288,
           538.25,
           676.85,
           1340.13,
           30457.5
          ]
         ],
         "hovertemplate": "underlying_name=BANKNIFTY<br>p_not_breakeven_tp=%{x}<br>p_not_breakeven_volatility=%{y}<br>cost=%{customdata[9]}<br>expiry=%{customdata[0]}<br>underlying_value=%{customdata[1]}<br>kelly_fraction=%{customdata[2]}<br>ce_strike_price=%{customdata[3]}<br>pe_strike_price=%{customdata[4]}<br>spread_percent=%{customdata[5]}<br>ce_premium=%{customdata[6]}<br>pe_premium=%{customdata[7]}<br>target=%{customdata[8]}<extra></extra>",
         "legendgroup": "BANKNIFTY",
         "marker": {
          "color": "#EF553B",
          "size": [
           27213.75,
           36387.5,
           33983.75,
           32711.25,
           37378.75,
           34975,
           33702.5,
           32507.5,
           30457.5
          ],
          "sizemode": "area",
          "sizeref": 93.446875,
          "symbol": "circle"
         },
         "mode": "markers",
         "name": "BANKNIFTY",
         "orientation": "v",
         "showlegend": true,
         "type": "scatter",
         "x": [
          0.029353542731921114,
          0.013184806428049667,
          0.017118334550766993,
          0.018528122717311902,
          0.012397735573411253,
          0.015423666910153396,
          0.017118334550766993,
          0.018690650109569024,
          0.022012417823228627
         ],
         "xaxis": "x",
         "y": [
          0.43954528853177505,
          0.5298046018991965,
          0.52058984660336,
          0.5168371073776479,
          0.5233345507669833,
          0.5168371073776479,
          0.5119758948137327,
          0.5128487947406867,
          0.5051168736303872
         ],
         "yaxis": "y"
        },
        {
         "customdata": [
          [
           "2022-01-27T00:00:00",
           2416.85,
           0.22481373265157056,
           2420,
           2360,
           0.05505444414561654,
           46,
           20.15,
           73.05833333333335,
           19925
          ]
         ],
         "hovertemplate": "underlying_name=HINDUNILVR<br>p_not_breakeven_tp=%{x}<br>p_not_breakeven_volatility=%{y}<br>cost=%{customdata[9]}<br>expiry=%{customdata[0]}<br>underlying_value=%{customdata[1]}<br>kelly_fraction=%{customdata[2]}<br>ce_strike_price=%{customdata[3]}<br>pe_strike_price=%{customdata[4]}<br>spread_percent=%{customdata[5]}<br>ce_premium=%{customdata[6]}<br>pe_premium=%{customdata[7]}<br>target=%{customdata[8]}<extra></extra>",
         "legendgroup": "HINDUNILVR",
         "marker": {
          "color": "#00cc96",
          "size": [
           19925
          ],
          "sizemode": "area",
          "sizeref": 93.446875,
          "symbol": "circle"
         },
         "mode": "markers",
         "name": "HINDUNILVR",
         "orientation": "v",
         "showlegend": true,
         "type": "scatter",
         "x": [
          0.029561723886048212
         ],
         "xaxis": "x",
         "y": [
          0.47956902848794736
         ],
         "yaxis": "y"
        },
        {
         "customdata": [
          [
           "2022-01-27T00:00:00",
           3830,
           0.29790905770635506,
           3840,
           3820,
           0.06242863359442995,
           104,
           94.65,
           219.1016666666667,
           29877.5
          ],
          [
           "2022-01-27T00:00:00",
           3830,
           0.26218407596785986,
           3900,
           3820,
           0.07022497824194954,
           76.6,
           94.65,
           188.96166666666667,
           25767.5
          ],
          [
           "2022-01-27T00:00:00",
           3830,
           0.23612856099342583,
           3920,
           3820,
           0.07362315056570932,
           70.25,
           94.65,
           181.9766666666667,
           24815
          ]
         ],
         "hovertemplate": "underlying_name=TCS<br>p_not_breakeven_tp=%{x}<br>p_not_breakeven_volatility=%{y}<br>cost=%{customdata[9]}<br>expiry=%{customdata[0]}<br>underlying_value=%{customdata[1]}<br>kelly_fraction=%{customdata[2]}<br>ce_strike_price=%{customdata[3]}<br>pe_strike_price=%{customdata[4]}<br>spread_percent=%{customdata[5]}<br>ce_premium=%{customdata[6]}<br>pe_premium=%{customdata[7]}<br>target=%{customdata[8]}<extra></extra>",
         "legendgroup": "TCS",
         "marker": {
          "color": "#ab63fa",
          "size": [
           29877.5,
           25767.5,
           24815
          ],
          "sizemode": "area",
          "sizeref": 93.446875,
          "symbol": "circle"
         },
         "mode": "markers",
         "name": "TCS",
         "orientation": "v",
         "showlegend": true,
         "type": "scatter",
         "x": [
          0.006239956172388599,
          0.010155222790357918,
          0.012397735573411253
         ],
         "xaxis": "x",
         "y": [
          0.6396913805697589,
          0.6362636961285609,
          0.6398940832724617
         ],
         "yaxis": "y"
        },
        {
         "customdata": [
          [
           "2022-01-27T00:00:00",
           3566,
           0.17898466033601176,
           3600,
           3480,
           0.07243596934006356,
           74.35,
           50.85,
           138.30666666666667,
           18860
          ],
          [
           "2022-01-27T00:00:00",
           3566,
           0.28188458728999266,
           3600,
           3540,
           0.06248925032716396,
           74.35,
           73.15,
           162.83666666666667,
           22205
          ],
          [
           "2022-01-27T00:00:00",
           3566,
           0.24888239590942307,
           3620,
           3540,
           0.06546036642363058,
           65.8,
           73.15,
           153.43166666666667,
           20922.5
          ],
          [
           "2022-01-27T00:00:00",
           3566,
           0.21953981008035062,
           3640,
           3540,
           0.06878622172368667,
           58.4,
           73.15,
           145.29166666666669,
           19812.5
          ],
          [
           "2022-01-27T00:00:00",
           3566,
           0.1857103725346969,
           3660,
           3540,
           0.0718807253692279,
           50.25,
           73.15,
           136.32666666666668,
           18590
          ],
          [
           "2022-01-27T00:00:00",
           3566,
           0.3059422936449964,
           3600,
           3560,
           0.060073378201532995,
           74.35,
           83.5,
           174.22166666666666,
           23757.5
          ],
          [
           "2022-01-27T00:00:00",
           3566,
           0.2808436815193571,
           3620,
           3560,
           0.06304449429799963,
           65.8,
           83.5,
           164.8166666666667,
           22475
          ],
          [
           "2022-01-27T00:00:00",
           3566,
           0.2569466764061358,
           3640,
           3560,
           0.06637034959805571,
           58.4,
           83.5,
           156.67666666666668,
           21365
          ],
          [
           "2022-01-27T00:00:00",
           3566,
           0.22766983199415633,
           3660,
           3560,
           0.06946485324359694,
           50.25,
           83.5,
           147.71166666666667,
           20142.5
          ]
         ],
         "hovertemplate": "underlying_name=ASIANPAINT<br>p_not_breakeven_tp=%{x}<br>p_not_breakeven_volatility=%{y}<br>cost=%{customdata[9]}<br>expiry=%{customdata[0]}<br>underlying_value=%{customdata[1]}<br>kelly_fraction=%{customdata[2]}<br>ce_strike_price=%{customdata[3]}<br>pe_strike_price=%{customdata[4]}<br>spread_percent=%{customdata[5]}<br>ce_premium=%{customdata[6]}<br>pe_premium=%{customdata[7]}<br>target=%{customdata[8]}<extra></extra>",
         "legendgroup": "ASIANPAINT",
         "marker": {
          "color": "#FFA15A",
          "size": [
           18860,
           22205,
           20922.5,
           19812.5,
           18590,
           23757.5,
           22475,
           21365,
           20142.5
          ],
          "sizemode": "area",
          "sizeref": 93.446875,
          "symbol": "circle"
         },
         "mode": "markers",
         "name": "ASIANPAINT",
         "orientation": "v",
         "showlegend": true,
         "type": "scatter",
         "x": [
          0.021610664718772824,
          0.012702702702702703,
          0.015573411249086922,
          0.018528122717311902,
          0.022012417823228627,
          0.009762600438276111,
          0.012397735573411253,
          0.014570854638422214,
          0.018040540540540544
         ],
         "xaxis": "x",
         "y": [
          0.60490869247626,
          0.5910883856829803,
          0.5953834915997077,
          0.5951789627465304,
          0.5941654492330168,
          0.5964317019722425,
          0.5951789627465304,
          0.5973447772096421,
          0.5919247626004382
         ],
         "yaxis": "y"
        },
        {
         "customdata": [
          [
           "2022-01-27T00:00:00",
           218.3,
           0.2703305332359387,
           221,
           217,
           0.05724919835089327,
           4.1,
           3.6,
           8.4975,
           24720
          ],
          [
           "2022-01-27T00:00:00",
           218.3,
           0.24267713659605558,
           222,
           217,
           0.05981447549244159,
           3.7,
           3.6,
           8.057500000000001,
           23440
          ]
         ],
         "hovertemplate": "underlying_name=ITC<br>p_not_breakeven_tp=%{x}<br>p_not_breakeven_volatility=%{y}<br>cost=%{customdata[9]}<br>expiry=%{customdata[0]}<br>underlying_value=%{customdata[1]}<br>kelly_fraction=%{customdata[2]}<br>ce_strike_price=%{customdata[3]}<br>pe_strike_price=%{customdata[4]}<br>spread_percent=%{customdata[5]}<br>ce_premium=%{customdata[6]}<br>pe_premium=%{customdata[7]}<br>target=%{customdata[8]}<extra></extra>",
         "legendgroup": "ITC",
         "marker": {
          "color": "#19d3f3",
          "size": [
           24720,
           23440
          ],
          "sizemode": "area",
          "sizeref": 93.446875,
          "symbol": "circle"
         },
         "mode": "markers",
         "name": "ITC",
         "orientation": "v",
         "showlegend": true,
         "type": "scatter",
         "x": [
          0.018528122717311902,
          0.021610664718772824
         ],
         "xaxis": "x",
         "y": [
          0.5443882395909423,
          0.5412162162162162
         ],
         "yaxis": "y"
        },
        {
         "customdata": [
          [
           "2022-01-27T00:00:00",
           918,
           0.25548758217677137,
           930,
           910,
           0.06944486341545165,
           21.15,
           18.5,
           43.75038461538462,
           25852.5
          ]
         ],
         "hovertemplate": "underlying_name=CIPLA<br>p_not_breakeven_tp=%{x}<br>p_not_breakeven_volatility=%{y}<br>cost=%{customdata[9]}<br>expiry=%{customdata[0]}<br>underlying_value=%{customdata[1]}<br>kelly_fraction=%{customdata[2]}<br>ce_strike_price=%{customdata[3]}<br>pe_strike_price=%{customdata[4]}<br>spread_percent=%{customdata[5]}<br>ce_premium=%{customdata[6]}<br>pe_premium=%{customdata[7]}<br>target=%{customdata[8]}<extra></extra>",
         "legendgroup": "CIPLA",
         "marker": {
          "color": "#FF6692",
          "size": [
           25852.5
          ],
          "sizemode": "area",
          "sizeref": 93.446875,
          "symbol": "circle"
         },
         "mode": "markers",
         "name": "CIPLA",
         "orientation": "v",
         "showlegend": true,
         "type": "scatter",
         "x": [
          0.011539444850255662
         ],
         "xaxis": "x",
         "y": [
          0.629117969320672
         ],
         "yaxis": "y"
        }
       ],
       "layout": {
        "autosize": true,
        "legend": {
         "itemsizing": "constant",
         "title": {
          "text": "underlying_name"
         },
         "tracegroupgap": 0
        },
        "margin": {
         "t": 60
        },
        "template": {
         "data": {
          "bar": [
           {
            "error_x": {
             "color": "#2a3f5f"
            },
            "error_y": {
             "color": "#2a3f5f"
            },
            "marker": {
             "line": {
              "color": "#E5ECF6",
              "width": 0.5
             },
             "pattern": {
              "fillmode": "overlay",
              "size": 10,
              "solidity": 0.2
             }
            },
            "type": "bar"
           }
          ],
          "barpolar": [
           {
            "marker": {
             "line": {
              "color": "#E5ECF6",
              "width": 0.5
             },
             "pattern": {
              "fillmode": "overlay",
              "size": 10,
              "solidity": 0.2
             }
            },
            "type": "barpolar"
           }
          ],
          "carpet": [
           {
            "aaxis": {
             "endlinecolor": "#2a3f5f",
             "gridcolor": "white",
             "linecolor": "white",
             "minorgridcolor": "white",
             "startlinecolor": "#2a3f5f"
            },
            "baxis": {
             "endlinecolor": "#2a3f5f",
             "gridcolor": "white",
             "linecolor": "white",
             "minorgridcolor": "white",
             "startlinecolor": "#2a3f5f"
            },
            "type": "carpet"
           }
          ],
          "choropleth": [
           {
            "colorbar": {
             "outlinewidth": 0,
             "ticks": ""
            },
            "type": "choropleth"
           }
          ],
          "contour": [
           {
            "colorbar": {
             "outlinewidth": 0,
             "ticks": ""
            },
            "colorscale": [
             [
              0,
              "#0d0887"
             ],
             [
              0.1111111111111111,
              "#46039f"
             ],
             [
              0.2222222222222222,
              "#7201a8"
             ],
             [
              0.3333333333333333,
              "#9c179e"
             ],
             [
              0.4444444444444444,
              "#bd3786"
             ],
             [
              0.5555555555555556,
              "#d8576b"
             ],
             [
              0.6666666666666666,
              "#ed7953"
             ],
             [
              0.7777777777777778,
              "#fb9f3a"
             ],
             [
              0.8888888888888888,
              "#fdca26"
             ],
             [
              1,
              "#f0f921"
             ]
            ],
            "type": "contour"
           }
          ],
          "contourcarpet": [
           {
            "colorbar": {
             "outlinewidth": 0,
             "ticks": ""
            },
            "type": "contourcarpet"
           }
          ],
          "heatmap": [
           {
            "colorbar": {
             "outlinewidth": 0,
             "ticks": ""
            },
            "colorscale": [
             [
              0,
              "#0d0887"
             ],
             [
              0.1111111111111111,
              "#46039f"
             ],
             [
              0.2222222222222222,
              "#7201a8"
             ],
             [
              0.3333333333333333,
              "#9c179e"
             ],
             [
              0.4444444444444444,
              "#bd3786"
             ],
             [
              0.5555555555555556,
              "#d8576b"
             ],
             [
              0.6666666666666666,
              "#ed7953"
             ],
             [
              0.7777777777777778,
              "#fb9f3a"
             ],
             [
              0.8888888888888888,
              "#fdca26"
             ],
             [
              1,
              "#f0f921"
             ]
            ],
            "type": "heatmap"
           }
          ],
          "heatmapgl": [
           {
            "colorbar": {
             "outlinewidth": 0,
             "ticks": ""
            },
            "colorscale": [
             [
              0,
              "#0d0887"
             ],
             [
              0.1111111111111111,
              "#46039f"
             ],
             [
              0.2222222222222222,
              "#7201a8"
             ],
             [
              0.3333333333333333,
              "#9c179e"
             ],
             [
              0.4444444444444444,
              "#bd3786"
             ],
             [
              0.5555555555555556,
              "#d8576b"
             ],
             [
              0.6666666666666666,
              "#ed7953"
             ],
             [
              0.7777777777777778,
              "#fb9f3a"
             ],
             [
              0.8888888888888888,
              "#fdca26"
             ],
             [
              1,
              "#f0f921"
             ]
            ],
            "type": "heatmapgl"
           }
          ],
          "histogram": [
           {
            "marker": {
             "pattern": {
              "fillmode": "overlay",
              "size": 10,
              "solidity": 0.2
             }
            },
            "type": "histogram"
           }
          ],
          "histogram2d": [
           {
            "colorbar": {
             "outlinewidth": 0,
             "ticks": ""
            },
            "colorscale": [
             [
              0,
              "#0d0887"
             ],
             [
              0.1111111111111111,
              "#46039f"
             ],
             [
              0.2222222222222222,
              "#7201a8"
             ],
             [
              0.3333333333333333,
              "#9c179e"
             ],
             [
              0.4444444444444444,
              "#bd3786"
             ],
             [
              0.5555555555555556,
              "#d8576b"
             ],
             [
              0.6666666666666666,
              "#ed7953"
             ],
             [
              0.7777777777777778,
              "#fb9f3a"
             ],
             [
              0.8888888888888888,
              "#fdca26"
             ],
             [
              1,
              "#f0f921"
             ]
            ],
            "type": "histogram2d"
           }
          ],
          "histogram2dcontour": [
           {
            "colorbar": {
             "outlinewidth": 0,
             "ticks": ""
            },
            "colorscale": [
             [
              0,
              "#0d0887"
             ],
             [
              0.1111111111111111,
              "#46039f"
             ],
             [
              0.2222222222222222,
              "#7201a8"
             ],
             [
              0.3333333333333333,
              "#9c179e"
             ],
             [
              0.4444444444444444,
              "#bd3786"
             ],
             [
              0.5555555555555556,
              "#d8576b"
             ],
             [
              0.6666666666666666,
              "#ed7953"
             ],
             [
              0.7777777777777778,
              "#fb9f3a"
             ],
             [
              0.8888888888888888,
              "#fdca26"
             ],
             [
              1,
              "#f0f921"
             ]
            ],
            "type": "histogram2dcontour"
           }
          ],
          "mesh3d": [
           {
            "colorbar": {
             "outlinewidth": 0,
             "ticks": ""
            },
            "type": "mesh3d"
           }
          ],
          "parcoords": [
           {
            "line": {
             "colorbar": {
              "outlinewidth": 0,
              "ticks": ""
             }
            },
            "type": "parcoords"
           }
          ],
          "pie": [
           {
            "automargin": true,
            "type": "pie"
           }
          ],
          "scatter": [
           {
            "marker": {
             "colorbar": {
              "outlinewidth": 0,
              "ticks": ""
             }
            },
            "type": "scatter"
           }
          ],
          "scatter3d": [
           {
            "line": {
             "colorbar": {
              "outlinewidth": 0,
              "ticks": ""
             }
            },
            "marker": {
             "colorbar": {
              "outlinewidth": 0,
              "ticks": ""
             }
            },
            "type": "scatter3d"
           }
          ],
          "scattercarpet": [
           {
            "marker": {
             "colorbar": {
              "outlinewidth": 0,
              "ticks": ""
             }
            },
            "type": "scattercarpet"
           }
          ],
          "scattergeo": [
           {
            "marker": {
             "colorbar": {
              "outlinewidth": 0,
              "ticks": ""
             }
            },
            "type": "scattergeo"
           }
          ],
          "scattergl": [
           {
            "marker": {
             "colorbar": {
              "outlinewidth": 0,
              "ticks": ""
             }
            },
            "type": "scattergl"
           }
          ],
          "scattermapbox": [
           {
            "marker": {
             "colorbar": {
              "outlinewidth": 0,
              "ticks": ""
             }
            },
            "type": "scattermapbox"
           }
          ],
          "scatterpolar": [
           {
            "marker": {
             "colorbar": {
              "outlinewidth": 0,
              "ticks": ""
             }
            },
            "type": "scatterpolar"
           }
          ],
          "scatterpolargl": [
           {
            "marker": {
             "colorbar": {
              "outlinewidth": 0,
              "ticks": ""
             }
            },
            "type": "scatterpolargl"
           }
          ],
          "scatterternary": [
           {
            "marker": {
             "colorbar": {
              "outlinewidth": 0,
              "ticks": ""
             }
            },
            "type": "scatterternary"
           }
          ],
          "surface": [
           {
            "colorbar": {
             "outlinewidth": 0,
             "ticks": ""
            },
            "colorscale": [
             [
              0,
              "#0d0887"
             ],
             [
              0.1111111111111111,
              "#46039f"
             ],
             [
              0.2222222222222222,
              "#7201a8"
             ],
             [
              0.3333333333333333,
              "#9c179e"
             ],
             [
              0.4444444444444444,
              "#bd3786"
             ],
             [
              0.5555555555555556,
              "#d8576b"
             ],
             [
              0.6666666666666666,
              "#ed7953"
             ],
             [
              0.7777777777777778,
              "#fb9f3a"
             ],
             [
              0.8888888888888888,
              "#fdca26"
             ],
             [
              1,
              "#f0f921"
             ]
            ],
            "type": "surface"
           }
          ],
          "table": [
           {
            "cells": {
             "fill": {
              "color": "#EBF0F8"
             },
             "line": {
              "color": "white"
             }
            },
            "header": {
             "fill": {
              "color": "#C8D4E3"
             },
             "line": {
              "color": "white"
             }
            },
            "type": "table"
           }
          ]
         },
         "layout": {
          "annotationdefaults": {
           "arrowcolor": "#2a3f5f",
           "arrowhead": 0,
           "arrowwidth": 1
          },
          "autotypenumbers": "strict",
          "coloraxis": {
           "colorbar": {
            "outlinewidth": 0,
            "ticks": ""
           }
          },
          "colorscale": {
           "diverging": [
            [
             0,
             "#8e0152"
            ],
            [
             0.1,
             "#c51b7d"
            ],
            [
             0.2,
             "#de77ae"
            ],
            [
             0.3,
             "#f1b6da"
            ],
            [
             0.4,
             "#fde0ef"
            ],
            [
             0.5,
             "#f7f7f7"
            ],
            [
             0.6,
             "#e6f5d0"
            ],
            [
             0.7,
             "#b8e186"
            ],
            [
             0.8,
             "#7fbc41"
            ],
            [
             0.9,
             "#4d9221"
            ],
            [
             1,
             "#276419"
            ]
           ],
           "sequential": [
            [
             0,
             "#0d0887"
            ],
            [
             0.1111111111111111,
             "#46039f"
            ],
            [
             0.2222222222222222,
             "#7201a8"
            ],
            [
             0.3333333333333333,
             "#9c179e"
            ],
            [
             0.4444444444444444,
             "#bd3786"
            ],
            [
             0.5555555555555556,
             "#d8576b"
            ],
            [
             0.6666666666666666,
             "#ed7953"
            ],
            [
             0.7777777777777778,
             "#fb9f3a"
            ],
            [
             0.8888888888888888,
             "#fdca26"
            ],
            [
             1,
             "#f0f921"
            ]
           ],
           "sequentialminus": [
            [
             0,
             "#0d0887"
            ],
            [
             0.1111111111111111,
             "#46039f"
            ],
            [
             0.2222222222222222,
             "#7201a8"
            ],
            [
             0.3333333333333333,
             "#9c179e"
            ],
            [
             0.4444444444444444,
             "#bd3786"
            ],
            [
             0.5555555555555556,
             "#d8576b"
            ],
            [
             0.6666666666666666,
             "#ed7953"
            ],
            [
             0.7777777777777778,
             "#fb9f3a"
            ],
            [
             0.8888888888888888,
             "#fdca26"
            ],
            [
             1,
             "#f0f921"
            ]
           ]
          },
          "colorway": [
           "#636efa",
           "#EF553B",
           "#00cc96",
           "#ab63fa",
           "#FFA15A",
           "#19d3f3",
           "#FF6692",
           "#B6E880",
           "#FF97FF",
           "#FECB52"
          ],
          "font": {
           "color": "#2a3f5f"
          },
          "geo": {
           "bgcolor": "white",
           "lakecolor": "white",
           "landcolor": "#E5ECF6",
           "showlakes": true,
           "showland": true,
           "subunitcolor": "white"
          },
          "hoverlabel": {
           "align": "left"
          },
          "hovermode": "closest",
          "mapbox": {
           "style": "light"
          },
          "paper_bgcolor": "white",
          "plot_bgcolor": "#E5ECF6",
          "polar": {
           "angularaxis": {
            "gridcolor": "white",
            "linecolor": "white",
            "ticks": ""
           },
           "bgcolor": "#E5ECF6",
           "radialaxis": {
            "gridcolor": "white",
            "linecolor": "white",
            "ticks": ""
           }
          },
          "scene": {
           "xaxis": {
            "backgroundcolor": "#E5ECF6",
            "gridcolor": "white",
            "gridwidth": 2,
            "linecolor": "white",
            "showbackground": true,
            "ticks": "",
            "zerolinecolor": "white"
           },
           "yaxis": {
            "backgroundcolor": "#E5ECF6",
            "gridcolor": "white",
            "gridwidth": 2,
            "linecolor": "white",
            "showbackground": true,
            "ticks": "",
            "zerolinecolor": "white"
           },
           "zaxis": {
            "backgroundcolor": "#E5ECF6",
            "gridcolor": "white",
            "gridwidth": 2,
            "linecolor": "white",
            "showbackground": true,
            "ticks": "",
            "zerolinecolor": "white"
           }
          },
          "shapedefaults": {
           "line": {
            "color": "#2a3f5f"
           }
          },
          "ternary": {
           "aaxis": {
            "gridcolor": "white",
            "linecolor": "white",
            "ticks": ""
           },
           "baxis": {
            "gridcolor": "white",
            "linecolor": "white",
            "ticks": ""
           },
           "bgcolor": "#E5ECF6",
           "caxis": {
            "gridcolor": "white",
            "linecolor": "white",
            "ticks": ""
           }
          },
          "title": {
           "x": 0.05
          },
          "xaxis": {
           "automargin": true,
           "gridcolor": "white",
           "linecolor": "white",
           "ticks": "",
           "title": {
            "standoff": 15
           },
           "zerolinecolor": "white",
           "zerolinewidth": 2
          },
          "yaxis": {
           "automargin": true,
           "gridcolor": "white",
           "linecolor": "white",
           "ticks": "",
           "title": {
            "standoff": 15
           },
           "zerolinecolor": "white",
           "zerolinewidth": 2
          }
         }
        },
        "xaxis": {
         "anchor": "y",
         "autorange": true,
         "domain": [
          0,
          1
         ],
         "range": [
          0.0036469575952649365,
          0.045795234791637045
         ],
         "title": {
          "text": "p_not_breakeven_tp"
         },
         "type": "linear"
        },
        "yaxis": {
         "anchor": "x",
         "autorange": true,
         "domain": [
          0,
          1
         ],
         "range": [
          0.2828274744171678,
          0.6857243739442185
         ],
         "title": {
          "text": "p_not_breakeven_volatility"
         },
         "type": "linear"
        }
       }
      },
      "image/png": "[encoded data removed]",
      "text/html": [
       "<div>                            <div id=\"ff810026-afb5-4998-ad41-6113a4269ee3\" class=\"plotly-graph-div\" style=\"height:525px; width:100%;\"></div>            <script type=\"text/javascript\">                require([\"plotly\"], function(Plotly) {                    window.PLOTLYENV=window.PLOTLYENV || {};                                    if (document.getElementById(\"ff810026-afb5-4998-ad41-6113a4269ee3\")) {                    Plotly.newPlot(                        \"ff810026-afb5-4998-ad41-6113a4269ee3\",                        [{\"customdata\":[[\"2022-01-20T00:00:00\",17757.35,0.28739225712198696,17800.0,17750.0,0.0275725263060085,198.95,199.1,439.615,19982.5],[\"2022-01-20T00:00:00\",17757.35,0.2516983199415629,17850.0,17750.0,0.02878695300819098,173.1,199.1,411.18000000000006,18690.0],[\"2022-01-27T00:00:00\",17757.35,0.22934623813002203,17850.0,17550.0,0.042063145683336765,233.1,171.6,446.93000000000006,20315.0],[\"2022-01-27T00:00:00\",17757.35,0.2546566837107377,17850.0,17600.0,0.04020138139981473,233.1,187.0,463.87,21085.0],[\"2022-01-27T00:00:00\",17757.35,0.1678305332359385,17950.0,17600.0,0.042676694439204056,182.15,187.0,407.82500000000005,18537.5],[\"2022-02-03T00:00:00\",17757.35,0.35437910883856827,17800.0,17700.0,0.048891585737736776,380.0,316.75,768.1850000000001,34917.5],[\"2022-02-03T00:00:00\",17757.35,0.30116873630387153,18000.0,17700.0,0.053396199320281466,270.9,316.75,648.1750000000001,29462.5]],\"hovertemplate\":\"underlying_name=NIFTY<br>p_not_breakeven_tp=%{x}<br>p_not_breakeven_volatility=%{y}<br>cost=%{customdata[9]}<br>expiry=%{customdata[0]}<br>underlying_value=%{customdata[1]}<br>kelly_fraction=%{customdata[2]}<br>ce_strike_price=%{customdata[3]}<br>pe_strike_price=%{customdata[4]}<br>spread_percent=%{customdata[5]}<br>ce_premium=%{customdata[6]}<br>pe_premium=%{customdata[7]}<br>target=%{customdata[8]}<extra></extra>\",\"legendgroup\":\"NIFTY\",\"marker\":{\"color\":\"#636efa\",\"size\":[19982.5,18690.0,20315.0,21085.0,18537.5,34917.5,29462.5],\"sizemode\":\"area\",\"sizeref\":93.446875,\"symbol\":\"circle\"},\"mode\":\"markers\",\"name\":\"NIFTY\",\"orientation\":\"v\",\"showlegend\":true,\"type\":\"scatter\",\"x\":[0.03827611395178962,0.04248539079620163,0.03674945215485755,0.034514243973703444,0.043305332359386425,0.011539444850255662,0.018528122717311902],\"xaxis\":\"x\",\"y\":[0.32984660336011684,0.3234477720964208,0.4031592403214025,0.4002008765522279,0.3991161431701972,0.5302264426588751,0.5135500365230095],\"yaxis\":\"y\"},{\"customdata\":[[\"2022-01-20T00:00:00\",37590.65,0.2669192841490139,37600.0,37200.0,0.04249474270862568,645.0,440.35,1197.405,27213.75],[\"2022-01-27T00:00:00\",37590.65,0.3383473338203068,37600.0,37400.0,0.04791218028951349,815.1,637.2,1601.0500000000002,36387.5],[\"2022-01-27T00:00:00\",37590.65,0.30822680788897006,37800.0,37400.0,0.050419053674251445,718.95,637.2,1495.285,33983.75],[\"2022-01-27T00:00:00\",37590.65,0.2978816654492331,37900.0,37400.0,0.051589823533245635,668.05,637.2,1439.295,32711.25],[\"2022-01-27T00:00:00\",37590.65,0.3526880934989042,37600.0,37500.0,0.046412206226814384,815.1,676.85,1644.6650000000002,37378.75],[\"2022-01-27T00:00:00\",37590.65,0.3289262235208182,37800.0,37500.0,0.04891907961155234,718.95,676.85,1538.9,34975.0],[\"2022-01-27T00:00:00\",37590.65,0.3168407596785974,37900.0,37500.0,0.05008984947054653,668.05,676.85,1482.91,33702.5],[\"2022-01-27T00:00:00\",37590.65,0.3002447041636231,38000.0,37500.0,0.05135133337678386,620.25,676.85,1430.3300000000002,32507.5],[\"2022-01-27T00:00:00\",37590.65,0.2747589481373266,38200.0,37500.0,0.05427227249329288,538.25,676.85,1340.13,30457.5]],\"hovertemplate\":\"underlying_name=BANKNIFTY<br>p_not_breakeven_tp=%{x}<br>p_not_breakeven_volatility=%{y}<br>cost=%{customdata[9]}<br>expiry=%{customdata[0]}<br>underlying_value=%{customdata[1]}<br>kelly_fraction=%{customdata[2]}<br>ce_strike_price=%{customdata[3]}<br>pe_strike_price=%{customdata[4]}<br>spread_percent=%{customdata[5]}<br>ce_premium=%{customdata[6]}<br>pe_premium=%{customdata[7]}<br>target=%{customdata[8]}<extra></extra>\",\"legendgroup\":\"BANKNIFTY\",\"marker\":{\"color\":\"#EF553B\",\"size\":[27213.75,36387.5,33983.75,32711.25,37378.75,34975.0,33702.5,32507.5,30457.5],\"sizemode\":\"area\",\"sizeref\":93.446875,\"symbol\":\"circle\"},\"mode\":\"markers\",\"name\":\"BANKNIFTY\",\"orientation\":\"v\",\"showlegend\":true,\"type\":\"scatter\",\"x\":[0.029353542731921114,0.013184806428049667,0.017118334550766993,0.018528122717311902,0.012397735573411253,0.015423666910153396,0.017118334550766993,0.018690650109569024,0.022012417823228627],\"xaxis\":\"x\",\"y\":[0.43954528853177505,0.5298046018991965,0.52058984660336,0.5168371073776479,0.5233345507669833,0.5168371073776479,0.5119758948137327,0.5128487947406867,0.5051168736303872],\"yaxis\":\"y\"},{\"customdata\":[[\"2022-01-27T00:00:00\",2416.85,0.22481373265157056,2420.0,2360.0,0.05505444414561654,46.0,20.15,73.05833333333335,19925.0]],\"hovertemplate\":\"underlying_name=HINDUNILVR<br>p_not_breakeven_tp=%{x}<br>p_not_breakeven_volatility=%{y}<br>cost=%{customdata[9]}<br>expiry=%{customdata[0]}<br>underlying_value=%{customdata[1]}<br>kelly_fraction=%{customdata[2]}<br>ce_strike_price=%{customdata[3]}<br>pe_strike_price=%{customdata[4]}<br>spread_percent=%{customdata[5]}<br>ce_premium=%{customdata[6]}<br>pe_premium=%{customdata[7]}<br>target=%{customdata[8]}<extra></extra>\",\"legendgroup\":\"HINDUNILVR\",\"marker\":{\"color\":\"#00cc96\",\"size\":[19925.0],\"sizemode\":\"area\",\"sizeref\":93.446875,\"symbol\":\"circle\"},\"mode\":\"markers\",\"name\":\"HINDUNILVR\",\"orientation\":\"v\",\"showlegend\":true,\"type\":\"scatter\",\"x\":[0.029561723886048212],\"xaxis\":\"x\",\"y\":[0.47956902848794736],\"yaxis\":\"y\"},{\"customdata\":[[\"2022-01-27T00:00:00\",3830.0,0.29790905770635506,3840.0,3820.0,0.06242863359442995,104.0,94.65,219.1016666666667,29877.5],[\"2022-01-27T00:00:00\",3830.0,0.26218407596785986,3900.0,3820.0,0.07022497824194954,76.6,94.65,188.96166666666667,25767.5],[\"2022-01-27T00:00:00\",3830.0,0.23612856099342583,3920.0,3820.0,0.07362315056570932,70.25,94.65,181.9766666666667,24815.0]],\"hovertemplate\":\"underlying_name=TCS<br>p_not_breakeven_tp=%{x}<br>p_not_breakeven_volatility=%{y}<br>cost=%{customdata[9]}<br>expiry=%{customdata[0]}<br>underlying_value=%{customdata[1]}<br>kelly_fraction=%{customdata[2]}<br>ce_strike_price=%{customdata[3]}<br>pe_strike_price=%{customdata[4]}<br>spread_percent=%{customdata[5]}<br>ce_premium=%{customdata[6]}<br>pe_premium=%{customdata[7]}<br>target=%{customdata[8]}<extra></extra>\",\"legendgroup\":\"TCS\",\"marker\":{\"color\":\"#ab63fa\",\"size\":[29877.5,25767.5,24815.0],\"sizemode\":\"area\",\"sizeref\":93.446875,\"symbol\":\"circle\"},\"mode\":\"markers\",\"name\":\"TCS\",\"orientation\":\"v\",\"showlegend\":true,\"type\":\"scatter\",\"x\":[0.006239956172388599,0.010155222790357918,0.012397735573411253],\"xaxis\":\"x\",\"y\":[0.6396913805697589,0.6362636961285609,0.6398940832724617],\"yaxis\":\"y\"},{\"customdata\":[[\"2022-01-27T00:00:00\",3566.0,0.17898466033601176,3600.0,3480.0,0.07243596934006356,74.35,50.85,138.30666666666667,18860.0],[\"2022-01-27T00:00:00\",3566.0,0.28188458728999266,3600.0,3540.0,0.06248925032716396,74.35,73.15,162.83666666666667,22205.0],[\"2022-01-27T00:00:00\",3566.0,0.24888239590942307,3620.0,3540.0,0.06546036642363058,65.8,73.15,153.43166666666667,20922.5],[\"2022-01-27T00:00:00\",3566.0,0.21953981008035062,3640.0,3540.0,0.06878622172368667,58.4,73.15,145.29166666666669,19812.5],[\"2022-01-27T00:00:00\",3566.0,0.1857103725346969,3660.0,3540.0,0.0718807253692279,50.25,73.15,136.32666666666668,18590.0],[\"2022-01-27T00:00:00\",3566.0,0.3059422936449964,3600.0,3560.0,0.060073378201532995,74.35,83.5,174.22166666666666,23757.5],[\"2022-01-27T00:00:00\",3566.0,0.2808436815193571,3620.0,3560.0,0.06304449429799963,65.8,83.5,164.8166666666667,22475.0],[\"2022-01-27T00:00:00\",3566.0,0.2569466764061358,3640.0,3560.0,0.06637034959805571,58.4,83.5,156.67666666666668,21365.0],[\"2022-01-27T00:00:00\",3566.0,0.22766983199415633,3660.0,3560.0,0.06946485324359694,50.25,83.5,147.71166666666667,20142.5]],\"hovertemplate\":\"underlying_name=ASIANPAINT<br>p_not_breakeven_tp=%{x}<br>p_not_breakeven_volatility=%{y}<br>cost=%{customdata[9]}<br>expiry=%{customdata[0]}<br>underlying_value=%{customdata[1]}<br>kelly_fraction=%{customdata[2]}<br>ce_strike_price=%{customdata[3]}<br>pe_strike_price=%{customdata[4]}<br>spread_percent=%{customdata[5]}<br>ce_premium=%{customdata[6]}<br>pe_premium=%{customdata[7]}<br>target=%{customdata[8]}<extra></extra>\",\"legendgroup\":\"ASIANPAINT\",\"marker\":{\"color\":\"#FFA15A\",\"size\":[18860.0,22205.0,20922.5,19812.5,18590.0,23757.5,22475.0,21365.0,20142.5],\"sizemode\":\"area\",\"sizeref\":93.446875,\"symbol\":\"circle\"},\"mode\":\"markers\",\"name\":\"ASIANPAINT\",\"orientation\":\"v\",\"showlegend\":true,\"type\":\"scatter\",\"x\":[0.021610664718772824,0.012702702702702703,0.015573411249086922,0.018528122717311902,0.022012417823228627,0.009762600438276111,0.012397735573411253,0.014570854638422214,0.018040540540540544],\"xaxis\":\"x\",\"y\":[0.60490869247626,0.5910883856829803,0.5953834915997077,0.5951789627465304,0.5941654492330168,0.5964317019722425,0.5951789627465304,0.5973447772096421,0.5919247626004382],\"yaxis\":\"y\"},{\"customdata\":[[\"2022-01-27T00:00:00\",218.3,0.2703305332359387,221.0,217.0,0.05724919835089327,4.1,3.6,8.4975,24720.0],[\"2022-01-27T00:00:00\",218.3,0.24267713659605558,222.0,217.0,0.05981447549244159,3.7,3.6,8.057500000000001,23440.0]],\"hovertemplate\":\"underlying_name=ITC<br>p_not_breakeven_tp=%{x}<br>p_not_breakeven_volatility=%{y}<br>cost=%{customdata[9]}<br>expiry=%{customdata[0]}<br>underlying_value=%{customdata[1]}<br>kelly_fraction=%{customdata[2]}<br>ce_strike_price=%{customdata[3]}<br>pe_strike_price=%{customdata[4]}<br>spread_percent=%{customdata[5]}<br>ce_premium=%{customdata[6]}<br>pe_premium=%{customdata[7]}<br>target=%{customdata[8]}<extra></extra>\",\"legendgroup\":\"ITC\",\"marker\":{\"color\":\"#19d3f3\",\"size\":[24720.0,23440.0],\"sizemode\":\"area\",\"sizeref\":93.446875,\"symbol\":\"circle\"},\"mode\":\"markers\",\"name\":\"ITC\",\"orientation\":\"v\",\"showlegend\":true,\"type\":\"scatter\",\"x\":[0.018528122717311902,0.021610664718772824],\"xaxis\":\"x\",\"y\":[0.5443882395909423,0.5412162162162162],\"yaxis\":\"y\"},{\"customdata\":[[\"2022-01-27T00:00:00\",918.0,0.25548758217677137,930.0,910.0,0.06944486341545165,21.15,18.5,43.75038461538462,25852.5]],\"hovertemplate\":\"underlying_name=CIPLA<br>p_not_breakeven_tp=%{x}<br>p_not_breakeven_volatility=%{y}<br>cost=%{customdata[9]}<br>expiry=%{customdata[0]}<br>underlying_value=%{customdata[1]}<br>kelly_fraction=%{customdata[2]}<br>ce_strike_price=%{customdata[3]}<br>pe_strike_price=%{customdata[4]}<br>spread_percent=%{customdata[5]}<br>ce_premium=%{customdata[6]}<br>pe_premium=%{customdata[7]}<br>target=%{customdata[8]}<extra></extra>\",\"legendgroup\":\"CIPLA\",\"marker\":{\"color\":\"#FF6692\",\"size\":[25852.5],\"sizemode\":\"area\",\"sizeref\":93.446875,\"symbol\":\"circle\"},\"mode\":\"markers\",\"name\":\"CIPLA\",\"orientation\":\"v\",\"showlegend\":true,\"type\":\"scatter\",\"x\":[0.011539444850255662],\"xaxis\":\"x\",\"y\":[0.629117969320672],\"yaxis\":\"y\"}],                        {\"legend\":{\"itemsizing\":\"constant\",\"title\":{\"text\":\"underlying_name\"},\"tracegroupgap\":0},\"margin\":{\"t\":60},\"template\":{\"data\":{\"bar\":[{\"error_x\":{\"color\":\"#2a3f5f\"},\"error_y\":{\"color\":\"#2a3f5f\"},\"marker\":{\"line\":{\"color\":\"#E5ECF6\",\"width\":0.5},\"pattern\":{\"fillmode\":\"overlay\",\"size\":10,\"solidity\":0.2}},\"type\":\"bar\"}],\"barpolar\":[{\"marker\":{\"line\":{\"color\":\"#E5ECF6\",\"width\":0.5},\"pattern\":{\"fillmode\":\"overlay\",\"size\":10,\"solidity\":0.2}},\"type\":\"barpolar\"}],\"carpet\":[{\"aaxis\":{\"endlinecolor\":\"#2a3f5f\",\"gridcolor\":\"white\",\"linecolor\":\"white\",\"minorgridcolor\":\"white\",\"startlinecolor\":\"#2a3f5f\"},\"baxis\":{\"endlinecolor\":\"#2a3f5f\",\"gridcolor\":\"white\",\"linecolor\":\"white\",\"minorgridcolor\":\"white\",\"startlinecolor\":\"#2a3f5f\"},\"type\":\"carpet\"}],\"choropleth\":[{\"colorbar\":{\"outlinewidth\":0,\"ticks\":\"\"},\"type\":\"choropleth\"}],\"contour\":[{\"colorbar\":{\"outlinewidth\":0,\"ticks\":\"\"},\"colorscale\":[[0.0,\"#0d0887\"],[0.1111111111111111,\"#46039f\"],[0.2222222222222222,\"#7201a8\"],[0.3333333333333333,\"#9c179e\"],[0.4444444444444444,\"#bd3786\"],[0.5555555555555556,\"#d8576b\"],[0.6666666666666666,\"#ed7953\"],[0.7777777777777778,\"#fb9f3a\"],[0.8888888888888888,\"#fdca26\"],[1.0,\"#f0f921\"]],\"type\":\"contour\"}],\"contourcarpet\":[{\"colorbar\":{\"outlinewidth\":0,\"ticks\":\"\"},\"type\":\"contourcarpet\"}],\"heatmap\":[{\"colorbar\":{\"outlinewidth\":0,\"ticks\":\"\"},\"colorscale\":[[0.0,\"#0d0887\"],[0.1111111111111111,\"#46039f\"],[0.2222222222222222,\"#7201a8\"],[0.3333333333333333,\"#9c179e\"],[0.4444444444444444,\"#bd3786\"],[0.5555555555555556,\"#d8576b\"],[0.6666666666666666,\"#ed7953\"],[0.7777777777777778,\"#fb9f3a\"],[0.8888888888888888,\"#fdca26\"],[1.0,\"#f0f921\"]],\"type\":\"heatmap\"}],\"heatmapgl\":[{\"colorbar\":{\"outlinewidth\":0,\"ticks\":\"\"},\"colorscale\":[[0.0,\"#0d0887\"],[0.1111111111111111,\"#46039f\"],[0.2222222222222222,\"#7201a8\"],[0.3333333333333333,\"#9c179e\"],[0.4444444444444444,\"#bd3786\"],[0.5555555555555556,\"#d8576b\"],[0.6666666666666666,\"#ed7953\"],[0.7777777777777778,\"#fb9f3a\"],[0.8888888888888888,\"#fdca26\"],[1.0,\"#f0f921\"]],\"type\":\"heatmapgl\"}],\"histogram\":[{\"marker\":{\"pattern\":{\"fillmode\":\"overlay\",\"size\":10,\"solidity\":0.2}},\"type\":\"histogram\"}],\"histogram2d\":[{\"colorbar\":{\"outlinewidth\":0,\"ticks\":\"\"},\"colorscale\":[[0.0,\"#0d0887\"],[0.1111111111111111,\"#46039f\"],[0.2222222222222222,\"#7201a8\"],[0.3333333333333333,\"#9c179e\"],[0.4444444444444444,\"#bd3786\"],[0.5555555555555556,\"#d8576b\"],[0.6666666666666666,\"#ed7953\"],[0.7777777777777778,\"#fb9f3a\"],[0.8888888888888888,\"#fdca26\"],[1.0,\"#f0f921\"]],\"type\":\"histogram2d\"}],\"histogram2dcontour\":[{\"colorbar\":{\"outlinewidth\":0,\"ticks\":\"\"},\"colorscale\":[[0.0,\"#0d0887\"],[0.1111111111111111,\"#46039f\"],[0.2222222222222222,\"#7201a8\"],[0.3333333333333333,\"#9c179e\"],[0.4444444444444444,\"#bd3786\"],[0.5555555555555556,\"#d8576b\"],[0.6666666666666666,\"#ed7953\"],[0.7777777777777778,\"#fb9f3a\"],[0.8888888888888888,\"#fdca26\"],[1.0,\"#f0f921\"]],\"type\":\"histogram2dcontour\"}],\"mesh3d\":[{\"colorbar\":{\"outlinewidth\":0,\"ticks\":\"\"},\"type\":\"mesh3d\"}],\"parcoords\":[{\"line\":{\"colorbar\":{\"outlinewidth\":0,\"ticks\":\"\"}},\"type\":\"parcoords\"}],\"pie\":[{\"automargin\":true,\"type\":\"pie\"}],\"scatter\":[{\"marker\":{\"colorbar\":{\"outlinewidth\":0,\"ticks\":\"\"}},\"type\":\"scatter\"}],\"scatter3d\":[{\"line\":{\"colorbar\":{\"outlinewidth\":0,\"ticks\":\"\"}},\"marker\":{\"colorbar\":{\"outlinewidth\":0,\"ticks\":\"\"}},\"type\":\"scatter3d\"}],\"scattercarpet\":[{\"marker\":{\"colorbar\":{\"outlinewidth\":0,\"ticks\":\"\"}},\"type\":\"scattercarpet\"}],\"scattergeo\":[{\"marker\":{\"colorbar\":{\"outlinewidth\":0,\"ticks\":\"\"}},\"type\":\"scattergeo\"}],\"scattergl\":[{\"marker\":{\"colorbar\":{\"outlinewidth\":0,\"ticks\":\"\"}},\"type\":\"scattergl\"}],\"scattermapbox\":[{\"marker\":{\"colorbar\":{\"outlinewidth\":0,\"ticks\":\"\"}},\"type\":\"scattermapbox\"}],\"scatterpolar\":[{\"marker\":{\"colorbar\":{\"outlinewidth\":0,\"ticks\":\"\"}},\"type\":\"scatterpolar\"}],\"scatterpolargl\":[{\"marker\":{\"colorbar\":{\"outlinewidth\":0,\"ticks\":\"\"}},\"type\":\"scatterpolargl\"}],\"scatterternary\":[{\"marker\":{\"colorbar\":{\"outlinewidth\":0,\"ticks\":\"\"}},\"type\":\"scatterternary\"}],\"surface\":[{\"colorbar\":{\"outlinewidth\":0,\"ticks\":\"\"},\"colorscale\":[[0.0,\"#0d0887\"],[0.1111111111111111,\"#46039f\"],[0.2222222222222222,\"#7201a8\"],[0.3333333333333333,\"#9c179e\"],[0.4444444444444444,\"#bd3786\"],[0.5555555555555556,\"#d8576b\"],[0.6666666666666666,\"#ed7953\"],[0.7777777777777778,\"#fb9f3a\"],[0.8888888888888888,\"#fdca26\"],[1.0,\"#f0f921\"]],\"type\":\"surface\"}],\"table\":[{\"cells\":{\"fill\":{\"color\":\"#EBF0F8\"},\"line\":{\"color\":\"white\"}},\"header\":{\"fill\":{\"color\":\"#C8D4E3\"},\"line\":{\"color\":\"white\"}},\"type\":\"table\"}]},\"layout\":{\"annotationdefaults\":{\"arrowcolor\":\"#2a3f5f\",\"arrowhead\":0,\"arrowwidth\":1},\"autotypenumbers\":\"strict\",\"coloraxis\":{\"colorbar\":{\"outlinewidth\":0,\"ticks\":\"\"}},\"colorscale\":{\"diverging\":[[0,\"#8e0152\"],[0.1,\"#c51b7d\"],[0.2,\"#de77ae\"],[0.3,\"#f1b6da\"],[0.4,\"#fde0ef\"],[0.5,\"#f7f7f7\"],[0.6,\"#e6f5d0\"],[0.7,\"#b8e186\"],[0.8,\"#7fbc41\"],[0.9,\"#4d9221\"],[1,\"#276419\"]],\"sequential\":[[0.0,\"#0d0887\"],[0.1111111111111111,\"#46039f\"],[0.2222222222222222,\"#7201a8\"],[0.3333333333333333,\"#9c179e\"],[0.4444444444444444,\"#bd3786\"],[0.5555555555555556,\"#d8576b\"],[0.6666666666666666,\"#ed7953\"],[0.7777777777777778,\"#fb9f3a\"],[0.8888888888888888,\"#fdca26\"],[1.0,\"#f0f921\"]],\"sequentialminus\":[[0.0,\"#0d0887\"],[0.1111111111111111,\"#46039f\"],[0.2222222222222222,\"#7201a8\"],[0.3333333333333333,\"#9c179e\"],[0.4444444444444444,\"#bd3786\"],[0.5555555555555556,\"#d8576b\"],[0.6666666666666666,\"#ed7953\"],[0.7777777777777778,\"#fb9f3a\"],[0.8888888888888888,\"#fdca26\"],[1.0,\"#f0f921\"]]},\"colorway\":[\"#636efa\",\"#EF553B\",\"#00cc96\",\"#ab63fa\",\"#FFA15A\",\"#19d3f3\",\"#FF6692\",\"#B6E880\",\"#FF97FF\",\"#FECB52\"],\"font\":{\"color\":\"#2a3f5f\"},\"geo\":{\"bgcolor\":\"white\",\"lakecolor\":\"white\",\"landcolor\":\"#E5ECF6\",\"showlakes\":true,\"showland\":true,\"subunitcolor\":\"white\"},\"hoverlabel\":{\"align\":\"left\"},\"hovermode\":\"closest\",\"mapbox\":{\"style\":\"light\"},\"paper_bgcolor\":\"white\",\"plot_bgcolor\":\"#E5ECF6\",\"polar\":{\"angularaxis\":{\"gridcolor\":\"white\",\"linecolor\":\"white\",\"ticks\":\"\"},\"bgcolor\":\"#E5ECF6\",\"radialaxis\":{\"gridcolor\":\"white\",\"linecolor\":\"white\",\"ticks\":\"\"}},\"scene\":{\"xaxis\":{\"backgroundcolor\":\"#E5ECF6\",\"gridcolor\":\"white\",\"gridwidth\":2,\"linecolor\":\"white\",\"showbackground\":true,\"ticks\":\"\",\"zerolinecolor\":\"white\"},\"yaxis\":{\"backgroundcolor\":\"#E5ECF6\",\"gridcolor\":\"white\",\"gridwidth\":2,\"linecolor\":\"white\",\"showbackground\":true,\"ticks\":\"\",\"zerolinecolor\":\"white\"},\"zaxis\":{\"backgroundcolor\":\"#E5ECF6\",\"gridcolor\":\"white\",\"gridwidth\":2,\"linecolor\":\"white\",\"showbackground\":true,\"ticks\":\"\",\"zerolinecolor\":\"white\"}},\"shapedefaults\":{\"line\":{\"color\":\"#2a3f5f\"}},\"ternary\":{\"aaxis\":{\"gridcolor\":\"white\",\"linecolor\":\"white\",\"ticks\":\"\"},\"baxis\":{\"gridcolor\":\"white\",\"linecolor\":\"white\",\"ticks\":\"\"},\"bgcolor\":\"#E5ECF6\",\"caxis\":{\"gridcolor\":\"white\",\"linecolor\":\"white\",\"ticks\":\"\"}},\"title\":{\"x\":0.05},\"xaxis\":{\"automargin\":true,\"gridcolor\":\"white\",\"linecolor\":\"white\",\"ticks\":\"\",\"title\":{\"standoff\":15},\"zerolinecolor\":\"white\",\"zerolinewidth\":2},\"yaxis\":{\"automargin\":true,\"gridcolor\":\"white\",\"linecolor\":\"white\",\"ticks\":\"\",\"title\":{\"standoff\":15},\"zerolinecolor\":\"white\",\"zerolinewidth\":2}}},\"xaxis\":{\"anchor\":\"y\",\"domain\":[0.0,1.0],\"title\":{\"text\":\"p_not_breakeven_tp\"}},\"yaxis\":{\"anchor\":\"x\",\"domain\":[0.0,1.0],\"title\":{\"text\":\"p_not_breakeven_volatility\"}}},                        {\"responsive\": true}                    ).then(function(){\n",
       "                            \n",
       "var gd = document.getElementById('ff810026-afb5-4998-ad41-6113a4269ee3');\n",
       "var x = new MutationObserver(function (mutations, observer) {{\n",
       "        var display = window.getComputedStyle(gd).display;\n",
       "        if (!display || display === 'none') {{\n",
       "            console.log([gd, 'removed!']);\n",
       "            Plotly.purge(gd);\n",
       "            observer.disconnect();\n",
       "        }}\n",
       "}});\n",
       "\n",
       "// Listen for the removal of the full notebook cells\n",
       "var notebookContainer = gd.closest('#notebook-container');\n",
       "if (notebookContainer) {{\n",
       "    x.observe(notebookContainer, {childList: true});\n",
       "}}\n",
       "\n",
       "// Listen for the clearing of the current output cell\n",
       "var outputEl = gd.closest('.output');\n",
       "if (outputEl) {{\n",
       "    x.observe(outputEl, {childList: true});\n",
       "}}\n",
       "\n",
       "                        })                };                });            </script>        </div>"
      ]
     },
     "metadata": {},
     "output_type": "display_data"
    }
   ],
   "source": [
    "fig = px.scatter(all_pairs[kelly_capital_filter], \n",
    "                 x='p_not_breakeven_tp', y='p_not_breakeven_volatility', \n",
    "                 size='cost', color='underlying_name', \n",
    "                 hover_data=['expiry', 'underlying_value', 'kelly_fraction',\n",
    "                             'ce_strike_price', 'pe_strike_price', 'spread_percent',\n",
    "                             'ce_premium', 'pe_premium', \n",
    "                             'target', 'cost'])\n",
    "\n",
    "fig.show()"
   ]
  },
  {
   "cell_type": "code",
   "execution_count": 121,
   "id": "ffcc4079-27e9-4954-8943-f9be7e64b1db",
   "metadata": {},
   "outputs": [
    {
     "data": {
      "application/vnd.plotly.v1+json": {
       "config": {
        "plotlyServerURL": "https://plot.ly"
       },
       "data": [
        {
         "customdata": [
          [
           "2022-01-20T00:00:00",
           17757.35,
           0.2516983199415629,
           17850,
           17750,
           0.02878695300819098,
           173.1,
           199.1,
           411.18000000000006,
           18690
          ],
          [
           "2022-01-27T00:00:00",
           17757.35,
           0.1678305332359385,
           17950,
           17600,
           0.042676694439204056,
           182.15,
           187,
           407.82500000000005,
           18537.5
          ],
          [
           "2022-02-03T00:00:00",
           17757.35,
           0.30116873630387153,
           18000,
           17700,
           0.053396199320281466,
           270.9,
           316.75,
           648.1750000000001,
           29462.5
          ]
         ],
         "hovertemplate": "underlying_name=NIFTY<br>p_not_breakeven_tp=%{x}<br>p_not_breakeven_volatility=%{y}<br>cost=%{customdata[9]}<br>expiry=%{customdata[0]}<br>underlying_value=%{customdata[1]}<br>kelly_fraction=%{customdata[2]}<br>ce_strike_price=%{customdata[3]}<br>pe_strike_price=%{customdata[4]}<br>spread_percent=%{customdata[5]}<br>ce_premium=%{customdata[6]}<br>pe_premium=%{customdata[7]}<br>target=%{customdata[8]}<extra></extra>",
         "legendgroup": "NIFTY",
         "marker": {
          "color": "#636efa",
          "size": [
           18690,
           18537.5,
           29462.5
          ],
          "sizemode": "area",
          "sizeref": 76.14375,
          "symbol": "circle"
         },
         "mode": "markers",
         "name": "NIFTY",
         "orientation": "v",
         "showlegend": true,
         "type": "scatter",
         "x": [
          0.04248539079620163,
          0.043305332359386425,
          0.018528122717311902
         ],
         "xaxis": "x",
         "y": [
          0.3234477720964208,
          0.3991161431701972,
          0.5135500365230095
         ],
         "yaxis": "y"
        },
        {
         "customdata": [
          [
           "2022-01-20T00:00:00",
           37590.65,
           0.2669192841490139,
           37600,
           37200,
           0.04249474270862568,
           645,
           440.35,
           1197.405,
           27213.75
          ],
          [
           "2022-01-27T00:00:00",
           37590.65,
           0.2747589481373266,
           38200,
           37500,
           0.05427227249329288,
           538.25,
           676.85,
           1340.13,
           30457.5
          ]
         ],
         "hovertemplate": "underlying_name=BANKNIFTY<br>p_not_breakeven_tp=%{x}<br>p_not_breakeven_volatility=%{y}<br>cost=%{customdata[9]}<br>expiry=%{customdata[0]}<br>underlying_value=%{customdata[1]}<br>kelly_fraction=%{customdata[2]}<br>ce_strike_price=%{customdata[3]}<br>pe_strike_price=%{customdata[4]}<br>spread_percent=%{customdata[5]}<br>ce_premium=%{customdata[6]}<br>pe_premium=%{customdata[7]}<br>target=%{customdata[8]}<extra></extra>",
         "legendgroup": "BANKNIFTY",
         "marker": {
          "color": "#EF553B",
          "size": [
           27213.75,
           30457.5
          ],
          "sizemode": "area",
          "sizeref": 76.14375,
          "symbol": "circle"
         },
         "mode": "markers",
         "name": "BANKNIFTY",
         "orientation": "v",
         "showlegend": true,
         "type": "scatter",
         "x": [
          0.029353542731921114,
          0.022012417823228627
         ],
         "xaxis": "x",
         "y": [
          0.43954528853177505,
          0.5051168736303872
         ],
         "yaxis": "y"
        },
        {
         "customdata": [
          [
           "2022-01-27T00:00:00",
           2416.85,
           0.22481373265157056,
           2420,
           2360,
           0.05505444414561654,
           46,
           20.15,
           73.05833333333335,
           19925
          ]
         ],
         "hovertemplate": "underlying_name=HINDUNILVR<br>p_not_breakeven_tp=%{x}<br>p_not_breakeven_volatility=%{y}<br>cost=%{customdata[9]}<br>expiry=%{customdata[0]}<br>underlying_value=%{customdata[1]}<br>kelly_fraction=%{customdata[2]}<br>ce_strike_price=%{customdata[3]}<br>pe_strike_price=%{customdata[4]}<br>spread_percent=%{customdata[5]}<br>ce_premium=%{customdata[6]}<br>pe_premium=%{customdata[7]}<br>target=%{customdata[8]}<extra></extra>",
         "legendgroup": "HINDUNILVR",
         "marker": {
          "color": "#00cc96",
          "size": [
           19925
          ],
          "sizemode": "area",
          "sizeref": 76.14375,
          "symbol": "circle"
         },
         "mode": "markers",
         "name": "HINDUNILVR",
         "orientation": "v",
         "showlegend": true,
         "type": "scatter",
         "x": [
          0.029561723886048212
         ],
         "xaxis": "x",
         "y": [
          0.47956902848794736
         ],
         "yaxis": "y"
        },
        {
         "customdata": [
          [
           "2022-01-27T00:00:00",
           218.3,
           0.24267713659605558,
           222,
           217,
           0.05981447549244159,
           3.7,
           3.6,
           8.057500000000001,
           23440
          ]
         ],
         "hovertemplate": "underlying_name=ITC<br>p_not_breakeven_tp=%{x}<br>p_not_breakeven_volatility=%{y}<br>cost=%{customdata[9]}<br>expiry=%{customdata[0]}<br>underlying_value=%{customdata[1]}<br>kelly_fraction=%{customdata[2]}<br>ce_strike_price=%{customdata[3]}<br>pe_strike_price=%{customdata[4]}<br>spread_percent=%{customdata[5]}<br>ce_premium=%{customdata[6]}<br>pe_premium=%{customdata[7]}<br>target=%{customdata[8]}<extra></extra>",
         "legendgroup": "ITC",
         "marker": {
          "color": "#ab63fa",
          "size": [
           23440
          ],
          "sizemode": "area",
          "sizeref": 76.14375,
          "symbol": "circle"
         },
         "mode": "markers",
         "name": "ITC",
         "orientation": "v",
         "showlegend": true,
         "type": "scatter",
         "x": [
          0.021610664718772824
         ],
         "xaxis": "x",
         "y": [
          0.5412162162162162
         ],
         "yaxis": "y"
        },
        {
         "customdata": [
          [
           "2022-01-27T00:00:00",
           3566,
           0.28188458728999266,
           3600,
           3540,
           0.06248925032716396,
           74.35,
           73.15,
           162.83666666666667,
           22205
          ]
         ],
         "hovertemplate": "underlying_name=ASIANPAINT<br>p_not_breakeven_tp=%{x}<br>p_not_breakeven_volatility=%{y}<br>cost=%{customdata[9]}<br>expiry=%{customdata[0]}<br>underlying_value=%{customdata[1]}<br>kelly_fraction=%{customdata[2]}<br>ce_strike_price=%{customdata[3]}<br>pe_strike_price=%{customdata[4]}<br>spread_percent=%{customdata[5]}<br>ce_premium=%{customdata[6]}<br>pe_premium=%{customdata[7]}<br>target=%{customdata[8]}<extra></extra>",
         "legendgroup": "ASIANPAINT",
         "marker": {
          "color": "#FFA15A",
          "size": [
           22205
          ],
          "sizemode": "area",
          "sizeref": 76.14375,
          "symbol": "circle"
         },
         "mode": "markers",
         "name": "ASIANPAINT",
         "orientation": "v",
         "showlegend": true,
         "type": "scatter",
         "x": [
          0.012702702702702703
         ],
         "xaxis": "x",
         "y": [
          0.5910883856829803
         ],
         "yaxis": "y"
        },
        {
         "customdata": [
          [
           "2022-01-27T00:00:00",
           918,
           0.25548758217677137,
           930,
           910,
           0.06944486341545165,
           21.15,
           18.5,
           43.75038461538462,
           25852.5
          ]
         ],
         "hovertemplate": "underlying_name=CIPLA<br>p_not_breakeven_tp=%{x}<br>p_not_breakeven_volatility=%{y}<br>cost=%{customdata[9]}<br>expiry=%{customdata[0]}<br>underlying_value=%{customdata[1]}<br>kelly_fraction=%{customdata[2]}<br>ce_strike_price=%{customdata[3]}<br>pe_strike_price=%{customdata[4]}<br>spread_percent=%{customdata[5]}<br>ce_premium=%{customdata[6]}<br>pe_premium=%{customdata[7]}<br>target=%{customdata[8]}<extra></extra>",
         "legendgroup": "CIPLA",
         "marker": {
          "color": "#19d3f3",
          "size": [
           25852.5
          ],
          "sizemode": "area",
          "sizeref": 76.14375,
          "symbol": "circle"
         },
         "mode": "markers",
         "name": "CIPLA",
         "orientation": "v",
         "showlegend": true,
         "type": "scatter",
         "x": [
          0.011539444850255662
         ],
         "xaxis": "x",
         "y": [
          0.629117969320672
         ],
         "yaxis": "y"
        },
        {
         "customdata": [
          [
           "2022-01-27T00:00:00",
           3830,
           0.26218407596785986,
           3900,
           3820,
           0.07022497824194954,
           76.6,
           94.65,
           188.96166666666667,
           25767.5
          ]
         ],
         "hovertemplate": "underlying_name=TCS<br>p_not_breakeven_tp=%{x}<br>p_not_breakeven_volatility=%{y}<br>cost=%{customdata[9]}<br>expiry=%{customdata[0]}<br>underlying_value=%{customdata[1]}<br>kelly_fraction=%{customdata[2]}<br>ce_strike_price=%{customdata[3]}<br>pe_strike_price=%{customdata[4]}<br>spread_percent=%{customdata[5]}<br>ce_premium=%{customdata[6]}<br>pe_premium=%{customdata[7]}<br>target=%{customdata[8]}<extra></extra>",
         "legendgroup": "TCS",
         "marker": {
          "color": "#FF6692",
          "size": [
           25767.5
          ],
          "sizemode": "area",
          "sizeref": 76.14375,
          "symbol": "circle"
         },
         "mode": "markers",
         "name": "TCS",
         "orientation": "v",
         "showlegend": true,
         "type": "scatter",
         "x": [
          0.010155222790357918
         ],
         "xaxis": "x",
         "y": [
          0.6362636961285609
         ],
         "yaxis": "y"
        }
       ],
       "layout": {
        "autosize": true,
        "legend": {
         "itemsizing": "constant",
         "title": {
          "text": "underlying_name"
         },
         "tracegroupgap": 0
        },
        "margin": {
         "t": 60
        },
        "template": {
         "data": {
          "bar": [
           {
            "error_x": {
             "color": "#2a3f5f"
            },
            "error_y": {
             "color": "#2a3f5f"
            },
            "marker": {
             "line": {
              "color": "#E5ECF6",
              "width": 0.5
             },
             "pattern": {
              "fillmode": "overlay",
              "size": 10,
              "solidity": 0.2
             }
            },
            "type": "bar"
           }
          ],
          "barpolar": [
           {
            "marker": {
             "line": {
              "color": "#E5ECF6",
              "width": 0.5
             },
             "pattern": {
              "fillmode": "overlay",
              "size": 10,
              "solidity": 0.2
             }
            },
            "type": "barpolar"
           }
          ],
          "carpet": [
           {
            "aaxis": {
             "endlinecolor": "#2a3f5f",
             "gridcolor": "white",
             "linecolor": "white",
             "minorgridcolor": "white",
             "startlinecolor": "#2a3f5f"
            },
            "baxis": {
             "endlinecolor": "#2a3f5f",
             "gridcolor": "white",
             "linecolor": "white",
             "minorgridcolor": "white",
             "startlinecolor": "#2a3f5f"
            },
            "type": "carpet"
           }
          ],
          "choropleth": [
           {
            "colorbar": {
             "outlinewidth": 0,
             "ticks": ""
            },
            "type": "choropleth"
           }
          ],
          "contour": [
           {
            "colorbar": {
             "outlinewidth": 0,
             "ticks": ""
            },
            "colorscale": [
             [
              0,
              "#0d0887"
             ],
             [
              0.1111111111111111,
              "#46039f"
             ],
             [
              0.2222222222222222,
              "#7201a8"
             ],
             [
              0.3333333333333333,
              "#9c179e"
             ],
             [
              0.4444444444444444,
              "#bd3786"
             ],
             [
              0.5555555555555556,
              "#d8576b"
             ],
             [
              0.6666666666666666,
              "#ed7953"
             ],
             [
              0.7777777777777778,
              "#fb9f3a"
             ],
             [
              0.8888888888888888,
              "#fdca26"
             ],
             [
              1,
              "#f0f921"
             ]
            ],
            "type": "contour"
           }
          ],
          "contourcarpet": [
           {
            "colorbar": {
             "outlinewidth": 0,
             "ticks": ""
            },
            "type": "contourcarpet"
           }
          ],
          "heatmap": [
           {
            "colorbar": {
             "outlinewidth": 0,
             "ticks": ""
            },
            "colorscale": [
             [
              0,
              "#0d0887"
             ],
             [
              0.1111111111111111,
              "#46039f"
             ],
             [
              0.2222222222222222,
              "#7201a8"
             ],
             [
              0.3333333333333333,
              "#9c179e"
             ],
             [
              0.4444444444444444,
              "#bd3786"
             ],
             [
              0.5555555555555556,
              "#d8576b"
             ],
             [
              0.6666666666666666,
              "#ed7953"
             ],
             [
              0.7777777777777778,
              "#fb9f3a"
             ],
             [
              0.8888888888888888,
              "#fdca26"
             ],
             [
              1,
              "#f0f921"
             ]
            ],
            "type": "heatmap"
           }
          ],
          "heatmapgl": [
           {
            "colorbar": {
             "outlinewidth": 0,
             "ticks": ""
            },
            "colorscale": [
             [
              0,
              "#0d0887"
             ],
             [
              0.1111111111111111,
              "#46039f"
             ],
             [
              0.2222222222222222,
              "#7201a8"
             ],
             [
              0.3333333333333333,
              "#9c179e"
             ],
             [
              0.4444444444444444,
              "#bd3786"
             ],
             [
              0.5555555555555556,
              "#d8576b"
             ],
             [
              0.6666666666666666,
              "#ed7953"
             ],
             [
              0.7777777777777778,
              "#fb9f3a"
             ],
             [
              0.8888888888888888,
              "#fdca26"
             ],
             [
              1,
              "#f0f921"
             ]
            ],
            "type": "heatmapgl"
           }
          ],
          "histogram": [
           {
            "marker": {
             "pattern": {
              "fillmode": "overlay",
              "size": 10,
              "solidity": 0.2
             }
            },
            "type": "histogram"
           }
          ],
          "histogram2d": [
           {
            "colorbar": {
             "outlinewidth": 0,
             "ticks": ""
            },
            "colorscale": [
             [
              0,
              "#0d0887"
             ],
             [
              0.1111111111111111,
              "#46039f"
             ],
             [
              0.2222222222222222,
              "#7201a8"
             ],
             [
              0.3333333333333333,
              "#9c179e"
             ],
             [
              0.4444444444444444,
              "#bd3786"
             ],
             [
              0.5555555555555556,
              "#d8576b"
             ],
             [
              0.6666666666666666,
              "#ed7953"
             ],
             [
              0.7777777777777778,
              "#fb9f3a"
             ],
             [
              0.8888888888888888,
              "#fdca26"
             ],
             [
              1,
              "#f0f921"
             ]
            ],
            "type": "histogram2d"
           }
          ],
          "histogram2dcontour": [
           {
            "colorbar": {
             "outlinewidth": 0,
             "ticks": ""
            },
            "colorscale": [
             [
              0,
              "#0d0887"
             ],
             [
              0.1111111111111111,
              "#46039f"
             ],
             [
              0.2222222222222222,
              "#7201a8"
             ],
             [
              0.3333333333333333,
              "#9c179e"
             ],
             [
              0.4444444444444444,
              "#bd3786"
             ],
             [
              0.5555555555555556,
              "#d8576b"
             ],
             [
              0.6666666666666666,
              "#ed7953"
             ],
             [
              0.7777777777777778,
              "#fb9f3a"
             ],
             [
              0.8888888888888888,
              "#fdca26"
             ],
             [
              1,
              "#f0f921"
             ]
            ],
            "type": "histogram2dcontour"
           }
          ],
          "mesh3d": [
           {
            "colorbar": {
             "outlinewidth": 0,
             "ticks": ""
            },
            "type": "mesh3d"
           }
          ],
          "parcoords": [
           {
            "line": {
             "colorbar": {
              "outlinewidth": 0,
              "ticks": ""
             }
            },
            "type": "parcoords"
           }
          ],
          "pie": [
           {
            "automargin": true,
            "type": "pie"
           }
          ],
          "scatter": [
           {
            "marker": {
             "colorbar": {
              "outlinewidth": 0,
              "ticks": ""
             }
            },
            "type": "scatter"
           }
          ],
          "scatter3d": [
           {
            "line": {
             "colorbar": {
              "outlinewidth": 0,
              "ticks": ""
             }
            },
            "marker": {
             "colorbar": {
              "outlinewidth": 0,
              "ticks": ""
             }
            },
            "type": "scatter3d"
           }
          ],
          "scattercarpet": [
           {
            "marker": {
             "colorbar": {
              "outlinewidth": 0,
              "ticks": ""
             }
            },
            "type": "scattercarpet"
           }
          ],
          "scattergeo": [
           {
            "marker": {
             "colorbar": {
              "outlinewidth": 0,
              "ticks": ""
             }
            },
            "type": "scattergeo"
           }
          ],
          "scattergl": [
           {
            "marker": {
             "colorbar": {
              "outlinewidth": 0,
              "ticks": ""
             }
            },
            "type": "scattergl"
           }
          ],
          "scattermapbox": [
           {
            "marker": {
             "colorbar": {
              "outlinewidth": 0,
              "ticks": ""
             }
            },
            "type": "scattermapbox"
           }
          ],
          "scatterpolar": [
           {
            "marker": {
             "colorbar": {
              "outlinewidth": 0,
              "ticks": ""
             }
            },
            "type": "scatterpolar"
           }
          ],
          "scatterpolargl": [
           {
            "marker": {
             "colorbar": {
              "outlinewidth": 0,
              "ticks": ""
             }
            },
            "type": "scatterpolargl"
           }
          ],
          "scatterternary": [
           {
            "marker": {
             "colorbar": {
              "outlinewidth": 0,
              "ticks": ""
             }
            },
            "type": "scatterternary"
           }
          ],
          "surface": [
           {
            "colorbar": {
             "outlinewidth": 0,
             "ticks": ""
            },
            "colorscale": [
             [
              0,
              "#0d0887"
             ],
             [
              0.1111111111111111,
              "#46039f"
             ],
             [
              0.2222222222222222,
              "#7201a8"
             ],
             [
              0.3333333333333333,
              "#9c179e"
             ],
             [
              0.4444444444444444,
              "#bd3786"
             ],
             [
              0.5555555555555556,
              "#d8576b"
             ],
             [
              0.6666666666666666,
              "#ed7953"
             ],
             [
              0.7777777777777778,
              "#fb9f3a"
             ],
             [
              0.8888888888888888,
              "#fdca26"
             ],
             [
              1,
              "#f0f921"
             ]
            ],
            "type": "surface"
           }
          ],
          "table": [
           {
            "cells": {
             "fill": {
              "color": "#EBF0F8"
             },
             "line": {
              "color": "white"
             }
            },
            "header": {
             "fill": {
              "color": "#C8D4E3"
             },
             "line": {
              "color": "white"
             }
            },
            "type": "table"
           }
          ]
         },
         "layout": {
          "annotationdefaults": {
           "arrowcolor": "#2a3f5f",
           "arrowhead": 0,
           "arrowwidth": 1
          },
          "autotypenumbers": "strict",
          "coloraxis": {
           "colorbar": {
            "outlinewidth": 0,
            "ticks": ""
           }
          },
          "colorscale": {
           "diverging": [
            [
             0,
             "#8e0152"
            ],
            [
             0.1,
             "#c51b7d"
            ],
            [
             0.2,
             "#de77ae"
            ],
            [
             0.3,
             "#f1b6da"
            ],
            [
             0.4,
             "#fde0ef"
            ],
            [
             0.5,
             "#f7f7f7"
            ],
            [
             0.6,
             "#e6f5d0"
            ],
            [
             0.7,
             "#b8e186"
            ],
            [
             0.8,
             "#7fbc41"
            ],
            [
             0.9,
             "#4d9221"
            ],
            [
             1,
             "#276419"
            ]
           ],
           "sequential": [
            [
             0,
             "#0d0887"
            ],
            [
             0.1111111111111111,
             "#46039f"
            ],
            [
             0.2222222222222222,
             "#7201a8"
            ],
            [
             0.3333333333333333,
             "#9c179e"
            ],
            [
             0.4444444444444444,
             "#bd3786"
            ],
            [
             0.5555555555555556,
             "#d8576b"
            ],
            [
             0.6666666666666666,
             "#ed7953"
            ],
            [
             0.7777777777777778,
             "#fb9f3a"
            ],
            [
             0.8888888888888888,
             "#fdca26"
            ],
            [
             1,
             "#f0f921"
            ]
           ],
           "sequentialminus": [
            [
             0,
             "#0d0887"
            ],
            [
             0.1111111111111111,
             "#46039f"
            ],
            [
             0.2222222222222222,
             "#7201a8"
            ],
            [
             0.3333333333333333,
             "#9c179e"
            ],
            [
             0.4444444444444444,
             "#bd3786"
            ],
            [
             0.5555555555555556,
             "#d8576b"
            ],
            [
             0.6666666666666666,
             "#ed7953"
            ],
            [
             0.7777777777777778,
             "#fb9f3a"
            ],
            [
             0.8888888888888888,
             "#fdca26"
            ],
            [
             1,
             "#f0f921"
            ]
           ]
          },
          "colorway": [
           "#636efa",
           "#EF553B",
           "#00cc96",
           "#ab63fa",
           "#FFA15A",
           "#19d3f3",
           "#FF6692",
           "#B6E880",
           "#FF97FF",
           "#FECB52"
          ],
          "font": {
           "color": "#2a3f5f"
          },
          "geo": {
           "bgcolor": "white",
           "lakecolor": "white",
           "landcolor": "#E5ECF6",
           "showlakes": true,
           "showland": true,
           "subunitcolor": "white"
          },
          "hoverlabel": {
           "align": "left"
          },
          "hovermode": "closest",
          "mapbox": {
           "style": "light"
          },
          "paper_bgcolor": "white",
          "plot_bgcolor": "#E5ECF6",
          "polar": {
           "angularaxis": {
            "gridcolor": "white",
            "linecolor": "white",
            "ticks": ""
           },
           "bgcolor": "#E5ECF6",
           "radialaxis": {
            "gridcolor": "white",
            "linecolor": "white",
            "ticks": ""
           }
          },
          "scene": {
           "xaxis": {
            "backgroundcolor": "#E5ECF6",
            "gridcolor": "white",
            "gridwidth": 2,
            "linecolor": "white",
            "showbackground": true,
            "ticks": "",
            "zerolinecolor": "white"
           },
           "yaxis": {
            "backgroundcolor": "#E5ECF6",
            "gridcolor": "white",
            "gridwidth": 2,
            "linecolor": "white",
            "showbackground": true,
            "ticks": "",
            "zerolinecolor": "white"
           },
           "zaxis": {
            "backgroundcolor": "#E5ECF6",
            "gridcolor": "white",
            "gridwidth": 2,
            "linecolor": "white",
            "showbackground": true,
            "ticks": "",
            "zerolinecolor": "white"
           }
          },
          "shapedefaults": {
           "line": {
            "color": "#2a3f5f"
           }
          },
          "ternary": {
           "aaxis": {
            "gridcolor": "white",
            "linecolor": "white",
            "ticks": ""
           },
           "baxis": {
            "gridcolor": "white",
            "linecolor": "white",
            "ticks": ""
           },
           "bgcolor": "#E5ECF6",
           "caxis": {
            "gridcolor": "white",
            "linecolor": "white",
            "ticks": ""
           }
          },
          "title": {
           "x": 0.05
          },
          "xaxis": {
           "automargin": true,
           "gridcolor": "white",
           "linecolor": "white",
           "ticks": "",
           "title": {
            "standoff": 15
           },
           "zerolinecolor": "white",
           "zerolinewidth": 2
          },
          "yaxis": {
           "automargin": true,
           "gridcolor": "white",
           "linecolor": "white",
           "ticks": "",
           "title": {
            "standoff": 15
           },
           "zerolinecolor": "white",
           "zerolinewidth": 2
          }
         }
        },
        "xaxis": {
         "anchor": "y",
         "autorange": true,
         "domain": [
          0,
          1
         ],
         "range": [
          0.007820141602758086,
          0.045572480761620404
         ],
         "title": {
          "text": "p_not_breakeven_tp"
         },
         "type": "linear"
        },
        "yaxis": {
         "anchor": "x",
         "autorange": true,
         "domain": [
          0,
          1
         ],
         "range": [
          0.28068491684088803,
          0.682971278436671
         ],
         "title": {
          "text": "p_not_breakeven_volatility"
         },
         "type": "linear"
        }
       }
      },
      "image/png": "[encoded data removed]",
      "text/html": [
       "<div>                            <div id=\"46b0e1d7-a1b9-4178-a1de-45c1b78a1f39\" class=\"plotly-graph-div\" style=\"height:525px; width:100%;\"></div>            <script type=\"text/javascript\">                require([\"plotly\"], function(Plotly) {                    window.PLOTLYENV=window.PLOTLYENV || {};                                    if (document.getElementById(\"46b0e1d7-a1b9-4178-a1de-45c1b78a1f39\")) {                    Plotly.newPlot(                        \"46b0e1d7-a1b9-4178-a1de-45c1b78a1f39\",                        [{\"customdata\":[[\"2022-01-20T00:00:00\",17757.35,0.2516983199415629,17850.0,17750.0,0.02878695300819098,173.1,199.1,411.18000000000006,18690.0],[\"2022-01-27T00:00:00\",17757.35,0.1678305332359385,17950.0,17600.0,0.042676694439204056,182.15,187.0,407.82500000000005,18537.5],[\"2022-02-03T00:00:00\",17757.35,0.30116873630387153,18000.0,17700.0,0.053396199320281466,270.9,316.75,648.1750000000001,29462.5]],\"hovertemplate\":\"underlying_name=NIFTY<br>p_not_breakeven_tp=%{x}<br>p_not_breakeven_volatility=%{y}<br>cost=%{customdata[9]}<br>expiry=%{customdata[0]}<br>underlying_value=%{customdata[1]}<br>kelly_fraction=%{customdata[2]}<br>ce_strike_price=%{customdata[3]}<br>pe_strike_price=%{customdata[4]}<br>spread_percent=%{customdata[5]}<br>ce_premium=%{customdata[6]}<br>pe_premium=%{customdata[7]}<br>target=%{customdata[8]}<extra></extra>\",\"legendgroup\":\"NIFTY\",\"marker\":{\"color\":\"#636efa\",\"size\":[18690.0,18537.5,29462.5],\"sizemode\":\"area\",\"sizeref\":76.14375,\"symbol\":\"circle\"},\"mode\":\"markers\",\"name\":\"NIFTY\",\"orientation\":\"v\",\"showlegend\":true,\"type\":\"scatter\",\"x\":[0.04248539079620163,0.043305332359386425,0.018528122717311902],\"xaxis\":\"x\",\"y\":[0.3234477720964208,0.3991161431701972,0.5135500365230095],\"yaxis\":\"y\"},{\"customdata\":[[\"2022-01-20T00:00:00\",37590.65,0.2669192841490139,37600.0,37200.0,0.04249474270862568,645.0,440.35,1197.405,27213.75],[\"2022-01-27T00:00:00\",37590.65,0.2747589481373266,38200.0,37500.0,0.05427227249329288,538.25,676.85,1340.13,30457.5]],\"hovertemplate\":\"underlying_name=BANKNIFTY<br>p_not_breakeven_tp=%{x}<br>p_not_breakeven_volatility=%{y}<br>cost=%{customdata[9]}<br>expiry=%{customdata[0]}<br>underlying_value=%{customdata[1]}<br>kelly_fraction=%{customdata[2]}<br>ce_strike_price=%{customdata[3]}<br>pe_strike_price=%{customdata[4]}<br>spread_percent=%{customdata[5]}<br>ce_premium=%{customdata[6]}<br>pe_premium=%{customdata[7]}<br>target=%{customdata[8]}<extra></extra>\",\"legendgroup\":\"BANKNIFTY\",\"marker\":{\"color\":\"#EF553B\",\"size\":[27213.75,30457.5],\"sizemode\":\"area\",\"sizeref\":76.14375,\"symbol\":\"circle\"},\"mode\":\"markers\",\"name\":\"BANKNIFTY\",\"orientation\":\"v\",\"showlegend\":true,\"type\":\"scatter\",\"x\":[0.029353542731921114,0.022012417823228627],\"xaxis\":\"x\",\"y\":[0.43954528853177505,0.5051168736303872],\"yaxis\":\"y\"},{\"customdata\":[[\"2022-01-27T00:00:00\",2416.85,0.22481373265157056,2420.0,2360.0,0.05505444414561654,46.0,20.15,73.05833333333335,19925.0]],\"hovertemplate\":\"underlying_name=HINDUNILVR<br>p_not_breakeven_tp=%{x}<br>p_not_breakeven_volatility=%{y}<br>cost=%{customdata[9]}<br>expiry=%{customdata[0]}<br>underlying_value=%{customdata[1]}<br>kelly_fraction=%{customdata[2]}<br>ce_strike_price=%{customdata[3]}<br>pe_strike_price=%{customdata[4]}<br>spread_percent=%{customdata[5]}<br>ce_premium=%{customdata[6]}<br>pe_premium=%{customdata[7]}<br>target=%{customdata[8]}<extra></extra>\",\"legendgroup\":\"HINDUNILVR\",\"marker\":{\"color\":\"#00cc96\",\"size\":[19925.0],\"sizemode\":\"area\",\"sizeref\":76.14375,\"symbol\":\"circle\"},\"mode\":\"markers\",\"name\":\"HINDUNILVR\",\"orientation\":\"v\",\"showlegend\":true,\"type\":\"scatter\",\"x\":[0.029561723886048212],\"xaxis\":\"x\",\"y\":[0.47956902848794736],\"yaxis\":\"y\"},{\"customdata\":[[\"2022-01-27T00:00:00\",218.3,0.24267713659605558,222.0,217.0,0.05981447549244159,3.7,3.6,8.057500000000001,23440.0]],\"hovertemplate\":\"underlying_name=ITC<br>p_not_breakeven_tp=%{x}<br>p_not_breakeven_volatility=%{y}<br>cost=%{customdata[9]}<br>expiry=%{customdata[0]}<br>underlying_value=%{customdata[1]}<br>kelly_fraction=%{customdata[2]}<br>ce_strike_price=%{customdata[3]}<br>pe_strike_price=%{customdata[4]}<br>spread_percent=%{customdata[5]}<br>ce_premium=%{customdata[6]}<br>pe_premium=%{customdata[7]}<br>target=%{customdata[8]}<extra></extra>\",\"legendgroup\":\"ITC\",\"marker\":{\"color\":\"#ab63fa\",\"size\":[23440.0],\"sizemode\":\"area\",\"sizeref\":76.14375,\"symbol\":\"circle\"},\"mode\":\"markers\",\"name\":\"ITC\",\"orientation\":\"v\",\"showlegend\":true,\"type\":\"scatter\",\"x\":[0.021610664718772824],\"xaxis\":\"x\",\"y\":[0.5412162162162162],\"yaxis\":\"y\"},{\"customdata\":[[\"2022-01-27T00:00:00\",3566.0,0.28188458728999266,3600.0,3540.0,0.06248925032716396,74.35,73.15,162.83666666666667,22205.0]],\"hovertemplate\":\"underlying_name=ASIANPAINT<br>p_not_breakeven_tp=%{x}<br>p_not_breakeven_volatility=%{y}<br>cost=%{customdata[9]}<br>expiry=%{customdata[0]}<br>underlying_value=%{customdata[1]}<br>kelly_fraction=%{customdata[2]}<br>ce_strike_price=%{customdata[3]}<br>pe_strike_price=%{customdata[4]}<br>spread_percent=%{customdata[5]}<br>ce_premium=%{customdata[6]}<br>pe_premium=%{customdata[7]}<br>target=%{customdata[8]}<extra></extra>\",\"legendgroup\":\"ASIANPAINT\",\"marker\":{\"color\":\"#FFA15A\",\"size\":[22205.0],\"sizemode\":\"area\",\"sizeref\":76.14375,\"symbol\":\"circle\"},\"mode\":\"markers\",\"name\":\"ASIANPAINT\",\"orientation\":\"v\",\"showlegend\":true,\"type\":\"scatter\",\"x\":[0.012702702702702703],\"xaxis\":\"x\",\"y\":[0.5910883856829803],\"yaxis\":\"y\"},{\"customdata\":[[\"2022-01-27T00:00:00\",918.0,0.25548758217677137,930.0,910.0,0.06944486341545165,21.15,18.5,43.75038461538462,25852.5]],\"hovertemplate\":\"underlying_name=CIPLA<br>p_not_breakeven_tp=%{x}<br>p_not_breakeven_volatility=%{y}<br>cost=%{customdata[9]}<br>expiry=%{customdata[0]}<br>underlying_value=%{customdata[1]}<br>kelly_fraction=%{customdata[2]}<br>ce_strike_price=%{customdata[3]}<br>pe_strike_price=%{customdata[4]}<br>spread_percent=%{customdata[5]}<br>ce_premium=%{customdata[6]}<br>pe_premium=%{customdata[7]}<br>target=%{customdata[8]}<extra></extra>\",\"legendgroup\":\"CIPLA\",\"marker\":{\"color\":\"#19d3f3\",\"size\":[25852.5],\"sizemode\":\"area\",\"sizeref\":76.14375,\"symbol\":\"circle\"},\"mode\":\"markers\",\"name\":\"CIPLA\",\"orientation\":\"v\",\"showlegend\":true,\"type\":\"scatter\",\"x\":[0.011539444850255662],\"xaxis\":\"x\",\"y\":[0.629117969320672],\"yaxis\":\"y\"},{\"customdata\":[[\"2022-01-27T00:00:00\",3830.0,0.26218407596785986,3900.0,3820.0,0.07022497824194954,76.6,94.65,188.96166666666667,25767.5]],\"hovertemplate\":\"underlying_name=TCS<br>p_not_breakeven_tp=%{x}<br>p_not_breakeven_volatility=%{y}<br>cost=%{customdata[9]}<br>expiry=%{customdata[0]}<br>underlying_value=%{customdata[1]}<br>kelly_fraction=%{customdata[2]}<br>ce_strike_price=%{customdata[3]}<br>pe_strike_price=%{customdata[4]}<br>spread_percent=%{customdata[5]}<br>ce_premium=%{customdata[6]}<br>pe_premium=%{customdata[7]}<br>target=%{customdata[8]}<extra></extra>\",\"legendgroup\":\"TCS\",\"marker\":{\"color\":\"#FF6692\",\"size\":[25767.5],\"sizemode\":\"area\",\"sizeref\":76.14375,\"symbol\":\"circle\"},\"mode\":\"markers\",\"name\":\"TCS\",\"orientation\":\"v\",\"showlegend\":true,\"type\":\"scatter\",\"x\":[0.010155222790357918],\"xaxis\":\"x\",\"y\":[0.6362636961285609],\"yaxis\":\"y\"}],                        {\"legend\":{\"itemsizing\":\"constant\",\"title\":{\"text\":\"underlying_name\"},\"tracegroupgap\":0},\"margin\":{\"t\":60},\"template\":{\"data\":{\"bar\":[{\"error_x\":{\"color\":\"#2a3f5f\"},\"error_y\":{\"color\":\"#2a3f5f\"},\"marker\":{\"line\":{\"color\":\"#E5ECF6\",\"width\":0.5},\"pattern\":{\"fillmode\":\"overlay\",\"size\":10,\"solidity\":0.2}},\"type\":\"bar\"}],\"barpolar\":[{\"marker\":{\"line\":{\"color\":\"#E5ECF6\",\"width\":0.5},\"pattern\":{\"fillmode\":\"overlay\",\"size\":10,\"solidity\":0.2}},\"type\":\"barpolar\"}],\"carpet\":[{\"aaxis\":{\"endlinecolor\":\"#2a3f5f\",\"gridcolor\":\"white\",\"linecolor\":\"white\",\"minorgridcolor\":\"white\",\"startlinecolor\":\"#2a3f5f\"},\"baxis\":{\"endlinecolor\":\"#2a3f5f\",\"gridcolor\":\"white\",\"linecolor\":\"white\",\"minorgridcolor\":\"white\",\"startlinecolor\":\"#2a3f5f\"},\"type\":\"carpet\"}],\"choropleth\":[{\"colorbar\":{\"outlinewidth\":0,\"ticks\":\"\"},\"type\":\"choropleth\"}],\"contour\":[{\"colorbar\":{\"outlinewidth\":0,\"ticks\":\"\"},\"colorscale\":[[0.0,\"#0d0887\"],[0.1111111111111111,\"#46039f\"],[0.2222222222222222,\"#7201a8\"],[0.3333333333333333,\"#9c179e\"],[0.4444444444444444,\"#bd3786\"],[0.5555555555555556,\"#d8576b\"],[0.6666666666666666,\"#ed7953\"],[0.7777777777777778,\"#fb9f3a\"],[0.8888888888888888,\"#fdca26\"],[1.0,\"#f0f921\"]],\"type\":\"contour\"}],\"contourcarpet\":[{\"colorbar\":{\"outlinewidth\":0,\"ticks\":\"\"},\"type\":\"contourcarpet\"}],\"heatmap\":[{\"colorbar\":{\"outlinewidth\":0,\"ticks\":\"\"},\"colorscale\":[[0.0,\"#0d0887\"],[0.1111111111111111,\"#46039f\"],[0.2222222222222222,\"#7201a8\"],[0.3333333333333333,\"#9c179e\"],[0.4444444444444444,\"#bd3786\"],[0.5555555555555556,\"#d8576b\"],[0.6666666666666666,\"#ed7953\"],[0.7777777777777778,\"#fb9f3a\"],[0.8888888888888888,\"#fdca26\"],[1.0,\"#f0f921\"]],\"type\":\"heatmap\"}],\"heatmapgl\":[{\"colorbar\":{\"outlinewidth\":0,\"ticks\":\"\"},\"colorscale\":[[0.0,\"#0d0887\"],[0.1111111111111111,\"#46039f\"],[0.2222222222222222,\"#7201a8\"],[0.3333333333333333,\"#9c179e\"],[0.4444444444444444,\"#bd3786\"],[0.5555555555555556,\"#d8576b\"],[0.6666666666666666,\"#ed7953\"],[0.7777777777777778,\"#fb9f3a\"],[0.8888888888888888,\"#fdca26\"],[1.0,\"#f0f921\"]],\"type\":\"heatmapgl\"}],\"histogram\":[{\"marker\":{\"pattern\":{\"fillmode\":\"overlay\",\"size\":10,\"solidity\":0.2}},\"type\":\"histogram\"}],\"histogram2d\":[{\"colorbar\":{\"outlinewidth\":0,\"ticks\":\"\"},\"colorscale\":[[0.0,\"#0d0887\"],[0.1111111111111111,\"#46039f\"],[0.2222222222222222,\"#7201a8\"],[0.3333333333333333,\"#9c179e\"],[0.4444444444444444,\"#bd3786\"],[0.5555555555555556,\"#d8576b\"],[0.6666666666666666,\"#ed7953\"],[0.7777777777777778,\"#fb9f3a\"],[0.8888888888888888,\"#fdca26\"],[1.0,\"#f0f921\"]],\"type\":\"histogram2d\"}],\"histogram2dcontour\":[{\"colorbar\":{\"outlinewidth\":0,\"ticks\":\"\"},\"colorscale\":[[0.0,\"#0d0887\"],[0.1111111111111111,\"#46039f\"],[0.2222222222222222,\"#7201a8\"],[0.3333333333333333,\"#9c179e\"],[0.4444444444444444,\"#bd3786\"],[0.5555555555555556,\"#d8576b\"],[0.6666666666666666,\"#ed7953\"],[0.7777777777777778,\"#fb9f3a\"],[0.8888888888888888,\"#fdca26\"],[1.0,\"#f0f921\"]],\"type\":\"histogram2dcontour\"}],\"mesh3d\":[{\"colorbar\":{\"outlinewidth\":0,\"ticks\":\"\"},\"type\":\"mesh3d\"}],\"parcoords\":[{\"line\":{\"colorbar\":{\"outlinewidth\":0,\"ticks\":\"\"}},\"type\":\"parcoords\"}],\"pie\":[{\"automargin\":true,\"type\":\"pie\"}],\"scatter\":[{\"marker\":{\"colorbar\":{\"outlinewidth\":0,\"ticks\":\"\"}},\"type\":\"scatter\"}],\"scatter3d\":[{\"line\":{\"colorbar\":{\"outlinewidth\":0,\"ticks\":\"\"}},\"marker\":{\"colorbar\":{\"outlinewidth\":0,\"ticks\":\"\"}},\"type\":\"scatter3d\"}],\"scattercarpet\":[{\"marker\":{\"colorbar\":{\"outlinewidth\":0,\"ticks\":\"\"}},\"type\":\"scattercarpet\"}],\"scattergeo\":[{\"marker\":{\"colorbar\":{\"outlinewidth\":0,\"ticks\":\"\"}},\"type\":\"scattergeo\"}],\"scattergl\":[{\"marker\":{\"colorbar\":{\"outlinewidth\":0,\"ticks\":\"\"}},\"type\":\"scattergl\"}],\"scattermapbox\":[{\"marker\":{\"colorbar\":{\"outlinewidth\":0,\"ticks\":\"\"}},\"type\":\"scattermapbox\"}],\"scatterpolar\":[{\"marker\":{\"colorbar\":{\"outlinewidth\":0,\"ticks\":\"\"}},\"type\":\"scatterpolar\"}],\"scatterpolargl\":[{\"marker\":{\"colorbar\":{\"outlinewidth\":0,\"ticks\":\"\"}},\"type\":\"scatterpolargl\"}],\"scatterternary\":[{\"marker\":{\"colorbar\":{\"outlinewidth\":0,\"ticks\":\"\"}},\"type\":\"scatterternary\"}],\"surface\":[{\"colorbar\":{\"outlinewidth\":0,\"ticks\":\"\"},\"colorscale\":[[0.0,\"#0d0887\"],[0.1111111111111111,\"#46039f\"],[0.2222222222222222,\"#7201a8\"],[0.3333333333333333,\"#9c179e\"],[0.4444444444444444,\"#bd3786\"],[0.5555555555555556,\"#d8576b\"],[0.6666666666666666,\"#ed7953\"],[0.7777777777777778,\"#fb9f3a\"],[0.8888888888888888,\"#fdca26\"],[1.0,\"#f0f921\"]],\"type\":\"surface\"}],\"table\":[{\"cells\":{\"fill\":{\"color\":\"#EBF0F8\"},\"line\":{\"color\":\"white\"}},\"header\":{\"fill\":{\"color\":\"#C8D4E3\"},\"line\":{\"color\":\"white\"}},\"type\":\"table\"}]},\"layout\":{\"annotationdefaults\":{\"arrowcolor\":\"#2a3f5f\",\"arrowhead\":0,\"arrowwidth\":1},\"autotypenumbers\":\"strict\",\"coloraxis\":{\"colorbar\":{\"outlinewidth\":0,\"ticks\":\"\"}},\"colorscale\":{\"diverging\":[[0,\"#8e0152\"],[0.1,\"#c51b7d\"],[0.2,\"#de77ae\"],[0.3,\"#f1b6da\"],[0.4,\"#fde0ef\"],[0.5,\"#f7f7f7\"],[0.6,\"#e6f5d0\"],[0.7,\"#b8e186\"],[0.8,\"#7fbc41\"],[0.9,\"#4d9221\"],[1,\"#276419\"]],\"sequential\":[[0.0,\"#0d0887\"],[0.1111111111111111,\"#46039f\"],[0.2222222222222222,\"#7201a8\"],[0.3333333333333333,\"#9c179e\"],[0.4444444444444444,\"#bd3786\"],[0.5555555555555556,\"#d8576b\"],[0.6666666666666666,\"#ed7953\"],[0.7777777777777778,\"#fb9f3a\"],[0.8888888888888888,\"#fdca26\"],[1.0,\"#f0f921\"]],\"sequentialminus\":[[0.0,\"#0d0887\"],[0.1111111111111111,\"#46039f\"],[0.2222222222222222,\"#7201a8\"],[0.3333333333333333,\"#9c179e\"],[0.4444444444444444,\"#bd3786\"],[0.5555555555555556,\"#d8576b\"],[0.6666666666666666,\"#ed7953\"],[0.7777777777777778,\"#fb9f3a\"],[0.8888888888888888,\"#fdca26\"],[1.0,\"#f0f921\"]]},\"colorway\":[\"#636efa\",\"#EF553B\",\"#00cc96\",\"#ab63fa\",\"#FFA15A\",\"#19d3f3\",\"#FF6692\",\"#B6E880\",\"#FF97FF\",\"#FECB52\"],\"font\":{\"color\":\"#2a3f5f\"},\"geo\":{\"bgcolor\":\"white\",\"lakecolor\":\"white\",\"landcolor\":\"#E5ECF6\",\"showlakes\":true,\"showland\":true,\"subunitcolor\":\"white\"},\"hoverlabel\":{\"align\":\"left\"},\"hovermode\":\"closest\",\"mapbox\":{\"style\":\"light\"},\"paper_bgcolor\":\"white\",\"plot_bgcolor\":\"#E5ECF6\",\"polar\":{\"angularaxis\":{\"gridcolor\":\"white\",\"linecolor\":\"white\",\"ticks\":\"\"},\"bgcolor\":\"#E5ECF6\",\"radialaxis\":{\"gridcolor\":\"white\",\"linecolor\":\"white\",\"ticks\":\"\"}},\"scene\":{\"xaxis\":{\"backgroundcolor\":\"#E5ECF6\",\"gridcolor\":\"white\",\"gridwidth\":2,\"linecolor\":\"white\",\"showbackground\":true,\"ticks\":\"\",\"zerolinecolor\":\"white\"},\"yaxis\":{\"backgroundcolor\":\"#E5ECF6\",\"gridcolor\":\"white\",\"gridwidth\":2,\"linecolor\":\"white\",\"showbackground\":true,\"ticks\":\"\",\"zerolinecolor\":\"white\"},\"zaxis\":{\"backgroundcolor\":\"#E5ECF6\",\"gridcolor\":\"white\",\"gridwidth\":2,\"linecolor\":\"white\",\"showbackground\":true,\"ticks\":\"\",\"zerolinecolor\":\"white\"}},\"shapedefaults\":{\"line\":{\"color\":\"#2a3f5f\"}},\"ternary\":{\"aaxis\":{\"gridcolor\":\"white\",\"linecolor\":\"white\",\"ticks\":\"\"},\"baxis\":{\"gridcolor\":\"white\",\"linecolor\":\"white\",\"ticks\":\"\"},\"bgcolor\":\"#E5ECF6\",\"caxis\":{\"gridcolor\":\"white\",\"linecolor\":\"white\",\"ticks\":\"\"}},\"title\":{\"x\":0.05},\"xaxis\":{\"automargin\":true,\"gridcolor\":\"white\",\"linecolor\":\"white\",\"ticks\":\"\",\"title\":{\"standoff\":15},\"zerolinecolor\":\"white\",\"zerolinewidth\":2},\"yaxis\":{\"automargin\":true,\"gridcolor\":\"white\",\"linecolor\":\"white\",\"ticks\":\"\",\"title\":{\"standoff\":15},\"zerolinecolor\":\"white\",\"zerolinewidth\":2}}},\"xaxis\":{\"anchor\":\"y\",\"domain\":[0.0,1.0],\"title\":{\"text\":\"p_not_breakeven_tp\"}},\"yaxis\":{\"anchor\":\"x\",\"domain\":[0.0,1.0],\"title\":{\"text\":\"p_not_breakeven_volatility\"}}},                        {\"responsive\": true}                    ).then(function(){\n",
       "                            \n",
       "var gd = document.getElementById('46b0e1d7-a1b9-4178-a1de-45c1b78a1f39');\n",
       "var x = new MutationObserver(function (mutations, observer) {{\n",
       "        var display = window.getComputedStyle(gd).display;\n",
       "        if (!display || display === 'none') {{\n",
       "            console.log([gd, 'removed!']);\n",
       "            Plotly.purge(gd);\n",
       "            observer.disconnect();\n",
       "        }}\n",
       "}});\n",
       "\n",
       "// Listen for the removal of the full notebook cells\n",
       "var notebookContainer = gd.closest('#notebook-container');\n",
       "if (notebookContainer) {{\n",
       "    x.observe(notebookContainer, {childList: true});\n",
       "}}\n",
       "\n",
       "// Listen for the clearing of the current output cell\n",
       "var outputEl = gd.closest('.output');\n",
       "if (outputEl) {{\n",
       "    x.observe(outputEl, {childList: true});\n",
       "}}\n",
       "\n",
       "                        })                };                });            </script>        </div>"
      ]
     },
     "metadata": {},
     "output_type": "display_data"
    }
   ],
   "source": [
    "fig = px.scatter(all_pairs[kelly_capital_filter].sort_values('p_dist').drop_duplicates(['underlying_name', 'expiry']),\n",
    "                 x='p_not_breakeven_tp', y='p_not_breakeven_volatility', \n",
    "                 size='cost', color='underlying_name', \n",
    "                 hover_data=['expiry', 'underlying_value', 'kelly_fraction',\n",
    "                             'ce_strike_price', 'pe_strike_price', 'spread_percent',\n",
    "                             'ce_premium', 'pe_premium', \n",
    "                             'target', 'cost'])\n",
    "\n",
    "fig.show()"
   ]
  },
  {
   "cell_type": "code",
   "execution_count": 186,
   "id": "0d2dad7b-60b6-41e3-83b2-0cb6927e20ec",
   "metadata": {},
   "outputs": [
    {
     "data": {
      "text/html": [
       "<div>\n",
       "<style scoped>\n",
       "    .dataframe tbody tr th:only-of-type {\n",
       "        vertical-align: middle;\n",
       "    }\n",
       "\n",
       "    .dataframe tbody tr th {\n",
       "        vertical-align: top;\n",
       "    }\n",
       "\n",
       "    .dataframe thead th {\n",
       "        text-align: right;\n",
       "    }\n",
       "</style>\n",
       "<table border=\"1\" class=\"dataframe\">\n",
       "  <thead>\n",
       "    <tr style=\"text-align: right;\">\n",
       "      <th></th>\n",
       "      <th></th>\n",
       "      <th>ce_strike_price</th>\n",
       "      <th>pe_strike_price</th>\n",
       "      <th>underlying_value</th>\n",
       "      <th>spread</th>\n",
       "    </tr>\n",
       "    <tr>\n",
       "      <th>underlying_name</th>\n",
       "      <th>expiry</th>\n",
       "      <th></th>\n",
       "      <th></th>\n",
       "      <th></th>\n",
       "      <th></th>\n",
       "    </tr>\n",
       "  </thead>\n",
       "  <tbody>\n",
       "    <tr>\n",
       "      <th>AARTIIND</th>\n",
       "      <th>2022-01-27</th>\n",
       "      <td>1060.0</td>\n",
       "      <td>940.0</td>\n",
       "      <td>993.00</td>\n",
       "      <td>100.0</td>\n",
       "    </tr>\n",
       "    <tr>\n",
       "      <th>ASIANPAINT</th>\n",
       "      <th>2022-01-27</th>\n",
       "      <td>3660.0</td>\n",
       "      <td>3260.0</td>\n",
       "      <td>3454.25</td>\n",
       "      <td>240.0</td>\n",
       "    </tr>\n",
       "    <tr>\n",
       "      <th rowspan=\"3\" valign=\"top\">BANKNIFTY</th>\n",
       "      <th>2022-01-13</th>\n",
       "      <td>37000.0</td>\n",
       "      <td>36800.0</td>\n",
       "      <td>36840.15</td>\n",
       "      <td>200.0</td>\n",
       "    </tr>\n",
       "    <tr>\n",
       "      <th>2022-01-20</th>\n",
       "      <td>38000.0</td>\n",
       "      <td>35600.0</td>\n",
       "      <td>36840.15</td>\n",
       "      <td>1300.0</td>\n",
       "    </tr>\n",
       "    <tr>\n",
       "      <th>2022-01-27</th>\n",
       "      <td>38700.0</td>\n",
       "      <td>34800.0</td>\n",
       "      <td>36840.15</td>\n",
       "      <td>2300.0</td>\n",
       "    </tr>\n",
       "    <tr>\n",
       "      <th>CHAMBLFERT</th>\n",
       "      <th>2022-01-27</th>\n",
       "      <td>445.0</td>\n",
       "      <td>340.0</td>\n",
       "      <td>409.50</td>\n",
       "      <td>70.0</td>\n",
       "    </tr>\n",
       "    <tr>\n",
       "      <th>CIPLA</th>\n",
       "      <th>2022-01-27</th>\n",
       "      <td>1010.0</td>\n",
       "      <td>840.0</td>\n",
       "      <td>925.00</td>\n",
       "      <td>90.0</td>\n",
       "    </tr>\n",
       "    <tr>\n",
       "      <th>COALINDIA</th>\n",
       "      <th>2022-01-27</th>\n",
       "      <td>168.5</td>\n",
       "      <td>140.0</td>\n",
       "      <td>153.00</td>\n",
       "      <td>16.0</td>\n",
       "    </tr>\n",
       "    <tr>\n",
       "      <th>COFORGE</th>\n",
       "      <th>2022-01-27</th>\n",
       "      <td>7000.0</td>\n",
       "      <td>5800.0</td>\n",
       "      <td>6112.00</td>\n",
       "      <td>900.0</td>\n",
       "    </tr>\n",
       "    <tr>\n",
       "      <th>DLF</th>\n",
       "      <th>2022-01-27</th>\n",
       "      <td>445.0</td>\n",
       "      <td>335.0</td>\n",
       "      <td>394.50</td>\n",
       "      <td>60.0</td>\n",
       "    </tr>\n",
       "    <tr>\n",
       "      <th>GMRINFRA</th>\n",
       "      <th>2022-01-27</th>\n",
       "      <td>52.0</td>\n",
       "      <td>45.0</td>\n",
       "      <td>48.40</td>\n",
       "      <td>5.0</td>\n",
       "    </tr>\n",
       "    <tr>\n",
       "      <th>GRASIM</th>\n",
       "      <th>2022-01-27</th>\n",
       "      <td>1820.0</td>\n",
       "      <td>1560.0</td>\n",
       "      <td>1692.00</td>\n",
       "      <td>140.0</td>\n",
       "    </tr>\n",
       "    <tr>\n",
       "      <th>HCLTECH</th>\n",
       "      <th>2022-01-27</th>\n",
       "      <td>1450.0</td>\n",
       "      <td>1210.0</td>\n",
       "      <td>1335.50</td>\n",
       "      <td>130.0</td>\n",
       "    </tr>\n",
       "    <tr>\n",
       "      <th>HINDALCO</th>\n",
       "      <th>2022-01-27</th>\n",
       "      <td>510.0</td>\n",
       "      <td>470.0</td>\n",
       "      <td>476.00</td>\n",
       "      <td>40.0</td>\n",
       "    </tr>\n",
       "    <tr>\n",
       "      <th>HINDUNILVR</th>\n",
       "      <th>2022-01-27</th>\n",
       "      <td>2460.0</td>\n",
       "      <td>2360.0</td>\n",
       "      <td>2405.95</td>\n",
       "      <td>100.0</td>\n",
       "    </tr>\n",
       "    <tr>\n",
       "      <th>INDHOTEL</th>\n",
       "      <th>2022-01-27</th>\n",
       "      <td>197.5</td>\n",
       "      <td>160.0</td>\n",
       "      <td>184.80</td>\n",
       "      <td>27.5</td>\n",
       "    </tr>\n",
       "    <tr>\n",
       "      <th>INFY</th>\n",
       "      <th>2022-01-27</th>\n",
       "      <td>2080.0</td>\n",
       "      <td>1800.0</td>\n",
       "      <td>1901.00</td>\n",
       "      <td>180.0</td>\n",
       "    </tr>\n",
       "    <tr>\n",
       "      <th>ITC</th>\n",
       "      <th>2022-01-27</th>\n",
       "      <td>232.0</td>\n",
       "      <td>206.0</td>\n",
       "      <td>219.80</td>\n",
       "      <td>16.0</td>\n",
       "    </tr>\n",
       "    <tr>\n",
       "      <th>JSWSTEEL</th>\n",
       "      <th>2022-01-27</th>\n",
       "      <td>730.0</td>\n",
       "      <td>620.0</td>\n",
       "      <td>670.10</td>\n",
       "      <td>60.0</td>\n",
       "    </tr>\n",
       "    <tr>\n",
       "      <th>KOTAKBANK</th>\n",
       "      <th>2022-01-27</th>\n",
       "      <td>1980.0</td>\n",
       "      <td>1720.0</td>\n",
       "      <td>1852.60</td>\n",
       "      <td>140.0</td>\n",
       "    </tr>\n",
       "    <tr>\n",
       "      <th>LALPATHLAB</th>\n",
       "      <th>2022-01-27</th>\n",
       "      <td>3950.0</td>\n",
       "      <td>3300.0</td>\n",
       "      <td>3829.45</td>\n",
       "      <td>550.0</td>\n",
       "    </tr>\n",
       "    <tr>\n",
       "      <th>MPHASIS</th>\n",
       "      <th>2022-01-27</th>\n",
       "      <td>3700.0</td>\n",
       "      <td>3000.0</td>\n",
       "      <td>3395.00</td>\n",
       "      <td>400.0</td>\n",
       "    </tr>\n",
       "    <tr>\n",
       "      <th rowspan=\"3\" valign=\"top\">NIFTY</th>\n",
       "      <th>2022-01-20</th>\n",
       "      <td>17850.0</td>\n",
       "      <td>17550.0</td>\n",
       "      <td>17805.25</td>\n",
       "      <td>300.0</td>\n",
       "    </tr>\n",
       "    <tr>\n",
       "      <th>2022-01-27</th>\n",
       "      <td>18200.0</td>\n",
       "      <td>17350.0</td>\n",
       "      <td>17805.25</td>\n",
       "      <td>550.0</td>\n",
       "    </tr>\n",
       "    <tr>\n",
       "      <th>2022-02-03</th>\n",
       "      <td>18300.0</td>\n",
       "      <td>16900.0</td>\n",
       "      <td>17805.25</td>\n",
       "      <td>1100.0</td>\n",
       "    </tr>\n",
       "    <tr>\n",
       "      <th>NMDC</th>\n",
       "      <th>2022-01-27</th>\n",
       "      <td>147.5</td>\n",
       "      <td>127.5</td>\n",
       "      <td>135.85</td>\n",
       "      <td>12.5</td>\n",
       "    </tr>\n",
       "    <tr>\n",
       "      <th>PEL</th>\n",
       "      <th>2022-01-27</th>\n",
       "      <td>2900.0</td>\n",
       "      <td>2350.0</td>\n",
       "      <td>2669.60</td>\n",
       "      <td>350.0</td>\n",
       "    </tr>\n",
       "    <tr>\n",
       "      <th>POWERGRID</th>\n",
       "      <th>2022-01-27</th>\n",
       "      <td>217.5</td>\n",
       "      <td>205.0</td>\n",
       "      <td>210.40</td>\n",
       "      <td>12.5</td>\n",
       "    </tr>\n",
       "    <tr>\n",
       "      <th>RELIANCE</th>\n",
       "      <th>2022-01-27</th>\n",
       "      <td>2600.0</td>\n",
       "      <td>2340.0</td>\n",
       "      <td>2460.00</td>\n",
       "      <td>160.0</td>\n",
       "    </tr>\n",
       "    <tr>\n",
       "      <th>SBIN</th>\n",
       "      <th>2022-01-27</th>\n",
       "      <td>505.0</td>\n",
       "      <td>440.0</td>\n",
       "      <td>483.75</td>\n",
       "      <td>45.0</td>\n",
       "    </tr>\n",
       "    <tr>\n",
       "      <th>STAR</th>\n",
       "      <th>2022-01-27</th>\n",
       "      <td>500.0</td>\n",
       "      <td>440.0</td>\n",
       "      <td>450.00</td>\n",
       "      <td>60.0</td>\n",
       "    </tr>\n",
       "    <tr>\n",
       "      <th>TCS</th>\n",
       "      <th>2022-01-27</th>\n",
       "      <td>4220.0</td>\n",
       "      <td>3540.0</td>\n",
       "      <td>3878.70</td>\n",
       "      <td>360.0</td>\n",
       "    </tr>\n",
       "    <tr>\n",
       "      <th>UPL</th>\n",
       "      <th>2022-01-27</th>\n",
       "      <td>820.0</td>\n",
       "      <td>710.0</td>\n",
       "      <td>762.25</td>\n",
       "      <td>60.0</td>\n",
       "    </tr>\n",
       "    <tr>\n",
       "      <th>VEDL</th>\n",
       "      <th>2022-01-27</th>\n",
       "      <td>370.0</td>\n",
       "      <td>305.0</td>\n",
       "      <td>335.70</td>\n",
       "      <td>40.0</td>\n",
       "    </tr>\n",
       "  </tbody>\n",
       "</table>\n",
       "</div>"
      ],
      "text/plain": [
       "                            ce_strike_price  pe_strike_price  \\\n",
       "underlying_name expiry                                         \n",
       "AARTIIND        2022-01-27           1060.0            940.0   \n",
       "ASIANPAINT      2022-01-27           3660.0           3260.0   \n",
       "BANKNIFTY       2022-01-13          37000.0          36800.0   \n",
       "                2022-01-20          38000.0          35600.0   \n",
       "                2022-01-27          38700.0          34800.0   \n",
       "CHAMBLFERT      2022-01-27            445.0            340.0   \n",
       "CIPLA           2022-01-27           1010.0            840.0   \n",
       "COALINDIA       2022-01-27            168.5            140.0   \n",
       "COFORGE         2022-01-27           7000.0           5800.0   \n",
       "DLF             2022-01-27            445.0            335.0   \n",
       "GMRINFRA        2022-01-27             52.0             45.0   \n",
       "GRASIM          2022-01-27           1820.0           1560.0   \n",
       "HCLTECH         2022-01-27           1450.0           1210.0   \n",
       "HINDALCO        2022-01-27            510.0            470.0   \n",
       "HINDUNILVR      2022-01-27           2460.0           2360.0   \n",
       "INDHOTEL        2022-01-27            197.5            160.0   \n",
       "INFY            2022-01-27           2080.0           1800.0   \n",
       "ITC             2022-01-27            232.0            206.0   \n",
       "JSWSTEEL        2022-01-27            730.0            620.0   \n",
       "KOTAKBANK       2022-01-27           1980.0           1720.0   \n",
       "LALPATHLAB      2022-01-27           3950.0           3300.0   \n",
       "MPHASIS         2022-01-27           3700.0           3000.0   \n",
       "NIFTY           2022-01-20          17850.0          17550.0   \n",
       "                2022-01-27          18200.0          17350.0   \n",
       "                2022-02-03          18300.0          16900.0   \n",
       "NMDC            2022-01-27            147.5            127.5   \n",
       "PEL             2022-01-27           2900.0           2350.0   \n",
       "POWERGRID       2022-01-27            217.5            205.0   \n",
       "RELIANCE        2022-01-27           2600.0           2340.0   \n",
       "SBIN            2022-01-27            505.0            440.0   \n",
       "STAR            2022-01-27            500.0            440.0   \n",
       "TCS             2022-01-27           4220.0           3540.0   \n",
       "UPL             2022-01-27            820.0            710.0   \n",
       "VEDL            2022-01-27            370.0            305.0   \n",
       "\n",
       "                            underlying_value  spread  \n",
       "underlying_name expiry                                \n",
       "AARTIIND        2022-01-27            993.00   100.0  \n",
       "ASIANPAINT      2022-01-27           3454.25   240.0  \n",
       "BANKNIFTY       2022-01-13          36840.15   200.0  \n",
       "                2022-01-20          36840.15  1300.0  \n",
       "                2022-01-27          36840.15  2300.0  \n",
       "CHAMBLFERT      2022-01-27            409.50    70.0  \n",
       "CIPLA           2022-01-27            925.00    90.0  \n",
       "COALINDIA       2022-01-27            153.00    16.0  \n",
       "COFORGE         2022-01-27           6112.00   900.0  \n",
       "DLF             2022-01-27            394.50    60.0  \n",
       "GMRINFRA        2022-01-27             48.40     5.0  \n",
       "GRASIM          2022-01-27           1692.00   140.0  \n",
       "HCLTECH         2022-01-27           1335.50   130.0  \n",
       "HINDALCO        2022-01-27            476.00    40.0  \n",
       "HINDUNILVR      2022-01-27           2405.95   100.0  \n",
       "INDHOTEL        2022-01-27            184.80    27.5  \n",
       "INFY            2022-01-27           1901.00   180.0  \n",
       "ITC             2022-01-27            219.80    16.0  \n",
       "JSWSTEEL        2022-01-27            670.10    60.0  \n",
       "KOTAKBANK       2022-01-27           1852.60   140.0  \n",
       "LALPATHLAB      2022-01-27           3829.45   550.0  \n",
       "MPHASIS         2022-01-27           3395.00   400.0  \n",
       "NIFTY           2022-01-20          17805.25   300.0  \n",
       "                2022-01-27          17805.25   550.0  \n",
       "                2022-02-03          17805.25  1100.0  \n",
       "NMDC            2022-01-27            135.85    12.5  \n",
       "PEL             2022-01-27           2669.60   350.0  \n",
       "POWERGRID       2022-01-27            210.40    12.5  \n",
       "RELIANCE        2022-01-27           2460.00   160.0  \n",
       "SBIN            2022-01-27            483.75    45.0  \n",
       "STAR            2022-01-27            450.00    60.0  \n",
       "TCS             2022-01-27           3878.70   360.0  \n",
       "UPL             2022-01-27            762.25    60.0  \n",
       "VEDL            2022-01-27            335.70    40.0  "
      ]
     },
     "execution_count": 186,
     "metadata": {},
     "output_type": "execute_result"
    }
   ],
   "source": [
    "all_pairs[disp_filter].groupby(['underlying_name', 'expiry']).agg({'ce_strike_price':'max',\n",
    "                                                                   'pe_strike_price':'min',\n",
    "                                                                   'underlying_value':'max',\n",
    "                                                                   'spread':'max'})"
   ]
  },
  {
   "cell_type": "code",
   "execution_count": 123,
   "id": "c8420329-7ef6-4478-a414-ccc938664132",
   "metadata": {
    "tags": []
   },
   "outputs": [
    {
     "data": {
      "application/vnd.plotly.v1+json": {
       "config": {
        "plotlyServerURL": "https://plot.ly"
       },
       "data": [
        {
         "customdata": [
          [
           "2022-01-20T00:00:00",
           17757.35,
           17800,
           17750,
           198.95,
           199.1,
           439.615,
           19982.5
          ],
          [
           "2022-01-20T00:00:00",
           17757.35,
           17850,
           17750,
           173.1,
           199.1,
           411.18000000000006,
           18690
          ],
          [
           "2022-01-27T00:00:00",
           17757.35,
           17850,
           17550,
           233.1,
           171.6,
           446.93000000000006,
           20315
          ],
          [
           "2022-01-27T00:00:00",
           17757.35,
           17850,
           17600,
           233.1,
           187,
           463.87,
           21085
          ],
          [
           "2022-01-27T00:00:00",
           17757.35,
           17950,
           17600,
           182.15,
           187,
           407.82500000000005,
           18537.5
          ],
          [
           "2022-02-03T00:00:00",
           17757.35,
           17800,
           17700,
           380,
           316.75,
           768.1850000000001,
           34917.5
          ],
          [
           "2022-02-03T00:00:00",
           17757.35,
           18000,
           17700,
           270.9,
           316.75,
           648.1750000000001,
           29462.5
          ]
         ],
         "hovertemplate": "underlying_name=NIFTY<br>p_not_breakeven_tp=%{x}<br>p_not_breakeven_volatility=%{y}<br>spread_percent=%{z}<br>kelly_fraction=%{marker.size}<br>expiry=%{customdata[0]}<br>underlying_value=%{customdata[1]}<br>ce_strike_price=%{customdata[2]}<br>pe_strike_price=%{customdata[3]}<br>ce_premium=%{customdata[4]}<br>pe_premium=%{customdata[5]}<br>target=%{customdata[6]}<br>cost=%{customdata[7]}<extra></extra>",
         "legendgroup": "NIFTY",
         "marker": {
          "color": "#636efa",
          "size": [
           0.28739225712198696,
           0.2516983199415629,
           0.22934623813002203,
           0.2546566837107377,
           0.1678305332359385,
           0.35437910883856827,
           0.30116873630387153
          ],
          "sizemode": "area",
          "sizeref": 0.0008859477720964206,
          "symbol": "circle"
         },
         "mode": "markers",
         "name": "NIFTY",
         "scene": "scene",
         "showlegend": true,
         "type": "scatter3d",
         "x": [
          0.03827611395178962,
          0.04248539079620163,
          0.03674945215485755,
          0.034514243973703444,
          0.043305332359386425,
          0.011539444850255662,
          0.018528122717311902
         ],
         "y": [
          0.32984660336011684,
          0.3234477720964208,
          0.4031592403214025,
          0.4002008765522279,
          0.3991161431701972,
          0.5302264426588751,
          0.5135500365230095
         ],
         "z": [
          0.0275725263060085,
          0.02878695300819098,
          0.042063145683336765,
          0.04020138139981473,
          0.042676694439204056,
          0.048891585737736776,
          0.053396199320281466
         ]
        },
        {
         "customdata": [
          [
           "2022-01-20T00:00:00",
           37590.65,
           37600,
           37200,
           645,
           440.35,
           1197.405,
           27213.75
          ],
          [
           "2022-01-27T00:00:00",
           37590.65,
           37600,
           37400,
           815.1,
           637.2,
           1601.0500000000002,
           36387.5
          ],
          [
           "2022-01-27T00:00:00",
           37590.65,
           37800,
           37400,
           718.95,
           637.2,
           1495.285,
           33983.75
          ],
          [
           "2022-01-27T00:00:00",
           37590.65,
           37900,
           37400,
           668.05,
           637.2,
           1439.295,
           32711.25
          ],
          [
           "2022-01-27T00:00:00",
           37590.65,
           37600,
           37500,
           815.1,
           676.85,
           1644.6650000000002,
           37378.75
          ],
          [
           "2022-01-27T00:00:00",
           37590.65,
           37800,
           37500,
           718.95,
           676.85,
           1538.9,
           34975
          ],
          [
           "2022-01-27T00:00:00",
           37590.65,
           37900,
           37500,
           668.05,
           676.85,
           1482.91,
           33702.5
          ],
          [
           "2022-01-27T00:00:00",
           37590.65,
           38000,
           37500,
           620.25,
           676.85,
           1430.3300000000002,
           32507.5
          ],
          [
           "2022-01-27T00:00:00",
           37590.65,
           38200,
           37500,
           538.25,
           676.85,
           1340.13,
           30457.5
          ]
         ],
         "hovertemplate": "underlying_name=BANKNIFTY<br>p_not_breakeven_tp=%{x}<br>p_not_breakeven_volatility=%{y}<br>spread_percent=%{z}<br>kelly_fraction=%{marker.size}<br>expiry=%{customdata[0]}<br>underlying_value=%{customdata[1]}<br>ce_strike_price=%{customdata[2]}<br>pe_strike_price=%{customdata[3]}<br>ce_premium=%{customdata[4]}<br>pe_premium=%{customdata[5]}<br>target=%{customdata[6]}<br>cost=%{customdata[7]}<extra></extra>",
         "legendgroup": "BANKNIFTY",
         "marker": {
          "color": "#EF553B",
          "size": [
           0.2669192841490139,
           0.3383473338203068,
           0.30822680788897006,
           0.2978816654492331,
           0.3526880934989042,
           0.3289262235208182,
           0.3168407596785974,
           0.3002447041636231,
           0.2747589481373266
          ],
          "sizemode": "area",
          "sizeref": 0.0008859477720964206,
          "symbol": "circle"
         },
         "mode": "markers",
         "name": "BANKNIFTY",
         "scene": "scene",
         "showlegend": true,
         "type": "scatter3d",
         "x": [
          0.029353542731921114,
          0.013184806428049667,
          0.017118334550766993,
          0.018528122717311902,
          0.012397735573411253,
          0.015423666910153396,
          0.017118334550766993,
          0.018690650109569024,
          0.022012417823228627
         ],
         "y": [
          0.43954528853177505,
          0.5298046018991965,
          0.52058984660336,
          0.5168371073776479,
          0.5233345507669833,
          0.5168371073776479,
          0.5119758948137327,
          0.5128487947406867,
          0.5051168736303872
         ],
         "z": [
          0.04249474270862568,
          0.04791218028951349,
          0.050419053674251445,
          0.051589823533245635,
          0.046412206226814384,
          0.04891907961155234,
          0.05008984947054653,
          0.05135133337678386,
          0.05427227249329288
         ]
        },
        {
         "customdata": [
          [
           "2022-01-27T00:00:00",
           2416.85,
           2420,
           2360,
           46,
           20.15,
           73.05833333333335,
           19925
          ]
         ],
         "hovertemplate": "underlying_name=HINDUNILVR<br>p_not_breakeven_tp=%{x}<br>p_not_breakeven_volatility=%{y}<br>spread_percent=%{z}<br>kelly_fraction=%{marker.size}<br>expiry=%{customdata[0]}<br>underlying_value=%{customdata[1]}<br>ce_strike_price=%{customdata[2]}<br>pe_strike_price=%{customdata[3]}<br>ce_premium=%{customdata[4]}<br>pe_premium=%{customdata[5]}<br>target=%{customdata[6]}<br>cost=%{customdata[7]}<extra></extra>",
         "legendgroup": "HINDUNILVR",
         "marker": {
          "color": "#00cc96",
          "size": [
           0.22481373265157056
          ],
          "sizemode": "area",
          "sizeref": 0.0008859477720964206,
          "symbol": "circle"
         },
         "mode": "markers",
         "name": "HINDUNILVR",
         "scene": "scene",
         "showlegend": true,
         "type": "scatter3d",
         "x": [
          0.029561723886048212
         ],
         "y": [
          0.47956902848794736
         ],
         "z": [
          0.05505444414561654
         ]
        },
        {
         "customdata": [
          [
           "2022-01-27T00:00:00",
           3830,
           3840,
           3820,
           104,
           94.65,
           219.1016666666667,
           29877.5
          ],
          [
           "2022-01-27T00:00:00",
           3830,
           3900,
           3820,
           76.6,
           94.65,
           188.96166666666667,
           25767.5
          ],
          [
           "2022-01-27T00:00:00",
           3830,
           3920,
           3820,
           70.25,
           94.65,
           181.9766666666667,
           24815
          ]
         ],
         "hovertemplate": "underlying_name=TCS<br>p_not_breakeven_tp=%{x}<br>p_not_breakeven_volatility=%{y}<br>spread_percent=%{z}<br>kelly_fraction=%{marker.size}<br>expiry=%{customdata[0]}<br>underlying_value=%{customdata[1]}<br>ce_strike_price=%{customdata[2]}<br>pe_strike_price=%{customdata[3]}<br>ce_premium=%{customdata[4]}<br>pe_premium=%{customdata[5]}<br>target=%{customdata[6]}<br>cost=%{customdata[7]}<extra></extra>",
         "legendgroup": "TCS",
         "marker": {
          "color": "#ab63fa",
          "size": [
           0.29790905770635506,
           0.26218407596785986,
           0.23612856099342583
          ],
          "sizemode": "area",
          "sizeref": 0.0008859477720964206,
          "symbol": "circle"
         },
         "mode": "markers",
         "name": "TCS",
         "scene": "scene",
         "showlegend": true,
         "type": "scatter3d",
         "x": [
          0.006239956172388599,
          0.010155222790357918,
          0.012397735573411253
         ],
         "y": [
          0.6396913805697589,
          0.6362636961285609,
          0.6398940832724617
         ],
         "z": [
          0.06242863359442995,
          0.07022497824194954,
          0.07362315056570932
         ]
        },
        {
         "customdata": [
          [
           "2022-01-27T00:00:00",
           3566,
           3600,
           3480,
           74.35,
           50.85,
           138.30666666666667,
           18860
          ],
          [
           "2022-01-27T00:00:00",
           3566,
           3600,
           3540,
           74.35,
           73.15,
           162.83666666666667,
           22205
          ],
          [
           "2022-01-27T00:00:00",
           3566,
           3620,
           3540,
           65.8,
           73.15,
           153.43166666666667,
           20922.5
          ],
          [
           "2022-01-27T00:00:00",
           3566,
           3640,
           3540,
           58.4,
           73.15,
           145.29166666666669,
           19812.5
          ],
          [
           "2022-01-27T00:00:00",
           3566,
           3660,
           3540,
           50.25,
           73.15,
           136.32666666666668,
           18590
          ],
          [
           "2022-01-27T00:00:00",
           3566,
           3600,
           3560,
           74.35,
           83.5,
           174.22166666666666,
           23757.5
          ],
          [
           "2022-01-27T00:00:00",
           3566,
           3620,
           3560,
           65.8,
           83.5,
           164.8166666666667,
           22475
          ],
          [
           "2022-01-27T00:00:00",
           3566,
           3640,
           3560,
           58.4,
           83.5,
           156.67666666666668,
           21365
          ],
          [
           "2022-01-27T00:00:00",
           3566,
           3660,
           3560,
           50.25,
           83.5,
           147.71166666666667,
           20142.5
          ]
         ],
         "hovertemplate": "underlying_name=ASIANPAINT<br>p_not_breakeven_tp=%{x}<br>p_not_breakeven_volatility=%{y}<br>spread_percent=%{z}<br>kelly_fraction=%{marker.size}<br>expiry=%{customdata[0]}<br>underlying_value=%{customdata[1]}<br>ce_strike_price=%{customdata[2]}<br>pe_strike_price=%{customdata[3]}<br>ce_premium=%{customdata[4]}<br>pe_premium=%{customdata[5]}<br>target=%{customdata[6]}<br>cost=%{customdata[7]}<extra></extra>",
         "legendgroup": "ASIANPAINT",
         "marker": {
          "color": "#FFA15A",
          "size": [
           0.17898466033601176,
           0.28188458728999266,
           0.24888239590942307,
           0.21953981008035062,
           0.1857103725346969,
           0.3059422936449964,
           0.2808436815193571,
           0.2569466764061358,
           0.22766983199415633
          ],
          "sizemode": "area",
          "sizeref": 0.0008859477720964206,
          "symbol": "circle"
         },
         "mode": "markers",
         "name": "ASIANPAINT",
         "scene": "scene",
         "showlegend": true,
         "type": "scatter3d",
         "x": [
          0.021610664718772824,
          0.012702702702702703,
          0.015573411249086922,
          0.018528122717311902,
          0.022012417823228627,
          0.009762600438276111,
          0.012397735573411253,
          0.014570854638422214,
          0.018040540540540544
         ],
         "y": [
          0.60490869247626,
          0.5910883856829803,
          0.5953834915997077,
          0.5951789627465304,
          0.5941654492330168,
          0.5964317019722425,
          0.5951789627465304,
          0.5973447772096421,
          0.5919247626004382
         ],
         "z": [
          0.07243596934006356,
          0.06248925032716396,
          0.06546036642363058,
          0.06878622172368667,
          0.0718807253692279,
          0.060073378201532995,
          0.06304449429799963,
          0.06637034959805571,
          0.06946485324359694
         ]
        },
        {
         "customdata": [
          [
           "2022-01-27T00:00:00",
           218.3,
           221,
           217,
           4.1,
           3.6,
           8.4975,
           24720
          ],
          [
           "2022-01-27T00:00:00",
           218.3,
           222,
           217,
           3.7,
           3.6,
           8.057500000000001,
           23440
          ]
         ],
         "hovertemplate": "underlying_name=ITC<br>p_not_breakeven_tp=%{x}<br>p_not_breakeven_volatility=%{y}<br>spread_percent=%{z}<br>kelly_fraction=%{marker.size}<br>expiry=%{customdata[0]}<br>underlying_value=%{customdata[1]}<br>ce_strike_price=%{customdata[2]}<br>pe_strike_price=%{customdata[3]}<br>ce_premium=%{customdata[4]}<br>pe_premium=%{customdata[5]}<br>target=%{customdata[6]}<br>cost=%{customdata[7]}<extra></extra>",
         "legendgroup": "ITC",
         "marker": {
          "color": "#19d3f3",
          "size": [
           0.2703305332359387,
           0.24267713659605558
          ],
          "sizemode": "area",
          "sizeref": 0.0008859477720964206,
          "symbol": "circle"
         },
         "mode": "markers",
         "name": "ITC",
         "scene": "scene",
         "showlegend": true,
         "type": "scatter3d",
         "x": [
          0.018528122717311902,
          0.021610664718772824
         ],
         "y": [
          0.5443882395909423,
          0.5412162162162162
         ],
         "z": [
          0.05724919835089327,
          0.05981447549244159
         ]
        },
        {
         "customdata": [
          [
           "2022-01-27T00:00:00",
           918,
           930,
           910,
           21.15,
           18.5,
           43.75038461538462,
           25852.5
          ]
         ],
         "hovertemplate": "underlying_name=CIPLA<br>p_not_breakeven_tp=%{x}<br>p_not_breakeven_volatility=%{y}<br>spread_percent=%{z}<br>kelly_fraction=%{marker.size}<br>expiry=%{customdata[0]}<br>underlying_value=%{customdata[1]}<br>ce_strike_price=%{customdata[2]}<br>pe_strike_price=%{customdata[3]}<br>ce_premium=%{customdata[4]}<br>pe_premium=%{customdata[5]}<br>target=%{customdata[6]}<br>cost=%{customdata[7]}<extra></extra>",
         "legendgroup": "CIPLA",
         "marker": {
          "color": "#FF6692",
          "size": [
           0.25548758217677137
          ],
          "sizemode": "area",
          "sizeref": 0.0008859477720964206,
          "symbol": "circle"
         },
         "mode": "markers",
         "name": "CIPLA",
         "scene": "scene",
         "showlegend": true,
         "type": "scatter3d",
         "x": [
          0.011539444850255662
         ],
         "y": [
          0.629117969320672
         ],
         "z": [
          0.06944486341545165
         ]
        }
       ],
       "layout": {
        "autosize": true,
        "dragmode": "pan",
        "legend": {
         "itemsizing": "constant",
         "title": {
          "text": "underlying_name"
         },
         "tracegroupgap": 0
        },
        "margin": {
         "t": 60
        },
        "scene": {
         "aspectmode": "auto",
         "aspectratio": {
          "x": 1,
          "y": 1,
          "z": 1
         },
         "camera": {
          "center": {
           "x": 0.06439914927590402,
           "y": -0.155089635128062,
           "z": -0.5931161935061036
          },
          "eye": {
           "x": 1.3349276524438178,
           "y": -1.3982131319370539,
           "z": 0.17761495415981732
          },
          "projection": {
           "type": "perspective"
          },
          "up": {
           "x": -0.031049391088453615,
           "y": 0.5035685787034225,
           "z": 0.8633971402869315
          }
         },
         "domain": {
          "x": [
           0,
           1
          ],
          "y": [
           0,
           1
          ]
         },
         "dragmode": "pan",
         "xaxis": {
          "title": {
           "text": "p_not_breakeven_tp"
          },
          "type": "linear"
         },
         "yaxis": {
          "title": {
           "text": "p_not_breakeven_volatility"
          },
          "type": "linear"
         },
         "zaxis": {
          "title": {
           "text": "spread_percent"
          },
          "type": "linear"
         }
        },
        "template": {
         "data": {
          "bar": [
           {
            "error_x": {
             "color": "#2a3f5f"
            },
            "error_y": {
             "color": "#2a3f5f"
            },
            "marker": {
             "line": {
              "color": "#E5ECF6",
              "width": 0.5
             },
             "pattern": {
              "fillmode": "overlay",
              "size": 10,
              "solidity": 0.2
             }
            },
            "type": "bar"
           }
          ],
          "barpolar": [
           {
            "marker": {
             "line": {
              "color": "#E5ECF6",
              "width": 0.5
             },
             "pattern": {
              "fillmode": "overlay",
              "size": 10,
              "solidity": 0.2
             }
            },
            "type": "barpolar"
           }
          ],
          "carpet": [
           {
            "aaxis": {
             "endlinecolor": "#2a3f5f",
             "gridcolor": "white",
             "linecolor": "white",
             "minorgridcolor": "white",
             "startlinecolor": "#2a3f5f"
            },
            "baxis": {
             "endlinecolor": "#2a3f5f",
             "gridcolor": "white",
             "linecolor": "white",
             "minorgridcolor": "white",
             "startlinecolor": "#2a3f5f"
            },
            "type": "carpet"
           }
          ],
          "choropleth": [
           {
            "colorbar": {
             "outlinewidth": 0,
             "ticks": ""
            },
            "type": "choropleth"
           }
          ],
          "contour": [
           {
            "colorbar": {
             "outlinewidth": 0,
             "ticks": ""
            },
            "colorscale": [
             [
              0,
              "#0d0887"
             ],
             [
              0.1111111111111111,
              "#46039f"
             ],
             [
              0.2222222222222222,
              "#7201a8"
             ],
             [
              0.3333333333333333,
              "#9c179e"
             ],
             [
              0.4444444444444444,
              "#bd3786"
             ],
             [
              0.5555555555555556,
              "#d8576b"
             ],
             [
              0.6666666666666666,
              "#ed7953"
             ],
             [
              0.7777777777777778,
              "#fb9f3a"
             ],
             [
              0.8888888888888888,
              "#fdca26"
             ],
             [
              1,
              "#f0f921"
             ]
            ],
            "type": "contour"
           }
          ],
          "contourcarpet": [
           {
            "colorbar": {
             "outlinewidth": 0,
             "ticks": ""
            },
            "type": "contourcarpet"
           }
          ],
          "heatmap": [
           {
            "colorbar": {
             "outlinewidth": 0,
             "ticks": ""
            },
            "colorscale": [
             [
              0,
              "#0d0887"
             ],
             [
              0.1111111111111111,
              "#46039f"
             ],
             [
              0.2222222222222222,
              "#7201a8"
             ],
             [
              0.3333333333333333,
              "#9c179e"
             ],
             [
              0.4444444444444444,
              "#bd3786"
             ],
             [
              0.5555555555555556,
              "#d8576b"
             ],
             [
              0.6666666666666666,
              "#ed7953"
             ],
             [
              0.7777777777777778,
              "#fb9f3a"
             ],
             [
              0.8888888888888888,
              "#fdca26"
             ],
             [
              1,
              "#f0f921"
             ]
            ],
            "type": "heatmap"
           }
          ],
          "heatmapgl": [
           {
            "colorbar": {
             "outlinewidth": 0,
             "ticks": ""
            },
            "colorscale": [
             [
              0,
              "#0d0887"
             ],
             [
              0.1111111111111111,
              "#46039f"
             ],
             [
              0.2222222222222222,
              "#7201a8"
             ],
             [
              0.3333333333333333,
              "#9c179e"
             ],
             [
              0.4444444444444444,
              "#bd3786"
             ],
             [
              0.5555555555555556,
              "#d8576b"
             ],
             [
              0.6666666666666666,
              "#ed7953"
             ],
             [
              0.7777777777777778,
              "#fb9f3a"
             ],
             [
              0.8888888888888888,
              "#fdca26"
             ],
             [
              1,
              "#f0f921"
             ]
            ],
            "type": "heatmapgl"
           }
          ],
          "histogram": [
           {
            "marker": {
             "pattern": {
              "fillmode": "overlay",
              "size": 10,
              "solidity": 0.2
             }
            },
            "type": "histogram"
           }
          ],
          "histogram2d": [
           {
            "colorbar": {
             "outlinewidth": 0,
             "ticks": ""
            },
            "colorscale": [
             [
              0,
              "#0d0887"
             ],
             [
              0.1111111111111111,
              "#46039f"
             ],
             [
              0.2222222222222222,
              "#7201a8"
             ],
             [
              0.3333333333333333,
              "#9c179e"
             ],
             [
              0.4444444444444444,
              "#bd3786"
             ],
             [
              0.5555555555555556,
              "#d8576b"
             ],
             [
              0.6666666666666666,
              "#ed7953"
             ],
             [
              0.7777777777777778,
              "#fb9f3a"
             ],
             [
              0.8888888888888888,
              "#fdca26"
             ],
             [
              1,
              "#f0f921"
             ]
            ],
            "type": "histogram2d"
           }
          ],
          "histogram2dcontour": [
           {
            "colorbar": {
             "outlinewidth": 0,
             "ticks": ""
            },
            "colorscale": [
             [
              0,
              "#0d0887"
             ],
             [
              0.1111111111111111,
              "#46039f"
             ],
             [
              0.2222222222222222,
              "#7201a8"
             ],
             [
              0.3333333333333333,
              "#9c179e"
             ],
             [
              0.4444444444444444,
              "#bd3786"
             ],
             [
              0.5555555555555556,
              "#d8576b"
             ],
             [
              0.6666666666666666,
              "#ed7953"
             ],
             [
              0.7777777777777778,
              "#fb9f3a"
             ],
             [
              0.8888888888888888,
              "#fdca26"
             ],
             [
              1,
              "#f0f921"
             ]
            ],
            "type": "histogram2dcontour"
           }
          ],
          "mesh3d": [
           {
            "colorbar": {
             "outlinewidth": 0,
             "ticks": ""
            },
            "type": "mesh3d"
           }
          ],
          "parcoords": [
           {
            "line": {
             "colorbar": {
              "outlinewidth": 0,
              "ticks": ""
             }
            },
            "type": "parcoords"
           }
          ],
          "pie": [
           {
            "automargin": true,
            "type": "pie"
           }
          ],
          "scatter": [
           {
            "marker": {
             "colorbar": {
              "outlinewidth": 0,
              "ticks": ""
             }
            },
            "type": "scatter"
           }
          ],
          "scatter3d": [
           {
            "line": {
             "colorbar": {
              "outlinewidth": 0,
              "ticks": ""
             }
            },
            "marker": {
             "colorbar": {
              "outlinewidth": 0,
              "ticks": ""
             }
            },
            "type": "scatter3d"
           }
          ],
          "scattercarpet": [
           {
            "marker": {
             "colorbar": {
              "outlinewidth": 0,
              "ticks": ""
             }
            },
            "type": "scattercarpet"
           }
          ],
          "scattergeo": [
           {
            "marker": {
             "colorbar": {
              "outlinewidth": 0,
              "ticks": ""
             }
            },
            "type": "scattergeo"
           }
          ],
          "scattergl": [
           {
            "marker": {
             "colorbar": {
              "outlinewidth": 0,
              "ticks": ""
             }
            },
            "type": "scattergl"
           }
          ],
          "scattermapbox": [
           {
            "marker": {
             "colorbar": {
              "outlinewidth": 0,
              "ticks": ""
             }
            },
            "type": "scattermapbox"
           }
          ],
          "scatterpolar": [
           {
            "marker": {
             "colorbar": {
              "outlinewidth": 0,
              "ticks": ""
             }
            },
            "type": "scatterpolar"
           }
          ],
          "scatterpolargl": [
           {
            "marker": {
             "colorbar": {
              "outlinewidth": 0,
              "ticks": ""
             }
            },
            "type": "scatterpolargl"
           }
          ],
          "scatterternary": [
           {
            "marker": {
             "colorbar": {
              "outlinewidth": 0,
              "ticks": ""
             }
            },
            "type": "scatterternary"
           }
          ],
          "surface": [
           {
            "colorbar": {
             "outlinewidth": 0,
             "ticks": ""
            },
            "colorscale": [
             [
              0,
              "#0d0887"
             ],
             [
              0.1111111111111111,
              "#46039f"
             ],
             [
              0.2222222222222222,
              "#7201a8"
             ],
             [
              0.3333333333333333,
              "#9c179e"
             ],
             [
              0.4444444444444444,
              "#bd3786"
             ],
             [
              0.5555555555555556,
              "#d8576b"
             ],
             [
              0.6666666666666666,
              "#ed7953"
             ],
             [
              0.7777777777777778,
              "#fb9f3a"
             ],
             [
              0.8888888888888888,
              "#fdca26"
             ],
             [
              1,
              "#f0f921"
             ]
            ],
            "type": "surface"
           }
          ],
          "table": [
           {
            "cells": {
             "fill": {
              "color": "#EBF0F8"
             },
             "line": {
              "color": "white"
             }
            },
            "header": {
             "fill": {
              "color": "#C8D4E3"
             },
             "line": {
              "color": "white"
             }
            },
            "type": "table"
           }
          ]
         },
         "layout": {
          "annotationdefaults": {
           "arrowcolor": "#2a3f5f",
           "arrowhead": 0,
           "arrowwidth": 1
          },
          "autotypenumbers": "strict",
          "coloraxis": {
           "colorbar": {
            "outlinewidth": 0,
            "ticks": ""
           }
          },
          "colorscale": {
           "diverging": [
            [
             0,
             "#8e0152"
            ],
            [
             0.1,
             "#c51b7d"
            ],
            [
             0.2,
             "#de77ae"
            ],
            [
             0.3,
             "#f1b6da"
            ],
            [
             0.4,
             "#fde0ef"
            ],
            [
             0.5,
             "#f7f7f7"
            ],
            [
             0.6,
             "#e6f5d0"
            ],
            [
             0.7,
             "#b8e186"
            ],
            [
             0.8,
             "#7fbc41"
            ],
            [
             0.9,
             "#4d9221"
            ],
            [
             1,
             "#276419"
            ]
           ],
           "sequential": [
            [
             0,
             "#0d0887"
            ],
            [
             0.1111111111111111,
             "#46039f"
            ],
            [
             0.2222222222222222,
             "#7201a8"
            ],
            [
             0.3333333333333333,
             "#9c179e"
            ],
            [
             0.4444444444444444,
             "#bd3786"
            ],
            [
             0.5555555555555556,
             "#d8576b"
            ],
            [
             0.6666666666666666,
             "#ed7953"
            ],
            [
             0.7777777777777778,
             "#fb9f3a"
            ],
            [
             0.8888888888888888,
             "#fdca26"
            ],
            [
             1,
             "#f0f921"
            ]
           ],
           "sequentialminus": [
            [
             0,
             "#0d0887"
            ],
            [
             0.1111111111111111,
             "#46039f"
            ],
            [
             0.2222222222222222,
             "#7201a8"
            ],
            [
             0.3333333333333333,
             "#9c179e"
            ],
            [
             0.4444444444444444,
             "#bd3786"
            ],
            [
             0.5555555555555556,
             "#d8576b"
            ],
            [
             0.6666666666666666,
             "#ed7953"
            ],
            [
             0.7777777777777778,
             "#fb9f3a"
            ],
            [
             0.8888888888888888,
             "#fdca26"
            ],
            [
             1,
             "#f0f921"
            ]
           ]
          },
          "colorway": [
           "#636efa",
           "#EF553B",
           "#00cc96",
           "#ab63fa",
           "#FFA15A",
           "#19d3f3",
           "#FF6692",
           "#B6E880",
           "#FF97FF",
           "#FECB52"
          ],
          "font": {
           "color": "#2a3f5f"
          },
          "geo": {
           "bgcolor": "white",
           "lakecolor": "white",
           "landcolor": "#E5ECF6",
           "showlakes": true,
           "showland": true,
           "subunitcolor": "white"
          },
          "hoverlabel": {
           "align": "left"
          },
          "hovermode": "closest",
          "mapbox": {
           "style": "light"
          },
          "paper_bgcolor": "white",
          "plot_bgcolor": "#E5ECF6",
          "polar": {
           "angularaxis": {
            "gridcolor": "white",
            "linecolor": "white",
            "ticks": ""
           },
           "bgcolor": "#E5ECF6",
           "radialaxis": {
            "gridcolor": "white",
            "linecolor": "white",
            "ticks": ""
           }
          },
          "scene": {
           "xaxis": {
            "backgroundcolor": "#E5ECF6",
            "gridcolor": "white",
            "gridwidth": 2,
            "linecolor": "white",
            "showbackground": true,
            "ticks": "",
            "zerolinecolor": "white"
           },
           "yaxis": {
            "backgroundcolor": "#E5ECF6",
            "gridcolor": "white",
            "gridwidth": 2,
            "linecolor": "white",
            "showbackground": true,
            "ticks": "",
            "zerolinecolor": "white"
           },
           "zaxis": {
            "backgroundcolor": "#E5ECF6",
            "gridcolor": "white",
            "gridwidth": 2,
            "linecolor": "white",
            "showbackground": true,
            "ticks": "",
            "zerolinecolor": "white"
           }
          },
          "shapedefaults": {
           "line": {
            "color": "#2a3f5f"
           }
          },
          "ternary": {
           "aaxis": {
            "gridcolor": "white",
            "linecolor": "white",
            "ticks": ""
           },
           "baxis": {
            "gridcolor": "white",
            "linecolor": "white",
            "ticks": ""
           },
           "bgcolor": "#E5ECF6",
           "caxis": {
            "gridcolor": "white",
            "linecolor": "white",
            "ticks": ""
           }
          },
          "title": {
           "x": 0.05
          },
          "xaxis": {
           "automargin": true,
           "gridcolor": "white",
           "linecolor": "white",
           "ticks": "",
           "title": {
            "standoff": 15
           },
           "zerolinecolor": "white",
           "zerolinewidth": 2
          },
          "yaxis": {
           "automargin": true,
           "gridcolor": "white",
           "linecolor": "white",
           "ticks": "",
           "title": {
            "standoff": 15
           },
           "zerolinecolor": "white",
           "zerolinewidth": 2
          }
         }
        }
       }
      },
      "image/png": "[encoded data removed]",
      "text/html": [
       "<div>                            <div id=\"5a3b1c35-a586-4346-8670-8ec51f07e0ca\" class=\"plotly-graph-div\" style=\"height:400px; width:100%;\"></div>            <script type=\"text/javascript\">                require([\"plotly\"], function(Plotly) {                    window.PLOTLYENV=window.PLOTLYENV || {};                                    if (document.getElementById(\"5a3b1c35-a586-4346-8670-8ec51f07e0ca\")) {                    Plotly.newPlot(                        \"5a3b1c35-a586-4346-8670-8ec51f07e0ca\",                        [{\"customdata\":[[\"2022-01-20T00:00:00\",17757.35,17800.0,17750.0,198.95,199.1,439.615,19982.5],[\"2022-01-20T00:00:00\",17757.35,17850.0,17750.0,173.1,199.1,411.18000000000006,18690.0],[\"2022-01-27T00:00:00\",17757.35,17850.0,17550.0,233.1,171.6,446.93000000000006,20315.0],[\"2022-01-27T00:00:00\",17757.35,17850.0,17600.0,233.1,187.0,463.87,21085.0],[\"2022-01-27T00:00:00\",17757.35,17950.0,17600.0,182.15,187.0,407.82500000000005,18537.5],[\"2022-02-03T00:00:00\",17757.35,17800.0,17700.0,380.0,316.75,768.1850000000001,34917.5],[\"2022-02-03T00:00:00\",17757.35,18000.0,17700.0,270.9,316.75,648.1750000000001,29462.5]],\"hovertemplate\":\"underlying_name=NIFTY<br>p_not_breakeven_tp=%{x}<br>p_not_breakeven_volatility=%{y}<br>spread_percent=%{z}<br>kelly_fraction=%{marker.size}<br>expiry=%{customdata[0]}<br>underlying_value=%{customdata[1]}<br>ce_strike_price=%{customdata[2]}<br>pe_strike_price=%{customdata[3]}<br>ce_premium=%{customdata[4]}<br>pe_premium=%{customdata[5]}<br>target=%{customdata[6]}<br>cost=%{customdata[7]}<extra></extra>\",\"legendgroup\":\"NIFTY\",\"marker\":{\"color\":\"#636efa\",\"size\":[0.28739225712198696,0.2516983199415629,0.22934623813002203,0.2546566837107377,0.1678305332359385,0.35437910883856827,0.30116873630387153],\"sizemode\":\"area\",\"sizeref\":0.0008859477720964206,\"symbol\":\"circle\"},\"mode\":\"markers\",\"name\":\"NIFTY\",\"scene\":\"scene\",\"showlegend\":true,\"type\":\"scatter3d\",\"x\":[0.03827611395178962,0.04248539079620163,0.03674945215485755,0.034514243973703444,0.043305332359386425,0.011539444850255662,0.018528122717311902],\"y\":[0.32984660336011684,0.3234477720964208,0.4031592403214025,0.4002008765522279,0.3991161431701972,0.5302264426588751,0.5135500365230095],\"z\":[0.0275725263060085,0.02878695300819098,0.042063145683336765,0.04020138139981473,0.042676694439204056,0.048891585737736776,0.053396199320281466]},{\"customdata\":[[\"2022-01-20T00:00:00\",37590.65,37600.0,37200.0,645.0,440.35,1197.405,27213.75],[\"2022-01-27T00:00:00\",37590.65,37600.0,37400.0,815.1,637.2,1601.0500000000002,36387.5],[\"2022-01-27T00:00:00\",37590.65,37800.0,37400.0,718.95,637.2,1495.285,33983.75],[\"2022-01-27T00:00:00\",37590.65,37900.0,37400.0,668.05,637.2,1439.295,32711.25],[\"2022-01-27T00:00:00\",37590.65,37600.0,37500.0,815.1,676.85,1644.6650000000002,37378.75],[\"2022-01-27T00:00:00\",37590.65,37800.0,37500.0,718.95,676.85,1538.9,34975.0],[\"2022-01-27T00:00:00\",37590.65,37900.0,37500.0,668.05,676.85,1482.91,33702.5],[\"2022-01-27T00:00:00\",37590.65,38000.0,37500.0,620.25,676.85,1430.3300000000002,32507.5],[\"2022-01-27T00:00:00\",37590.65,38200.0,37500.0,538.25,676.85,1340.13,30457.5]],\"hovertemplate\":\"underlying_name=BANKNIFTY<br>p_not_breakeven_tp=%{x}<br>p_not_breakeven_volatility=%{y}<br>spread_percent=%{z}<br>kelly_fraction=%{marker.size}<br>expiry=%{customdata[0]}<br>underlying_value=%{customdata[1]}<br>ce_strike_price=%{customdata[2]}<br>pe_strike_price=%{customdata[3]}<br>ce_premium=%{customdata[4]}<br>pe_premium=%{customdata[5]}<br>target=%{customdata[6]}<br>cost=%{customdata[7]}<extra></extra>\",\"legendgroup\":\"BANKNIFTY\",\"marker\":{\"color\":\"#EF553B\",\"size\":[0.2669192841490139,0.3383473338203068,0.30822680788897006,0.2978816654492331,0.3526880934989042,0.3289262235208182,0.3168407596785974,0.3002447041636231,0.2747589481373266],\"sizemode\":\"area\",\"sizeref\":0.0008859477720964206,\"symbol\":\"circle\"},\"mode\":\"markers\",\"name\":\"BANKNIFTY\",\"scene\":\"scene\",\"showlegend\":true,\"type\":\"scatter3d\",\"x\":[0.029353542731921114,0.013184806428049667,0.017118334550766993,0.018528122717311902,0.012397735573411253,0.015423666910153396,0.017118334550766993,0.018690650109569024,0.022012417823228627],\"y\":[0.43954528853177505,0.5298046018991965,0.52058984660336,0.5168371073776479,0.5233345507669833,0.5168371073776479,0.5119758948137327,0.5128487947406867,0.5051168736303872],\"z\":[0.04249474270862568,0.04791218028951349,0.050419053674251445,0.051589823533245635,0.046412206226814384,0.04891907961155234,0.05008984947054653,0.05135133337678386,0.05427227249329288]},{\"customdata\":[[\"2022-01-27T00:00:00\",2416.85,2420.0,2360.0,46.0,20.15,73.05833333333335,19925.0]],\"hovertemplate\":\"underlying_name=HINDUNILVR<br>p_not_breakeven_tp=%{x}<br>p_not_breakeven_volatility=%{y}<br>spread_percent=%{z}<br>kelly_fraction=%{marker.size}<br>expiry=%{customdata[0]}<br>underlying_value=%{customdata[1]}<br>ce_strike_price=%{customdata[2]}<br>pe_strike_price=%{customdata[3]}<br>ce_premium=%{customdata[4]}<br>pe_premium=%{customdata[5]}<br>target=%{customdata[6]}<br>cost=%{customdata[7]}<extra></extra>\",\"legendgroup\":\"HINDUNILVR\",\"marker\":{\"color\":\"#00cc96\",\"size\":[0.22481373265157056],\"sizemode\":\"area\",\"sizeref\":0.0008859477720964206,\"symbol\":\"circle\"},\"mode\":\"markers\",\"name\":\"HINDUNILVR\",\"scene\":\"scene\",\"showlegend\":true,\"type\":\"scatter3d\",\"x\":[0.029561723886048212],\"y\":[0.47956902848794736],\"z\":[0.05505444414561654]},{\"customdata\":[[\"2022-01-27T00:00:00\",3830.0,3840.0,3820.0,104.0,94.65,219.1016666666667,29877.5],[\"2022-01-27T00:00:00\",3830.0,3900.0,3820.0,76.6,94.65,188.96166666666667,25767.5],[\"2022-01-27T00:00:00\",3830.0,3920.0,3820.0,70.25,94.65,181.9766666666667,24815.0]],\"hovertemplate\":\"underlying_name=TCS<br>p_not_breakeven_tp=%{x}<br>p_not_breakeven_volatility=%{y}<br>spread_percent=%{z}<br>kelly_fraction=%{marker.size}<br>expiry=%{customdata[0]}<br>underlying_value=%{customdata[1]}<br>ce_strike_price=%{customdata[2]}<br>pe_strike_price=%{customdata[3]}<br>ce_premium=%{customdata[4]}<br>pe_premium=%{customdata[5]}<br>target=%{customdata[6]}<br>cost=%{customdata[7]}<extra></extra>\",\"legendgroup\":\"TCS\",\"marker\":{\"color\":\"#ab63fa\",\"size\":[0.29790905770635506,0.26218407596785986,0.23612856099342583],\"sizemode\":\"area\",\"sizeref\":0.0008859477720964206,\"symbol\":\"circle\"},\"mode\":\"markers\",\"name\":\"TCS\",\"scene\":\"scene\",\"showlegend\":true,\"type\":\"scatter3d\",\"x\":[0.006239956172388599,0.010155222790357918,0.012397735573411253],\"y\":[0.6396913805697589,0.6362636961285609,0.6398940832724617],\"z\":[0.06242863359442995,0.07022497824194954,0.07362315056570932]},{\"customdata\":[[\"2022-01-27T00:00:00\",3566.0,3600.0,3480.0,74.35,50.85,138.30666666666667,18860.0],[\"2022-01-27T00:00:00\",3566.0,3600.0,3540.0,74.35,73.15,162.83666666666667,22205.0],[\"2022-01-27T00:00:00\",3566.0,3620.0,3540.0,65.8,73.15,153.43166666666667,20922.5],[\"2022-01-27T00:00:00\",3566.0,3640.0,3540.0,58.4,73.15,145.29166666666669,19812.5],[\"2022-01-27T00:00:00\",3566.0,3660.0,3540.0,50.25,73.15,136.32666666666668,18590.0],[\"2022-01-27T00:00:00\",3566.0,3600.0,3560.0,74.35,83.5,174.22166666666666,23757.5],[\"2022-01-27T00:00:00\",3566.0,3620.0,3560.0,65.8,83.5,164.8166666666667,22475.0],[\"2022-01-27T00:00:00\",3566.0,3640.0,3560.0,58.4,83.5,156.67666666666668,21365.0],[\"2022-01-27T00:00:00\",3566.0,3660.0,3560.0,50.25,83.5,147.71166666666667,20142.5]],\"hovertemplate\":\"underlying_name=ASIANPAINT<br>p_not_breakeven_tp=%{x}<br>p_not_breakeven_volatility=%{y}<br>spread_percent=%{z}<br>kelly_fraction=%{marker.size}<br>expiry=%{customdata[0]}<br>underlying_value=%{customdata[1]}<br>ce_strike_price=%{customdata[2]}<br>pe_strike_price=%{customdata[3]}<br>ce_premium=%{customdata[4]}<br>pe_premium=%{customdata[5]}<br>target=%{customdata[6]}<br>cost=%{customdata[7]}<extra></extra>\",\"legendgroup\":\"ASIANPAINT\",\"marker\":{\"color\":\"#FFA15A\",\"size\":[0.17898466033601176,0.28188458728999266,0.24888239590942307,0.21953981008035062,0.1857103725346969,0.3059422936449964,0.2808436815193571,0.2569466764061358,0.22766983199415633],\"sizemode\":\"area\",\"sizeref\":0.0008859477720964206,\"symbol\":\"circle\"},\"mode\":\"markers\",\"name\":\"ASIANPAINT\",\"scene\":\"scene\",\"showlegend\":true,\"type\":\"scatter3d\",\"x\":[0.021610664718772824,0.012702702702702703,0.015573411249086922,0.018528122717311902,0.022012417823228627,0.009762600438276111,0.012397735573411253,0.014570854638422214,0.018040540540540544],\"y\":[0.60490869247626,0.5910883856829803,0.5953834915997077,0.5951789627465304,0.5941654492330168,0.5964317019722425,0.5951789627465304,0.5973447772096421,0.5919247626004382],\"z\":[0.07243596934006356,0.06248925032716396,0.06546036642363058,0.06878622172368667,0.0718807253692279,0.060073378201532995,0.06304449429799963,0.06637034959805571,0.06946485324359694]},{\"customdata\":[[\"2022-01-27T00:00:00\",218.3,221.0,217.0,4.1,3.6,8.4975,24720.0],[\"2022-01-27T00:00:00\",218.3,222.0,217.0,3.7,3.6,8.057500000000001,23440.0]],\"hovertemplate\":\"underlying_name=ITC<br>p_not_breakeven_tp=%{x}<br>p_not_breakeven_volatility=%{y}<br>spread_percent=%{z}<br>kelly_fraction=%{marker.size}<br>expiry=%{customdata[0]}<br>underlying_value=%{customdata[1]}<br>ce_strike_price=%{customdata[2]}<br>pe_strike_price=%{customdata[3]}<br>ce_premium=%{customdata[4]}<br>pe_premium=%{customdata[5]}<br>target=%{customdata[6]}<br>cost=%{customdata[7]}<extra></extra>\",\"legendgroup\":\"ITC\",\"marker\":{\"color\":\"#19d3f3\",\"size\":[0.2703305332359387,0.24267713659605558],\"sizemode\":\"area\",\"sizeref\":0.0008859477720964206,\"symbol\":\"circle\"},\"mode\":\"markers\",\"name\":\"ITC\",\"scene\":\"scene\",\"showlegend\":true,\"type\":\"scatter3d\",\"x\":[0.018528122717311902,0.021610664718772824],\"y\":[0.5443882395909423,0.5412162162162162],\"z\":[0.05724919835089327,0.05981447549244159]},{\"customdata\":[[\"2022-01-27T00:00:00\",918.0,930.0,910.0,21.15,18.5,43.75038461538462,25852.5]],\"hovertemplate\":\"underlying_name=CIPLA<br>p_not_breakeven_tp=%{x}<br>p_not_breakeven_volatility=%{y}<br>spread_percent=%{z}<br>kelly_fraction=%{marker.size}<br>expiry=%{customdata[0]}<br>underlying_value=%{customdata[1]}<br>ce_strike_price=%{customdata[2]}<br>pe_strike_price=%{customdata[3]}<br>ce_premium=%{customdata[4]}<br>pe_premium=%{customdata[5]}<br>target=%{customdata[6]}<br>cost=%{customdata[7]}<extra></extra>\",\"legendgroup\":\"CIPLA\",\"marker\":{\"color\":\"#FF6692\",\"size\":[0.25548758217677137],\"sizemode\":\"area\",\"sizeref\":0.0008859477720964206,\"symbol\":\"circle\"},\"mode\":\"markers\",\"name\":\"CIPLA\",\"scene\":\"scene\",\"showlegend\":true,\"type\":\"scatter3d\",\"x\":[0.011539444850255662],\"y\":[0.629117969320672],\"z\":[0.06944486341545165]}],                        {\"height\":400,\"legend\":{\"itemsizing\":\"constant\",\"title\":{\"text\":\"underlying_name\"},\"tracegroupgap\":0},\"margin\":{\"t\":60},\"scene\":{\"domain\":{\"x\":[0.0,1.0],\"y\":[0.0,1.0]},\"xaxis\":{\"title\":{\"text\":\"p_not_breakeven_tp\"}},\"yaxis\":{\"title\":{\"text\":\"p_not_breakeven_volatility\"}},\"zaxis\":{\"title\":{\"text\":\"spread_percent\"}}},\"template\":{\"data\":{\"bar\":[{\"error_x\":{\"color\":\"#2a3f5f\"},\"error_y\":{\"color\":\"#2a3f5f\"},\"marker\":{\"line\":{\"color\":\"#E5ECF6\",\"width\":0.5},\"pattern\":{\"fillmode\":\"overlay\",\"size\":10,\"solidity\":0.2}},\"type\":\"bar\"}],\"barpolar\":[{\"marker\":{\"line\":{\"color\":\"#E5ECF6\",\"width\":0.5},\"pattern\":{\"fillmode\":\"overlay\",\"size\":10,\"solidity\":0.2}},\"type\":\"barpolar\"}],\"carpet\":[{\"aaxis\":{\"endlinecolor\":\"#2a3f5f\",\"gridcolor\":\"white\",\"linecolor\":\"white\",\"minorgridcolor\":\"white\",\"startlinecolor\":\"#2a3f5f\"},\"baxis\":{\"endlinecolor\":\"#2a3f5f\",\"gridcolor\":\"white\",\"linecolor\":\"white\",\"minorgridcolor\":\"white\",\"startlinecolor\":\"#2a3f5f\"},\"type\":\"carpet\"}],\"choropleth\":[{\"colorbar\":{\"outlinewidth\":0,\"ticks\":\"\"},\"type\":\"choropleth\"}],\"contour\":[{\"colorbar\":{\"outlinewidth\":0,\"ticks\":\"\"},\"colorscale\":[[0.0,\"#0d0887\"],[0.1111111111111111,\"#46039f\"],[0.2222222222222222,\"#7201a8\"],[0.3333333333333333,\"#9c179e\"],[0.4444444444444444,\"#bd3786\"],[0.5555555555555556,\"#d8576b\"],[0.6666666666666666,\"#ed7953\"],[0.7777777777777778,\"#fb9f3a\"],[0.8888888888888888,\"#fdca26\"],[1.0,\"#f0f921\"]],\"type\":\"contour\"}],\"contourcarpet\":[{\"colorbar\":{\"outlinewidth\":0,\"ticks\":\"\"},\"type\":\"contourcarpet\"}],\"heatmap\":[{\"colorbar\":{\"outlinewidth\":0,\"ticks\":\"\"},\"colorscale\":[[0.0,\"#0d0887\"],[0.1111111111111111,\"#46039f\"],[0.2222222222222222,\"#7201a8\"],[0.3333333333333333,\"#9c179e\"],[0.4444444444444444,\"#bd3786\"],[0.5555555555555556,\"#d8576b\"],[0.6666666666666666,\"#ed7953\"],[0.7777777777777778,\"#fb9f3a\"],[0.8888888888888888,\"#fdca26\"],[1.0,\"#f0f921\"]],\"type\":\"heatmap\"}],\"heatmapgl\":[{\"colorbar\":{\"outlinewidth\":0,\"ticks\":\"\"},\"colorscale\":[[0.0,\"#0d0887\"],[0.1111111111111111,\"#46039f\"],[0.2222222222222222,\"#7201a8\"],[0.3333333333333333,\"#9c179e\"],[0.4444444444444444,\"#bd3786\"],[0.5555555555555556,\"#d8576b\"],[0.6666666666666666,\"#ed7953\"],[0.7777777777777778,\"#fb9f3a\"],[0.8888888888888888,\"#fdca26\"],[1.0,\"#f0f921\"]],\"type\":\"heatmapgl\"}],\"histogram\":[{\"marker\":{\"pattern\":{\"fillmode\":\"overlay\",\"size\":10,\"solidity\":0.2}},\"type\":\"histogram\"}],\"histogram2d\":[{\"colorbar\":{\"outlinewidth\":0,\"ticks\":\"\"},\"colorscale\":[[0.0,\"#0d0887\"],[0.1111111111111111,\"#46039f\"],[0.2222222222222222,\"#7201a8\"],[0.3333333333333333,\"#9c179e\"],[0.4444444444444444,\"#bd3786\"],[0.5555555555555556,\"#d8576b\"],[0.6666666666666666,\"#ed7953\"],[0.7777777777777778,\"#fb9f3a\"],[0.8888888888888888,\"#fdca26\"],[1.0,\"#f0f921\"]],\"type\":\"histogram2d\"}],\"histogram2dcontour\":[{\"colorbar\":{\"outlinewidth\":0,\"ticks\":\"\"},\"colorscale\":[[0.0,\"#0d0887\"],[0.1111111111111111,\"#46039f\"],[0.2222222222222222,\"#7201a8\"],[0.3333333333333333,\"#9c179e\"],[0.4444444444444444,\"#bd3786\"],[0.5555555555555556,\"#d8576b\"],[0.6666666666666666,\"#ed7953\"],[0.7777777777777778,\"#fb9f3a\"],[0.8888888888888888,\"#fdca26\"],[1.0,\"#f0f921\"]],\"type\":\"histogram2dcontour\"}],\"mesh3d\":[{\"colorbar\":{\"outlinewidth\":0,\"ticks\":\"\"},\"type\":\"mesh3d\"}],\"parcoords\":[{\"line\":{\"colorbar\":{\"outlinewidth\":0,\"ticks\":\"\"}},\"type\":\"parcoords\"}],\"pie\":[{\"automargin\":true,\"type\":\"pie\"}],\"scatter\":[{\"marker\":{\"colorbar\":{\"outlinewidth\":0,\"ticks\":\"\"}},\"type\":\"scatter\"}],\"scatter3d\":[{\"line\":{\"colorbar\":{\"outlinewidth\":0,\"ticks\":\"\"}},\"marker\":{\"colorbar\":{\"outlinewidth\":0,\"ticks\":\"\"}},\"type\":\"scatter3d\"}],\"scattercarpet\":[{\"marker\":{\"colorbar\":{\"outlinewidth\":0,\"ticks\":\"\"}},\"type\":\"scattercarpet\"}],\"scattergeo\":[{\"marker\":{\"colorbar\":{\"outlinewidth\":0,\"ticks\":\"\"}},\"type\":\"scattergeo\"}],\"scattergl\":[{\"marker\":{\"colorbar\":{\"outlinewidth\":0,\"ticks\":\"\"}},\"type\":\"scattergl\"}],\"scattermapbox\":[{\"marker\":{\"colorbar\":{\"outlinewidth\":0,\"ticks\":\"\"}},\"type\":\"scattermapbox\"}],\"scatterpolar\":[{\"marker\":{\"colorbar\":{\"outlinewidth\":0,\"ticks\":\"\"}},\"type\":\"scatterpolar\"}],\"scatterpolargl\":[{\"marker\":{\"colorbar\":{\"outlinewidth\":0,\"ticks\":\"\"}},\"type\":\"scatterpolargl\"}],\"scatterternary\":[{\"marker\":{\"colorbar\":{\"outlinewidth\":0,\"ticks\":\"\"}},\"type\":\"scatterternary\"}],\"surface\":[{\"colorbar\":{\"outlinewidth\":0,\"ticks\":\"\"},\"colorscale\":[[0.0,\"#0d0887\"],[0.1111111111111111,\"#46039f\"],[0.2222222222222222,\"#7201a8\"],[0.3333333333333333,\"#9c179e\"],[0.4444444444444444,\"#bd3786\"],[0.5555555555555556,\"#d8576b\"],[0.6666666666666666,\"#ed7953\"],[0.7777777777777778,\"#fb9f3a\"],[0.8888888888888888,\"#fdca26\"],[1.0,\"#f0f921\"]],\"type\":\"surface\"}],\"table\":[{\"cells\":{\"fill\":{\"color\":\"#EBF0F8\"},\"line\":{\"color\":\"white\"}},\"header\":{\"fill\":{\"color\":\"#C8D4E3\"},\"line\":{\"color\":\"white\"}},\"type\":\"table\"}]},\"layout\":{\"annotationdefaults\":{\"arrowcolor\":\"#2a3f5f\",\"arrowhead\":0,\"arrowwidth\":1},\"autotypenumbers\":\"strict\",\"coloraxis\":{\"colorbar\":{\"outlinewidth\":0,\"ticks\":\"\"}},\"colorscale\":{\"diverging\":[[0,\"#8e0152\"],[0.1,\"#c51b7d\"],[0.2,\"#de77ae\"],[0.3,\"#f1b6da\"],[0.4,\"#fde0ef\"],[0.5,\"#f7f7f7\"],[0.6,\"#e6f5d0\"],[0.7,\"#b8e186\"],[0.8,\"#7fbc41\"],[0.9,\"#4d9221\"],[1,\"#276419\"]],\"sequential\":[[0.0,\"#0d0887\"],[0.1111111111111111,\"#46039f\"],[0.2222222222222222,\"#7201a8\"],[0.3333333333333333,\"#9c179e\"],[0.4444444444444444,\"#bd3786\"],[0.5555555555555556,\"#d8576b\"],[0.6666666666666666,\"#ed7953\"],[0.7777777777777778,\"#fb9f3a\"],[0.8888888888888888,\"#fdca26\"],[1.0,\"#f0f921\"]],\"sequentialminus\":[[0.0,\"#0d0887\"],[0.1111111111111111,\"#46039f\"],[0.2222222222222222,\"#7201a8\"],[0.3333333333333333,\"#9c179e\"],[0.4444444444444444,\"#bd3786\"],[0.5555555555555556,\"#d8576b\"],[0.6666666666666666,\"#ed7953\"],[0.7777777777777778,\"#fb9f3a\"],[0.8888888888888888,\"#fdca26\"],[1.0,\"#f0f921\"]]},\"colorway\":[\"#636efa\",\"#EF553B\",\"#00cc96\",\"#ab63fa\",\"#FFA15A\",\"#19d3f3\",\"#FF6692\",\"#B6E880\",\"#FF97FF\",\"#FECB52\"],\"font\":{\"color\":\"#2a3f5f\"},\"geo\":{\"bgcolor\":\"white\",\"lakecolor\":\"white\",\"landcolor\":\"#E5ECF6\",\"showlakes\":true,\"showland\":true,\"subunitcolor\":\"white\"},\"hoverlabel\":{\"align\":\"left\"},\"hovermode\":\"closest\",\"mapbox\":{\"style\":\"light\"},\"paper_bgcolor\":\"white\",\"plot_bgcolor\":\"#E5ECF6\",\"polar\":{\"angularaxis\":{\"gridcolor\":\"white\",\"linecolor\":\"white\",\"ticks\":\"\"},\"bgcolor\":\"#E5ECF6\",\"radialaxis\":{\"gridcolor\":\"white\",\"linecolor\":\"white\",\"ticks\":\"\"}},\"scene\":{\"xaxis\":{\"backgroundcolor\":\"#E5ECF6\",\"gridcolor\":\"white\",\"gridwidth\":2,\"linecolor\":\"white\",\"showbackground\":true,\"ticks\":\"\",\"zerolinecolor\":\"white\"},\"yaxis\":{\"backgroundcolor\":\"#E5ECF6\",\"gridcolor\":\"white\",\"gridwidth\":2,\"linecolor\":\"white\",\"showbackground\":true,\"ticks\":\"\",\"zerolinecolor\":\"white\"},\"zaxis\":{\"backgroundcolor\":\"#E5ECF6\",\"gridcolor\":\"white\",\"gridwidth\":2,\"linecolor\":\"white\",\"showbackground\":true,\"ticks\":\"\",\"zerolinecolor\":\"white\"}},\"shapedefaults\":{\"line\":{\"color\":\"#2a3f5f\"}},\"ternary\":{\"aaxis\":{\"gridcolor\":\"white\",\"linecolor\":\"white\",\"ticks\":\"\"},\"baxis\":{\"gridcolor\":\"white\",\"linecolor\":\"white\",\"ticks\":\"\"},\"bgcolor\":\"#E5ECF6\",\"caxis\":{\"gridcolor\":\"white\",\"linecolor\":\"white\",\"ticks\":\"\"}},\"title\":{\"x\":0.05},\"xaxis\":{\"automargin\":true,\"gridcolor\":\"white\",\"linecolor\":\"white\",\"ticks\":\"\",\"title\":{\"standoff\":15},\"zerolinecolor\":\"white\",\"zerolinewidth\":2},\"yaxis\":{\"automargin\":true,\"gridcolor\":\"white\",\"linecolor\":\"white\",\"ticks\":\"\",\"title\":{\"standoff\":15},\"zerolinecolor\":\"white\",\"zerolinewidth\":2}}}},                        {\"responsive\": true}                    ).then(function(){\n",
       "                            \n",
       "var gd = document.getElementById('5a3b1c35-a586-4346-8670-8ec51f07e0ca');\n",
       "var x = new MutationObserver(function (mutations, observer) {{\n",
       "        var display = window.getComputedStyle(gd).display;\n",
       "        if (!display || display === 'none') {{\n",
       "            console.log([gd, 'removed!']);\n",
       "            Plotly.purge(gd);\n",
       "            observer.disconnect();\n",
       "        }}\n",
       "}});\n",
       "\n",
       "// Listen for the removal of the full notebook cells\n",
       "var notebookContainer = gd.closest('#notebook-container');\n",
       "if (notebookContainer) {{\n",
       "    x.observe(notebookContainer, {childList: true});\n",
       "}}\n",
       "\n",
       "// Listen for the clearing of the current output cell\n",
       "var outputEl = gd.closest('.output');\n",
       "if (outputEl) {{\n",
       "    x.observe(outputEl, {childList: true});\n",
       "}}\n",
       "\n",
       "                        })                };                });            </script>        </div>"
      ]
     },
     "metadata": {},
     "output_type": "display_data"
    }
   ],
   "source": [
    "fig = px.scatter_3d(all_pairs[kelly_capital_filter], \n",
    "                    x='p_not_breakeven_tp', y='p_not_breakeven_volatility', z='spread_percent',\n",
    "                    size='kelly_fraction', color='underlying_name', \n",
    "                    hover_data=['expiry', 'underlying_value',\n",
    "                                'ce_strike_price', 'pe_strike_price', 'spread_percent',\n",
    "                                'ce_premium', 'pe_premium', \n",
    "                                'target', 'cost'],\n",
    "                   height=400\n",
    "                   )\n",
    "\n",
    "fig.show()"
   ]
  },
  {
   "cell_type": "code",
   "execution_count": 105,
   "id": "8b5f8711-cf04-4d98-8df7-3382e35cc922",
   "metadata": {},
   "outputs": [
    {
     "data": {
      "text/html": [
       "<div>\n",
       "<style scoped>\n",
       "    .dataframe tbody tr th:only-of-type {\n",
       "        vertical-align: middle;\n",
       "    }\n",
       "\n",
       "    .dataframe tbody tr th {\n",
       "        vertical-align: top;\n",
       "    }\n",
       "\n",
       "    .dataframe thead th {\n",
       "        text-align: right;\n",
       "    }\n",
       "</style>\n",
       "<table border=\"1\" class=\"dataframe\">\n",
       "  <thead>\n",
       "    <tr style=\"text-align: right;\">\n",
       "      <th></th>\n",
       "      <th>cost</th>\n",
       "      <th>lot_size</th>\n",
       "      <th>underlying_name</th>\n",
       "      <th>expiry</th>\n",
       "      <th>underlying_value</th>\n",
       "      <th>pe_strike_price</th>\n",
       "      <th>ce_strike_price</th>\n",
       "      <th>pe_premium</th>\n",
       "      <th>ce_premium</th>\n",
       "      <th>pe_tpremium</th>\n",
       "      <th>...</th>\n",
       "      <th>ce_tpremium_decay</th>\n",
       "      <th>spread</th>\n",
       "      <th>breakeven</th>\n",
       "      <th>target</th>\n",
       "      <th>pe_breakeven_delta</th>\n",
       "      <th>ce_breakeven_delta</th>\n",
       "      <th>p_not_breakeven_volatility</th>\n",
       "      <th>p_not_breakeven_tp</th>\n",
       "      <th>p_dist</th>\n",
       "      <th>spread_percent</th>\n",
       "    </tr>\n",
       "  </thead>\n",
       "  <tbody>\n",
       "    <tr>\n",
       "      <th>120</th>\n",
       "      <td>18967.50</td>\n",
       "      <td>50</td>\n",
       "      <td>NIFTY</td>\n",
       "      <td>2022-01-20</td>\n",
       "      <td>17805.25</td>\n",
       "      <td>17750.0</td>\n",
       "      <td>17850.0</td>\n",
       "      <td>175.00</td>\n",
       "      <td>202.75</td>\n",
       "      <td>230.25</td>\n",
       "      <td>...</td>\n",
       "      <td>20.625000</td>\n",
       "      <td>100.0</td>\n",
       "      <td>379.350000</td>\n",
       "      <td>417.285000</td>\n",
       "      <td>-0.026539</td>\n",
       "      <td>0.025949</td>\n",
       "      <td>0.304889</td>\n",
       "      <td>0.059577</td>\n",
       "      <td>0.310655</td>\n",
       "      <td>0.029052</td>\n",
       "    </tr>\n",
       "    <tr>\n",
       "      <th>425</th>\n",
       "      <td>19130.00</td>\n",
       "      <td>50</td>\n",
       "      <td>NIFTY</td>\n",
       "      <td>2022-01-27</td>\n",
       "      <td>17805.25</td>\n",
       "      <td>17450.0</td>\n",
       "      <td>17850.0</td>\n",
       "      <td>119.10</td>\n",
       "      <td>261.90</td>\n",
       "      <td>474.35</td>\n",
       "      <td>...</td>\n",
       "      <td>18.038235</td>\n",
       "      <td>400.0</td>\n",
       "      <td>382.600000</td>\n",
       "      <td>420.860000</td>\n",
       "      <td>-0.043589</td>\n",
       "      <td>0.026150</td>\n",
       "      <td>0.376055</td>\n",
       "      <td>0.060950</td>\n",
       "      <td>0.380962</td>\n",
       "      <td>0.046102</td>\n",
       "    </tr>\n",
       "    <tr>\n",
       "      <th>442</th>\n",
       "      <td>20420.00</td>\n",
       "      <td>50</td>\n",
       "      <td>NIFTY</td>\n",
       "      <td>2022-01-27</td>\n",
       "      <td>17805.25</td>\n",
       "      <td>17550.0</td>\n",
       "      <td>17850.0</td>\n",
       "      <td>144.90</td>\n",
       "      <td>261.90</td>\n",
       "      <td>400.15</td>\n",
       "      <td>...</td>\n",
       "      <td>18.038235</td>\n",
       "      <td>300.0</td>\n",
       "      <td>408.400000</td>\n",
       "      <td>449.240000</td>\n",
       "      <td>-0.039566</td>\n",
       "      <td>0.027744</td>\n",
       "      <td>0.373462</td>\n",
       "      <td>0.055706</td>\n",
       "      <td>0.377594</td>\n",
       "      <td>0.042080</td>\n",
       "    </tr>\n",
       "    <tr>\n",
       "      <th>459</th>\n",
       "      <td>21137.50</td>\n",
       "      <td>50</td>\n",
       "      <td>NIFTY</td>\n",
       "      <td>2022-01-27</td>\n",
       "      <td>17805.25</td>\n",
       "      <td>17600.0</td>\n",
       "      <td>17850.0</td>\n",
       "      <td>159.25</td>\n",
       "      <td>261.90</td>\n",
       "      <td>364.50</td>\n",
       "      <td>...</td>\n",
       "      <td>18.038235</td>\n",
       "      <td>250.0</td>\n",
       "      <td>422.750000</td>\n",
       "      <td>465.025000</td>\n",
       "      <td>-0.037645</td>\n",
       "      <td>0.028631</td>\n",
       "      <td>0.369181</td>\n",
       "      <td>0.054134</td>\n",
       "      <td>0.373128</td>\n",
       "      <td>0.040158</td>\n",
       "    </tr>\n",
       "    <tr>\n",
       "      <th>460</th>\n",
       "      <td>18457.50</td>\n",
       "      <td>50</td>\n",
       "      <td>NIFTY</td>\n",
       "      <td>2022-01-27</td>\n",
       "      <td>17805.25</td>\n",
       "      <td>17600.0</td>\n",
       "      <td>17950.0</td>\n",
       "      <td>159.25</td>\n",
       "      <td>208.30</td>\n",
       "      <td>364.50</td>\n",
       "      <td>...</td>\n",
       "      <td>20.767647</td>\n",
       "      <td>350.0</td>\n",
       "      <td>369.150000</td>\n",
       "      <td>406.065000</td>\n",
       "      <td>-0.034333</td>\n",
       "      <td>0.030936</td>\n",
       "      <td>0.370921</td>\n",
       "      <td>0.060950</td>\n",
       "      <td>0.375895</td>\n",
       "      <td>0.042463</td>\n",
       "    </tr>\n",
       "    <tr>\n",
       "      <th>...</th>\n",
       "      <td>...</td>\n",
       "      <td>...</td>\n",
       "      <td>...</td>\n",
       "      <td>...</td>\n",
       "      <td>...</td>\n",
       "      <td>...</td>\n",
       "      <td>...</td>\n",
       "      <td>...</td>\n",
       "      <td>...</td>\n",
       "      <td>...</td>\n",
       "      <td>...</td>\n",
       "      <td>...</td>\n",
       "      <td>...</td>\n",
       "      <td>...</td>\n",
       "      <td>...</td>\n",
       "      <td>...</td>\n",
       "      <td>...</td>\n",
       "      <td>...</td>\n",
       "      <td>...</td>\n",
       "      <td>...</td>\n",
       "      <td>...</td>\n",
       "    </tr>\n",
       "    <tr>\n",
       "      <th>31</th>\n",
       "      <td>39562.50</td>\n",
       "      <td>850</td>\n",
       "      <td>AARTIIND</td>\n",
       "      <td>2022-01-27</td>\n",
       "      <td>993.00</td>\n",
       "      <td>970.0</td>\n",
       "      <td>1020.0</td>\n",
       "      <td>23.00</td>\n",
       "      <td>23.45</td>\n",
       "      <td>46.00</td>\n",
       "      <td>...</td>\n",
       "      <td>2.967647</td>\n",
       "      <td>50.0</td>\n",
       "      <td>46.544118</td>\n",
       "      <td>51.198529</td>\n",
       "      <td>-0.074722</td>\n",
       "      <td>0.078750</td>\n",
       "      <td>0.704310</td>\n",
       "      <td>0.019119</td>\n",
       "      <td>0.704569</td>\n",
       "      <td>0.101912</td>\n",
       "    </tr>\n",
       "    <tr>\n",
       "      <th>6</th>\n",
       "      <td>23323.75</td>\n",
       "      <td>125</td>\n",
       "      <td>LALPATHLAB</td>\n",
       "      <td>2022-01-27</td>\n",
       "      <td>3829.45</td>\n",
       "      <td>3600.0</td>\n",
       "      <td>3850.0</td>\n",
       "      <td>45.00</td>\n",
       "      <td>140.95</td>\n",
       "      <td>274.45</td>\n",
       "      <td>...</td>\n",
       "      <td>9.500000</td>\n",
       "      <td>250.0</td>\n",
       "      <td>186.590000</td>\n",
       "      <td>205.249000</td>\n",
       "      <td>-0.113515</td>\n",
       "      <td>0.058964</td>\n",
       "      <td>0.712025</td>\n",
       "      <td>0.019499</td>\n",
       "      <td>0.712292</td>\n",
       "      <td>0.118881</td>\n",
       "    </tr>\n",
       "    <tr>\n",
       "      <th>20</th>\n",
       "      <td>36902.50</td>\n",
       "      <td>275</td>\n",
       "      <td>PEL</td>\n",
       "      <td>2022-01-27</td>\n",
       "      <td>2669.60</td>\n",
       "      <td>2550.0</td>\n",
       "      <td>2700.0</td>\n",
       "      <td>43.90</td>\n",
       "      <td>90.00</td>\n",
       "      <td>163.50</td>\n",
       "      <td>...</td>\n",
       "      <td>7.082353</td>\n",
       "      <td>150.0</td>\n",
       "      <td>134.190909</td>\n",
       "      <td>147.610000</td>\n",
       "      <td>-0.100094</td>\n",
       "      <td>0.066680</td>\n",
       "      <td>0.719611</td>\n",
       "      <td>0.017068</td>\n",
       "      <td>0.719814</td>\n",
       "      <td>0.111481</td>\n",
       "    </tr>\n",
       "    <tr>\n",
       "      <th>25</th>\n",
       "      <td>44740.00</td>\n",
       "      <td>275</td>\n",
       "      <td>PEL</td>\n",
       "      <td>2022-01-27</td>\n",
       "      <td>2669.60</td>\n",
       "      <td>2650.0</td>\n",
       "      <td>2700.0</td>\n",
       "      <td>72.40</td>\n",
       "      <td>90.00</td>\n",
       "      <td>92.00</td>\n",
       "      <td>...</td>\n",
       "      <td>7.082353</td>\n",
       "      <td>50.0</td>\n",
       "      <td>162.690909</td>\n",
       "      <td>178.960000</td>\n",
       "      <td>-0.074378</td>\n",
       "      <td>0.078424</td>\n",
       "      <td>0.703197</td>\n",
       "      <td>0.007978</td>\n",
       "      <td>0.703242</td>\n",
       "      <td>0.085766</td>\n",
       "    </tr>\n",
       "    <tr>\n",
       "      <th>26</th>\n",
       "      <td>38428.75</td>\n",
       "      <td>275</td>\n",
       "      <td>PEL</td>\n",
       "      <td>2022-01-27</td>\n",
       "      <td>2669.60</td>\n",
       "      <td>2650.0</td>\n",
       "      <td>2750.0</td>\n",
       "      <td>72.40</td>\n",
       "      <td>67.05</td>\n",
       "      <td>92.00</td>\n",
       "      <td>...</td>\n",
       "      <td>8.673529</td>\n",
       "      <td>100.0</td>\n",
       "      <td>139.740909</td>\n",
       "      <td>153.715000</td>\n",
       "      <td>-0.064922</td>\n",
       "      <td>0.087697</td>\n",
       "      <td>0.693150</td>\n",
       "      <td>0.013908</td>\n",
       "      <td>0.693290</td>\n",
       "      <td>0.095039</td>\n",
       "    </tr>\n",
       "  </tbody>\n",
       "</table>\n",
       "<p>169 rows × 22 columns</p>\n",
       "</div>"
      ],
      "text/plain": [
       "         cost  lot_size underlying_name     expiry  underlying_value  \\\n",
       "120  18967.50        50           NIFTY 2022-01-20          17805.25   \n",
       "425  19130.00        50           NIFTY 2022-01-27          17805.25   \n",
       "442  20420.00        50           NIFTY 2022-01-27          17805.25   \n",
       "459  21137.50        50           NIFTY 2022-01-27          17805.25   \n",
       "460  18457.50        50           NIFTY 2022-01-27          17805.25   \n",
       "..        ...       ...             ...        ...               ...   \n",
       "31   39562.50       850        AARTIIND 2022-01-27            993.00   \n",
       "6    23323.75       125      LALPATHLAB 2022-01-27           3829.45   \n",
       "20   36902.50       275             PEL 2022-01-27           2669.60   \n",
       "25   44740.00       275             PEL 2022-01-27           2669.60   \n",
       "26   38428.75       275             PEL 2022-01-27           2669.60   \n",
       "\n",
       "     pe_strike_price  ce_strike_price  pe_premium  ce_premium  pe_tpremium  \\\n",
       "120          17750.0          17850.0      175.00      202.75       230.25   \n",
       "425          17450.0          17850.0      119.10      261.90       474.35   \n",
       "442          17550.0          17850.0      144.90      261.90       400.15   \n",
       "459          17600.0          17850.0      159.25      261.90       364.50   \n",
       "460          17600.0          17950.0      159.25      208.30       364.50   \n",
       "..               ...              ...         ...         ...          ...   \n",
       "31             970.0           1020.0       23.00       23.45        46.00   \n",
       "6             3600.0           3850.0       45.00      140.95       274.45   \n",
       "20            2550.0           2700.0       43.90       90.00       163.50   \n",
       "25            2650.0           2700.0       72.40       90.00        92.00   \n",
       "26            2650.0           2750.0       72.40       67.05        92.00   \n",
       "\n",
       "     ...  ce_tpremium_decay  spread   breakeven      target  \\\n",
       "120  ...          20.625000   100.0  379.350000  417.285000   \n",
       "425  ...          18.038235   400.0  382.600000  420.860000   \n",
       "442  ...          18.038235   300.0  408.400000  449.240000   \n",
       "459  ...          18.038235   250.0  422.750000  465.025000   \n",
       "460  ...          20.767647   350.0  369.150000  406.065000   \n",
       "..   ...                ...     ...         ...         ...   \n",
       "31   ...           2.967647    50.0   46.544118   51.198529   \n",
       "6    ...           9.500000   250.0  186.590000  205.249000   \n",
       "20   ...           7.082353   150.0  134.190909  147.610000   \n",
       "25   ...           7.082353    50.0  162.690909  178.960000   \n",
       "26   ...           8.673529   100.0  139.740909  153.715000   \n",
       "\n",
       "     pe_breakeven_delta  ce_breakeven_delta  p_not_breakeven_volatility  \\\n",
       "120           -0.026539            0.025949                    0.304889   \n",
       "425           -0.043589            0.026150                    0.376055   \n",
       "442           -0.039566            0.027744                    0.373462   \n",
       "459           -0.037645            0.028631                    0.369181   \n",
       "460           -0.034333            0.030936                    0.370921   \n",
       "..                  ...                 ...                         ...   \n",
       "31            -0.074722            0.078750                    0.704310   \n",
       "6             -0.113515            0.058964                    0.712025   \n",
       "20            -0.100094            0.066680                    0.719611   \n",
       "25            -0.074378            0.078424                    0.703197   \n",
       "26            -0.064922            0.087697                    0.693150   \n",
       "\n",
       "     p_not_breakeven_tp    p_dist  spread_percent  \n",
       "120            0.059577  0.310655        0.029052  \n",
       "425            0.060950  0.380962        0.046102  \n",
       "442            0.055706  0.377594        0.042080  \n",
       "459            0.054134  0.373128        0.040158  \n",
       "460            0.060950  0.375895        0.042463  \n",
       "..                  ...       ...             ...  \n",
       "31             0.019119  0.704569        0.101912  \n",
       "6              0.019499  0.712292        0.118881  \n",
       "20             0.017068  0.719814        0.111481  \n",
       "25             0.007978  0.703242        0.085766  \n",
       "26             0.013908  0.693290        0.095039  \n",
       "\n",
       "[169 rows x 22 columns]"
      ]
     },
     "execution_count": 105,
     "metadata": {},
     "output_type": "execute_result"
    }
   ],
   "source": [
    "all_pairs[((1-all_pairs['p_not_breakeven_volatility']) - all_pairs['p_not_breakeven_tp']/(0.1))>0]"
   ]
  },
  {
   "cell_type": "code",
   "execution_count": 502,
   "id": "junior-grocery",
   "metadata": {},
   "outputs": [
    {
     "data": {
      "text/html": [
       "<div>\n",
       "<style scoped>\n",
       "    .dataframe tbody tr th:only-of-type {\n",
       "        vertical-align: middle;\n",
       "    }\n",
       "\n",
       "    .dataframe tbody tr th {\n",
       "        vertical-align: top;\n",
       "    }\n",
       "\n",
       "    .dataframe thead th {\n",
       "        text-align: right;\n",
       "    }\n",
       "</style>\n",
       "<table border=\"1\" class=\"dataframe\">\n",
       "  <thead>\n",
       "    <tr style=\"text-align: right;\">\n",
       "      <th></th>\n",
       "      <th></th>\n",
       "      <th>p_dist</th>\n",
       "      <th>p_not_breakeven_volatility</th>\n",
       "    </tr>\n",
       "    <tr>\n",
       "      <th>underlying_name</th>\n",
       "      <th>expiry</th>\n",
       "      <th></th>\n",
       "      <th></th>\n",
       "    </tr>\n",
       "  </thead>\n",
       "  <tbody>\n",
       "    <tr>\n",
       "      <th>AARTIIND</th>\n",
       "      <th>2022-01-27</th>\n",
       "      <td>0.652970</td>\n",
       "      <td>0.646429</td>\n",
       "    </tr>\n",
       "    <tr>\n",
       "      <th>ASIANPAINT</th>\n",
       "      <th>2022-01-27</th>\n",
       "      <td>0.489979</td>\n",
       "      <td>0.486871</td>\n",
       "    </tr>\n",
       "    <tr>\n",
       "      <th rowspan=\"4\" valign=\"top\">BANKNIFTY</th>\n",
       "      <th>2022-01-13</th>\n",
       "      <td>0.335053</td>\n",
       "      <td>0.325648</td>\n",
       "    </tr>\n",
       "    <tr>\n",
       "      <th>2022-01-20</th>\n",
       "      <td>0.401633</td>\n",
       "      <td>0.397031</td>\n",
       "    </tr>\n",
       "    <tr>\n",
       "      <th>2022-01-27</th>\n",
       "      <td>0.462869</td>\n",
       "      <td>0.459944</td>\n",
       "    </tr>\n",
       "    <tr>\n",
       "      <th>2022-02-03</th>\n",
       "      <td>0.701012</td>\n",
       "      <td>0.685467</td>\n",
       "    </tr>\n",
       "    <tr>\n",
       "      <th>CHAMBLFERT</th>\n",
       "      <th>2022-01-27</th>\n",
       "      <td>0.713371</td>\n",
       "      <td>0.709776</td>\n",
       "    </tr>\n",
       "    <tr>\n",
       "      <th>CIPLA</th>\n",
       "      <th>2022-01-27</th>\n",
       "      <td>0.579677</td>\n",
       "      <td>0.573676</td>\n",
       "    </tr>\n",
       "    <tr>\n",
       "      <th>COALINDIA</th>\n",
       "      <th>2022-01-27</th>\n",
       "      <td>0.575318</td>\n",
       "      <td>0.575049</td>\n",
       "    </tr>\n",
       "    <tr>\n",
       "      <th>COFORGE</th>\n",
       "      <th>2022-01-27</th>\n",
       "      <td>0.772006</td>\n",
       "      <td>0.771185</td>\n",
       "    </tr>\n",
       "    <tr>\n",
       "      <th>DLF</th>\n",
       "      <th>2022-01-27</th>\n",
       "      <td>0.714031</td>\n",
       "      <td>0.707031</td>\n",
       "    </tr>\n",
       "    <tr>\n",
       "      <th>GMRINFRA</th>\n",
       "      <th>2022-01-27</th>\n",
       "      <td>0.756442</td>\n",
       "      <td>0.751652</td>\n",
       "    </tr>\n",
       "    <tr>\n",
       "      <th>GRASIM</th>\n",
       "      <th>2022-01-27</th>\n",
       "      <td>0.585949</td>\n",
       "      <td>0.582244</td>\n",
       "    </tr>\n",
       "    <tr>\n",
       "      <th>HCLTECH</th>\n",
       "      <th>2022-01-27</th>\n",
       "      <td>0.622700</td>\n",
       "      <td>0.613167</td>\n",
       "    </tr>\n",
       "    <tr>\n",
       "      <th>HINDALCO</th>\n",
       "      <th>2022-01-27</th>\n",
       "      <td>0.607441</td>\n",
       "      <td>0.604103</td>\n",
       "    </tr>\n",
       "    <tr>\n",
       "      <th>HINDUNILVR</th>\n",
       "      <th>2022-01-27</th>\n",
       "      <td>0.432717</td>\n",
       "      <td>0.429318</td>\n",
       "    </tr>\n",
       "    <tr>\n",
       "      <th>INDHOTEL</th>\n",
       "      <th>2022-01-27</th>\n",
       "      <td>0.724080</td>\n",
       "      <td>0.723033</td>\n",
       "    </tr>\n",
       "    <tr>\n",
       "      <th>INFY</th>\n",
       "      <th>2022-01-27</th>\n",
       "      <td>0.598218</td>\n",
       "      <td>0.595818</td>\n",
       "    </tr>\n",
       "    <tr>\n",
       "      <th>ITC</th>\n",
       "      <th>2022-01-27</th>\n",
       "      <td>0.500976</td>\n",
       "      <td>0.499993</td>\n",
       "    </tr>\n",
       "    <tr>\n",
       "      <th>JSWSTEEL</th>\n",
       "      <th>2022-01-27</th>\n",
       "      <td>0.601448</td>\n",
       "      <td>0.599008</td>\n",
       "    </tr>\n",
       "    <tr>\n",
       "      <th>KOTAKBANK</th>\n",
       "      <th>2022-01-27</th>\n",
       "      <td>0.551567</td>\n",
       "      <td>0.549976</td>\n",
       "    </tr>\n",
       "    <tr>\n",
       "      <th>LALPATHLAB</th>\n",
       "      <th>2022-01-27</th>\n",
       "      <td>0.681168</td>\n",
       "      <td>0.672462</td>\n",
       "    </tr>\n",
       "    <tr>\n",
       "      <th>MPHASIS</th>\n",
       "      <th>2022-01-27</th>\n",
       "      <td>0.703654</td>\n",
       "      <td>0.699414</td>\n",
       "    </tr>\n",
       "    <tr>\n",
       "      <th rowspan=\"4\" valign=\"top\">NIFTY</th>\n",
       "      <th>2022-01-13</th>\n",
       "      <td>0.276646</td>\n",
       "      <td>0.257362</td>\n",
       "    </tr>\n",
       "    <tr>\n",
       "      <th>2022-01-20</th>\n",
       "      <td>0.312257</td>\n",
       "      <td>0.306511</td>\n",
       "    </tr>\n",
       "    <tr>\n",
       "      <th>2022-01-27</th>\n",
       "      <td>0.350320</td>\n",
       "      <td>0.343809</td>\n",
       "    </tr>\n",
       "    <tr>\n",
       "      <th>2022-02-03</th>\n",
       "      <td>0.489465</td>\n",
       "      <td>0.487092</td>\n",
       "    </tr>\n",
       "    <tr>\n",
       "      <th>NMDC</th>\n",
       "      <th>2022-01-27</th>\n",
       "      <td>0.585657</td>\n",
       "      <td>0.584029</td>\n",
       "    </tr>\n",
       "    <tr>\n",
       "      <th>PEL</th>\n",
       "      <th>2022-01-27</th>\n",
       "      <td>0.658712</td>\n",
       "      <td>0.650431</td>\n",
       "    </tr>\n",
       "    <tr>\n",
       "      <th>POWERGRID</th>\n",
       "      <th>2022-01-27</th>\n",
       "      <td>0.562691</td>\n",
       "      <td>0.560628</td>\n",
       "    </tr>\n",
       "    <tr>\n",
       "      <th>RELIANCE</th>\n",
       "      <th>2022-01-27</th>\n",
       "      <td>0.524506</td>\n",
       "      <td>0.522548</td>\n",
       "    </tr>\n",
       "    <tr>\n",
       "      <th>SBIN</th>\n",
       "      <th>2022-01-27</th>\n",
       "      <td>0.567862</td>\n",
       "      <td>0.567270</td>\n",
       "    </tr>\n",
       "    <tr>\n",
       "      <th>STAR</th>\n",
       "      <th>2022-01-27</th>\n",
       "      <td>0.816505</td>\n",
       "      <td>0.807224</td>\n",
       "    </tr>\n",
       "    <tr>\n",
       "      <th>TCS</th>\n",
       "      <th>2022-01-27</th>\n",
       "      <td>0.561743</td>\n",
       "      <td>0.558570</td>\n",
       "    </tr>\n",
       "    <tr>\n",
       "      <th>ULTRACEMCO</th>\n",
       "      <th>2022-01-27</th>\n",
       "      <td>0.832804</td>\n",
       "      <td>0.792876</td>\n",
       "    </tr>\n",
       "    <tr>\n",
       "      <th>UPL</th>\n",
       "      <th>2022-01-27</th>\n",
       "      <td>0.562850</td>\n",
       "      <td>0.558479</td>\n",
       "    </tr>\n",
       "    <tr>\n",
       "      <th>VEDL</th>\n",
       "      <th>2022-01-27</th>\n",
       "      <td>0.700797</td>\n",
       "      <td>0.688757</td>\n",
       "    </tr>\n",
       "  </tbody>\n",
       "</table>\n",
       "</div>"
      ],
      "text/plain": [
       "                              p_dist  p_not_breakeven_volatility\n",
       "underlying_name expiry                                          \n",
       "AARTIIND        2022-01-27  0.652970                    0.646429\n",
       "ASIANPAINT      2022-01-27  0.489979                    0.486871\n",
       "BANKNIFTY       2022-01-13  0.335053                    0.325648\n",
       "                2022-01-20  0.401633                    0.397031\n",
       "                2022-01-27  0.462869                    0.459944\n",
       "                2022-02-03  0.701012                    0.685467\n",
       "CHAMBLFERT      2022-01-27  0.713371                    0.709776\n",
       "CIPLA           2022-01-27  0.579677                    0.573676\n",
       "COALINDIA       2022-01-27  0.575318                    0.575049\n",
       "COFORGE         2022-01-27  0.772006                    0.771185\n",
       "DLF             2022-01-27  0.714031                    0.707031\n",
       "GMRINFRA        2022-01-27  0.756442                    0.751652\n",
       "GRASIM          2022-01-27  0.585949                    0.582244\n",
       "HCLTECH         2022-01-27  0.622700                    0.613167\n",
       "HINDALCO        2022-01-27  0.607441                    0.604103\n",
       "HINDUNILVR      2022-01-27  0.432717                    0.429318\n",
       "INDHOTEL        2022-01-27  0.724080                    0.723033\n",
       "INFY            2022-01-27  0.598218                    0.595818\n",
       "ITC             2022-01-27  0.500976                    0.499993\n",
       "JSWSTEEL        2022-01-27  0.601448                    0.599008\n",
       "KOTAKBANK       2022-01-27  0.551567                    0.549976\n",
       "LALPATHLAB      2022-01-27  0.681168                    0.672462\n",
       "MPHASIS         2022-01-27  0.703654                    0.699414\n",
       "NIFTY           2022-01-13  0.276646                    0.257362\n",
       "                2022-01-20  0.312257                    0.306511\n",
       "                2022-01-27  0.350320                    0.343809\n",
       "                2022-02-03  0.489465                    0.487092\n",
       "NMDC            2022-01-27  0.585657                    0.584029\n",
       "PEL             2022-01-27  0.658712                    0.650431\n",
       "POWERGRID       2022-01-27  0.562691                    0.560628\n",
       "RELIANCE        2022-01-27  0.524506                    0.522548\n",
       "SBIN            2022-01-27  0.567862                    0.567270\n",
       "STAR            2022-01-27  0.816505                    0.807224\n",
       "TCS             2022-01-27  0.561743                    0.558570\n",
       "ULTRACEMCO      2022-01-27  0.832804                    0.792876\n",
       "UPL             2022-01-27  0.562850                    0.558479\n",
       "VEDL            2022-01-27  0.700797                    0.688757"
      ]
     },
     "execution_count": 502,
     "metadata": {},
     "output_type": "execute_result"
    }
   ],
   "source": [
    "all_pairs.groupby(['underlying_name', 'expiry']).agg({'p_dist':'min', 'p_not_breakeven_volatility':'min'})"
   ]
  },
  {
   "cell_type": "code",
   "execution_count": 489,
   "id": "going-deployment",
   "metadata": {},
   "outputs": [
    {
     "data": {
      "text/html": [
       "<div>\n",
       "<style scoped>\n",
       "    .dataframe tbody tr th:only-of-type {\n",
       "        vertical-align: middle;\n",
       "    }\n",
       "\n",
       "    .dataframe tbody tr th {\n",
       "        vertical-align: top;\n",
       "    }\n",
       "\n",
       "    .dataframe thead th {\n",
       "        text-align: right;\n",
       "    }\n",
       "</style>\n",
       "<table border=\"1\" class=\"dataframe\">\n",
       "  <thead>\n",
       "    <tr style=\"text-align: right;\">\n",
       "      <th></th>\n",
       "      <th>cost</th>\n",
       "      <th>lot_size</th>\n",
       "      <th>underlying_name</th>\n",
       "      <th>expiry</th>\n",
       "      <th>underlying_value</th>\n",
       "      <th>pe_strike_price</th>\n",
       "      <th>ce_strike_price</th>\n",
       "      <th>pe_premium</th>\n",
       "      <th>ce_premium</th>\n",
       "      <th>pe_tpremium</th>\n",
       "      <th>...</th>\n",
       "      <th>ce_tpremium</th>\n",
       "      <th>ce_tpremium_decay</th>\n",
       "      <th>spread</th>\n",
       "      <th>breakeven</th>\n",
       "      <th>target</th>\n",
       "      <th>pe_breakeven_delta</th>\n",
       "      <th>ce_breakeven_delta</th>\n",
       "      <th>p_not_breakeven_volatility</th>\n",
       "      <th>p_not_breakeven_tp</th>\n",
       "      <th>p_dist</th>\n",
       "    </tr>\n",
       "  </thead>\n",
       "  <tbody>\n",
       "    <tr>\n",
       "      <th>330</th>\n",
       "      <td>10940.0</td>\n",
       "      <td>50</td>\n",
       "      <td>NIFTY</td>\n",
       "      <td>2022-01-13</td>\n",
       "      <td>17820.05</td>\n",
       "      <td>17750.0</td>\n",
       "      <td>17950.0</td>\n",
       "      <td>117.95</td>\n",
       "      <td>99.25</td>\n",
       "      <td>188.00</td>\n",
       "      <td>...</td>\n",
       "      <td>229.20</td>\n",
       "      <td>32.742857</td>\n",
       "      <td>200.0</td>\n",
       "      <td>218.800000</td>\n",
       "      <td>240.680000</td>\n",
       "      <td>-0.017437</td>\n",
       "      <td>0.020798</td>\n",
       "      <td>0.257362</td>\n",
       "      <td>0.101478</td>\n",
       "      <td>0.276646</td>\n",
       "    </tr>\n",
       "    <tr>\n",
       "      <th>331</th>\n",
       "      <td>10030.0</td>\n",
       "      <td>50</td>\n",
       "      <td>NIFTY</td>\n",
       "      <td>2022-01-13</td>\n",
       "      <td>17820.05</td>\n",
       "      <td>17750.0</td>\n",
       "      <td>18000.0</td>\n",
       "      <td>117.95</td>\n",
       "      <td>81.05</td>\n",
       "      <td>188.00</td>\n",
       "      <td>...</td>\n",
       "      <td>261.00</td>\n",
       "      <td>37.285714</td>\n",
       "      <td>250.0</td>\n",
       "      <td>200.600000</td>\n",
       "      <td>220.660000</td>\n",
       "      <td>-0.016314</td>\n",
       "      <td>0.022481</td>\n",
       "      <td>0.259186</td>\n",
       "      <td>0.109008</td>\n",
       "      <td>0.281176</td>\n",
       "    </tr>\n",
       "    <tr>\n",
       "      <th>315</th>\n",
       "      <td>8542.5</td>\n",
       "      <td>50</td>\n",
       "      <td>NIFTY</td>\n",
       "      <td>2022-01-13</td>\n",
       "      <td>17820.05</td>\n",
       "      <td>17600.0</td>\n",
       "      <td>17950.0</td>\n",
       "      <td>70.00</td>\n",
       "      <td>99.25</td>\n",
       "      <td>290.05</td>\n",
       "      <td>...</td>\n",
       "      <td>229.20</td>\n",
       "      <td>32.742857</td>\n",
       "      <td>350.0</td>\n",
       "      <td>170.850000</td>\n",
       "      <td>187.935000</td>\n",
       "      <td>-0.022895</td>\n",
       "      <td>0.017839</td>\n",
       "      <td>0.262193</td>\n",
       "      <td>0.130618</td>\n",
       "      <td>0.292927</td>\n",
       "    </tr>\n",
       "    <tr>\n",
       "      <th>300</th>\n",
       "      <td>8032.5</td>\n",
       "      <td>50</td>\n",
       "      <td>NIFTY</td>\n",
       "      <td>2022-01-13</td>\n",
       "      <td>17820.05</td>\n",
       "      <td>17550.0</td>\n",
       "      <td>17950.0</td>\n",
       "      <td>59.80</td>\n",
       "      <td>99.25</td>\n",
       "      <td>329.85</td>\n",
       "      <td>...</td>\n",
       "      <td>229.20</td>\n",
       "      <td>32.742857</td>\n",
       "      <td>400.0</td>\n",
       "      <td>160.650000</td>\n",
       "      <td>176.715000</td>\n",
       "      <td>-0.025071</td>\n",
       "      <td>0.017209</td>\n",
       "      <td>0.266098</td>\n",
       "      <td>0.139100</td>\n",
       "      <td>0.300261</td>\n",
       "    </tr>\n",
       "    <tr>\n",
       "      <th>316</th>\n",
       "      <td>7632.5</td>\n",
       "      <td>50</td>\n",
       "      <td>NIFTY</td>\n",
       "      <td>2022-01-13</td>\n",
       "      <td>17820.05</td>\n",
       "      <td>17600.0</td>\n",
       "      <td>18000.0</td>\n",
       "      <td>70.00</td>\n",
       "      <td>81.05</td>\n",
       "      <td>290.05</td>\n",
       "      <td>...</td>\n",
       "      <td>261.00</td>\n",
       "      <td>37.285714</td>\n",
       "      <td>400.0</td>\n",
       "      <td>152.650000</td>\n",
       "      <td>167.915000</td>\n",
       "      <td>-0.021771</td>\n",
       "      <td>0.019521</td>\n",
       "      <td>0.265152</td>\n",
       "      <td>0.141644</td>\n",
       "      <td>0.300614</td>\n",
       "    </tr>\n",
       "    <tr>\n",
       "      <th>...</th>\n",
       "      <td>...</td>\n",
       "      <td>...</td>\n",
       "      <td>...</td>\n",
       "      <td>...</td>\n",
       "      <td>...</td>\n",
       "      <td>...</td>\n",
       "      <td>...</td>\n",
       "      <td>...</td>\n",
       "      <td>...</td>\n",
       "      <td>...</td>\n",
       "      <td>...</td>\n",
       "      <td>...</td>\n",
       "      <td>...</td>\n",
       "      <td>...</td>\n",
       "      <td>...</td>\n",
       "      <td>...</td>\n",
       "      <td>...</td>\n",
       "      <td>...</td>\n",
       "      <td>...</td>\n",
       "      <td>...</td>\n",
       "      <td>...</td>\n",
       "    </tr>\n",
       "    <tr>\n",
       "      <th>4</th>\n",
       "      <td>6125.0</td>\n",
       "      <td>3100</td>\n",
       "      <td>VEDL</td>\n",
       "      <td>2022-01-27</td>\n",
       "      <td>335.40</td>\n",
       "      <td>170.0</td>\n",
       "      <td>395.0</td>\n",
       "      <td>0.80</td>\n",
       "      <td>1.15</td>\n",
       "      <td>166.20</td>\n",
       "      <td>...</td>\n",
       "      <td>60.75</td>\n",
       "      <td>3.573529</td>\n",
       "      <td>225.0</td>\n",
       "      <td>1.975806</td>\n",
       "      <td>2.173387</td>\n",
       "      <td>-0.499623</td>\n",
       "      <td>0.184178</td>\n",
       "      <td>0.975543</td>\n",
       "      <td>0.784167</td>\n",
       "      <td>1.251640</td>\n",
       "    </tr>\n",
       "    <tr>\n",
       "      <th>11</th>\n",
       "      <td>905.0</td>\n",
       "      <td>1500</td>\n",
       "      <td>SBIN</td>\n",
       "      <td>2022-01-27</td>\n",
       "      <td>484.40</td>\n",
       "      <td>320.0</td>\n",
       "      <td>620.0</td>\n",
       "      <td>0.15</td>\n",
       "      <td>0.40</td>\n",
       "      <td>164.55</td>\n",
       "      <td>...</td>\n",
       "      <td>136.00</td>\n",
       "      <td>8.000000</td>\n",
       "      <td>300.0</td>\n",
       "      <td>0.603333</td>\n",
       "      <td>0.663667</td>\n",
       "      <td>-0.340759</td>\n",
       "      <td>0.281304</td>\n",
       "      <td>0.991857</td>\n",
       "      <td>0.768693</td>\n",
       "      <td>1.254858</td>\n",
       "    </tr>\n",
       "    <tr>\n",
       "      <th>5</th>\n",
       "      <td>5660.0</td>\n",
       "      <td>3100</td>\n",
       "      <td>VEDL</td>\n",
       "      <td>2022-01-27</td>\n",
       "      <td>335.40</td>\n",
       "      <td>170.0</td>\n",
       "      <td>400.0</td>\n",
       "      <td>0.80</td>\n",
       "      <td>1.00</td>\n",
       "      <td>166.20</td>\n",
       "      <td>...</td>\n",
       "      <td>65.60</td>\n",
       "      <td>3.858824</td>\n",
       "      <td>230.0</td>\n",
       "      <td>1.825806</td>\n",
       "      <td>2.008387</td>\n",
       "      <td>-0.499131</td>\n",
       "      <td>0.198594</td>\n",
       "      <td>0.983696</td>\n",
       "      <td>0.792648</td>\n",
       "      <td>1.263308</td>\n",
       "    </tr>\n",
       "    <tr>\n",
       "      <th>6</th>\n",
       "      <td>4885.0</td>\n",
       "      <td>3100</td>\n",
       "      <td>VEDL</td>\n",
       "      <td>2022-01-27</td>\n",
       "      <td>335.40</td>\n",
       "      <td>170.0</td>\n",
       "      <td>410.0</td>\n",
       "      <td>0.80</td>\n",
       "      <td>0.75</td>\n",
       "      <td>166.20</td>\n",
       "      <td>...</td>\n",
       "      <td>75.35</td>\n",
       "      <td>4.432353</td>\n",
       "      <td>240.0</td>\n",
       "      <td>1.575806</td>\n",
       "      <td>1.733387</td>\n",
       "      <td>-0.498311</td>\n",
       "      <td>0.227589</td>\n",
       "      <td>0.986413</td>\n",
       "      <td>0.814512</td>\n",
       "      <td>1.279234</td>\n",
       "    </tr>\n",
       "    <tr>\n",
       "      <th>7</th>\n",
       "      <td>3955.0</td>\n",
       "      <td>3100</td>\n",
       "      <td>VEDL</td>\n",
       "      <td>2022-01-27</td>\n",
       "      <td>335.40</td>\n",
       "      <td>170.0</td>\n",
       "      <td>435.0</td>\n",
       "      <td>0.80</td>\n",
       "      <td>0.45</td>\n",
       "      <td>166.20</td>\n",
       "      <td>...</td>\n",
       "      <td>100.05</td>\n",
       "      <td>5.885294</td>\n",
       "      <td>265.0</td>\n",
       "      <td>1.275806</td>\n",
       "      <td>1.403387</td>\n",
       "      <td>-0.497327</td>\n",
       "      <td>0.301143</td>\n",
       "      <td>0.993207</td>\n",
       "      <td>0.850573</td>\n",
       "      <td>1.307644</td>\n",
       "    </tr>\n",
       "  </tbody>\n",
       "</table>\n",
       "<p>4163 rows × 21 columns</p>\n",
       "</div>"
      ],
      "text/plain": [
       "        cost  lot_size underlying_name     expiry  underlying_value  \\\n",
       "330  10940.0        50           NIFTY 2022-01-13          17820.05   \n",
       "331  10030.0        50           NIFTY 2022-01-13          17820.05   \n",
       "315   8542.5        50           NIFTY 2022-01-13          17820.05   \n",
       "300   8032.5        50           NIFTY 2022-01-13          17820.05   \n",
       "316   7632.5        50           NIFTY 2022-01-13          17820.05   \n",
       "..       ...       ...             ...        ...               ...   \n",
       "4     6125.0      3100            VEDL 2022-01-27            335.40   \n",
       "11     905.0      1500            SBIN 2022-01-27            484.40   \n",
       "5     5660.0      3100            VEDL 2022-01-27            335.40   \n",
       "6     4885.0      3100            VEDL 2022-01-27            335.40   \n",
       "7     3955.0      3100            VEDL 2022-01-27            335.40   \n",
       "\n",
       "     pe_strike_price  ce_strike_price  pe_premium  ce_premium  pe_tpremium  \\\n",
       "330          17750.0          17950.0      117.95       99.25       188.00   \n",
       "331          17750.0          18000.0      117.95       81.05       188.00   \n",
       "315          17600.0          17950.0       70.00       99.25       290.05   \n",
       "300          17550.0          17950.0       59.80       99.25       329.85   \n",
       "316          17600.0          18000.0       70.00       81.05       290.05   \n",
       "..               ...              ...         ...         ...          ...   \n",
       "4              170.0            395.0        0.80        1.15       166.20   \n",
       "11             320.0            620.0        0.15        0.40       164.55   \n",
       "5              170.0            400.0        0.80        1.00       166.20   \n",
       "6              170.0            410.0        0.80        0.75       166.20   \n",
       "7              170.0            435.0        0.80        0.45       166.20   \n",
       "\n",
       "     ...  ce_tpremium  ce_tpremium_decay  spread   breakeven      target  \\\n",
       "330  ...       229.20          32.742857   200.0  218.800000  240.680000   \n",
       "331  ...       261.00          37.285714   250.0  200.600000  220.660000   \n",
       "315  ...       229.20          32.742857   350.0  170.850000  187.935000   \n",
       "300  ...       229.20          32.742857   400.0  160.650000  176.715000   \n",
       "316  ...       261.00          37.285714   400.0  152.650000  167.915000   \n",
       "..   ...          ...                ...     ...         ...         ...   \n",
       "4    ...        60.75           3.573529   225.0    1.975806    2.173387   \n",
       "11   ...       136.00           8.000000   300.0    0.603333    0.663667   \n",
       "5    ...        65.60           3.858824   230.0    1.825806    2.008387   \n",
       "6    ...        75.35           4.432353   240.0    1.575806    1.733387   \n",
       "7    ...       100.05           5.885294   265.0    1.275806    1.403387   \n",
       "\n",
       "     pe_breakeven_delta  ce_breakeven_delta  p_not_breakeven_volatility  \\\n",
       "330           -0.017437            0.020798                    0.257362   \n",
       "331           -0.016314            0.022481                    0.259186   \n",
       "315           -0.022895            0.017839                    0.262193   \n",
       "300           -0.025071            0.017209                    0.266098   \n",
       "316           -0.021771            0.019521                    0.265152   \n",
       "..                  ...                 ...                         ...   \n",
       "4             -0.499623            0.184178                    0.975543   \n",
       "11            -0.340759            0.281304                    0.991857   \n",
       "5             -0.499131            0.198594                    0.983696   \n",
       "6             -0.498311            0.227589                    0.986413   \n",
       "7             -0.497327            0.301143                    0.993207   \n",
       "\n",
       "     p_not_breakeven_tp    p_dist  \n",
       "330            0.101478  0.276646  \n",
       "331            0.109008  0.281176  \n",
       "315            0.130618  0.292927  \n",
       "300            0.139100  0.300261  \n",
       "316            0.141644  0.300614  \n",
       "..                  ...       ...  \n",
       "4              0.784167  1.251640  \n",
       "11             0.768693  1.254858  \n",
       "5              0.792648  1.263308  \n",
       "6              0.814512  1.279234  \n",
       "7              0.850573  1.307644  \n",
       "\n",
       "[4163 rows x 21 columns]"
      ]
     },
     "execution_count": 489,
     "metadata": {},
     "output_type": "execute_result"
    }
   ],
   "source": [
    "all_pairs.sort_values('p_dist')"
   ]
  },
  {
   "cell_type": "code",
   "execution_count": 335,
   "id": "respected-runner",
   "metadata": {},
   "outputs": [],
   "source": [
    "all_pairs['pe_breakeven_delta'] = ((all_pairs['pe_strike_price']-all_pairs['target']) - all_pairs['underlying_value'])/all_pairs['underlying_value']\n",
    "all_pairs['ce_breakeven_delta'] = ((all_pairs['ce_strike_price']+all_pairs['target']) - all_pairs['underlying_value'])/all_pairs['underlying_value']\n",
    "all_pairs['p_breakeven'] = 0\n",
    "for underlying in all_pairs['underlying_name'].unique():\n",
    "    period_delta = all_holding_period_delta[(all_holding_period_delta['underlying_name'] == underlying)]\n",
    "    pairs_df = all_pairs[all_pairs['underlying_name']==underlying]\n",
    "    pairs_df\n",
    "    \n",
    "    break\n",
    "    all_options.loc[(all_options['Symbol']==underlying) & (all_options['Option Type']=='CE'), 'p_tp_breakeven'] = options_df.loc[options_df['Option Type']=='CE','tp_decay_delta'].map(lambda x: (x<period_delta['delta_max']).mean())\n",
    "    all_options.loc[(all_options['Symbol']==underlying) & (all_options['Option Type']=='PE'), 'p_tp_breakeven'] = options_df.loc[options_df['Option Type']=='PE','tp_decay_delta'].map(lambda x: (x>period_delta['delta_min']).mean())"
   ]
  },
  {
   "cell_type": "code",
   "execution_count": 346,
   "id": "covered-usage",
   "metadata": {},
   "outputs": [],
   "source": [
    "# Probabilty of breaking even due to volatility\n",
    "p_pe_vol_be = pairs_df['pe_breakeven_delta'].map(lambda x:(period_delta['delta_min']<=x).mean())\n",
    "p_ce_vol_be = pairs_df['ce_breakeven_delta'].map(lambda x:(period_delta['delta_max']>=x).mean())\n",
    "\n",
    "(1-p_ce_vol_be)*(1-p_pe_vol_be)"
   ]
  },
  {
   "cell_type": "code",
   "execution_count": 343,
   "id": "suited-boston",
   "metadata": {},
   "outputs": [
    {
     "data": {
      "text/plain": [
       "0.987783215326947"
      ]
     },
     "execution_count": 343,
     "metadata": {},
     "output_type": "execute_result"
    }
   ],
   "source": [
    "((1 - p_ce_vol_be)*(1 - p_pe_vol_be)).max()"
   ]
  },
  {
   "cell_type": "code",
   "execution_count": 331,
   "id": "acceptable-chapel",
   "metadata": {},
   "outputs": [
    {
     "data": {
      "text/plain": [
       "0     0.012859\n",
       "1     0.014064\n",
       "2     0.016935\n",
       "3     0.022390\n",
       "4     0.024463\n",
       "        ...   \n",
       "7     0.265809\n",
       "8     0.141660\n",
       "9     0.158308\n",
       "10    0.254959\n",
       "11    0.275594\n",
       "Length: 4099, dtype: float64"
      ]
     },
     "execution_count": 331,
     "metadata": {},
     "output_type": "execute_result"
    }
   ],
   "source": [
    "((all_pairs['ce_strike_price']+all_pairs['target']) - all_pairs['underlying_value'])/all_pairs['underlying_value']"
   ]
  },
  {
   "cell_type": "markdown",
   "id": "clinical-corporation",
   "metadata": {},
   "source": [
    "## Conditional Probability"
   ]
  },
  {
   "cell_type": "markdown",
   "id": "solar-sending",
   "metadata": {},
   "source": [
    "P(breakeven | z score)"
   ]
  },
  {
   "cell_type": "code",
   "execution_count": 66,
   "id": "pressed-better",
   "metadata": {},
   "outputs": [
    {
     "data": {
      "text/plain": [
       "0.35612244897959183"
      ]
     },
     "execution_count": 66,
     "metadata": {},
     "output_type": "execute_result"
    }
   ],
   "source": [
    "(period_delta.z_score>period_delta.z_score[-1]).mean()"
   ]
  },
  {
   "cell_type": "code",
   "execution_count": 67,
   "id": "choice-governor",
   "metadata": {},
   "outputs": [
    {
     "data": {
      "text/plain": [
       "0.6428571428571429"
      ]
     },
     "execution_count": 67,
     "metadata": {},
     "output_type": "execute_result"
    }
   ],
   "source": [
    "(period_delta.z_score<period_delta.z_score[-1]).mean()"
   ]
  },
  {
   "cell_type": "code",
   "execution_count": 190,
   "id": "young-ceiling",
   "metadata": {},
   "outputs": [],
   "source": [
    "ce_df = options_df[options_df['Option Type']=='CE'].sort_values('Strike Price').reset_index(drop=True)\n",
    "# ce_df = ce_df[ce_df['Strike Price']>last_price].reset_index(drop=True)\n",
    "\n",
    "ce_df['break_even_delta'] = ((ce_df['Close']+ce_df['Strike Price']) - last_price)/last_price\n",
    "ce_df['p_condition_breakeven'] = 0\n",
    "ce_df['p_breakeven'] = 0\n",
    "\n",
    "for ix, ce_row in ce_df.iterrows():\n",
    "    ce_df.loc[ix, 'p_condition_breakeven'] = ((period_delta.delta_max>ce_row['break_even_delta']) & (period_delta.z_score<(period_delta.z_score[-1])*1.1)).mean()\n",
    "    ce_df.loc[ix, 'p_breakeven'] = (period_delta.delta_max>ce_row['break_even_delta']).mean()\n",
    "    \n",
    "ce_df['kelly_fraction'] = ce_df['p_breakeven']-(1-ce_df['p_breakeven'])/1.1\n",
    "\n",
    "pe_df = options_df[options_df['Option Type']=='PE'].sort_values('Strike Price').reset_index(drop=True)\n",
    "# pe_df = pe_df[pe_df['Strike Price']<last_price].reset_index(drop=True)\n",
    "\n",
    "pe_df['break_even_delta'] = ((pe_df['Strike Price'] -  pe_df['Close'])- last_price)/last_price\n",
    "pe_df['p_condition_breakeven'] = 0\n",
    "pe_df['p_breakeven'] = 0\n",
    "\n",
    "for ix, pe_row in pe_df.iterrows():\n",
    "    pe_df.loc[ix, 'p_condition_breakeven'] = ((period_delta.delta_min<pe_row['break_even_delta']) & (period_delta.z_score>period_delta.z_score[-1])*0.9).mean()\n",
    "    pe_df.loc[ix, 'p_breakeven'] = (period_delta.delta_min<pe_row['break_even_delta']).mean()\n",
    "#     print(pe_df.loc[ix, ['break_even_delta', 'p_breakeven']])\n",
    "pe_df['kelly_fraction'] = pe_df['p_breakeven']-(1-pe_df['p_breakeven'])/1.1"
   ]
  },
  {
   "cell_type": "code",
   "execution_count": 189,
   "id": "adjusted-throw",
   "metadata": {},
   "outputs": [
    {
     "data": {
      "text/html": [
       "<div>\n",
       "<style scoped>\n",
       "    .dataframe tbody tr th:only-of-type {\n",
       "        vertical-align: middle;\n",
       "    }\n",
       "\n",
       "    .dataframe tbody tr th {\n",
       "        vertical-align: top;\n",
       "    }\n",
       "\n",
       "    .dataframe thead th {\n",
       "        text-align: right;\n",
       "    }\n",
       "</style>\n",
       "<table border=\"1\" class=\"dataframe\">\n",
       "  <thead>\n",
       "    <tr style=\"text-align: right;\">\n",
       "      <th></th>\n",
       "      <th>Strike Price</th>\n",
       "      <th>Expiry</th>\n",
       "      <th>Option Type</th>\n",
       "      <th>Symbol</th>\n",
       "      <th>identifier</th>\n",
       "      <th>Open Interest</th>\n",
       "      <th>Change in OI</th>\n",
       "      <th>Change % in OI</th>\n",
       "      <th>Number of Contracts</th>\n",
       "      <th>impliedVolatility</th>\n",
       "      <th>...</th>\n",
       "      <th>bidQty</th>\n",
       "      <th>bidprice</th>\n",
       "      <th>askQty</th>\n",
       "      <th>askPrice</th>\n",
       "      <th>Underlying</th>\n",
       "      <th>estimated_lots</th>\n",
       "      <th>break_even_delta</th>\n",
       "      <th>p_condition_breakeven</th>\n",
       "      <th>p_breakeven</th>\n",
       "      <th>kelly_fraction</th>\n",
       "    </tr>\n",
       "  </thead>\n",
       "  <tbody>\n",
       "    <tr>\n",
       "      <th>0</th>\n",
       "      <td>17300</td>\n",
       "      <td>2022-01-06</td>\n",
       "      <td>CE</td>\n",
       "      <td>NIFTY</td>\n",
       "      <td>OPTIDXNIFTY06-01-2022CE17300.00</td>\n",
       "      <td>46375.0</td>\n",
       "      <td>12865</td>\n",
       "      <td>38.391525</td>\n",
       "      <td>867368</td>\n",
       "      <td>13.47</td>\n",
       "      <td>...</td>\n",
       "      <td>550</td>\n",
       "      <td>162.95</td>\n",
       "      <td>2450</td>\n",
       "      <td>165.0</td>\n",
       "      <td>17354.05</td>\n",
       "      <td>5.621212</td>\n",
       "      <td>0.002583</td>\n",
       "      <td>0.443878</td>\n",
       "      <td>0.648980</td>\n",
       "      <td>0.329870</td>\n",
       "    </tr>\n",
       "    <tr>\n",
       "      <th>1</th>\n",
       "      <td>17450</td>\n",
       "      <td>2022-01-06</td>\n",
       "      <td>CE</td>\n",
       "      <td>NIFTY</td>\n",
       "      <td>OPTIDXNIFTY06-01-2022CE17450.00</td>\n",
       "      <td>16368.0</td>\n",
       "      <td>9271</td>\n",
       "      <td>130.632662</td>\n",
       "      <td>326042</td>\n",
       "      <td>12.69</td>\n",
       "      <td>...</td>\n",
       "      <td>450</td>\n",
       "      <td>82.35</td>\n",
       "      <td>50</td>\n",
       "      <td>83.0</td>\n",
       "      <td>17354.05</td>\n",
       "      <td>3.975228</td>\n",
       "      <td>0.006449</td>\n",
       "      <td>0.393878</td>\n",
       "      <td>0.569388</td>\n",
       "      <td>0.177922</td>\n",
       "    </tr>\n",
       "    <tr>\n",
       "      <th>2</th>\n",
       "      <td>17500</td>\n",
       "      <td>2022-01-06</td>\n",
       "      <td>CE</td>\n",
       "      <td>NIFTY</td>\n",
       "      <td>OPTIDXNIFTY06-01-2022CE17500.00</td>\n",
       "      <td>53461.0</td>\n",
       "      <td>9389</td>\n",
       "      <td>21.303776</td>\n",
       "      <td>921984</td>\n",
       "      <td>12.57</td>\n",
       "      <td>...</td>\n",
       "      <td>100</td>\n",
       "      <td>63.00</td>\n",
       "      <td>50</td>\n",
       "      <td>63.4</td>\n",
       "      <td>17354.05</td>\n",
       "      <td>16.971746</td>\n",
       "      <td>0.008209</td>\n",
       "      <td>0.367347</td>\n",
       "      <td>0.531633</td>\n",
       "      <td>0.105844</td>\n",
       "    </tr>\n",
       "    <tr>\n",
       "      <th>3</th>\n",
       "      <td>17650</td>\n",
       "      <td>2022-01-06</td>\n",
       "      <td>CE</td>\n",
       "      <td>NIFTY</td>\n",
       "      <td>OPTIDXNIFTY06-01-2022CE17650.00</td>\n",
       "      <td>21712.0</td>\n",
       "      <td>11487</td>\n",
       "      <td>112.342298</td>\n",
       "      <td>233532</td>\n",
       "      <td>12.06</td>\n",
       "      <td>...</td>\n",
       "      <td>200</td>\n",
       "      <td>23.05</td>\n",
       "      <td>1050</td>\n",
       "      <td>23.5</td>\n",
       "      <td>17354.05</td>\n",
       "      <td>18.798268</td>\n",
       "      <td>0.014529</td>\n",
       "      <td>0.269388</td>\n",
       "      <td>0.388776</td>\n",
       "      <td>-0.166883</td>\n",
       "    </tr>\n",
       "    <tr>\n",
       "      <th>4</th>\n",
       "      <td>17750</td>\n",
       "      <td>2022-01-06</td>\n",
       "      <td>CE</td>\n",
       "      <td>NIFTY</td>\n",
       "      <td>OPTIDXNIFTY06-01-2022CE17750.00</td>\n",
       "      <td>23201.0</td>\n",
       "      <td>12883</td>\n",
       "      <td>124.859469</td>\n",
       "      <td>178132</td>\n",
       "      <td>11.83</td>\n",
       "      <td>...</td>\n",
       "      <td>1000</td>\n",
       "      <td>9.90</td>\n",
       "      <td>1150</td>\n",
       "      <td>10.2</td>\n",
       "      <td>17354.05</td>\n",
       "      <td>45.492157</td>\n",
       "      <td>0.019529</td>\n",
       "      <td>0.190816</td>\n",
       "      <td>0.269388</td>\n",
       "      <td>-0.394805</td>\n",
       "    </tr>\n",
       "  </tbody>\n",
       "</table>\n",
       "<p>5 rows × 25 columns</p>\n",
       "</div>"
      ],
      "text/plain": [
       "   Strike Price     Expiry Option Type Symbol  \\\n",
       "0         17300 2022-01-06          CE  NIFTY   \n",
       "1         17450 2022-01-06          CE  NIFTY   \n",
       "2         17500 2022-01-06          CE  NIFTY   \n",
       "3         17650 2022-01-06          CE  NIFTY   \n",
       "4         17750 2022-01-06          CE  NIFTY   \n",
       "\n",
       "                        identifier  Open Interest  Change in OI  \\\n",
       "0  OPTIDXNIFTY06-01-2022CE17300.00        46375.0         12865   \n",
       "1  OPTIDXNIFTY06-01-2022CE17450.00        16368.0          9271   \n",
       "2  OPTIDXNIFTY06-01-2022CE17500.00        53461.0          9389   \n",
       "3  OPTIDXNIFTY06-01-2022CE17650.00        21712.0         11487   \n",
       "4  OPTIDXNIFTY06-01-2022CE17750.00        23201.0         12883   \n",
       "\n",
       "   Change % in OI  Number of Contracts  impliedVolatility  ...  bidQty  \\\n",
       "0       38.391525               867368              13.47  ...     550   \n",
       "1      130.632662               326042              12.69  ...     450   \n",
       "2       21.303776               921984              12.57  ...     100   \n",
       "3      112.342298               233532              12.06  ...     200   \n",
       "4      124.859469               178132              11.83  ...    1000   \n",
       "\n",
       "   bidprice  askQty  askPrice  Underlying  estimated_lots  break_even_delta  \\\n",
       "0    162.95    2450     165.0    17354.05        5.621212          0.002583   \n",
       "1     82.35      50      83.0    17354.05        3.975228          0.006449   \n",
       "2     63.00      50      63.4    17354.05       16.971746          0.008209   \n",
       "3     23.05    1050      23.5    17354.05       18.798268          0.014529   \n",
       "4      9.90    1150      10.2    17354.05       45.492157          0.019529   \n",
       "\n",
       "   p_condition_breakeven  p_breakeven  kelly_fraction  \n",
       "0               0.443878     0.648980        0.329870  \n",
       "1               0.393878     0.569388        0.177922  \n",
       "2               0.367347     0.531633        0.105844  \n",
       "3               0.269388     0.388776       -0.166883  \n",
       "4               0.190816     0.269388       -0.394805  \n",
       "\n",
       "[5 rows x 25 columns]"
      ]
     },
     "execution_count": 189,
     "metadata": {},
     "output_type": "execute_result"
    }
   ],
   "source": [
    "ce_df.sort_values('Strike Price', ascending=True).head()"
   ]
  },
  {
   "cell_type": "code",
   "execution_count": 191,
   "id": "aggressive-radio",
   "metadata": {},
   "outputs": [
    {
     "data": {
      "text/html": [
       "<div>\n",
       "<style scoped>\n",
       "    .dataframe tbody tr th:only-of-type {\n",
       "        vertical-align: middle;\n",
       "    }\n",
       "\n",
       "    .dataframe tbody tr th {\n",
       "        vertical-align: top;\n",
       "    }\n",
       "\n",
       "    .dataframe thead th {\n",
       "        text-align: right;\n",
       "    }\n",
       "</style>\n",
       "<table border=\"1\" class=\"dataframe\">\n",
       "  <thead>\n",
       "    <tr style=\"text-align: right;\">\n",
       "      <th></th>\n",
       "      <th>Strike Price</th>\n",
       "      <th>Expiry</th>\n",
       "      <th>Option Type</th>\n",
       "      <th>Symbol</th>\n",
       "      <th>identifier</th>\n",
       "      <th>Open Interest</th>\n",
       "      <th>Change in OI</th>\n",
       "      <th>Change % in OI</th>\n",
       "      <th>Number of Contracts</th>\n",
       "      <th>impliedVolatility</th>\n",
       "      <th>...</th>\n",
       "      <th>bidQty</th>\n",
       "      <th>bidprice</th>\n",
       "      <th>askQty</th>\n",
       "      <th>askPrice</th>\n",
       "      <th>Underlying</th>\n",
       "      <th>estimated_lots</th>\n",
       "      <th>break_even_delta</th>\n",
       "      <th>p_condition_breakeven</th>\n",
       "      <th>p_breakeven</th>\n",
       "      <th>kelly_fraction</th>\n",
       "    </tr>\n",
       "  </thead>\n",
       "  <tbody>\n",
       "    <tr>\n",
       "      <th>23</th>\n",
       "      <td>17400</td>\n",
       "      <td>2022-01-06</td>\n",
       "      <td>PE</td>\n",
       "      <td>NIFTY</td>\n",
       "      <td>OPTIDXNIFTY06-01-2022PE17400.00</td>\n",
       "      <td>27164.0</td>\n",
       "      <td>23715</td>\n",
       "      <td>687.590606</td>\n",
       "      <td>533675</td>\n",
       "      <td>13.64</td>\n",
       "      <td>...</td>\n",
       "      <td>1950</td>\n",
       "      <td>130.00</td>\n",
       "      <td>200</td>\n",
       "      <td>132.00</td>\n",
       "      <td>17354.05</td>\n",
       "      <td>4.179077</td>\n",
       "      <td>-0.008611</td>\n",
       "      <td>0.127551</td>\n",
       "      <td>0.352041</td>\n",
       "      <td>-0.237013</td>\n",
       "    </tr>\n",
       "    <tr>\n",
       "      <th>22</th>\n",
       "      <td>17350</td>\n",
       "      <td>2022-01-06</td>\n",
       "      <td>PE</td>\n",
       "      <td>NIFTY</td>\n",
       "      <td>OPTIDXNIFTY06-01-2022PE17350.00</td>\n",
       "      <td>24248.0</td>\n",
       "      <td>22790</td>\n",
       "      <td>1563.100137</td>\n",
       "      <td>476084</td>\n",
       "      <td>14.11</td>\n",
       "      <td>...</td>\n",
       "      <td>600</td>\n",
       "      <td>108.00</td>\n",
       "      <td>200</td>\n",
       "      <td>109.25</td>\n",
       "      <td>17354.05</td>\n",
       "      <td>4.426837</td>\n",
       "      <td>-0.010307</td>\n",
       "      <td>0.119388</td>\n",
       "      <td>0.324490</td>\n",
       "      <td>-0.289610</td>\n",
       "    </tr>\n",
       "    <tr>\n",
       "      <th>21</th>\n",
       "      <td>17250</td>\n",
       "      <td>2022-01-06</td>\n",
       "      <td>PE</td>\n",
       "      <td>NIFTY</td>\n",
       "      <td>OPTIDXNIFTY06-01-2022PE17250.00</td>\n",
       "      <td>18959.0</td>\n",
       "      <td>12131</td>\n",
       "      <td>177.665495</td>\n",
       "      <td>330966</td>\n",
       "      <td>14.44</td>\n",
       "      <td>...</td>\n",
       "      <td>200</td>\n",
       "      <td>70.15</td>\n",
       "      <td>250</td>\n",
       "      <td>72.30</td>\n",
       "      <td>17354.05</td>\n",
       "      <td>5.244537</td>\n",
       "      <td>-0.013909</td>\n",
       "      <td>0.096939</td>\n",
       "      <td>0.266327</td>\n",
       "      <td>-0.400649</td>\n",
       "    </tr>\n",
       "    <tr>\n",
       "      <th>20</th>\n",
       "      <td>17200</td>\n",
       "      <td>2022-01-06</td>\n",
       "      <td>PE</td>\n",
       "      <td>NIFTY</td>\n",
       "      <td>OPTIDXNIFTY06-01-2022PE17200.00</td>\n",
       "      <td>72819.0</td>\n",
       "      <td>16796</td>\n",
       "      <td>29.980544</td>\n",
       "      <td>760766</td>\n",
       "      <td>14.47</td>\n",
       "      <td>...</td>\n",
       "      <td>50</td>\n",
       "      <td>58.00</td>\n",
       "      <td>3750</td>\n",
       "      <td>59.00</td>\n",
       "      <td>17354.05</td>\n",
       "      <td>25.663084</td>\n",
       "      <td>-0.015887</td>\n",
       "      <td>0.088776</td>\n",
       "      <td>0.244898</td>\n",
       "      <td>-0.441558</td>\n",
       "    </tr>\n",
       "    <tr>\n",
       "      <th>19</th>\n",
       "      <td>17150</td>\n",
       "      <td>2022-01-06</td>\n",
       "      <td>PE</td>\n",
       "      <td>NIFTY</td>\n",
       "      <td>OPTIDXNIFTY06-01-2022PE17150.00</td>\n",
       "      <td>17526.0</td>\n",
       "      <td>11814</td>\n",
       "      <td>206.827731</td>\n",
       "      <td>226438</td>\n",
       "      <td>15.01</td>\n",
       "      <td>...</td>\n",
       "      <td>1100</td>\n",
       "      <td>47.05</td>\n",
       "      <td>2000</td>\n",
       "      <td>47.40</td>\n",
       "      <td>17354.05</td>\n",
       "      <td>7.394937</td>\n",
       "      <td>-0.018220</td>\n",
       "      <td>0.082653</td>\n",
       "      <td>0.222449</td>\n",
       "      <td>-0.484416</td>\n",
       "    </tr>\n",
       "  </tbody>\n",
       "</table>\n",
       "<p>5 rows × 25 columns</p>\n",
       "</div>"
      ],
      "text/plain": [
       "    Strike Price     Expiry Option Type Symbol  \\\n",
       "23         17400 2022-01-06          PE  NIFTY   \n",
       "22         17350 2022-01-06          PE  NIFTY   \n",
       "21         17250 2022-01-06          PE  NIFTY   \n",
       "20         17200 2022-01-06          PE  NIFTY   \n",
       "19         17150 2022-01-06          PE  NIFTY   \n",
       "\n",
       "                         identifier  Open Interest  Change in OI  \\\n",
       "23  OPTIDXNIFTY06-01-2022PE17400.00        27164.0         23715   \n",
       "22  OPTIDXNIFTY06-01-2022PE17350.00        24248.0         22790   \n",
       "21  OPTIDXNIFTY06-01-2022PE17250.00        18959.0         12131   \n",
       "20  OPTIDXNIFTY06-01-2022PE17200.00        72819.0         16796   \n",
       "19  OPTIDXNIFTY06-01-2022PE17150.00        17526.0         11814   \n",
       "\n",
       "    Change % in OI  Number of Contracts  impliedVolatility  ...  bidQty  \\\n",
       "23      687.590606               533675              13.64  ...    1950   \n",
       "22     1563.100137               476084              14.11  ...     600   \n",
       "21      177.665495               330966              14.44  ...     200   \n",
       "20       29.980544               760766              14.47  ...      50   \n",
       "19      206.827731               226438              15.01  ...    1100   \n",
       "\n",
       "    bidprice  askQty  askPrice  Underlying  estimated_lots  break_even_delta  \\\n",
       "23    130.00     200    132.00    17354.05        4.179077         -0.008611   \n",
       "22    108.00     200    109.25    17354.05        4.426837         -0.010307   \n",
       "21     70.15     250     72.30    17354.05        5.244537         -0.013909   \n",
       "20     58.00    3750     59.00    17354.05       25.663084         -0.015887   \n",
       "19     47.05    2000     47.40    17354.05        7.394937         -0.018220   \n",
       "\n",
       "    p_condition_breakeven  p_breakeven  kelly_fraction  \n",
       "23               0.127551     0.352041       -0.237013  \n",
       "22               0.119388     0.324490       -0.289610  \n",
       "21               0.096939     0.266327       -0.400649  \n",
       "20               0.088776     0.244898       -0.441558  \n",
       "19               0.082653     0.222449       -0.484416  \n",
       "\n",
       "[5 rows x 25 columns]"
      ]
     },
     "execution_count": 191,
     "metadata": {},
     "output_type": "execute_result"
    }
   ],
   "source": [
    "pe_df.sort_values('Strike Price', ascending=False).head()"
   ]
  },
  {
   "cell_type": "code",
   "execution_count": 141,
   "id": "generic-aside",
   "metadata": {},
   "outputs": [
    {
     "data": {
      "text/plain": [
       "0.25510204081632654"
      ]
     },
     "execution_count": 141,
     "metadata": {},
     "output_type": "execute_result"
    }
   ],
   "source": [
    "(period_delta.delta_max>0.02).mean()"
   ]
  },
  {
   "cell_type": "code",
   "execution_count": 17,
   "id": "incoming-locking",
   "metadata": {},
   "outputs": [
    {
     "ename": "NameError",
     "evalue": "name 'period_delta' is not defined",
     "output_type": "error",
     "traceback": [
      "\u001b[0;31m---------------------------------------------------------------------------\u001b[0m",
      "\u001b[0;31mNameError\u001b[0m                                 Traceback (most recent call last)",
      "\u001b[0;32m<ipython-input-17-1922f0f5d195>\u001b[0m in \u001b[0;36m<module>\u001b[0;34m\u001b[0m\n\u001b[0;32m----> 1\u001b[0;31m \u001b[0;34m(\u001b[0m\u001b[0mperiod_delta\u001b[0m\u001b[0;34m.\u001b[0m\u001b[0mz_score\u001b[0m\u001b[0;34m>\u001b[0m\u001b[0mperiod_delta\u001b[0m\u001b[0;34m.\u001b[0m\u001b[0mz_score\u001b[0m\u001b[0;34m[\u001b[0m\u001b[0;34m-\u001b[0m\u001b[0;36m1\u001b[0m\u001b[0;34m]\u001b[0m\u001b[0;34m)\u001b[0m\u001b[0;34m.\u001b[0m\u001b[0mmean\u001b[0m\u001b[0;34m(\u001b[0m\u001b[0;34m)\u001b[0m\u001b[0;34m\u001b[0m\u001b[0;34m\u001b[0m\u001b[0m\n\u001b[0m",
      "\u001b[0;31mNameError\u001b[0m: name 'period_delta' is not defined"
     ]
    }
   ],
   "source": [
    "(period_delta.z_score>period_delta.z_score[-1]).mean()"
   ]
  },
  {
   "cell_type": "code",
   "execution_count": null,
   "id": "adaptive-leader",
   "metadata": {},
   "outputs": [],
   "source": []
  }
 ],
 "metadata": {
  "kernelspec": {
   "display_name": "Python 3",
   "language": "python",
   "name": "python3"
  },
  "language_info": {
   "codemirror_mode": {
    "name": "ipython",
    "version": 3
   },
   "file_extension": ".py",
   "mimetype": "text/x-python",
   "name": "python",
   "nbconvert_exporter": "python",
   "pygments_lexer": "ipython3",
   "version": "3.8.8"
  }
 },
 "nbformat": 4,
 "nbformat_minor": 5
}
