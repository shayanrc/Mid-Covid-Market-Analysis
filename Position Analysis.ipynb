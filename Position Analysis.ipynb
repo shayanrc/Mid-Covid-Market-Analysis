{
 "cells": [
  {
   "cell_type": "code",
   "execution_count": 1,
   "id": "sapphire-conditions",
   "metadata": {},
   "outputs": [],
   "source": [
    "%config Completer.use_jedi = False\n"
   ]
  },
  {
   "cell_type": "code",
   "execution_count": 2,
   "id": "affected-remainder",
   "metadata": {},
   "outputs": [],
   "source": [
    "import pandas as pd\n",
    "\n",
    "import datetime as dt\n",
    "\n",
    "import nsepy\n",
    "\n",
    "from Dashboards.helpers.nse import nse_load_options, load_underlying\n",
    "\n",
    "from Dashboards.helpers.probability import calculate_period_delta, evaluate_pairs, generate_pairs"
   ]
  },
  {
   "cell_type": "code",
   "execution_count": 3,
   "id": "boolean-runner",
   "metadata": {},
   "outputs": [],
   "source": [
    "underlying = 'NIFTY'\n",
    "data_df, expiries = nse_load_options(underlying)"
   ]
  },
  {
   "cell_type": "markdown",
   "id": "multiple-alabama",
   "metadata": {},
   "source": [
    "## Unrealizesed PNL Report"
   ]
  },
  {
   "cell_type": "code",
   "execution_count": 4,
   "id": "manual-maine",
   "metadata": {},
   "outputs": [
    {
     "data": {
      "text/html": [
       "<div>\n",
       "<style scoped>\n",
       "    .dataframe tbody tr th:only-of-type {\n",
       "        vertical-align: middle;\n",
       "    }\n",
       "\n",
       "    .dataframe tbody tr th {\n",
       "        vertical-align: top;\n",
       "    }\n",
       "\n",
       "    .dataframe thead th {\n",
       "        text-align: right;\n",
       "    }\n",
       "</style>\n",
       "<table border=\"1\" class=\"dataframe\">\n",
       "  <thead>\n",
       "    <tr style=\"text-align: right;\">\n",
       "      <th></th>\n",
       "      <th>Scrip Name</th>\n",
       "      <th>Scrip Code</th>\n",
       "      <th>Unrealized P&amp;L</th>\n",
       "      <th>Unrealized P&amp;L %</th>\n",
       "      <th>ISIN</th>\n",
       "      <th>Scrip Opt</th>\n",
       "      <th>Buy/Sell</th>\n",
       "      <th>Open Qty</th>\n",
       "      <th>Avg Rate</th>\n",
       "      <th>Open Amt</th>\n",
       "      <th>Closing Rate Exchange</th>\n",
       "      <th>Closing Rate Date</th>\n",
       "      <th>Closing Rate</th>\n",
       "      <th>Closing Amt</th>\n",
       "    </tr>\n",
       "  </thead>\n",
       "  <tbody>\n",
       "    <tr>\n",
       "      <th>0</th>\n",
       "      <td>BANKNIFTY</td>\n",
       "      <td>BANKNIFTY</td>\n",
       "      <td>-1505.00</td>\n",
       "      <td>-11.4634</td>\n",
       "      <td>NaN</td>\n",
       "      <td>CE</td>\n",
       "      <td>Buy</td>\n",
       "      <td>25</td>\n",
       "      <td>₹ 525.15</td>\n",
       "      <td>₹ 13,128.75</td>\n",
       "      <td>FON</td>\n",
       "      <td>03/12/2021</td>\n",
       "      <td>464.95</td>\n",
       "      <td>₹ 11,623.75</td>\n",
       "    </tr>\n",
       "    <tr>\n",
       "      <th>1</th>\n",
       "      <td>BANKNIFTY</td>\n",
       "      <td>BANKNIFTY</td>\n",
       "      <td>-5886.25</td>\n",
       "      <td>-33.3972</td>\n",
       "      <td>NaN</td>\n",
       "      <td>PE</td>\n",
       "      <td>Buy</td>\n",
       "      <td>25</td>\n",
       "      <td>₹ 705.00</td>\n",
       "      <td>₹ 17,625.00</td>\n",
       "      <td>FON</td>\n",
       "      <td>03/12/2021</td>\n",
       "      <td>469.55</td>\n",
       "      <td>₹ 11,738.75</td>\n",
       "    </tr>\n",
       "    <tr>\n",
       "      <th>2</th>\n",
       "      <td>NIFTY</td>\n",
       "      <td>NIFTY</td>\n",
       "      <td>45.00</td>\n",
       "      <td>0.5982</td>\n",
       "      <td>NaN</td>\n",
       "      <td>CE</td>\n",
       "      <td>Buy</td>\n",
       "      <td>50</td>\n",
       "      <td>₹ 150.45</td>\n",
       "      <td>₹ 7,522.50</td>\n",
       "      <td>FON</td>\n",
       "      <td>03/12/2021</td>\n",
       "      <td>151.35</td>\n",
       "      <td>₹ 7,567.50</td>\n",
       "    </tr>\n",
       "    <tr>\n",
       "      <th>3</th>\n",
       "      <td>NIFTY</td>\n",
       "      <td>NIFTY</td>\n",
       "      <td>-4332.50</td>\n",
       "      <td>-41.0664</td>\n",
       "      <td>NaN</td>\n",
       "      <td>CE</td>\n",
       "      <td>Buy</td>\n",
       "      <td>50</td>\n",
       "      <td>₹ 211.00</td>\n",
       "      <td>₹ 10,550.00</td>\n",
       "      <td>FON</td>\n",
       "      <td>03/12/2021</td>\n",
       "      <td>124.35</td>\n",
       "      <td>₹ 6,217.50</td>\n",
       "    </tr>\n",
       "    <tr>\n",
       "      <th>4</th>\n",
       "      <td>NIFTY</td>\n",
       "      <td>NIFTY</td>\n",
       "      <td>-3485.00</td>\n",
       "      <td>-36.9369</td>\n",
       "      <td>NaN</td>\n",
       "      <td>CE</td>\n",
       "      <td>Buy</td>\n",
       "      <td>100</td>\n",
       "      <td>₹ 94.35</td>\n",
       "      <td>₹ 9,435.00</td>\n",
       "      <td>FON</td>\n",
       "      <td>03/12/2021</td>\n",
       "      <td>59.50</td>\n",
       "      <td>₹ 5,950.00</td>\n",
       "    </tr>\n",
       "    <tr>\n",
       "      <th>5</th>\n",
       "      <td>NIFTY</td>\n",
       "      <td>NIFTY</td>\n",
       "      <td>1422.50</td>\n",
       "      <td>44.3146</td>\n",
       "      <td>NaN</td>\n",
       "      <td>PE</td>\n",
       "      <td>Buy</td>\n",
       "      <td>50</td>\n",
       "      <td>₹ 64.20</td>\n",
       "      <td>₹ 3,210.00</td>\n",
       "      <td>FON</td>\n",
       "      <td>03/12/2021</td>\n",
       "      <td>92.65</td>\n",
       "      <td>₹ 4,632.50</td>\n",
       "    </tr>\n",
       "    <tr>\n",
       "      <th>6</th>\n",
       "      <td>NIFTY</td>\n",
       "      <td>NIFTY</td>\n",
       "      <td>-225.00</td>\n",
       "      <td>-4.8387</td>\n",
       "      <td>NaN</td>\n",
       "      <td>PE</td>\n",
       "      <td>Buy</td>\n",
       "      <td>50</td>\n",
       "      <td>₹ 93.00</td>\n",
       "      <td>₹ 4,650.00</td>\n",
       "      <td>FON</td>\n",
       "      <td>03/12/2021</td>\n",
       "      <td>88.50</td>\n",
       "      <td>₹ 4,425.00</td>\n",
       "    </tr>\n",
       "    <tr>\n",
       "      <th>7</th>\n",
       "      <td>NIFTY</td>\n",
       "      <td>NIFTY</td>\n",
       "      <td>-1410.00</td>\n",
       "      <td>-14.8813</td>\n",
       "      <td>NaN</td>\n",
       "      <td>PE</td>\n",
       "      <td>Buy</td>\n",
       "      <td>50</td>\n",
       "      <td>₹ 189.50</td>\n",
       "      <td>₹ 9,475.00</td>\n",
       "      <td>FON</td>\n",
       "      <td>03/12/2021</td>\n",
       "      <td>161.30</td>\n",
       "      <td>₹ 8,065.00</td>\n",
       "    </tr>\n",
       "    <tr>\n",
       "      <th>8</th>\n",
       "      <td>NIFTY</td>\n",
       "      <td>NIFTY</td>\n",
       "      <td>3875.00</td>\n",
       "      <td>53.1550</td>\n",
       "      <td>NaN</td>\n",
       "      <td>PE</td>\n",
       "      <td>Buy</td>\n",
       "      <td>50</td>\n",
       "      <td>₹ 145.80</td>\n",
       "      <td>₹ 7,290.00</td>\n",
       "      <td>FON</td>\n",
       "      <td>03/12/2021</td>\n",
       "      <td>223.30</td>\n",
       "      <td>₹ 11,165.00</td>\n",
       "    </tr>\n",
       "  </tbody>\n",
       "</table>\n",
       "</div>"
      ],
      "text/plain": [
       "  Scrip Name Scrip Code  Unrealized P&L  Unrealized P&L %  ISIN Scrip Opt  \\\n",
       "0  BANKNIFTY  BANKNIFTY        -1505.00          -11.4634   NaN        CE   \n",
       "1  BANKNIFTY  BANKNIFTY        -5886.25          -33.3972   NaN        PE   \n",
       "2      NIFTY      NIFTY           45.00            0.5982   NaN        CE   \n",
       "3      NIFTY      NIFTY        -4332.50          -41.0664   NaN        CE   \n",
       "4      NIFTY      NIFTY        -3485.00          -36.9369   NaN        CE   \n",
       "5      NIFTY      NIFTY         1422.50           44.3146   NaN        PE   \n",
       "6      NIFTY      NIFTY         -225.00           -4.8387   NaN        PE   \n",
       "7      NIFTY      NIFTY        -1410.00          -14.8813   NaN        PE   \n",
       "8      NIFTY      NIFTY         3875.00           53.1550   NaN        PE   \n",
       "\n",
       "  Buy/Sell  Open Qty   Avg Rate      Open Amt Closing Rate Exchange  \\\n",
       "0      Buy        25   ₹ 525.15   ₹ 13,128.75                   FON   \n",
       "1      Buy        25   ₹ 705.00   ₹ 17,625.00                   FON   \n",
       "2      Buy        50   ₹ 150.45    ₹ 7,522.50                   FON   \n",
       "3      Buy        50   ₹ 211.00   ₹ 10,550.00                   FON   \n",
       "4      Buy       100    ₹ 94.35    ₹ 9,435.00                   FON   \n",
       "5      Buy        50    ₹ 64.20    ₹ 3,210.00                   FON   \n",
       "6      Buy        50    ₹ 93.00    ₹ 4,650.00                   FON   \n",
       "7      Buy        50   ₹ 189.50    ₹ 9,475.00                   FON   \n",
       "8      Buy        50   ₹ 145.80    ₹ 7,290.00                   FON   \n",
       "\n",
       "  Closing Rate Date  Closing Rate   Closing Amt  \n",
       "0        03/12/2021        464.95   ₹ 11,623.75  \n",
       "1        03/12/2021        469.55   ₹ 11,738.75  \n",
       "2        03/12/2021        151.35    ₹ 7,567.50  \n",
       "3        03/12/2021        124.35    ₹ 6,217.50  \n",
       "4        03/12/2021         59.50    ₹ 5,950.00  \n",
       "5        03/12/2021         92.65    ₹ 4,632.50  \n",
       "6        03/12/2021         88.50    ₹ 4,425.00  \n",
       "7        03/12/2021        161.30    ₹ 8,065.00  \n",
       "8        03/12/2021        223.30   ₹ 11,165.00  "
      ]
     },
     "execution_count": 4,
     "metadata": {},
     "output_type": "execute_result"
    }
   ],
   "source": [
    "positions_df = pd.read_excel('Data/unrealizedPnl_report_2122_Future & Options.xlsx', skiprows=5, header=1)\n",
    "positions_df"
   ]
  },
  {
   "cell_type": "markdown",
   "id": "contrary-conditioning",
   "metadata": {},
   "source": [
    "## Trades Report"
   ]
  },
  {
   "cell_type": "code",
   "execution_count": 228,
   "id": "intended-brook",
   "metadata": {},
   "outputs": [],
   "source": [
    "# Skip the first few lines it contains the letterhead\n",
    "trades_df = pd.read_excel('Data/trade_report_2122_NSE FO.xlsx', skiprows=5, header=1)\n",
    "\n",
    "trades_df['Date'] = pd.to_datetime(trades_df['Date'], dayfirst=True)\n",
    "trades_df['Expiry'] = pd.to_datetime(trades_df['Expiry'], dayfirst=True)\n",
    "\n",
    "# Remove the Rupee symbol, and replace the comma before converting it to float\n",
    "trades_df['Price'] = pd.to_numeric(trades_df['Price'].apply(lambda x: x[3:].replace(',', '')))\n",
    "\n",
    "trades_df['option_type'] = trades_df['Instrument Type'].str[9:].replace({'Put':'PE', \n",
    "                                                                         'Call':'CE'})\n",
    "\n",
    "trades_df.loc[trades_df['Side']=='Sell', 'Quantity']*=-1\n",
    "\n",
    "trades_df['option_id'] = trades_df.Company + trades_df.Strike.apply(lambda strike: \"%.0f\"%strike) + trades_df.option_type + trades_df.Expiry.dt.strftime('_%d-%b')"
   ]
  },
  {
   "cell_type": "code",
   "execution_count": 230,
   "id": "designing-blond",
   "metadata": {},
   "outputs": [
    {
     "data": {
      "text/html": [
       "<div>\n",
       "<style scoped>\n",
       "    .dataframe tbody tr th:only-of-type {\n",
       "        vertical-align: middle;\n",
       "    }\n",
       "\n",
       "    .dataframe tbody tr th {\n",
       "        vertical-align: top;\n",
       "    }\n",
       "\n",
       "    .dataframe thead th {\n",
       "        text-align: right;\n",
       "    }\n",
       "</style>\n",
       "<table border=\"1\" class=\"dataframe\">\n",
       "  <thead>\n",
       "    <tr style=\"text-align: right;\">\n",
       "      <th></th>\n",
       "      <th>Date</th>\n",
       "      <th>Company</th>\n",
       "      <th>Amount</th>\n",
       "      <th>Segment</th>\n",
       "      <th>Scrip Code</th>\n",
       "      <th>Instrument Type</th>\n",
       "      <th>Strike</th>\n",
       "      <th>Expiry</th>\n",
       "      <th>Trade Num</th>\n",
       "      <th>Trade Time</th>\n",
       "      <th>Side</th>\n",
       "      <th>Quantity</th>\n",
       "      <th>Price</th>\n",
       "      <th>option_type</th>\n",
       "      <th>option_id</th>\n",
       "    </tr>\n",
       "  </thead>\n",
       "  <tbody>\n",
       "    <tr>\n",
       "      <th>0</th>\n",
       "      <td>2021-12-16</td>\n",
       "      <td>BANKNIFTY</td>\n",
       "      <td>₹ 400.00</td>\n",
       "      <td>NSE FO</td>\n",
       "      <td>BANKNIFTY</td>\n",
       "      <td>European Call</td>\n",
       "      <td>37400.0</td>\n",
       "      <td>2021-12-16</td>\n",
       "      <td>404045313</td>\n",
       "      <td>10:35:01</td>\n",
       "      <td>Sell</td>\n",
       "      <td>-25.0</td>\n",
       "      <td>16.00</td>\n",
       "      <td>CE</td>\n",
       "      <td>BANKNIFTY37400CE_16-Dec</td>\n",
       "    </tr>\n",
       "    <tr>\n",
       "      <th>1</th>\n",
       "      <td>2021-12-10</td>\n",
       "      <td>NIFTY</td>\n",
       "      <td>₹ 7,700.00</td>\n",
       "      <td>NSE FO</td>\n",
       "      <td>NIFTY</td>\n",
       "      <td>European Call</td>\n",
       "      <td>17550.0</td>\n",
       "      <td>2021-12-23</td>\n",
       "      <td>100312687</td>\n",
       "      <td>11:13:01</td>\n",
       "      <td>Buy</td>\n",
       "      <td>50.0</td>\n",
       "      <td>154.00</td>\n",
       "      <td>CE</td>\n",
       "      <td>NIFTY17550CE_23-Dec</td>\n",
       "    </tr>\n",
       "    <tr>\n",
       "      <th>2</th>\n",
       "      <td>2021-12-10</td>\n",
       "      <td>NIFTY</td>\n",
       "      <td>₹ 7,710.00</td>\n",
       "      <td>NSE FO</td>\n",
       "      <td>NIFTY</td>\n",
       "      <td>European Call</td>\n",
       "      <td>17550.0</td>\n",
       "      <td>2021-12-23</td>\n",
       "      <td>100311847</td>\n",
       "      <td>11:12:21</td>\n",
       "      <td>Buy</td>\n",
       "      <td>50.0</td>\n",
       "      <td>154.20</td>\n",
       "      <td>CE</td>\n",
       "      <td>NIFTY17550CE_23-Dec</td>\n",
       "    </tr>\n",
       "    <tr>\n",
       "      <th>3</th>\n",
       "      <td>2021-12-10</td>\n",
       "      <td>NIFTY</td>\n",
       "      <td>₹ 10,232.50</td>\n",
       "      <td>NSE FO</td>\n",
       "      <td>NIFTY</td>\n",
       "      <td>European Put</td>\n",
       "      <td>17500.0</td>\n",
       "      <td>2021-12-23</td>\n",
       "      <td>100316143</td>\n",
       "      <td>11:15:29</td>\n",
       "      <td>Buy</td>\n",
       "      <td>50.0</td>\n",
       "      <td>204.65</td>\n",
       "      <td>PE</td>\n",
       "      <td>NIFTY17500PE_23-Dec</td>\n",
       "    </tr>\n",
       "    <tr>\n",
       "      <th>4</th>\n",
       "      <td>2021-12-10</td>\n",
       "      <td>NIFTY</td>\n",
       "      <td>₹ 10,237.50</td>\n",
       "      <td>NSE FO</td>\n",
       "      <td>NIFTY</td>\n",
       "      <td>European Put</td>\n",
       "      <td>17500.0</td>\n",
       "      <td>2021-12-23</td>\n",
       "      <td>100316144</td>\n",
       "      <td>11:15:29</td>\n",
       "      <td>Buy</td>\n",
       "      <td>50.0</td>\n",
       "      <td>204.75</td>\n",
       "      <td>PE</td>\n",
       "      <td>NIFTY17500PE_23-Dec</td>\n",
       "    </tr>\n",
       "    <tr>\n",
       "      <th>...</th>\n",
       "      <td>...</td>\n",
       "      <td>...</td>\n",
       "      <td>...</td>\n",
       "      <td>...</td>\n",
       "      <td>...</td>\n",
       "      <td>...</td>\n",
       "      <td>...</td>\n",
       "      <td>...</td>\n",
       "      <td>...</td>\n",
       "      <td>...</td>\n",
       "      <td>...</td>\n",
       "      <td>...</td>\n",
       "      <td>...</td>\n",
       "      <td>...</td>\n",
       "      <td>...</td>\n",
       "    </tr>\n",
       "    <tr>\n",
       "      <th>65</th>\n",
       "      <td>2021-11-18</td>\n",
       "      <td>BANKNIFTY</td>\n",
       "      <td>₹ 8,330.00</td>\n",
       "      <td>NSE FO</td>\n",
       "      <td>BANKNIFTY</td>\n",
       "      <td>European Call</td>\n",
       "      <td>38100.0</td>\n",
       "      <td>2021-11-25</td>\n",
       "      <td>702304153</td>\n",
       "      <td>15:18:41</td>\n",
       "      <td>Buy</td>\n",
       "      <td>25.0</td>\n",
       "      <td>333.20</td>\n",
       "      <td>CE</td>\n",
       "      <td>BANKNIFTY38100CE_25-Nov</td>\n",
       "    </tr>\n",
       "    <tr>\n",
       "      <th>66</th>\n",
       "      <td>2021-11-18</td>\n",
       "      <td>NIFTY</td>\n",
       "      <td>₹ 70.00</td>\n",
       "      <td>NSE FO</td>\n",
       "      <td>NIFTY</td>\n",
       "      <td>European Call</td>\n",
       "      <td>18100.0</td>\n",
       "      <td>2021-11-18</td>\n",
       "      <td>8464432</td>\n",
       "      <td>12:11:16</td>\n",
       "      <td>Sell</td>\n",
       "      <td>-50.0</td>\n",
       "      <td>1.40</td>\n",
       "      <td>CE</td>\n",
       "      <td>NIFTY18100CE_18-Nov</td>\n",
       "    </tr>\n",
       "    <tr>\n",
       "      <th>67</th>\n",
       "      <td>2021-11-18</td>\n",
       "      <td>NIFTY</td>\n",
       "      <td>₹ 50.00</td>\n",
       "      <td>NSE FO</td>\n",
       "      <td>NIFTY</td>\n",
       "      <td>European Call</td>\n",
       "      <td>18350.0</td>\n",
       "      <td>2021-11-18</td>\n",
       "      <td>7759277</td>\n",
       "      <td>11:49:37</td>\n",
       "      <td>Sell</td>\n",
       "      <td>-50.0</td>\n",
       "      <td>1.00</td>\n",
       "      <td>CE</td>\n",
       "      <td>NIFTY18350CE_18-Nov</td>\n",
       "    </tr>\n",
       "    <tr>\n",
       "      <th>68</th>\n",
       "      <td>2021-11-18</td>\n",
       "      <td>NIFTY</td>\n",
       "      <td>₹ 6,350.00</td>\n",
       "      <td>NSE FO</td>\n",
       "      <td>NIFTY</td>\n",
       "      <td>European Put</td>\n",
       "      <td>17850.0</td>\n",
       "      <td>2021-11-18</td>\n",
       "      <td>7881893</td>\n",
       "      <td>11:53:36</td>\n",
       "      <td>Sell</td>\n",
       "      <td>-50.0</td>\n",
       "      <td>127.00</td>\n",
       "      <td>PE</td>\n",
       "      <td>NIFTY17850PE_18-Nov</td>\n",
       "    </tr>\n",
       "    <tr>\n",
       "      <th>69</th>\n",
       "      <td>2021-11-18</td>\n",
       "      <td>NIFTY</td>\n",
       "      <td>₹ 10,000.00</td>\n",
       "      <td>NSE FO</td>\n",
       "      <td>NIFTY</td>\n",
       "      <td>European Put</td>\n",
       "      <td>18000.0</td>\n",
       "      <td>2021-11-18</td>\n",
       "      <td>3363983</td>\n",
       "      <td>10:13:28</td>\n",
       "      <td>Sell</td>\n",
       "      <td>-50.0</td>\n",
       "      <td>200.00</td>\n",
       "      <td>PE</td>\n",
       "      <td>NIFTY18000PE_18-Nov</td>\n",
       "    </tr>\n",
       "  </tbody>\n",
       "</table>\n",
       "<p>70 rows × 15 columns</p>\n",
       "</div>"
      ],
      "text/plain": [
       "         Date    Company        Amount Segment  Scrip Code Instrument Type  \\\n",
       "0  2021-12-16  BANKNIFTY      ₹ 400.00  NSE FO  BANKNIFTY    European Call   \n",
       "1  2021-12-10      NIFTY    ₹ 7,700.00  NSE FO  NIFTY        European Call   \n",
       "2  2021-12-10      NIFTY    ₹ 7,710.00  NSE FO  NIFTY        European Call   \n",
       "3  2021-12-10      NIFTY   ₹ 10,232.50  NSE FO  NIFTY         European Put   \n",
       "4  2021-12-10      NIFTY   ₹ 10,237.50  NSE FO  NIFTY         European Put   \n",
       "..        ...        ...           ...     ...         ...             ...   \n",
       "65 2021-11-18  BANKNIFTY    ₹ 8,330.00  NSE FO  BANKNIFTY    European Call   \n",
       "66 2021-11-18      NIFTY       ₹ 70.00  NSE FO  NIFTY        European Call   \n",
       "67 2021-11-18      NIFTY       ₹ 50.00  NSE FO  NIFTY        European Call   \n",
       "68 2021-11-18      NIFTY    ₹ 6,350.00  NSE FO  NIFTY         European Put   \n",
       "69 2021-11-18      NIFTY   ₹ 10,000.00  NSE FO  NIFTY         European Put   \n",
       "\n",
       "     Strike     Expiry  Trade Num Trade Time  Side  Quantity   Price  \\\n",
       "0   37400.0 2021-12-16  404045313   10:35:01  Sell     -25.0   16.00   \n",
       "1   17550.0 2021-12-23  100312687   11:13:01   Buy      50.0  154.00   \n",
       "2   17550.0 2021-12-23  100311847   11:12:21   Buy      50.0  154.20   \n",
       "3   17500.0 2021-12-23  100316143   11:15:29   Buy      50.0  204.65   \n",
       "4   17500.0 2021-12-23  100316144   11:15:29   Buy      50.0  204.75   \n",
       "..      ...        ...        ...        ...   ...       ...     ...   \n",
       "65  38100.0 2021-11-25  702304153   15:18:41   Buy      25.0  333.20   \n",
       "66  18100.0 2021-11-18    8464432   12:11:16  Sell     -50.0    1.40   \n",
       "67  18350.0 2021-11-18    7759277   11:49:37  Sell     -50.0    1.00   \n",
       "68  17850.0 2021-11-18    7881893   11:53:36  Sell     -50.0  127.00   \n",
       "69  18000.0 2021-11-18    3363983   10:13:28  Sell     -50.0  200.00   \n",
       "\n",
       "   option_type                option_id  \n",
       "0           CE  BANKNIFTY37400CE_16-Dec  \n",
       "1           CE      NIFTY17550CE_23-Dec  \n",
       "2           CE      NIFTY17550CE_23-Dec  \n",
       "3           PE      NIFTY17500PE_23-Dec  \n",
       "4           PE      NIFTY17500PE_23-Dec  \n",
       "..         ...                      ...  \n",
       "65          CE  BANKNIFTY38100CE_25-Nov  \n",
       "66          CE      NIFTY18100CE_18-Nov  \n",
       "67          CE      NIFTY18350CE_18-Nov  \n",
       "68          PE      NIFTY17850PE_18-Nov  \n",
       "69          PE      NIFTY18000PE_18-Nov  \n",
       "\n",
       "[70 rows x 15 columns]"
      ]
     },
     "execution_count": 230,
     "metadata": {},
     "output_type": "execute_result"
    }
   ],
   "source": [
    "trades_df"
   ]
  },
  {
   "cell_type": "markdown",
   "id": "industrial-lawsuit",
   "metadata": {},
   "source": [
    "**Convert Trades into open positions**"
   ]
  },
  {
   "cell_type": "code",
   "execution_count": 242,
   "id": "buried-relationship",
   "metadata": {
    "tags": []
   },
   "outputs": [],
   "source": [
    "positions = {}\n",
    "position_costs = {}\n",
    "for ix, trade in trades_df.sort_values('Date', ascending=False).iterrows():\n",
    "    option_id = trade.option_id\n",
    "    \n",
    "    if option_id not in positions:\n",
    "#         if trade.Quantity > 0:\n",
    "        positions[option_id] = trade.Quantity\n",
    "        position_costs[option_id] = trade.Quantity*trade.Price\n",
    "        \n",
    "    else:\n",
    "        positions[option_id] += trade.Quantity\n",
    "        position_costs[option_id] += trade.Quantity*trade.Price\n",
    "        if positions[option_id]==0:\n",
    "            positions.pop(option_id)\n",
    "            position_costs.pop(option_id)\n",
    "    \n",
    "\n",
    "positions_df = pd.DataFrame({\"option_id\":positions.keys(), \"qty\":positions.values(), \"cost\":position_costs.values()})\n",
    "\n",
    "positions_df['avg_price'] = positions_df.cost/positions_df.qty\n",
    "\n",
    "positions_df = pd.merge(trades_df[['Company', 'Strike','Expiry', 'option_type', 'option_id']].drop_duplicates(), positions_df, on='option_id', how='right')\n",
    "\n",
    "positions_df.columns = map(str.lower, positions_df.columns)\n",
    "\n",
    "positions_df = positions_df[positions_df.qty>0]\n",
    "\n",
    "positions_df = positions_df[positions_df.expiry>dt.datetime.today()]\n",
    "\n",
    "positions_df['lot_size'] = 0\n",
    "positions_df['last_price'] = 0\n",
    "\n",
    "# Update the current value of positions\n",
    "for contract_row in positions_df[['company', 'expiry', 'option_type', 'strike', 'lot_size']].iterrows():\n",
    "    contract = contract_row[1]\n",
    "    contract_quote = nsepy.get_quote(symbol=contract['company'], series='EQ', instrument='OPTIDX', expiry=contract.expiry, strike=contract.strike, option_type=contract.option_type)\n",
    "    positions_df.loc[contract_row[0], 'lot_size'] = float(contract_quote['data'][0]['marketLot'])\n",
    "    positions_df.loc[contract_row[0], 'last_price'] = float(contract_quote['data'][0]['lastPrice'])"
   ]
  },
  {
   "cell_type": "code",
   "execution_count": 1,
   "id": "raised-karma",
   "metadata": {},
   "outputs": [
    {
     "ename": "NameError",
     "evalue": "name 'nsepy' is not defined",
     "output_type": "error",
     "traceback": [
      "\u001b[0;31m---------------------------------------------------------------------------\u001b[0m",
      "\u001b[0;31mNameError\u001b[0m                                 Traceback (most recent call last)",
      "\u001b[0;32m<ipython-input-1-504acc7fe100>\u001b[0m in \u001b[0;36m<module>\u001b[0;34m\u001b[0m\n\u001b[0;32m----> 1\u001b[0;31m \u001b[0mcontract_quote\u001b[0m \u001b[0;34m=\u001b[0m \u001b[0mnsepy\u001b[0m\u001b[0;34m.\u001b[0m\u001b[0mget_quote\u001b[0m\u001b[0;34m(\u001b[0m\u001b[0msymbol\u001b[0m\u001b[0;34m=\u001b[0m\u001b[0;34m'HCLTECH'\u001b[0m\u001b[0;34m,\u001b[0m \u001b[0mseries\u001b[0m\u001b[0;34m=\u001b[0m\u001b[0;34m'EQ'\u001b[0m\u001b[0;34m,\u001b[0m \u001b[0minstrument\u001b[0m\u001b[0;34m=\u001b[0m\u001b[0;34m'OPTIDX'\u001b[0m\u001b[0;34m,\u001b[0m \u001b[0mexpiry\u001b[0m\u001b[0;34m=\u001b[0m\u001b[0mcontract\u001b[0m\u001b[0;34m.\u001b[0m\u001b[0mexpiry\u001b[0m\u001b[0;34m,\u001b[0m \u001b[0mstrike\u001b[0m\u001b[0;34m=\u001b[0m\u001b[0mcontract\u001b[0m\u001b[0;34m.\u001b[0m\u001b[0mstrike\u001b[0m\u001b[0;34m,\u001b[0m \u001b[0moption_type\u001b[0m\u001b[0;34m=\u001b[0m\u001b[0mcontract\u001b[0m\u001b[0;34m.\u001b[0m\u001b[0moption_type\u001b[0m\u001b[0;34m)\u001b[0m\u001b[0;34m\u001b[0m\u001b[0;34m\u001b[0m\u001b[0m\n\u001b[0m",
      "\u001b[0;31mNameError\u001b[0m: name 'nsepy' is not defined"
     ]
    }
   ],
   "source": [
    "\n"
   ]
  },
  {
   "cell_type": "code",
   "execution_count": 243,
   "id": "continuing-device",
   "metadata": {},
   "outputs": [
    {
     "data": {
      "text/html": [
       "<div>\n",
       "<style scoped>\n",
       "    .dataframe tbody tr th:only-of-type {\n",
       "        vertical-align: middle;\n",
       "    }\n",
       "\n",
       "    .dataframe tbody tr th {\n",
       "        vertical-align: top;\n",
       "    }\n",
       "\n",
       "    .dataframe thead th {\n",
       "        text-align: right;\n",
       "    }\n",
       "</style>\n",
       "<table border=\"1\" class=\"dataframe\">\n",
       "  <thead>\n",
       "    <tr style=\"text-align: right;\">\n",
       "      <th></th>\n",
       "      <th>company</th>\n",
       "      <th>strike</th>\n",
       "      <th>expiry</th>\n",
       "      <th>option_type</th>\n",
       "      <th>option_id</th>\n",
       "      <th>qty</th>\n",
       "      <th>cost</th>\n",
       "      <th>avg_price</th>\n",
       "      <th>lot_size</th>\n",
       "      <th>last_price</th>\n",
       "    </tr>\n",
       "  </thead>\n",
       "  <tbody>\n",
       "    <tr>\n",
       "      <th>0</th>\n",
       "      <td>NIFTY</td>\n",
       "      <td>17500.0</td>\n",
       "      <td>2021-12-23</td>\n",
       "      <td>PE</td>\n",
       "      <td>NIFTY17500PE_23-Dec</td>\n",
       "      <td>100.0</td>\n",
       "      <td>20470.0</td>\n",
       "      <td>204.70</td>\n",
       "      <td>50</td>\n",
       "      <td>453.40</td>\n",
       "    </tr>\n",
       "    <tr>\n",
       "      <th>1</th>\n",
       "      <td>NIFTY</td>\n",
       "      <td>17550.0</td>\n",
       "      <td>2021-12-23</td>\n",
       "      <td>CE</td>\n",
       "      <td>NIFTY17550CE_23-Dec</td>\n",
       "      <td>100.0</td>\n",
       "      <td>15410.0</td>\n",
       "      <td>154.10</td>\n",
       "      <td>50</td>\n",
       "      <td>15.05</td>\n",
       "    </tr>\n",
       "    <tr>\n",
       "      <th>2</th>\n",
       "      <td>NIFTY</td>\n",
       "      <td>17600.0</td>\n",
       "      <td>2021-12-23</td>\n",
       "      <td>CE</td>\n",
       "      <td>NIFTY17600CE_23-Dec</td>\n",
       "      <td>50.0</td>\n",
       "      <td>7727.5</td>\n",
       "      <td>154.55</td>\n",
       "      <td>50</td>\n",
       "      <td>11.65</td>\n",
       "    </tr>\n",
       "    <tr>\n",
       "      <th>4</th>\n",
       "      <td>NIFTY</td>\n",
       "      <td>17400.0</td>\n",
       "      <td>2021-12-23</td>\n",
       "      <td>PE</td>\n",
       "      <td>NIFTY17400PE_23-Dec</td>\n",
       "      <td>50.0</td>\n",
       "      <td>8650.0</td>\n",
       "      <td>173.00</td>\n",
       "      <td>50</td>\n",
       "      <td>366.20</td>\n",
       "    </tr>\n",
       "  </tbody>\n",
       "</table>\n",
       "</div>"
      ],
      "text/plain": [
       "  company   strike     expiry option_type            option_id    qty  \\\n",
       "0   NIFTY  17500.0 2021-12-23          PE  NIFTY17500PE_23-Dec  100.0   \n",
       "1   NIFTY  17550.0 2021-12-23          CE  NIFTY17550CE_23-Dec  100.0   \n",
       "2   NIFTY  17600.0 2021-12-23          CE  NIFTY17600CE_23-Dec   50.0   \n",
       "4   NIFTY  17400.0 2021-12-23          PE  NIFTY17400PE_23-Dec   50.0   \n",
       "\n",
       "      cost  avg_price  lot_size  last_price  \n",
       "0  20470.0     204.70        50      453.40  \n",
       "1  15410.0     154.10        50       15.05  \n",
       "2   7727.5     154.55        50       11.65  \n",
       "4   8650.0     173.00        50      366.20  "
      ]
     },
     "execution_count": 243,
     "metadata": {},
     "output_type": "execute_result"
    }
   ],
   "source": [
    "positions_df"
   ]
  },
  {
   "cell_type": "code",
   "execution_count": 244,
   "id": "coordinate-syracuse",
   "metadata": {},
   "outputs": [],
   "source": [
    "positions_df = positions_df.rename({'company':'underlying', \n",
    "                                    'strike':'strike_price'},\n",
    "                                   axis=1)"
   ]
  },
  {
   "cell_type": "code",
   "execution_count": 245,
   "id": "ambient-convergence",
   "metadata": {},
   "outputs": [],
   "source": [
    "positions_df['cost'] = positions_df.qty*positions_df.avg_price\n",
    "\n",
    "positions_df['value'] = positions_df.qty*positions_df.last_price"
   ]
  },
  {
   "cell_type": "code",
   "execution_count": 246,
   "id": "changed-garden",
   "metadata": {},
   "outputs": [],
   "source": [
    "positions_df = positions_df[positions_df.expiry>dt.datetime.today()]"
   ]
  },
  {
   "cell_type": "code",
   "execution_count": 247,
   "id": "fossil-aggregate",
   "metadata": {},
   "outputs": [
    {
     "data": {
      "text/html": [
       "<div>\n",
       "<style scoped>\n",
       "    .dataframe tbody tr th:only-of-type {\n",
       "        vertical-align: middle;\n",
       "    }\n",
       "\n",
       "    .dataframe tbody tr th {\n",
       "        vertical-align: top;\n",
       "    }\n",
       "\n",
       "    .dataframe thead th {\n",
       "        text-align: right;\n",
       "    }\n",
       "</style>\n",
       "<table border=\"1\" class=\"dataframe\">\n",
       "  <thead>\n",
       "    <tr style=\"text-align: right;\">\n",
       "      <th></th>\n",
       "      <th>underlying</th>\n",
       "      <th>strike_price</th>\n",
       "      <th>expiry</th>\n",
       "      <th>option_type</th>\n",
       "      <th>option_id</th>\n",
       "      <th>qty</th>\n",
       "      <th>cost</th>\n",
       "      <th>avg_price</th>\n",
       "      <th>lot_size</th>\n",
       "      <th>last_price</th>\n",
       "      <th>value</th>\n",
       "    </tr>\n",
       "  </thead>\n",
       "  <tbody>\n",
       "    <tr>\n",
       "      <th>4</th>\n",
       "      <td>NIFTY</td>\n",
       "      <td>17400.0</td>\n",
       "      <td>2021-12-23</td>\n",
       "      <td>PE</td>\n",
       "      <td>NIFTY17400PE_23-Dec</td>\n",
       "      <td>50.0</td>\n",
       "      <td>8650.0</td>\n",
       "      <td>173.00</td>\n",
       "      <td>50</td>\n",
       "      <td>366.20</td>\n",
       "      <td>18310.0</td>\n",
       "    </tr>\n",
       "    <tr>\n",
       "      <th>0</th>\n",
       "      <td>NIFTY</td>\n",
       "      <td>17500.0</td>\n",
       "      <td>2021-12-23</td>\n",
       "      <td>PE</td>\n",
       "      <td>NIFTY17500PE_23-Dec</td>\n",
       "      <td>100.0</td>\n",
       "      <td>20470.0</td>\n",
       "      <td>204.70</td>\n",
       "      <td>50</td>\n",
       "      <td>453.40</td>\n",
       "      <td>45340.0</td>\n",
       "    </tr>\n",
       "    <tr>\n",
       "      <th>1</th>\n",
       "      <td>NIFTY</td>\n",
       "      <td>17550.0</td>\n",
       "      <td>2021-12-23</td>\n",
       "      <td>CE</td>\n",
       "      <td>NIFTY17550CE_23-Dec</td>\n",
       "      <td>100.0</td>\n",
       "      <td>15410.0</td>\n",
       "      <td>154.10</td>\n",
       "      <td>50</td>\n",
       "      <td>15.05</td>\n",
       "      <td>1505.0</td>\n",
       "    </tr>\n",
       "    <tr>\n",
       "      <th>2</th>\n",
       "      <td>NIFTY</td>\n",
       "      <td>17600.0</td>\n",
       "      <td>2021-12-23</td>\n",
       "      <td>CE</td>\n",
       "      <td>NIFTY17600CE_23-Dec</td>\n",
       "      <td>50.0</td>\n",
       "      <td>7727.5</td>\n",
       "      <td>154.55</td>\n",
       "      <td>50</td>\n",
       "      <td>11.65</td>\n",
       "      <td>582.5</td>\n",
       "    </tr>\n",
       "  </tbody>\n",
       "</table>\n",
       "</div>"
      ],
      "text/plain": [
       "  underlying  strike_price     expiry option_type            option_id    qty  \\\n",
       "4      NIFTY       17400.0 2021-12-23          PE  NIFTY17400PE_23-Dec   50.0   \n",
       "0      NIFTY       17500.0 2021-12-23          PE  NIFTY17500PE_23-Dec  100.0   \n",
       "1      NIFTY       17550.0 2021-12-23          CE  NIFTY17550CE_23-Dec  100.0   \n",
       "2      NIFTY       17600.0 2021-12-23          CE  NIFTY17600CE_23-Dec   50.0   \n",
       "\n",
       "      cost  avg_price  lot_size  last_price    value  \n",
       "4   8650.0     173.00        50      366.20  18310.0  \n",
       "0  20470.0     204.70        50      453.40  45340.0  \n",
       "1  15410.0     154.10        50       15.05   1505.0  \n",
       "2   7727.5     154.55        50       11.65    582.5  "
      ]
     },
     "execution_count": 247,
     "metadata": {},
     "output_type": "execute_result"
    }
   ],
   "source": [
    "positions_df.sort_values('strike_price')"
   ]
  },
  {
   "cell_type": "code",
   "execution_count": 248,
   "id": "certified-douglas",
   "metadata": {},
   "outputs": [],
   "source": [
    "target_rate = 1.1"
   ]
  },
  {
   "cell_type": "markdown",
   "id": "stopped-committee",
   "metadata": {},
   "source": [
    "## Positions by Underlying"
   ]
  },
  {
   "cell_type": "code",
   "execution_count": 249,
   "id": "still-debut",
   "metadata": {},
   "outputs": [
    {
     "data": {
      "text/html": [
       "<div>\n",
       "<style scoped>\n",
       "    .dataframe tbody tr th:only-of-type {\n",
       "        vertical-align: middle;\n",
       "    }\n",
       "\n",
       "    .dataframe tbody tr th {\n",
       "        vertical-align: top;\n",
       "    }\n",
       "\n",
       "    .dataframe thead th {\n",
       "        text-align: right;\n",
       "    }\n",
       "</style>\n",
       "<table border=\"1\" class=\"dataframe\">\n",
       "  <thead>\n",
       "    <tr style=\"text-align: right;\">\n",
       "      <th></th>\n",
       "      <th>underlying</th>\n",
       "      <th>qty</th>\n",
       "      <th>lot_size</th>\n",
       "      <th>current_value</th>\n",
       "      <th>initial_investment</th>\n",
       "      <th>num_pairs</th>\n",
       "      <th>target</th>\n",
       "      <th>change</th>\n",
       "    </tr>\n",
       "  </thead>\n",
       "  <tbody>\n",
       "    <tr>\n",
       "      <th>0</th>\n",
       "      <td>NIFTY</td>\n",
       "      <td>300.0</td>\n",
       "      <td>50</td>\n",
       "      <td>65737.5</td>\n",
       "      <td>52257.5</td>\n",
       "      <td>3.0</td>\n",
       "      <td>191.610833</td>\n",
       "      <td>0.257953</td>\n",
       "    </tr>\n",
       "  </tbody>\n",
       "</table>\n",
       "</div>"
      ],
      "text/plain": [
       "  underlying    qty  lot_size  current_value  initial_investment  num_pairs  \\\n",
       "0      NIFTY  300.0        50        65737.5             52257.5        3.0   \n",
       "\n",
       "       target    change  \n",
       "0  191.610833  0.257953  "
      ]
     },
     "execution_count": 249,
     "metadata": {},
     "output_type": "execute_result"
    }
   ],
   "source": [
    "positions_by_underlying = positions_df.groupby(['underlying']).agg(qty=pd.NamedAgg(column=\"qty\", aggfunc=\"sum\"),  \n",
    "                                                                   lot_size=pd.NamedAgg(column=\"lot_size\", aggfunc=\"first\"),\n",
    "                                                                   current_value=pd.NamedAgg(column=\"value\", aggfunc=\"sum\"),\n",
    "                                                                   initial_investment=pd.NamedAgg(column=\"cost\", aggfunc=\"sum\") ).reset_index()\n",
    "\n",
    "positions_by_underlying['num_pairs'] = positions_by_underlying.qty/positions_by_underlying.lot_size/2\n",
    "\n",
    "positions_by_underlying['target'] = target_rate*positions_by_underlying['initial_investment']/positions_by_underlying['qty']\n",
    "\n",
    "# positions_by_underlying['current_value'] = positions_by_underlying['current_value']*positions_by_underlying['qty']\n",
    "\n",
    "\n",
    "positions_by_underlying['change'] = (positions_by_underlying['current_value']-positions_by_underlying['initial_investment'])/positions_by_underlying['initial_investment']\n",
    "\n",
    "positions_by_underlying"
   ]
  },
  {
   "cell_type": "markdown",
   "id": "municipal-guess",
   "metadata": {},
   "source": [
    "## Positions by Underlying and Expiry"
   ]
  },
  {
   "cell_type": "code",
   "execution_count": 250,
   "id": "streaming-saudi",
   "metadata": {},
   "outputs": [
    {
     "data": {
      "text/html": [
       "<div>\n",
       "<style scoped>\n",
       "    .dataframe tbody tr th:only-of-type {\n",
       "        vertical-align: middle;\n",
       "    }\n",
       "\n",
       "    .dataframe tbody tr th {\n",
       "        vertical-align: top;\n",
       "    }\n",
       "\n",
       "    .dataframe thead th {\n",
       "        text-align: right;\n",
       "    }\n",
       "</style>\n",
       "<table border=\"1\" class=\"dataframe\">\n",
       "  <thead>\n",
       "    <tr style=\"text-align: right;\">\n",
       "      <th></th>\n",
       "      <th>underlying</th>\n",
       "      <th>expiry</th>\n",
       "      <th>qty</th>\n",
       "      <th>lot_size</th>\n",
       "      <th>current_value</th>\n",
       "      <th>initial_investment</th>\n",
       "      <th>num_pairs</th>\n",
       "      <th>target</th>\n",
       "      <th>change</th>\n",
       "    </tr>\n",
       "  </thead>\n",
       "  <tbody>\n",
       "    <tr>\n",
       "      <th>0</th>\n",
       "      <td>NIFTY</td>\n",
       "      <td>2021-12-23</td>\n",
       "      <td>300.0</td>\n",
       "      <td>50</td>\n",
       "      <td>65737.5</td>\n",
       "      <td>52257.5</td>\n",
       "      <td>3.0</td>\n",
       "      <td>383.221667</td>\n",
       "      <td>0.257953</td>\n",
       "    </tr>\n",
       "  </tbody>\n",
       "</table>\n",
       "</div>"
      ],
      "text/plain": [
       "  underlying     expiry    qty  lot_size  current_value  initial_investment  \\\n",
       "0      NIFTY 2021-12-23  300.0        50        65737.5             52257.5   \n",
       "\n",
       "   num_pairs      target    change  \n",
       "0        3.0  383.221667  0.257953  "
      ]
     },
     "execution_count": 250,
     "metadata": {},
     "output_type": "execute_result"
    }
   ],
   "source": [
    "positions_by_expiry = positions_df.groupby(['underlying', 'expiry']).agg(qty=pd.NamedAgg(column=\"qty\", aggfunc=\"sum\"),  \n",
    "                                                                         lot_size=pd.NamedAgg(column=\"lot_size\", aggfunc=\"first\"),\n",
    "                                                                         current_value=pd.NamedAgg(column=\"value\", aggfunc=\"sum\"),\n",
    "                                                                         initial_investment=pd.NamedAgg(column=\"cost\", aggfunc=\"sum\") ).reset_index()\n",
    "\n",
    "# positions_by_expiry['target'] = target_rate*positions_by_expiry.initial_investment/positions_by_expiry.qty\n",
    "\n",
    "positions_by_expiry['num_pairs'] = positions_by_expiry.qty/positions_by_expiry.lot_size/2\n",
    "\n",
    "\n",
    "# positions_by_expiry['current_value'] = positions_by_expiry['current_value']*positions_by_expiry['qty']\n",
    "\n",
    "# positions_by_expiry['target'] = target_rate*positions_by_expiry['initial_investment']/positions_by_expiry['num_pairs']/positions_by_expiry.lot_size\n",
    "\n",
    "\n",
    "positions_by_expiry['target'] = target_rate*positions_by_expiry['initial_investment']/(positions_by_expiry['qty']/2)\n",
    "\n",
    "positions_by_expiry['change'] = (positions_by_expiry['current_value']-positions_by_expiry['initial_investment'])/positions_by_expiry['initial_investment']\n",
    "\n",
    "positions_by_expiry"
   ]
  },
  {
   "cell_type": "markdown",
   "id": "intelligent-giant",
   "metadata": {},
   "source": [
    "## Positions by Pairs"
   ]
  },
  {
   "cell_type": "code",
   "execution_count": 241,
   "id": "complex-biodiversity",
   "metadata": {},
   "outputs": [
    {
     "data": {
      "text/html": [
       "<div>\n",
       "<style scoped>\n",
       "    .dataframe tbody tr th:only-of-type {\n",
       "        vertical-align: middle;\n",
       "    }\n",
       "\n",
       "    .dataframe tbody tr th {\n",
       "        vertical-align: top;\n",
       "    }\n",
       "\n",
       "    .dataframe thead th {\n",
       "        text-align: right;\n",
       "    }\n",
       "</style>\n",
       "<table border=\"1\" class=\"dataframe\">\n",
       "  <thead>\n",
       "    <tr style=\"text-align: right;\">\n",
       "      <th></th>\n",
       "      <th>underlying</th>\n",
       "      <th>strike_price</th>\n",
       "      <th>expiry</th>\n",
       "      <th>option_type</th>\n",
       "      <th>option_id</th>\n",
       "      <th>qty</th>\n",
       "      <th>cost</th>\n",
       "      <th>avg_price</th>\n",
       "      <th>lot_size</th>\n",
       "      <th>last_price</th>\n",
       "      <th>value</th>\n",
       "    </tr>\n",
       "  </thead>\n",
       "  <tbody>\n",
       "    <tr>\n",
       "      <th>0</th>\n",
       "      <td>NIFTY</td>\n",
       "      <td>17500.0</td>\n",
       "      <td>2021-12-23</td>\n",
       "      <td>PE</td>\n",
       "      <td>NIFTY17500PE_23-Dec</td>\n",
       "      <td>100.0</td>\n",
       "      <td>20470.0</td>\n",
       "      <td>204.70</td>\n",
       "      <td>50</td>\n",
       "      <td>421.65</td>\n",
       "      <td>42165.0</td>\n",
       "    </tr>\n",
       "    <tr>\n",
       "      <th>1</th>\n",
       "      <td>NIFTY</td>\n",
       "      <td>17550.0</td>\n",
       "      <td>2021-12-23</td>\n",
       "      <td>CE</td>\n",
       "      <td>NIFTY17550CE_23-Dec</td>\n",
       "      <td>100.0</td>\n",
       "      <td>15410.0</td>\n",
       "      <td>154.10</td>\n",
       "      <td>50</td>\n",
       "      <td>16.75</td>\n",
       "      <td>1675.0</td>\n",
       "    </tr>\n",
       "    <tr>\n",
       "      <th>2</th>\n",
       "      <td>NIFTY</td>\n",
       "      <td>17600.0</td>\n",
       "      <td>2021-12-23</td>\n",
       "      <td>CE</td>\n",
       "      <td>NIFTY17600CE_23-Dec</td>\n",
       "      <td>50.0</td>\n",
       "      <td>7727.5</td>\n",
       "      <td>154.55</td>\n",
       "      <td>50</td>\n",
       "      <td>12.65</td>\n",
       "      <td>632.5</td>\n",
       "    </tr>\n",
       "    <tr>\n",
       "      <th>4</th>\n",
       "      <td>NIFTY</td>\n",
       "      <td>17400.0</td>\n",
       "      <td>2021-12-23</td>\n",
       "      <td>PE</td>\n",
       "      <td>NIFTY17400PE_23-Dec</td>\n",
       "      <td>50.0</td>\n",
       "      <td>8650.0</td>\n",
       "      <td>173.00</td>\n",
       "      <td>50</td>\n",
       "      <td>335.05</td>\n",
       "      <td>16752.5</td>\n",
       "    </tr>\n",
       "  </tbody>\n",
       "</table>\n",
       "</div>"
      ],
      "text/plain": [
       "  underlying  strike_price     expiry option_type            option_id    qty  \\\n",
       "0      NIFTY       17500.0 2021-12-23          PE  NIFTY17500PE_23-Dec  100.0   \n",
       "1      NIFTY       17550.0 2021-12-23          CE  NIFTY17550CE_23-Dec  100.0   \n",
       "2      NIFTY       17600.0 2021-12-23          CE  NIFTY17600CE_23-Dec   50.0   \n",
       "4      NIFTY       17400.0 2021-12-23          PE  NIFTY17400PE_23-Dec   50.0   \n",
       "\n",
       "      cost  avg_price  lot_size  last_price    value  \n",
       "0  20470.0     204.70        50      421.65  42165.0  \n",
       "1  15410.0     154.10        50       16.75   1675.0  \n",
       "2   7727.5     154.55        50       12.65    632.5  \n",
       "4   8650.0     173.00        50      335.05  16752.5  "
      ]
     },
     "execution_count": 241,
     "metadata": {},
     "output_type": "execute_result"
    }
   ],
   "source": [
    "positions_df"
   ]
  },
  {
   "cell_type": "code",
   "execution_count": 220,
   "id": "enabling-flavor",
   "metadata": {},
   "outputs": [
    {
     "name": "stdout",
     "output_type": "stream",
     "text": [
      "NIFTY17550CE_23-Dec NIFTY17500PE_23-Dec\n",
      "NIFTY17600CE_23-Dec NIFTY17500PE_23-Dec\n",
      "NIFTY17550CE_23-Dec NIFTY17400PE_23-Dec\n",
      "NIFTY17600CE_23-Dec NIFTY17400PE_23-Dec\n",
      "BANKNIFTY37400CE_16-Dec BANKNIFTY37100PE_16-Dec\n",
      "BANKNIFTY37400CE_16-Dec BANKNIFTY36400PE_16-Dec\n",
      "NIFTY17400CE_16-Dec NIFTY16850PE_16-Dec\n"
     ]
    }
   ],
   "source": [
    "for u, e in positions_df[['underlying', 'expiry']].drop_duplicates().to_dict(orient='split')['data']:\n",
    "    position_group = positions_df[(positions_df['underlying'] == u) & (positions_df['expiry'] == e)]\n",
    "\n",
    "    # Separate out Call and Put option\n",
    "    ce_positions = position_group[position_group['option_type']=='CE']\n",
    "    pe_positions = position_group[position_group['option_type']=='PE']\n",
    "\n",
    "    # Convert to dict for easier iteration\n",
    "    pe_positions = pe_positions.sort_values(by='strike_price', ascending=False).to_dict(orient='records')\n",
    "    ce_positions = ce_positions.sort_values(by='strike_price').to_dict(orient='records')\n",
    "\n",
    "    position_pairs = []\n",
    "\n",
    "    for pe_position in pe_positions:\n",
    "        for ce_position in ce_positions:\n",
    "            print(ce_position['option_id'],pe_position['option_id'])"
   ]
  },
  {
   "cell_type": "code",
   "execution_count": 14,
   "id": "overhead-polls",
   "metadata": {},
   "outputs": [],
   "source": [
    "DATA_ROOT = 'QmVmo99nn2wMjShNGi5CDPEqzRWtYxWRrjD5XTsfQiCZD3'"
   ]
  },
  {
   "cell_type": "code",
   "execution_count": 19,
   "id": "wireless-gathering",
   "metadata": {},
   "outputs": [],
   "source": [
    "underlying_df = load_underlying(u, DATA_ROOT)"
   ]
  },
  {
   "cell_type": "code",
   "execution_count": 71,
   "id": "understood-resistance",
   "metadata": {},
   "outputs": [
    {
     "data": {
      "text/html": [
       "<div>\n",
       "<style scoped>\n",
       "    .dataframe tbody tr th:only-of-type {\n",
       "        vertical-align: middle;\n",
       "    }\n",
       "\n",
       "    .dataframe tbody tr th {\n",
       "        vertical-align: top;\n",
       "    }\n",
       "\n",
       "    .dataframe thead th {\n",
       "        text-align: right;\n",
       "    }\n",
       "</style>\n",
       "<table border=\"1\" class=\"dataframe\">\n",
       "  <thead>\n",
       "    <tr style=\"text-align: right;\">\n",
       "      <th></th>\n",
       "      <th>delta</th>\n",
       "      <th>delta_max</th>\n",
       "      <th>delta_min</th>\n",
       "    </tr>\n",
       "    <tr>\n",
       "      <th>Date</th>\n",
       "      <th></th>\n",
       "      <th></th>\n",
       "      <th></th>\n",
       "    </tr>\n",
       "  </thead>\n",
       "  <tbody>\n",
       "    <tr>\n",
       "      <th>2018-01-08</th>\n",
       "      <td>0.017372</td>\n",
       "      <td>0.014665</td>\n",
       "      <td>-0.006958</td>\n",
       "    </tr>\n",
       "    <tr>\n",
       "      <th>2018-01-09</th>\n",
       "      <td>0.018558</td>\n",
       "      <td>0.016837</td>\n",
       "      <td>-0.005066</td>\n",
       "    </tr>\n",
       "    <tr>\n",
       "      <th>2018-01-10</th>\n",
       "      <td>0.012128</td>\n",
       "      <td>0.018124</td>\n",
       "      <td>-0.002670</td>\n",
       "    </tr>\n",
       "    <tr>\n",
       "      <th>2018-01-11</th>\n",
       "      <td>0.008746</td>\n",
       "      <td>0.012374</td>\n",
       "      <td>-0.001343</td>\n",
       "    </tr>\n",
       "    <tr>\n",
       "      <th>2018-01-12</th>\n",
       "      <td>0.005427</td>\n",
       "      <td>0.009319</td>\n",
       "      <td>-0.000297</td>\n",
       "    </tr>\n",
       "    <tr>\n",
       "      <th>...</th>\n",
       "      <td>...</td>\n",
       "      <td>...</td>\n",
       "      <td>...</td>\n",
       "    </tr>\n",
       "    <tr>\n",
       "      <th>2021-11-23</th>\n",
       "      <td>-0.022085</td>\n",
       "      <td>0.004643</td>\n",
       "      <td>-0.040316</td>\n",
       "    </tr>\n",
       "    <tr>\n",
       "      <th>2021-11-23</th>\n",
       "      <td>-0.014717</td>\n",
       "      <td>0.003077</td>\n",
       "      <td>-0.037699</td>\n",
       "    </tr>\n",
       "    <tr>\n",
       "      <th>2021-11-24</th>\n",
       "      <td>-0.000086</td>\n",
       "      <td>0.000506</td>\n",
       "      <td>-0.032600</td>\n",
       "    </tr>\n",
       "    <tr>\n",
       "      <th>2021-11-25</th>\n",
       "      <td>0.001880</td>\n",
       "      <td>0.018450</td>\n",
       "      <td>-0.003799</td>\n",
       "    </tr>\n",
       "    <tr>\n",
       "      <th>2021-11-26</th>\n",
       "      <td>-0.027246</td>\n",
       "      <td>0.018450</td>\n",
       "      <td>-0.017131</td>\n",
       "    </tr>\n",
       "  </tbody>\n",
       "</table>\n",
       "<p>965 rows × 3 columns</p>\n",
       "</div>"
      ],
      "text/plain": [
       "               delta  delta_max  delta_min\n",
       "Date                                      \n",
       "2018-01-08  0.017372   0.014665  -0.006958\n",
       "2018-01-09  0.018558   0.016837  -0.005066\n",
       "2018-01-10  0.012128   0.018124  -0.002670\n",
       "2018-01-11  0.008746   0.012374  -0.001343\n",
       "2018-01-12  0.005427   0.009319  -0.000297\n",
       "...              ...        ...        ...\n",
       "2021-11-23 -0.022085   0.004643  -0.040316\n",
       "2021-11-23 -0.014717   0.003077  -0.037699\n",
       "2021-11-24 -0.000086   0.000506  -0.032600\n",
       "2021-11-25  0.001880   0.018450  -0.003799\n",
       "2021-11-26 -0.027246   0.018450  -0.017131\n",
       "\n",
       "[965 rows x 3 columns]"
      ]
     },
     "execution_count": 71,
     "metadata": {},
     "output_type": "execute_result"
    }
   ],
   "source": [
    "delta_df = calculate_period_delta(underlying_df, 5)\n",
    "delta_df"
   ]
  },
  {
   "cell_type": "code",
   "execution_count": 72,
   "id": "premier-improvement",
   "metadata": {},
   "outputs": [],
   "source": [
    "def evaluate_postions(options_data, underlying_period_delta, underlying_price, expected_rate=0.1):\n",
    "    # Separate out Call and Put option\n",
    "    ce_df = options_data[options_data['option_type']=='CE']\n",
    "    pe_df = options_data[options_data['option_type']=='PE']\n",
    "    \n",
    "    # Sort by Strike\n",
    "    ce_df = ce_df.sort_values('strike_price')\n",
    "    pe_df = pe_df.sort_values('strike_price')\n",
    "    \n",
    "\n",
    "    # Maximum Change required to break even on position\n",
    "    ce_df['change_breakeven'] = ((ce_df['strike_price'] + ce_df['avg_price'] - underlying_price)/underlying_price).values\n",
    "    pe_df['change_breakeven'] = ((pe_df['strike_price'] - pe_df['avg_price'] - underlying_price)/underlying_price).values\n",
    "\n",
    "    # Change percent required to close ITM\n",
    "    ce_df['change_itm'] = ((ce_df['strike_price'] - underlying_price)/underlying_price).values\n",
    "    pe_df['change_itm'] = ((pe_df['strike_price'] - underlying_price)/underlying_price).values\n",
    "\n",
    "    # Position cost per lot\n",
    "    ce_df['position_cost'] = ce_df['qty']*ce_df['avg_price']\n",
    "    pe_df['position_cost'] = pe_df['qty']*pe_df['avg_price']\n",
    "    \n",
    "    \n",
    "    delta_mean = underlying_period_delta['delta'].mean()\n",
    "    delta_std = underlying_period_delta['delta'].std()\n",
    "    \n",
    "    # Calculate underlying price after sigma change in either direction\n",
    "    sigma_high = underlying_price*(1+delta_mean+delta_std)\n",
    "    sigma_low = underlying_price*(1+delta_mean-delta_std)\n",
    "    \n",
    "    # Profits when underlying expires at mean +/- std\n",
    "    ce_df['sigma_returns'] = ce_df['qty']*(sigma_high - ce_df['strike_price'])\n",
    "    pe_df['sigma_returns'] = pe_df['qty']*(pe_df['strike_price'] - sigma_low)\n",
    "    \n",
    "    # Probabilty of breaking even within the period due to volatility\n",
    "    pe_df['p_volatility_breakeven'] = pe_df.change_breakeven.apply(lambda x:  (underlying_period_delta.delta_min<x).mean())\n",
    "    ce_df['p_volatility_breakeven'] = ce_df.change_breakeven.apply(lambda x:  (underlying_period_delta.delta_max>x).mean())\n",
    "    \n",
    "    # Probability of closing in the money at expiry\n",
    "    pe_df['p_expiry_itm'] = pe_df.change_itm.apply(lambda x:  (x>underlying_period_delta.delta).mean())\n",
    "    ce_df['p_expiry_itm'] = ce_df.change_itm.apply(lambda x:  (x<underlying_period_delta.delta).mean())\n",
    "    \n",
    "    # Probability of breaking even at expiry\n",
    "    pe_df['p_expiry_breakeven'] = pe_df.change_breakeven.apply(lambda x:  (x>underlying_period_delta.delta).mean())\n",
    "    ce_df['p_expiry_breakeven'] = ce_df.change_breakeven.apply(lambda x:  (x<underlying_period_delta.delta).mean()) \n",
    "    \n",
    "    \n",
    "    return ce_df, pe_df\n"
   ]
  },
  {
   "cell_type": "code",
   "execution_count": 152,
   "id": "unusual-carry",
   "metadata": {},
   "outputs": [],
   "source": [
    "def generate_pairs(pe_positions, ce_positions, fitler_sigma=True, brokerage=20):\n",
    "    \n",
    "    # Convert to dict for easier iteration\n",
    "    pe_positions = pe_positions.to_dict(orient='records')\n",
    "    ce_positions = ce_positions.to_dict(orient='records')\n",
    "    \n",
    "    position_pairs = []\n",
    "\n",
    "    for pe_position in pe_positions:\n",
    "\n",
    "        if pe_position['sigma_returns'] <= 0 & fitler_sigma:\n",
    "            continue\n",
    "        for ce_position in ce_positions:\n",
    "            if ce_position['sigma_returns'] <= 0 & fitler_sigma:\n",
    "                continue\n",
    "\n",
    "#             pair_cost = pe_position['position_cost'] + ce_position['position_cost']\n",
    "            position_pair = {'pair': pe_position['underlying']+str(pe_position['strike_price'])+pe_position['option_type']+'-'+ce_position['underlying']+str(ce_position['strike_price'])+ce_position['option_type']}\n",
    "            \n",
    "            position_pair['pe_price'] = pe_position['last_price']\n",
    "            position_pair['ce_price'] = ce_position['last_price']\n",
    "            position_pair['pe_buy_price'] = pe_position['avg_price']\n",
    "            position_pair['ce_buy_price'] = ce_position['avg_price']\n",
    "            position_pair['capital_not_breakeven_probability'] = (1-pe_position['p_volatility_breakeven'])*(1-ce_position['p_volatility_breakeven'])\n",
    "            position_pair['pe_strike_price'] = pe_position['strike_price']\n",
    "            position_pair['ce_strike_price'] = ce_position['strike_price']\n",
    "            position_pair['spread'] = ce_position['strike_price'] - pe_position['strike_price']\n",
    "            position_pair['pe_probability_itm'] = pe_position['p_expiry_itm']\n",
    "            position_pair['ce_probability_itm'] = ce_position['p_expiry_itm']\n",
    "            position_pair['pair_otm_probability'] = (1-ce_position['p_expiry_itm'])*(1-pe_position['p_expiry_itm'])\n",
    "            position_pair['lot_size'] = pe_position['lot_size']\n",
    "            \n",
    "            position_pairs.append(position_pair)\n",
    "\n",
    "\n",
    "    position_pairs_df = pd.DataFrame(position_pairs)\n",
    "    position_pairs_df['current_value'] = (position_pairs_df.ce_price+position_pairs_df.pe_price)*position_pairs_df.lot_size\n",
    "    position_pairs_df['cost'] = (position_pairs_df.pe_buy_price+position_pairs_df.pe_buy_price)*position_pairs_df.lot_size + brokerage*4 # 4x brokerage because we're accounting for the selling brokerage as well\n",
    "    \n",
    "    return position_pairs_df\n",
    "    \n",
    "    \n"
   ]
  },
  {
   "cell_type": "code",
   "execution_count": 154,
   "id": "technological-calibration",
   "metadata": {},
   "outputs": [
    {
     "data": {
      "text/html": [
       "<div>\n",
       "<style scoped>\n",
       "    .dataframe tbody tr th:only-of-type {\n",
       "        vertical-align: middle;\n",
       "    }\n",
       "\n",
       "    .dataframe tbody tr th {\n",
       "        vertical-align: top;\n",
       "    }\n",
       "\n",
       "    .dataframe thead th {\n",
       "        text-align: right;\n",
       "    }\n",
       "</style>\n",
       "<table border=\"1\" class=\"dataframe\">\n",
       "  <thead>\n",
       "    <tr style=\"text-align: right;\">\n",
       "      <th></th>\n",
       "      <th>underlying</th>\n",
       "      <th>strike_price</th>\n",
       "      <th>expiry</th>\n",
       "      <th>option_type</th>\n",
       "      <th>option_id</th>\n",
       "      <th>qty</th>\n",
       "      <th>cost</th>\n",
       "      <th>avg_price</th>\n",
       "      <th>lot_size</th>\n",
       "      <th>last_price</th>\n",
       "    </tr>\n",
       "  </thead>\n",
       "  <tbody>\n",
       "    <tr>\n",
       "      <th>0</th>\n",
       "      <td>NIFTY</td>\n",
       "      <td>17550.0</td>\n",
       "      <td>2021-12-23</td>\n",
       "      <td>CE</td>\n",
       "      <td>NIFTY17550CE_23-Dec</td>\n",
       "      <td>100.0</td>\n",
       "      <td>15410.0</td>\n",
       "      <td>154.10</td>\n",
       "      <td>50</td>\n",
       "      <td>45.65</td>\n",
       "    </tr>\n",
       "    <tr>\n",
       "      <th>1</th>\n",
       "      <td>NIFTY</td>\n",
       "      <td>17500.0</td>\n",
       "      <td>2021-12-23</td>\n",
       "      <td>PE</td>\n",
       "      <td>NIFTY17500PE_23-Dec</td>\n",
       "      <td>100.0</td>\n",
       "      <td>20470.0</td>\n",
       "      <td>204.70</td>\n",
       "      <td>50</td>\n",
       "      <td>247.00</td>\n",
       "    </tr>\n",
       "    <tr>\n",
       "      <th>2</th>\n",
       "      <td>NIFTY</td>\n",
       "      <td>17600.0</td>\n",
       "      <td>2021-12-23</td>\n",
       "      <td>CE</td>\n",
       "      <td>NIFTY17600CE_23-Dec</td>\n",
       "      <td>50.0</td>\n",
       "      <td>7727.5</td>\n",
       "      <td>154.55</td>\n",
       "      <td>50</td>\n",
       "      <td>34.35</td>\n",
       "    </tr>\n",
       "    <tr>\n",
       "      <th>5</th>\n",
       "      <td>NIFTY</td>\n",
       "      <td>17400.0</td>\n",
       "      <td>2021-12-23</td>\n",
       "      <td>PE</td>\n",
       "      <td>NIFTY17400PE_23-Dec</td>\n",
       "      <td>50.0</td>\n",
       "      <td>8650.0</td>\n",
       "      <td>173.00</td>\n",
       "      <td>50</td>\n",
       "      <td>181.55</td>\n",
       "    </tr>\n",
       "  </tbody>\n",
       "</table>\n",
       "</div>"
      ],
      "text/plain": [
       "  underlying  strike_price     expiry option_type            option_id    qty  \\\n",
       "0      NIFTY       17550.0 2021-12-23          CE  NIFTY17550CE_23-Dec  100.0   \n",
       "1      NIFTY       17500.0 2021-12-23          PE  NIFTY17500PE_23-Dec  100.0   \n",
       "2      NIFTY       17600.0 2021-12-23          CE  NIFTY17600CE_23-Dec   50.0   \n",
       "5      NIFTY       17400.0 2021-12-23          PE  NIFTY17400PE_23-Dec   50.0   \n",
       "\n",
       "      cost  avg_price  lot_size  last_price  \n",
       "0  15410.0     154.10        50       45.65  \n",
       "1  20470.0     204.70        50      247.00  \n",
       "2   7727.5     154.55        50       34.35  \n",
       "5   8650.0     173.00        50      181.55  "
      ]
     },
     "execution_count": 154,
     "metadata": {},
     "output_type": "execute_result"
    }
   ],
   "source": [
    "position_group"
   ]
  },
  {
   "cell_type": "code",
   "execution_count": 155,
   "id": "congressional-enemy",
   "metadata": {},
   "outputs": [],
   "source": [
    "ce_positions, pe_positions = evaluate_postions(position_group, delta_df, underlying_price=17245)"
   ]
  },
  {
   "cell_type": "code",
   "execution_count": 156,
   "id": "cordless-richards",
   "metadata": {},
   "outputs": [
    {
     "data": {
      "text/html": [
       "<div>\n",
       "<style scoped>\n",
       "    .dataframe tbody tr th:only-of-type {\n",
       "        vertical-align: middle;\n",
       "    }\n",
       "\n",
       "    .dataframe tbody tr th {\n",
       "        vertical-align: top;\n",
       "    }\n",
       "\n",
       "    .dataframe thead th {\n",
       "        text-align: right;\n",
       "    }\n",
       "</style>\n",
       "<table border=\"1\" class=\"dataframe\">\n",
       "  <thead>\n",
       "    <tr style=\"text-align: right;\">\n",
       "      <th></th>\n",
       "      <th>underlying</th>\n",
       "      <th>strike_price</th>\n",
       "      <th>expiry</th>\n",
       "      <th>option_type</th>\n",
       "      <th>option_id</th>\n",
       "      <th>qty</th>\n",
       "      <th>cost</th>\n",
       "      <th>avg_price</th>\n",
       "      <th>lot_size</th>\n",
       "      <th>last_price</th>\n",
       "      <th>change_breakeven</th>\n",
       "      <th>change_itm</th>\n",
       "      <th>position_cost</th>\n",
       "      <th>sigma_returns</th>\n",
       "      <th>p_volatility_breakeven</th>\n",
       "      <th>p_expiry_itm</th>\n",
       "      <th>p_expiry_breakeven</th>\n",
       "    </tr>\n",
       "  </thead>\n",
       "  <tbody>\n",
       "    <tr>\n",
       "      <th>5</th>\n",
       "      <td>NIFTY</td>\n",
       "      <td>17400.0</td>\n",
       "      <td>2021-12-23</td>\n",
       "      <td>PE</td>\n",
       "      <td>NIFTY17400PE_23-Dec</td>\n",
       "      <td>50.0</td>\n",
       "      <td>8650.0</td>\n",
       "      <td>173.0</td>\n",
       "      <td>50</td>\n",
       "      <td>181.55</td>\n",
       "      <td>-0.001044</td>\n",
       "      <td>0.008988</td>\n",
       "      <td>8650.0</td>\n",
       "      <td>26783.77849</td>\n",
       "      <td>0.950259</td>\n",
       "      <td>0.615544</td>\n",
       "      <td>0.390674</td>\n",
       "    </tr>\n",
       "    <tr>\n",
       "      <th>1</th>\n",
       "      <td>NIFTY</td>\n",
       "      <td>17500.0</td>\n",
       "      <td>2021-12-23</td>\n",
       "      <td>PE</td>\n",
       "      <td>NIFTY17500PE_23-Dec</td>\n",
       "      <td>100.0</td>\n",
       "      <td>20470.0</td>\n",
       "      <td>204.7</td>\n",
       "      <td>50</td>\n",
       "      <td>247.00</td>\n",
       "      <td>0.002917</td>\n",
       "      <td>0.014787</td>\n",
       "      <td>20470.0</td>\n",
       "      <td>63567.55698</td>\n",
       "      <td>1.000000</td>\n",
       "      <td>0.746114</td>\n",
       "      <td>0.475648</td>\n",
       "    </tr>\n",
       "  </tbody>\n",
       "</table>\n",
       "</div>"
      ],
      "text/plain": [
       "  underlying  strike_price     expiry option_type            option_id    qty  \\\n",
       "5      NIFTY       17400.0 2021-12-23          PE  NIFTY17400PE_23-Dec   50.0   \n",
       "1      NIFTY       17500.0 2021-12-23          PE  NIFTY17500PE_23-Dec  100.0   \n",
       "\n",
       "      cost  avg_price  lot_size  last_price  change_breakeven  change_itm  \\\n",
       "5   8650.0      173.0        50      181.55         -0.001044    0.008988   \n",
       "1  20470.0      204.7        50      247.00          0.002917    0.014787   \n",
       "\n",
       "   position_cost  sigma_returns  p_volatility_breakeven  p_expiry_itm  \\\n",
       "5         8650.0    26783.77849                0.950259      0.615544   \n",
       "1        20470.0    63567.55698                1.000000      0.746114   \n",
       "\n",
       "   p_expiry_breakeven  \n",
       "5            0.390674  \n",
       "1            0.475648  "
      ]
     },
     "execution_count": 156,
     "metadata": {},
     "output_type": "execute_result"
    }
   ],
   "source": [
    "pe_positions"
   ]
  },
  {
   "cell_type": "code",
   "execution_count": 157,
   "id": "hairy-paper",
   "metadata": {},
   "outputs": [
    {
     "data": {
      "text/html": [
       "<div>\n",
       "<style scoped>\n",
       "    .dataframe tbody tr th:only-of-type {\n",
       "        vertical-align: middle;\n",
       "    }\n",
       "\n",
       "    .dataframe tbody tr th {\n",
       "        vertical-align: top;\n",
       "    }\n",
       "\n",
       "    .dataframe thead th {\n",
       "        text-align: right;\n",
       "    }\n",
       "</style>\n",
       "<table border=\"1\" class=\"dataframe\">\n",
       "  <thead>\n",
       "    <tr style=\"text-align: right;\">\n",
       "      <th></th>\n",
       "      <th>underlying</th>\n",
       "      <th>strike_price</th>\n",
       "      <th>expiry</th>\n",
       "      <th>option_type</th>\n",
       "      <th>option_id</th>\n",
       "      <th>qty</th>\n",
       "      <th>cost</th>\n",
       "      <th>avg_price</th>\n",
       "      <th>lot_size</th>\n",
       "      <th>last_price</th>\n",
       "      <th>change_breakeven</th>\n",
       "      <th>change_itm</th>\n",
       "      <th>position_cost</th>\n",
       "      <th>sigma_returns</th>\n",
       "      <th>p_volatility_breakeven</th>\n",
       "      <th>p_expiry_itm</th>\n",
       "      <th>p_expiry_breakeven</th>\n",
       "    </tr>\n",
       "  </thead>\n",
       "  <tbody>\n",
       "    <tr>\n",
       "      <th>0</th>\n",
       "      <td>NIFTY</td>\n",
       "      <td>17550.0</td>\n",
       "      <td>2021-12-23</td>\n",
       "      <td>CE</td>\n",
       "      <td>NIFTY17550CE_23-Dec</td>\n",
       "      <td>100.0</td>\n",
       "      <td>15410.0</td>\n",
       "      <td>154.10</td>\n",
       "      <td>50</td>\n",
       "      <td>45.65</td>\n",
       "      <td>0.026622</td>\n",
       "      <td>0.017686</td>\n",
       "      <td>15410.0</td>\n",
       "      <td>15838.253250</td>\n",
       "      <td>0.153368</td>\n",
       "      <td>0.179275</td>\n",
       "      <td>0.087047</td>\n",
       "    </tr>\n",
       "    <tr>\n",
       "      <th>2</th>\n",
       "      <td>NIFTY</td>\n",
       "      <td>17600.0</td>\n",
       "      <td>2021-12-23</td>\n",
       "      <td>CE</td>\n",
       "      <td>NIFTY17600CE_23-Dec</td>\n",
       "      <td>50.0</td>\n",
       "      <td>7727.5</td>\n",
       "      <td>154.55</td>\n",
       "      <td>50</td>\n",
       "      <td>34.35</td>\n",
       "      <td>0.029548</td>\n",
       "      <td>0.020586</td>\n",
       "      <td>7727.5</td>\n",
       "      <td>5419.126625</td>\n",
       "      <td>0.131606</td>\n",
       "      <td>0.149223</td>\n",
       "      <td>0.071503</td>\n",
       "    </tr>\n",
       "  </tbody>\n",
       "</table>\n",
       "</div>"
      ],
      "text/plain": [
       "  underlying  strike_price     expiry option_type            option_id    qty  \\\n",
       "0      NIFTY       17550.0 2021-12-23          CE  NIFTY17550CE_23-Dec  100.0   \n",
       "2      NIFTY       17600.0 2021-12-23          CE  NIFTY17600CE_23-Dec   50.0   \n",
       "\n",
       "      cost  avg_price  lot_size  last_price  change_breakeven  change_itm  \\\n",
       "0  15410.0     154.10        50       45.65          0.026622    0.017686   \n",
       "2   7727.5     154.55        50       34.35          0.029548    0.020586   \n",
       "\n",
       "   position_cost  sigma_returns  p_volatility_breakeven  p_expiry_itm  \\\n",
       "0        15410.0   15838.253250                0.153368      0.179275   \n",
       "2         7727.5    5419.126625                0.131606      0.149223   \n",
       "\n",
       "   p_expiry_breakeven  \n",
       "0            0.087047  \n",
       "2            0.071503  "
      ]
     },
     "execution_count": 157,
     "metadata": {},
     "output_type": "execute_result"
    }
   ],
   "source": [
    "ce_positions"
   ]
  },
  {
   "cell_type": "code",
   "execution_count": 158,
   "id": "complicated-crown",
   "metadata": {},
   "outputs": [],
   "source": [
    "position_pairs_df = generate_pairs(pe_positions, ce_positions)"
   ]
  },
  {
   "cell_type": "code",
   "execution_count": 159,
   "id": "political-comparison",
   "metadata": {},
   "outputs": [
    {
     "data": {
      "text/html": [
       "<div>\n",
       "<style scoped>\n",
       "    .dataframe tbody tr th:only-of-type {\n",
       "        vertical-align: middle;\n",
       "    }\n",
       "\n",
       "    .dataframe tbody tr th {\n",
       "        vertical-align: top;\n",
       "    }\n",
       "\n",
       "    .dataframe thead th {\n",
       "        text-align: right;\n",
       "    }\n",
       "</style>\n",
       "<table border=\"1\" class=\"dataframe\">\n",
       "  <thead>\n",
       "    <tr style=\"text-align: right;\">\n",
       "      <th></th>\n",
       "      <th>pair</th>\n",
       "      <th>pe_price</th>\n",
       "      <th>ce_price</th>\n",
       "      <th>pe_buy_price</th>\n",
       "      <th>ce_buy_price</th>\n",
       "      <th>capital_not_breakeven_probability</th>\n",
       "      <th>pe_strike_price</th>\n",
       "      <th>ce_strike_price</th>\n",
       "      <th>spread</th>\n",
       "      <th>pe_probability_itm</th>\n",
       "      <th>...</th>\n",
       "      <th>pair_otm_probability</th>\n",
       "      <th>lot_size</th>\n",
       "      <th>current_value</th>\n",
       "      <th>cost</th>\n",
       "      <th>target</th>\n",
       "      <th>pe_breakeven_change</th>\n",
       "      <th>ce_breakeven_change</th>\n",
       "      <th>pe_breakeven_probability</th>\n",
       "      <th>ce_breakeven_probability</th>\n",
       "      <th>pair_not_breakeven_probability</th>\n",
       "    </tr>\n",
       "  </thead>\n",
       "  <tbody>\n",
       "    <tr>\n",
       "      <th>0</th>\n",
       "      <td>NIFTY17500.0PE-NIFTY17550.0CE</td>\n",
       "      <td>247.00</td>\n",
       "      <td>45.65</td>\n",
       "      <td>204.7</td>\n",
       "      <td>154.10</td>\n",
       "      <td>0.000000</td>\n",
       "      <td>17500.0</td>\n",
       "      <td>17550.0</td>\n",
       "      <td>50.0</td>\n",
       "      <td>0.746114</td>\n",
       "      <td>...</td>\n",
       "      <td>0.208371</td>\n",
       "      <td>50</td>\n",
       "      <td>14632.5</td>\n",
       "      <td>20550.0</td>\n",
       "      <td>431.55</td>\n",
       "      <td>-176.55</td>\n",
       "      <td>736.55</td>\n",
       "      <td>0.54715</td>\n",
       "      <td>0.065285</td>\n",
       "      <td>0.423285</td>\n",
       "    </tr>\n",
       "    <tr>\n",
       "      <th>1</th>\n",
       "      <td>NIFTY17500.0PE-NIFTY17600.0CE</td>\n",
       "      <td>247.00</td>\n",
       "      <td>34.35</td>\n",
       "      <td>204.7</td>\n",
       "      <td>154.55</td>\n",
       "      <td>0.000000</td>\n",
       "      <td>17500.0</td>\n",
       "      <td>17600.0</td>\n",
       "      <td>100.0</td>\n",
       "      <td>0.746114</td>\n",
       "      <td>...</td>\n",
       "      <td>0.216000</td>\n",
       "      <td>50</td>\n",
       "      <td>14067.5</td>\n",
       "      <td>20550.0</td>\n",
       "      <td>431.55</td>\n",
       "      <td>-176.55</td>\n",
       "      <td>786.55</td>\n",
       "      <td>0.54715</td>\n",
       "      <td>0.059067</td>\n",
       "      <td>0.426101</td>\n",
       "    </tr>\n",
       "    <tr>\n",
       "      <th>2</th>\n",
       "      <td>NIFTY17400.0PE-NIFTY17550.0CE</td>\n",
       "      <td>181.55</td>\n",
       "      <td>45.65</td>\n",
       "      <td>173.0</td>\n",
       "      <td>154.10</td>\n",
       "      <td>0.042112</td>\n",
       "      <td>17400.0</td>\n",
       "      <td>17550.0</td>\n",
       "      <td>150.0</td>\n",
       "      <td>0.615544</td>\n",
       "      <td>...</td>\n",
       "      <td>0.315533</td>\n",
       "      <td>50</td>\n",
       "      <td>11360.0</td>\n",
       "      <td>17380.0</td>\n",
       "      <td>364.98</td>\n",
       "      <td>-209.98</td>\n",
       "      <td>669.98</td>\n",
       "      <td>0.47772</td>\n",
       "      <td>0.076684</td>\n",
       "      <td>0.482229</td>\n",
       "    </tr>\n",
       "    <tr>\n",
       "      <th>3</th>\n",
       "      <td>NIFTY17400.0PE-NIFTY17600.0CE</td>\n",
       "      <td>181.55</td>\n",
       "      <td>34.35</td>\n",
       "      <td>173.0</td>\n",
       "      <td>154.55</td>\n",
       "      <td>0.043195</td>\n",
       "      <td>17400.0</td>\n",
       "      <td>17600.0</td>\n",
       "      <td>200.0</td>\n",
       "      <td>0.615544</td>\n",
       "      <td>...</td>\n",
       "      <td>0.327086</td>\n",
       "      <td>50</td>\n",
       "      <td>10795.0</td>\n",
       "      <td>17380.0</td>\n",
       "      <td>364.98</td>\n",
       "      <td>-209.98</td>\n",
       "      <td>719.98</td>\n",
       "      <td>0.47772</td>\n",
       "      <td>0.066321</td>\n",
       "      <td>0.487642</td>\n",
       "    </tr>\n",
       "  </tbody>\n",
       "</table>\n",
       "<p>4 rows × 21 columns</p>\n",
       "</div>"
      ],
      "text/plain": [
       "                            pair  pe_price  ce_price  pe_buy_price  \\\n",
       "0  NIFTY17500.0PE-NIFTY17550.0CE    247.00     45.65         204.7   \n",
       "1  NIFTY17500.0PE-NIFTY17600.0CE    247.00     34.35         204.7   \n",
       "2  NIFTY17400.0PE-NIFTY17550.0CE    181.55     45.65         173.0   \n",
       "3  NIFTY17400.0PE-NIFTY17600.0CE    181.55     34.35         173.0   \n",
       "\n",
       "   ce_buy_price  capital_not_breakeven_probability  pe_strike_price  \\\n",
       "0        154.10                           0.000000          17500.0   \n",
       "1        154.55                           0.000000          17500.0   \n",
       "2        154.10                           0.042112          17400.0   \n",
       "3        154.55                           0.043195          17400.0   \n",
       "\n",
       "   ce_strike_price  spread  pe_probability_itm  ...  pair_otm_probability  \\\n",
       "0          17550.0    50.0            0.746114  ...              0.208371   \n",
       "1          17600.0   100.0            0.746114  ...              0.216000   \n",
       "2          17550.0   150.0            0.615544  ...              0.315533   \n",
       "3          17600.0   200.0            0.615544  ...              0.327086   \n",
       "\n",
       "   lot_size  current_value     cost  target  pe_breakeven_change  \\\n",
       "0        50        14632.5  20550.0  431.55              -176.55   \n",
       "1        50        14067.5  20550.0  431.55              -176.55   \n",
       "2        50        11360.0  17380.0  364.98              -209.98   \n",
       "3        50        10795.0  17380.0  364.98              -209.98   \n",
       "\n",
       "   ce_breakeven_change  pe_breakeven_probability  ce_breakeven_probability  \\\n",
       "0               736.55                   0.54715                  0.065285   \n",
       "1               786.55                   0.54715                  0.059067   \n",
       "2               669.98                   0.47772                  0.076684   \n",
       "3               719.98                   0.47772                  0.066321   \n",
       "\n",
       "   pair_not_breakeven_probability  \n",
       "0                        0.423285  \n",
       "1                        0.426101  \n",
       "2                        0.482229  \n",
       "3                        0.487642  \n",
       "\n",
       "[4 rows x 21 columns]"
      ]
     },
     "execution_count": 159,
     "metadata": {},
     "output_type": "execute_result"
    }
   ],
   "source": [
    "evaluate_pairs(position_pairs_df, underlying_close=17245, delta_df=delta_df)"
   ]
  },
  {
   "cell_type": "code",
   "execution_count": 21,
   "id": "private-loading",
   "metadata": {},
   "outputs": [
    {
     "data": {
      "text/plain": [
       "101323.75"
      ]
     },
     "execution_count": 21,
     "metadata": {},
     "output_type": "execute_result"
    }
   ],
   "source": [
    "positions_df.cost.sum()"
   ]
  },
  {
   "cell_type": "code",
   "execution_count": 192,
   "id": "hundred-inventory",
   "metadata": {},
   "outputs": [],
   "source": [
    "resp = nsepy.get_history(contract.instrument, start=today - dt.timedelta(days=4), end=today, index=True)"
   ]
  },
  {
   "cell_type": "code",
   "execution_count": 195,
   "id": "junior-occasion",
   "metadata": {},
   "outputs": [
    {
     "data": {
      "text/plain": [
       "Open        1.742490e+04\n",
       "High        1.748980e+04\n",
       "Low         1.718080e+04\n",
       "Close       1.719670e+04\n",
       "Volume      2.925265e+08\n",
       "Turnover    2.310057e+11\n",
       "Name: 2021-12-03, dtype: float64"
      ]
     },
     "execution_count": 195,
     "metadata": {},
     "output_type": "execute_result"
    }
   ],
   "source": [
    "resp.iloc[-1]"
   ]
  },
  {
   "cell_type": "code",
   "execution_count": 180,
   "id": "equipped-casino",
   "metadata": {},
   "outputs": [
    {
     "data": {
      "text/plain": [
       "{'valid': 'false',\n",
       " 'tradedDate': '03DEC2021',\n",
       " 'eqLink': '',\n",
       " 'data': [{}],\n",
       " 'companyName': 'Nifty 50',\n",
       " 'lastUpdateTime': '03-DEC-2021 15:30:27',\n",
       " 'isinCode': None,\n",
       " 'ocLink': '/marketinfo/sym_map/symbolMapping.jsp?symbol=NIFTY&instrument=-&date=-&segmentLink=17&symbolCount=2'}"
      ]
     },
     "execution_count": 180,
     "metadata": {},
     "output_type": "execute_result"
    }
   ],
   "source": [
    "nsepy.get_quote(symbol=contract['instrument'], series='EQ', instrument='FUTIDX', expiry=contract.expiry)"
   ]
  },
  {
   "cell_type": "code",
   "execution_count": 177,
   "id": "mysterious-catholic",
   "metadata": {},
   "outputs": [
    {
     "data": {
      "text/html": [
       "<div>\n",
       "<style scoped>\n",
       "    .dataframe tbody tr th:only-of-type {\n",
       "        vertical-align: middle;\n",
       "    }\n",
       "\n",
       "    .dataframe tbody tr th {\n",
       "        vertical-align: top;\n",
       "    }\n",
       "\n",
       "    .dataframe thead th {\n",
       "        text-align: right;\n",
       "    }\n",
       "</style>\n",
       "<table border=\"1\" class=\"dataframe\">\n",
       "  <thead>\n",
       "    <tr style=\"text-align: right;\">\n",
       "      <th></th>\n",
       "      <th>instrument</th>\n",
       "      <th>expiry</th>\n",
       "      <th>instrument_type</th>\n",
       "      <th>strike_price</th>\n",
       "      <th>avg_price</th>\n",
       "      <th>num_positions</th>\n",
       "      <th>lot_size</th>\n",
       "      <th>last_price</th>\n",
       "    </tr>\n",
       "  </thead>\n",
       "  <tbody>\n",
       "    <tr>\n",
       "      <th>0</th>\n",
       "      <td>BANKNIFTY</td>\n",
       "      <td>2021-12-16</td>\n",
       "      <td>CE</td>\n",
       "      <td>36500.0</td>\n",
       "      <td>525.15</td>\n",
       "      <td>1</td>\n",
       "      <td>25</td>\n",
       "      <td>454.80</td>\n",
       "    </tr>\n",
       "    <tr>\n",
       "      <th>1</th>\n",
       "      <td>BANKNIFTY</td>\n",
       "      <td>2021-12-16</td>\n",
       "      <td>PE</td>\n",
       "      <td>36000.0</td>\n",
       "      <td>705.00</td>\n",
       "      <td>1</td>\n",
       "      <td>25</td>\n",
       "      <td>471.80</td>\n",
       "    </tr>\n",
       "    <tr>\n",
       "      <th>2</th>\n",
       "      <td>NIFTY</td>\n",
       "      <td>2021-12-09</td>\n",
       "      <td>CE</td>\n",
       "      <td>17200.0</td>\n",
       "      <td>150.45</td>\n",
       "      <td>1</td>\n",
       "      <td>50</td>\n",
       "      <td>154.00</td>\n",
       "    </tr>\n",
       "    <tr>\n",
       "      <th>3</th>\n",
       "      <td>NIFTY</td>\n",
       "      <td>2021-12-09</td>\n",
       "      <td>PE</td>\n",
       "      <td>17050.0</td>\n",
       "      <td>93.00</td>\n",
       "      <td>1</td>\n",
       "      <td>50</td>\n",
       "      <td>80.70</td>\n",
       "    </tr>\n",
       "    <tr>\n",
       "      <th>4</th>\n",
       "      <td>NIFTY</td>\n",
       "      <td>2021-12-16</td>\n",
       "      <td>CE</td>\n",
       "      <td>17400.0</td>\n",
       "      <td>211.00</td>\n",
       "      <td>1</td>\n",
       "      <td>50</td>\n",
       "      <td>128.40</td>\n",
       "    </tr>\n",
       "    <tr>\n",
       "      <th>5</th>\n",
       "      <td>NIFTY</td>\n",
       "      <td>2021-12-16</td>\n",
       "      <td>CE</td>\n",
       "      <td>17600.0</td>\n",
       "      <td>94.35</td>\n",
       "      <td>2</td>\n",
       "      <td>50</td>\n",
       "      <td>60.85</td>\n",
       "    </tr>\n",
       "    <tr>\n",
       "      <th>6</th>\n",
       "      <td>NIFTY</td>\n",
       "      <td>2021-12-16</td>\n",
       "      <td>PE</td>\n",
       "      <td>16850.0</td>\n",
       "      <td>64.20</td>\n",
       "      <td>1</td>\n",
       "      <td>50</td>\n",
       "      <td>90.95</td>\n",
       "    </tr>\n",
       "    <tr>\n",
       "      <th>7</th>\n",
       "      <td>NIFTY</td>\n",
       "      <td>2021-12-16</td>\n",
       "      <td>PE</td>\n",
       "      <td>17100.0</td>\n",
       "      <td>189.50</td>\n",
       "      <td>1</td>\n",
       "      <td>50</td>\n",
       "      <td>157.75</td>\n",
       "    </tr>\n",
       "    <tr>\n",
       "      <th>8</th>\n",
       "      <td>NIFTY</td>\n",
       "      <td>2021-12-16</td>\n",
       "      <td>PE</td>\n",
       "      <td>17250.0</td>\n",
       "      <td>145.80</td>\n",
       "      <td>1</td>\n",
       "      <td>50</td>\n",
       "      <td>213.45</td>\n",
       "    </tr>\n",
       "  </tbody>\n",
       "</table>\n",
       "</div>"
      ],
      "text/plain": [
       "  instrument     expiry instrument_type  strike_price  avg_price  \\\n",
       "0  BANKNIFTY 2021-12-16              CE       36500.0     525.15   \n",
       "1  BANKNIFTY 2021-12-16              PE       36000.0     705.00   \n",
       "2      NIFTY 2021-12-09              CE       17200.0     150.45   \n",
       "3      NIFTY 2021-12-09              PE       17050.0      93.00   \n",
       "4      NIFTY 2021-12-16              CE       17400.0     211.00   \n",
       "5      NIFTY 2021-12-16              CE       17600.0      94.35   \n",
       "6      NIFTY 2021-12-16              PE       16850.0      64.20   \n",
       "7      NIFTY 2021-12-16              PE       17100.0     189.50   \n",
       "8      NIFTY 2021-12-16              PE       17250.0     145.80   \n",
       "\n",
       "   num_positions  lot_size  last_price  \n",
       "0              1        25      454.80  \n",
       "1              1        25      471.80  \n",
       "2              1        50      154.00  \n",
       "3              1        50       80.70  \n",
       "4              1        50      128.40  \n",
       "5              2        50       60.85  \n",
       "6              1        50       90.95  \n",
       "7              1        50      157.75  \n",
       "8              1        50      213.45  "
      ]
     },
     "execution_count": 177,
     "metadata": {},
     "output_type": "execute_result"
    }
   ],
   "source": [
    "open_positions"
   ]
  },
  {
   "cell_type": "code",
   "execution_count": 145,
   "id": "potential-fifth",
   "metadata": {},
   "outputs": [
    {
     "data": {
      "text/plain": [
       "dict_keys(['valid', 'tradedDate', 'eqLink', 'data', 'companyName', 'lastUpdateTime', 'isinCode', 'ocLink'])"
      ]
     },
     "execution_count": 145,
     "metadata": {},
     "output_type": "execute_result"
    }
   ],
   "source": [
    "contract_quote.keys()"
   ]
  },
  {
   "cell_type": "code",
   "execution_count": 164,
   "id": "center-receiver",
   "metadata": {},
   "outputs": [
    {
     "data": {
      "text/plain": [
       "{'annualisedVolatility': '32.08',\n",
       " 'bestBuy': '-16,008.66',\n",
       " 'totalSellQuantity': '8,675',\n",
       " 'vwap': '564.76',\n",
       " 'clientWisePositionLimits': '-',\n",
       " 'optionType': 'CE',\n",
       " 'highPrice': '816.95',\n",
       " 'dailyVolatility': '1.68',\n",
       " 'bestSell': '-15,771.17',\n",
       " 'marketLot': '25',\n",
       " 'sellQuantity5': '25',\n",
       " 'marketWidePositionLimits': '-',\n",
       " 'sellQuantity4': '200',\n",
       " 'sellQuantity3': '200',\n",
       " 'sellQuantity2': '25',\n",
       " 'underlying': 'BANKNIFTY',\n",
       " 'sellQuantity1': '50',\n",
       " 'pChange': '-28.74',\n",
       " 'premiumTurnover': '1,728.73',\n",
       " 'totalBuyQuantity': '26,450',\n",
       " 'turnoverinRsLakhs': '1,13,455.23',\n",
       " 'changeinOpenInterest': '41,150',\n",
       " 'strikePrice': '36500.00',\n",
       " 'openInterest': '66,250',\n",
       " 'buyPrice2': '450.65',\n",
       " 'buyPrice1': '450.70',\n",
       " 'openPrice': '655.80',\n",
       " 'prevClose': '638.20',\n",
       " 'expiryDate': '16DEC2021',\n",
       " 'lowPrice': '406.05',\n",
       " 'buyPrice4': '441.35',\n",
       " 'buyPrice3': '443.45',\n",
       " 'buyPrice5': '440.35',\n",
       " 'numberOfContractsTraded': '12,244',\n",
       " 'instrumentType': 'OPTIDX',\n",
       " 'sellPrice1': '481.00',\n",
       " 'sellPrice2': '481.30',\n",
       " 'sellPrice3': '481.35',\n",
       " 'sellPrice4': '483.75',\n",
       " 'sellPrice5': '484.05',\n",
       " 'change': '-183.40',\n",
       " 'pchangeinOpenInterest': '163.94',\n",
       " 'ltp': '-15975.60',\n",
       " 'impliedVolatility': '19.66',\n",
       " 'underlyingValue': '36,197.15',\n",
       " 'buyQuantity4': '200',\n",
       " 'buyQuantity3': '175',\n",
       " 'buyQuantity2': '25',\n",
       " 'buyQuantity1': '25',\n",
       " 'buyQuantity5': '150',\n",
       " 'settlementPrice': '-',\n",
       " 'closePrice': '464.95',\n",
       " 'lastPrice': '454.80'}"
      ]
     },
     "execution_count": 164,
     "metadata": {},
     "output_type": "execute_result"
    }
   ],
   "source": [
    "contract_quote['data'][0]"
   ]
  },
  {
   "cell_type": "code",
   "execution_count": 157,
   "id": "combined-plastic",
   "metadata": {},
   "outputs": [
    {
     "ename": "TypeError",
     "evalue": "'Pandas' object does not support item assignment",
     "output_type": "error",
     "traceback": [
      "\u001b[0;31m---------------------------------------------------------------------------\u001b[0m",
      "\u001b[0;31mTypeError\u001b[0m                                 Traceback (most recent call last)",
      "\u001b[0;32m<ipython-input-157-63a981b84553>\u001b[0m in \u001b[0;36m<module>\u001b[0;34m\u001b[0m\n\u001b[0;32m----> 1\u001b[0;31m \u001b[0mcontract\u001b[0m\u001b[0;34m[\u001b[0m\u001b[0;34m'lot_size'\u001b[0m\u001b[0;34m]\u001b[0m \u001b[0;34m=\u001b[0m \u001b[0mfloat\u001b[0m\u001b[0;34m(\u001b[0m\u001b[0mcontract_quote\u001b[0m\u001b[0;34m[\u001b[0m\u001b[0;34m'data'\u001b[0m\u001b[0;34m]\u001b[0m\u001b[0;34m[\u001b[0m\u001b[0;36m0\u001b[0m\u001b[0;34m]\u001b[0m\u001b[0;34m[\u001b[0m\u001b[0;34m'marketLot'\u001b[0m\u001b[0;34m]\u001b[0m\u001b[0;34m)\u001b[0m\u001b[0;34m\u001b[0m\u001b[0;34m\u001b[0m\u001b[0m\n\u001b[0m",
      "\u001b[0;31mTypeError\u001b[0m: 'Pandas' object does not support item assignment"
     ]
    }
   ],
   "source": [
    "contract['lot_size'] = float(contract_quote['data'][0]['marketLot'])"
   ]
  },
  {
   "cell_type": "code",
   "execution_count": 155,
   "id": "champion-invention",
   "metadata": {},
   "outputs": [
    {
     "data": {
      "text/plain": [
       "464.95"
      ]
     },
     "execution_count": 155,
     "metadata": {},
     "output_type": "execute_result"
    }
   ],
   "source": [
    "float(contract_quote['data'][0]['closePrice'])"
   ]
  },
  {
   "cell_type": "code",
   "execution_count": 95,
   "id": "naked-bidding",
   "metadata": {},
   "outputs": [
    {
     "data": {
      "text/plain": [
       "array(['NIFTY     ', 'BANKNIFTY '], dtype=object)"
      ]
     },
     "execution_count": 95,
     "metadata": {},
     "output_type": "execute_result"
    }
   ],
   "source": [
    "open_trades.instrument.unique()"
   ]
  },
  {
   "cell_type": "code",
   "execution_count": 84,
   "id": "mobile-integer",
   "metadata": {},
   "outputs": [
    {
     "data": {
      "text/html": [
       "<div>\n",
       "<style scoped>\n",
       "    .dataframe tbody tr th:only-of-type {\n",
       "        vertical-align: middle;\n",
       "    }\n",
       "\n",
       "    .dataframe tbody tr th {\n",
       "        vertical-align: top;\n",
       "    }\n",
       "\n",
       "    .dataframe thead th {\n",
       "        text-align: right;\n",
       "    }\n",
       "</style>\n",
       "<table border=\"1\" class=\"dataframe\">\n",
       "  <thead>\n",
       "    <tr style=\"text-align: right;\">\n",
       "      <th></th>\n",
       "      <th>Date</th>\n",
       "      <th>Company</th>\n",
       "      <th>Amount</th>\n",
       "      <th>Segment</th>\n",
       "      <th>instrument</th>\n",
       "      <th>instrument_type</th>\n",
       "      <th>strike_price</th>\n",
       "      <th>Expiry</th>\n",
       "      <th>Trade Num</th>\n",
       "      <th>Trade Time</th>\n",
       "      <th>Side</th>\n",
       "      <th>Quantity</th>\n",
       "      <th>price</th>\n",
       "    </tr>\n",
       "  </thead>\n",
       "  <tbody>\n",
       "  </tbody>\n",
       "</table>\n",
       "</div>"
      ],
      "text/plain": [
       "Empty DataFrame\n",
       "Columns: [Date, Company, Amount, Segment, instrument, instrument_type, strike_price, Expiry, Trade Num, Trade Time, Side, Quantity, price]\n",
       "Index: []"
      ]
     },
     "execution_count": 84,
     "metadata": {},
     "output_type": "execute_result"
    }
   ],
   "source": [
    "open_trades[(open_trades.Expiry.dt.day==16)  & (open_trades.instrument=='NIFTY')]"
   ]
  },
  {
   "cell_type": "code",
   "execution_count": null,
   "id": "dated-nashville",
   "metadata": {},
   "outputs": [],
   "source": [
    "expiry = expiries[0]"
   ]
  },
  {
   "cell_type": "code",
   "execution_count": 9,
   "id": "backed-invite",
   "metadata": {},
   "outputs": [],
   "source": [
    "brokerage = 20"
   ]
  },
  {
   "cell_type": "code",
   "execution_count": 88,
   "id": "powered-aggregate",
   "metadata": {},
   "outputs": [],
   "source": [
    "target = 0.1"
   ]
  },
  {
   "cell_type": "code",
   "execution_count": 125,
   "id": "instant-context",
   "metadata": {},
   "outputs": [],
   "source": [
    "\n",
    "put_strike = 18000\n",
    "put_price = 155.9\n",
    "call_strike = 18100\n",
    "call_price = 87.3\n",
    "qty = 50"
   ]
  },
  {
   "cell_type": "code",
   "execution_count": 10,
   "id": "defensive-convention",
   "metadata": {},
   "outputs": [],
   "source": [
    "underlying = 'BANKNIFTY'\n",
    "\n",
    "put_strike = 36000\n",
    "put_price = 567.75\t\n",
    "call_strike = 36700\n",
    "call_price = 367.50\n",
    "qty = 25"
   ]
  },
  {
   "cell_type": "code",
   "execution_count": 11,
   "id": "acting-marriage",
   "metadata": {},
   "outputs": [],
   "source": [
    "pair_cost = (put_price+call_price)*qty + brokerage*4 # 4 for buy and sell of the whole pair\n",
    "\n",
    "pair_position = {'underlying':underlying,\n",
    "               'expiry':expiry,\n",
    "               'pe_strike_price':put_strike, 'pe_price':put_price, \n",
    "               'ce_strike_price':call_strike, 'ce_price':call_price,\n",
    "               'cost':pair_cost, 'quantity':qty}"
   ]
  },
  {
   "cell_type": "code",
   "execution_count": null,
   "id": "pediatric-lighting",
   "metadata": {},
   "outputs": [],
   "source": []
  },
  {
   "cell_type": "code",
   "execution_count": 12,
   "id": "organized-academy",
   "metadata": {},
   "outputs": [
    {
     "data": {
      "text/plain": [
       "{'underlying': 'BANKNIFTY',\n",
       " 'expiry': Timestamp('2021-12-02 00:00:00'),\n",
       " 'pe_strike_price': 36000,\n",
       " 'pe_price': 567.75,\n",
       " 'ce_strike_price': 36700,\n",
       " 'ce_price': 367.5,\n",
       " 'cost': 23461.25,\n",
       " 'quantity': 25}"
      ]
     },
     "execution_count": 12,
     "metadata": {},
     "output_type": "execute_result"
    }
   ],
   "source": [
    "pair_position"
   ]
  },
  {
   "cell_type": "code",
   "execution_count": 13,
   "id": "ordered-contamination",
   "metadata": {},
   "outputs": [],
   "source": [
    "today = dt.date.today()"
   ]
  },
  {
   "cell_type": "code",
   "execution_count": 14,
   "id": "comprehensive-pension",
   "metadata": {},
   "outputs": [],
   "source": [
    "trade_days_left = 1"
   ]
  },
  {
   "cell_type": "code",
   "execution_count": null,
   "id": "alternate-rover",
   "metadata": {},
   "outputs": [],
   "source": []
  },
  {
   "cell_type": "markdown",
   "id": "attractive-uniform",
   "metadata": {},
   "source": [
    "## Historical Analysis\n",
    "Get historical data for everything"
   ]
  },
  {
   "cell_type": "code",
   "execution_count": 16,
   "id": "tested-video",
   "metadata": {},
   "outputs": [],
   "source": [
    "pe_hist = nsepy.get_history(symbol=underlying,\n",
    "                                  start=today - dt.timedelta(days=15),\n",
    "                                  end=today,\n",
    "                                  index=True,\n",
    "                                  option_type='PE',\n",
    "                                  strike_price=put_strike,\n",
    "                                  expiry_date=expiry.date())\n",
    "\n",
    "ce_hist = nsepy.get_history(symbol=underlying,\n",
    "                                  start=today - dt.timedelta(days=15),\n",
    "                                  end=today,\n",
    "                                  index=True,\n",
    "                                  option_type='CE',\n",
    "                                  strike_price=call_strike,\n",
    "                                  expiry_date=expiry.date())\n",
    "\n",
    "underlying_hist = nsepy.get_history(symbol=underlying,\n",
    "                                  start=today - dt.timedelta(days=15),\n",
    "                                  end=today,\n",
    "                                  index=True,\n",
    "                                  strike_price=call_strike,\n",
    "                                  expiry_date=expiry.date())"
   ]
  },
  {
   "cell_type": "markdown",
   "id": "lesbian-detective",
   "metadata": {},
   "source": [
    "Calculate the per day change "
   ]
  },
  {
   "cell_type": "code",
   "execution_count": 34,
   "id": "photographic-separate",
   "metadata": {},
   "outputs": [],
   "source": [
    "pair_delta = (pe_hist.Close+ce_hist.Close).diff().iloc[1:]/(pe_hist.Open+ce_hist.Open).iloc[1:]"
   ]
  },
  {
   "cell_type": "code",
   "execution_count": 36,
   "id": "identical-diabetes",
   "metadata": {},
   "outputs": [],
   "source": [
    "import matplotlib.pyplot as plt"
   ]
  },
  {
   "cell_type": "code",
   "execution_count": 78,
   "id": "collectible-variable",
   "metadata": {},
   "outputs": [],
   "source": [
    "pair_historical = pd.DataFrame({'Pair Premium': pe_hist.Close+ce_hist.Close, 'PE Premium': pe_hist.Close, 'CE Premium': ce_hist.Close, 'Underlying': underlying_hist.Close})"
   ]
  },
  {
   "cell_type": "code",
   "execution_count": 83,
   "id": "through-rescue",
   "metadata": {},
   "outputs": [
    {
     "data": {
      "text/html": [
       "<div>\n",
       "<style scoped>\n",
       "    .dataframe tbody tr th:only-of-type {\n",
       "        vertical-align: middle;\n",
       "    }\n",
       "\n",
       "    .dataframe tbody tr th {\n",
       "        vertical-align: top;\n",
       "    }\n",
       "\n",
       "    .dataframe thead th {\n",
       "        text-align: right;\n",
       "    }\n",
       "</style>\n",
       "<table border=\"1\" class=\"dataframe\">\n",
       "  <thead>\n",
       "    <tr style=\"text-align: right;\">\n",
       "      <th></th>\n",
       "      <th>Pair Premium</th>\n",
       "      <th>PE Premium</th>\n",
       "      <th>CE Premium</th>\n",
       "      <th>Underlying</th>\n",
       "    </tr>\n",
       "    <tr>\n",
       "      <th>Date</th>\n",
       "      <th></th>\n",
       "      <th></th>\n",
       "      <th></th>\n",
       "      <th></th>\n",
       "    </tr>\n",
       "  </thead>\n",
       "  <tbody>\n",
       "    <tr>\n",
       "      <th>2021-11-12</th>\n",
       "      <td>2965.80</td>\n",
       "      <td>46.10</td>\n",
       "      <td>2919.70</td>\n",
       "      <td>38733.35</td>\n",
       "    </tr>\n",
       "    <tr>\n",
       "      <th>2021-11-15</th>\n",
       "      <td>2962.80</td>\n",
       "      <td>43.10</td>\n",
       "      <td>2919.70</td>\n",
       "      <td>38702.35</td>\n",
       "    </tr>\n",
       "    <tr>\n",
       "      <th>2021-11-16</th>\n",
       "      <td>2982.75</td>\n",
       "      <td>63.05</td>\n",
       "      <td>2919.70</td>\n",
       "      <td>38307.10</td>\n",
       "    </tr>\n",
       "    <tr>\n",
       "      <th>2021-11-17</th>\n",
       "      <td>2987.95</td>\n",
       "      <td>68.25</td>\n",
       "      <td>2919.70</td>\n",
       "      <td>38041.55</td>\n",
       "    </tr>\n",
       "    <tr>\n",
       "      <th>2021-11-18</th>\n",
       "      <td>2972.20</td>\n",
       "      <td>52.50</td>\n",
       "      <td>2919.70</td>\n",
       "      <td>37976.25</td>\n",
       "    </tr>\n",
       "    <tr>\n",
       "      <th>2021-11-23</th>\n",
       "      <td>951.25</td>\n",
       "      <td>96.60</td>\n",
       "      <td>854.65</td>\n",
       "      <td>37272.80</td>\n",
       "    </tr>\n",
       "    <tr>\n",
       "      <th>2021-11-24</th>\n",
       "      <td>998.10</td>\n",
       "      <td>62.85</td>\n",
       "      <td>935.25</td>\n",
       "      <td>37441.95</td>\n",
       "    </tr>\n",
       "    <tr>\n",
       "      <th>2021-11-25</th>\n",
       "      <td>899.50</td>\n",
       "      <td>37.35</td>\n",
       "      <td>862.15</td>\n",
       "      <td>37364.75</td>\n",
       "    </tr>\n",
       "    <tr>\n",
       "      <th>2021-11-26</th>\n",
       "      <td>607.90</td>\n",
       "      <td>415.95</td>\n",
       "      <td>191.95</td>\n",
       "      <td>36025.50</td>\n",
       "    </tr>\n",
       "  </tbody>\n",
       "</table>\n",
       "</div>"
      ],
      "text/plain": [
       "            Pair Premium  PE Premium  CE Premium  Underlying\n",
       "Date                                                        \n",
       "2021-11-12       2965.80       46.10     2919.70    38733.35\n",
       "2021-11-15       2962.80       43.10     2919.70    38702.35\n",
       "2021-11-16       2982.75       63.05     2919.70    38307.10\n",
       "2021-11-17       2987.95       68.25     2919.70    38041.55\n",
       "2021-11-18       2972.20       52.50     2919.70    37976.25\n",
       "2021-11-23        951.25       96.60      854.65    37272.80\n",
       "2021-11-24        998.10       62.85      935.25    37441.95\n",
       "2021-11-25        899.50       37.35      862.15    37364.75\n",
       "2021-11-26        607.90      415.95      191.95    36025.50"
      ]
     },
     "execution_count": 83,
     "metadata": {},
     "output_type": "execute_result"
    }
   ],
   "source": []
  },
  {
   "cell_type": "code",
   "execution_count": 57,
   "id": "manual-sudan",
   "metadata": {},
   "outputs": [],
   "source": [
    "pair_premium = pe_hist.Close+ce_hist.Close"
   ]
  },
  {
   "cell_type": "markdown",
   "id": "induced-customer",
   "metadata": {},
   "source": [
    "Pair Delta"
   ]
  },
  {
   "cell_type": "code",
   "execution_count": 75,
   "id": "incomplete-poverty",
   "metadata": {},
   "outputs": [
    {
     "data": {
      "text/plain": [
       "Date\n",
       "2021-11-12          NaN\n",
       "2021-11-15    -0.096774\n",
       "2021-11-16     0.050474\n",
       "2021-11-17     0.019582\n",
       "2021-11-18    -0.241194\n",
       "2021-11-22          NaN\n",
       "2021-11-23   -14.034375\n",
       "2021-11-24     0.276973\n",
       "2021-11-25    -1.277202\n",
       "2021-11-26    -0.217734\n",
       "Name: Close, dtype: float64"
      ]
     },
     "execution_count": 75,
     "metadata": {},
     "output_type": "execute_result"
    }
   ],
   "source": [
    "pair_premium.diff() / abs(underlying_hist.Close.diff())"
   ]
  },
  {
   "cell_type": "code",
   "execution_count": 56,
   "id": "compressed-ratio",
   "metadata": {},
   "outputs": [],
   "source": [
    "import plotly.graph_objects as go"
   ]
  },
  {
   "cell_type": "code",
   "execution_count": 60,
   "id": "ruled-advisory",
   "metadata": {},
   "outputs": [],
   "source": [
    "import plotly.express as px"
   ]
  },
  {
   "cell_type": "markdown",
   "id": "lightweight-surgery",
   "metadata": {},
   "source": [
    "**Premium Decay**"
   ]
  },
  {
   "cell_type": "code",
   "execution_count": 90,
   "id": "engaged-shade",
   "metadata": {},
   "outputs": [
    {
     "data": {
      "application/vnd.plotly.v1+json": {
       "config": {
        "plotlyServerURL": "https://plot.ly"
       },
       "data": [
        {
         "hovertemplate": "variable=PE Premium<br>Date=%{x}<br>value=%{y}<extra></extra>",
         "legendgroup": "PE Premium",
         "line": {
          "color": "#636efa",
          "dash": "solid"
         },
         "mode": "lines",
         "name": "PE Premium",
         "orientation": "v",
         "showlegend": true,
         "type": "scatter",
         "x": [
          "2021-11-12",
          "2021-11-15",
          "2021-11-16",
          "2021-11-17",
          "2021-11-18",
          "2021-11-23",
          "2021-11-24",
          "2021-11-25",
          "2021-11-26"
         ],
         "xaxis": "x",
         "y": [
          46.1,
          43.1,
          63.05,
          68.25,
          52.5,
          96.6,
          62.85,
          37.35,
          415.95
         ],
         "yaxis": "y"
        },
        {
         "hovertemplate": "variable=CE Premium<br>Date=%{x}<br>value=%{y}<extra></extra>",
         "legendgroup": "CE Premium",
         "line": {
          "color": "#EF553B",
          "dash": "solid"
         },
         "mode": "lines",
         "name": "CE Premium",
         "orientation": "v",
         "showlegend": true,
         "type": "scatter",
         "x": [
          "2021-11-12",
          "2021-11-15",
          "2021-11-16",
          "2021-11-17",
          "2021-11-18",
          "2021-11-23",
          "2021-11-24",
          "2021-11-25",
          "2021-11-26"
         ],
         "xaxis": "x",
         "y": [
          2919.7,
          2919.7,
          2919.7,
          2919.7,
          2919.7,
          854.65,
          935.25,
          862.15,
          191.95
         ],
         "yaxis": "y"
        },
        {
         "hovertemplate": "variable=Pair Premium<br>Date=%{x}<br>value=%{y}<extra></extra>",
         "legendgroup": "Pair Premium",
         "line": {
          "color": "#00cc96",
          "dash": "solid"
         },
         "mode": "lines",
         "name": "Pair Premium",
         "orientation": "v",
         "showlegend": true,
         "type": "scatter",
         "x": [
          "2021-11-12",
          "2021-11-15",
          "2021-11-16",
          "2021-11-17",
          "2021-11-18",
          "2021-11-23",
          "2021-11-24",
          "2021-11-25",
          "2021-11-26"
         ],
         "xaxis": "x",
         "y": [
          2965.7999999999997,
          2962.7999999999997,
          2982.75,
          2987.95,
          2972.2,
          951.25,
          998.1,
          899.5,
          607.9
         ],
         "yaxis": "y"
        }
       ],
       "layout": {
        "annotations": [
         {
          "showarrow": false,
          "text": "Target",
          "x": 1,
          "xanchor": "right",
          "xref": "x domain",
          "y": 1032.295,
          "yanchor": "bottom",
          "yref": "y"
         }
        ],
        "autosize": true,
        "legend": {
         "title": {
          "text": "variable"
         },
         "tracegroupgap": 0
        },
        "shapes": [
         {
          "line": {
           "color": "green",
           "dash": "dash"
          },
          "type": "line",
          "x0": 0,
          "x1": 1,
          "xref": "x domain",
          "y0": 1032.295,
          "y1": 1032.295,
          "yref": "y"
         }
        ],
        "template": {
         "data": {
          "bar": [
           {
            "error_x": {
             "color": "#2a3f5f"
            },
            "error_y": {
             "color": "#2a3f5f"
            },
            "marker": {
             "line": {
              "color": "#E5ECF6",
              "width": 0.5
             },
             "pattern": {
              "fillmode": "overlay",
              "size": 10,
              "solidity": 0.2
             }
            },
            "type": "bar"
           }
          ],
          "barpolar": [
           {
            "marker": {
             "line": {
              "color": "#E5ECF6",
              "width": 0.5
             },
             "pattern": {
              "fillmode": "overlay",
              "size": 10,
              "solidity": 0.2
             }
            },
            "type": "barpolar"
           }
          ],
          "carpet": [
           {
            "aaxis": {
             "endlinecolor": "#2a3f5f",
             "gridcolor": "white",
             "linecolor": "white",
             "minorgridcolor": "white",
             "startlinecolor": "#2a3f5f"
            },
            "baxis": {
             "endlinecolor": "#2a3f5f",
             "gridcolor": "white",
             "linecolor": "white",
             "minorgridcolor": "white",
             "startlinecolor": "#2a3f5f"
            },
            "type": "carpet"
           }
          ],
          "choropleth": [
           {
            "colorbar": {
             "outlinewidth": 0,
             "ticks": ""
            },
            "type": "choropleth"
           }
          ],
          "contour": [
           {
            "colorbar": {
             "outlinewidth": 0,
             "ticks": ""
            },
            "colorscale": [
             [
              0,
              "#0d0887"
             ],
             [
              0.1111111111111111,
              "#46039f"
             ],
             [
              0.2222222222222222,
              "#7201a8"
             ],
             [
              0.3333333333333333,
              "#9c179e"
             ],
             [
              0.4444444444444444,
              "#bd3786"
             ],
             [
              0.5555555555555556,
              "#d8576b"
             ],
             [
              0.6666666666666666,
              "#ed7953"
             ],
             [
              0.7777777777777778,
              "#fb9f3a"
             ],
             [
              0.8888888888888888,
              "#fdca26"
             ],
             [
              1,
              "#f0f921"
             ]
            ],
            "type": "contour"
           }
          ],
          "contourcarpet": [
           {
            "colorbar": {
             "outlinewidth": 0,
             "ticks": ""
            },
            "type": "contourcarpet"
           }
          ],
          "heatmap": [
           {
            "colorbar": {
             "outlinewidth": 0,
             "ticks": ""
            },
            "colorscale": [
             [
              0,
              "#0d0887"
             ],
             [
              0.1111111111111111,
              "#46039f"
             ],
             [
              0.2222222222222222,
              "#7201a8"
             ],
             [
              0.3333333333333333,
              "#9c179e"
             ],
             [
              0.4444444444444444,
              "#bd3786"
             ],
             [
              0.5555555555555556,
              "#d8576b"
             ],
             [
              0.6666666666666666,
              "#ed7953"
             ],
             [
              0.7777777777777778,
              "#fb9f3a"
             ],
             [
              0.8888888888888888,
              "#fdca26"
             ],
             [
              1,
              "#f0f921"
             ]
            ],
            "type": "heatmap"
           }
          ],
          "heatmapgl": [
           {
            "colorbar": {
             "outlinewidth": 0,
             "ticks": ""
            },
            "colorscale": [
             [
              0,
              "#0d0887"
             ],
             [
              0.1111111111111111,
              "#46039f"
             ],
             [
              0.2222222222222222,
              "#7201a8"
             ],
             [
              0.3333333333333333,
              "#9c179e"
             ],
             [
              0.4444444444444444,
              "#bd3786"
             ],
             [
              0.5555555555555556,
              "#d8576b"
             ],
             [
              0.6666666666666666,
              "#ed7953"
             ],
             [
              0.7777777777777778,
              "#fb9f3a"
             ],
             [
              0.8888888888888888,
              "#fdca26"
             ],
             [
              1,
              "#f0f921"
             ]
            ],
            "type": "heatmapgl"
           }
          ],
          "histogram": [
           {
            "marker": {
             "pattern": {
              "fillmode": "overlay",
              "size": 10,
              "solidity": 0.2
             }
            },
            "type": "histogram"
           }
          ],
          "histogram2d": [
           {
            "colorbar": {
             "outlinewidth": 0,
             "ticks": ""
            },
            "colorscale": [
             [
              0,
              "#0d0887"
             ],
             [
              0.1111111111111111,
              "#46039f"
             ],
             [
              0.2222222222222222,
              "#7201a8"
             ],
             [
              0.3333333333333333,
              "#9c179e"
             ],
             [
              0.4444444444444444,
              "#bd3786"
             ],
             [
              0.5555555555555556,
              "#d8576b"
             ],
             [
              0.6666666666666666,
              "#ed7953"
             ],
             [
              0.7777777777777778,
              "#fb9f3a"
             ],
             [
              0.8888888888888888,
              "#fdca26"
             ],
             [
              1,
              "#f0f921"
             ]
            ],
            "type": "histogram2d"
           }
          ],
          "histogram2dcontour": [
           {
            "colorbar": {
             "outlinewidth": 0,
             "ticks": ""
            },
            "colorscale": [
             [
              0,
              "#0d0887"
             ],
             [
              0.1111111111111111,
              "#46039f"
             ],
             [
              0.2222222222222222,
              "#7201a8"
             ],
             [
              0.3333333333333333,
              "#9c179e"
             ],
             [
              0.4444444444444444,
              "#bd3786"
             ],
             [
              0.5555555555555556,
              "#d8576b"
             ],
             [
              0.6666666666666666,
              "#ed7953"
             ],
             [
              0.7777777777777778,
              "#fb9f3a"
             ],
             [
              0.8888888888888888,
              "#fdca26"
             ],
             [
              1,
              "#f0f921"
             ]
            ],
            "type": "histogram2dcontour"
           }
          ],
          "mesh3d": [
           {
            "colorbar": {
             "outlinewidth": 0,
             "ticks": ""
            },
            "type": "mesh3d"
           }
          ],
          "parcoords": [
           {
            "line": {
             "colorbar": {
              "outlinewidth": 0,
              "ticks": ""
             }
            },
            "type": "parcoords"
           }
          ],
          "pie": [
           {
            "automargin": true,
            "type": "pie"
           }
          ],
          "scatter": [
           {
            "marker": {
             "colorbar": {
              "outlinewidth": 0,
              "ticks": ""
             }
            },
            "type": "scatter"
           }
          ],
          "scatter3d": [
           {
            "line": {
             "colorbar": {
              "outlinewidth": 0,
              "ticks": ""
             }
            },
            "marker": {
             "colorbar": {
              "outlinewidth": 0,
              "ticks": ""
             }
            },
            "type": "scatter3d"
           }
          ],
          "scattercarpet": [
           {
            "marker": {
             "colorbar": {
              "outlinewidth": 0,
              "ticks": ""
             }
            },
            "type": "scattercarpet"
           }
          ],
          "scattergeo": [
           {
            "marker": {
             "colorbar": {
              "outlinewidth": 0,
              "ticks": ""
             }
            },
            "type": "scattergeo"
           }
          ],
          "scattergl": [
           {
            "marker": {
             "colorbar": {
              "outlinewidth": 0,
              "ticks": ""
             }
            },
            "type": "scattergl"
           }
          ],
          "scattermapbox": [
           {
            "marker": {
             "colorbar": {
              "outlinewidth": 0,
              "ticks": ""
             }
            },
            "type": "scattermapbox"
           }
          ],
          "scatterpolar": [
           {
            "marker": {
             "colorbar": {
              "outlinewidth": 0,
              "ticks": ""
             }
            },
            "type": "scatterpolar"
           }
          ],
          "scatterpolargl": [
           {
            "marker": {
             "colorbar": {
              "outlinewidth": 0,
              "ticks": ""
             }
            },
            "type": "scatterpolargl"
           }
          ],
          "scatterternary": [
           {
            "marker": {
             "colorbar": {
              "outlinewidth": 0,
              "ticks": ""
             }
            },
            "type": "scatterternary"
           }
          ],
          "surface": [
           {
            "colorbar": {
             "outlinewidth": 0,
             "ticks": ""
            },
            "colorscale": [
             [
              0,
              "#0d0887"
             ],
             [
              0.1111111111111111,
              "#46039f"
             ],
             [
              0.2222222222222222,
              "#7201a8"
             ],
             [
              0.3333333333333333,
              "#9c179e"
             ],
             [
              0.4444444444444444,
              "#bd3786"
             ],
             [
              0.5555555555555556,
              "#d8576b"
             ],
             [
              0.6666666666666666,
              "#ed7953"
             ],
             [
              0.7777777777777778,
              "#fb9f3a"
             ],
             [
              0.8888888888888888,
              "#fdca26"
             ],
             [
              1,
              "#f0f921"
             ]
            ],
            "type": "surface"
           }
          ],
          "table": [
           {
            "cells": {
             "fill": {
              "color": "#EBF0F8"
             },
             "line": {
              "color": "white"
             }
            },
            "header": {
             "fill": {
              "color": "#C8D4E3"
             },
             "line": {
              "color": "white"
             }
            },
            "type": "table"
           }
          ]
         },
         "layout": {
          "annotationdefaults": {
           "arrowcolor": "#2a3f5f",
           "arrowhead": 0,
           "arrowwidth": 1
          },
          "autotypenumbers": "strict",
          "coloraxis": {
           "colorbar": {
            "outlinewidth": 0,
            "ticks": ""
           }
          },
          "colorscale": {
           "diverging": [
            [
             0,
             "#8e0152"
            ],
            [
             0.1,
             "#c51b7d"
            ],
            [
             0.2,
             "#de77ae"
            ],
            [
             0.3,
             "#f1b6da"
            ],
            [
             0.4,
             "#fde0ef"
            ],
            [
             0.5,
             "#f7f7f7"
            ],
            [
             0.6,
             "#e6f5d0"
            ],
            [
             0.7,
             "#b8e186"
            ],
            [
             0.8,
             "#7fbc41"
            ],
            [
             0.9,
             "#4d9221"
            ],
            [
             1,
             "#276419"
            ]
           ],
           "sequential": [
            [
             0,
             "#0d0887"
            ],
            [
             0.1111111111111111,
             "#46039f"
            ],
            [
             0.2222222222222222,
             "#7201a8"
            ],
            [
             0.3333333333333333,
             "#9c179e"
            ],
            [
             0.4444444444444444,
             "#bd3786"
            ],
            [
             0.5555555555555556,
             "#d8576b"
            ],
            [
             0.6666666666666666,
             "#ed7953"
            ],
            [
             0.7777777777777778,
             "#fb9f3a"
            ],
            [
             0.8888888888888888,
             "#fdca26"
            ],
            [
             1,
             "#f0f921"
            ]
           ],
           "sequentialminus": [
            [
             0,
             "#0d0887"
            ],
            [
             0.1111111111111111,
             "#46039f"
            ],
            [
             0.2222222222222222,
             "#7201a8"
            ],
            [
             0.3333333333333333,
             "#9c179e"
            ],
            [
             0.4444444444444444,
             "#bd3786"
            ],
            [
             0.5555555555555556,
             "#d8576b"
            ],
            [
             0.6666666666666666,
             "#ed7953"
            ],
            [
             0.7777777777777778,
             "#fb9f3a"
            ],
            [
             0.8888888888888888,
             "#fdca26"
            ],
            [
             1,
             "#f0f921"
            ]
           ]
          },
          "colorway": [
           "#636efa",
           "#EF553B",
           "#00cc96",
           "#ab63fa",
           "#FFA15A",
           "#19d3f3",
           "#FF6692",
           "#B6E880",
           "#FF97FF",
           "#FECB52"
          ],
          "font": {
           "color": "#2a3f5f"
          },
          "geo": {
           "bgcolor": "white",
           "lakecolor": "white",
           "landcolor": "#E5ECF6",
           "showlakes": true,
           "showland": true,
           "subunitcolor": "white"
          },
          "hoverlabel": {
           "align": "left"
          },
          "hovermode": "closest",
          "mapbox": {
           "style": "light"
          },
          "paper_bgcolor": "white",
          "plot_bgcolor": "#E5ECF6",
          "polar": {
           "angularaxis": {
            "gridcolor": "white",
            "linecolor": "white",
            "ticks": ""
           },
           "bgcolor": "#E5ECF6",
           "radialaxis": {
            "gridcolor": "white",
            "linecolor": "white",
            "ticks": ""
           }
          },
          "scene": {
           "xaxis": {
            "backgroundcolor": "#E5ECF6",
            "gridcolor": "white",
            "gridwidth": 2,
            "linecolor": "white",
            "showbackground": true,
            "ticks": "",
            "zerolinecolor": "white"
           },
           "yaxis": {
            "backgroundcolor": "#E5ECF6",
            "gridcolor": "white",
            "gridwidth": 2,
            "linecolor": "white",
            "showbackground": true,
            "ticks": "",
            "zerolinecolor": "white"
           },
           "zaxis": {
            "backgroundcolor": "#E5ECF6",
            "gridcolor": "white",
            "gridwidth": 2,
            "linecolor": "white",
            "showbackground": true,
            "ticks": "",
            "zerolinecolor": "white"
           }
          },
          "shapedefaults": {
           "line": {
            "color": "#2a3f5f"
           }
          },
          "ternary": {
           "aaxis": {
            "gridcolor": "white",
            "linecolor": "white",
            "ticks": ""
           },
           "baxis": {
            "gridcolor": "white",
            "linecolor": "white",
            "ticks": ""
           },
           "bgcolor": "#E5ECF6",
           "caxis": {
            "gridcolor": "white",
            "linecolor": "white",
            "ticks": ""
           }
          },
          "title": {
           "x": 0.05
          },
          "xaxis": {
           "automargin": true,
           "gridcolor": "white",
           "linecolor": "white",
           "ticks": "",
           "title": {
            "standoff": 15
           },
           "zerolinecolor": "white",
           "zerolinewidth": 2
          },
          "yaxis": {
           "automargin": true,
           "gridcolor": "white",
           "linecolor": "white",
           "ticks": "",
           "title": {
            "standoff": 15
           },
           "zerolinecolor": "white",
           "zerolinewidth": 2
          }
         }
        },
        "title": {
         "text": "Pair Premium"
        },
        "xaxis": {
         "anchor": "y",
         "autorange": true,
         "domain": [
          0,
          1
         ],
         "range": [
          "2021-11-12",
          "2021-11-26"
         ],
         "title": {
          "text": "Date"
         },
         "type": "date"
        },
        "yaxis": {
         "anchor": "x",
         "autorange": true,
         "domain": [
          0,
          1
         ],
         "range": [
          -126.57222222222222,
          3151.8722222222223
         ],
         "title": {
          "text": "value"
         },
         "type": "linear"
        }
       }
      },
      "image/png": "[encoded data removed]",
      "text/html": [
       "<div>                            <div id=\"4aaff36b-0e5b-4f58-a47d-7b104ba1cae6\" class=\"plotly-graph-div\" style=\"height:525px; width:100%;\"></div>            <script type=\"text/javascript\">                require([\"plotly\"], function(Plotly) {                    window.PLOTLYENV=window.PLOTLYENV || {};                                    if (document.getElementById(\"4aaff36b-0e5b-4f58-a47d-7b104ba1cae6\")) {                    Plotly.newPlot(                        \"4aaff36b-0e5b-4f58-a47d-7b104ba1cae6\",                        [{\"hovertemplate\":\"variable=PE Premium<br>Date=%{x}<br>value=%{y}<extra></extra>\",\"legendgroup\":\"PE Premium\",\"line\":{\"color\":\"#636efa\",\"dash\":\"solid\"},\"mode\":\"lines\",\"name\":\"PE Premium\",\"orientation\":\"v\",\"showlegend\":true,\"type\":\"scatter\",\"x\":[\"2021-11-12\",\"2021-11-15\",\"2021-11-16\",\"2021-11-17\",\"2021-11-18\",\"2021-11-23\",\"2021-11-24\",\"2021-11-25\",\"2021-11-26\"],\"xaxis\":\"x\",\"y\":[46.1,43.1,63.05,68.25,52.5,96.6,62.85,37.35,415.95],\"yaxis\":\"y\"},{\"hovertemplate\":\"variable=CE Premium<br>Date=%{x}<br>value=%{y}<extra></extra>\",\"legendgroup\":\"CE Premium\",\"line\":{\"color\":\"#EF553B\",\"dash\":\"solid\"},\"mode\":\"lines\",\"name\":\"CE Premium\",\"orientation\":\"v\",\"showlegend\":true,\"type\":\"scatter\",\"x\":[\"2021-11-12\",\"2021-11-15\",\"2021-11-16\",\"2021-11-17\",\"2021-11-18\",\"2021-11-23\",\"2021-11-24\",\"2021-11-25\",\"2021-11-26\"],\"xaxis\":\"x\",\"y\":[2919.7,2919.7,2919.7,2919.7,2919.7,854.65,935.25,862.15,191.95],\"yaxis\":\"y\"},{\"hovertemplate\":\"variable=Pair Premium<br>Date=%{x}<br>value=%{y}<extra></extra>\",\"legendgroup\":\"Pair Premium\",\"line\":{\"color\":\"#00cc96\",\"dash\":\"solid\"},\"mode\":\"lines\",\"name\":\"Pair Premium\",\"orientation\":\"v\",\"showlegend\":true,\"type\":\"scatter\",\"x\":[\"2021-11-12\",\"2021-11-15\",\"2021-11-16\",\"2021-11-17\",\"2021-11-18\",\"2021-11-23\",\"2021-11-24\",\"2021-11-25\",\"2021-11-26\"],\"xaxis\":\"x\",\"y\":[2965.7999999999997,2962.7999999999997,2982.75,2987.95,2972.2,951.25,998.1,899.5,607.9],\"yaxis\":\"y\"}],                        {\"annotations\":[{\"showarrow\":false,\"text\":\"Target\",\"x\":1,\"xanchor\":\"right\",\"xref\":\"x domain\",\"y\":1032.295,\"yanchor\":\"bottom\",\"yref\":\"y\"}],\"legend\":{\"title\":{\"text\":\"variable\"},\"tracegroupgap\":0},\"shapes\":[{\"line\":{\"color\":\"green\",\"dash\":\"dash\"},\"type\":\"line\",\"x0\":0,\"x1\":1,\"xref\":\"x domain\",\"y0\":1032.295,\"y1\":1032.295,\"yref\":\"y\"}],\"template\":{\"data\":{\"bar\":[{\"error_x\":{\"color\":\"#2a3f5f\"},\"error_y\":{\"color\":\"#2a3f5f\"},\"marker\":{\"line\":{\"color\":\"#E5ECF6\",\"width\":0.5},\"pattern\":{\"fillmode\":\"overlay\",\"size\":10,\"solidity\":0.2}},\"type\":\"bar\"}],\"barpolar\":[{\"marker\":{\"line\":{\"color\":\"#E5ECF6\",\"width\":0.5},\"pattern\":{\"fillmode\":\"overlay\",\"size\":10,\"solidity\":0.2}},\"type\":\"barpolar\"}],\"carpet\":[{\"aaxis\":{\"endlinecolor\":\"#2a3f5f\",\"gridcolor\":\"white\",\"linecolor\":\"white\",\"minorgridcolor\":\"white\",\"startlinecolor\":\"#2a3f5f\"},\"baxis\":{\"endlinecolor\":\"#2a3f5f\",\"gridcolor\":\"white\",\"linecolor\":\"white\",\"minorgridcolor\":\"white\",\"startlinecolor\":\"#2a3f5f\"},\"type\":\"carpet\"}],\"choropleth\":[{\"colorbar\":{\"outlinewidth\":0,\"ticks\":\"\"},\"type\":\"choropleth\"}],\"contour\":[{\"colorbar\":{\"outlinewidth\":0,\"ticks\":\"\"},\"colorscale\":[[0.0,\"#0d0887\"],[0.1111111111111111,\"#46039f\"],[0.2222222222222222,\"#7201a8\"],[0.3333333333333333,\"#9c179e\"],[0.4444444444444444,\"#bd3786\"],[0.5555555555555556,\"#d8576b\"],[0.6666666666666666,\"#ed7953\"],[0.7777777777777778,\"#fb9f3a\"],[0.8888888888888888,\"#fdca26\"],[1.0,\"#f0f921\"]],\"type\":\"contour\"}],\"contourcarpet\":[{\"colorbar\":{\"outlinewidth\":0,\"ticks\":\"\"},\"type\":\"contourcarpet\"}],\"heatmap\":[{\"colorbar\":{\"outlinewidth\":0,\"ticks\":\"\"},\"colorscale\":[[0.0,\"#0d0887\"],[0.1111111111111111,\"#46039f\"],[0.2222222222222222,\"#7201a8\"],[0.3333333333333333,\"#9c179e\"],[0.4444444444444444,\"#bd3786\"],[0.5555555555555556,\"#d8576b\"],[0.6666666666666666,\"#ed7953\"],[0.7777777777777778,\"#fb9f3a\"],[0.8888888888888888,\"#fdca26\"],[1.0,\"#f0f921\"]],\"type\":\"heatmap\"}],\"heatmapgl\":[{\"colorbar\":{\"outlinewidth\":0,\"ticks\":\"\"},\"colorscale\":[[0.0,\"#0d0887\"],[0.1111111111111111,\"#46039f\"],[0.2222222222222222,\"#7201a8\"],[0.3333333333333333,\"#9c179e\"],[0.4444444444444444,\"#bd3786\"],[0.5555555555555556,\"#d8576b\"],[0.6666666666666666,\"#ed7953\"],[0.7777777777777778,\"#fb9f3a\"],[0.8888888888888888,\"#fdca26\"],[1.0,\"#f0f921\"]],\"type\":\"heatmapgl\"}],\"histogram\":[{\"marker\":{\"pattern\":{\"fillmode\":\"overlay\",\"size\":10,\"solidity\":0.2}},\"type\":\"histogram\"}],\"histogram2d\":[{\"colorbar\":{\"outlinewidth\":0,\"ticks\":\"\"},\"colorscale\":[[0.0,\"#0d0887\"],[0.1111111111111111,\"#46039f\"],[0.2222222222222222,\"#7201a8\"],[0.3333333333333333,\"#9c179e\"],[0.4444444444444444,\"#bd3786\"],[0.5555555555555556,\"#d8576b\"],[0.6666666666666666,\"#ed7953\"],[0.7777777777777778,\"#fb9f3a\"],[0.8888888888888888,\"#fdca26\"],[1.0,\"#f0f921\"]],\"type\":\"histogram2d\"}],\"histogram2dcontour\":[{\"colorbar\":{\"outlinewidth\":0,\"ticks\":\"\"},\"colorscale\":[[0.0,\"#0d0887\"],[0.1111111111111111,\"#46039f\"],[0.2222222222222222,\"#7201a8\"],[0.3333333333333333,\"#9c179e\"],[0.4444444444444444,\"#bd3786\"],[0.5555555555555556,\"#d8576b\"],[0.6666666666666666,\"#ed7953\"],[0.7777777777777778,\"#fb9f3a\"],[0.8888888888888888,\"#fdca26\"],[1.0,\"#f0f921\"]],\"type\":\"histogram2dcontour\"}],\"mesh3d\":[{\"colorbar\":{\"outlinewidth\":0,\"ticks\":\"\"},\"type\":\"mesh3d\"}],\"parcoords\":[{\"line\":{\"colorbar\":{\"outlinewidth\":0,\"ticks\":\"\"}},\"type\":\"parcoords\"}],\"pie\":[{\"automargin\":true,\"type\":\"pie\"}],\"scatter\":[{\"marker\":{\"colorbar\":{\"outlinewidth\":0,\"ticks\":\"\"}},\"type\":\"scatter\"}],\"scatter3d\":[{\"line\":{\"colorbar\":{\"outlinewidth\":0,\"ticks\":\"\"}},\"marker\":{\"colorbar\":{\"outlinewidth\":0,\"ticks\":\"\"}},\"type\":\"scatter3d\"}],\"scattercarpet\":[{\"marker\":{\"colorbar\":{\"outlinewidth\":0,\"ticks\":\"\"}},\"type\":\"scattercarpet\"}],\"scattergeo\":[{\"marker\":{\"colorbar\":{\"outlinewidth\":0,\"ticks\":\"\"}},\"type\":\"scattergeo\"}],\"scattergl\":[{\"marker\":{\"colorbar\":{\"outlinewidth\":0,\"ticks\":\"\"}},\"type\":\"scattergl\"}],\"scattermapbox\":[{\"marker\":{\"colorbar\":{\"outlinewidth\":0,\"ticks\":\"\"}},\"type\":\"scattermapbox\"}],\"scatterpolar\":[{\"marker\":{\"colorbar\":{\"outlinewidth\":0,\"ticks\":\"\"}},\"type\":\"scatterpolar\"}],\"scatterpolargl\":[{\"marker\":{\"colorbar\":{\"outlinewidth\":0,\"ticks\":\"\"}},\"type\":\"scatterpolargl\"}],\"scatterternary\":[{\"marker\":{\"colorbar\":{\"outlinewidth\":0,\"ticks\":\"\"}},\"type\":\"scatterternary\"}],\"surface\":[{\"colorbar\":{\"outlinewidth\":0,\"ticks\":\"\"},\"colorscale\":[[0.0,\"#0d0887\"],[0.1111111111111111,\"#46039f\"],[0.2222222222222222,\"#7201a8\"],[0.3333333333333333,\"#9c179e\"],[0.4444444444444444,\"#bd3786\"],[0.5555555555555556,\"#d8576b\"],[0.6666666666666666,\"#ed7953\"],[0.7777777777777778,\"#fb9f3a\"],[0.8888888888888888,\"#fdca26\"],[1.0,\"#f0f921\"]],\"type\":\"surface\"}],\"table\":[{\"cells\":{\"fill\":{\"color\":\"#EBF0F8\"},\"line\":{\"color\":\"white\"}},\"header\":{\"fill\":{\"color\":\"#C8D4E3\"},\"line\":{\"color\":\"white\"}},\"type\":\"table\"}]},\"layout\":{\"annotationdefaults\":{\"arrowcolor\":\"#2a3f5f\",\"arrowhead\":0,\"arrowwidth\":1},\"autotypenumbers\":\"strict\",\"coloraxis\":{\"colorbar\":{\"outlinewidth\":0,\"ticks\":\"\"}},\"colorscale\":{\"diverging\":[[0,\"#8e0152\"],[0.1,\"#c51b7d\"],[0.2,\"#de77ae\"],[0.3,\"#f1b6da\"],[0.4,\"#fde0ef\"],[0.5,\"#f7f7f7\"],[0.6,\"#e6f5d0\"],[0.7,\"#b8e186\"],[0.8,\"#7fbc41\"],[0.9,\"#4d9221\"],[1,\"#276419\"]],\"sequential\":[[0.0,\"#0d0887\"],[0.1111111111111111,\"#46039f\"],[0.2222222222222222,\"#7201a8\"],[0.3333333333333333,\"#9c179e\"],[0.4444444444444444,\"#bd3786\"],[0.5555555555555556,\"#d8576b\"],[0.6666666666666666,\"#ed7953\"],[0.7777777777777778,\"#fb9f3a\"],[0.8888888888888888,\"#fdca26\"],[1.0,\"#f0f921\"]],\"sequentialminus\":[[0.0,\"#0d0887\"],[0.1111111111111111,\"#46039f\"],[0.2222222222222222,\"#7201a8\"],[0.3333333333333333,\"#9c179e\"],[0.4444444444444444,\"#bd3786\"],[0.5555555555555556,\"#d8576b\"],[0.6666666666666666,\"#ed7953\"],[0.7777777777777778,\"#fb9f3a\"],[0.8888888888888888,\"#fdca26\"],[1.0,\"#f0f921\"]]},\"colorway\":[\"#636efa\",\"#EF553B\",\"#00cc96\",\"#ab63fa\",\"#FFA15A\",\"#19d3f3\",\"#FF6692\",\"#B6E880\",\"#FF97FF\",\"#FECB52\"],\"font\":{\"color\":\"#2a3f5f\"},\"geo\":{\"bgcolor\":\"white\",\"lakecolor\":\"white\",\"landcolor\":\"#E5ECF6\",\"showlakes\":true,\"showland\":true,\"subunitcolor\":\"white\"},\"hoverlabel\":{\"align\":\"left\"},\"hovermode\":\"closest\",\"mapbox\":{\"style\":\"light\"},\"paper_bgcolor\":\"white\",\"plot_bgcolor\":\"#E5ECF6\",\"polar\":{\"angularaxis\":{\"gridcolor\":\"white\",\"linecolor\":\"white\",\"ticks\":\"\"},\"bgcolor\":\"#E5ECF6\",\"radialaxis\":{\"gridcolor\":\"white\",\"linecolor\":\"white\",\"ticks\":\"\"}},\"scene\":{\"xaxis\":{\"backgroundcolor\":\"#E5ECF6\",\"gridcolor\":\"white\",\"gridwidth\":2,\"linecolor\":\"white\",\"showbackground\":true,\"ticks\":\"\",\"zerolinecolor\":\"white\"},\"yaxis\":{\"backgroundcolor\":\"#E5ECF6\",\"gridcolor\":\"white\",\"gridwidth\":2,\"linecolor\":\"white\",\"showbackground\":true,\"ticks\":\"\",\"zerolinecolor\":\"white\"},\"zaxis\":{\"backgroundcolor\":\"#E5ECF6\",\"gridcolor\":\"white\",\"gridwidth\":2,\"linecolor\":\"white\",\"showbackground\":true,\"ticks\":\"\",\"zerolinecolor\":\"white\"}},\"shapedefaults\":{\"line\":{\"color\":\"#2a3f5f\"}},\"ternary\":{\"aaxis\":{\"gridcolor\":\"white\",\"linecolor\":\"white\",\"ticks\":\"\"},\"baxis\":{\"gridcolor\":\"white\",\"linecolor\":\"white\",\"ticks\":\"\"},\"bgcolor\":\"#E5ECF6\",\"caxis\":{\"gridcolor\":\"white\",\"linecolor\":\"white\",\"ticks\":\"\"}},\"title\":{\"x\":0.05},\"xaxis\":{\"automargin\":true,\"gridcolor\":\"white\",\"linecolor\":\"white\",\"ticks\":\"\",\"title\":{\"standoff\":15},\"zerolinecolor\":\"white\",\"zerolinewidth\":2},\"yaxis\":{\"automargin\":true,\"gridcolor\":\"white\",\"linecolor\":\"white\",\"ticks\":\"\",\"title\":{\"standoff\":15},\"zerolinecolor\":\"white\",\"zerolinewidth\":2}}},\"title\":{\"text\":\"Pair Premium\"},\"xaxis\":{\"anchor\":\"y\",\"domain\":[0.0,1.0],\"title\":{\"text\":\"Date\"}},\"yaxis\":{\"anchor\":\"x\",\"domain\":[0.0,1.0],\"title\":{\"text\":\"value\"}}},                        {\"responsive\": true}                    ).then(function(){\n",
       "                            \n",
       "var gd = document.getElementById('4aaff36b-0e5b-4f58-a47d-7b104ba1cae6');\n",
       "var x = new MutationObserver(function (mutations, observer) {{\n",
       "        var display = window.getComputedStyle(gd).display;\n",
       "        if (!display || display === 'none') {{\n",
       "            console.log([gd, 'removed!']);\n",
       "            Plotly.purge(gd);\n",
       "            observer.disconnect();\n",
       "        }}\n",
       "}});\n",
       "\n",
       "// Listen for the removal of the full notebook cells\n",
       "var notebookContainer = gd.closest('#notebook-container');\n",
       "if (notebookContainer) {{\n",
       "    x.observe(notebookContainer, {childList: true});\n",
       "}}\n",
       "\n",
       "// Listen for the clearing of the current output cell\n",
       "var outputEl = gd.closest('.output');\n",
       "if (outputEl) {{\n",
       "    x.observe(outputEl, {childList: true});\n",
       "}}\n",
       "\n",
       "                        })                };                });            </script>        </div>"
      ]
     },
     "metadata": {},
     "output_type": "display_data"
    }
   ],
   "source": [
    "fig = px.line(pair_historical.dropna().reset_index(), x=\"Date\", y=[\"PE Premium\", \"CE Premium\", \"Pair Premium\"], title=\"Pair Premium\")\n",
    "fig.add_hline((1+target)*pair_position['cost']/pair_position['quantity'], line_dash=\"dash\", line_color=\"green\", annotation_text='Target')\n",
    "fig.show()"
   ]
  },
  {
   "cell_type": "markdown",
   "id": "sustainable-valley",
   "metadata": {},
   "source": [
    "# Kelly Criterion"
   ]
  },
  {
   "cell_type": "markdown",
   "id": "technological-trace",
   "metadata": {},
   "source": [
    "Against losing on all pairs"
   ]
  },
  {
   "cell_type": "code",
   "execution_count": 93,
   "id": "spiritual-occupation",
   "metadata": {},
   "outputs": [],
   "source": [
    "import  numpy as np"
   ]
  },
  {
   "cell_type": "markdown",
   "id": "annoying-consensus",
   "metadata": {},
   "source": [
    "### Capital Allocation"
   ]
  },
  {
   "cell_type": "markdown",
   "id": "bronze-advance",
   "metadata": {},
   "source": [
    "Not considering partial losses"
   ]
  },
  {
   "cell_type": "code",
   "execution_count": 145,
   "id": "cubic-equation",
   "metadata": {},
   "outputs": [
    {
     "data": {
      "application/vnd.plotly.v1+json": {
       "config": {
        "plotlyServerURL": "https://plot.ly"
       },
       "data": [
        {
         "mode": "lines",
         "name": "2 Positions",
         "type": "scatter",
         "x": [
          0.05,
          0.060000000000000005,
          0.07,
          0.08000000000000002,
          0.09000000000000001,
          0.1,
          0.11000000000000001,
          0.12000000000000001,
          0.13,
          0.14,
          0.15000000000000002,
          0.16000000000000003,
          0.17000000000000004,
          0.18000000000000005,
          0.19,
          0.2,
          0.21000000000000002,
          0.22000000000000003,
          0.23000000000000004,
          0.24000000000000005,
          0.25000000000000006,
          0.26000000000000006,
          0.27,
          0.28,
          0.29000000000000004,
          0.30000000000000004,
          0.31000000000000005,
          0.32000000000000006,
          0.33,
          0.34,
          0.35000000000000003,
          0.36000000000000004,
          0.37000000000000005,
          0.38000000000000006,
          0.39000000000000007,
          0.4000000000000001,
          0.4100000000000001,
          0.42000000000000004,
          0.43000000000000005,
          0.44000000000000006,
          0.45000000000000007,
          0.4600000000000001,
          0.4700000000000001,
          0.4800000000000001,
          0.49000000000000005
         ],
         "y": [
          0,
          0,
          0,
          0,
          0,
          0,
          0,
          0,
          0,
          0,
          0,
          0,
          0,
          0,
          0,
          0.039999999999999813,
          0.078095238095238,
          0.11272727272727268,
          0.1443478260869565,
          0.17333333333333334,
          0.19999999999999996,
          0.22461538461538466,
          0.2474074074074073,
          0.26857142857142846,
          0.2882758620689655,
          0.30666666666666664,
          0.32387096774193547,
          0.33999999999999997,
          0.35515151515151505,
          0.3694117647058823,
          0.3828571428571428,
          0.3955555555555555,
          0.4075675675675675,
          0.41894736842105257,
          0.4297435897435897,
          0.43999999999999995,
          0.44975609756097557,
          0.459047619047619,
          0.46790697674418597,
          0.4763636363636363,
          0.4844444444444444,
          0.49217391304347824,
          0.49957446808510636,
          0.5066666666666666,
          0.513469387755102
         ]
        },
        {
         "mode": "lines",
         "name": "3 Positions",
         "type": "scatter",
         "x": [
          0.05,
          0.060000000000000005,
          0.07,
          0.08000000000000002,
          0.09000000000000001,
          0.1,
          0.11000000000000001,
          0.12000000000000001,
          0.13,
          0.14,
          0.15000000000000002,
          0.16000000000000003,
          0.17000000000000004,
          0.18000000000000005,
          0.19,
          0.2,
          0.21000000000000002,
          0.22000000000000003,
          0.23000000000000004,
          0.24000000000000005,
          0.25000000000000006,
          0.26000000000000006,
          0.27,
          0.28,
          0.29000000000000004,
          0.30000000000000004,
          0.31000000000000005,
          0.32000000000000006,
          0.33,
          0.34,
          0.35000000000000003,
          0.36000000000000004,
          0.37000000000000005,
          0.38000000000000006,
          0.39000000000000007,
          0.4000000000000001,
          0.4100000000000001,
          0.42000000000000004,
          0.43000000000000005,
          0.44000000000000006,
          0.45000000000000007,
          0.4600000000000001,
          0.4700000000000001,
          0.4800000000000001,
          0.49000000000000005
         ],
         "y": [
          0,
          0,
          0.02171428571428491,
          0.13599999999999934,
          0.22488888888888825,
          0.2959999999999994,
          0.3541818181818177,
          0.4026666666666662,
          0.4436923076923072,
          0.4788571428571424,
          0.509333333333333,
          0.5359999999999996,
          0.5595294117647056,
          0.5804444444444441,
          0.5991578947368418,
          0.6159999999999997,
          0.6312380952380949,
          0.6450909090909088,
          0.6577391304347824,
          0.6693333333333331,
          0.6799999999999997,
          0.6898461538461537,
          0.6989629629629627,
          0.7074285714285712,
          0.7153103448275859,
          0.7226666666666665,
          0.729548387096774,
          0.7359999999999998,
          0.7420606060606059,
          0.7477647058823527,
          0.7531428571428569,
          0.758222222222222,
          0.7630270270270268,
          0.7675789473684209,
          0.7718974358974358,
          0.7759999999999998,
          0.77990243902439,
          0.7836190476190474,
          0.7871627906976743,
          0.7905454545454544,
          0.7937777777777776,
          0.7968695652173912,
          0.7998297872340424,
          0.8026666666666665,
          0.8053877551020406
         ]
        },
        {
         "mode": "lines",
         "name": "4 Positions",
         "type": "scatter",
         "x": [
          0.05,
          0.060000000000000005,
          0.07,
          0.08000000000000002,
          0.09000000000000001,
          0.1,
          0.11000000000000001,
          0.12000000000000001,
          0.13,
          0.14,
          0.15000000000000002,
          0.16000000000000003,
          0.17000000000000004,
          0.18000000000000005,
          0.19,
          0.2,
          0.21000000000000002,
          0.22000000000000003,
          0.23000000000000004,
          0.24000000000000005,
          0.25000000000000006,
          0.26000000000000006,
          0.27,
          0.28,
          0.29000000000000004,
          0.30000000000000004,
          0.31000000000000005,
          0.32000000000000006,
          0.33,
          0.34,
          0.35000000000000003,
          0.36000000000000004,
          0.37000000000000005,
          0.38000000000000006,
          0.39000000000000007,
          0.4000000000000001,
          0.4100000000000001,
          0.42000000000000004,
          0.43000000000000005,
          0.44000000000000006,
          0.45000000000000007,
          0.4600000000000001,
          0.4700000000000001,
          0.4800000000000001,
          0.49000000000000005
         ],
         "y": [
          0.4624000000000009,
          0.5477333333333341,
          0.6086857142857149,
          0.6544000000000006,
          0.6899555555555561,
          0.7184000000000005,
          0.7416727272727277,
          0.7610666666666671,
          0.7774769230769234,
          0.7915428571428575,
          0.8037333333333336,
          0.8144000000000003,
          0.8238117647058827,
          0.8321777777777781,
          0.8396631578947371,
          0.8464000000000003,
          0.8524952380952384,
          0.8580363636363639,
          0.8630956521739133,
          0.8677333333333336,
          0.8720000000000002,
          0.8759384615384618,
          0.8795851851851854,
          0.8829714285714287,
          0.8861241379310347,
          0.8890666666666669,
          0.8918193548387099,
          0.8944000000000002,
          0.8968242424242426,
          0.8991058823529413,
          0.901257142857143,
          0.903288888888889,
          0.905210810810811,
          0.9070315789473686,
          0.9087589743589746,
          0.9104000000000002,
          0.9119609756097563,
          0.9134476190476192,
          0.91486511627907,
          0.9162181818181819,
          0.9175111111111113,
          0.9187478260869567,
          0.9199319148936171,
          0.9210666666666668,
          0.9221551020408165
         ]
        },
        {
         "mode": "lines",
         "name": "5 Positions",
         "type": "scatter",
         "x": [
          0.05,
          0.060000000000000005,
          0.07,
          0.08000000000000002,
          0.09000000000000001,
          0.1,
          0.11000000000000001,
          0.12000000000000001,
          0.13,
          0.14,
          0.15000000000000002,
          0.16000000000000003,
          0.17000000000000004,
          0.18000000000000005,
          0.19,
          0.2,
          0.21000000000000002,
          0.22000000000000003,
          0.23000000000000004,
          0.24000000000000005,
          0.25000000000000006,
          0.26000000000000006,
          0.27,
          0.28,
          0.29000000000000004,
          0.30000000000000004,
          0.31000000000000005,
          0.32000000000000006,
          0.33,
          0.34,
          0.35000000000000003,
          0.36000000000000004,
          0.37000000000000005,
          0.38000000000000006,
          0.39000000000000007,
          0.4000000000000001,
          0.4100000000000001,
          0.42000000000000004,
          0.43000000000000005,
          0.44000000000000006,
          0.45000000000000007,
          0.4600000000000001,
          0.4700000000000001,
          0.4800000000000001,
          0.49000000000000005
         ],
         "y": [
          0.7849599999999994,
          0.8190933333333329,
          0.8434742857142853,
          0.8617599999999996,
          0.8759822222222219,
          0.8873599999999997,
          0.8966690909090906,
          0.9044266666666664,
          0.910990769230769,
          0.9166171428571427,
          0.9214933333333332,
          0.9257599999999998,
          0.9295247058823528,
          0.932871111111111,
          0.9358652631578945,
          0.9385599999999998,
          0.9409980952380951,
          0.9432145454545453,
          0.9452382608695651,
          0.9470933333333332,
          0.9487999999999999,
          0.9503753846153845,
          0.9518340740740739,
          0.9531885714285713,
          0.9544496551724136,
          0.9556266666666665,
          0.9567277419354838,
          0.95776,
          0.9587296969696969,
          0.9596423529411764,
          0.960502857142857,
          0.9613155555555555,
          0.9620843243243242,
          0.9628126315789473,
          0.9635035897435896,
          0.9641599999999999,
          0.9647843902439024,
          0.9653790476190476,
          0.9659460465116279,
          0.9664872727272726,
          0.9670044444444443,
          0.9674991304347825,
          0.9679727659574467,
          0.9684266666666665,
          0.9688620408163264
         ]
        }
       ],
       "layout": {
        "annotations": [
         {
          "showarrow": false,
          "text": "10 % Allocation Threshold",
          "x": 1,
          "xanchor": "right",
          "xref": "x domain",
          "y": 0.1,
          "yanchor": "bottom",
          "yref": "y"
         }
        ],
        "autosize": true,
        "font": {
         "color": "RebeccaPurple",
         "size": 12
        },
        "legend": {
         "title": {
          "text": "Number of Positions"
         }
        },
        "shapes": [
         {
          "line": {
           "color": "red",
           "dash": "dash"
          },
          "type": "line",
          "x0": 0,
          "x1": 1,
          "xref": "x domain",
          "y0": 0.1,
          "y1": 0.1,
          "yref": "y"
         }
        ],
        "template": {
         "data": {
          "bar": [
           {
            "error_x": {
             "color": "#2a3f5f"
            },
            "error_y": {
             "color": "#2a3f5f"
            },
            "marker": {
             "line": {
              "color": "#E5ECF6",
              "width": 0.5
             },
             "pattern": {
              "fillmode": "overlay",
              "size": 10,
              "solidity": 0.2
             }
            },
            "type": "bar"
           }
          ],
          "barpolar": [
           {
            "marker": {
             "line": {
              "color": "#E5ECF6",
              "width": 0.5
             },
             "pattern": {
              "fillmode": "overlay",
              "size": 10,
              "solidity": 0.2
             }
            },
            "type": "barpolar"
           }
          ],
          "carpet": [
           {
            "aaxis": {
             "endlinecolor": "#2a3f5f",
             "gridcolor": "white",
             "linecolor": "white",
             "minorgridcolor": "white",
             "startlinecolor": "#2a3f5f"
            },
            "baxis": {
             "endlinecolor": "#2a3f5f",
             "gridcolor": "white",
             "linecolor": "white",
             "minorgridcolor": "white",
             "startlinecolor": "#2a3f5f"
            },
            "type": "carpet"
           }
          ],
          "choropleth": [
           {
            "colorbar": {
             "outlinewidth": 0,
             "ticks": ""
            },
            "type": "choropleth"
           }
          ],
          "contour": [
           {
            "colorbar": {
             "outlinewidth": 0,
             "ticks": ""
            },
            "colorscale": [
             [
              0,
              "#0d0887"
             ],
             [
              0.1111111111111111,
              "#46039f"
             ],
             [
              0.2222222222222222,
              "#7201a8"
             ],
             [
              0.3333333333333333,
              "#9c179e"
             ],
             [
              0.4444444444444444,
              "#bd3786"
             ],
             [
              0.5555555555555556,
              "#d8576b"
             ],
             [
              0.6666666666666666,
              "#ed7953"
             ],
             [
              0.7777777777777778,
              "#fb9f3a"
             ],
             [
              0.8888888888888888,
              "#fdca26"
             ],
             [
              1,
              "#f0f921"
             ]
            ],
            "type": "contour"
           }
          ],
          "contourcarpet": [
           {
            "colorbar": {
             "outlinewidth": 0,
             "ticks": ""
            },
            "type": "contourcarpet"
           }
          ],
          "heatmap": [
           {
            "colorbar": {
             "outlinewidth": 0,
             "ticks": ""
            },
            "colorscale": [
             [
              0,
              "#0d0887"
             ],
             [
              0.1111111111111111,
              "#46039f"
             ],
             [
              0.2222222222222222,
              "#7201a8"
             ],
             [
              0.3333333333333333,
              "#9c179e"
             ],
             [
              0.4444444444444444,
              "#bd3786"
             ],
             [
              0.5555555555555556,
              "#d8576b"
             ],
             [
              0.6666666666666666,
              "#ed7953"
             ],
             [
              0.7777777777777778,
              "#fb9f3a"
             ],
             [
              0.8888888888888888,
              "#fdca26"
             ],
             [
              1,
              "#f0f921"
             ]
            ],
            "type": "heatmap"
           }
          ],
          "heatmapgl": [
           {
            "colorbar": {
             "outlinewidth": 0,
             "ticks": ""
            },
            "colorscale": [
             [
              0,
              "#0d0887"
             ],
             [
              0.1111111111111111,
              "#46039f"
             ],
             [
              0.2222222222222222,
              "#7201a8"
             ],
             [
              0.3333333333333333,
              "#9c179e"
             ],
             [
              0.4444444444444444,
              "#bd3786"
             ],
             [
              0.5555555555555556,
              "#d8576b"
             ],
             [
              0.6666666666666666,
              "#ed7953"
             ],
             [
              0.7777777777777778,
              "#fb9f3a"
             ],
             [
              0.8888888888888888,
              "#fdca26"
             ],
             [
              1,
              "#f0f921"
             ]
            ],
            "type": "heatmapgl"
           }
          ],
          "histogram": [
           {
            "marker": {
             "pattern": {
              "fillmode": "overlay",
              "size": 10,
              "solidity": 0.2
             }
            },
            "type": "histogram"
           }
          ],
          "histogram2d": [
           {
            "colorbar": {
             "outlinewidth": 0,
             "ticks": ""
            },
            "colorscale": [
             [
              0,
              "#0d0887"
             ],
             [
              0.1111111111111111,
              "#46039f"
             ],
             [
              0.2222222222222222,
              "#7201a8"
             ],
             [
              0.3333333333333333,
              "#9c179e"
             ],
             [
              0.4444444444444444,
              "#bd3786"
             ],
             [
              0.5555555555555556,
              "#d8576b"
             ],
             [
              0.6666666666666666,
              "#ed7953"
             ],
             [
              0.7777777777777778,
              "#fb9f3a"
             ],
             [
              0.8888888888888888,
              "#fdca26"
             ],
             [
              1,
              "#f0f921"
             ]
            ],
            "type": "histogram2d"
           }
          ],
          "histogram2dcontour": [
           {
            "colorbar": {
             "outlinewidth": 0,
             "ticks": ""
            },
            "colorscale": [
             [
              0,
              "#0d0887"
             ],
             [
              0.1111111111111111,
              "#46039f"
             ],
             [
              0.2222222222222222,
              "#7201a8"
             ],
             [
              0.3333333333333333,
              "#9c179e"
             ],
             [
              0.4444444444444444,
              "#bd3786"
             ],
             [
              0.5555555555555556,
              "#d8576b"
             ],
             [
              0.6666666666666666,
              "#ed7953"
             ],
             [
              0.7777777777777778,
              "#fb9f3a"
             ],
             [
              0.8888888888888888,
              "#fdca26"
             ],
             [
              1,
              "#f0f921"
             ]
            ],
            "type": "histogram2dcontour"
           }
          ],
          "mesh3d": [
           {
            "colorbar": {
             "outlinewidth": 0,
             "ticks": ""
            },
            "type": "mesh3d"
           }
          ],
          "parcoords": [
           {
            "line": {
             "colorbar": {
              "outlinewidth": 0,
              "ticks": ""
             }
            },
            "type": "parcoords"
           }
          ],
          "pie": [
           {
            "automargin": true,
            "type": "pie"
           }
          ],
          "scatter": [
           {
            "marker": {
             "colorbar": {
              "outlinewidth": 0,
              "ticks": ""
             }
            },
            "type": "scatter"
           }
          ],
          "scatter3d": [
           {
            "line": {
             "colorbar": {
              "outlinewidth": 0,
              "ticks": ""
             }
            },
            "marker": {
             "colorbar": {
              "outlinewidth": 0,
              "ticks": ""
             }
            },
            "type": "scatter3d"
           }
          ],
          "scattercarpet": [
           {
            "marker": {
             "colorbar": {
              "outlinewidth": 0,
              "ticks": ""
             }
            },
            "type": "scattercarpet"
           }
          ],
          "scattergeo": [
           {
            "marker": {
             "colorbar": {
              "outlinewidth": 0,
              "ticks": ""
             }
            },
            "type": "scattergeo"
           }
          ],
          "scattergl": [
           {
            "marker": {
             "colorbar": {
              "outlinewidth": 0,
              "ticks": ""
             }
            },
            "type": "scattergl"
           }
          ],
          "scattermapbox": [
           {
            "marker": {
             "colorbar": {
              "outlinewidth": 0,
              "ticks": ""
             }
            },
            "type": "scattermapbox"
           }
          ],
          "scatterpolar": [
           {
            "marker": {
             "colorbar": {
              "outlinewidth": 0,
              "ticks": ""
             }
            },
            "type": "scatterpolar"
           }
          ],
          "scatterpolargl": [
           {
            "marker": {
             "colorbar": {
              "outlinewidth": 0,
              "ticks": ""
             }
            },
            "type": "scatterpolargl"
           }
          ],
          "scatterternary": [
           {
            "marker": {
             "colorbar": {
              "outlinewidth": 0,
              "ticks": ""
             }
            },
            "type": "scatterternary"
           }
          ],
          "surface": [
           {
            "colorbar": {
             "outlinewidth": 0,
             "ticks": ""
            },
            "colorscale": [
             [
              0,
              "#0d0887"
             ],
             [
              0.1111111111111111,
              "#46039f"
             ],
             [
              0.2222222222222222,
              "#7201a8"
             ],
             [
              0.3333333333333333,
              "#9c179e"
             ],
             [
              0.4444444444444444,
              "#bd3786"
             ],
             [
              0.5555555555555556,
              "#d8576b"
             ],
             [
              0.6666666666666666,
              "#ed7953"
             ],
             [
              0.7777777777777778,
              "#fb9f3a"
             ],
             [
              0.8888888888888888,
              "#fdca26"
             ],
             [
              1,
              "#f0f921"
             ]
            ],
            "type": "surface"
           }
          ],
          "table": [
           {
            "cells": {
             "fill": {
              "color": "#EBF0F8"
             },
             "line": {
              "color": "white"
             }
            },
            "header": {
             "fill": {
              "color": "#C8D4E3"
             },
             "line": {
              "color": "white"
             }
            },
            "type": "table"
           }
          ]
         },
         "layout": {
          "annotationdefaults": {
           "arrowcolor": "#2a3f5f",
           "arrowhead": 0,
           "arrowwidth": 1
          },
          "autotypenumbers": "strict",
          "coloraxis": {
           "colorbar": {
            "outlinewidth": 0,
            "ticks": ""
           }
          },
          "colorscale": {
           "diverging": [
            [
             0,
             "#8e0152"
            ],
            [
             0.1,
             "#c51b7d"
            ],
            [
             0.2,
             "#de77ae"
            ],
            [
             0.3,
             "#f1b6da"
            ],
            [
             0.4,
             "#fde0ef"
            ],
            [
             0.5,
             "#f7f7f7"
            ],
            [
             0.6,
             "#e6f5d0"
            ],
            [
             0.7,
             "#b8e186"
            ],
            [
             0.8,
             "#7fbc41"
            ],
            [
             0.9,
             "#4d9221"
            ],
            [
             1,
             "#276419"
            ]
           ],
           "sequential": [
            [
             0,
             "#0d0887"
            ],
            [
             0.1111111111111111,
             "#46039f"
            ],
            [
             0.2222222222222222,
             "#7201a8"
            ],
            [
             0.3333333333333333,
             "#9c179e"
            ],
            [
             0.4444444444444444,
             "#bd3786"
            ],
            [
             0.5555555555555556,
             "#d8576b"
            ],
            [
             0.6666666666666666,
             "#ed7953"
            ],
            [
             0.7777777777777778,
             "#fb9f3a"
            ],
            [
             0.8888888888888888,
             "#fdca26"
            ],
            [
             1,
             "#f0f921"
            ]
           ],
           "sequentialminus": [
            [
             0,
             "#0d0887"
            ],
            [
             0.1111111111111111,
             "#46039f"
            ],
            [
             0.2222222222222222,
             "#7201a8"
            ],
            [
             0.3333333333333333,
             "#9c179e"
            ],
            [
             0.4444444444444444,
             "#bd3786"
            ],
            [
             0.5555555555555556,
             "#d8576b"
            ],
            [
             0.6666666666666666,
             "#ed7953"
            ],
            [
             0.7777777777777778,
             "#fb9f3a"
            ],
            [
             0.8888888888888888,
             "#fdca26"
            ],
            [
             1,
             "#f0f921"
            ]
           ]
          },
          "colorway": [
           "#636efa",
           "#EF553B",
           "#00cc96",
           "#ab63fa",
           "#FFA15A",
           "#19d3f3",
           "#FF6692",
           "#B6E880",
           "#FF97FF",
           "#FECB52"
          ],
          "font": {
           "color": "#2a3f5f"
          },
          "geo": {
           "bgcolor": "white",
           "lakecolor": "white",
           "landcolor": "#E5ECF6",
           "showlakes": true,
           "showland": true,
           "subunitcolor": "white"
          },
          "hoverlabel": {
           "align": "left"
          },
          "hovermode": "closest",
          "mapbox": {
           "style": "light"
          },
          "paper_bgcolor": "white",
          "plot_bgcolor": "#E5ECF6",
          "polar": {
           "angularaxis": {
            "gridcolor": "white",
            "linecolor": "white",
            "ticks": ""
           },
           "bgcolor": "#E5ECF6",
           "radialaxis": {
            "gridcolor": "white",
            "linecolor": "white",
            "ticks": ""
           }
          },
          "scene": {
           "xaxis": {
            "backgroundcolor": "#E5ECF6",
            "gridcolor": "white",
            "gridwidth": 2,
            "linecolor": "white",
            "showbackground": true,
            "ticks": "",
            "zerolinecolor": "white"
           },
           "yaxis": {
            "backgroundcolor": "#E5ECF6",
            "gridcolor": "white",
            "gridwidth": 2,
            "linecolor": "white",
            "showbackground": true,
            "ticks": "",
            "zerolinecolor": "white"
           },
           "zaxis": {
            "backgroundcolor": "#E5ECF6",
            "gridcolor": "white",
            "gridwidth": 2,
            "linecolor": "white",
            "showbackground": true,
            "ticks": "",
            "zerolinecolor": "white"
           }
          },
          "shapedefaults": {
           "line": {
            "color": "#2a3f5f"
           }
          },
          "ternary": {
           "aaxis": {
            "gridcolor": "white",
            "linecolor": "white",
            "ticks": ""
           },
           "baxis": {
            "gridcolor": "white",
            "linecolor": "white",
            "ticks": ""
           },
           "bgcolor": "#E5ECF6",
           "caxis": {
            "gridcolor": "white",
            "linecolor": "white",
            "ticks": ""
           }
          },
          "title": {
           "x": 0.05
          },
          "xaxis": {
           "automargin": true,
           "gridcolor": "white",
           "linecolor": "white",
           "ticks": "",
           "title": {
            "standoff": 15
           },
           "zerolinecolor": "white",
           "zerolinewidth": 2
          },
          "yaxis": {
           "automargin": true,
           "gridcolor": "white",
           "linecolor": "white",
           "ticks": "",
           "title": {
            "standoff": 15
           },
           "zerolinecolor": "white",
           "zerolinewidth": 2
          }
         }
        },
        "title": {
         "text": "Strategy Capital Allocation vs Target Returns"
        },
        "xaxis": {
         "autorange": true,
         "range": [
          0.05,
          0.49000000000000005
         ],
         "title": {
          "text": "Expected returns"
         },
         "type": "linear"
        },
        "yaxis": {
         "autorange": true,
         "range": [
          -0.05382566893424035,
          1.0226877097505669
         ],
         "title": {
          "text": "Fraction of Total Capital Invested"
         },
         "type": "linear"
        }
       }
      },
      "image/png": "[encoded data removed]",
      "text/html": [
       "<div>                            <div id=\"c5e6c582-dc6c-4d69-be7f-d271d44ed301\" class=\"plotly-graph-div\" style=\"height:525px; width:100%;\"></div>            <script type=\"text/javascript\">                require([\"plotly\"], function(Plotly) {                    window.PLOTLYENV=window.PLOTLYENV || {};                                    if (document.getElementById(\"c5e6c582-dc6c-4d69-be7f-d271d44ed301\")) {                    Plotly.newPlot(                        \"c5e6c582-dc6c-4d69-be7f-d271d44ed301\",                        [{\"mode\":\"lines\",\"name\":\"2 Positions\",\"type\":\"scatter\",\"x\":[0.05,0.060000000000000005,0.07,0.08000000000000002,0.09000000000000001,0.1,0.11000000000000001,0.12000000000000001,0.13,0.14,0.15000000000000002,0.16000000000000003,0.17000000000000004,0.18000000000000005,0.19,0.2,0.21000000000000002,0.22000000000000003,0.23000000000000004,0.24000000000000005,0.25000000000000006,0.26000000000000006,0.27,0.28,0.29000000000000004,0.30000000000000004,0.31000000000000005,0.32000000000000006,0.33,0.34,0.35000000000000003,0.36000000000000004,0.37000000000000005,0.38000000000000006,0.39000000000000007,0.4000000000000001,0.4100000000000001,0.42000000000000004,0.43000000000000005,0.44000000000000006,0.45000000000000007,0.4600000000000001,0.4700000000000001,0.4800000000000001,0.49000000000000005],\"y\":[0.0,0.0,0.0,0.0,0.0,0.0,0.0,0.0,0.0,0.0,0.0,0.0,0.0,0.0,0.0,0.039999999999999813,0.078095238095238,0.11272727272727268,0.1443478260869565,0.17333333333333334,0.19999999999999996,0.22461538461538466,0.2474074074074073,0.26857142857142846,0.2882758620689655,0.30666666666666664,0.32387096774193547,0.33999999999999997,0.35515151515151505,0.3694117647058823,0.3828571428571428,0.3955555555555555,0.4075675675675675,0.41894736842105257,0.4297435897435897,0.43999999999999995,0.44975609756097557,0.459047619047619,0.46790697674418597,0.4763636363636363,0.4844444444444444,0.49217391304347824,0.49957446808510636,0.5066666666666666,0.513469387755102]},{\"mode\":\"lines\",\"name\":\"3 Positions\",\"type\":\"scatter\",\"x\":[0.05,0.060000000000000005,0.07,0.08000000000000002,0.09000000000000001,0.1,0.11000000000000001,0.12000000000000001,0.13,0.14,0.15000000000000002,0.16000000000000003,0.17000000000000004,0.18000000000000005,0.19,0.2,0.21000000000000002,0.22000000000000003,0.23000000000000004,0.24000000000000005,0.25000000000000006,0.26000000000000006,0.27,0.28,0.29000000000000004,0.30000000000000004,0.31000000000000005,0.32000000000000006,0.33,0.34,0.35000000000000003,0.36000000000000004,0.37000000000000005,0.38000000000000006,0.39000000000000007,0.4000000000000001,0.4100000000000001,0.42000000000000004,0.43000000000000005,0.44000000000000006,0.45000000000000007,0.4600000000000001,0.4700000000000001,0.4800000000000001,0.49000000000000005],\"y\":[0.0,0.0,0.02171428571428491,0.13599999999999934,0.22488888888888825,0.2959999999999994,0.3541818181818177,0.4026666666666662,0.4436923076923072,0.4788571428571424,0.509333333333333,0.5359999999999996,0.5595294117647056,0.5804444444444441,0.5991578947368418,0.6159999999999997,0.6312380952380949,0.6450909090909088,0.6577391304347824,0.6693333333333331,0.6799999999999997,0.6898461538461537,0.6989629629629627,0.7074285714285712,0.7153103448275859,0.7226666666666665,0.729548387096774,0.7359999999999998,0.7420606060606059,0.7477647058823527,0.7531428571428569,0.758222222222222,0.7630270270270268,0.7675789473684209,0.7718974358974358,0.7759999999999998,0.77990243902439,0.7836190476190474,0.7871627906976743,0.7905454545454544,0.7937777777777776,0.7968695652173912,0.7998297872340424,0.8026666666666665,0.8053877551020406]},{\"mode\":\"lines\",\"name\":\"4 Positions\",\"type\":\"scatter\",\"x\":[0.05,0.060000000000000005,0.07,0.08000000000000002,0.09000000000000001,0.1,0.11000000000000001,0.12000000000000001,0.13,0.14,0.15000000000000002,0.16000000000000003,0.17000000000000004,0.18000000000000005,0.19,0.2,0.21000000000000002,0.22000000000000003,0.23000000000000004,0.24000000000000005,0.25000000000000006,0.26000000000000006,0.27,0.28,0.29000000000000004,0.30000000000000004,0.31000000000000005,0.32000000000000006,0.33,0.34,0.35000000000000003,0.36000000000000004,0.37000000000000005,0.38000000000000006,0.39000000000000007,0.4000000000000001,0.4100000000000001,0.42000000000000004,0.43000000000000005,0.44000000000000006,0.45000000000000007,0.4600000000000001,0.4700000000000001,0.4800000000000001,0.49000000000000005],\"y\":[0.4624000000000009,0.5477333333333341,0.6086857142857149,0.6544000000000006,0.6899555555555561,0.7184000000000005,0.7416727272727277,0.7610666666666671,0.7774769230769234,0.7915428571428575,0.8037333333333336,0.8144000000000003,0.8238117647058827,0.8321777777777781,0.8396631578947371,0.8464000000000003,0.8524952380952384,0.8580363636363639,0.8630956521739133,0.8677333333333336,0.8720000000000002,0.8759384615384618,0.8795851851851854,0.8829714285714287,0.8861241379310347,0.8890666666666669,0.8918193548387099,0.8944000000000002,0.8968242424242426,0.8991058823529413,0.901257142857143,0.903288888888889,0.905210810810811,0.9070315789473686,0.9087589743589746,0.9104000000000002,0.9119609756097563,0.9134476190476192,0.91486511627907,0.9162181818181819,0.9175111111111113,0.9187478260869567,0.9199319148936171,0.9210666666666668,0.9221551020408165]},{\"mode\":\"lines\",\"name\":\"5 Positions\",\"type\":\"scatter\",\"x\":[0.05,0.060000000000000005,0.07,0.08000000000000002,0.09000000000000001,0.1,0.11000000000000001,0.12000000000000001,0.13,0.14,0.15000000000000002,0.16000000000000003,0.17000000000000004,0.18000000000000005,0.19,0.2,0.21000000000000002,0.22000000000000003,0.23000000000000004,0.24000000000000005,0.25000000000000006,0.26000000000000006,0.27,0.28,0.29000000000000004,0.30000000000000004,0.31000000000000005,0.32000000000000006,0.33,0.34,0.35000000000000003,0.36000000000000004,0.37000000000000005,0.38000000000000006,0.39000000000000007,0.4000000000000001,0.4100000000000001,0.42000000000000004,0.43000000000000005,0.44000000000000006,0.45000000000000007,0.4600000000000001,0.4700000000000001,0.4800000000000001,0.49000000000000005],\"y\":[0.7849599999999994,0.8190933333333329,0.8434742857142853,0.8617599999999996,0.8759822222222219,0.8873599999999997,0.8966690909090906,0.9044266666666664,0.910990769230769,0.9166171428571427,0.9214933333333332,0.9257599999999998,0.9295247058823528,0.932871111111111,0.9358652631578945,0.9385599999999998,0.9409980952380951,0.9432145454545453,0.9452382608695651,0.9470933333333332,0.9487999999999999,0.9503753846153845,0.9518340740740739,0.9531885714285713,0.9544496551724136,0.9556266666666665,0.9567277419354838,0.95776,0.9587296969696969,0.9596423529411764,0.960502857142857,0.9613155555555555,0.9620843243243242,0.9628126315789473,0.9635035897435896,0.9641599999999999,0.9647843902439024,0.9653790476190476,0.9659460465116279,0.9664872727272726,0.9670044444444443,0.9674991304347825,0.9679727659574467,0.9684266666666665,0.9688620408163264]}],                        {\"annotations\":[{\"showarrow\":false,\"text\":\"10 % Allocation Threshold\",\"x\":1,\"xanchor\":\"right\",\"xref\":\"x domain\",\"y\":0.1,\"yanchor\":\"bottom\",\"yref\":\"y\"}],\"font\":{\"color\":\"RebeccaPurple\",\"size\":12},\"legend\":{\"title\":{\"text\":\"Number of Positions\"}},\"shapes\":[{\"line\":{\"color\":\"red\",\"dash\":\"dash\"},\"type\":\"line\",\"x0\":0,\"x1\":1,\"xref\":\"x domain\",\"y0\":0.1,\"y1\":0.1,\"yref\":\"y\"}],\"template\":{\"data\":{\"bar\":[{\"error_x\":{\"color\":\"#2a3f5f\"},\"error_y\":{\"color\":\"#2a3f5f\"},\"marker\":{\"line\":{\"color\":\"#E5ECF6\",\"width\":0.5},\"pattern\":{\"fillmode\":\"overlay\",\"size\":10,\"solidity\":0.2}},\"type\":\"bar\"}],\"barpolar\":[{\"marker\":{\"line\":{\"color\":\"#E5ECF6\",\"width\":0.5},\"pattern\":{\"fillmode\":\"overlay\",\"size\":10,\"solidity\":0.2}},\"type\":\"barpolar\"}],\"carpet\":[{\"aaxis\":{\"endlinecolor\":\"#2a3f5f\",\"gridcolor\":\"white\",\"linecolor\":\"white\",\"minorgridcolor\":\"white\",\"startlinecolor\":\"#2a3f5f\"},\"baxis\":{\"endlinecolor\":\"#2a3f5f\",\"gridcolor\":\"white\",\"linecolor\":\"white\",\"minorgridcolor\":\"white\",\"startlinecolor\":\"#2a3f5f\"},\"type\":\"carpet\"}],\"choropleth\":[{\"colorbar\":{\"outlinewidth\":0,\"ticks\":\"\"},\"type\":\"choropleth\"}],\"contour\":[{\"colorbar\":{\"outlinewidth\":0,\"ticks\":\"\"},\"colorscale\":[[0.0,\"#0d0887\"],[0.1111111111111111,\"#46039f\"],[0.2222222222222222,\"#7201a8\"],[0.3333333333333333,\"#9c179e\"],[0.4444444444444444,\"#bd3786\"],[0.5555555555555556,\"#d8576b\"],[0.6666666666666666,\"#ed7953\"],[0.7777777777777778,\"#fb9f3a\"],[0.8888888888888888,\"#fdca26\"],[1.0,\"#f0f921\"]],\"type\":\"contour\"}],\"contourcarpet\":[{\"colorbar\":{\"outlinewidth\":0,\"ticks\":\"\"},\"type\":\"contourcarpet\"}],\"heatmap\":[{\"colorbar\":{\"outlinewidth\":0,\"ticks\":\"\"},\"colorscale\":[[0.0,\"#0d0887\"],[0.1111111111111111,\"#46039f\"],[0.2222222222222222,\"#7201a8\"],[0.3333333333333333,\"#9c179e\"],[0.4444444444444444,\"#bd3786\"],[0.5555555555555556,\"#d8576b\"],[0.6666666666666666,\"#ed7953\"],[0.7777777777777778,\"#fb9f3a\"],[0.8888888888888888,\"#fdca26\"],[1.0,\"#f0f921\"]],\"type\":\"heatmap\"}],\"heatmapgl\":[{\"colorbar\":{\"outlinewidth\":0,\"ticks\":\"\"},\"colorscale\":[[0.0,\"#0d0887\"],[0.1111111111111111,\"#46039f\"],[0.2222222222222222,\"#7201a8\"],[0.3333333333333333,\"#9c179e\"],[0.4444444444444444,\"#bd3786\"],[0.5555555555555556,\"#d8576b\"],[0.6666666666666666,\"#ed7953\"],[0.7777777777777778,\"#fb9f3a\"],[0.8888888888888888,\"#fdca26\"],[1.0,\"#f0f921\"]],\"type\":\"heatmapgl\"}],\"histogram\":[{\"marker\":{\"pattern\":{\"fillmode\":\"overlay\",\"size\":10,\"solidity\":0.2}},\"type\":\"histogram\"}],\"histogram2d\":[{\"colorbar\":{\"outlinewidth\":0,\"ticks\":\"\"},\"colorscale\":[[0.0,\"#0d0887\"],[0.1111111111111111,\"#46039f\"],[0.2222222222222222,\"#7201a8\"],[0.3333333333333333,\"#9c179e\"],[0.4444444444444444,\"#bd3786\"],[0.5555555555555556,\"#d8576b\"],[0.6666666666666666,\"#ed7953\"],[0.7777777777777778,\"#fb9f3a\"],[0.8888888888888888,\"#fdca26\"],[1.0,\"#f0f921\"]],\"type\":\"histogram2d\"}],\"histogram2dcontour\":[{\"colorbar\":{\"outlinewidth\":0,\"ticks\":\"\"},\"colorscale\":[[0.0,\"#0d0887\"],[0.1111111111111111,\"#46039f\"],[0.2222222222222222,\"#7201a8\"],[0.3333333333333333,\"#9c179e\"],[0.4444444444444444,\"#bd3786\"],[0.5555555555555556,\"#d8576b\"],[0.6666666666666666,\"#ed7953\"],[0.7777777777777778,\"#fb9f3a\"],[0.8888888888888888,\"#fdca26\"],[1.0,\"#f0f921\"]],\"type\":\"histogram2dcontour\"}],\"mesh3d\":[{\"colorbar\":{\"outlinewidth\":0,\"ticks\":\"\"},\"type\":\"mesh3d\"}],\"parcoords\":[{\"line\":{\"colorbar\":{\"outlinewidth\":0,\"ticks\":\"\"}},\"type\":\"parcoords\"}],\"pie\":[{\"automargin\":true,\"type\":\"pie\"}],\"scatter\":[{\"marker\":{\"colorbar\":{\"outlinewidth\":0,\"ticks\":\"\"}},\"type\":\"scatter\"}],\"scatter3d\":[{\"line\":{\"colorbar\":{\"outlinewidth\":0,\"ticks\":\"\"}},\"marker\":{\"colorbar\":{\"outlinewidth\":0,\"ticks\":\"\"}},\"type\":\"scatter3d\"}],\"scattercarpet\":[{\"marker\":{\"colorbar\":{\"outlinewidth\":0,\"ticks\":\"\"}},\"type\":\"scattercarpet\"}],\"scattergeo\":[{\"marker\":{\"colorbar\":{\"outlinewidth\":0,\"ticks\":\"\"}},\"type\":\"scattergeo\"}],\"scattergl\":[{\"marker\":{\"colorbar\":{\"outlinewidth\":0,\"ticks\":\"\"}},\"type\":\"scattergl\"}],\"scattermapbox\":[{\"marker\":{\"colorbar\":{\"outlinewidth\":0,\"ticks\":\"\"}},\"type\":\"scattermapbox\"}],\"scatterpolar\":[{\"marker\":{\"colorbar\":{\"outlinewidth\":0,\"ticks\":\"\"}},\"type\":\"scatterpolar\"}],\"scatterpolargl\":[{\"marker\":{\"colorbar\":{\"outlinewidth\":0,\"ticks\":\"\"}},\"type\":\"scatterpolargl\"}],\"scatterternary\":[{\"marker\":{\"colorbar\":{\"outlinewidth\":0,\"ticks\":\"\"}},\"type\":\"scatterternary\"}],\"surface\":[{\"colorbar\":{\"outlinewidth\":0,\"ticks\":\"\"},\"colorscale\":[[0.0,\"#0d0887\"],[0.1111111111111111,\"#46039f\"],[0.2222222222222222,\"#7201a8\"],[0.3333333333333333,\"#9c179e\"],[0.4444444444444444,\"#bd3786\"],[0.5555555555555556,\"#d8576b\"],[0.6666666666666666,\"#ed7953\"],[0.7777777777777778,\"#fb9f3a\"],[0.8888888888888888,\"#fdca26\"],[1.0,\"#f0f921\"]],\"type\":\"surface\"}],\"table\":[{\"cells\":{\"fill\":{\"color\":\"#EBF0F8\"},\"line\":{\"color\":\"white\"}},\"header\":{\"fill\":{\"color\":\"#C8D4E3\"},\"line\":{\"color\":\"white\"}},\"type\":\"table\"}]},\"layout\":{\"annotationdefaults\":{\"arrowcolor\":\"#2a3f5f\",\"arrowhead\":0,\"arrowwidth\":1},\"autotypenumbers\":\"strict\",\"coloraxis\":{\"colorbar\":{\"outlinewidth\":0,\"ticks\":\"\"}},\"colorscale\":{\"diverging\":[[0,\"#8e0152\"],[0.1,\"#c51b7d\"],[0.2,\"#de77ae\"],[0.3,\"#f1b6da\"],[0.4,\"#fde0ef\"],[0.5,\"#f7f7f7\"],[0.6,\"#e6f5d0\"],[0.7,\"#b8e186\"],[0.8,\"#7fbc41\"],[0.9,\"#4d9221\"],[1,\"#276419\"]],\"sequential\":[[0.0,\"#0d0887\"],[0.1111111111111111,\"#46039f\"],[0.2222222222222222,\"#7201a8\"],[0.3333333333333333,\"#9c179e\"],[0.4444444444444444,\"#bd3786\"],[0.5555555555555556,\"#d8576b\"],[0.6666666666666666,\"#ed7953\"],[0.7777777777777778,\"#fb9f3a\"],[0.8888888888888888,\"#fdca26\"],[1.0,\"#f0f921\"]],\"sequentialminus\":[[0.0,\"#0d0887\"],[0.1111111111111111,\"#46039f\"],[0.2222222222222222,\"#7201a8\"],[0.3333333333333333,\"#9c179e\"],[0.4444444444444444,\"#bd3786\"],[0.5555555555555556,\"#d8576b\"],[0.6666666666666666,\"#ed7953\"],[0.7777777777777778,\"#fb9f3a\"],[0.8888888888888888,\"#fdca26\"],[1.0,\"#f0f921\"]]},\"colorway\":[\"#636efa\",\"#EF553B\",\"#00cc96\",\"#ab63fa\",\"#FFA15A\",\"#19d3f3\",\"#FF6692\",\"#B6E880\",\"#FF97FF\",\"#FECB52\"],\"font\":{\"color\":\"#2a3f5f\"},\"geo\":{\"bgcolor\":\"white\",\"lakecolor\":\"white\",\"landcolor\":\"#E5ECF6\",\"showlakes\":true,\"showland\":true,\"subunitcolor\":\"white\"},\"hoverlabel\":{\"align\":\"left\"},\"hovermode\":\"closest\",\"mapbox\":{\"style\":\"light\"},\"paper_bgcolor\":\"white\",\"plot_bgcolor\":\"#E5ECF6\",\"polar\":{\"angularaxis\":{\"gridcolor\":\"white\",\"linecolor\":\"white\",\"ticks\":\"\"},\"bgcolor\":\"#E5ECF6\",\"radialaxis\":{\"gridcolor\":\"white\",\"linecolor\":\"white\",\"ticks\":\"\"}},\"scene\":{\"xaxis\":{\"backgroundcolor\":\"#E5ECF6\",\"gridcolor\":\"white\",\"gridwidth\":2,\"linecolor\":\"white\",\"showbackground\":true,\"ticks\":\"\",\"zerolinecolor\":\"white\"},\"yaxis\":{\"backgroundcolor\":\"#E5ECF6\",\"gridcolor\":\"white\",\"gridwidth\":2,\"linecolor\":\"white\",\"showbackground\":true,\"ticks\":\"\",\"zerolinecolor\":\"white\"},\"zaxis\":{\"backgroundcolor\":\"#E5ECF6\",\"gridcolor\":\"white\",\"gridwidth\":2,\"linecolor\":\"white\",\"showbackground\":true,\"ticks\":\"\",\"zerolinecolor\":\"white\"}},\"shapedefaults\":{\"line\":{\"color\":\"#2a3f5f\"}},\"ternary\":{\"aaxis\":{\"gridcolor\":\"white\",\"linecolor\":\"white\",\"ticks\":\"\"},\"baxis\":{\"gridcolor\":\"white\",\"linecolor\":\"white\",\"ticks\":\"\"},\"bgcolor\":\"#E5ECF6\",\"caxis\":{\"gridcolor\":\"white\",\"linecolor\":\"white\",\"ticks\":\"\"}},\"title\":{\"x\":0.05},\"xaxis\":{\"automargin\":true,\"gridcolor\":\"white\",\"linecolor\":\"white\",\"ticks\":\"\",\"title\":{\"standoff\":15},\"zerolinecolor\":\"white\",\"zerolinewidth\":2},\"yaxis\":{\"automargin\":true,\"gridcolor\":\"white\",\"linecolor\":\"white\",\"ticks\":\"\",\"title\":{\"standoff\":15},\"zerolinecolor\":\"white\",\"zerolinewidth\":2}}},\"title\":{\"text\":\"Strategy Capital Allocation vs Target Returns\"},\"xaxis\":{\"title\":{\"text\":\"Expected returns\"}},\"yaxis\":{\"title\":{\"text\":\"Fraction of Total Capital Invested\"}}},                        {\"responsive\": true}                    ).then(function(){\n",
       "                            \n",
       "var gd = document.getElementById('c5e6c582-dc6c-4d69-be7f-d271d44ed301');\n",
       "var x = new MutationObserver(function (mutations, observer) {{\n",
       "        var display = window.getComputedStyle(gd).display;\n",
       "        if (!display || display === 'none') {{\n",
       "            console.log([gd, 'removed!']);\n",
       "            Plotly.purge(gd);\n",
       "            observer.disconnect();\n",
       "        }}\n",
       "}});\n",
       "\n",
       "// Listen for the removal of the full notebook cells\n",
       "var notebookContainer = gd.closest('#notebook-container');\n",
       "if (notebookContainer) {{\n",
       "    x.observe(notebookContainer, {childList: true});\n",
       "}}\n",
       "\n",
       "// Listen for the clearing of the current output cell\n",
       "var outputEl = gd.closest('.output');\n",
       "if (outputEl) {{\n",
       "    x.observe(outputEl, {childList: true});\n",
       "}}\n",
       "\n",
       "                        })                };                });            </script>        </div>"
      ]
     },
     "metadata": {},
     "output_type": "display_data"
    }
   ],
   "source": [
    "expected_gain_range = np.arange(0.05, 0.5, 0.01)\n",
    "\n",
    "position_range = np.arange(2, 6)\n",
    "\n",
    "p_not_breakeven = 0.4\n",
    "# num_positions = 2\n",
    "fig = go.Figure()\n",
    "for num_positions in position_range:\n",
    "    \n",
    "    p = 1 - p_not_breakeven**num_positions\n",
    "    gain_fraction_df =  pd.DataFrame({\"Capital Fraction\":np.apply_along_axis(lambda expected_gain: p -  (1-p) / expected_gain, 0, expected_gain_range),\n",
    "                                  \"Expected Gain\":expected_gain_range})\n",
    "    gain_fraction_df.loc[gain_fraction_df['Capital Fraction']<0, 'Capital Fraction'] = 0\n",
    "    # gain_fraction_df.loc[gain_fraction_df['Capital Fraction'].gt(0.05).idxmax(), \"Expected Gain\"]\n",
    "\n",
    "    fig.add_trace(go.Scatter(x=gain_fraction_df[\"Expected Gain\"], y=gain_fraction_df[\"Capital Fraction\"],\n",
    "                    mode='lines',\n",
    "                    name='%d Positions'%num_positions))\n",
    "    \n",
    "fig.add_hline(0.1, line_dash=\"dash\", line_color=\"red\", annotation_text='10 % Allocation Threshold')\n",
    "fig.update_layout(\n",
    "    title=\"Strategy Capital Allocation vs Target Returns\",\n",
    "    xaxis_title=\"Expected returns\",\n",
    "    yaxis_title=\"Fraction of Total Capital Invested\",\n",
    "    legend_title=\"Number of Positions\",\n",
    "    font=dict(\n",
    "#         family=\"Courier New, monospace\",\n",
    "        size=12,\n",
    "        color=\"RebeccaPurple\"\n",
    "    )\n",
    ")\n",
    "\n",
    "fig.show()"
   ]
  },
  {
   "cell_type": "markdown",
   "id": "broad-insured",
   "metadata": {},
   "source": [
    "Considering partial losses : Loss of 1 position"
   ]
  },
  {
   "cell_type": "code",
   "execution_count": 146,
   "id": "preceding-navigation",
   "metadata": {},
   "outputs": [
    {
     "data": {
      "application/vnd.plotly.v1+json": {
       "config": {
        "plotlyServerURL": "https://plot.ly"
       },
       "data": [
        {
         "mode": "lines",
         "name": "1 Positions",
         "type": "scatter",
         "x": [
          0.05,
          0.060000000000000005,
          0.07,
          0.08000000000000002,
          0.09000000000000001,
          0.1,
          0.11000000000000001,
          0.12000000000000001,
          0.13,
          0.14,
          0.15000000000000002,
          0.16000000000000003,
          0.17000000000000004,
          0.18000000000000005,
          0.19,
          0.2,
          0.21000000000000002,
          0.22000000000000003,
          0.23000000000000004,
          0.24000000000000005,
          0.25000000000000006,
          0.26000000000000006,
          0.27,
          0.28,
          0.29000000000000004,
          0.30000000000000004,
          0.31000000000000005,
          0.32000000000000006,
          0.33,
          0.34,
          0.35000000000000003,
          0.36000000000000004,
          0.37000000000000005,
          0.38000000000000006,
          0.39000000000000007,
          0.4000000000000001,
          0.4100000000000001,
          0.42000000000000004,
          0.43000000000000005,
          0.44000000000000006,
          0.45000000000000007,
          0.4600000000000001,
          0.4700000000000001,
          0.4800000000000001,
          0.49000000000000005
         ],
         "y": [
          0,
          0,
          0,
          0,
          0,
          0,
          0,
          0,
          0,
          0,
          0,
          0,
          0,
          0,
          0,
          0,
          0,
          0,
          0,
          0,
          0,
          0,
          0,
          0,
          0,
          0,
          0,
          0,
          0,
          0,
          0,
          0,
          0,
          0,
          0,
          0,
          0,
          0,
          0,
          0,
          0,
          0,
          0,
          0,
          0
         ]
        },
        {
         "mode": "lines",
         "name": "2 Positions",
         "type": "scatter",
         "x": [
          0.05,
          0.060000000000000005,
          0.07,
          0.08000000000000002,
          0.09000000000000001,
          0.1,
          0.11000000000000001,
          0.12000000000000001,
          0.13,
          0.14,
          0.15000000000000002,
          0.16000000000000003,
          0.17000000000000004,
          0.18000000000000005,
          0.19,
          0.2,
          0.21000000000000002,
          0.22000000000000003,
          0.23000000000000004,
          0.24000000000000005,
          0.25000000000000006,
          0.26000000000000006,
          0.27,
          0.28,
          0.29000000000000004,
          0.30000000000000004,
          0.31000000000000005,
          0.32000000000000006,
          0.33,
          0.34,
          0.35000000000000003,
          0.36000000000000004,
          0.37000000000000005,
          0.38000000000000006,
          0.39000000000000007,
          0.4000000000000001,
          0.4100000000000001,
          0.42000000000000004,
          0.43000000000000005,
          0.44000000000000006,
          0.45000000000000007,
          0.4600000000000001,
          0.4700000000000001,
          0.4800000000000001,
          0.49000000000000005
         ],
         "y": [
          0,
          0,
          0,
          0,
          0,
          0.07999999999999963,
          0.22545454545454535,
          0.34666666666666646,
          0.4492307692307689,
          0.5371428571428569,
          0.6133333333333333,
          0.6799999999999999,
          0.7388235294117647,
          0.7911111111111111,
          0.837894736842105,
          0.8799999999999998,
          0.918095238095238,
          0.9527272727272726,
          0.9843478260869565,
          1.0133333333333332,
          1.04,
          1.0646153846153847,
          1.0874074074074072,
          1.1085714285714285,
          1.1282758620689655,
          1.1466666666666665,
          1.1638709677419354,
          1.18,
          1.195151515151515,
          1.2094117647058822,
          1.2228571428571429,
          1.2355555555555555,
          1.2475675675675675,
          1.2589473684210526,
          1.2697435897435896,
          1.2799999999999998,
          1.2897560975609754,
          1.299047619047619,
          1.307906976744186,
          1.3163636363636364,
          1.3244444444444443,
          1.3321739130434782,
          1.3395744680851063,
          1.3466666666666667,
          1.3534693877551018
         ]
        },
        {
         "mode": "lines",
         "name": "3 Positions",
         "type": "scatter",
         "x": [
          0.05,
          0.060000000000000005,
          0.07,
          0.08000000000000002,
          0.09000000000000001,
          0.1,
          0.11000000000000001,
          0.12000000000000001,
          0.13,
          0.14,
          0.15000000000000002,
          0.16000000000000003,
          0.17000000000000004,
          0.18000000000000005,
          0.19,
          0.2,
          0.21000000000000002,
          0.22000000000000003,
          0.23000000000000004,
          0.24000000000000005,
          0.25000000000000006,
          0.26000000000000006,
          0.27,
          0.28,
          0.29000000000000004,
          0.30000000000000004,
          0.31000000000000005,
          0.32000000000000006,
          0.33,
          0.34,
          0.35000000000000003,
          0.36000000000000004,
          0.37000000000000005,
          0.38000000000000006,
          0.39000000000000007,
          0.4000000000000001,
          0.4100000000000001,
          0.42000000000000004,
          0.43000000000000005,
          0.44000000000000006,
          0.45000000000000007,
          0.4600000000000001,
          0.4700000000000001,
          0.4800000000000001,
          0.49000000000000005
         ],
         "y": [
          1.5279999999999987,
          1.7413333333333323,
          1.8937142857142848,
          2.007999999999999,
          2.096888888888888,
          2.1679999999999993,
          2.226181818181818,
          2.274666666666666,
          2.315692307692307,
          2.3508571428571425,
          2.381333333333333,
          2.4079999999999995,
          2.4315294117647053,
          2.452444444444444,
          2.4711578947368418,
          2.4879999999999995,
          2.503238095238095,
          2.517090909090909,
          2.5297391304347823,
          2.541333333333333,
          2.5519999999999996,
          2.5618461538461537,
          2.5709629629629625,
          2.579428571428571,
          2.587310344827586,
          2.5946666666666665,
          2.601548387096774,
          2.6079999999999997,
          2.6140606060606055,
          2.6197647058823526,
          2.625142857142857,
          2.630222222222222,
          2.635027027027027,
          2.639578947368421,
          2.6438974358974354,
          2.6479999999999997,
          2.65190243902439,
          2.655619047619047,
          2.6591627906976743,
          2.6625454545454543,
          2.6657777777777776,
          2.668869565217391,
          2.671829787234042,
          2.6746666666666665,
          2.6773877551020404
         ]
        },
        {
         "mode": "lines",
         "name": "4 Positions",
         "type": "scatter",
         "x": [
          0.05,
          0.060000000000000005,
          0.07,
          0.08000000000000002,
          0.09000000000000001,
          0.1,
          0.11000000000000001,
          0.12000000000000001,
          0.13,
          0.14,
          0.15000000000000002,
          0.16000000000000003,
          0.17000000000000004,
          0.18000000000000005,
          0.19,
          0.2,
          0.21000000000000002,
          0.22000000000000003,
          0.23000000000000004,
          0.24000000000000005,
          0.25000000000000006,
          0.26000000000000006,
          0.27,
          0.28,
          0.29000000000000004,
          0.30000000000000004,
          0.31000000000000005,
          0.32000000000000006,
          0.33,
          0.34,
          0.35000000000000003,
          0.36000000000000004,
          0.37000000000000005,
          0.38000000000000006,
          0.39000000000000007,
          0.4000000000000001,
          0.4100000000000001,
          0.42000000000000004,
          0.43000000000000005,
          0.44000000000000006,
          0.45000000000000007,
          0.4600000000000001,
          0.4700000000000001,
          0.4800000000000001,
          0.49000000000000005
         ],
         "y": [
          3.385600000000001,
          3.4709333333333343,
          3.531885714285715,
          3.577600000000001,
          3.613155555555556,
          3.6416000000000004,
          3.6648727272727277,
          3.6842666666666672,
          3.7006769230769234,
          3.714742857142858,
          3.7269333333333337,
          3.7376000000000005,
          3.7470117647058827,
          3.7553777777777784,
          3.762863157894737,
          3.7696000000000005,
          3.7756952380952384,
          3.781236363636364,
          3.7862956521739135,
          3.7909333333333337,
          3.7952000000000004,
          3.799138461538462,
          3.8027851851851855,
          3.806171428571429,
          3.8093241379310347,
          3.812266666666667,
          3.81501935483871,
          3.8176000000000005,
          3.8200242424242425,
          3.8223058823529414,
          3.824457142857143,
          3.826488888888889,
          3.8284108108108112,
          3.8302315789473687,
          3.8319589743589746,
          3.8336,
          3.835160975609756,
          3.8366476190476195,
          3.83806511627907,
          3.839418181818182,
          3.840711111111111,
          3.841947826086957,
          3.8431319148936174,
          3.844266666666667,
          3.8453551020408168
         ]
        },
        {
         "mode": "lines",
         "name": "5 Positions",
         "type": "scatter",
         "x": [
          0.05,
          0.060000000000000005,
          0.07,
          0.08000000000000002,
          0.09000000000000001,
          0.1,
          0.11000000000000001,
          0.12000000000000001,
          0.13,
          0.14,
          0.15000000000000002,
          0.16000000000000003,
          0.17000000000000004,
          0.18000000000000005,
          0.19,
          0.2,
          0.21000000000000002,
          0.22000000000000003,
          0.23000000000000004,
          0.24000000000000005,
          0.25000000000000006,
          0.26000000000000006,
          0.27,
          0.28,
          0.29000000000000004,
          0.30000000000000004,
          0.31000000000000005,
          0.32000000000000006,
          0.33,
          0.34,
          0.35000000000000003,
          0.36000000000000004,
          0.37000000000000005,
          0.38000000000000006,
          0.39000000000000007,
          0.4000000000000001,
          0.4100000000000001,
          0.42000000000000004,
          0.43000000000000005,
          0.44000000000000006,
          0.45000000000000007,
          0.4600000000000001,
          0.4700000000000001,
          0.4800000000000001,
          0.49000000000000005
         ],
         "y": [
          4.743999999999999,
          4.778133333333332,
          4.802514285714285,
          4.820799999999999,
          4.8350222222222214,
          4.846399999999999,
          4.85570909090909,
          4.863466666666666,
          4.870030769230769,
          4.8756571428571425,
          4.880533333333332,
          4.884799999999999,
          4.888564705882352,
          4.89191111111111,
          4.894905263157894,
          4.897599999999999,
          4.900038095238094,
          4.902254545454545,
          4.904278260869565,
          4.906133333333333,
          4.907839999999999,
          4.909415384615384,
          4.910874074074074,
          4.912228571428571,
          4.913489655172413,
          4.914666666666666,
          4.9157677419354835,
          4.916799999999999,
          4.917769696969696,
          4.918682352941175,
          4.919542857142856,
          4.920355555555555,
          4.921124324324324,
          4.921852631578947,
          4.922543589743589,
          4.9232,
          4.923824390243902,
          4.924419047619047,
          4.924986046511627,
          4.9255272727272725,
          4.926044444444444,
          4.926539130434782,
          4.927012765957446,
          4.927466666666666,
          4.927902040816326
         ]
        }
       ],
       "layout": {
        "annotations": [
         {
          "showarrow": false,
          "text": "Leverage Threshold",
          "x": 1,
          "xanchor": "right",
          "xref": "x domain",
          "y": 1.01,
          "yanchor": "bottom",
          "yref": "y"
         }
        ],
        "autosize": true,
        "font": {
         "color": "RebeccaPurple",
         "size": 12
        },
        "legend": {
         "title": {
          "text": "Number of Positions"
         }
        },
        "shapes": [
         {
          "line": {
           "color": "red",
           "dash": "dash"
          },
          "type": "line",
          "x0": 0,
          "x1": 1,
          "xref": "x domain",
          "y0": 1.01,
          "y1": 1.01,
          "yref": "y"
         }
        ],
        "template": {
         "data": {
          "bar": [
           {
            "error_x": {
             "color": "#2a3f5f"
            },
            "error_y": {
             "color": "#2a3f5f"
            },
            "marker": {
             "line": {
              "color": "#E5ECF6",
              "width": 0.5
             },
             "pattern": {
              "fillmode": "overlay",
              "size": 10,
              "solidity": 0.2
             }
            },
            "type": "bar"
           }
          ],
          "barpolar": [
           {
            "marker": {
             "line": {
              "color": "#E5ECF6",
              "width": 0.5
             },
             "pattern": {
              "fillmode": "overlay",
              "size": 10,
              "solidity": 0.2
             }
            },
            "type": "barpolar"
           }
          ],
          "carpet": [
           {
            "aaxis": {
             "endlinecolor": "#2a3f5f",
             "gridcolor": "white",
             "linecolor": "white",
             "minorgridcolor": "white",
             "startlinecolor": "#2a3f5f"
            },
            "baxis": {
             "endlinecolor": "#2a3f5f",
             "gridcolor": "white",
             "linecolor": "white",
             "minorgridcolor": "white",
             "startlinecolor": "#2a3f5f"
            },
            "type": "carpet"
           }
          ],
          "choropleth": [
           {
            "colorbar": {
             "outlinewidth": 0,
             "ticks": ""
            },
            "type": "choropleth"
           }
          ],
          "contour": [
           {
            "colorbar": {
             "outlinewidth": 0,
             "ticks": ""
            },
            "colorscale": [
             [
              0,
              "#0d0887"
             ],
             [
              0.1111111111111111,
              "#46039f"
             ],
             [
              0.2222222222222222,
              "#7201a8"
             ],
             [
              0.3333333333333333,
              "#9c179e"
             ],
             [
              0.4444444444444444,
              "#bd3786"
             ],
             [
              0.5555555555555556,
              "#d8576b"
             ],
             [
              0.6666666666666666,
              "#ed7953"
             ],
             [
              0.7777777777777778,
              "#fb9f3a"
             ],
             [
              0.8888888888888888,
              "#fdca26"
             ],
             [
              1,
              "#f0f921"
             ]
            ],
            "type": "contour"
           }
          ],
          "contourcarpet": [
           {
            "colorbar": {
             "outlinewidth": 0,
             "ticks": ""
            },
            "type": "contourcarpet"
           }
          ],
          "heatmap": [
           {
            "colorbar": {
             "outlinewidth": 0,
             "ticks": ""
            },
            "colorscale": [
             [
              0,
              "#0d0887"
             ],
             [
              0.1111111111111111,
              "#46039f"
             ],
             [
              0.2222222222222222,
              "#7201a8"
             ],
             [
              0.3333333333333333,
              "#9c179e"
             ],
             [
              0.4444444444444444,
              "#bd3786"
             ],
             [
              0.5555555555555556,
              "#d8576b"
             ],
             [
              0.6666666666666666,
              "#ed7953"
             ],
             [
              0.7777777777777778,
              "#fb9f3a"
             ],
             [
              0.8888888888888888,
              "#fdca26"
             ],
             [
              1,
              "#f0f921"
             ]
            ],
            "type": "heatmap"
           }
          ],
          "heatmapgl": [
           {
            "colorbar": {
             "outlinewidth": 0,
             "ticks": ""
            },
            "colorscale": [
             [
              0,
              "#0d0887"
             ],
             [
              0.1111111111111111,
              "#46039f"
             ],
             [
              0.2222222222222222,
              "#7201a8"
             ],
             [
              0.3333333333333333,
              "#9c179e"
             ],
             [
              0.4444444444444444,
              "#bd3786"
             ],
             [
              0.5555555555555556,
              "#d8576b"
             ],
             [
              0.6666666666666666,
              "#ed7953"
             ],
             [
              0.7777777777777778,
              "#fb9f3a"
             ],
             [
              0.8888888888888888,
              "#fdca26"
             ],
             [
              1,
              "#f0f921"
             ]
            ],
            "type": "heatmapgl"
           }
          ],
          "histogram": [
           {
            "marker": {
             "pattern": {
              "fillmode": "overlay",
              "size": 10,
              "solidity": 0.2
             }
            },
            "type": "histogram"
           }
          ],
          "histogram2d": [
           {
            "colorbar": {
             "outlinewidth": 0,
             "ticks": ""
            },
            "colorscale": [
             [
              0,
              "#0d0887"
             ],
             [
              0.1111111111111111,
              "#46039f"
             ],
             [
              0.2222222222222222,
              "#7201a8"
             ],
             [
              0.3333333333333333,
              "#9c179e"
             ],
             [
              0.4444444444444444,
              "#bd3786"
             ],
             [
              0.5555555555555556,
              "#d8576b"
             ],
             [
              0.6666666666666666,
              "#ed7953"
             ],
             [
              0.7777777777777778,
              "#fb9f3a"
             ],
             [
              0.8888888888888888,
              "#fdca26"
             ],
             [
              1,
              "#f0f921"
             ]
            ],
            "type": "histogram2d"
           }
          ],
          "histogram2dcontour": [
           {
            "colorbar": {
             "outlinewidth": 0,
             "ticks": ""
            },
            "colorscale": [
             [
              0,
              "#0d0887"
             ],
             [
              0.1111111111111111,
              "#46039f"
             ],
             [
              0.2222222222222222,
              "#7201a8"
             ],
             [
              0.3333333333333333,
              "#9c179e"
             ],
             [
              0.4444444444444444,
              "#bd3786"
             ],
             [
              0.5555555555555556,
              "#d8576b"
             ],
             [
              0.6666666666666666,
              "#ed7953"
             ],
             [
              0.7777777777777778,
              "#fb9f3a"
             ],
             [
              0.8888888888888888,
              "#fdca26"
             ],
             [
              1,
              "#f0f921"
             ]
            ],
            "type": "histogram2dcontour"
           }
          ],
          "mesh3d": [
           {
            "colorbar": {
             "outlinewidth": 0,
             "ticks": ""
            },
            "type": "mesh3d"
           }
          ],
          "parcoords": [
           {
            "line": {
             "colorbar": {
              "outlinewidth": 0,
              "ticks": ""
             }
            },
            "type": "parcoords"
           }
          ],
          "pie": [
           {
            "automargin": true,
            "type": "pie"
           }
          ],
          "scatter": [
           {
            "marker": {
             "colorbar": {
              "outlinewidth": 0,
              "ticks": ""
             }
            },
            "type": "scatter"
           }
          ],
          "scatter3d": [
           {
            "line": {
             "colorbar": {
              "outlinewidth": 0,
              "ticks": ""
             }
            },
            "marker": {
             "colorbar": {
              "outlinewidth": 0,
              "ticks": ""
             }
            },
            "type": "scatter3d"
           }
          ],
          "scattercarpet": [
           {
            "marker": {
             "colorbar": {
              "outlinewidth": 0,
              "ticks": ""
             }
            },
            "type": "scattercarpet"
           }
          ],
          "scattergeo": [
           {
            "marker": {
             "colorbar": {
              "outlinewidth": 0,
              "ticks": ""
             }
            },
            "type": "scattergeo"
           }
          ],
          "scattergl": [
           {
            "marker": {
             "colorbar": {
              "outlinewidth": 0,
              "ticks": ""
             }
            },
            "type": "scattergl"
           }
          ],
          "scattermapbox": [
           {
            "marker": {
             "colorbar": {
              "outlinewidth": 0,
              "ticks": ""
             }
            },
            "type": "scattermapbox"
           }
          ],
          "scatterpolar": [
           {
            "marker": {
             "colorbar": {
              "outlinewidth": 0,
              "ticks": ""
             }
            },
            "type": "scatterpolar"
           }
          ],
          "scatterpolargl": [
           {
            "marker": {
             "colorbar": {
              "outlinewidth": 0,
              "ticks": ""
             }
            },
            "type": "scatterpolargl"
           }
          ],
          "scatterternary": [
           {
            "marker": {
             "colorbar": {
              "outlinewidth": 0,
              "ticks": ""
             }
            },
            "type": "scatterternary"
           }
          ],
          "surface": [
           {
            "colorbar": {
             "outlinewidth": 0,
             "ticks": ""
            },
            "colorscale": [
             [
              0,
              "#0d0887"
             ],
             [
              0.1111111111111111,
              "#46039f"
             ],
             [
              0.2222222222222222,
              "#7201a8"
             ],
             [
              0.3333333333333333,
              "#9c179e"
             ],
             [
              0.4444444444444444,
              "#bd3786"
             ],
             [
              0.5555555555555556,
              "#d8576b"
             ],
             [
              0.6666666666666666,
              "#ed7953"
             ],
             [
              0.7777777777777778,
              "#fb9f3a"
             ],
             [
              0.8888888888888888,
              "#fdca26"
             ],
             [
              1,
              "#f0f921"
             ]
            ],
            "type": "surface"
           }
          ],
          "table": [
           {
            "cells": {
             "fill": {
              "color": "#EBF0F8"
             },
             "line": {
              "color": "white"
             }
            },
            "header": {
             "fill": {
              "color": "#C8D4E3"
             },
             "line": {
              "color": "white"
             }
            },
            "type": "table"
           }
          ]
         },
         "layout": {
          "annotationdefaults": {
           "arrowcolor": "#2a3f5f",
           "arrowhead": 0,
           "arrowwidth": 1
          },
          "autotypenumbers": "strict",
          "coloraxis": {
           "colorbar": {
            "outlinewidth": 0,
            "ticks": ""
           }
          },
          "colorscale": {
           "diverging": [
            [
             0,
             "#8e0152"
            ],
            [
             0.1,
             "#c51b7d"
            ],
            [
             0.2,
             "#de77ae"
            ],
            [
             0.3,
             "#f1b6da"
            ],
            [
             0.4,
             "#fde0ef"
            ],
            [
             0.5,
             "#f7f7f7"
            ],
            [
             0.6,
             "#e6f5d0"
            ],
            [
             0.7,
             "#b8e186"
            ],
            [
             0.8,
             "#7fbc41"
            ],
            [
             0.9,
             "#4d9221"
            ],
            [
             1,
             "#276419"
            ]
           ],
           "sequential": [
            [
             0,
             "#0d0887"
            ],
            [
             0.1111111111111111,
             "#46039f"
            ],
            [
             0.2222222222222222,
             "#7201a8"
            ],
            [
             0.3333333333333333,
             "#9c179e"
            ],
            [
             0.4444444444444444,
             "#bd3786"
            ],
            [
             0.5555555555555556,
             "#d8576b"
            ],
            [
             0.6666666666666666,
             "#ed7953"
            ],
            [
             0.7777777777777778,
             "#fb9f3a"
            ],
            [
             0.8888888888888888,
             "#fdca26"
            ],
            [
             1,
             "#f0f921"
            ]
           ],
           "sequentialminus": [
            [
             0,
             "#0d0887"
            ],
            [
             0.1111111111111111,
             "#46039f"
            ],
            [
             0.2222222222222222,
             "#7201a8"
            ],
            [
             0.3333333333333333,
             "#9c179e"
            ],
            [
             0.4444444444444444,
             "#bd3786"
            ],
            [
             0.5555555555555556,
             "#d8576b"
            ],
            [
             0.6666666666666666,
             "#ed7953"
            ],
            [
             0.7777777777777778,
             "#fb9f3a"
            ],
            [
             0.8888888888888888,
             "#fdca26"
            ],
            [
             1,
             "#f0f921"
            ]
           ]
          },
          "colorway": [
           "#636efa",
           "#EF553B",
           "#00cc96",
           "#ab63fa",
           "#FFA15A",
           "#19d3f3",
           "#FF6692",
           "#B6E880",
           "#FF97FF",
           "#FECB52"
          ],
          "font": {
           "color": "#2a3f5f"
          },
          "geo": {
           "bgcolor": "white",
           "lakecolor": "white",
           "landcolor": "#E5ECF6",
           "showlakes": true,
           "showland": true,
           "subunitcolor": "white"
          },
          "hoverlabel": {
           "align": "left"
          },
          "hovermode": "closest",
          "mapbox": {
           "style": "light"
          },
          "paper_bgcolor": "white",
          "plot_bgcolor": "#E5ECF6",
          "polar": {
           "angularaxis": {
            "gridcolor": "white",
            "linecolor": "white",
            "ticks": ""
           },
           "bgcolor": "#E5ECF6",
           "radialaxis": {
            "gridcolor": "white",
            "linecolor": "white",
            "ticks": ""
           }
          },
          "scene": {
           "xaxis": {
            "backgroundcolor": "#E5ECF6",
            "gridcolor": "white",
            "gridwidth": 2,
            "linecolor": "white",
            "showbackground": true,
            "ticks": "",
            "zerolinecolor": "white"
           },
           "yaxis": {
            "backgroundcolor": "#E5ECF6",
            "gridcolor": "white",
            "gridwidth": 2,
            "linecolor": "white",
            "showbackground": true,
            "ticks": "",
            "zerolinecolor": "white"
           },
           "zaxis": {
            "backgroundcolor": "#E5ECF6",
            "gridcolor": "white",
            "gridwidth": 2,
            "linecolor": "white",
            "showbackground": true,
            "ticks": "",
            "zerolinecolor": "white"
           }
          },
          "shapedefaults": {
           "line": {
            "color": "#2a3f5f"
           }
          },
          "ternary": {
           "aaxis": {
            "gridcolor": "white",
            "linecolor": "white",
            "ticks": ""
           },
           "baxis": {
            "gridcolor": "white",
            "linecolor": "white",
            "ticks": ""
           },
           "bgcolor": "#E5ECF6",
           "caxis": {
            "gridcolor": "white",
            "linecolor": "white",
            "ticks": ""
           }
          },
          "title": {
           "x": 0.05
          },
          "xaxis": {
           "automargin": true,
           "gridcolor": "white",
           "linecolor": "white",
           "ticks": "",
           "title": {
            "standoff": 15
           },
           "zerolinecolor": "white",
           "zerolinewidth": 2
          },
          "yaxis": {
           "automargin": true,
           "gridcolor": "white",
           "linecolor": "white",
           "ticks": "",
           "title": {
            "standoff": 15
           },
           "zerolinecolor": "white",
           "zerolinewidth": 2
          }
         }
        },
        "title": {
         "text": "Strategy Capital Allocation vs Target Returns"
        },
        "xaxis": {
         "autorange": true,
         "range": [
          0.05,
          0.49000000000000005
         ],
         "title": {
          "text": "Expected returns"
         },
         "type": "linear"
        },
        "yaxis": {
         "autorange": true,
         "range": [
          -0.27377233560090697,
          5.201674376417233
         ],
         "title": {
          "text": "Fraction of Total Capital Invested"
         },
         "type": "linear"
        }
       }
      },
      "image/png": "[encoded data removed]",
      "text/html": [
       "<div>                            <div id=\"990ba825-b307-4c9b-9dc5-b88ecd4328c1\" class=\"plotly-graph-div\" style=\"height:525px; width:100%;\"></div>            <script type=\"text/javascript\">                require([\"plotly\"], function(Plotly) {                    window.PLOTLYENV=window.PLOTLYENV || {};                                    if (document.getElementById(\"990ba825-b307-4c9b-9dc5-b88ecd4328c1\")) {                    Plotly.newPlot(                        \"990ba825-b307-4c9b-9dc5-b88ecd4328c1\",                        [{\"mode\":\"lines\",\"name\":\"1 Positions\",\"type\":\"scatter\",\"x\":[0.05,0.060000000000000005,0.07,0.08000000000000002,0.09000000000000001,0.1,0.11000000000000001,0.12000000000000001,0.13,0.14,0.15000000000000002,0.16000000000000003,0.17000000000000004,0.18000000000000005,0.19,0.2,0.21000000000000002,0.22000000000000003,0.23000000000000004,0.24000000000000005,0.25000000000000006,0.26000000000000006,0.27,0.28,0.29000000000000004,0.30000000000000004,0.31000000000000005,0.32000000000000006,0.33,0.34,0.35000000000000003,0.36000000000000004,0.37000000000000005,0.38000000000000006,0.39000000000000007,0.4000000000000001,0.4100000000000001,0.42000000000000004,0.43000000000000005,0.44000000000000006,0.45000000000000007,0.4600000000000001,0.4700000000000001,0.4800000000000001,0.49000000000000005],\"y\":[0.0,0.0,0.0,0.0,0.0,0.0,0.0,0.0,0.0,0.0,0.0,0.0,0.0,0.0,0.0,0.0,0.0,0.0,0.0,0.0,0.0,0.0,0.0,0.0,0.0,0.0,0.0,0.0,0.0,0.0,0.0,0.0,0.0,0.0,0.0,0.0,0.0,0.0,0.0,0.0,0.0,0.0,0.0,0.0,0.0]},{\"mode\":\"lines\",\"name\":\"2 Positions\",\"type\":\"scatter\",\"x\":[0.05,0.060000000000000005,0.07,0.08000000000000002,0.09000000000000001,0.1,0.11000000000000001,0.12000000000000001,0.13,0.14,0.15000000000000002,0.16000000000000003,0.17000000000000004,0.18000000000000005,0.19,0.2,0.21000000000000002,0.22000000000000003,0.23000000000000004,0.24000000000000005,0.25000000000000006,0.26000000000000006,0.27,0.28,0.29000000000000004,0.30000000000000004,0.31000000000000005,0.32000000000000006,0.33,0.34,0.35000000000000003,0.36000000000000004,0.37000000000000005,0.38000000000000006,0.39000000000000007,0.4000000000000001,0.4100000000000001,0.42000000000000004,0.43000000000000005,0.44000000000000006,0.45000000000000007,0.4600000000000001,0.4700000000000001,0.4800000000000001,0.49000000000000005],\"y\":[0.0,0.0,0.0,0.0,0.0,0.07999999999999963,0.22545454545454535,0.34666666666666646,0.4492307692307689,0.5371428571428569,0.6133333333333333,0.6799999999999999,0.7388235294117647,0.7911111111111111,0.837894736842105,0.8799999999999998,0.918095238095238,0.9527272727272726,0.9843478260869565,1.0133333333333332,1.04,1.0646153846153847,1.0874074074074072,1.1085714285714285,1.1282758620689655,1.1466666666666665,1.1638709677419354,1.18,1.195151515151515,1.2094117647058822,1.2228571428571429,1.2355555555555555,1.2475675675675675,1.2589473684210526,1.2697435897435896,1.2799999999999998,1.2897560975609754,1.299047619047619,1.307906976744186,1.3163636363636364,1.3244444444444443,1.3321739130434782,1.3395744680851063,1.3466666666666667,1.3534693877551018]},{\"mode\":\"lines\",\"name\":\"3 Positions\",\"type\":\"scatter\",\"x\":[0.05,0.060000000000000005,0.07,0.08000000000000002,0.09000000000000001,0.1,0.11000000000000001,0.12000000000000001,0.13,0.14,0.15000000000000002,0.16000000000000003,0.17000000000000004,0.18000000000000005,0.19,0.2,0.21000000000000002,0.22000000000000003,0.23000000000000004,0.24000000000000005,0.25000000000000006,0.26000000000000006,0.27,0.28,0.29000000000000004,0.30000000000000004,0.31000000000000005,0.32000000000000006,0.33,0.34,0.35000000000000003,0.36000000000000004,0.37000000000000005,0.38000000000000006,0.39000000000000007,0.4000000000000001,0.4100000000000001,0.42000000000000004,0.43000000000000005,0.44000000000000006,0.45000000000000007,0.4600000000000001,0.4700000000000001,0.4800000000000001,0.49000000000000005],\"y\":[1.5279999999999987,1.7413333333333323,1.8937142857142848,2.007999999999999,2.096888888888888,2.1679999999999993,2.226181818181818,2.274666666666666,2.315692307692307,2.3508571428571425,2.381333333333333,2.4079999999999995,2.4315294117647053,2.452444444444444,2.4711578947368418,2.4879999999999995,2.503238095238095,2.517090909090909,2.5297391304347823,2.541333333333333,2.5519999999999996,2.5618461538461537,2.5709629629629625,2.579428571428571,2.587310344827586,2.5946666666666665,2.601548387096774,2.6079999999999997,2.6140606060606055,2.6197647058823526,2.625142857142857,2.630222222222222,2.635027027027027,2.639578947368421,2.6438974358974354,2.6479999999999997,2.65190243902439,2.655619047619047,2.6591627906976743,2.6625454545454543,2.6657777777777776,2.668869565217391,2.671829787234042,2.6746666666666665,2.6773877551020404]},{\"mode\":\"lines\",\"name\":\"4 Positions\",\"type\":\"scatter\",\"x\":[0.05,0.060000000000000005,0.07,0.08000000000000002,0.09000000000000001,0.1,0.11000000000000001,0.12000000000000001,0.13,0.14,0.15000000000000002,0.16000000000000003,0.17000000000000004,0.18000000000000005,0.19,0.2,0.21000000000000002,0.22000000000000003,0.23000000000000004,0.24000000000000005,0.25000000000000006,0.26000000000000006,0.27,0.28,0.29000000000000004,0.30000000000000004,0.31000000000000005,0.32000000000000006,0.33,0.34,0.35000000000000003,0.36000000000000004,0.37000000000000005,0.38000000000000006,0.39000000000000007,0.4000000000000001,0.4100000000000001,0.42000000000000004,0.43000000000000005,0.44000000000000006,0.45000000000000007,0.4600000000000001,0.4700000000000001,0.4800000000000001,0.49000000000000005],\"y\":[3.385600000000001,3.4709333333333343,3.531885714285715,3.577600000000001,3.613155555555556,3.6416000000000004,3.6648727272727277,3.6842666666666672,3.7006769230769234,3.714742857142858,3.7269333333333337,3.7376000000000005,3.7470117647058827,3.7553777777777784,3.762863157894737,3.7696000000000005,3.7756952380952384,3.781236363636364,3.7862956521739135,3.7909333333333337,3.7952000000000004,3.799138461538462,3.8027851851851855,3.806171428571429,3.8093241379310347,3.812266666666667,3.81501935483871,3.8176000000000005,3.8200242424242425,3.8223058823529414,3.824457142857143,3.826488888888889,3.8284108108108112,3.8302315789473687,3.8319589743589746,3.8336,3.835160975609756,3.8366476190476195,3.83806511627907,3.839418181818182,3.840711111111111,3.841947826086957,3.8431319148936174,3.844266666666667,3.8453551020408168]},{\"mode\":\"lines\",\"name\":\"5 Positions\",\"type\":\"scatter\",\"x\":[0.05,0.060000000000000005,0.07,0.08000000000000002,0.09000000000000001,0.1,0.11000000000000001,0.12000000000000001,0.13,0.14,0.15000000000000002,0.16000000000000003,0.17000000000000004,0.18000000000000005,0.19,0.2,0.21000000000000002,0.22000000000000003,0.23000000000000004,0.24000000000000005,0.25000000000000006,0.26000000000000006,0.27,0.28,0.29000000000000004,0.30000000000000004,0.31000000000000005,0.32000000000000006,0.33,0.34,0.35000000000000003,0.36000000000000004,0.37000000000000005,0.38000000000000006,0.39000000000000007,0.4000000000000001,0.4100000000000001,0.42000000000000004,0.43000000000000005,0.44000000000000006,0.45000000000000007,0.4600000000000001,0.4700000000000001,0.4800000000000001,0.49000000000000005],\"y\":[4.743999999999999,4.778133333333332,4.802514285714285,4.820799999999999,4.8350222222222214,4.846399999999999,4.85570909090909,4.863466666666666,4.870030769230769,4.8756571428571425,4.880533333333332,4.884799999999999,4.888564705882352,4.89191111111111,4.894905263157894,4.897599999999999,4.900038095238094,4.902254545454545,4.904278260869565,4.906133333333333,4.907839999999999,4.909415384615384,4.910874074074074,4.912228571428571,4.913489655172413,4.914666666666666,4.9157677419354835,4.916799999999999,4.917769696969696,4.918682352941175,4.919542857142856,4.920355555555555,4.921124324324324,4.921852631578947,4.922543589743589,4.9232,4.923824390243902,4.924419047619047,4.924986046511627,4.9255272727272725,4.926044444444444,4.926539130434782,4.927012765957446,4.927466666666666,4.927902040816326]}],                        {\"annotations\":[{\"showarrow\":false,\"text\":\"Leverage Threshold\",\"x\":1,\"xanchor\":\"right\",\"xref\":\"x domain\",\"y\":1.01,\"yanchor\":\"bottom\",\"yref\":\"y\"}],\"font\":{\"color\":\"RebeccaPurple\",\"size\":12},\"legend\":{\"title\":{\"text\":\"Number of Positions\"}},\"shapes\":[{\"line\":{\"color\":\"red\",\"dash\":\"dash\"},\"type\":\"line\",\"x0\":0,\"x1\":1,\"xref\":\"x domain\",\"y0\":1.01,\"y1\":1.01,\"yref\":\"y\"}],\"template\":{\"data\":{\"bar\":[{\"error_x\":{\"color\":\"#2a3f5f\"},\"error_y\":{\"color\":\"#2a3f5f\"},\"marker\":{\"line\":{\"color\":\"#E5ECF6\",\"width\":0.5},\"pattern\":{\"fillmode\":\"overlay\",\"size\":10,\"solidity\":0.2}},\"type\":\"bar\"}],\"barpolar\":[{\"marker\":{\"line\":{\"color\":\"#E5ECF6\",\"width\":0.5},\"pattern\":{\"fillmode\":\"overlay\",\"size\":10,\"solidity\":0.2}},\"type\":\"barpolar\"}],\"carpet\":[{\"aaxis\":{\"endlinecolor\":\"#2a3f5f\",\"gridcolor\":\"white\",\"linecolor\":\"white\",\"minorgridcolor\":\"white\",\"startlinecolor\":\"#2a3f5f\"},\"baxis\":{\"endlinecolor\":\"#2a3f5f\",\"gridcolor\":\"white\",\"linecolor\":\"white\",\"minorgridcolor\":\"white\",\"startlinecolor\":\"#2a3f5f\"},\"type\":\"carpet\"}],\"choropleth\":[{\"colorbar\":{\"outlinewidth\":0,\"ticks\":\"\"},\"type\":\"choropleth\"}],\"contour\":[{\"colorbar\":{\"outlinewidth\":0,\"ticks\":\"\"},\"colorscale\":[[0.0,\"#0d0887\"],[0.1111111111111111,\"#46039f\"],[0.2222222222222222,\"#7201a8\"],[0.3333333333333333,\"#9c179e\"],[0.4444444444444444,\"#bd3786\"],[0.5555555555555556,\"#d8576b\"],[0.6666666666666666,\"#ed7953\"],[0.7777777777777778,\"#fb9f3a\"],[0.8888888888888888,\"#fdca26\"],[1.0,\"#f0f921\"]],\"type\":\"contour\"}],\"contourcarpet\":[{\"colorbar\":{\"outlinewidth\":0,\"ticks\":\"\"},\"type\":\"contourcarpet\"}],\"heatmap\":[{\"colorbar\":{\"outlinewidth\":0,\"ticks\":\"\"},\"colorscale\":[[0.0,\"#0d0887\"],[0.1111111111111111,\"#46039f\"],[0.2222222222222222,\"#7201a8\"],[0.3333333333333333,\"#9c179e\"],[0.4444444444444444,\"#bd3786\"],[0.5555555555555556,\"#d8576b\"],[0.6666666666666666,\"#ed7953\"],[0.7777777777777778,\"#fb9f3a\"],[0.8888888888888888,\"#fdca26\"],[1.0,\"#f0f921\"]],\"type\":\"heatmap\"}],\"heatmapgl\":[{\"colorbar\":{\"outlinewidth\":0,\"ticks\":\"\"},\"colorscale\":[[0.0,\"#0d0887\"],[0.1111111111111111,\"#46039f\"],[0.2222222222222222,\"#7201a8\"],[0.3333333333333333,\"#9c179e\"],[0.4444444444444444,\"#bd3786\"],[0.5555555555555556,\"#d8576b\"],[0.6666666666666666,\"#ed7953\"],[0.7777777777777778,\"#fb9f3a\"],[0.8888888888888888,\"#fdca26\"],[1.0,\"#f0f921\"]],\"type\":\"heatmapgl\"}],\"histogram\":[{\"marker\":{\"pattern\":{\"fillmode\":\"overlay\",\"size\":10,\"solidity\":0.2}},\"type\":\"histogram\"}],\"histogram2d\":[{\"colorbar\":{\"outlinewidth\":0,\"ticks\":\"\"},\"colorscale\":[[0.0,\"#0d0887\"],[0.1111111111111111,\"#46039f\"],[0.2222222222222222,\"#7201a8\"],[0.3333333333333333,\"#9c179e\"],[0.4444444444444444,\"#bd3786\"],[0.5555555555555556,\"#d8576b\"],[0.6666666666666666,\"#ed7953\"],[0.7777777777777778,\"#fb9f3a\"],[0.8888888888888888,\"#fdca26\"],[1.0,\"#f0f921\"]],\"type\":\"histogram2d\"}],\"histogram2dcontour\":[{\"colorbar\":{\"outlinewidth\":0,\"ticks\":\"\"},\"colorscale\":[[0.0,\"#0d0887\"],[0.1111111111111111,\"#46039f\"],[0.2222222222222222,\"#7201a8\"],[0.3333333333333333,\"#9c179e\"],[0.4444444444444444,\"#bd3786\"],[0.5555555555555556,\"#d8576b\"],[0.6666666666666666,\"#ed7953\"],[0.7777777777777778,\"#fb9f3a\"],[0.8888888888888888,\"#fdca26\"],[1.0,\"#f0f921\"]],\"type\":\"histogram2dcontour\"}],\"mesh3d\":[{\"colorbar\":{\"outlinewidth\":0,\"ticks\":\"\"},\"type\":\"mesh3d\"}],\"parcoords\":[{\"line\":{\"colorbar\":{\"outlinewidth\":0,\"ticks\":\"\"}},\"type\":\"parcoords\"}],\"pie\":[{\"automargin\":true,\"type\":\"pie\"}],\"scatter\":[{\"marker\":{\"colorbar\":{\"outlinewidth\":0,\"ticks\":\"\"}},\"type\":\"scatter\"}],\"scatter3d\":[{\"line\":{\"colorbar\":{\"outlinewidth\":0,\"ticks\":\"\"}},\"marker\":{\"colorbar\":{\"outlinewidth\":0,\"ticks\":\"\"}},\"type\":\"scatter3d\"}],\"scattercarpet\":[{\"marker\":{\"colorbar\":{\"outlinewidth\":0,\"ticks\":\"\"}},\"type\":\"scattercarpet\"}],\"scattergeo\":[{\"marker\":{\"colorbar\":{\"outlinewidth\":0,\"ticks\":\"\"}},\"type\":\"scattergeo\"}],\"scattergl\":[{\"marker\":{\"colorbar\":{\"outlinewidth\":0,\"ticks\":\"\"}},\"type\":\"scattergl\"}],\"scattermapbox\":[{\"marker\":{\"colorbar\":{\"outlinewidth\":0,\"ticks\":\"\"}},\"type\":\"scattermapbox\"}],\"scatterpolar\":[{\"marker\":{\"colorbar\":{\"outlinewidth\":0,\"ticks\":\"\"}},\"type\":\"scatterpolar\"}],\"scatterpolargl\":[{\"marker\":{\"colorbar\":{\"outlinewidth\":0,\"ticks\":\"\"}},\"type\":\"scatterpolargl\"}],\"scatterternary\":[{\"marker\":{\"colorbar\":{\"outlinewidth\":0,\"ticks\":\"\"}},\"type\":\"scatterternary\"}],\"surface\":[{\"colorbar\":{\"outlinewidth\":0,\"ticks\":\"\"},\"colorscale\":[[0.0,\"#0d0887\"],[0.1111111111111111,\"#46039f\"],[0.2222222222222222,\"#7201a8\"],[0.3333333333333333,\"#9c179e\"],[0.4444444444444444,\"#bd3786\"],[0.5555555555555556,\"#d8576b\"],[0.6666666666666666,\"#ed7953\"],[0.7777777777777778,\"#fb9f3a\"],[0.8888888888888888,\"#fdca26\"],[1.0,\"#f0f921\"]],\"type\":\"surface\"}],\"table\":[{\"cells\":{\"fill\":{\"color\":\"#EBF0F8\"},\"line\":{\"color\":\"white\"}},\"header\":{\"fill\":{\"color\":\"#C8D4E3\"},\"line\":{\"color\":\"white\"}},\"type\":\"table\"}]},\"layout\":{\"annotationdefaults\":{\"arrowcolor\":\"#2a3f5f\",\"arrowhead\":0,\"arrowwidth\":1},\"autotypenumbers\":\"strict\",\"coloraxis\":{\"colorbar\":{\"outlinewidth\":0,\"ticks\":\"\"}},\"colorscale\":{\"diverging\":[[0,\"#8e0152\"],[0.1,\"#c51b7d\"],[0.2,\"#de77ae\"],[0.3,\"#f1b6da\"],[0.4,\"#fde0ef\"],[0.5,\"#f7f7f7\"],[0.6,\"#e6f5d0\"],[0.7,\"#b8e186\"],[0.8,\"#7fbc41\"],[0.9,\"#4d9221\"],[1,\"#276419\"]],\"sequential\":[[0.0,\"#0d0887\"],[0.1111111111111111,\"#46039f\"],[0.2222222222222222,\"#7201a8\"],[0.3333333333333333,\"#9c179e\"],[0.4444444444444444,\"#bd3786\"],[0.5555555555555556,\"#d8576b\"],[0.6666666666666666,\"#ed7953\"],[0.7777777777777778,\"#fb9f3a\"],[0.8888888888888888,\"#fdca26\"],[1.0,\"#f0f921\"]],\"sequentialminus\":[[0.0,\"#0d0887\"],[0.1111111111111111,\"#46039f\"],[0.2222222222222222,\"#7201a8\"],[0.3333333333333333,\"#9c179e\"],[0.4444444444444444,\"#bd3786\"],[0.5555555555555556,\"#d8576b\"],[0.6666666666666666,\"#ed7953\"],[0.7777777777777778,\"#fb9f3a\"],[0.8888888888888888,\"#fdca26\"],[1.0,\"#f0f921\"]]},\"colorway\":[\"#636efa\",\"#EF553B\",\"#00cc96\",\"#ab63fa\",\"#FFA15A\",\"#19d3f3\",\"#FF6692\",\"#B6E880\",\"#FF97FF\",\"#FECB52\"],\"font\":{\"color\":\"#2a3f5f\"},\"geo\":{\"bgcolor\":\"white\",\"lakecolor\":\"white\",\"landcolor\":\"#E5ECF6\",\"showlakes\":true,\"showland\":true,\"subunitcolor\":\"white\"},\"hoverlabel\":{\"align\":\"left\"},\"hovermode\":\"closest\",\"mapbox\":{\"style\":\"light\"},\"paper_bgcolor\":\"white\",\"plot_bgcolor\":\"#E5ECF6\",\"polar\":{\"angularaxis\":{\"gridcolor\":\"white\",\"linecolor\":\"white\",\"ticks\":\"\"},\"bgcolor\":\"#E5ECF6\",\"radialaxis\":{\"gridcolor\":\"white\",\"linecolor\":\"white\",\"ticks\":\"\"}},\"scene\":{\"xaxis\":{\"backgroundcolor\":\"#E5ECF6\",\"gridcolor\":\"white\",\"gridwidth\":2,\"linecolor\":\"white\",\"showbackground\":true,\"ticks\":\"\",\"zerolinecolor\":\"white\"},\"yaxis\":{\"backgroundcolor\":\"#E5ECF6\",\"gridcolor\":\"white\",\"gridwidth\":2,\"linecolor\":\"white\",\"showbackground\":true,\"ticks\":\"\",\"zerolinecolor\":\"white\"},\"zaxis\":{\"backgroundcolor\":\"#E5ECF6\",\"gridcolor\":\"white\",\"gridwidth\":2,\"linecolor\":\"white\",\"showbackground\":true,\"ticks\":\"\",\"zerolinecolor\":\"white\"}},\"shapedefaults\":{\"line\":{\"color\":\"#2a3f5f\"}},\"ternary\":{\"aaxis\":{\"gridcolor\":\"white\",\"linecolor\":\"white\",\"ticks\":\"\"},\"baxis\":{\"gridcolor\":\"white\",\"linecolor\":\"white\",\"ticks\":\"\"},\"bgcolor\":\"#E5ECF6\",\"caxis\":{\"gridcolor\":\"white\",\"linecolor\":\"white\",\"ticks\":\"\"}},\"title\":{\"x\":0.05},\"xaxis\":{\"automargin\":true,\"gridcolor\":\"white\",\"linecolor\":\"white\",\"ticks\":\"\",\"title\":{\"standoff\":15},\"zerolinecolor\":\"white\",\"zerolinewidth\":2},\"yaxis\":{\"automargin\":true,\"gridcolor\":\"white\",\"linecolor\":\"white\",\"ticks\":\"\",\"title\":{\"standoff\":15},\"zerolinecolor\":\"white\",\"zerolinewidth\":2}}},\"title\":{\"text\":\"Strategy Capital Allocation vs Target Returns\"},\"xaxis\":{\"title\":{\"text\":\"Expected returns\"}},\"yaxis\":{\"title\":{\"text\":\"Fraction of Total Capital Invested\"}}},                        {\"responsive\": true}                    ).then(function(){\n",
       "                            \n",
       "var gd = document.getElementById('990ba825-b307-4c9b-9dc5-b88ecd4328c1');\n",
       "var x = new MutationObserver(function (mutations, observer) {{\n",
       "        var display = window.getComputedStyle(gd).display;\n",
       "        if (!display || display === 'none') {{\n",
       "            console.log([gd, 'removed!']);\n",
       "            Plotly.purge(gd);\n",
       "            observer.disconnect();\n",
       "        }}\n",
       "}});\n",
       "\n",
       "// Listen for the removal of the full notebook cells\n",
       "var notebookContainer = gd.closest('#notebook-container');\n",
       "if (notebookContainer) {{\n",
       "    x.observe(notebookContainer, {childList: true});\n",
       "}}\n",
       "\n",
       "// Listen for the clearing of the current output cell\n",
       "var outputEl = gd.closest('.output');\n",
       "if (outputEl) {{\n",
       "    x.observe(outputEl, {childList: true});\n",
       "}}\n",
       "\n",
       "                        })                };                });            </script>        </div>"
      ]
     },
     "metadata": {},
     "output_type": "display_data"
    }
   ],
   "source": [
    "expected_gain_range = np.arange(0.05, 0.5, 0.01)\n",
    "\n",
    "position_range = np.arange(1, 6)\n",
    "\n",
    "p_not_breakeven = 0.4\n",
    "# num_positions = 2\n",
    "fig = go.Figure()\n",
    "for num_positions in position_range:\n",
    "    \n",
    "    p = 1 - p_not_breakeven**num_positions\n",
    "    gain_fraction_df =  pd.DataFrame({\"Capital Fraction\":np.apply_along_axis(lambda expected_gain: p/(1/num_positions) -  (1-p) / expected_gain, 0, expected_gain_range),\n",
    "                                  \"Expected Gain\":expected_gain_range})\n",
    "    gain_fraction_df.loc[gain_fraction_df['Capital Fraction']<0, 'Capital Fraction'] = 0\n",
    "    # gain_fraction_df.loc[gain_fraction_df['Capital Fraction'].gt(0.05).idxmax(), \"Expected Gain\"]\n",
    "\n",
    "    fig.add_trace(go.Scatter(x=gain_fraction_df[\"Expected Gain\"], y=gain_fraction_df[\"Capital Fraction\"],\n",
    "                    mode='lines',\n",
    "                    name='%d Positions'%num_positions))\n",
    "    \n",
    "fig.add_hline(1.01, line_dash=\"dash\", line_color=\"red\", annotation_text='Leverage Threshold')\n",
    "fig.update_layout(\n",
    "    title=\"Strategy Capital Allocation vs Target Returns\",\n",
    "    xaxis_title=\"Expected returns\",\n",
    "    yaxis_title=\"Fraction of Total Capital Invested\",\n",
    "    legend_title=\"Number of Positions\",\n",
    "    font=dict(\n",
    "#         family=\"Courier New, monospace\",\n",
    "        size=12,\n",
    "        color=\"RebeccaPurple\"\n",
    "    )\n",
    ")\n",
    "\n",
    "fig.show()"
   ]
  },
  {
   "cell_type": "code",
   "execution_count": 140,
   "id": "signal-memorial",
   "metadata": {},
   "outputs": [
    {
     "data": {
      "application/vnd.plotly.v1+json": {
       "config": {
        "plotlyServerURL": "https://plot.ly"
       },
       "data": [
        {
         "mode": "lines",
         "name": "2 Positions",
         "type": "scatter",
         "x": [
          0.05,
          0.060000000000000005,
          0.07,
          0.08000000000000002,
          0.09000000000000001,
          0.1,
          0.11000000000000001,
          0.12000000000000001,
          0.13,
          0.14,
          0.15000000000000002,
          0.16000000000000003,
          0.17000000000000004,
          0.18000000000000005,
          0.19,
          0.2,
          0.21000000000000002,
          0.22000000000000003,
          0.23000000000000004,
          0.24000000000000005,
          0.25000000000000006,
          0.26000000000000006,
          0.27,
          0.28,
          0.29000000000000004,
          0.30000000000000004,
          0.31000000000000005,
          0.32000000000000006,
          0.33,
          0.34,
          0.35000000000000003,
          0.36000000000000004,
          0.37000000000000005,
          0.38000000000000006,
          0.39000000000000007,
          0.4000000000000001,
          0.4100000000000001,
          0.42000000000000004,
          0.43000000000000005,
          0.44000000000000006,
          0.45000000000000007,
          0.4600000000000001,
          0.4700000000000001,
          0.4800000000000001,
          0.49000000000000005
         ],
         "y": [
          0,
          0,
          0,
          0,
          0,
          0,
          0,
          0,
          0,
          0,
          0,
          0,
          0,
          0,
          0,
          0,
          0,
          0,
          0,
          0,
          0,
          0,
          0,
          0,
          0,
          0,
          0,
          0,
          0,
          0,
          0,
          0,
          0,
          0,
          0,
          0,
          0,
          0,
          0,
          0,
          0,
          0.004660869565217163,
          0.01916595744680827,
          0.03306666666666647,
          0.046399999999999775
         ]
        },
        {
         "mode": "lines",
         "name": "2 Positions",
         "type": "scatter",
         "x": [
          0.05,
          0.060000000000000005,
          0.07,
          0.08000000000000002,
          0.09000000000000001,
          0.1,
          0.11000000000000001,
          0.12000000000000001,
          0.13,
          0.14,
          0.15000000000000002,
          0.16000000000000003,
          0.17000000000000004,
          0.18000000000000005,
          0.19,
          0.2,
          0.21000000000000002,
          0.22000000000000003,
          0.23000000000000004,
          0.24000000000000005,
          0.25000000000000006,
          0.26000000000000006,
          0.27,
          0.28,
          0.29000000000000004,
          0.30000000000000004,
          0.31000000000000005,
          0.32000000000000006,
          0.33,
          0.34,
          0.35000000000000003,
          0.36000000000000004,
          0.37000000000000005,
          0.38000000000000006,
          0.39000000000000007,
          0.4000000000000001,
          0.4100000000000001,
          0.42000000000000004,
          0.43000000000000005,
          0.44000000000000006,
          0.45000000000000007,
          0.4600000000000001,
          0.4700000000000001,
          0.4800000000000001,
          0.49000000000000005
         ],
         "y": [
          0,
          0,
          0,
          0,
          0,
          0,
          0,
          0,
          0,
          0,
          0,
          0,
          0,
          0,
          0,
          0,
          0,
          0,
          0,
          0,
          0,
          0,
          0,
          0,
          0,
          0,
          0,
          0,
          0,
          0,
          0,
          0,
          0,
          0,
          0,
          0,
          0,
          0,
          0,
          0.01000000000000012,
          0.025277777777777954,
          0.03989130434782617,
          0.05388297872340442,
          0.06729166666666686,
          0.08015306122448984
         ]
        },
        {
         "mode": "lines",
         "name": "2 Positions",
         "type": "scatter",
         "x": [
          0.05,
          0.060000000000000005,
          0.07,
          0.08000000000000002,
          0.09000000000000001,
          0.1,
          0.11000000000000001,
          0.12000000000000001,
          0.13,
          0.14,
          0.15000000000000002,
          0.16000000000000003,
          0.17000000000000004,
          0.18000000000000005,
          0.19,
          0.2,
          0.21000000000000002,
          0.22000000000000003,
          0.23000000000000004,
          0.24000000000000005,
          0.25000000000000006,
          0.26000000000000006,
          0.27,
          0.28,
          0.29000000000000004,
          0.30000000000000004,
          0.31000000000000005,
          0.32000000000000006,
          0.33,
          0.34,
          0.35000000000000003,
          0.36000000000000004,
          0.37000000000000005,
          0.38000000000000006,
          0.39000000000000007,
          0.4000000000000001,
          0.4100000000000001,
          0.42000000000000004,
          0.43000000000000005,
          0.44000000000000006,
          0.45000000000000007,
          0.4600000000000001,
          0.4700000000000001,
          0.4800000000000001,
          0.49000000000000005
         ],
         "y": [
          0,
          0,
          0,
          0,
          0,
          0,
          0,
          0,
          0,
          0,
          0,
          0,
          0,
          0,
          0,
          0,
          0,
          0,
          0,
          0,
          0,
          0,
          0,
          0,
          0,
          0,
          0,
          0,
          0,
          0,
          0,
          0,
          0,
          0,
          0,
          0,
          0,
          0.014114285714285524,
          0.03026046511627889,
          0.04567272727272709,
          0.06039999999999979,
          0.07448695652173898,
          0.08797446808510623,
          0.10089999999999988,
          0.11329795918367325
         ]
        },
        {
         "mode": "lines",
         "name": "2 Positions",
         "type": "scatter",
         "x": [
          0.05,
          0.060000000000000005,
          0.07,
          0.08000000000000002,
          0.09000000000000001,
          0.1,
          0.11000000000000001,
          0.12000000000000001,
          0.13,
          0.14,
          0.15000000000000002,
          0.16000000000000003,
          0.17000000000000004,
          0.18000000000000005,
          0.19,
          0.2,
          0.21000000000000002,
          0.22000000000000003,
          0.23000000000000004,
          0.24000000000000005,
          0.25000000000000006,
          0.26000000000000006,
          0.27,
          0.28,
          0.29000000000000004,
          0.30000000000000004,
          0.31000000000000005,
          0.32000000000000006,
          0.33,
          0.34,
          0.35000000000000003,
          0.36000000000000004,
          0.37000000000000005,
          0.38000000000000006,
          0.39000000000000007,
          0.4000000000000001,
          0.4100000000000001,
          0.42000000000000004,
          0.43000000000000005,
          0.44000000000000006,
          0.45000000000000007,
          0.4600000000000001,
          0.4700000000000001,
          0.4800000000000001,
          0.49000000000000005
         ],
         "y": [
          0,
          0,
          0,
          0,
          0,
          0,
          0,
          0,
          0,
          0,
          0,
          0,
          0,
          0,
          0,
          0,
          0,
          0,
          0,
          0,
          0,
          0,
          0,
          0,
          0,
          0,
          0,
          0,
          0,
          0,
          0,
          0,
          0,
          0,
          0,
          0.01685000000000003,
          0.033978048780487824,
          0.05029047619047611,
          0.06584418604651154,
          0.08069090909090904,
          0.09487777777777773,
          0.10844782608695647,
          0.12144042553191492,
          0.13389166666666663,
          0.145834693877551
         ]
        },
        {
         "mode": "lines",
         "name": "2 Positions",
         "type": "scatter",
         "x": [
          0.05,
          0.060000000000000005,
          0.07,
          0.08000000000000002,
          0.09000000000000001,
          0.1,
          0.11000000000000001,
          0.12000000000000001,
          0.13,
          0.14,
          0.15000000000000002,
          0.16000000000000003,
          0.17000000000000004,
          0.18000000000000005,
          0.19,
          0.2,
          0.21000000000000002,
          0.22000000000000003,
          0.23000000000000004,
          0.24000000000000005,
          0.25000000000000006,
          0.26000000000000006,
          0.27,
          0.28,
          0.29000000000000004,
          0.30000000000000004,
          0.31000000000000005,
          0.32000000000000006,
          0.33,
          0.34,
          0.35000000000000003,
          0.36000000000000004,
          0.37000000000000005,
          0.38000000000000006,
          0.39000000000000007,
          0.4000000000000001,
          0.4100000000000001,
          0.42000000000000004,
          0.43000000000000005,
          0.44000000000000006,
          0.45000000000000007,
          0.4600000000000001,
          0.4700000000000001,
          0.4800000000000001,
          0.49000000000000005
         ],
         "y": [
          0,
          0,
          0,
          0,
          0,
          0,
          0,
          0,
          0,
          0,
          0,
          0,
          0,
          0,
          0,
          0,
          0,
          0,
          0,
          0,
          0,
          0,
          0,
          0,
          0,
          0,
          0,
          0,
          0,
          0,
          0,
          0,
          0,
          0.01802105263157916,
          0.03626666666666689,
          0.0536000000000002,
          0.070087804878049,
          0.0857904761904763,
          0.10076279069767458,
          0.11505454545454563,
          0.12871111111111133,
          0.14177391304347842,
          0.15428085106382994,
          0.1662666666666669,
          0.17776326530612263
         ]
        },
        {
         "mode": "lines",
         "name": "2 Positions",
         "type": "scatter",
         "x": [
          0.05,
          0.060000000000000005,
          0.07,
          0.08000000000000002,
          0.09000000000000001,
          0.1,
          0.11000000000000001,
          0.12000000000000001,
          0.13,
          0.14,
          0.15000000000000002,
          0.16000000000000003,
          0.17000000000000004,
          0.18000000000000005,
          0.19,
          0.2,
          0.21000000000000002,
          0.22000000000000003,
          0.23000000000000004,
          0.24000000000000005,
          0.25000000000000006,
          0.26000000000000006,
          0.27,
          0.28,
          0.29000000000000004,
          0.30000000000000004,
          0.31000000000000005,
          0.32000000000000006,
          0.33,
          0.34,
          0.35000000000000003,
          0.36000000000000004,
          0.37000000000000005,
          0.38000000000000006,
          0.39000000000000007,
          0.4000000000000001,
          0.4100000000000001,
          0.42000000000000004,
          0.43000000000000005,
          0.44000000000000006,
          0.45000000000000007,
          0.4600000000000001,
          0.4700000000000001,
          0.4800000000000001,
          0.49000000000000005
         ],
         "y": [
          0,
          0,
          0,
          0,
          0,
          0,
          0,
          0,
          0,
          0,
          0,
          0,
          0,
          0,
          0,
          0,
          0,
          0,
          0,
          0,
          0,
          0,
          0,
          0,
          0,
          0,
          0,
          0,
          0,
          0,
          0,
          0.017400000000000082,
          0.036927027027027104,
          0.05542631578947377,
          0.07297692307692316,
          0.08965000000000012,
          0.10550975609756108,
          0.12061428571428578,
          0.13501627906976754,
          0.14876363636363643,
          0.16190000000000004,
          0.1744652173913045,
          0.18649574468085117,
          0.19802500000000012,
          0.20908367346938783
         ]
        },
        {
         "mode": "lines",
         "name": "2 Positions",
         "type": "scatter",
         "x": [
          0.05,
          0.060000000000000005,
          0.07,
          0.08000000000000002,
          0.09000000000000001,
          0.1,
          0.11000000000000001,
          0.12000000000000001,
          0.13,
          0.14,
          0.15000000000000002,
          0.16000000000000003,
          0.17000000000000004,
          0.18000000000000005,
          0.19,
          0.2,
          0.21000000000000002,
          0.22000000000000003,
          0.23000000000000004,
          0.24000000000000005,
          0.25000000000000006,
          0.26000000000000006,
          0.27,
          0.28,
          0.29000000000000004,
          0.30000000000000004,
          0.31000000000000005,
          0.32000000000000006,
          0.33,
          0.34,
          0.35000000000000003,
          0.36000000000000004,
          0.37000000000000005,
          0.38000000000000006,
          0.39000000000000007,
          0.4000000000000001,
          0.4100000000000001,
          0.42000000000000004,
          0.43000000000000005,
          0.44000000000000006,
          0.45000000000000007,
          0.4600000000000001,
          0.4700000000000001,
          0.4800000000000001,
          0.49000000000000005
         ],
         "y": [
          0,
          0,
          0,
          0,
          0,
          0,
          0,
          0,
          0,
          0,
          0,
          0,
          0,
          0,
          0,
          0,
          0,
          0,
          0,
          0,
          0,
          0,
          0,
          0,
          0,
          0,
          0,
          0,
          0,
          0.014705882352941235,
          0.03571428571428581,
          0.05555555555555569,
          0.07432432432432445,
          0.0921052631578948,
          0.10897435897435914,
          0.1250000000000001,
          0.14024390243902451,
          0.15476190476190477,
          0.16860465116279078,
          0.18181818181818188,
          0.19444444444444453,
          0.20652173913043492,
          0.21808510638297884,
          0.22916666666666674,
          0.23979591836734704
         ]
        },
        {
         "mode": "lines",
         "name": "2 Positions",
         "type": "scatter",
         "x": [
          0.05,
          0.060000000000000005,
          0.07,
          0.08000000000000002,
          0.09000000000000001,
          0.1,
          0.11000000000000001,
          0.12000000000000001,
          0.13,
          0.14,
          0.15000000000000002,
          0.16000000000000003,
          0.17000000000000004,
          0.18000000000000005,
          0.19,
          0.2,
          0.21000000000000002,
          0.22000000000000003,
          0.23000000000000004,
          0.24000000000000005,
          0.25000000000000006,
          0.26000000000000006,
          0.27,
          0.28,
          0.29000000000000004,
          0.30000000000000004,
          0.31000000000000005,
          0.32000000000000006,
          0.33,
          0.34,
          0.35000000000000003,
          0.36000000000000004,
          0.37000000000000005,
          0.38000000000000006,
          0.39000000000000007,
          0.4000000000000001,
          0.4100000000000001,
          0.42000000000000004,
          0.43000000000000005,
          0.44000000000000006,
          0.45000000000000007,
          0.4600000000000001,
          0.4700000000000001,
          0.4800000000000001,
          0.49000000000000005
         ],
         "y": [
          0,
          0,
          0,
          0,
          0,
          0,
          0,
          0,
          0,
          0,
          0,
          0,
          0,
          0,
          0,
          0,
          0,
          0,
          0,
          0,
          0,
          0,
          0,
          0,
          0,
          0,
          0,
          0.009587500000000193,
          0.03232424242424259,
          0.05372352941176484,
          0.07390000000000019,
          0.09295555555555568,
          0.11098108108108129,
          0.12805789473684226,
          0.1442589743589745,
          0.15965000000000018,
          0.1742902439024392,
          0.18823333333333347,
          0.20152790697674428,
          0.21421818181818197,
          0.22634444444444457,
          0.2379434782608697,
          0.24904893617021295,
          0.2596916666666669,
          0.2699000000000001
         ]
        },
        {
         "mode": "lines",
         "name": "2 Positions",
         "type": "scatter",
         "x": [
          0.05,
          0.060000000000000005,
          0.07,
          0.08000000000000002,
          0.09000000000000001,
          0.1,
          0.11000000000000001,
          0.12000000000000001,
          0.13,
          0.14,
          0.15000000000000002,
          0.16000000000000003,
          0.17000000000000004,
          0.18000000000000005,
          0.19,
          0.2,
          0.21000000000000002,
          0.22000000000000003,
          0.23000000000000004,
          0.24000000000000005,
          0.25000000000000006,
          0.26000000000000006,
          0.27,
          0.28,
          0.29000000000000004,
          0.30000000000000004,
          0.31000000000000005,
          0.32000000000000006,
          0.33,
          0.34,
          0.35000000000000003,
          0.36000000000000004,
          0.37000000000000005,
          0.38000000000000006,
          0.39000000000000007,
          0.4000000000000001,
          0.4100000000000001,
          0.42000000000000004,
          0.43000000000000005,
          0.44000000000000006,
          0.45000000000000007,
          0.4600000000000001,
          0.4700000000000001,
          0.4800000000000001,
          0.49000000000000005
         ],
         "y": [
          0,
          0,
          0,
          0,
          0,
          0,
          0,
          0,
          0,
          0,
          0,
          0,
          0,
          0,
          0,
          0,
          0,
          0,
          0,
          0,
          0,
          0,
          0,
          0,
          0,
          0.001600000000000379,
          0.026374193548387437,
          0.04960000000000042,
          0.07141818181818205,
          0.0919529411764709,
          0.11131428571428603,
          0.12960000000000027,
          0.1468972972972976,
          0.16328421052631614,
          0.17883076923076957,
          0.19360000000000033,
          0.20764878048780522,
          0.22102857142857169,
          0.23378604651162815,
          0.2459636363636366,
          0.2576000000000003,
          0.26873043478260894,
          0.2793872340425535,
          0.2896000000000003,
          0.2993959183673472
         ]
        },
        {
         "mode": "lines",
         "name": "2 Positions",
         "type": "scatter",
         "x": [
          0.05,
          0.060000000000000005,
          0.07,
          0.08000000000000002,
          0.09000000000000001,
          0.1,
          0.11000000000000001,
          0.12000000000000001,
          0.13,
          0.14,
          0.15000000000000002,
          0.16000000000000003,
          0.17000000000000004,
          0.18000000000000005,
          0.19,
          0.2,
          0.21000000000000002,
          0.22000000000000003,
          0.23000000000000004,
          0.24000000000000005,
          0.25000000000000006,
          0.26000000000000006,
          0.27,
          0.28,
          0.29000000000000004,
          0.30000000000000004,
          0.31000000000000005,
          0.32000000000000006,
          0.33,
          0.34,
          0.35000000000000003,
          0.36000000000000004,
          0.37000000000000005,
          0.38000000000000006,
          0.39000000000000007,
          0.4000000000000001,
          0.4100000000000001,
          0.42000000000000004,
          0.43000000000000005,
          0.44000000000000006,
          0.45000000000000007,
          0.4600000000000001,
          0.4700000000000001,
          0.4800000000000001,
          0.49000000000000005
         ],
         "y": [
          0,
          0,
          0,
          0,
          0,
          0,
          0,
          0,
          0,
          0,
          0,
          0,
          0,
          0,
          0,
          0,
          0,
          0,
          0,
          0,
          0,
          0,
          0,
          0,
          0.017375862068965686,
          0.04276666666666684,
          0.06651935483870985,
          0.08878750000000024,
          0.1097060606060607,
          0.12939411764705888,
          0.147957142857143,
          0.16548888888888902,
          0.1820729729729731,
          0.1977842105263159,
          0.2126897435897438,
          0.2268500000000001,
          0.24031951219512215,
          0.2531476190476192,
          0.26537906976744197,
          0.27705454545454555,
          0.28821111111111125,
          0.2988826086956523,
          0.30910000000000015,
          0.3188916666666668,
          0.32828367346938786
         ]
        },
        {
         "mode": "lines",
         "name": "2 Positions",
         "type": "scatter",
         "x": [
          0.05,
          0.060000000000000005,
          0.07,
          0.08000000000000002,
          0.09000000000000001,
          0.1,
          0.11000000000000001,
          0.12000000000000001,
          0.13,
          0.14,
          0.15000000000000002,
          0.16000000000000003,
          0.17000000000000004,
          0.18000000000000005,
          0.19,
          0.2,
          0.21000000000000002,
          0.22000000000000003,
          0.23000000000000004,
          0.24000000000000005,
          0.25000000000000006,
          0.26000000000000006,
          0.27,
          0.28,
          0.29000000000000004,
          0.30000000000000004,
          0.31000000000000005,
          0.32000000000000006,
          0.33,
          0.34,
          0.35000000000000003,
          0.36000000000000004,
          0.37000000000000005,
          0.38000000000000006,
          0.39000000000000007,
          0.4000000000000001,
          0.4100000000000001,
          0.42000000000000004,
          0.43000000000000005,
          0.44000000000000006,
          0.45000000000000007,
          0.4600000000000001,
          0.4700000000000001,
          0.4800000000000001,
          0.49000000000000005
         ],
         "y": [
          0,
          0,
          0,
          0,
          0,
          0,
          0,
          0,
          0,
          0,
          0,
          0,
          0,
          0,
          0,
          0,
          0,
          0,
          0,
          0,
          0,
          0,
          0.0046962962962963095,
          0.03268571428571432,
          0.058744827586206916,
          0.08306666666666673,
          0.10581935483870974,
          0.1271500000000001,
          0.14718787878787876,
          0.16604705882352944,
          0.18382857142857145,
          0.20062222222222226,
          0.21650810810810817,
          0.23155789473684218,
          0.2458358974358975,
          0.2594000000000001,
          0.27230243902439033,
          0.28459047619047617,
          0.29630697674418605,
          0.30749090909090915,
          0.31817777777777784,
          0.3284,
          0.33818723404255324,
          0.34756666666666675,
          0.3565632653061225
         ]
        },
        {
         "mode": "lines",
         "name": "2 Positions",
         "type": "scatter",
         "x": [
          0.05,
          0.060000000000000005,
          0.07,
          0.08000000000000002,
          0.09000000000000001,
          0.1,
          0.11000000000000001,
          0.12000000000000001,
          0.13,
          0.14,
          0.15000000000000002,
          0.16000000000000003,
          0.17000000000000004,
          0.18000000000000005,
          0.19,
          0.2,
          0.21000000000000002,
          0.22000000000000003,
          0.23000000000000004,
          0.24000000000000005,
          0.25000000000000006,
          0.26000000000000006,
          0.27,
          0.28,
          0.29000000000000004,
          0.30000000000000004,
          0.31000000000000005,
          0.32000000000000006,
          0.33,
          0.34,
          0.35000000000000003,
          0.36000000000000004,
          0.37000000000000005,
          0.38000000000000006,
          0.39000000000000007,
          0.4000000000000001,
          0.4100000000000001,
          0.42000000000000004,
          0.43000000000000005,
          0.44000000000000006,
          0.45000000000000007,
          0.4600000000000001,
          0.4700000000000001,
          0.4800000000000001,
          0.49000000000000005
         ],
         "y": [
          0,
          0,
          0,
          0,
          0,
          0,
          0,
          0,
          0,
          0,
          0,
          0,
          0,
          0,
          0,
          0,
          0,
          0,
          0,
          0,
          0,
          0.018653846153846798,
          0.04750000000000054,
          0.07428571428571484,
          0.09922413793103502,
          0.1225000000000005,
          0.14427419354838766,
          0.16468750000000054,
          0.18386363636363678,
          0.2019117647058828,
          0.2189285714285718,
          0.23500000000000043,
          0.2502027027027032,
          0.2646052631578951,
          0.27826923076923116,
          0.29125000000000045,
          0.3035975609756102,
          0.3153571428571432,
          0.32656976744186084,
          0.33727272727272767,
          0.34750000000000036,
          0.35728260869565254,
          0.36664893617021316,
          0.3756250000000004,
          0.3842346938775514
         ]
        },
        {
         "mode": "lines",
         "name": "2 Positions",
         "type": "scatter",
         "x": [
          0.05,
          0.060000000000000005,
          0.07,
          0.08000000000000002,
          0.09000000000000001,
          0.1,
          0.11000000000000001,
          0.12000000000000001,
          0.13,
          0.14,
          0.15000000000000002,
          0.16000000000000003,
          0.17000000000000004,
          0.18000000000000005,
          0.19,
          0.2,
          0.21000000000000002,
          0.22000000000000003,
          0.23000000000000004,
          0.24000000000000005,
          0.25000000000000006,
          0.26000000000000006,
          0.27,
          0.28,
          0.29000000000000004,
          0.30000000000000004,
          0.31000000000000005,
          0.32000000000000006,
          0.33,
          0.34,
          0.35000000000000003,
          0.36000000000000004,
          0.37000000000000005,
          0.38000000000000006,
          0.39000000000000007,
          0.4000000000000001,
          0.4100000000000001,
          0.42000000000000004,
          0.43000000000000005,
          0.44000000000000006,
          0.45000000000000007,
          0.4600000000000001,
          0.4700000000000001,
          0.4800000000000001,
          0.49000000000000005
         ],
         "y": [
          0,
          0,
          0,
          0,
          0,
          0,
          0,
          0,
          0,
          0,
          0,
          0,
          0,
          0,
          0,
          0,
          0,
          0,
          0,
          0,
          0.03200000000000025,
          0.06178461538461555,
          0.08936296296296309,
          0.11497142857142861,
          0.13881379310344844,
          0.1610666666666668,
          0.18188387096774206,
          0.20140000000000013,
          0.21973333333333334,
          0.23698823529411772,
          0.25325714285714296,
          0.2686222222222223,
          0.2831567567567569,
          0.2969263157894738,
          0.3099897435897437,
          0.32240000000000013,
          0.33420487804878063,
          0.3454476190476191,
          0.3561674418604652,
          0.36640000000000006,
          0.37617777777777783,
          0.3855304347826088,
          0.3944851063829788,
          0.40306666666666674,
          0.4112979591836735
         ]
        },
        {
         "mode": "lines",
         "name": "2 Positions",
         "type": "scatter",
         "x": [
          0.05,
          0.060000000000000005,
          0.07,
          0.08000000000000002,
          0.09000000000000001,
          0.1,
          0.11000000000000001,
          0.12000000000000001,
          0.13,
          0.14,
          0.15000000000000002,
          0.16000000000000003,
          0.17000000000000004,
          0.18000000000000005,
          0.19,
          0.2,
          0.21000000000000002,
          0.22000000000000003,
          0.23000000000000004,
          0.24000000000000005,
          0.25000000000000006,
          0.26000000000000006,
          0.27,
          0.28,
          0.29000000000000004,
          0.30000000000000004,
          0.31000000000000005,
          0.32000000000000006,
          0.33,
          0.34,
          0.35000000000000003,
          0.36000000000000004,
          0.37000000000000005,
          0.38000000000000006,
          0.39000000000000007,
          0.4000000000000001,
          0.4100000000000001,
          0.42000000000000004,
          0.43000000000000005,
          0.44000000000000006,
          0.45000000000000007,
          0.4600000000000001,
          0.4700000000000001,
          0.4800000000000001,
          0.49000000000000005
         ],
         "y": [
          0,
          0,
          0,
          0,
          0,
          0,
          0,
          0,
          0,
          0,
          0,
          0,
          0,
          0,
          0,
          0,
          0,
          0,
          0.01118695652173951,
          0.04468333333333374,
          0.07550000000000034,
          0.10394615384615424,
          0.1302851851851855,
          0.1547428571428574,
          0.1775137931034486,
          0.19876666666666698,
          0.21864838709677448,
          0.23728750000000032,
          0.25479696969696997,
          0.27127647058823556,
          0.2868142857142859,
          0.30148888888888914,
          0.31537027027027054,
          0.3285210526315792,
          0.34099743589743614,
          0.3528500000000003,
          0.3641243902439027,
          0.37486190476190495,
          0.3851000000000002,
          0.3948727272727275,
          0.4042111111111113,
          0.4131434782608698,
          0.4216957446808513,
          0.4298916666666669,
          0.43775306122449
         ]
        },
        {
         "mode": "lines",
         "name": "2 Positions",
         "type": "scatter",
         "x": [
          0.05,
          0.060000000000000005,
          0.07,
          0.08000000000000002,
          0.09000000000000001,
          0.1,
          0.11000000000000001,
          0.12000000000000001,
          0.13,
          0.14,
          0.15000000000000002,
          0.16000000000000003,
          0.17000000000000004,
          0.18000000000000005,
          0.19,
          0.2,
          0.21000000000000002,
          0.22000000000000003,
          0.23000000000000004,
          0.24000000000000005,
          0.25000000000000006,
          0.26000000000000006,
          0.27,
          0.28,
          0.29000000000000004,
          0.30000000000000004,
          0.31000000000000005,
          0.32000000000000006,
          0.33,
          0.34,
          0.35000000000000003,
          0.36000000000000004,
          0.37000000000000005,
          0.38000000000000006,
          0.39000000000000007,
          0.4000000000000001,
          0.4100000000000001,
          0.42000000000000004,
          0.43000000000000005,
          0.44000000000000006,
          0.45000000000000007,
          0.4600000000000001,
          0.4700000000000001,
          0.4800000000000001,
          0.49000000000000005
         ],
         "y": [
          0,
          0,
          0,
          0,
          0,
          0,
          0,
          0,
          0,
          0,
          0,
          0,
          0,
          0,
          0,
          0,
          0,
          0.0217818181818189,
          0.05664347826087024,
          0.08860000000000068,
          0.11800000000000066,
          0.14513846153846222,
          0.17026666666666723,
          0.19360000000000055,
          0.215324137931035,
          0.2356000000000006,
          0.2545677419354845,
          0.27235000000000054,
          0.2890545454545459,
          0.30477647058823576,
          0.31960000000000044,
          0.33360000000000045,
          0.3468432432432437,
          0.359389473684211,
          0.37129230769230814,
          0.3826000000000005,
          0.39335609756097606,
          0.4036000000000004,
          0.41336744186046553,
          0.4226909090909095,
          0.4316000000000004,
          0.4401217391304352,
          0.4482808510638302,
          0.4561000000000004,
          0.46360000000000035
         ]
        },
        {
         "mode": "lines",
         "name": "2 Positions",
         "type": "scatter",
         "x": [
          0.05,
          0.060000000000000005,
          0.07,
          0.08000000000000002,
          0.09000000000000001,
          0.1,
          0.11000000000000001,
          0.12000000000000001,
          0.13,
          0.14,
          0.15000000000000002,
          0.16000000000000003,
          0.17000000000000004,
          0.18000000000000005,
          0.19,
          0.2,
          0.21000000000000002,
          0.22000000000000003,
          0.23000000000000004,
          0.24000000000000005,
          0.25000000000000006,
          0.26000000000000006,
          0.27,
          0.28,
          0.29000000000000004,
          0.30000000000000004,
          0.31000000000000005,
          0.32000000000000006,
          0.33,
          0.34,
          0.35000000000000003,
          0.36000000000000004,
          0.37000000000000005,
          0.38000000000000006,
          0.39000000000000007,
          0.4000000000000001,
          0.4100000000000001,
          0.42000000000000004,
          0.43000000000000005,
          0.44000000000000006,
          0.45000000000000007,
          0.4600000000000001,
          0.4700000000000001,
          0.4800000000000001,
          0.49000000000000005
         ],
         "y": [
          0,
          0,
          0,
          0,
          0,
          0,
          0,
          0,
          0,
          0,
          0,
          0,
          0,
          0,
          0,
          0,
          0.031423809523810076,
          0.06780909090909149,
          0.10103043478260931,
          0.13148333333333395,
          0.15950000000000053,
          0.18536153846153902,
          0.20930740740740783,
          0.2315428571428576,
          0.25224482758620737,
          0.27156666666666707,
          0.2896419354838714,
          0.30658750000000046,
          0.322506060606061,
          0.33748823529411803,
          0.3516142857142861,
          0.3649555555555559,
          0.37757567567567607,
          0.3895315789473688,
          0.40087435897435936,
          0.41165000000000035,
          0.4219000000000004,
          0.4316619047619051,
          0.4409697674418608,
          0.4498545454545458,
          0.4583444444444448,
          0.4664652173913047,
          0.4742404255319152,
          0.481691666666667,
          0.4888387755102044
         ]
        },
        {
         "mode": "lines",
         "name": "2 Positions",
         "type": "scatter",
         "x": [
          0.05,
          0.060000000000000005,
          0.07,
          0.08000000000000002,
          0.09000000000000001,
          0.1,
          0.11000000000000001,
          0.12000000000000001,
          0.13,
          0.14,
          0.15000000000000002,
          0.16000000000000003,
          0.17000000000000004,
          0.18000000000000005,
          0.19,
          0.2,
          0.21000000000000002,
          0.22000000000000003,
          0.23000000000000004,
          0.24000000000000005,
          0.25000000000000006,
          0.26000000000000006,
          0.27,
          0.28,
          0.29000000000000004,
          0.30000000000000004,
          0.31000000000000005,
          0.32000000000000006,
          0.33,
          0.34,
          0.35000000000000003,
          0.36000000000000004,
          0.37000000000000005,
          0.38000000000000006,
          0.39000000000000007,
          0.4000000000000001,
          0.4100000000000001,
          0.42000000000000004,
          0.43000000000000005,
          0.44000000000000006,
          0.45000000000000007,
          0.4600000000000001,
          0.4700000000000001,
          0.4800000000000001,
          0.49000000000000005
         ],
         "y": [
          0,
          0,
          0,
          0,
          0,
          0,
          0,
          0,
          0,
          0,
          0,
          0,
          0,
          0,
          0,
          0.04000000000000048,
          0.07809523809523866,
          0.11272727272727323,
          0.14434782608695707,
          0.1733333333333339,
          0.2000000000000005,
          0.2246153846153851,
          0.24740740740740785,
          0.268571428571429,
          0.28827586206896594,
          0.3066666666666671,
          0.3238709677419359,
          0.3400000000000004,
          0.3551515151515155,
          0.3694117647058827,
          0.38285714285714323,
          0.3955555555555559,
          0.4075675675675679,
          0.418947368421053,
          0.4297435897435901,
          0.44000000000000034,
          0.44975609756097595,
          0.45904761904761937,
          0.46790697674418635,
          0.47636363636363666,
          0.48444444444444473,
          0.4921739130434786,
          0.4995744680851067,
          0.506666666666667,
          0.5134693877551023
         ]
        },
        {
         "mode": "lines",
         "name": "2 Positions",
         "type": "scatter",
         "x": [
          0.05,
          0.060000000000000005,
          0.07,
          0.08000000000000002,
          0.09000000000000001,
          0.1,
          0.11000000000000001,
          0.12000000000000001,
          0.13,
          0.14,
          0.15000000000000002,
          0.16000000000000003,
          0.17000000000000004,
          0.18000000000000005,
          0.19,
          0.2,
          0.21000000000000002,
          0.22000000000000003,
          0.23000000000000004,
          0.24000000000000005,
          0.25000000000000006,
          0.26000000000000006,
          0.27,
          0.28,
          0.29000000000000004,
          0.30000000000000004,
          0.31000000000000005,
          0.32000000000000006,
          0.33,
          0.34,
          0.35000000000000003,
          0.36000000000000004,
          0.37000000000000005,
          0.38000000000000006,
          0.39000000000000007,
          0.4000000000000001,
          0.4100000000000001,
          0.42000000000000004,
          0.43000000000000005,
          0.44000000000000006,
          0.45000000000000007,
          0.4600000000000001,
          0.4700000000000001,
          0.4800000000000001,
          0.49000000000000005
         ],
         "y": [
          0,
          0,
          0,
          0,
          0,
          0,
          0,
          0,
          0,
          0,
          0,
          0,
          0,
          0.002900000000000902,
          0.0473736842105269,
          0.08740000000000059,
          0.12361428571428634,
          0.15653636363636425,
          0.18659565217391372,
          0.21415000000000062,
          0.2395000000000006,
          0.2629000000000006,
          0.2845666666666672,
          0.3046857142857148,
          0.3234172413793108,
          0.34090000000000054,
          0.3572548387096779,
          0.3725875000000005,
          0.3869909090909095,
          0.4005470588235298,
          0.4133285714285718,
          0.42540000000000044,
          0.43681891891891933,
          0.44763684210526355,
          0.4579000000000004,
          0.4676500000000004,
          0.4769243902439029,
          0.4857571428571432,
          0.49417906976744225,
          0.5022181818181821,
          0.5099000000000004,
          0.5172478260869569,
          0.5242829787234047,
          0.5310250000000003,
          0.5374918367346941
         ]
        },
        {
         "mode": "lines",
         "name": "2 Positions",
         "type": "scatter",
         "x": [
          0.05,
          0.060000000000000005,
          0.07,
          0.08000000000000002,
          0.09000000000000001,
          0.1,
          0.11000000000000001,
          0.12000000000000001,
          0.13,
          0.14,
          0.15000000000000002,
          0.16000000000000003,
          0.17000000000000004,
          0.18000000000000005,
          0.19,
          0.2,
          0.21000000000000002,
          0.22000000000000003,
          0.23000000000000004,
          0.24000000000000005,
          0.25000000000000006,
          0.26000000000000006,
          0.27,
          0.28,
          0.29000000000000004,
          0.30000000000000004,
          0.31000000000000005,
          0.32000000000000006,
          0.33,
          0.34,
          0.35000000000000003,
          0.36000000000000004,
          0.37000000000000005,
          0.38000000000000006,
          0.39000000000000007,
          0.4000000000000001,
          0.4100000000000001,
          0.42000000000000004,
          0.43000000000000005,
          0.44000000000000006,
          0.45000000000000007,
          0.4600000000000001,
          0.4700000000000001,
          0.4800000000000001,
          0.49000000000000005
         ],
         "y": [
          0,
          0,
          0,
          0,
          0,
          0,
          0,
          0,
          0,
          0,
          0,
          0,
          0.006188235294118827,
          0.053377777777778856,
          0.0956000000000009,
          0.13360000000000083,
          0.16798095238095323,
          0.19923636363636454,
          0.22777391304347905,
          0.2539333333333341,
          0.2780000000000008,
          0.30021538461538544,
          0.32078518518518584,
          0.339885714285715,
          0.35766896551724203,
          0.37426666666666736,
          0.38979354838709745,
          0.40435000000000065,
          0.418024242424243,
          0.43089411764705937,
          0.443028571428572,
          0.45448888888888944,
          0.4653297297297303,
          0.4756000000000006,
          0.4853435897435903,
          0.49460000000000054,
          0.503404878048781,
          0.5117904761904767,
          0.5197860465116284,
          0.5274181818181823,
          0.5347111111111116,
          0.5416869565217396,
          0.5483659574468089,
          0.5547666666666671,
          0.56090612244898
         ]
        },
        {
         "mode": "lines",
         "name": "2 Positions",
         "type": "scatter",
         "x": [
          0.05,
          0.060000000000000005,
          0.07,
          0.08000000000000002,
          0.09000000000000001,
          0.1,
          0.11000000000000001,
          0.12000000000000001,
          0.13,
          0.14,
          0.15000000000000002,
          0.16000000000000003,
          0.17000000000000004,
          0.18000000000000005,
          0.19,
          0.2,
          0.21000000000000002,
          0.22000000000000003,
          0.23000000000000004,
          0.24000000000000005,
          0.25000000000000006,
          0.26000000000000006,
          0.27,
          0.28,
          0.29000000000000004,
          0.30000000000000004,
          0.31000000000000005,
          0.32000000000000006,
          0.33,
          0.34,
          0.35000000000000003,
          0.36000000000000004,
          0.37000000000000005,
          0.38000000000000006,
          0.39000000000000007,
          0.4000000000000001,
          0.4100000000000001,
          0.42000000000000004,
          0.43000000000000005,
          0.44000000000000006,
          0.45000000000000007,
          0.4600000000000001,
          0.4700000000000001,
          0.4800000000000001,
          0.49000000000000005
         ],
         "y": [
          0,
          0,
          0,
          0,
          0,
          0,
          0,
          0,
          0,
          0,
          0,
          0.007475000000000787,
          0.05780588235294193,
          0.10254444444444522,
          0.14257368421052685,
          0.17860000000000054,
          0.21119523809523866,
          0.24082727272727333,
          0.2678826086956527,
          0.29268333333333385,
          0.31550000000000056,
          0.336561538461539,
          0.35606296296296347,
          0.37417142857142904,
          0.39103103448275905,
          0.4067666666666671,
          0.421487096774194,
          0.43528750000000044,
          0.4482515151515155,
          0.46045294117647095,
          0.47195714285714324,
          0.4828222222222226,
          0.49310000000000037,
          0.5028368421052636,
          0.5120743589743594,
          0.5208500000000004,
          0.5291975609756101,
          0.5371476190476194,
          0.5447279069767446,
          0.5519636363636367,
          0.558877777777778,
          0.5654913043478265,
          0.5718234042553194,
          0.5778916666666669,
          0.5837122448979595
         ]
        },
        {
         "mode": "lines",
         "name": "2 Positions",
         "type": "scatter",
         "x": [
          0.05,
          0.060000000000000005,
          0.07,
          0.08000000000000002,
          0.09000000000000001,
          0.1,
          0.11000000000000001,
          0.12000000000000001,
          0.13,
          0.14,
          0.15000000000000002,
          0.16000000000000003,
          0.17000000000000004,
          0.18000000000000005,
          0.19,
          0.2,
          0.21000000000000002,
          0.22000000000000003,
          0.23000000000000004,
          0.24000000000000005,
          0.25000000000000006,
          0.26000000000000006,
          0.27,
          0.28,
          0.29000000000000004,
          0.30000000000000004,
          0.31000000000000005,
          0.32000000000000006,
          0.33,
          0.34,
          0.35000000000000003,
          0.36000000000000004,
          0.37000000000000005,
          0.38000000000000006,
          0.39000000000000007,
          0.4000000000000001,
          0.4100000000000001,
          0.42000000000000004,
          0.43000000000000005,
          0.44000000000000006,
          0.45000000000000007,
          0.4600000000000001,
          0.4700000000000001,
          0.4800000000000001,
          0.49000000000000005
         ],
         "y": [
          0,
          0,
          0,
          0,
          0,
          0,
          0,
          0,
          0,
          0,
          0.006400000000000627,
          0.060400000000000564,
          0.10804705882353005,
          0.15040000000000064,
          0.18829473684210563,
          0.22240000000000038,
          0.2532571428571433,
          0.2813090909090913,
          0.3069217391304352,
          0.33040000000000047,
          0.3520000000000004,
          0.37193846153846194,
          0.3904000000000003,
          0.4075428571428575,
          0.4235034482758624,
          0.43840000000000034,
          0.45233548387096806,
          0.4654000000000003,
          0.4776727272727275,
          0.489223529411765,
          0.500114285714286,
          0.5104000000000003,
          0.52012972972973,
          0.5293473684210529,
          0.538092307692308,
          0.5464000000000002,
          0.5543024390243905,
          0.5618285714285717,
          0.5690046511627909,
          0.5758545454545456,
          0.5824000000000003,
          0.5886608695652176,
          0.5946553191489364,
          0.6004000000000003,
          0.6059102040816329
         ]
        },
        {
         "mode": "lines",
         "name": "2 Positions",
         "type": "scatter",
         "x": [
          0.05,
          0.060000000000000005,
          0.07,
          0.08000000000000002,
          0.09000000000000001,
          0.1,
          0.11000000000000001,
          0.12000000000000001,
          0.13,
          0.14,
          0.15000000000000002,
          0.16000000000000003,
          0.17000000000000004,
          0.18000000000000005,
          0.19,
          0.2,
          0.21000000000000002,
          0.22000000000000003,
          0.23000000000000004,
          0.24000000000000005,
          0.25000000000000006,
          0.26000000000000006,
          0.27,
          0.28,
          0.29000000000000004,
          0.30000000000000004,
          0.31000000000000005,
          0.32000000000000006,
          0.33,
          0.34,
          0.35000000000000003,
          0.36000000000000004,
          0.37000000000000005,
          0.38000000000000006,
          0.39000000000000007,
          0.4000000000000001,
          0.4100000000000001,
          0.42000000000000004,
          0.43000000000000005,
          0.44000000000000006,
          0.45000000000000007,
          0.4600000000000001,
          0.4700000000000001,
          0.4800000000000001,
          0.49000000000000005
         ],
         "y": [
          0,
          0,
          0,
          0,
          0,
          0,
          0,
          0,
          0,
          0.002500000000000502,
          0.06083333333333385,
          0.11187500000000061,
          0.15691176470588297,
          0.19694444444444503,
          0.23276315789473723,
          0.26500000000000035,
          0.294166666666667,
          0.3206818181818186,
          0.34489130434782644,
          0.36708333333333376,
          0.3875000000000004,
          0.40634615384615425,
          0.4237962962962966,
          0.4400000000000003,
          0.45508620689655205,
          0.46916666666666695,
          0.48233870967741965,
          0.49468750000000034,
          0.5062878787878791,
          0.5172058823529414,
          0.5275000000000003,
          0.5372222222222225,
          0.5464189189189192,
          0.5551315789473688,
          0.5633974358974362,
          0.5712500000000003,
          0.5787195121951222,
          0.5858333333333335,
          0.5926162790697677,
          0.5990909090909093,
          0.605277777777778,
          0.6111956521739133,
          0.6168617021276598,
          0.6222916666666669,
          0.6275000000000002
         ]
        },
        {
         "mode": "lines",
         "name": "2 Positions",
         "type": "scatter",
         "x": [
          0.05,
          0.060000000000000005,
          0.07,
          0.08000000000000002,
          0.09000000000000001,
          0.1,
          0.11000000000000001,
          0.12000000000000001,
          0.13,
          0.14,
          0.15000000000000002,
          0.16000000000000003,
          0.17000000000000004,
          0.18000000000000005,
          0.19,
          0.2,
          0.21000000000000002,
          0.22000000000000003,
          0.23000000000000004,
          0.24000000000000005,
          0.25000000000000006,
          0.26000000000000006,
          0.27,
          0.28,
          0.29000000000000004,
          0.30000000000000004,
          0.31000000000000005,
          0.32000000000000006,
          0.33,
          0.34,
          0.35000000000000003,
          0.36000000000000004,
          0.37000000000000005,
          0.38000000000000006,
          0.39000000000000007,
          0.4000000000000001,
          0.4100000000000001,
          0.42000000000000004,
          0.43000000000000005,
          0.44000000000000006,
          0.45000000000000007,
          0.4600000000000001,
          0.4700000000000001,
          0.4800000000000001,
          0.49000000000000005
         ],
         "y": [
          0,
          0,
          0,
          0,
          0,
          0,
          0,
          0,
          0,
          0.05868571428571501,
          0.11373333333333402,
          0.1619000000000007,
          0.2044000000000007,
          0.2421777777777785,
          0.27597894736842155,
          0.30640000000000045,
          0.33392380952380996,
          0.358945454545455,
          0.3817913043478266,
          0.40273333333333383,
          0.4220000000000005,
          0.4397846153846159,
          0.45625185185185224,
          0.47154285714285754,
          0.48577931034482796,
          0.49906666666666705,
          0.5114967741935488,
          0.5231500000000004,
          0.53409696969697,
          0.5444000000000003,
          0.554114285714286,
          0.5632888888888892,
          0.571967567567568,
          0.5801894736842108,
          0.5879897435897439,
          0.5954000000000004,
          0.6024487804878051,
          0.609161904761905,
          0.6155627906976747,
          0.6216727272727276,
          0.6275111111111114,
          0.6330956521739133,
          0.6384425531914897,
          0.643566666666667,
          0.6484816326530615
         ]
        },
        {
         "mode": "lines",
         "name": "2 Positions",
         "type": "scatter",
         "x": [
          0.05,
          0.060000000000000005,
          0.07,
          0.08000000000000002,
          0.09000000000000001,
          0.1,
          0.11000000000000001,
          0.12000000000000001,
          0.13,
          0.14,
          0.15000000000000002,
          0.16000000000000003,
          0.17000000000000004,
          0.18000000000000005,
          0.19,
          0.2,
          0.21000000000000002,
          0.22000000000000003,
          0.23000000000000004,
          0.24000000000000005,
          0.25000000000000006,
          0.26000000000000006,
          0.27,
          0.28,
          0.29000000000000004,
          0.30000000000000004,
          0.31000000000000005,
          0.32000000000000006,
          0.33,
          0.34,
          0.35000000000000003,
          0.36000000000000004,
          0.37000000000000005,
          0.38000000000000006,
          0.39000000000000007,
          0.4000000000000001,
          0.4100000000000001,
          0.42000000000000004,
          0.43000000000000005,
          0.44000000000000006,
          0.45000000000000007,
          0.4600000000000001,
          0.4700000000000001,
          0.4800000000000001,
          0.49000000000000005
         ],
         "y": [
          0,
          0,
          0,
          0,
          0,
          0,
          0,
          0,
          0.05340769230769338,
          0.1132428571428582,
          0.16510000000000102,
          0.21047500000000097,
          0.2505117647058833,
          0.2861000000000009,
          0.3179421052631586,
          0.3466000000000007,
          0.3725285714285721,
          0.3961000000000007,
          0.4176217391304355,
          0.4373500000000007,
          0.4555000000000007,
          0.4722538461538468,
          0.48776666666666724,
          0.5021714285714292,
          0.5155827586206903,
          0.5281000000000006,
          0.5398096774193554,
          0.5507875000000005,
          0.5611000000000005,
          0.5708058823529416,
          0.5799571428571433,
          0.5886000000000005,
          0.5967756756756761,
          0.6045210526315794,
          0.6118692307692313,
          0.6188500000000005,
          0.6254902439024395,
          0.6318142857142861,
          0.637844186046512,
          0.6436000000000004,
          0.6491000000000005,
          0.6543608695652178,
          0.6593978723404259,
          0.6642250000000004,
          0.6688551020408167
         ]
        },
        {
         "mode": "lines",
         "name": "2 Positions",
         "type": "scatter",
         "x": [
          0.05,
          0.060000000000000005,
          0.07,
          0.08000000000000002,
          0.09000000000000001,
          0.1,
          0.11000000000000001,
          0.12000000000000001,
          0.13,
          0.14,
          0.15000000000000002,
          0.16000000000000003,
          0.17000000000000004,
          0.18000000000000005,
          0.19,
          0.2,
          0.21000000000000002,
          0.22000000000000003,
          0.23000000000000004,
          0.24000000000000005,
          0.25000000000000006,
          0.26000000000000006,
          0.27,
          0.28,
          0.29000000000000004,
          0.30000000000000004,
          0.31000000000000005,
          0.32000000000000006,
          0.33,
          0.34,
          0.35000000000000003,
          0.36000000000000004,
          0.37000000000000005,
          0.38000000000000006,
          0.39000000000000007,
          0.4000000000000001,
          0.4100000000000001,
          0.42000000000000004,
          0.43000000000000005,
          0.44000000000000006,
          0.45000000000000007,
          0.4600000000000001,
          0.4700000000000001,
          0.4800000000000001,
          0.49000000000000005
         ],
         "y": [
          0,
          0,
          0,
          0,
          0,
          0,
          0,
          0.04426666666666734,
          0.10990769230769293,
          0.1661714285714292,
          0.21493333333333398,
          0.2576000000000006,
          0.29524705882353,
          0.32871111111111173,
          0.3586526315789478,
          0.3856000000000004,
          0.4099809523809528,
          0.43214545454545494,
          0.4523826086956526,
          0.47093333333333376,
          0.48800000000000043,
          0.5037538461538466,
          0.518340740740741,
          0.5318857142857146,
          0.5444965517241382,
          0.556266666666667,
          0.5672774193548391,
          0.5776000000000003,
          0.58729696969697,
          0.596423529411765,
          0.6050285714285717,
          0.6131555555555559,
          0.6208432432432436,
          0.628126315789474,
          0.6350358974358977,
          0.6416000000000003,
          0.6478439024390247,
          0.6537904761904765,
          0.6594604651162793,
          0.6648727272727275,
          0.6700444444444447,
          0.6749913043478264,
          0.6797276595744683,
          0.6842666666666669,
          0.6886204081632655
         ]
        },
        {
         "mode": "lines",
         "name": "2 Positions",
         "type": "scatter",
         "x": [
          0.05,
          0.060000000000000005,
          0.07,
          0.08000000000000002,
          0.09000000000000001,
          0.1,
          0.11000000000000001,
          0.12000000000000001,
          0.13,
          0.14,
          0.15000000000000002,
          0.16000000000000003,
          0.17000000000000004,
          0.18000000000000005,
          0.19,
          0.2,
          0.21000000000000002,
          0.22000000000000003,
          0.23000000000000004,
          0.24000000000000005,
          0.25000000000000006,
          0.26000000000000006,
          0.27,
          0.28,
          0.29000000000000004,
          0.30000000000000004,
          0.31000000000000005,
          0.32000000000000006,
          0.33,
          0.34,
          0.35000000000000003,
          0.36000000000000004,
          0.37000000000000005,
          0.38000000000000006,
          0.39000000000000007,
          0.4000000000000001,
          0.4100000000000001,
          0.42000000000000004,
          0.43000000000000005,
          0.44000000000000006,
          0.45000000000000007,
          0.4600000000000001,
          0.4700000000000001,
          0.4800000000000001,
          0.49000000000000005
         ],
         "y": [
          0,
          0,
          0,
          0,
          0,
          0,
          0.030263636363637936,
          0.10306666666666808,
          0.16466923076923212,
          0.21747142857142987,
          0.26323333333333454,
          0.3032750000000012,
          0.3386058823529423,
          0.3700111111111122,
          0.39811052631579036,
          0.4234000000000009,
          0.4462809523809533,
          0.46708181818181904,
          0.48607391304347913,
          0.5034833333333342,
          0.5195000000000008,
          0.5342846153846161,
          0.5479740740740748,
          0.560685714285715,
          0.5725206896551731,
          0.5835666666666673,
          0.5939000000000008,
          0.6035875000000006,
          0.6126878787878793,
          0.6212529411764711,
          0.629328571428572,
          0.6369555555555562,
          0.6441702702702709,
          0.6510052631578953,
          0.6574897435897442,
          0.6636500000000005,
          0.6695097560975616,
          0.6750904761904767,
          0.6804116279069773,
          0.6854909090909096,
          0.690344444444445,
          0.6949869565217397,
          0.6994319148936176,
          0.7036916666666672,
          0.7077775510204086
         ]
        },
        {
         "mode": "lines",
         "name": "2 Positions",
         "type": "scatter",
         "x": [
          0.05,
          0.060000000000000005,
          0.07,
          0.08000000000000002,
          0.09000000000000001,
          0.1,
          0.11000000000000001,
          0.12000000000000001,
          0.13,
          0.14,
          0.15000000000000002,
          0.16000000000000003,
          0.17000000000000004,
          0.18000000000000005,
          0.19,
          0.2,
          0.21000000000000002,
          0.22000000000000003,
          0.23000000000000004,
          0.24000000000000005,
          0.25000000000000006,
          0.26000000000000006,
          0.27,
          0.28,
          0.29000000000000004,
          0.30000000000000004,
          0.31000000000000005,
          0.32000000000000006,
          0.33,
          0.34,
          0.35000000000000003,
          0.36000000000000004,
          0.37000000000000005,
          0.38000000000000006,
          0.39000000000000007,
          0.4000000000000001,
          0.4100000000000001,
          0.42000000000000004,
          0.43000000000000005,
          0.44000000000000006,
          0.45000000000000007,
          0.4600000000000001,
          0.4700000000000001,
          0.4800000000000001,
          0.49000000000000005
         ],
         "y": [
          0,
          0,
          0,
          0,
          0,
          0.010000000000001563,
          0.09181818181818335,
          0.16000000000000136,
          0.21769230769230896,
          0.26714285714285835,
          0.31000000000000116,
          0.34750000000000114,
          0.3805882352941188,
          0.4100000000000011,
          0.4363157894736851,
          0.46000000000000085,
          0.48142857142857226,
          0.5009090909090917,
          0.5186956521739139,
          0.5350000000000008,
          0.5500000000000007,
          0.5638461538461546,
          0.5766666666666673,
          0.5885714285714292,
          0.5996551724137937,
          0.6100000000000007,
          0.6196774193548393,
          0.6287500000000006,
          0.6372727272727279,
          0.6452941176470595,
          0.6528571428571435,
          0.6600000000000006,
          0.6667567567567574,
          0.6731578947368426,
          0.6792307692307697,
          0.6850000000000005,
          0.6904878048780493,
          0.6957142857142862,
          0.7006976744186051,
          0.705454545454546,
          0.7100000000000005,
          0.714347826086957,
          0.7185106382978728,
          0.7225000000000005,
          0.7263265306122453
         ]
        },
        {
         "mode": "lines",
         "name": "2 Positions",
         "type": "scatter",
         "x": [
          0.05,
          0.060000000000000005,
          0.07,
          0.08000000000000002,
          0.09000000000000001,
          0.1,
          0.11000000000000001,
          0.12000000000000001,
          0.13,
          0.14,
          0.15000000000000002,
          0.16000000000000003,
          0.17000000000000004,
          0.18000000000000005,
          0.19,
          0.2,
          0.21000000000000002,
          0.22000000000000003,
          0.23000000000000004,
          0.24000000000000005,
          0.25000000000000006,
          0.26000000000000006,
          0.27,
          0.28,
          0.29000000000000004,
          0.30000000000000004,
          0.31000000000000005,
          0.32000000000000006,
          0.33,
          0.34,
          0.35000000000000003,
          0.36000000000000004,
          0.37000000000000005,
          0.38000000000000006,
          0.39000000000000007,
          0.4000000000000001,
          0.4100000000000001,
          0.42000000000000004,
          0.43000000000000005,
          0.44000000000000006,
          0.45000000000000007,
          0.4600000000000001,
          0.4700000000000001,
          0.4800000000000001,
          0.49000000000000005
         ],
         "y": [
          0,
          0,
          0,
          0,
          0,
          0.07490000000000174,
          0.15135454545454718,
          0.21506666666666818,
          0.26897692307692445,
          0.3151857142857156,
          0.3552333333333346,
          0.39027500000000126,
          0.42119411764706005,
          0.44867777777777895,
          0.47326842105263256,
          0.49540000000000095,
          0.5154238095238104,
          0.5336272727272737,
          0.5502478260869574,
          0.5654833333333342,
          0.5795000000000008,
          0.5924384615384624,
          0.6044185185185194,
          0.6155428571428578,
          0.6259000000000008,
          0.6355666666666674,
          0.6446096774193555,
          0.6530875000000007,
          0.6610515151515157,
          0.66854705882353,
          0.6756142857142864,
          0.6822888888888895,
          0.6886027027027033,
          0.6945842105263164,
          0.700258974358975,
          0.7056500000000006,
          0.7107780487804884,
          0.7156619047619053,
          0.7203186046511634,
          0.7247636363636369,
          0.7290111111111116,
          0.7330739130434788,
          0.7369638297872345,
          0.7406916666666672,
          0.7442673469387759
         ]
        },
        {
         "mode": "lines",
         "name": "2 Positions",
         "type": "scatter",
         "x": [
          0.05,
          0.060000000000000005,
          0.07,
          0.08000000000000002,
          0.09000000000000001,
          0.1,
          0.11000000000000001,
          0.12000000000000001,
          0.13,
          0.14,
          0.15000000000000002,
          0.16000000000000003,
          0.17000000000000004,
          0.18000000000000005,
          0.19,
          0.2,
          0.21000000000000002,
          0.22000000000000003,
          0.23000000000000004,
          0.24000000000000005,
          0.25000000000000006,
          0.26000000000000006,
          0.27,
          0.28,
          0.29000000000000004,
          0.30000000000000004,
          0.31000000000000005,
          0.32000000000000006,
          0.33,
          0.34,
          0.35000000000000003,
          0.36000000000000004,
          0.37000000000000005,
          0.38000000000000006,
          0.39000000000000007,
          0.4000000000000001,
          0.4100000000000001,
          0.42000000000000004,
          0.43000000000000005,
          0.44000000000000006,
          0.45000000000000007,
          0.4600000000000001,
          0.4700000000000001,
          0.4800000000000001,
          0.49000000000000005
         ],
         "y": [
          0,
          0,
          0,
          0,
          0.05048888888889003,
          0.13760000000000094,
          0.2088727272727282,
          0.26826666666666754,
          0.3185230769230777,
          0.3616000000000007,
          0.39893333333333403,
          0.4316000000000007,
          0.4604235294117654,
          0.4860444444444451,
          0.5089684210526322,
          0.5296000000000005,
          0.5482666666666671,
          0.5652363636363642,
          0.5807304347826092,
          0.5949333333333338,
          0.6080000000000005,
          0.6200615384615389,
          0.63122962962963,
          0.6416000000000004,
          0.6512551724137935,
          0.660266666666667,
          0.6686967741935488,
          0.6766000000000004,
          0.6840242424242428,
          0.6910117647058827,
          0.6976000000000003,
          0.7038222222222226,
          0.7097081081081085,
          0.7152842105263162,
          0.7205743589743593,
          0.7256000000000004,
          0.7303804878048784,
          0.7349333333333337,
          0.7392744186046515,
          0.7434181818181821,
          0.7473777777777781,
          0.7511652173913046,
          0.7547914893617025,
          0.758266666666667,
          0.7616000000000003
         ]
        },
        {
         "mode": "lines",
         "name": "2 Positions",
         "type": "scatter",
         "x": [
          0.05,
          0.060000000000000005,
          0.07,
          0.08000000000000002,
          0.09000000000000001,
          0.1,
          0.11000000000000001,
          0.12000000000000001,
          0.13,
          0.14,
          0.15000000000000002,
          0.16000000000000003,
          0.17000000000000004,
          0.18000000000000005,
          0.19,
          0.2,
          0.21000000000000002,
          0.22000000000000003,
          0.23000000000000004,
          0.24000000000000005,
          0.25000000000000006,
          0.26000000000000006,
          0.27,
          0.28,
          0.29000000000000004,
          0.30000000000000004,
          0.31000000000000005,
          0.32000000000000006,
          0.33,
          0.34,
          0.35000000000000003,
          0.36000000000000004,
          0.37000000000000005,
          0.38000000000000006,
          0.39000000000000007,
          0.4000000000000001,
          0.4100000000000001,
          0.42000000000000004,
          0.43000000000000005,
          0.44000000000000006,
          0.45000000000000007,
          0.4600000000000001,
          0.4700000000000001,
          0.4800000000000001,
          0.49000000000000005
         ],
         "y": [
          0,
          0,
          0,
          0.01585000000000214,
          0.11710000000000187,
          0.1981000000000016,
          0.26437272727272887,
          0.31960000000000144,
          0.36633076923077057,
          0.40638571428571557,
          0.4411000000000012,
          0.47147500000000114,
          0.4982764705882364,
          0.5221000000000011,
          0.5434157894736851,
          0.5626000000000009,
          0.5799571428571437,
          0.5957363636363645,
          0.6101434782608703,
          0.6233500000000007,
          0.6355000000000008,
          0.6467153846153855,
          0.6571000000000007,
          0.6667428571428579,
          0.6757206896551731,
          0.6841000000000007,
          0.69193870967742,
          0.6992875000000006,
          0.7061909090909098,
          0.7126882352941182,
          0.7188142857142863,
          0.7246000000000006,
          0.7300729729729736,
          0.7352578947368427,
          0.7401769230769236,
          0.7448500000000006,
          0.7492951219512201,
          0.753528571428572,
          0.7575651162790703,
          0.7614181818181823,
          0.7651000000000006,
          0.7686217391304353,
          0.7719936170212771,
          0.7752250000000005,
          0.7783244897959188
         ]
        },
        {
         "mode": "lines",
         "name": "2 Positions",
         "type": "scatter",
         "x": [
          0.05,
          0.060000000000000005,
          0.07,
          0.08000000000000002,
          0.09000000000000001,
          0.1,
          0.11000000000000001,
          0.12000000000000001,
          0.13,
          0.14,
          0.15000000000000002,
          0.16000000000000003,
          0.17000000000000004,
          0.18000000000000005,
          0.19,
          0.2,
          0.21000000000000002,
          0.22000000000000003,
          0.23000000000000004,
          0.24000000000000005,
          0.25000000000000006,
          0.26000000000000006,
          0.27,
          0.28,
          0.29000000000000004,
          0.30000000000000004,
          0.31000000000000005,
          0.32000000000000006,
          0.33,
          0.34,
          0.35000000000000003,
          0.36000000000000004,
          0.37000000000000005,
          0.38000000000000006,
          0.39000000000000007,
          0.4000000000000001,
          0.4100000000000001,
          0.42000000000000004,
          0.43000000000000005,
          0.44000000000000006,
          0.45000000000000007,
          0.4600000000000001,
          0.4700000000000001,
          0.4800000000000001,
          0.49000000000000005
         ],
         "y": [
          0,
          0,
          0,
          0.0874000000000017,
          0.1812888888888904,
          0.2564000000000013,
          0.3178545454545467,
          0.36906666666666776,
          0.412400000000001,
          0.44954285714285813,
          0.4817333333333343,
          0.5099000000000009,
          0.5347529411764715,
          0.5568444444444454,
          0.5766105263157902,
          0.5944000000000007,
          0.6104952380952389,
          0.6251272727272734,
          0.6384869565217398,
          0.650733333333334,
          0.6620000000000006,
          0.6724000000000006,
          0.6820296296296302,
          0.6909714285714291,
          0.6992965517241385,
          0.7070666666666672,
          0.7143354838709682,
          0.7211500000000005,
          0.7275515151515156,
          0.7335764705882357,
          0.7392571428571433,
          0.7446222222222227,
          0.7496972972972977,
          0.7545052631578952,
          0.7590666666666671,
          0.7634000000000004,
          0.7675219512195126,
          0.7714476190476195,
          0.775190697674419,
          0.7787636363636368,
          0.7821777777777782,
          0.7854434782608699,
          0.7885702127659578,
          0.7915666666666671,
          0.794440816326531
         ]
        },
        {
         "mode": "lines",
         "name": "2 Positions",
         "type": "scatter",
         "x": [
          0.05,
          0.060000000000000005,
          0.07,
          0.08000000000000002,
          0.09000000000000001,
          0.1,
          0.11000000000000001,
          0.12000000000000001,
          0.13,
          0.14,
          0.15000000000000002,
          0.16000000000000003,
          0.17000000000000004,
          0.18000000000000005,
          0.19,
          0.2,
          0.21000000000000002,
          0.22000000000000003,
          0.23000000000000004,
          0.24000000000000005,
          0.25000000000000006,
          0.26000000000000006,
          0.27,
          0.28,
          0.29000000000000004,
          0.30000000000000004,
          0.31000000000000005,
          0.32000000000000006,
          0.33,
          0.34,
          0.35000000000000003,
          0.36000000000000004,
          0.37000000000000005,
          0.38000000000000006,
          0.39000000000000007,
          0.4000000000000001,
          0.4100000000000001,
          0.42000000000000004,
          0.43000000000000005,
          0.44000000000000006,
          0.45000000000000007,
          0.4600000000000001,
          0.4700000000000001,
          0.4800000000000001,
          0.49000000000000005
         ],
         "y": [
          0,
          0,
          0.04464285714285887,
          0.15625000000000167,
          0.24305555555555702,
          0.3125000000000012,
          0.369318181818183,
          0.41666666666666774,
          0.4567307692307702,
          0.4910714285714295,
          0.5208333333333343,
          0.5468750000000009,
          0.5698529411764715,
          0.5902777777777786,
          0.608552631578948,
          0.6250000000000007,
          0.639880952380953,
          0.6534090909090915,
          0.665760869565218,
          0.6770833333333339,
          0.6875000000000007,
          0.6971153846153852,
          0.706018518518519,
          0.7142857142857149,
          0.7219827586206902,
          0.7291666666666672,
          0.7358870967741941,
          0.7421875000000004,
          0.748106060606061,
          0.7536764705882357,
          0.7589285714285718,
          0.7638888888888893,
          0.7685810810810815,
          0.7730263157894741,
          0.7772435897435902,
          0.7812500000000004,
          0.7850609756097565,
          0.7886904761904766,
          0.7921511627906981,
          0.7954545454545459,
          0.7986111111111115,
          0.8016304347826091,
          0.804521276595745,
          0.8072916666666671,
          0.8099489795918371
         ]
        },
        {
         "mode": "lines",
         "name": "2 Positions",
         "type": "scatter",
         "x": [
          0.05,
          0.060000000000000005,
          0.07,
          0.08000000000000002,
          0.09000000000000001,
          0.1,
          0.11000000000000001,
          0.12000000000000001,
          0.13,
          0.14,
          0.15000000000000002,
          0.16000000000000003,
          0.17000000000000004,
          0.18000000000000005,
          0.19,
          0.2,
          0.21000000000000002,
          0.22000000000000003,
          0.23000000000000004,
          0.24000000000000005,
          0.25000000000000006,
          0.26000000000000006,
          0.27,
          0.28,
          0.29000000000000004,
          0.30000000000000004,
          0.31000000000000005,
          0.32000000000000006,
          0.33,
          0.34,
          0.35000000000000003,
          0.36000000000000004,
          0.37000000000000005,
          0.38000000000000006,
          0.39000000000000007,
          0.4000000000000001,
          0.4100000000000001,
          0.42000000000000004,
          0.43000000000000005,
          0.44000000000000006,
          0.45000000000000007,
          0.4600000000000001,
          0.4700000000000001,
          0.4800000000000001,
          0.49000000000000005
         ],
         "y": [
          0,
          0,
          0.11954285714285917,
          0.22240000000000182,
          0.30240000000000156,
          0.3664000000000014,
          0.41876363636363767,
          0.4624000000000012,
          0.49932307692307804,
          0.5309714285714296,
          0.558400000000001,
          0.5824000000000009,
          0.6035764705882363,
          0.622400000000001,
          0.6392421052631587,
          0.6544000000000008,
          0.6681142857142865,
          0.6805818181818188,
          0.6919652173913051,
          0.7024000000000007,
          0.7120000000000006,
          0.7208615384615391,
          0.7290666666666673,
          0.7366857142857148,
          0.7437793103448281,
          0.7504000000000006,
          0.7565935483870974,
          0.7624000000000005,
          0.767854545454546,
          0.7729882352941182,
          0.777828571428572,
          0.7824000000000004,
          0.7867243243243248,
          0.7908210526315794,
          0.7947076923076928,
          0.7984000000000004,
          0.8019121951219517,
          0.8052571428571433,
          0.8084465116279074,
          0.8114909090909095,
          0.8144000000000005,
          0.8171826086956526,
          0.8198468085106387,
          0.8224000000000005,
          0.8248489795918371
         ]
        }
       ],
       "layout": {
        "annotations": [
         {
          "showarrow": false,
          "text": "10% Allocation Threshold",
          "x": 1,
          "xanchor": "right",
          "xref": "x domain",
          "y": 0.1,
          "yanchor": "bottom",
          "yref": "y"
         }
        ],
        "autosize": true,
        "font": {
         "color": "RebeccaPurple",
         "size": 12
        },
        "legend": {
         "title": {
          "text": "Number of Positions"
         }
        },
        "shapes": [
         {
          "line": {
           "color": "red",
           "dash": "dash"
          },
          "type": "line",
          "x0": 0,
          "x1": 1,
          "xref": "x domain",
          "y0": 0.1,
          "y1": 0.1,
          "yref": "y"
         }
        ],
        "template": {
         "data": {
          "bar": [
           {
            "error_x": {
             "color": "#2a3f5f"
            },
            "error_y": {
             "color": "#2a3f5f"
            },
            "marker": {
             "line": {
              "color": "#E5ECF6",
              "width": 0.5
             },
             "pattern": {
              "fillmode": "overlay",
              "size": 10,
              "solidity": 0.2
             }
            },
            "type": "bar"
           }
          ],
          "barpolar": [
           {
            "marker": {
             "line": {
              "color": "#E5ECF6",
              "width": 0.5
             },
             "pattern": {
              "fillmode": "overlay",
              "size": 10,
              "solidity": 0.2
             }
            },
            "type": "barpolar"
           }
          ],
          "carpet": [
           {
            "aaxis": {
             "endlinecolor": "#2a3f5f",
             "gridcolor": "white",
             "linecolor": "white",
             "minorgridcolor": "white",
             "startlinecolor": "#2a3f5f"
            },
            "baxis": {
             "endlinecolor": "#2a3f5f",
             "gridcolor": "white",
             "linecolor": "white",
             "minorgridcolor": "white",
             "startlinecolor": "#2a3f5f"
            },
            "type": "carpet"
           }
          ],
          "choropleth": [
           {
            "colorbar": {
             "outlinewidth": 0,
             "ticks": ""
            },
            "type": "choropleth"
           }
          ],
          "contour": [
           {
            "colorbar": {
             "outlinewidth": 0,
             "ticks": ""
            },
            "colorscale": [
             [
              0,
              "#0d0887"
             ],
             [
              0.1111111111111111,
              "#46039f"
             ],
             [
              0.2222222222222222,
              "#7201a8"
             ],
             [
              0.3333333333333333,
              "#9c179e"
             ],
             [
              0.4444444444444444,
              "#bd3786"
             ],
             [
              0.5555555555555556,
              "#d8576b"
             ],
             [
              0.6666666666666666,
              "#ed7953"
             ],
             [
              0.7777777777777778,
              "#fb9f3a"
             ],
             [
              0.8888888888888888,
              "#fdca26"
             ],
             [
              1,
              "#f0f921"
             ]
            ],
            "type": "contour"
           }
          ],
          "contourcarpet": [
           {
            "colorbar": {
             "outlinewidth": 0,
             "ticks": ""
            },
            "type": "contourcarpet"
           }
          ],
          "heatmap": [
           {
            "colorbar": {
             "outlinewidth": 0,
             "ticks": ""
            },
            "colorscale": [
             [
              0,
              "#0d0887"
             ],
             [
              0.1111111111111111,
              "#46039f"
             ],
             [
              0.2222222222222222,
              "#7201a8"
             ],
             [
              0.3333333333333333,
              "#9c179e"
             ],
             [
              0.4444444444444444,
              "#bd3786"
             ],
             [
              0.5555555555555556,
              "#d8576b"
             ],
             [
              0.6666666666666666,
              "#ed7953"
             ],
             [
              0.7777777777777778,
              "#fb9f3a"
             ],
             [
              0.8888888888888888,
              "#fdca26"
             ],
             [
              1,
              "#f0f921"
             ]
            ],
            "type": "heatmap"
           }
          ],
          "heatmapgl": [
           {
            "colorbar": {
             "outlinewidth": 0,
             "ticks": ""
            },
            "colorscale": [
             [
              0,
              "#0d0887"
             ],
             [
              0.1111111111111111,
              "#46039f"
             ],
             [
              0.2222222222222222,
              "#7201a8"
             ],
             [
              0.3333333333333333,
              "#9c179e"
             ],
             [
              0.4444444444444444,
              "#bd3786"
             ],
             [
              0.5555555555555556,
              "#d8576b"
             ],
             [
              0.6666666666666666,
              "#ed7953"
             ],
             [
              0.7777777777777778,
              "#fb9f3a"
             ],
             [
              0.8888888888888888,
              "#fdca26"
             ],
             [
              1,
              "#f0f921"
             ]
            ],
            "type": "heatmapgl"
           }
          ],
          "histogram": [
           {
            "marker": {
             "pattern": {
              "fillmode": "overlay",
              "size": 10,
              "solidity": 0.2
             }
            },
            "type": "histogram"
           }
          ],
          "histogram2d": [
           {
            "colorbar": {
             "outlinewidth": 0,
             "ticks": ""
            },
            "colorscale": [
             [
              0,
              "#0d0887"
             ],
             [
              0.1111111111111111,
              "#46039f"
             ],
             [
              0.2222222222222222,
              "#7201a8"
             ],
             [
              0.3333333333333333,
              "#9c179e"
             ],
             [
              0.4444444444444444,
              "#bd3786"
             ],
             [
              0.5555555555555556,
              "#d8576b"
             ],
             [
              0.6666666666666666,
              "#ed7953"
             ],
             [
              0.7777777777777778,
              "#fb9f3a"
             ],
             [
              0.8888888888888888,
              "#fdca26"
             ],
             [
              1,
              "#f0f921"
             ]
            ],
            "type": "histogram2d"
           }
          ],
          "histogram2dcontour": [
           {
            "colorbar": {
             "outlinewidth": 0,
             "ticks": ""
            },
            "colorscale": [
             [
              0,
              "#0d0887"
             ],
             [
              0.1111111111111111,
              "#46039f"
             ],
             [
              0.2222222222222222,
              "#7201a8"
             ],
             [
              0.3333333333333333,
              "#9c179e"
             ],
             [
              0.4444444444444444,
              "#bd3786"
             ],
             [
              0.5555555555555556,
              "#d8576b"
             ],
             [
              0.6666666666666666,
              "#ed7953"
             ],
             [
              0.7777777777777778,
              "#fb9f3a"
             ],
             [
              0.8888888888888888,
              "#fdca26"
             ],
             [
              1,
              "#f0f921"
             ]
            ],
            "type": "histogram2dcontour"
           }
          ],
          "mesh3d": [
           {
            "colorbar": {
             "outlinewidth": 0,
             "ticks": ""
            },
            "type": "mesh3d"
           }
          ],
          "parcoords": [
           {
            "line": {
             "colorbar": {
              "outlinewidth": 0,
              "ticks": ""
             }
            },
            "type": "parcoords"
           }
          ],
          "pie": [
           {
            "automargin": true,
            "type": "pie"
           }
          ],
          "scatter": [
           {
            "marker": {
             "colorbar": {
              "outlinewidth": 0,
              "ticks": ""
             }
            },
            "type": "scatter"
           }
          ],
          "scatter3d": [
           {
            "line": {
             "colorbar": {
              "outlinewidth": 0,
              "ticks": ""
             }
            },
            "marker": {
             "colorbar": {
              "outlinewidth": 0,
              "ticks": ""
             }
            },
            "type": "scatter3d"
           }
          ],
          "scattercarpet": [
           {
            "marker": {
             "colorbar": {
              "outlinewidth": 0,
              "ticks": ""
             }
            },
            "type": "scattercarpet"
           }
          ],
          "scattergeo": [
           {
            "marker": {
             "colorbar": {
              "outlinewidth": 0,
              "ticks": ""
             }
            },
            "type": "scattergeo"
           }
          ],
          "scattergl": [
           {
            "marker": {
             "colorbar": {
              "outlinewidth": 0,
              "ticks": ""
             }
            },
            "type": "scattergl"
           }
          ],
          "scattermapbox": [
           {
            "marker": {
             "colorbar": {
              "outlinewidth": 0,
              "ticks": ""
             }
            },
            "type": "scattermapbox"
           }
          ],
          "scatterpolar": [
           {
            "marker": {
             "colorbar": {
              "outlinewidth": 0,
              "ticks": ""
             }
            },
            "type": "scatterpolar"
           }
          ],
          "scatterpolargl": [
           {
            "marker": {
             "colorbar": {
              "outlinewidth": 0,
              "ticks": ""
             }
            },
            "type": "scatterpolargl"
           }
          ],
          "scatterternary": [
           {
            "marker": {
             "colorbar": {
              "outlinewidth": 0,
              "ticks": ""
             }
            },
            "type": "scatterternary"
           }
          ],
          "surface": [
           {
            "colorbar": {
             "outlinewidth": 0,
             "ticks": ""
            },
            "colorscale": [
             [
              0,
              "#0d0887"
             ],
             [
              0.1111111111111111,
              "#46039f"
             ],
             [
              0.2222222222222222,
              "#7201a8"
             ],
             [
              0.3333333333333333,
              "#9c179e"
             ],
             [
              0.4444444444444444,
              "#bd3786"
             ],
             [
              0.5555555555555556,
              "#d8576b"
             ],
             [
              0.6666666666666666,
              "#ed7953"
             ],
             [
              0.7777777777777778,
              "#fb9f3a"
             ],
             [
              0.8888888888888888,
              "#fdca26"
             ],
             [
              1,
              "#f0f921"
             ]
            ],
            "type": "surface"
           }
          ],
          "table": [
           {
            "cells": {
             "fill": {
              "color": "#EBF0F8"
             },
             "line": {
              "color": "white"
             }
            },
            "header": {
             "fill": {
              "color": "#C8D4E3"
             },
             "line": {
              "color": "white"
             }
            },
            "type": "table"
           }
          ]
         },
         "layout": {
          "annotationdefaults": {
           "arrowcolor": "#2a3f5f",
           "arrowhead": 0,
           "arrowwidth": 1
          },
          "autotypenumbers": "strict",
          "coloraxis": {
           "colorbar": {
            "outlinewidth": 0,
            "ticks": ""
           }
          },
          "colorscale": {
           "diverging": [
            [
             0,
             "#8e0152"
            ],
            [
             0.1,
             "#c51b7d"
            ],
            [
             0.2,
             "#de77ae"
            ],
            [
             0.3,
             "#f1b6da"
            ],
            [
             0.4,
             "#fde0ef"
            ],
            [
             0.5,
             "#f7f7f7"
            ],
            [
             0.6,
             "#e6f5d0"
            ],
            [
             0.7,
             "#b8e186"
            ],
            [
             0.8,
             "#7fbc41"
            ],
            [
             0.9,
             "#4d9221"
            ],
            [
             1,
             "#276419"
            ]
           ],
           "sequential": [
            [
             0,
             "#0d0887"
            ],
            [
             0.1111111111111111,
             "#46039f"
            ],
            [
             0.2222222222222222,
             "#7201a8"
            ],
            [
             0.3333333333333333,
             "#9c179e"
            ],
            [
             0.4444444444444444,
             "#bd3786"
            ],
            [
             0.5555555555555556,
             "#d8576b"
            ],
            [
             0.6666666666666666,
             "#ed7953"
            ],
            [
             0.7777777777777778,
             "#fb9f3a"
            ],
            [
             0.8888888888888888,
             "#fdca26"
            ],
            [
             1,
             "#f0f921"
            ]
           ],
           "sequentialminus": [
            [
             0,
             "#0d0887"
            ],
            [
             0.1111111111111111,
             "#46039f"
            ],
            [
             0.2222222222222222,
             "#7201a8"
            ],
            [
             0.3333333333333333,
             "#9c179e"
            ],
            [
             0.4444444444444444,
             "#bd3786"
            ],
            [
             0.5555555555555556,
             "#d8576b"
            ],
            [
             0.6666666666666666,
             "#ed7953"
            ],
            [
             0.7777777777777778,
             "#fb9f3a"
            ],
            [
             0.8888888888888888,
             "#fdca26"
            ],
            [
             1,
             "#f0f921"
            ]
           ]
          },
          "colorway": [
           "#636efa",
           "#EF553B",
           "#00cc96",
           "#ab63fa",
           "#FFA15A",
           "#19d3f3",
           "#FF6692",
           "#B6E880",
           "#FF97FF",
           "#FECB52"
          ],
          "font": {
           "color": "#2a3f5f"
          },
          "geo": {
           "bgcolor": "white",
           "lakecolor": "white",
           "landcolor": "#E5ECF6",
           "showlakes": true,
           "showland": true,
           "subunitcolor": "white"
          },
          "hoverlabel": {
           "align": "left"
          },
          "hovermode": "closest",
          "mapbox": {
           "style": "light"
          },
          "paper_bgcolor": "white",
          "plot_bgcolor": "#E5ECF6",
          "polar": {
           "angularaxis": {
            "gridcolor": "white",
            "linecolor": "white",
            "ticks": ""
           },
           "bgcolor": "#E5ECF6",
           "radialaxis": {
            "gridcolor": "white",
            "linecolor": "white",
            "ticks": ""
           }
          },
          "scene": {
           "xaxis": {
            "backgroundcolor": "#E5ECF6",
            "gridcolor": "white",
            "gridwidth": 2,
            "linecolor": "white",
            "showbackground": true,
            "ticks": "",
            "zerolinecolor": "white"
           },
           "yaxis": {
            "backgroundcolor": "#E5ECF6",
            "gridcolor": "white",
            "gridwidth": 2,
            "linecolor": "white",
            "showbackground": true,
            "ticks": "",
            "zerolinecolor": "white"
           },
           "zaxis": {
            "backgroundcolor": "#E5ECF6",
            "gridcolor": "white",
            "gridwidth": 2,
            "linecolor": "white",
            "showbackground": true,
            "ticks": "",
            "zerolinecolor": "white"
           }
          },
          "shapedefaults": {
           "line": {
            "color": "#2a3f5f"
           }
          },
          "ternary": {
           "aaxis": {
            "gridcolor": "white",
            "linecolor": "white",
            "ticks": ""
           },
           "baxis": {
            "gridcolor": "white",
            "linecolor": "white",
            "ticks": ""
           },
           "bgcolor": "#E5ECF6",
           "caxis": {
            "gridcolor": "white",
            "linecolor": "white",
            "ticks": ""
           }
          },
          "title": {
           "x": 0.05
          },
          "xaxis": {
           "automargin": true,
           "gridcolor": "white",
           "linecolor": "white",
           "ticks": "",
           "title": {
            "standoff": 15
           },
           "zerolinecolor": "white",
           "zerolinewidth": 2
          },
          "yaxis": {
           "automargin": true,
           "gridcolor": "white",
           "linecolor": "white",
           "ticks": "",
           "title": {
            "standoff": 15
           },
           "zerolinecolor": "white",
           "zerolinewidth": 2
          }
         }
        },
        "title": {
         "text": "Risk vs Reward"
        },
        "xaxis": {
         "autorange": true,
         "range": [
          0.05,
          0.49000000000000005
         ],
         "title": {
          "text": "Expected returns"
         },
         "type": "linear"
        },
        "yaxis": {
         "autorange": true,
         "range": [
          -0.04582494331065762,
          0.8706739229024947
         ],
         "title": {
          "text": "Fraction of Total Capital Invested"
         },
         "type": "linear"
        }
       }
      },
      "image/png": "[encoded data removed]",
      "text/html": [
       "<div>                            <div id=\"f40dedb0-fd76-4f33-90d9-7f67d7e00716\" class=\"plotly-graph-div\" style=\"height:525px; width:100%;\"></div>            <script type=\"text/javascript\">                require([\"plotly\"], function(Plotly) {                    window.PLOTLYENV=window.PLOTLYENV || {};                                    if (document.getElementById(\"f40dedb0-fd76-4f33-90d9-7f67d7e00716\")) {                    Plotly.newPlot(                        \"f40dedb0-fd76-4f33-90d9-7f67d7e00716\",                        [{\"mode\":\"lines\",\"name\":\"2 Positions\",\"type\":\"scatter\",\"x\":[0.05,0.060000000000000005,0.07,0.08000000000000002,0.09000000000000001,0.1,0.11000000000000001,0.12000000000000001,0.13,0.14,0.15000000000000002,0.16000000000000003,0.17000000000000004,0.18000000000000005,0.19,0.2,0.21000000000000002,0.22000000000000003,0.23000000000000004,0.24000000000000005,0.25000000000000006,0.26000000000000006,0.27,0.28,0.29000000000000004,0.30000000000000004,0.31000000000000005,0.32000000000000006,0.33,0.34,0.35000000000000003,0.36000000000000004,0.37000000000000005,0.38000000000000006,0.39000000000000007,0.4000000000000001,0.4100000000000001,0.42000000000000004,0.43000000000000005,0.44000000000000006,0.45000000000000007,0.4600000000000001,0.4700000000000001,0.4800000000000001,0.49000000000000005],\"y\":[0.0,0.0,0.0,0.0,0.0,0.0,0.0,0.0,0.0,0.0,0.0,0.0,0.0,0.0,0.0,0.0,0.0,0.0,0.0,0.0,0.0,0.0,0.0,0.0,0.0,0.0,0.0,0.0,0.0,0.0,0.0,0.0,0.0,0.0,0.0,0.0,0.0,0.0,0.0,0.0,0.0,0.004660869565217163,0.01916595744680827,0.03306666666666647,0.046399999999999775]},{\"mode\":\"lines\",\"name\":\"2 Positions\",\"type\":\"scatter\",\"x\":[0.05,0.060000000000000005,0.07,0.08000000000000002,0.09000000000000001,0.1,0.11000000000000001,0.12000000000000001,0.13,0.14,0.15000000000000002,0.16000000000000003,0.17000000000000004,0.18000000000000005,0.19,0.2,0.21000000000000002,0.22000000000000003,0.23000000000000004,0.24000000000000005,0.25000000000000006,0.26000000000000006,0.27,0.28,0.29000000000000004,0.30000000000000004,0.31000000000000005,0.32000000000000006,0.33,0.34,0.35000000000000003,0.36000000000000004,0.37000000000000005,0.38000000000000006,0.39000000000000007,0.4000000000000001,0.4100000000000001,0.42000000000000004,0.43000000000000005,0.44000000000000006,0.45000000000000007,0.4600000000000001,0.4700000000000001,0.4800000000000001,0.49000000000000005],\"y\":[0.0,0.0,0.0,0.0,0.0,0.0,0.0,0.0,0.0,0.0,0.0,0.0,0.0,0.0,0.0,0.0,0.0,0.0,0.0,0.0,0.0,0.0,0.0,0.0,0.0,0.0,0.0,0.0,0.0,0.0,0.0,0.0,0.0,0.0,0.0,0.0,0.0,0.0,0.0,0.01000000000000012,0.025277777777777954,0.03989130434782617,0.05388297872340442,0.06729166666666686,0.08015306122448984]},{\"mode\":\"lines\",\"name\":\"2 Positions\",\"type\":\"scatter\",\"x\":[0.05,0.060000000000000005,0.07,0.08000000000000002,0.09000000000000001,0.1,0.11000000000000001,0.12000000000000001,0.13,0.14,0.15000000000000002,0.16000000000000003,0.17000000000000004,0.18000000000000005,0.19,0.2,0.21000000000000002,0.22000000000000003,0.23000000000000004,0.24000000000000005,0.25000000000000006,0.26000000000000006,0.27,0.28,0.29000000000000004,0.30000000000000004,0.31000000000000005,0.32000000000000006,0.33,0.34,0.35000000000000003,0.36000000000000004,0.37000000000000005,0.38000000000000006,0.39000000000000007,0.4000000000000001,0.4100000000000001,0.42000000000000004,0.43000000000000005,0.44000000000000006,0.45000000000000007,0.4600000000000001,0.4700000000000001,0.4800000000000001,0.49000000000000005],\"y\":[0.0,0.0,0.0,0.0,0.0,0.0,0.0,0.0,0.0,0.0,0.0,0.0,0.0,0.0,0.0,0.0,0.0,0.0,0.0,0.0,0.0,0.0,0.0,0.0,0.0,0.0,0.0,0.0,0.0,0.0,0.0,0.0,0.0,0.0,0.0,0.0,0.0,0.014114285714285524,0.03026046511627889,0.04567272727272709,0.06039999999999979,0.07448695652173898,0.08797446808510623,0.10089999999999988,0.11329795918367325]},{\"mode\":\"lines\",\"name\":\"2 Positions\",\"type\":\"scatter\",\"x\":[0.05,0.060000000000000005,0.07,0.08000000000000002,0.09000000000000001,0.1,0.11000000000000001,0.12000000000000001,0.13,0.14,0.15000000000000002,0.16000000000000003,0.17000000000000004,0.18000000000000005,0.19,0.2,0.21000000000000002,0.22000000000000003,0.23000000000000004,0.24000000000000005,0.25000000000000006,0.26000000000000006,0.27,0.28,0.29000000000000004,0.30000000000000004,0.31000000000000005,0.32000000000000006,0.33,0.34,0.35000000000000003,0.36000000000000004,0.37000000000000005,0.38000000000000006,0.39000000000000007,0.4000000000000001,0.4100000000000001,0.42000000000000004,0.43000000000000005,0.44000000000000006,0.45000000000000007,0.4600000000000001,0.4700000000000001,0.4800000000000001,0.49000000000000005],\"y\":[0.0,0.0,0.0,0.0,0.0,0.0,0.0,0.0,0.0,0.0,0.0,0.0,0.0,0.0,0.0,0.0,0.0,0.0,0.0,0.0,0.0,0.0,0.0,0.0,0.0,0.0,0.0,0.0,0.0,0.0,0.0,0.0,0.0,0.0,0.0,0.01685000000000003,0.033978048780487824,0.05029047619047611,0.06584418604651154,0.08069090909090904,0.09487777777777773,0.10844782608695647,0.12144042553191492,0.13389166666666663,0.145834693877551]},{\"mode\":\"lines\",\"name\":\"2 Positions\",\"type\":\"scatter\",\"x\":[0.05,0.060000000000000005,0.07,0.08000000000000002,0.09000000000000001,0.1,0.11000000000000001,0.12000000000000001,0.13,0.14,0.15000000000000002,0.16000000000000003,0.17000000000000004,0.18000000000000005,0.19,0.2,0.21000000000000002,0.22000000000000003,0.23000000000000004,0.24000000000000005,0.25000000000000006,0.26000000000000006,0.27,0.28,0.29000000000000004,0.30000000000000004,0.31000000000000005,0.32000000000000006,0.33,0.34,0.35000000000000003,0.36000000000000004,0.37000000000000005,0.38000000000000006,0.39000000000000007,0.4000000000000001,0.4100000000000001,0.42000000000000004,0.43000000000000005,0.44000000000000006,0.45000000000000007,0.4600000000000001,0.4700000000000001,0.4800000000000001,0.49000000000000005],\"y\":[0.0,0.0,0.0,0.0,0.0,0.0,0.0,0.0,0.0,0.0,0.0,0.0,0.0,0.0,0.0,0.0,0.0,0.0,0.0,0.0,0.0,0.0,0.0,0.0,0.0,0.0,0.0,0.0,0.0,0.0,0.0,0.0,0.0,0.01802105263157916,0.03626666666666689,0.0536000000000002,0.070087804878049,0.0857904761904763,0.10076279069767458,0.11505454545454563,0.12871111111111133,0.14177391304347842,0.15428085106382994,0.1662666666666669,0.17776326530612263]},{\"mode\":\"lines\",\"name\":\"2 Positions\",\"type\":\"scatter\",\"x\":[0.05,0.060000000000000005,0.07,0.08000000000000002,0.09000000000000001,0.1,0.11000000000000001,0.12000000000000001,0.13,0.14,0.15000000000000002,0.16000000000000003,0.17000000000000004,0.18000000000000005,0.19,0.2,0.21000000000000002,0.22000000000000003,0.23000000000000004,0.24000000000000005,0.25000000000000006,0.26000000000000006,0.27,0.28,0.29000000000000004,0.30000000000000004,0.31000000000000005,0.32000000000000006,0.33,0.34,0.35000000000000003,0.36000000000000004,0.37000000000000005,0.38000000000000006,0.39000000000000007,0.4000000000000001,0.4100000000000001,0.42000000000000004,0.43000000000000005,0.44000000000000006,0.45000000000000007,0.4600000000000001,0.4700000000000001,0.4800000000000001,0.49000000000000005],\"y\":[0.0,0.0,0.0,0.0,0.0,0.0,0.0,0.0,0.0,0.0,0.0,0.0,0.0,0.0,0.0,0.0,0.0,0.0,0.0,0.0,0.0,0.0,0.0,0.0,0.0,0.0,0.0,0.0,0.0,0.0,0.0,0.017400000000000082,0.036927027027027104,0.05542631578947377,0.07297692307692316,0.08965000000000012,0.10550975609756108,0.12061428571428578,0.13501627906976754,0.14876363636363643,0.16190000000000004,0.1744652173913045,0.18649574468085117,0.19802500000000012,0.20908367346938783]},{\"mode\":\"lines\",\"name\":\"2 Positions\",\"type\":\"scatter\",\"x\":[0.05,0.060000000000000005,0.07,0.08000000000000002,0.09000000000000001,0.1,0.11000000000000001,0.12000000000000001,0.13,0.14,0.15000000000000002,0.16000000000000003,0.17000000000000004,0.18000000000000005,0.19,0.2,0.21000000000000002,0.22000000000000003,0.23000000000000004,0.24000000000000005,0.25000000000000006,0.26000000000000006,0.27,0.28,0.29000000000000004,0.30000000000000004,0.31000000000000005,0.32000000000000006,0.33,0.34,0.35000000000000003,0.36000000000000004,0.37000000000000005,0.38000000000000006,0.39000000000000007,0.4000000000000001,0.4100000000000001,0.42000000000000004,0.43000000000000005,0.44000000000000006,0.45000000000000007,0.4600000000000001,0.4700000000000001,0.4800000000000001,0.49000000000000005],\"y\":[0.0,0.0,0.0,0.0,0.0,0.0,0.0,0.0,0.0,0.0,0.0,0.0,0.0,0.0,0.0,0.0,0.0,0.0,0.0,0.0,0.0,0.0,0.0,0.0,0.0,0.0,0.0,0.0,0.0,0.014705882352941235,0.03571428571428581,0.05555555555555569,0.07432432432432445,0.0921052631578948,0.10897435897435914,0.1250000000000001,0.14024390243902451,0.15476190476190477,0.16860465116279078,0.18181818181818188,0.19444444444444453,0.20652173913043492,0.21808510638297884,0.22916666666666674,0.23979591836734704]},{\"mode\":\"lines\",\"name\":\"2 Positions\",\"type\":\"scatter\",\"x\":[0.05,0.060000000000000005,0.07,0.08000000000000002,0.09000000000000001,0.1,0.11000000000000001,0.12000000000000001,0.13,0.14,0.15000000000000002,0.16000000000000003,0.17000000000000004,0.18000000000000005,0.19,0.2,0.21000000000000002,0.22000000000000003,0.23000000000000004,0.24000000000000005,0.25000000000000006,0.26000000000000006,0.27,0.28,0.29000000000000004,0.30000000000000004,0.31000000000000005,0.32000000000000006,0.33,0.34,0.35000000000000003,0.36000000000000004,0.37000000000000005,0.38000000000000006,0.39000000000000007,0.4000000000000001,0.4100000000000001,0.42000000000000004,0.43000000000000005,0.44000000000000006,0.45000000000000007,0.4600000000000001,0.4700000000000001,0.4800000000000001,0.49000000000000005],\"y\":[0.0,0.0,0.0,0.0,0.0,0.0,0.0,0.0,0.0,0.0,0.0,0.0,0.0,0.0,0.0,0.0,0.0,0.0,0.0,0.0,0.0,0.0,0.0,0.0,0.0,0.0,0.0,0.009587500000000193,0.03232424242424259,0.05372352941176484,0.07390000000000019,0.09295555555555568,0.11098108108108129,0.12805789473684226,0.1442589743589745,0.15965000000000018,0.1742902439024392,0.18823333333333347,0.20152790697674428,0.21421818181818197,0.22634444444444457,0.2379434782608697,0.24904893617021295,0.2596916666666669,0.2699000000000001]},{\"mode\":\"lines\",\"name\":\"2 Positions\",\"type\":\"scatter\",\"x\":[0.05,0.060000000000000005,0.07,0.08000000000000002,0.09000000000000001,0.1,0.11000000000000001,0.12000000000000001,0.13,0.14,0.15000000000000002,0.16000000000000003,0.17000000000000004,0.18000000000000005,0.19,0.2,0.21000000000000002,0.22000000000000003,0.23000000000000004,0.24000000000000005,0.25000000000000006,0.26000000000000006,0.27,0.28,0.29000000000000004,0.30000000000000004,0.31000000000000005,0.32000000000000006,0.33,0.34,0.35000000000000003,0.36000000000000004,0.37000000000000005,0.38000000000000006,0.39000000000000007,0.4000000000000001,0.4100000000000001,0.42000000000000004,0.43000000000000005,0.44000000000000006,0.45000000000000007,0.4600000000000001,0.4700000000000001,0.4800000000000001,0.49000000000000005],\"y\":[0.0,0.0,0.0,0.0,0.0,0.0,0.0,0.0,0.0,0.0,0.0,0.0,0.0,0.0,0.0,0.0,0.0,0.0,0.0,0.0,0.0,0.0,0.0,0.0,0.0,0.001600000000000379,0.026374193548387437,0.04960000000000042,0.07141818181818205,0.0919529411764709,0.11131428571428603,0.12960000000000027,0.1468972972972976,0.16328421052631614,0.17883076923076957,0.19360000000000033,0.20764878048780522,0.22102857142857169,0.23378604651162815,0.2459636363636366,0.2576000000000003,0.26873043478260894,0.2793872340425535,0.2896000000000003,0.2993959183673472]},{\"mode\":\"lines\",\"name\":\"2 Positions\",\"type\":\"scatter\",\"x\":[0.05,0.060000000000000005,0.07,0.08000000000000002,0.09000000000000001,0.1,0.11000000000000001,0.12000000000000001,0.13,0.14,0.15000000000000002,0.16000000000000003,0.17000000000000004,0.18000000000000005,0.19,0.2,0.21000000000000002,0.22000000000000003,0.23000000000000004,0.24000000000000005,0.25000000000000006,0.26000000000000006,0.27,0.28,0.29000000000000004,0.30000000000000004,0.31000000000000005,0.32000000000000006,0.33,0.34,0.35000000000000003,0.36000000000000004,0.37000000000000005,0.38000000000000006,0.39000000000000007,0.4000000000000001,0.4100000000000001,0.42000000000000004,0.43000000000000005,0.44000000000000006,0.45000000000000007,0.4600000000000001,0.4700000000000001,0.4800000000000001,0.49000000000000005],\"y\":[0.0,0.0,0.0,0.0,0.0,0.0,0.0,0.0,0.0,0.0,0.0,0.0,0.0,0.0,0.0,0.0,0.0,0.0,0.0,0.0,0.0,0.0,0.0,0.0,0.017375862068965686,0.04276666666666684,0.06651935483870985,0.08878750000000024,0.1097060606060607,0.12939411764705888,0.147957142857143,0.16548888888888902,0.1820729729729731,0.1977842105263159,0.2126897435897438,0.2268500000000001,0.24031951219512215,0.2531476190476192,0.26537906976744197,0.27705454545454555,0.28821111111111125,0.2988826086956523,0.30910000000000015,0.3188916666666668,0.32828367346938786]},{\"mode\":\"lines\",\"name\":\"2 Positions\",\"type\":\"scatter\",\"x\":[0.05,0.060000000000000005,0.07,0.08000000000000002,0.09000000000000001,0.1,0.11000000000000001,0.12000000000000001,0.13,0.14,0.15000000000000002,0.16000000000000003,0.17000000000000004,0.18000000000000005,0.19,0.2,0.21000000000000002,0.22000000000000003,0.23000000000000004,0.24000000000000005,0.25000000000000006,0.26000000000000006,0.27,0.28,0.29000000000000004,0.30000000000000004,0.31000000000000005,0.32000000000000006,0.33,0.34,0.35000000000000003,0.36000000000000004,0.37000000000000005,0.38000000000000006,0.39000000000000007,0.4000000000000001,0.4100000000000001,0.42000000000000004,0.43000000000000005,0.44000000000000006,0.45000000000000007,0.4600000000000001,0.4700000000000001,0.4800000000000001,0.49000000000000005],\"y\":[0.0,0.0,0.0,0.0,0.0,0.0,0.0,0.0,0.0,0.0,0.0,0.0,0.0,0.0,0.0,0.0,0.0,0.0,0.0,0.0,0.0,0.0,0.0046962962962963095,0.03268571428571432,0.058744827586206916,0.08306666666666673,0.10581935483870974,0.1271500000000001,0.14718787878787876,0.16604705882352944,0.18382857142857145,0.20062222222222226,0.21650810810810817,0.23155789473684218,0.2458358974358975,0.2594000000000001,0.27230243902439033,0.28459047619047617,0.29630697674418605,0.30749090909090915,0.31817777777777784,0.3284,0.33818723404255324,0.34756666666666675,0.3565632653061225]},{\"mode\":\"lines\",\"name\":\"2 Positions\",\"type\":\"scatter\",\"x\":[0.05,0.060000000000000005,0.07,0.08000000000000002,0.09000000000000001,0.1,0.11000000000000001,0.12000000000000001,0.13,0.14,0.15000000000000002,0.16000000000000003,0.17000000000000004,0.18000000000000005,0.19,0.2,0.21000000000000002,0.22000000000000003,0.23000000000000004,0.24000000000000005,0.25000000000000006,0.26000000000000006,0.27,0.28,0.29000000000000004,0.30000000000000004,0.31000000000000005,0.32000000000000006,0.33,0.34,0.35000000000000003,0.36000000000000004,0.37000000000000005,0.38000000000000006,0.39000000000000007,0.4000000000000001,0.4100000000000001,0.42000000000000004,0.43000000000000005,0.44000000000000006,0.45000000000000007,0.4600000000000001,0.4700000000000001,0.4800000000000001,0.49000000000000005],\"y\":[0.0,0.0,0.0,0.0,0.0,0.0,0.0,0.0,0.0,0.0,0.0,0.0,0.0,0.0,0.0,0.0,0.0,0.0,0.0,0.0,0.0,0.018653846153846798,0.04750000000000054,0.07428571428571484,0.09922413793103502,0.1225000000000005,0.14427419354838766,0.16468750000000054,0.18386363636363678,0.2019117647058828,0.2189285714285718,0.23500000000000043,0.2502027027027032,0.2646052631578951,0.27826923076923116,0.29125000000000045,0.3035975609756102,0.3153571428571432,0.32656976744186084,0.33727272727272767,0.34750000000000036,0.35728260869565254,0.36664893617021316,0.3756250000000004,0.3842346938775514]},{\"mode\":\"lines\",\"name\":\"2 Positions\",\"type\":\"scatter\",\"x\":[0.05,0.060000000000000005,0.07,0.08000000000000002,0.09000000000000001,0.1,0.11000000000000001,0.12000000000000001,0.13,0.14,0.15000000000000002,0.16000000000000003,0.17000000000000004,0.18000000000000005,0.19,0.2,0.21000000000000002,0.22000000000000003,0.23000000000000004,0.24000000000000005,0.25000000000000006,0.26000000000000006,0.27,0.28,0.29000000000000004,0.30000000000000004,0.31000000000000005,0.32000000000000006,0.33,0.34,0.35000000000000003,0.36000000000000004,0.37000000000000005,0.38000000000000006,0.39000000000000007,0.4000000000000001,0.4100000000000001,0.42000000000000004,0.43000000000000005,0.44000000000000006,0.45000000000000007,0.4600000000000001,0.4700000000000001,0.4800000000000001,0.49000000000000005],\"y\":[0.0,0.0,0.0,0.0,0.0,0.0,0.0,0.0,0.0,0.0,0.0,0.0,0.0,0.0,0.0,0.0,0.0,0.0,0.0,0.0,0.03200000000000025,0.06178461538461555,0.08936296296296309,0.11497142857142861,0.13881379310344844,0.1610666666666668,0.18188387096774206,0.20140000000000013,0.21973333333333334,0.23698823529411772,0.25325714285714296,0.2686222222222223,0.2831567567567569,0.2969263157894738,0.3099897435897437,0.32240000000000013,0.33420487804878063,0.3454476190476191,0.3561674418604652,0.36640000000000006,0.37617777777777783,0.3855304347826088,0.3944851063829788,0.40306666666666674,0.4112979591836735]},{\"mode\":\"lines\",\"name\":\"2 Positions\",\"type\":\"scatter\",\"x\":[0.05,0.060000000000000005,0.07,0.08000000000000002,0.09000000000000001,0.1,0.11000000000000001,0.12000000000000001,0.13,0.14,0.15000000000000002,0.16000000000000003,0.17000000000000004,0.18000000000000005,0.19,0.2,0.21000000000000002,0.22000000000000003,0.23000000000000004,0.24000000000000005,0.25000000000000006,0.26000000000000006,0.27,0.28,0.29000000000000004,0.30000000000000004,0.31000000000000005,0.32000000000000006,0.33,0.34,0.35000000000000003,0.36000000000000004,0.37000000000000005,0.38000000000000006,0.39000000000000007,0.4000000000000001,0.4100000000000001,0.42000000000000004,0.43000000000000005,0.44000000000000006,0.45000000000000007,0.4600000000000001,0.4700000000000001,0.4800000000000001,0.49000000000000005],\"y\":[0.0,0.0,0.0,0.0,0.0,0.0,0.0,0.0,0.0,0.0,0.0,0.0,0.0,0.0,0.0,0.0,0.0,0.0,0.01118695652173951,0.04468333333333374,0.07550000000000034,0.10394615384615424,0.1302851851851855,0.1547428571428574,0.1775137931034486,0.19876666666666698,0.21864838709677448,0.23728750000000032,0.25479696969696997,0.27127647058823556,0.2868142857142859,0.30148888888888914,0.31537027027027054,0.3285210526315792,0.34099743589743614,0.3528500000000003,0.3641243902439027,0.37486190476190495,0.3851000000000002,0.3948727272727275,0.4042111111111113,0.4131434782608698,0.4216957446808513,0.4298916666666669,0.43775306122449]},{\"mode\":\"lines\",\"name\":\"2 Positions\",\"type\":\"scatter\",\"x\":[0.05,0.060000000000000005,0.07,0.08000000000000002,0.09000000000000001,0.1,0.11000000000000001,0.12000000000000001,0.13,0.14,0.15000000000000002,0.16000000000000003,0.17000000000000004,0.18000000000000005,0.19,0.2,0.21000000000000002,0.22000000000000003,0.23000000000000004,0.24000000000000005,0.25000000000000006,0.26000000000000006,0.27,0.28,0.29000000000000004,0.30000000000000004,0.31000000000000005,0.32000000000000006,0.33,0.34,0.35000000000000003,0.36000000000000004,0.37000000000000005,0.38000000000000006,0.39000000000000007,0.4000000000000001,0.4100000000000001,0.42000000000000004,0.43000000000000005,0.44000000000000006,0.45000000000000007,0.4600000000000001,0.4700000000000001,0.4800000000000001,0.49000000000000005],\"y\":[0.0,0.0,0.0,0.0,0.0,0.0,0.0,0.0,0.0,0.0,0.0,0.0,0.0,0.0,0.0,0.0,0.0,0.0217818181818189,0.05664347826087024,0.08860000000000068,0.11800000000000066,0.14513846153846222,0.17026666666666723,0.19360000000000055,0.215324137931035,0.2356000000000006,0.2545677419354845,0.27235000000000054,0.2890545454545459,0.30477647058823576,0.31960000000000044,0.33360000000000045,0.3468432432432437,0.359389473684211,0.37129230769230814,0.3826000000000005,0.39335609756097606,0.4036000000000004,0.41336744186046553,0.4226909090909095,0.4316000000000004,0.4401217391304352,0.4482808510638302,0.4561000000000004,0.46360000000000035]},{\"mode\":\"lines\",\"name\":\"2 Positions\",\"type\":\"scatter\",\"x\":[0.05,0.060000000000000005,0.07,0.08000000000000002,0.09000000000000001,0.1,0.11000000000000001,0.12000000000000001,0.13,0.14,0.15000000000000002,0.16000000000000003,0.17000000000000004,0.18000000000000005,0.19,0.2,0.21000000000000002,0.22000000000000003,0.23000000000000004,0.24000000000000005,0.25000000000000006,0.26000000000000006,0.27,0.28,0.29000000000000004,0.30000000000000004,0.31000000000000005,0.32000000000000006,0.33,0.34,0.35000000000000003,0.36000000000000004,0.37000000000000005,0.38000000000000006,0.39000000000000007,0.4000000000000001,0.4100000000000001,0.42000000000000004,0.43000000000000005,0.44000000000000006,0.45000000000000007,0.4600000000000001,0.4700000000000001,0.4800000000000001,0.49000000000000005],\"y\":[0.0,0.0,0.0,0.0,0.0,0.0,0.0,0.0,0.0,0.0,0.0,0.0,0.0,0.0,0.0,0.0,0.031423809523810076,0.06780909090909149,0.10103043478260931,0.13148333333333395,0.15950000000000053,0.18536153846153902,0.20930740740740783,0.2315428571428576,0.25224482758620737,0.27156666666666707,0.2896419354838714,0.30658750000000046,0.322506060606061,0.33748823529411803,0.3516142857142861,0.3649555555555559,0.37757567567567607,0.3895315789473688,0.40087435897435936,0.41165000000000035,0.4219000000000004,0.4316619047619051,0.4409697674418608,0.4498545454545458,0.4583444444444448,0.4664652173913047,0.4742404255319152,0.481691666666667,0.4888387755102044]},{\"mode\":\"lines\",\"name\":\"2 Positions\",\"type\":\"scatter\",\"x\":[0.05,0.060000000000000005,0.07,0.08000000000000002,0.09000000000000001,0.1,0.11000000000000001,0.12000000000000001,0.13,0.14,0.15000000000000002,0.16000000000000003,0.17000000000000004,0.18000000000000005,0.19,0.2,0.21000000000000002,0.22000000000000003,0.23000000000000004,0.24000000000000005,0.25000000000000006,0.26000000000000006,0.27,0.28,0.29000000000000004,0.30000000000000004,0.31000000000000005,0.32000000000000006,0.33,0.34,0.35000000000000003,0.36000000000000004,0.37000000000000005,0.38000000000000006,0.39000000000000007,0.4000000000000001,0.4100000000000001,0.42000000000000004,0.43000000000000005,0.44000000000000006,0.45000000000000007,0.4600000000000001,0.4700000000000001,0.4800000000000001,0.49000000000000005],\"y\":[0.0,0.0,0.0,0.0,0.0,0.0,0.0,0.0,0.0,0.0,0.0,0.0,0.0,0.0,0.0,0.04000000000000048,0.07809523809523866,0.11272727272727323,0.14434782608695707,0.1733333333333339,0.2000000000000005,0.2246153846153851,0.24740740740740785,0.268571428571429,0.28827586206896594,0.3066666666666671,0.3238709677419359,0.3400000000000004,0.3551515151515155,0.3694117647058827,0.38285714285714323,0.3955555555555559,0.4075675675675679,0.418947368421053,0.4297435897435901,0.44000000000000034,0.44975609756097595,0.45904761904761937,0.46790697674418635,0.47636363636363666,0.48444444444444473,0.4921739130434786,0.4995744680851067,0.506666666666667,0.5134693877551023]},{\"mode\":\"lines\",\"name\":\"2 Positions\",\"type\":\"scatter\",\"x\":[0.05,0.060000000000000005,0.07,0.08000000000000002,0.09000000000000001,0.1,0.11000000000000001,0.12000000000000001,0.13,0.14,0.15000000000000002,0.16000000000000003,0.17000000000000004,0.18000000000000005,0.19,0.2,0.21000000000000002,0.22000000000000003,0.23000000000000004,0.24000000000000005,0.25000000000000006,0.26000000000000006,0.27,0.28,0.29000000000000004,0.30000000000000004,0.31000000000000005,0.32000000000000006,0.33,0.34,0.35000000000000003,0.36000000000000004,0.37000000000000005,0.38000000000000006,0.39000000000000007,0.4000000000000001,0.4100000000000001,0.42000000000000004,0.43000000000000005,0.44000000000000006,0.45000000000000007,0.4600000000000001,0.4700000000000001,0.4800000000000001,0.49000000000000005],\"y\":[0.0,0.0,0.0,0.0,0.0,0.0,0.0,0.0,0.0,0.0,0.0,0.0,0.0,0.002900000000000902,0.0473736842105269,0.08740000000000059,0.12361428571428634,0.15653636363636425,0.18659565217391372,0.21415000000000062,0.2395000000000006,0.2629000000000006,0.2845666666666672,0.3046857142857148,0.3234172413793108,0.34090000000000054,0.3572548387096779,0.3725875000000005,0.3869909090909095,0.4005470588235298,0.4133285714285718,0.42540000000000044,0.43681891891891933,0.44763684210526355,0.4579000000000004,0.4676500000000004,0.4769243902439029,0.4857571428571432,0.49417906976744225,0.5022181818181821,0.5099000000000004,0.5172478260869569,0.5242829787234047,0.5310250000000003,0.5374918367346941]},{\"mode\":\"lines\",\"name\":\"2 Positions\",\"type\":\"scatter\",\"x\":[0.05,0.060000000000000005,0.07,0.08000000000000002,0.09000000000000001,0.1,0.11000000000000001,0.12000000000000001,0.13,0.14,0.15000000000000002,0.16000000000000003,0.17000000000000004,0.18000000000000005,0.19,0.2,0.21000000000000002,0.22000000000000003,0.23000000000000004,0.24000000000000005,0.25000000000000006,0.26000000000000006,0.27,0.28,0.29000000000000004,0.30000000000000004,0.31000000000000005,0.32000000000000006,0.33,0.34,0.35000000000000003,0.36000000000000004,0.37000000000000005,0.38000000000000006,0.39000000000000007,0.4000000000000001,0.4100000000000001,0.42000000000000004,0.43000000000000005,0.44000000000000006,0.45000000000000007,0.4600000000000001,0.4700000000000001,0.4800000000000001,0.49000000000000005],\"y\":[0.0,0.0,0.0,0.0,0.0,0.0,0.0,0.0,0.0,0.0,0.0,0.0,0.006188235294118827,0.053377777777778856,0.0956000000000009,0.13360000000000083,0.16798095238095323,0.19923636363636454,0.22777391304347905,0.2539333333333341,0.2780000000000008,0.30021538461538544,0.32078518518518584,0.339885714285715,0.35766896551724203,0.37426666666666736,0.38979354838709745,0.40435000000000065,0.418024242424243,0.43089411764705937,0.443028571428572,0.45448888888888944,0.4653297297297303,0.4756000000000006,0.4853435897435903,0.49460000000000054,0.503404878048781,0.5117904761904767,0.5197860465116284,0.5274181818181823,0.5347111111111116,0.5416869565217396,0.5483659574468089,0.5547666666666671,0.56090612244898]},{\"mode\":\"lines\",\"name\":\"2 Positions\",\"type\":\"scatter\",\"x\":[0.05,0.060000000000000005,0.07,0.08000000000000002,0.09000000000000001,0.1,0.11000000000000001,0.12000000000000001,0.13,0.14,0.15000000000000002,0.16000000000000003,0.17000000000000004,0.18000000000000005,0.19,0.2,0.21000000000000002,0.22000000000000003,0.23000000000000004,0.24000000000000005,0.25000000000000006,0.26000000000000006,0.27,0.28,0.29000000000000004,0.30000000000000004,0.31000000000000005,0.32000000000000006,0.33,0.34,0.35000000000000003,0.36000000000000004,0.37000000000000005,0.38000000000000006,0.39000000000000007,0.4000000000000001,0.4100000000000001,0.42000000000000004,0.43000000000000005,0.44000000000000006,0.45000000000000007,0.4600000000000001,0.4700000000000001,0.4800000000000001,0.49000000000000005],\"y\":[0.0,0.0,0.0,0.0,0.0,0.0,0.0,0.0,0.0,0.0,0.0,0.007475000000000787,0.05780588235294193,0.10254444444444522,0.14257368421052685,0.17860000000000054,0.21119523809523866,0.24082727272727333,0.2678826086956527,0.29268333333333385,0.31550000000000056,0.336561538461539,0.35606296296296347,0.37417142857142904,0.39103103448275905,0.4067666666666671,0.421487096774194,0.43528750000000044,0.4482515151515155,0.46045294117647095,0.47195714285714324,0.4828222222222226,0.49310000000000037,0.5028368421052636,0.5120743589743594,0.5208500000000004,0.5291975609756101,0.5371476190476194,0.5447279069767446,0.5519636363636367,0.558877777777778,0.5654913043478265,0.5718234042553194,0.5778916666666669,0.5837122448979595]},{\"mode\":\"lines\",\"name\":\"2 Positions\",\"type\":\"scatter\",\"x\":[0.05,0.060000000000000005,0.07,0.08000000000000002,0.09000000000000001,0.1,0.11000000000000001,0.12000000000000001,0.13,0.14,0.15000000000000002,0.16000000000000003,0.17000000000000004,0.18000000000000005,0.19,0.2,0.21000000000000002,0.22000000000000003,0.23000000000000004,0.24000000000000005,0.25000000000000006,0.26000000000000006,0.27,0.28,0.29000000000000004,0.30000000000000004,0.31000000000000005,0.32000000000000006,0.33,0.34,0.35000000000000003,0.36000000000000004,0.37000000000000005,0.38000000000000006,0.39000000000000007,0.4000000000000001,0.4100000000000001,0.42000000000000004,0.43000000000000005,0.44000000000000006,0.45000000000000007,0.4600000000000001,0.4700000000000001,0.4800000000000001,0.49000000000000005],\"y\":[0.0,0.0,0.0,0.0,0.0,0.0,0.0,0.0,0.0,0.0,0.006400000000000627,0.060400000000000564,0.10804705882353005,0.15040000000000064,0.18829473684210563,0.22240000000000038,0.2532571428571433,0.2813090909090913,0.3069217391304352,0.33040000000000047,0.3520000000000004,0.37193846153846194,0.3904000000000003,0.4075428571428575,0.4235034482758624,0.43840000000000034,0.45233548387096806,0.4654000000000003,0.4776727272727275,0.489223529411765,0.500114285714286,0.5104000000000003,0.52012972972973,0.5293473684210529,0.538092307692308,0.5464000000000002,0.5543024390243905,0.5618285714285717,0.5690046511627909,0.5758545454545456,0.5824000000000003,0.5886608695652176,0.5946553191489364,0.6004000000000003,0.6059102040816329]},{\"mode\":\"lines\",\"name\":\"2 Positions\",\"type\":\"scatter\",\"x\":[0.05,0.060000000000000005,0.07,0.08000000000000002,0.09000000000000001,0.1,0.11000000000000001,0.12000000000000001,0.13,0.14,0.15000000000000002,0.16000000000000003,0.17000000000000004,0.18000000000000005,0.19,0.2,0.21000000000000002,0.22000000000000003,0.23000000000000004,0.24000000000000005,0.25000000000000006,0.26000000000000006,0.27,0.28,0.29000000000000004,0.30000000000000004,0.31000000000000005,0.32000000000000006,0.33,0.34,0.35000000000000003,0.36000000000000004,0.37000000000000005,0.38000000000000006,0.39000000000000007,0.4000000000000001,0.4100000000000001,0.42000000000000004,0.43000000000000005,0.44000000000000006,0.45000000000000007,0.4600000000000001,0.4700000000000001,0.4800000000000001,0.49000000000000005],\"y\":[0.0,0.0,0.0,0.0,0.0,0.0,0.0,0.0,0.0,0.002500000000000502,0.06083333333333385,0.11187500000000061,0.15691176470588297,0.19694444444444503,0.23276315789473723,0.26500000000000035,0.294166666666667,0.3206818181818186,0.34489130434782644,0.36708333333333376,0.3875000000000004,0.40634615384615425,0.4237962962962966,0.4400000000000003,0.45508620689655205,0.46916666666666695,0.48233870967741965,0.49468750000000034,0.5062878787878791,0.5172058823529414,0.5275000000000003,0.5372222222222225,0.5464189189189192,0.5551315789473688,0.5633974358974362,0.5712500000000003,0.5787195121951222,0.5858333333333335,0.5926162790697677,0.5990909090909093,0.605277777777778,0.6111956521739133,0.6168617021276598,0.6222916666666669,0.6275000000000002]},{\"mode\":\"lines\",\"name\":\"2 Positions\",\"type\":\"scatter\",\"x\":[0.05,0.060000000000000005,0.07,0.08000000000000002,0.09000000000000001,0.1,0.11000000000000001,0.12000000000000001,0.13,0.14,0.15000000000000002,0.16000000000000003,0.17000000000000004,0.18000000000000005,0.19,0.2,0.21000000000000002,0.22000000000000003,0.23000000000000004,0.24000000000000005,0.25000000000000006,0.26000000000000006,0.27,0.28,0.29000000000000004,0.30000000000000004,0.31000000000000005,0.32000000000000006,0.33,0.34,0.35000000000000003,0.36000000000000004,0.37000000000000005,0.38000000000000006,0.39000000000000007,0.4000000000000001,0.4100000000000001,0.42000000000000004,0.43000000000000005,0.44000000000000006,0.45000000000000007,0.4600000000000001,0.4700000000000001,0.4800000000000001,0.49000000000000005],\"y\":[0.0,0.0,0.0,0.0,0.0,0.0,0.0,0.0,0.0,0.05868571428571501,0.11373333333333402,0.1619000000000007,0.2044000000000007,0.2421777777777785,0.27597894736842155,0.30640000000000045,0.33392380952380996,0.358945454545455,0.3817913043478266,0.40273333333333383,0.4220000000000005,0.4397846153846159,0.45625185185185224,0.47154285714285754,0.48577931034482796,0.49906666666666705,0.5114967741935488,0.5231500000000004,0.53409696969697,0.5444000000000003,0.554114285714286,0.5632888888888892,0.571967567567568,0.5801894736842108,0.5879897435897439,0.5954000000000004,0.6024487804878051,0.609161904761905,0.6155627906976747,0.6216727272727276,0.6275111111111114,0.6330956521739133,0.6384425531914897,0.643566666666667,0.6484816326530615]},{\"mode\":\"lines\",\"name\":\"2 Positions\",\"type\":\"scatter\",\"x\":[0.05,0.060000000000000005,0.07,0.08000000000000002,0.09000000000000001,0.1,0.11000000000000001,0.12000000000000001,0.13,0.14,0.15000000000000002,0.16000000000000003,0.17000000000000004,0.18000000000000005,0.19,0.2,0.21000000000000002,0.22000000000000003,0.23000000000000004,0.24000000000000005,0.25000000000000006,0.26000000000000006,0.27,0.28,0.29000000000000004,0.30000000000000004,0.31000000000000005,0.32000000000000006,0.33,0.34,0.35000000000000003,0.36000000000000004,0.37000000000000005,0.38000000000000006,0.39000000000000007,0.4000000000000001,0.4100000000000001,0.42000000000000004,0.43000000000000005,0.44000000000000006,0.45000000000000007,0.4600000000000001,0.4700000000000001,0.4800000000000001,0.49000000000000005],\"y\":[0.0,0.0,0.0,0.0,0.0,0.0,0.0,0.0,0.05340769230769338,0.1132428571428582,0.16510000000000102,0.21047500000000097,0.2505117647058833,0.2861000000000009,0.3179421052631586,0.3466000000000007,0.3725285714285721,0.3961000000000007,0.4176217391304355,0.4373500000000007,0.4555000000000007,0.4722538461538468,0.48776666666666724,0.5021714285714292,0.5155827586206903,0.5281000000000006,0.5398096774193554,0.5507875000000005,0.5611000000000005,0.5708058823529416,0.5799571428571433,0.5886000000000005,0.5967756756756761,0.6045210526315794,0.6118692307692313,0.6188500000000005,0.6254902439024395,0.6318142857142861,0.637844186046512,0.6436000000000004,0.6491000000000005,0.6543608695652178,0.6593978723404259,0.6642250000000004,0.6688551020408167]},{\"mode\":\"lines\",\"name\":\"2 Positions\",\"type\":\"scatter\",\"x\":[0.05,0.060000000000000005,0.07,0.08000000000000002,0.09000000000000001,0.1,0.11000000000000001,0.12000000000000001,0.13,0.14,0.15000000000000002,0.16000000000000003,0.17000000000000004,0.18000000000000005,0.19,0.2,0.21000000000000002,0.22000000000000003,0.23000000000000004,0.24000000000000005,0.25000000000000006,0.26000000000000006,0.27,0.28,0.29000000000000004,0.30000000000000004,0.31000000000000005,0.32000000000000006,0.33,0.34,0.35000000000000003,0.36000000000000004,0.37000000000000005,0.38000000000000006,0.39000000000000007,0.4000000000000001,0.4100000000000001,0.42000000000000004,0.43000000000000005,0.44000000000000006,0.45000000000000007,0.4600000000000001,0.4700000000000001,0.4800000000000001,0.49000000000000005],\"y\":[0.0,0.0,0.0,0.0,0.0,0.0,0.0,0.04426666666666734,0.10990769230769293,0.1661714285714292,0.21493333333333398,0.2576000000000006,0.29524705882353,0.32871111111111173,0.3586526315789478,0.3856000000000004,0.4099809523809528,0.43214545454545494,0.4523826086956526,0.47093333333333376,0.48800000000000043,0.5037538461538466,0.518340740740741,0.5318857142857146,0.5444965517241382,0.556266666666667,0.5672774193548391,0.5776000000000003,0.58729696969697,0.596423529411765,0.6050285714285717,0.6131555555555559,0.6208432432432436,0.628126315789474,0.6350358974358977,0.6416000000000003,0.6478439024390247,0.6537904761904765,0.6594604651162793,0.6648727272727275,0.6700444444444447,0.6749913043478264,0.6797276595744683,0.6842666666666669,0.6886204081632655]},{\"mode\":\"lines\",\"name\":\"2 Positions\",\"type\":\"scatter\",\"x\":[0.05,0.060000000000000005,0.07,0.08000000000000002,0.09000000000000001,0.1,0.11000000000000001,0.12000000000000001,0.13,0.14,0.15000000000000002,0.16000000000000003,0.17000000000000004,0.18000000000000005,0.19,0.2,0.21000000000000002,0.22000000000000003,0.23000000000000004,0.24000000000000005,0.25000000000000006,0.26000000000000006,0.27,0.28,0.29000000000000004,0.30000000000000004,0.31000000000000005,0.32000000000000006,0.33,0.34,0.35000000000000003,0.36000000000000004,0.37000000000000005,0.38000000000000006,0.39000000000000007,0.4000000000000001,0.4100000000000001,0.42000000000000004,0.43000000000000005,0.44000000000000006,0.45000000000000007,0.4600000000000001,0.4700000000000001,0.4800000000000001,0.49000000000000005],\"y\":[0.0,0.0,0.0,0.0,0.0,0.0,0.030263636363637936,0.10306666666666808,0.16466923076923212,0.21747142857142987,0.26323333333333454,0.3032750000000012,0.3386058823529423,0.3700111111111122,0.39811052631579036,0.4234000000000009,0.4462809523809533,0.46708181818181904,0.48607391304347913,0.5034833333333342,0.5195000000000008,0.5342846153846161,0.5479740740740748,0.560685714285715,0.5725206896551731,0.5835666666666673,0.5939000000000008,0.6035875000000006,0.6126878787878793,0.6212529411764711,0.629328571428572,0.6369555555555562,0.6441702702702709,0.6510052631578953,0.6574897435897442,0.6636500000000005,0.6695097560975616,0.6750904761904767,0.6804116279069773,0.6854909090909096,0.690344444444445,0.6949869565217397,0.6994319148936176,0.7036916666666672,0.7077775510204086]},{\"mode\":\"lines\",\"name\":\"2 Positions\",\"type\":\"scatter\",\"x\":[0.05,0.060000000000000005,0.07,0.08000000000000002,0.09000000000000001,0.1,0.11000000000000001,0.12000000000000001,0.13,0.14,0.15000000000000002,0.16000000000000003,0.17000000000000004,0.18000000000000005,0.19,0.2,0.21000000000000002,0.22000000000000003,0.23000000000000004,0.24000000000000005,0.25000000000000006,0.26000000000000006,0.27,0.28,0.29000000000000004,0.30000000000000004,0.31000000000000005,0.32000000000000006,0.33,0.34,0.35000000000000003,0.36000000000000004,0.37000000000000005,0.38000000000000006,0.39000000000000007,0.4000000000000001,0.4100000000000001,0.42000000000000004,0.43000000000000005,0.44000000000000006,0.45000000000000007,0.4600000000000001,0.4700000000000001,0.4800000000000001,0.49000000000000005],\"y\":[0.0,0.0,0.0,0.0,0.0,0.010000000000001563,0.09181818181818335,0.16000000000000136,0.21769230769230896,0.26714285714285835,0.31000000000000116,0.34750000000000114,0.3805882352941188,0.4100000000000011,0.4363157894736851,0.46000000000000085,0.48142857142857226,0.5009090909090917,0.5186956521739139,0.5350000000000008,0.5500000000000007,0.5638461538461546,0.5766666666666673,0.5885714285714292,0.5996551724137937,0.6100000000000007,0.6196774193548393,0.6287500000000006,0.6372727272727279,0.6452941176470595,0.6528571428571435,0.6600000000000006,0.6667567567567574,0.6731578947368426,0.6792307692307697,0.6850000000000005,0.6904878048780493,0.6957142857142862,0.7006976744186051,0.705454545454546,0.7100000000000005,0.714347826086957,0.7185106382978728,0.7225000000000005,0.7263265306122453]},{\"mode\":\"lines\",\"name\":\"2 Positions\",\"type\":\"scatter\",\"x\":[0.05,0.060000000000000005,0.07,0.08000000000000002,0.09000000000000001,0.1,0.11000000000000001,0.12000000000000001,0.13,0.14,0.15000000000000002,0.16000000000000003,0.17000000000000004,0.18000000000000005,0.19,0.2,0.21000000000000002,0.22000000000000003,0.23000000000000004,0.24000000000000005,0.25000000000000006,0.26000000000000006,0.27,0.28,0.29000000000000004,0.30000000000000004,0.31000000000000005,0.32000000000000006,0.33,0.34,0.35000000000000003,0.36000000000000004,0.37000000000000005,0.38000000000000006,0.39000000000000007,0.4000000000000001,0.4100000000000001,0.42000000000000004,0.43000000000000005,0.44000000000000006,0.45000000000000007,0.4600000000000001,0.4700000000000001,0.4800000000000001,0.49000000000000005],\"y\":[0.0,0.0,0.0,0.0,0.0,0.07490000000000174,0.15135454545454718,0.21506666666666818,0.26897692307692445,0.3151857142857156,0.3552333333333346,0.39027500000000126,0.42119411764706005,0.44867777777777895,0.47326842105263256,0.49540000000000095,0.5154238095238104,0.5336272727272737,0.5502478260869574,0.5654833333333342,0.5795000000000008,0.5924384615384624,0.6044185185185194,0.6155428571428578,0.6259000000000008,0.6355666666666674,0.6446096774193555,0.6530875000000007,0.6610515151515157,0.66854705882353,0.6756142857142864,0.6822888888888895,0.6886027027027033,0.6945842105263164,0.700258974358975,0.7056500000000006,0.7107780487804884,0.7156619047619053,0.7203186046511634,0.7247636363636369,0.7290111111111116,0.7330739130434788,0.7369638297872345,0.7406916666666672,0.7442673469387759]},{\"mode\":\"lines\",\"name\":\"2 Positions\",\"type\":\"scatter\",\"x\":[0.05,0.060000000000000005,0.07,0.08000000000000002,0.09000000000000001,0.1,0.11000000000000001,0.12000000000000001,0.13,0.14,0.15000000000000002,0.16000000000000003,0.17000000000000004,0.18000000000000005,0.19,0.2,0.21000000000000002,0.22000000000000003,0.23000000000000004,0.24000000000000005,0.25000000000000006,0.26000000000000006,0.27,0.28,0.29000000000000004,0.30000000000000004,0.31000000000000005,0.32000000000000006,0.33,0.34,0.35000000000000003,0.36000000000000004,0.37000000000000005,0.38000000000000006,0.39000000000000007,0.4000000000000001,0.4100000000000001,0.42000000000000004,0.43000000000000005,0.44000000000000006,0.45000000000000007,0.4600000000000001,0.4700000000000001,0.4800000000000001,0.49000000000000005],\"y\":[0.0,0.0,0.0,0.0,0.05048888888889003,0.13760000000000094,0.2088727272727282,0.26826666666666754,0.3185230769230777,0.3616000000000007,0.39893333333333403,0.4316000000000007,0.4604235294117654,0.4860444444444451,0.5089684210526322,0.5296000000000005,0.5482666666666671,0.5652363636363642,0.5807304347826092,0.5949333333333338,0.6080000000000005,0.6200615384615389,0.63122962962963,0.6416000000000004,0.6512551724137935,0.660266666666667,0.6686967741935488,0.6766000000000004,0.6840242424242428,0.6910117647058827,0.6976000000000003,0.7038222222222226,0.7097081081081085,0.7152842105263162,0.7205743589743593,0.7256000000000004,0.7303804878048784,0.7349333333333337,0.7392744186046515,0.7434181818181821,0.7473777777777781,0.7511652173913046,0.7547914893617025,0.758266666666667,0.7616000000000003]},{\"mode\":\"lines\",\"name\":\"2 Positions\",\"type\":\"scatter\",\"x\":[0.05,0.060000000000000005,0.07,0.08000000000000002,0.09000000000000001,0.1,0.11000000000000001,0.12000000000000001,0.13,0.14,0.15000000000000002,0.16000000000000003,0.17000000000000004,0.18000000000000005,0.19,0.2,0.21000000000000002,0.22000000000000003,0.23000000000000004,0.24000000000000005,0.25000000000000006,0.26000000000000006,0.27,0.28,0.29000000000000004,0.30000000000000004,0.31000000000000005,0.32000000000000006,0.33,0.34,0.35000000000000003,0.36000000000000004,0.37000000000000005,0.38000000000000006,0.39000000000000007,0.4000000000000001,0.4100000000000001,0.42000000000000004,0.43000000000000005,0.44000000000000006,0.45000000000000007,0.4600000000000001,0.4700000000000001,0.4800000000000001,0.49000000000000005],\"y\":[0.0,0.0,0.0,0.01585000000000214,0.11710000000000187,0.1981000000000016,0.26437272727272887,0.31960000000000144,0.36633076923077057,0.40638571428571557,0.4411000000000012,0.47147500000000114,0.4982764705882364,0.5221000000000011,0.5434157894736851,0.5626000000000009,0.5799571428571437,0.5957363636363645,0.6101434782608703,0.6233500000000007,0.6355000000000008,0.6467153846153855,0.6571000000000007,0.6667428571428579,0.6757206896551731,0.6841000000000007,0.69193870967742,0.6992875000000006,0.7061909090909098,0.7126882352941182,0.7188142857142863,0.7246000000000006,0.7300729729729736,0.7352578947368427,0.7401769230769236,0.7448500000000006,0.7492951219512201,0.753528571428572,0.7575651162790703,0.7614181818181823,0.7651000000000006,0.7686217391304353,0.7719936170212771,0.7752250000000005,0.7783244897959188]},{\"mode\":\"lines\",\"name\":\"2 Positions\",\"type\":\"scatter\",\"x\":[0.05,0.060000000000000005,0.07,0.08000000000000002,0.09000000000000001,0.1,0.11000000000000001,0.12000000000000001,0.13,0.14,0.15000000000000002,0.16000000000000003,0.17000000000000004,0.18000000000000005,0.19,0.2,0.21000000000000002,0.22000000000000003,0.23000000000000004,0.24000000000000005,0.25000000000000006,0.26000000000000006,0.27,0.28,0.29000000000000004,0.30000000000000004,0.31000000000000005,0.32000000000000006,0.33,0.34,0.35000000000000003,0.36000000000000004,0.37000000000000005,0.38000000000000006,0.39000000000000007,0.4000000000000001,0.4100000000000001,0.42000000000000004,0.43000000000000005,0.44000000000000006,0.45000000000000007,0.4600000000000001,0.4700000000000001,0.4800000000000001,0.49000000000000005],\"y\":[0.0,0.0,0.0,0.0874000000000017,0.1812888888888904,0.2564000000000013,0.3178545454545467,0.36906666666666776,0.412400000000001,0.44954285714285813,0.4817333333333343,0.5099000000000009,0.5347529411764715,0.5568444444444454,0.5766105263157902,0.5944000000000007,0.6104952380952389,0.6251272727272734,0.6384869565217398,0.650733333333334,0.6620000000000006,0.6724000000000006,0.6820296296296302,0.6909714285714291,0.6992965517241385,0.7070666666666672,0.7143354838709682,0.7211500000000005,0.7275515151515156,0.7335764705882357,0.7392571428571433,0.7446222222222227,0.7496972972972977,0.7545052631578952,0.7590666666666671,0.7634000000000004,0.7675219512195126,0.7714476190476195,0.775190697674419,0.7787636363636368,0.7821777777777782,0.7854434782608699,0.7885702127659578,0.7915666666666671,0.794440816326531]},{\"mode\":\"lines\",\"name\":\"2 Positions\",\"type\":\"scatter\",\"x\":[0.05,0.060000000000000005,0.07,0.08000000000000002,0.09000000000000001,0.1,0.11000000000000001,0.12000000000000001,0.13,0.14,0.15000000000000002,0.16000000000000003,0.17000000000000004,0.18000000000000005,0.19,0.2,0.21000000000000002,0.22000000000000003,0.23000000000000004,0.24000000000000005,0.25000000000000006,0.26000000000000006,0.27,0.28,0.29000000000000004,0.30000000000000004,0.31000000000000005,0.32000000000000006,0.33,0.34,0.35000000000000003,0.36000000000000004,0.37000000000000005,0.38000000000000006,0.39000000000000007,0.4000000000000001,0.4100000000000001,0.42000000000000004,0.43000000000000005,0.44000000000000006,0.45000000000000007,0.4600000000000001,0.4700000000000001,0.4800000000000001,0.49000000000000005],\"y\":[0.0,0.0,0.04464285714285887,0.15625000000000167,0.24305555555555702,0.3125000000000012,0.369318181818183,0.41666666666666774,0.4567307692307702,0.4910714285714295,0.5208333333333343,0.5468750000000009,0.5698529411764715,0.5902777777777786,0.608552631578948,0.6250000000000007,0.639880952380953,0.6534090909090915,0.665760869565218,0.6770833333333339,0.6875000000000007,0.6971153846153852,0.706018518518519,0.7142857142857149,0.7219827586206902,0.7291666666666672,0.7358870967741941,0.7421875000000004,0.748106060606061,0.7536764705882357,0.7589285714285718,0.7638888888888893,0.7685810810810815,0.7730263157894741,0.7772435897435902,0.7812500000000004,0.7850609756097565,0.7886904761904766,0.7921511627906981,0.7954545454545459,0.7986111111111115,0.8016304347826091,0.804521276595745,0.8072916666666671,0.8099489795918371]},{\"mode\":\"lines\",\"name\":\"2 Positions\",\"type\":\"scatter\",\"x\":[0.05,0.060000000000000005,0.07,0.08000000000000002,0.09000000000000001,0.1,0.11000000000000001,0.12000000000000001,0.13,0.14,0.15000000000000002,0.16000000000000003,0.17000000000000004,0.18000000000000005,0.19,0.2,0.21000000000000002,0.22000000000000003,0.23000000000000004,0.24000000000000005,0.25000000000000006,0.26000000000000006,0.27,0.28,0.29000000000000004,0.30000000000000004,0.31000000000000005,0.32000000000000006,0.33,0.34,0.35000000000000003,0.36000000000000004,0.37000000000000005,0.38000000000000006,0.39000000000000007,0.4000000000000001,0.4100000000000001,0.42000000000000004,0.43000000000000005,0.44000000000000006,0.45000000000000007,0.4600000000000001,0.4700000000000001,0.4800000000000001,0.49000000000000005],\"y\":[0.0,0.0,0.11954285714285917,0.22240000000000182,0.30240000000000156,0.3664000000000014,0.41876363636363767,0.4624000000000012,0.49932307692307804,0.5309714285714296,0.558400000000001,0.5824000000000009,0.6035764705882363,0.622400000000001,0.6392421052631587,0.6544000000000008,0.6681142857142865,0.6805818181818188,0.6919652173913051,0.7024000000000007,0.7120000000000006,0.7208615384615391,0.7290666666666673,0.7366857142857148,0.7437793103448281,0.7504000000000006,0.7565935483870974,0.7624000000000005,0.767854545454546,0.7729882352941182,0.777828571428572,0.7824000000000004,0.7867243243243248,0.7908210526315794,0.7947076923076928,0.7984000000000004,0.8019121951219517,0.8052571428571433,0.8084465116279074,0.8114909090909095,0.8144000000000005,0.8171826086956526,0.8198468085106387,0.8224000000000005,0.8248489795918371]}],                        {\"annotations\":[{\"showarrow\":false,\"text\":\"10% Allocation Threshold\",\"x\":1,\"xanchor\":\"right\",\"xref\":\"x domain\",\"y\":0.1,\"yanchor\":\"bottom\",\"yref\":\"y\"}],\"font\":{\"color\":\"RebeccaPurple\",\"size\":12},\"legend\":{\"title\":{\"text\":\"Number of Positions\"}},\"shapes\":[{\"line\":{\"color\":\"red\",\"dash\":\"dash\"},\"type\":\"line\",\"x0\":0,\"x1\":1,\"xref\":\"x domain\",\"y0\":0.1,\"y1\":0.1,\"yref\":\"y\"}],\"template\":{\"data\":{\"bar\":[{\"error_x\":{\"color\":\"#2a3f5f\"},\"error_y\":{\"color\":\"#2a3f5f\"},\"marker\":{\"line\":{\"color\":\"#E5ECF6\",\"width\":0.5},\"pattern\":{\"fillmode\":\"overlay\",\"size\":10,\"solidity\":0.2}},\"type\":\"bar\"}],\"barpolar\":[{\"marker\":{\"line\":{\"color\":\"#E5ECF6\",\"width\":0.5},\"pattern\":{\"fillmode\":\"overlay\",\"size\":10,\"solidity\":0.2}},\"type\":\"barpolar\"}],\"carpet\":[{\"aaxis\":{\"endlinecolor\":\"#2a3f5f\",\"gridcolor\":\"white\",\"linecolor\":\"white\",\"minorgridcolor\":\"white\",\"startlinecolor\":\"#2a3f5f\"},\"baxis\":{\"endlinecolor\":\"#2a3f5f\",\"gridcolor\":\"white\",\"linecolor\":\"white\",\"minorgridcolor\":\"white\",\"startlinecolor\":\"#2a3f5f\"},\"type\":\"carpet\"}],\"choropleth\":[{\"colorbar\":{\"outlinewidth\":0,\"ticks\":\"\"},\"type\":\"choropleth\"}],\"contour\":[{\"colorbar\":{\"outlinewidth\":0,\"ticks\":\"\"},\"colorscale\":[[0.0,\"#0d0887\"],[0.1111111111111111,\"#46039f\"],[0.2222222222222222,\"#7201a8\"],[0.3333333333333333,\"#9c179e\"],[0.4444444444444444,\"#bd3786\"],[0.5555555555555556,\"#d8576b\"],[0.6666666666666666,\"#ed7953\"],[0.7777777777777778,\"#fb9f3a\"],[0.8888888888888888,\"#fdca26\"],[1.0,\"#f0f921\"]],\"type\":\"contour\"}],\"contourcarpet\":[{\"colorbar\":{\"outlinewidth\":0,\"ticks\":\"\"},\"type\":\"contourcarpet\"}],\"heatmap\":[{\"colorbar\":{\"outlinewidth\":0,\"ticks\":\"\"},\"colorscale\":[[0.0,\"#0d0887\"],[0.1111111111111111,\"#46039f\"],[0.2222222222222222,\"#7201a8\"],[0.3333333333333333,\"#9c179e\"],[0.4444444444444444,\"#bd3786\"],[0.5555555555555556,\"#d8576b\"],[0.6666666666666666,\"#ed7953\"],[0.7777777777777778,\"#fb9f3a\"],[0.8888888888888888,\"#fdca26\"],[1.0,\"#f0f921\"]],\"type\":\"heatmap\"}],\"heatmapgl\":[{\"colorbar\":{\"outlinewidth\":0,\"ticks\":\"\"},\"colorscale\":[[0.0,\"#0d0887\"],[0.1111111111111111,\"#46039f\"],[0.2222222222222222,\"#7201a8\"],[0.3333333333333333,\"#9c179e\"],[0.4444444444444444,\"#bd3786\"],[0.5555555555555556,\"#d8576b\"],[0.6666666666666666,\"#ed7953\"],[0.7777777777777778,\"#fb9f3a\"],[0.8888888888888888,\"#fdca26\"],[1.0,\"#f0f921\"]],\"type\":\"heatmapgl\"}],\"histogram\":[{\"marker\":{\"pattern\":{\"fillmode\":\"overlay\",\"size\":10,\"solidity\":0.2}},\"type\":\"histogram\"}],\"histogram2d\":[{\"colorbar\":{\"outlinewidth\":0,\"ticks\":\"\"},\"colorscale\":[[0.0,\"#0d0887\"],[0.1111111111111111,\"#46039f\"],[0.2222222222222222,\"#7201a8\"],[0.3333333333333333,\"#9c179e\"],[0.4444444444444444,\"#bd3786\"],[0.5555555555555556,\"#d8576b\"],[0.6666666666666666,\"#ed7953\"],[0.7777777777777778,\"#fb9f3a\"],[0.8888888888888888,\"#fdca26\"],[1.0,\"#f0f921\"]],\"type\":\"histogram2d\"}],\"histogram2dcontour\":[{\"colorbar\":{\"outlinewidth\":0,\"ticks\":\"\"},\"colorscale\":[[0.0,\"#0d0887\"],[0.1111111111111111,\"#46039f\"],[0.2222222222222222,\"#7201a8\"],[0.3333333333333333,\"#9c179e\"],[0.4444444444444444,\"#bd3786\"],[0.5555555555555556,\"#d8576b\"],[0.6666666666666666,\"#ed7953\"],[0.7777777777777778,\"#fb9f3a\"],[0.8888888888888888,\"#fdca26\"],[1.0,\"#f0f921\"]],\"type\":\"histogram2dcontour\"}],\"mesh3d\":[{\"colorbar\":{\"outlinewidth\":0,\"ticks\":\"\"},\"type\":\"mesh3d\"}],\"parcoords\":[{\"line\":{\"colorbar\":{\"outlinewidth\":0,\"ticks\":\"\"}},\"type\":\"parcoords\"}],\"pie\":[{\"automargin\":true,\"type\":\"pie\"}],\"scatter\":[{\"marker\":{\"colorbar\":{\"outlinewidth\":0,\"ticks\":\"\"}},\"type\":\"scatter\"}],\"scatter3d\":[{\"line\":{\"colorbar\":{\"outlinewidth\":0,\"ticks\":\"\"}},\"marker\":{\"colorbar\":{\"outlinewidth\":0,\"ticks\":\"\"}},\"type\":\"scatter3d\"}],\"scattercarpet\":[{\"marker\":{\"colorbar\":{\"outlinewidth\":0,\"ticks\":\"\"}},\"type\":\"scattercarpet\"}],\"scattergeo\":[{\"marker\":{\"colorbar\":{\"outlinewidth\":0,\"ticks\":\"\"}},\"type\":\"scattergeo\"}],\"scattergl\":[{\"marker\":{\"colorbar\":{\"outlinewidth\":0,\"ticks\":\"\"}},\"type\":\"scattergl\"}],\"scattermapbox\":[{\"marker\":{\"colorbar\":{\"outlinewidth\":0,\"ticks\":\"\"}},\"type\":\"scattermapbox\"}],\"scatterpolar\":[{\"marker\":{\"colorbar\":{\"outlinewidth\":0,\"ticks\":\"\"}},\"type\":\"scatterpolar\"}],\"scatterpolargl\":[{\"marker\":{\"colorbar\":{\"outlinewidth\":0,\"ticks\":\"\"}},\"type\":\"scatterpolargl\"}],\"scatterternary\":[{\"marker\":{\"colorbar\":{\"outlinewidth\":0,\"ticks\":\"\"}},\"type\":\"scatterternary\"}],\"surface\":[{\"colorbar\":{\"outlinewidth\":0,\"ticks\":\"\"},\"colorscale\":[[0.0,\"#0d0887\"],[0.1111111111111111,\"#46039f\"],[0.2222222222222222,\"#7201a8\"],[0.3333333333333333,\"#9c179e\"],[0.4444444444444444,\"#bd3786\"],[0.5555555555555556,\"#d8576b\"],[0.6666666666666666,\"#ed7953\"],[0.7777777777777778,\"#fb9f3a\"],[0.8888888888888888,\"#fdca26\"],[1.0,\"#f0f921\"]],\"type\":\"surface\"}],\"table\":[{\"cells\":{\"fill\":{\"color\":\"#EBF0F8\"},\"line\":{\"color\":\"white\"}},\"header\":{\"fill\":{\"color\":\"#C8D4E3\"},\"line\":{\"color\":\"white\"}},\"type\":\"table\"}]},\"layout\":{\"annotationdefaults\":{\"arrowcolor\":\"#2a3f5f\",\"arrowhead\":0,\"arrowwidth\":1},\"autotypenumbers\":\"strict\",\"coloraxis\":{\"colorbar\":{\"outlinewidth\":0,\"ticks\":\"\"}},\"colorscale\":{\"diverging\":[[0,\"#8e0152\"],[0.1,\"#c51b7d\"],[0.2,\"#de77ae\"],[0.3,\"#f1b6da\"],[0.4,\"#fde0ef\"],[0.5,\"#f7f7f7\"],[0.6,\"#e6f5d0\"],[0.7,\"#b8e186\"],[0.8,\"#7fbc41\"],[0.9,\"#4d9221\"],[1,\"#276419\"]],\"sequential\":[[0.0,\"#0d0887\"],[0.1111111111111111,\"#46039f\"],[0.2222222222222222,\"#7201a8\"],[0.3333333333333333,\"#9c179e\"],[0.4444444444444444,\"#bd3786\"],[0.5555555555555556,\"#d8576b\"],[0.6666666666666666,\"#ed7953\"],[0.7777777777777778,\"#fb9f3a\"],[0.8888888888888888,\"#fdca26\"],[1.0,\"#f0f921\"]],\"sequentialminus\":[[0.0,\"#0d0887\"],[0.1111111111111111,\"#46039f\"],[0.2222222222222222,\"#7201a8\"],[0.3333333333333333,\"#9c179e\"],[0.4444444444444444,\"#bd3786\"],[0.5555555555555556,\"#d8576b\"],[0.6666666666666666,\"#ed7953\"],[0.7777777777777778,\"#fb9f3a\"],[0.8888888888888888,\"#fdca26\"],[1.0,\"#f0f921\"]]},\"colorway\":[\"#636efa\",\"#EF553B\",\"#00cc96\",\"#ab63fa\",\"#FFA15A\",\"#19d3f3\",\"#FF6692\",\"#B6E880\",\"#FF97FF\",\"#FECB52\"],\"font\":{\"color\":\"#2a3f5f\"},\"geo\":{\"bgcolor\":\"white\",\"lakecolor\":\"white\",\"landcolor\":\"#E5ECF6\",\"showlakes\":true,\"showland\":true,\"subunitcolor\":\"white\"},\"hoverlabel\":{\"align\":\"left\"},\"hovermode\":\"closest\",\"mapbox\":{\"style\":\"light\"},\"paper_bgcolor\":\"white\",\"plot_bgcolor\":\"#E5ECF6\",\"polar\":{\"angularaxis\":{\"gridcolor\":\"white\",\"linecolor\":\"white\",\"ticks\":\"\"},\"bgcolor\":\"#E5ECF6\",\"radialaxis\":{\"gridcolor\":\"white\",\"linecolor\":\"white\",\"ticks\":\"\"}},\"scene\":{\"xaxis\":{\"backgroundcolor\":\"#E5ECF6\",\"gridcolor\":\"white\",\"gridwidth\":2,\"linecolor\":\"white\",\"showbackground\":true,\"ticks\":\"\",\"zerolinecolor\":\"white\"},\"yaxis\":{\"backgroundcolor\":\"#E5ECF6\",\"gridcolor\":\"white\",\"gridwidth\":2,\"linecolor\":\"white\",\"showbackground\":true,\"ticks\":\"\",\"zerolinecolor\":\"white\"},\"zaxis\":{\"backgroundcolor\":\"#E5ECF6\",\"gridcolor\":\"white\",\"gridwidth\":2,\"linecolor\":\"white\",\"showbackground\":true,\"ticks\":\"\",\"zerolinecolor\":\"white\"}},\"shapedefaults\":{\"line\":{\"color\":\"#2a3f5f\"}},\"ternary\":{\"aaxis\":{\"gridcolor\":\"white\",\"linecolor\":\"white\",\"ticks\":\"\"},\"baxis\":{\"gridcolor\":\"white\",\"linecolor\":\"white\",\"ticks\":\"\"},\"bgcolor\":\"#E5ECF6\",\"caxis\":{\"gridcolor\":\"white\",\"linecolor\":\"white\",\"ticks\":\"\"}},\"title\":{\"x\":0.05},\"xaxis\":{\"automargin\":true,\"gridcolor\":\"white\",\"linecolor\":\"white\",\"ticks\":\"\",\"title\":{\"standoff\":15},\"zerolinecolor\":\"white\",\"zerolinewidth\":2},\"yaxis\":{\"automargin\":true,\"gridcolor\":\"white\",\"linecolor\":\"white\",\"ticks\":\"\",\"title\":{\"standoff\":15},\"zerolinecolor\":\"white\",\"zerolinewidth\":2}}},\"title\":{\"text\":\"Risk vs Reward\"},\"xaxis\":{\"title\":{\"text\":\"Expected returns\"}},\"yaxis\":{\"title\":{\"text\":\"Fraction of Total Capital Invested\"}}},                        {\"responsive\": true}                    ).then(function(){\n",
       "                            \n",
       "var gd = document.getElementById('f40dedb0-fd76-4f33-90d9-7f67d7e00716');\n",
       "var x = new MutationObserver(function (mutations, observer) {{\n",
       "        var display = window.getComputedStyle(gd).display;\n",
       "        if (!display || display === 'none') {{\n",
       "            console.log([gd, 'removed!']);\n",
       "            Plotly.purge(gd);\n",
       "            observer.disconnect();\n",
       "        }}\n",
       "}});\n",
       "\n",
       "// Listen for the removal of the full notebook cells\n",
       "var notebookContainer = gd.closest('#notebook-container');\n",
       "if (notebookContainer) {{\n",
       "    x.observe(notebookContainer, {childList: true});\n",
       "}}\n",
       "\n",
       "// Listen for the clearing of the current output cell\n",
       "var outputEl = gd.closest('.output');\n",
       "if (outputEl) {{\n",
       "    x.observe(outputEl, {childList: true});\n",
       "}}\n",
       "\n",
       "                        })                };                });            </script>        </div>"
      ]
     },
     "metadata": {},
     "output_type": "display_data"
    }
   ],
   "source": [
    "# p_not_breakeven = 0.4\n",
    "# num_positions = 2\n",
    "expected_gain = 0.1\n",
    "position_range = np.arange(1, 6)\n",
    "p_range = np.arange(0.56, 0.24, -0.01)\n",
    "fig = go.Figure()\n",
    "for p_not_breakeven in p_range:\n",
    "    \n",
    "    for num_positions in position_range:\n",
    "    \n",
    "        p = 1 - p_not_breakeven**num_positions\n",
    "        p/(1/num_positions) - p_not_breakeven/\n",
    "#     gain_fraction_df =  pd.DataFrame({\"Capital Fraction\":np.apply_along_axis(lambda expected_gain: p -  (1-p) / expected_gain, 0, expected_gain_range),\n",
    "#                                   \"Expected Gain\":expected_gain_range})\n",
    "#     gain_fraction_df.loc[gain_fraction_df['Capital Fraction']<0, 'Capital Fraction'] = 0\n",
    "#     # gain_fraction_df.loc[gain_fraction_df['Capital Fraction'].gt(0.05).idxmax(), \"Expected Gain\"]\n",
    "\n",
    "    fig.add_trace(go.Scatter(x=gain_fraction_df[\"Expected Gain\"], y=gain_fraction_df[\"Capital Fraction\"],\n",
    "                    mode='lines',\n",
    "                    name='%d Positions'%num_positions))\n",
    "    \n",
    "fig.add_hline(0.1, line_dash=\"dash\", line_color=\"red\", annotation_text='10% Allocation Threshold')\n",
    "fig.update_layout(\n",
    "    title=\"Risk vs Reward\",\n",
    "    xaxis_title=\"Expected returns\",\n",
    "    yaxis_title=\"Fraction of Total Capital Invested\",\n",
    "    legend_title=\"Number of Positions\",\n",
    "    font=dict(\n",
    "#         family=\"Courier New, monospace\",\n",
    "        size=12,\n",
    "        color=\"RebeccaPurple\"\n",
    "    )\n",
    ")\n",
    "\n",
    "fig.show()"
   ]
  },
  {
   "cell_type": "markdown",
   "id": "spiritual-album",
   "metadata": {},
   "source": [
    "The more pairs we hold"
   ]
  },
  {
   "cell_type": "code",
   "execution_count": null,
   "id": "considered-recognition",
   "metadata": {},
   "outputs": [],
   "source": []
  }
 ],
 "metadata": {
  "kernelspec": {
   "display_name": "Python 3",
   "language": "python",
   "name": "python3"
  },
  "language_info": {
   "codemirror_mode": {
    "name": "ipython",
    "version": 3
   },
   "file_extension": ".py",
   "mimetype": "text/x-python",
   "name": "python",
   "nbconvert_exporter": "python",
   "pygments_lexer": "ipython3",
   "version": "3.8.8"
  }
 },
 "nbformat": 4,
 "nbformat_minor": 5
}
